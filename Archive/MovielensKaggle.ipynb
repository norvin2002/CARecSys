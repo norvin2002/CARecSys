{
 "cells": [
  {
   "cell_type": "code",
   "execution_count": 1,
   "metadata": {},
   "outputs": [],
   "source": [
    "pacman::p_load(tidyverse, tm, stringr,NLP, RColorBrewer, wordcloud, Matrix, recommenderlab, slam, data.table, rARPACK, recosystem)"
   ]
  },
  {
   "cell_type": "code",
   "execution_count": 2,
   "metadata": {},
   "outputs": [],
   "source": [
    "setwd('C:/Users/nchandra/OneDrive - National University of Singapore/CARecSys')"
   ]
  },
  {
   "cell_type": "code",
   "execution_count": 3,
   "metadata": {},
   "outputs": [],
   "source": [
    "tr<-read.csv(\"./predict-movie-ratings/train_v2.csv\",header=TRUE)"
   ]
  },
  {
   "cell_type": "code",
   "execution_count": 4,
   "metadata": {},
   "outputs": [
    {
     "data": {
      "text/html": [
       "<table>\n",
       "<caption>A data.frame: 6 × 4</caption>\n",
       "<thead>\n",
       "\t<tr><th scope=col>ID</th><th scope=col>user</th><th scope=col>movie</th><th scope=col>rating</th></tr>\n",
       "\t<tr><th scope=col>&lt;int&gt;</th><th scope=col>&lt;int&gt;</th><th scope=col>&lt;int&gt;</th><th scope=col>&lt;int&gt;</th></tr>\n",
       "</thead>\n",
       "<tbody>\n",
       "\t<tr><td>610739</td><td>3704</td><td>3784</td><td>3</td></tr>\n",
       "\t<tr><td>324753</td><td>1924</td><td> 802</td><td>3</td></tr>\n",
       "\t<tr><td>808218</td><td>4837</td><td>1387</td><td>4</td></tr>\n",
       "\t<tr><td>133808</td><td> 867</td><td>1196</td><td>4</td></tr>\n",
       "\t<tr><td>431858</td><td>2631</td><td>3072</td><td>5</td></tr>\n",
       "\t<tr><td>895320</td><td>5410</td><td>2049</td><td>4</td></tr>\n",
       "</tbody>\n",
       "</table>\n"
      ],
      "text/latex": [
       "A data.frame: 6 × 4\n",
       "\\begin{tabular}{r|llll}\n",
       " ID & user & movie & rating\\\\\n",
       " <int> & <int> & <int> & <int>\\\\\n",
       "\\hline\n",
       "\t 610739 & 3704 & 3784 & 3\\\\\n",
       "\t 324753 & 1924 &  802 & 3\\\\\n",
       "\t 808218 & 4837 & 1387 & 4\\\\\n",
       "\t 133808 &  867 & 1196 & 4\\\\\n",
       "\t 431858 & 2631 & 3072 & 5\\\\\n",
       "\t 895320 & 5410 & 2049 & 4\\\\\n",
       "\\end{tabular}\n"
      ],
      "text/markdown": [
       "\n",
       "A data.frame: 6 × 4\n",
       "\n",
       "| ID &lt;int&gt; | user &lt;int&gt; | movie &lt;int&gt; | rating &lt;int&gt; |\n",
       "|---|---|---|---|\n",
       "| 610739 | 3704 | 3784 | 3 |\n",
       "| 324753 | 1924 |  802 | 3 |\n",
       "| 808218 | 4837 | 1387 | 4 |\n",
       "| 133808 |  867 | 1196 | 4 |\n",
       "| 431858 | 2631 | 3072 | 5 |\n",
       "| 895320 | 5410 | 2049 | 4 |\n",
       "\n"
      ],
      "text/plain": [
       "  ID     user movie rating\n",
       "1 610739 3704 3784  3     \n",
       "2 324753 1924  802  3     \n",
       "3 808218 4837 1387  4     \n",
       "4 133808  867 1196  4     \n",
       "5 431858 2631 3072  5     \n",
       "6 895320 5410 2049  4     "
      ]
     },
     "metadata": {},
     "output_type": "display_data"
    }
   ],
   "source": [
    "head(tr)"
   ]
  },
  {
   "cell_type": "code",
   "execution_count": 5,
   "metadata": {},
   "outputs": [],
   "source": [
    "tr<-tr[,-c(1)]"
   ]
  },
  {
   "cell_type": "code",
   "execution_count": 6,
   "metadata": {},
   "outputs": [
    {
     "data": {
      "text/html": [
       "<table>\n",
       "<caption>A data.frame: 38 × 3</caption>\n",
       "<thead>\n",
       "\t<tr><th></th><th scope=col>user</th><th scope=col>movie</th><th scope=col>rating</th></tr>\n",
       "\t<tr><th></th><th scope=col>&lt;int&gt;</th><th scope=col>&lt;int&gt;</th><th scope=col>&lt;int&gt;</th></tr>\n",
       "</thead>\n",
       "<tbody>\n",
       "\t<tr><th scope=row>34179</th><td>1</td><td>1907</td><td>4</td></tr>\n",
       "\t<tr><th scope=row>64257</th><td>1</td><td>1287</td><td>5</td></tr>\n",
       "\t<tr><th scope=row>68565</th><td>1</td><td>1566</td><td>4</td></tr>\n",
       "\t<tr><th scope=row>71239</th><td>1</td><td> 260</td><td>4</td></tr>\n",
       "\t<tr><th scope=row>125237</th><td>1</td><td> 919</td><td>4</td></tr>\n",
       "\t<tr><th scope=row>129691</th><td>1</td><td>3114</td><td>4</td></tr>\n",
       "\t<tr><th scope=row>148250</th><td>1</td><td> 150</td><td>5</td></tr>\n",
       "\t<tr><th scope=row>152316</th><td>1</td><td> 914</td><td>3</td></tr>\n",
       "\t<tr><th scope=row>162689</th><td>1</td><td> 938</td><td>4</td></tr>\n",
       "\t<tr><th scope=row>169527</th><td>1</td><td> 745</td><td>3</td></tr>\n",
       "\t<tr><th scope=row>212228</th><td>1</td><td> 531</td><td>4</td></tr>\n",
       "\t<tr><th scope=row>231496</th><td>1</td><td>1207</td><td>4</td></tr>\n",
       "\t<tr><th scope=row>243319</th><td>1</td><td>   1</td><td>5</td></tr>\n",
       "\t<tr><th scope=row>253470</th><td>1</td><td>1097</td><td>4</td></tr>\n",
       "\t<tr><th scope=row>255332</th><td>1</td><td>2294</td><td>4</td></tr>\n",
       "\t<tr><th scope=row>280862</th><td>1</td><td>2028</td><td>5</td></tr>\n",
       "\t<tr><th scope=row>282095</th><td>1</td><td>1028</td><td>5</td></tr>\n",
       "\t<tr><th scope=row>351922</th><td>1</td><td>1545</td><td>4</td></tr>\n",
       "\t<tr><th scope=row>352930</th><td>1</td><td> 783</td><td>4</td></tr>\n",
       "\t<tr><th scope=row>379091</th><td>1</td><td>2355</td><td>5</td></tr>\n",
       "\t<tr><th scope=row>385526</th><td>1</td><td>1961</td><td>5</td></tr>\n",
       "\t<tr><th scope=row>399402</th><td>1</td><td>2762</td><td>4</td></tr>\n",
       "\t<tr><th scope=row>399943</th><td>1</td><td>2687</td><td>3</td></tr>\n",
       "\t<tr><th scope=row>415357</th><td>1</td><td>2797</td><td>4</td></tr>\n",
       "\t<tr><th scope=row>428508</th><td>1</td><td>1270</td><td>5</td></tr>\n",
       "\t<tr><th scope=row>447122</th><td>1</td><td> 527</td><td>5</td></tr>\n",
       "\t<tr><th scope=row>515104</th><td>1</td><td>1029</td><td>5</td></tr>\n",
       "\t<tr><th scope=row>540605</th><td>1</td><td> 661</td><td>3</td></tr>\n",
       "\t<tr><th scope=row>551363</th><td>1</td><td> 720</td><td>3</td></tr>\n",
       "\t<tr><th scope=row>558155</th><td>1</td><td> 594</td><td>4</td></tr>\n",
       "\t<tr><th scope=row>567976</th><td>1</td><td>1962</td><td>4</td></tr>\n",
       "\t<tr><th scope=row>608494</th><td>1</td><td>3408</td><td>4</td></tr>\n",
       "\t<tr><th scope=row>644625</th><td>1</td><td>  48</td><td>5</td></tr>\n",
       "\t<tr><th scope=row>660236</th><td>1</td><td>1721</td><td>4</td></tr>\n",
       "\t<tr><th scope=row>684218</th><td>1</td><td>2918</td><td>4</td></tr>\n",
       "\t<tr><th scope=row>730534</th><td>1</td><td>1197</td><td>3</td></tr>\n",
       "\t<tr><th scope=row>732333</th><td>1</td><td>2791</td><td>4</td></tr>\n",
       "\t<tr><th scope=row>736360</th><td>1</td><td>1022</td><td>5</td></tr>\n",
       "</tbody>\n",
       "</table>\n"
      ],
      "text/latex": [
       "A data.frame: 38 × 3\n",
       "\\begin{tabular}{r|lll}\n",
       "  & user & movie & rating\\\\\n",
       "  & <int> & <int> & <int>\\\\\n",
       "\\hline\n",
       "\t34179 & 1 & 1907 & 4\\\\\n",
       "\t64257 & 1 & 1287 & 5\\\\\n",
       "\t68565 & 1 & 1566 & 4\\\\\n",
       "\t71239 & 1 &  260 & 4\\\\\n",
       "\t125237 & 1 &  919 & 4\\\\\n",
       "\t129691 & 1 & 3114 & 4\\\\\n",
       "\t148250 & 1 &  150 & 5\\\\\n",
       "\t152316 & 1 &  914 & 3\\\\\n",
       "\t162689 & 1 &  938 & 4\\\\\n",
       "\t169527 & 1 &  745 & 3\\\\\n",
       "\t212228 & 1 &  531 & 4\\\\\n",
       "\t231496 & 1 & 1207 & 4\\\\\n",
       "\t243319 & 1 &    1 & 5\\\\\n",
       "\t253470 & 1 & 1097 & 4\\\\\n",
       "\t255332 & 1 & 2294 & 4\\\\\n",
       "\t280862 & 1 & 2028 & 5\\\\\n",
       "\t282095 & 1 & 1028 & 5\\\\\n",
       "\t351922 & 1 & 1545 & 4\\\\\n",
       "\t352930 & 1 &  783 & 4\\\\\n",
       "\t379091 & 1 & 2355 & 5\\\\\n",
       "\t385526 & 1 & 1961 & 5\\\\\n",
       "\t399402 & 1 & 2762 & 4\\\\\n",
       "\t399943 & 1 & 2687 & 3\\\\\n",
       "\t415357 & 1 & 2797 & 4\\\\\n",
       "\t428508 & 1 & 1270 & 5\\\\\n",
       "\t447122 & 1 &  527 & 5\\\\\n",
       "\t515104 & 1 & 1029 & 5\\\\\n",
       "\t540605 & 1 &  661 & 3\\\\\n",
       "\t551363 & 1 &  720 & 3\\\\\n",
       "\t558155 & 1 &  594 & 4\\\\\n",
       "\t567976 & 1 & 1962 & 4\\\\\n",
       "\t608494 & 1 & 3408 & 4\\\\\n",
       "\t644625 & 1 &   48 & 5\\\\\n",
       "\t660236 & 1 & 1721 & 4\\\\\n",
       "\t684218 & 1 & 2918 & 4\\\\\n",
       "\t730534 & 1 & 1197 & 3\\\\\n",
       "\t732333 & 1 & 2791 & 4\\\\\n",
       "\t736360 & 1 & 1022 & 5\\\\\n",
       "\\end{tabular}\n"
      ],
      "text/markdown": [
       "\n",
       "A data.frame: 38 × 3\n",
       "\n",
       "| <!--/--> | user &lt;int&gt; | movie &lt;int&gt; | rating &lt;int&gt; |\n",
       "|---|---|---|---|\n",
       "| 34179 | 1 | 1907 | 4 |\n",
       "| 64257 | 1 | 1287 | 5 |\n",
       "| 68565 | 1 | 1566 | 4 |\n",
       "| 71239 | 1 |  260 | 4 |\n",
       "| 125237 | 1 |  919 | 4 |\n",
       "| 129691 | 1 | 3114 | 4 |\n",
       "| 148250 | 1 |  150 | 5 |\n",
       "| 152316 | 1 |  914 | 3 |\n",
       "| 162689 | 1 |  938 | 4 |\n",
       "| 169527 | 1 |  745 | 3 |\n",
       "| 212228 | 1 |  531 | 4 |\n",
       "| 231496 | 1 | 1207 | 4 |\n",
       "| 243319 | 1 |    1 | 5 |\n",
       "| 253470 | 1 | 1097 | 4 |\n",
       "| 255332 | 1 | 2294 | 4 |\n",
       "| 280862 | 1 | 2028 | 5 |\n",
       "| 282095 | 1 | 1028 | 5 |\n",
       "| 351922 | 1 | 1545 | 4 |\n",
       "| 352930 | 1 |  783 | 4 |\n",
       "| 379091 | 1 | 2355 | 5 |\n",
       "| 385526 | 1 | 1961 | 5 |\n",
       "| 399402 | 1 | 2762 | 4 |\n",
       "| 399943 | 1 | 2687 | 3 |\n",
       "| 415357 | 1 | 2797 | 4 |\n",
       "| 428508 | 1 | 1270 | 5 |\n",
       "| 447122 | 1 |  527 | 5 |\n",
       "| 515104 | 1 | 1029 | 5 |\n",
       "| 540605 | 1 |  661 | 3 |\n",
       "| 551363 | 1 |  720 | 3 |\n",
       "| 558155 | 1 |  594 | 4 |\n",
       "| 567976 | 1 | 1962 | 4 |\n",
       "| 608494 | 1 | 3408 | 4 |\n",
       "| 644625 | 1 |   48 | 5 |\n",
       "| 660236 | 1 | 1721 | 4 |\n",
       "| 684218 | 1 | 2918 | 4 |\n",
       "| 730534 | 1 | 1197 | 3 |\n",
       "| 732333 | 1 | 2791 | 4 |\n",
       "| 736360 | 1 | 1022 | 5 |\n",
       "\n"
      ],
      "text/plain": [
       "       user movie rating\n",
       "34179  1    1907  4     \n",
       "64257  1    1287  5     \n",
       "68565  1    1566  4     \n",
       "71239  1     260  4     \n",
       "125237 1     919  4     \n",
       "129691 1    3114  4     \n",
       "148250 1     150  5     \n",
       "152316 1     914  3     \n",
       "162689 1     938  4     \n",
       "169527 1     745  3     \n",
       "212228 1     531  4     \n",
       "231496 1    1207  4     \n",
       "243319 1       1  5     \n",
       "253470 1    1097  4     \n",
       "255332 1    2294  4     \n",
       "280862 1    2028  5     \n",
       "282095 1    1028  5     \n",
       "351922 1    1545  4     \n",
       "352930 1     783  4     \n",
       "379091 1    2355  5     \n",
       "385526 1    1961  5     \n",
       "399402 1    2762  4     \n",
       "399943 1    2687  3     \n",
       "415357 1    2797  4     \n",
       "428508 1    1270  5     \n",
       "447122 1     527  5     \n",
       "515104 1    1029  5     \n",
       "540605 1     661  3     \n",
       "551363 1     720  3     \n",
       "558155 1     594  4     \n",
       "567976 1    1962  4     \n",
       "608494 1    3408  4     \n",
       "644625 1      48  5     \n",
       "660236 1    1721  4     \n",
       "684218 1    2918  4     \n",
       "730534 1    1197  3     \n",
       "732333 1    2791  4     \n",
       "736360 1    1022  5     "
      ]
     },
     "metadata": {},
     "output_type": "display_data"
    }
   ],
   "source": [
    "tr[tr$user==1,]"
   ]
  },
  {
   "cell_type": "code",
   "execution_count": 16,
   "metadata": {},
   "outputs": [
    {
     "data": {
      "text/html": [
       "<ol class=list-inline>\n",
       "\t<li>750156</li>\n",
       "\t<li>3</li>\n",
       "</ol>\n"
      ],
      "text/latex": [
       "\\begin{enumerate*}\n",
       "\\item 750156\n",
       "\\item 3\n",
       "\\end{enumerate*}\n"
      ],
      "text/markdown": [
       "1. 750156\n",
       "2. 3\n",
       "\n",
       "\n"
      ],
      "text/plain": [
       "[1] 750156      3"
      ]
     },
     "metadata": {},
     "output_type": "display_data"
    }
   ],
   "source": [
    "dim(tr)"
   ]
  },
  {
   "cell_type": "code",
   "execution_count": 8,
   "metadata": {},
   "outputs": [
    {
     "name": "stderr",
     "output_type": "stream",
     "text": [
      "\n",
      "Attaching package: 'reshape2'\n",
      "\n",
      "The following objects are masked from 'package:data.table':\n",
      "\n",
      "    dcast, melt\n",
      "\n",
      "The following object is masked from 'package:tidyr':\n",
      "\n",
      "    smiths\n",
      "\n",
      "Using rating as value column: use value.var to override.\n"
     ]
    }
   ],
   "source": [
    "library(reshape2)\n",
    "g<-acast(tr, user~movie)"
   ]
  },
  {
   "cell_type": "code",
   "execution_count": 9,
   "metadata": {},
   "outputs": [
    {
     "data": {
      "text/html": [
       "'matrix'"
      ],
      "text/latex": [
       "'matrix'"
      ],
      "text/markdown": [
       "'matrix'"
      ],
      "text/plain": [
       "[1] \"matrix\""
      ]
     },
     "metadata": {},
     "output_type": "display_data"
    }
   ],
   "source": [
    "class(g)"
   ]
  },
  {
   "cell_type": "code",
   "execution_count": 10,
   "metadata": {},
   "outputs": [],
   "source": [
    "R <- as.matrix(g)"
   ]
  },
  {
   "cell_type": "code",
   "execution_count": 14,
   "metadata": {},
   "outputs": [
    {
     "data": {
      "text/html": [
       "<ol class=list-inline>\n",
       "\t<li>6040</li>\n",
       "\t<li>3676</li>\n",
       "</ol>\n"
      ],
      "text/latex": [
       "\\begin{enumerate*}\n",
       "\\item 6040\n",
       "\\item 3676\n",
       "\\end{enumerate*}\n"
      ],
      "text/markdown": [
       "1. 6040\n",
       "2. 3676\n",
       "\n",
       "\n"
      ],
      "text/plain": [
       "[1] 6040 3676"
      ]
     },
     "metadata": {},
     "output_type": "display_data"
    }
   ],
   "source": [
    "dim(R)"
   ]
  },
  {
   "cell_type": "code",
   "execution_count": 12,
   "metadata": {},
   "outputs": [],
   "source": [
    "r <- as(R, 'realRatingMatrix')"
   ]
  },
  {
   "cell_type": "code",
   "execution_count": 13,
   "metadata": {},
   "outputs": [
    {
     "data": {
      "text/html": [
       "<ol class=list-inline>\n",
       "\t<li>6040</li>\n",
       "\t<li>3676</li>\n",
       "</ol>\n"
      ],
      "text/latex": [
       "\\begin{enumerate*}\n",
       "\\item 6040\n",
       "\\item 3676\n",
       "\\end{enumerate*}\n"
      ],
      "text/markdown": [
       "1. 6040\n",
       "2. 3676\n",
       "\n",
       "\n"
      ],
      "text/plain": [
       "[1] 6040 3676"
      ]
     },
     "metadata": {},
     "output_type": "display_data"
    }
   ],
   "source": [
    "dim(r)"
   ]
  },
  {
   "cell_type": "code",
   "execution_count": 17,
   "metadata": {},
   "outputs": [
    {
     "data": {
      "image/png": "[encoded data removed]",
      "text/plain": [
       "plot without title"
      ]
     },
     "metadata": {},
     "output_type": "display_data"
    }
   ],
   "source": [
    "image(r, main = \"Raw Ratings\")"
   ]
  },
  {
   "cell_type": "code",
   "execution_count": null,
   "metadata": {},
   "outputs": [],
   "source": [
    "rec = Recommender(r[1:nrow(r)], method = 'IBCF', param=list(normalize = \"Z-score\",method=\"Jaccard\"))"
   ]
  },
  {
   "cell_type": "code",
   "execution_count": null,
   "metadata": {},
   "outputs": [],
   "source": [
    "print(rec)"
   ]
  },
  {
   "cell_type": "code",
   "execution_count": null,
   "metadata": {},
   "outputs": [],
   "source": [
    "names(getModel(rec))"
   ]
  },
  {
   "cell_type": "code",
   "execution_count": null,
   "metadata": {},
   "outputs": [],
   "source": [
    "getModel(rec$nn)"
   ]
  },
  {
   "cell_type": "code",
   "execution_count": null,
   "metadata": {},
   "outputs": [],
   "source": []
  }
 ],
 "metadata": {
  "kernelspec": {
   "display_name": "R",
   "language": "R",
   "name": "ir"
  },
  "language_info": {
   "codemirror_mode": "r",
   "file_extension": ".r",
   "mimetype": "text/x-r-source",
   "name": "R",
   "pygments_lexer": "r",
   "version": "3.6.1"
  }
 },
 "nbformat": 4,
 "nbformat_minor": 2
}
