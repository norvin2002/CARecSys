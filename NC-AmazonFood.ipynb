{
 "cells": [
  {
   "cell_type": "code",
   "execution_count": 52,
   "metadata": {},
   "outputs": [],
   "source": [
    "pacman::p_load(tidyverse, tm, stringr,NLP, RColorBrewer, wordcloud, Matrix, recommenderlab, slam, data.table, rARPACK, recosystem)"
   ]
  },
  {
   "cell_type": "code",
   "execution_count": 2,
   "metadata": {},
   "outputs": [],
   "source": [
    "setwd('C:/Users/nchandra/OneDrive - National University of Singapore/CARecSys')"
   ]
  },
  {
   "cell_type": "code",
   "execution_count": 3,
   "metadata": {},
   "outputs": [],
   "source": [
    "df <- fread(\"./Data/amazon/Reviews.csv\", sep = \",\", header= TRUE)"
   ]
  },
  {
   "cell_type": "code",
   "execution_count": 4,
   "metadata": {},
   "outputs": [
    {
     "data": {
      "text/html": [
       "<table>\n",
       "<caption>A data.table: 6 × 10</caption>\n",
       "<thead>\n",
       "\t<tr><th scope=col>Id</th><th scope=col>ProductId</th><th scope=col>UserId</th><th scope=col>ProfileName</th><th scope=col>HelpfulnessNumerator</th><th scope=col>HelpfulnessDenominator</th><th scope=col>Score</th><th scope=col>Time</th><th scope=col>Summary</th><th scope=col>Text</th></tr>\n",
       "\t<tr><th scope=col>&lt;int&gt;</th><th scope=col>&lt;chr&gt;</th><th scope=col>&lt;chr&gt;</th><th scope=col>&lt;chr&gt;</th><th scope=col>&lt;int&gt;</th><th scope=col>&lt;int&gt;</th><th scope=col>&lt;int&gt;</th><th scope=col>&lt;int&gt;</th><th scope=col>&lt;chr&gt;</th><th scope=col>&lt;chr&gt;</th></tr>\n",
       "</thead>\n",
       "<tbody>\n",
       "\t<tr><td>568449</td><td>B001EO7N10</td><td>A1F6BHEYB7R6R7</td><td>James Braley             </td><td>0</td><td>0</td><td>5</td><td>1308096000</td><td>Very large ground spice jars.     </td><td>My only complaint is that there's so much of it, I don't use a huge amount of 5 spice, so I gave 1 jar to my sister. Good enough.                                                                                                                                                                                                                                                     </td></tr>\n",
       "\t<tr><td>568450</td><td>B001EO7N10</td><td>A28KG5XORO54AY</td><td>Lettie D. Carter         </td><td>0</td><td>0</td><td>5</td><td>1299628800</td><td>Will not do without               </td><td>Great for sesame chicken..this is a good if not better than resturants I have eaten at..My husband loved it..will find other recipes to use this in..                                                                                                                                                                                                                                 </td></tr>\n",
       "\t<tr><td>568451</td><td>B003S1WTCU</td><td>A3I8AFVPEE8KI5</td><td>R. Sawyer                </td><td>0</td><td>0</td><td>2</td><td>1331251200</td><td>disappointed                      </td><td>I'm disappointed with the flavor. The chocolate notes are especially weak. Milk thickens it but the flavor still disappoints. This was worth a try but I'll never buy again. I will use what's left, which will be gone in no time thanks to the small cans.                                                                                                                          </td></tr>\n",
       "\t<tr><td>568452</td><td>B004I613EE</td><td>A121AA1GQV751Z</td><td>pksd \"\"pk_007\"\"          </td><td>2</td><td>2</td><td>5</td><td>1329782400</td><td>Perfect for our maltipoo          </td><td>These stars are small, so you can give 10-15 of those in one training session.  I tried to train our dog with \"\"Ceaser dog treats\"\",  it just made our puppy hyper.  If you compare the ingredients, you will know why.  Little stars has just basic food ingredients without any preservatives and food coloring.  Sweet potato flavor also did not make my hand smell like dog food.</td></tr>\n",
       "\t<tr><td>568453</td><td>B004I613EE</td><td>A3IBEVCTXKNOH </td><td>Kathy A. Welch \"\"katwel\"\"</td><td>1</td><td>1</td><td>5</td><td>1331596800</td><td>Favorite Training and reward treat</td><td>These are the BEST treats for training and rewarding your dog for being good while grooming.  Lower in calories and loved by all the doggies.  Sweet potatoes seem to be their favorite Wet Noses treat!                                                                                                                                                                              </td></tr>\n",
       "\t<tr><td>568454</td><td>B001LR2CU2</td><td>A3LGQPJCZVL9UC</td><td>srfell17                 </td><td>0</td><td>0</td><td>5</td><td>1338422400</td><td>Great Honey                       </td><td>I am very satisfied ,product is as advertised, I use it on cereal, with raw vinegar, and as a general sweetner.                                                                                                                                                                                                                                                                       </td></tr>\n",
       "</tbody>\n",
       "</table>\n"
      ],
      "text/latex": [
       "A data.table: 6 × 10\n",
       "\\begin{tabular}{r|llllllllll}\n",
       " Id & ProductId & UserId & ProfileName & HelpfulnessNumerator & HelpfulnessDenominator & Score & Time & Summary & Text\\\\\n",
       " <int> & <chr> & <chr> & <chr> & <int> & <int> & <int> & <int> & <chr> & <chr>\\\\\n",
       "\\hline\n",
       "\t 568449 & B001EO7N10 & A1F6BHEYB7R6R7 & James Braley              & 0 & 0 & 5 & 1308096000 & Very large ground spice jars.      & My only complaint is that there's so much of it, I don't use a huge amount of 5 spice, so I gave 1 jar to my sister. Good enough.                                                                                                                                                                                                                                                     \\\\\n",
       "\t 568450 & B001EO7N10 & A28KG5XORO54AY & Lettie D. Carter          & 0 & 0 & 5 & 1299628800 & Will not do without                & Great for sesame chicken..this is a good if not better than resturants I have eaten at..My husband loved it..will find other recipes to use this in..                                                                                                                                                                                                                                 \\\\\n",
       "\t 568451 & B003S1WTCU & A3I8AFVPEE8KI5 & R. Sawyer                 & 0 & 0 & 2 & 1331251200 & disappointed                       & I'm disappointed with the flavor. The chocolate notes are especially weak. Milk thickens it but the flavor still disappoints. This was worth a try but I'll never buy again. I will use what's left, which will be gone in no time thanks to the small cans.                                                                                                                          \\\\\n",
       "\t 568452 & B004I613EE & A121AA1GQV751Z & pksd \"\"pk\\_007\"\"           & 2 & 2 & 5 & 1329782400 & Perfect for our maltipoo           & These stars are small, so you can give 10-15 of those in one training session.  I tried to train our dog with \"\"Ceaser dog treats\"\",  it just made our puppy hyper.  If you compare the ingredients, you will know why.  Little stars has just basic food ingredients without any preservatives and food coloring.  Sweet potato flavor also did not make my hand smell like dog food.\\\\\n",
       "\t 568453 & B004I613EE & A3IBEVCTXKNOH  & Kathy A. Welch \"\"katwel\"\" & 1 & 1 & 5 & 1331596800 & Favorite Training and reward treat & These are the BEST treats for training and rewarding your dog for being good while grooming.  Lower in calories and loved by all the doggies.  Sweet potatoes seem to be their favorite Wet Noses treat!                                                                                                                                                                              \\\\\n",
       "\t 568454 & B001LR2CU2 & A3LGQPJCZVL9UC & srfell17                  & 0 & 0 & 5 & 1338422400 & Great Honey                        & I am very satisfied ,product is as advertised, I use it on cereal, with raw vinegar, and as a general sweetner.                                                                                                                                                                                                                                                                       \\\\\n",
       "\\end{tabular}\n"
      ],
      "text/markdown": [
       "\n",
       "A data.table: 6 × 10\n",
       "\n",
       "| Id &lt;int&gt; | ProductId &lt;chr&gt; | UserId &lt;chr&gt; | ProfileName &lt;chr&gt; | HelpfulnessNumerator &lt;int&gt; | HelpfulnessDenominator &lt;int&gt; | Score &lt;int&gt; | Time &lt;int&gt; | Summary &lt;chr&gt; | Text &lt;chr&gt; |\n",
       "|---|---|---|---|---|---|---|---|---|---|\n",
       "| 568449 | B001EO7N10 | A1F6BHEYB7R6R7 | James Braley              | 0 | 0 | 5 | 1308096000 | Very large ground spice jars.      | My only complaint is that there's so much of it, I don't use a huge amount of 5 spice, so I gave 1 jar to my sister. Good enough.                                                                                                                                                                                                                                                      |\n",
       "| 568450 | B001EO7N10 | A28KG5XORO54AY | Lettie D. Carter          | 0 | 0 | 5 | 1299628800 | Will not do without                | Great for sesame chicken..this is a good if not better than resturants I have eaten at..My husband loved it..will find other recipes to use this in..                                                                                                                                                                                                                                  |\n",
       "| 568451 | B003S1WTCU | A3I8AFVPEE8KI5 | R. Sawyer                 | 0 | 0 | 2 | 1331251200 | disappointed                       | I'm disappointed with the flavor. The chocolate notes are especially weak. Milk thickens it but the flavor still disappoints. This was worth a try but I'll never buy again. I will use what's left, which will be gone in no time thanks to the small cans.                                                                                                                           |\n",
       "| 568452 | B004I613EE | A121AA1GQV751Z | pksd \"\"pk_007\"\"           | 2 | 2 | 5 | 1329782400 | Perfect for our maltipoo           | These stars are small, so you can give 10-15 of those in one training session.  I tried to train our dog with \"\"Ceaser dog treats\"\",  it just made our puppy hyper.  If you compare the ingredients, you will know why.  Little stars has just basic food ingredients without any preservatives and food coloring.  Sweet potato flavor also did not make my hand smell like dog food. |\n",
       "| 568453 | B004I613EE | A3IBEVCTXKNOH  | Kathy A. Welch \"\"katwel\"\" | 1 | 1 | 5 | 1331596800 | Favorite Training and reward treat | These are the BEST treats for training and rewarding your dog for being good while grooming.  Lower in calories and loved by all the doggies.  Sweet potatoes seem to be their favorite Wet Noses treat!                                                                                                                                                                               |\n",
       "| 568454 | B001LR2CU2 | A3LGQPJCZVL9UC | srfell17                  | 0 | 0 | 5 | 1338422400 | Great Honey                        | I am very satisfied ,product is as advertised, I use it on cereal, with raw vinegar, and as a general sweetner.                                                                                                                                                                                                                                                                        |\n",
       "\n"
      ],
      "text/plain": [
       "  Id     ProductId  UserId         ProfileName              \n",
       "1 568449 B001EO7N10 A1F6BHEYB7R6R7 James Braley             \n",
       "2 568450 B001EO7N10 A28KG5XORO54AY Lettie D. Carter         \n",
       "3 568451 B003S1WTCU A3I8AFVPEE8KI5 R. Sawyer                \n",
       "4 568452 B004I613EE A121AA1GQV751Z pksd \"\"pk_007\"\"          \n",
       "5 568453 B004I613EE A3IBEVCTXKNOH  Kathy A. Welch \"\"katwel\"\"\n",
       "6 568454 B001LR2CU2 A3LGQPJCZVL9UC srfell17                 \n",
       "  HelpfulnessNumerator HelpfulnessDenominator Score Time      \n",
       "1 0                    0                      5     1308096000\n",
       "2 0                    0                      5     1299628800\n",
       "3 0                    0                      2     1331251200\n",
       "4 2                    2                      5     1329782400\n",
       "5 1                    1                      5     1331596800\n",
       "6 0                    0                      5     1338422400\n",
       "  Summary                           \n",
       "1 Very large ground spice jars.     \n",
       "2 Will not do without               \n",
       "3 disappointed                      \n",
       "4 Perfect for our maltipoo          \n",
       "5 Favorite Training and reward treat\n",
       "6 Great Honey                       \n",
       "  Text                                                                                                                                                                                                                                                                                                                                                                                  \n",
       "1 My only complaint is that there's so much of it, I don't use a huge amount of 5 spice, so I gave 1 jar to my sister. Good enough.                                                                                                                                                                                                                                                     \n",
       "2 Great for sesame chicken..this is a good if not better than resturants I have eaten at..My husband loved it..will find other recipes to use this in..                                                                                                                                                                                                                                 \n",
       "3 I'm disappointed with the flavor. The chocolate notes are especially weak. Milk thickens it but the flavor still disappoints. This was worth a try but I'll never buy again. I will use what's left, which will be gone in no time thanks to the small cans.                                                                                                                          \n",
       "4 These stars are small, so you can give 10-15 of those in one training session.  I tried to train our dog with \"\"Ceaser dog treats\"\",  it just made our puppy hyper.  If you compare the ingredients, you will know why.  Little stars has just basic food ingredients without any preservatives and food coloring.  Sweet potato flavor also did not make my hand smell like dog food.\n",
       "5 These are the BEST treats for training and rewarding your dog for being good while grooming.  Lower in calories and loved by all the doggies.  Sweet potatoes seem to be their favorite Wet Noses treat!                                                                                                                                                                              \n",
       "6 I am very satisfied ,product is as advertised, I use it on cereal, with raw vinegar, and as a general sweetner.                                                                                                                                                                                                                                                                       "
      ]
     },
     "metadata": {},
     "output_type": "display_data"
    }
   ],
   "source": [
    "tail(df)"
   ]
  },
  {
   "cell_type": "code",
   "execution_count": 5,
   "metadata": {},
   "outputs": [
    {
     "name": "stdout",
     "output_type": "stream",
     "text": [
      "Classes 'data.table' and 'data.frame':\t568454 obs. of  10 variables:\n",
      " $ Id                    : int  1 2 3 4 5 6 7 8 9 10 ...\n",
      " $ ProductId             : chr  \"B001E4KFG0\" \"B00813GRG4\" \"B000LQOCH0\" \"B000UA0QIQ\" ...\n",
      " $ UserId                : chr  \"A3SGXH7AUHU8GW\" \"A1D87F6ZCVE5NK\" \"ABXLMWJIXXAIN\" \"A395BORC6FGVXV\" ...\n",
      " $ ProfileName           : chr  \"delmartian\" \"dll pa\" \"Natalia Corres \\\"\\\"Natalia Corres\\\"\\\"\" \"Karl\" ...\n",
      " $ HelpfulnessNumerator  : int  1 0 1 3 0 0 0 0 1 0 ...\n",
      " $ HelpfulnessDenominator: int  1 0 1 3 0 0 0 0 1 0 ...\n",
      " $ Score                 : int  5 1 4 2 5 4 5 5 5 5 ...\n",
      " $ Time                  : int  1303862400 1346976000 1219017600 1307923200 1350777600 1342051200 1340150400 1336003200 1322006400 1351209600 ...\n",
      " $ Summary               : chr  \"Good Quality Dog Food\" \"Not as Advertised\" \"\\\"\\\"Delight\\\"\\\" says it all\" \"Cough Medicine\" ...\n",
      " $ Text                  : chr  \"I have bought several of the Vitality canned dog food products and have found them all to be of good quality. T\"| __truncated__ \"Product arrived labeled as Jumbo Salted Peanuts...the peanuts were actually small sized unsalted. Not sure if t\"| __truncated__ \"This is a confection that has been around a few centuries.  It is a light, pillowy citrus gelatin with nuts - i\"| __truncated__ \"If you are looking for the secret ingredient in Robitussin I believe I have found it.  I got this in addition t\"| __truncated__ ...\n",
      " - attr(*, \".internal.selfref\")=<externalptr> \n"
     ]
    }
   ],
   "source": [
    "str(df)"
   ]
  },
  {
   "cell_type": "code",
   "execution_count": 6,
   "metadata": {},
   "outputs": [],
   "source": [
    "reviews <- as.data.frame(df)"
   ]
  },
  {
   "cell_type": "code",
   "execution_count": 7,
   "metadata": {},
   "outputs": [
    {
     "data": {
      "text/html": [
       "<table>\n",
       "<caption>A data.frame: 3 × 10</caption>\n",
       "<thead>\n",
       "\t<tr><th scope=col>Id</th><th scope=col>ProductId</th><th scope=col>UserId</th><th scope=col>ProfileName</th><th scope=col>HelpfulnessNumerator</th><th scope=col>HelpfulnessDenominator</th><th scope=col>Score</th><th scope=col>Time</th><th scope=col>Summary</th><th scope=col>Text</th></tr>\n",
       "\t<tr><th scope=col>&lt;int&gt;</th><th scope=col>&lt;chr&gt;</th><th scope=col>&lt;chr&gt;</th><th scope=col>&lt;chr&gt;</th><th scope=col>&lt;int&gt;</th><th scope=col>&lt;int&gt;</th><th scope=col>&lt;int&gt;</th><th scope=col>&lt;int&gt;</th><th scope=col>&lt;chr&gt;</th><th scope=col>&lt;chr&gt;</th></tr>\n",
       "</thead>\n",
       "<tbody>\n",
       "\t<tr><td>1</td><td>B001E4KFG0</td><td>A3SGXH7AUHU8GW</td><td>delmartian                       </td><td>1</td><td>1</td><td>5</td><td>1303862400</td><td>Good Quality Dog Food  </td><td>I have bought several of the Vitality canned dog food products and have found them all to be of good quality. The product looks more like a stew than a processed meat and it smells better. My Labrador is finicky and she appreciates this product better than  most.                                                                                                                                                                                                                                                        </td></tr>\n",
       "\t<tr><td>2</td><td>B00813GRG4</td><td>A1D87F6ZCVE5NK</td><td>dll pa                           </td><td>0</td><td>0</td><td>1</td><td>1346976000</td><td>Not as Advertised      </td><td>Product arrived labeled as Jumbo Salted Peanuts...the peanuts were actually small sized unsalted. Not sure if this was an error or if the vendor intended to represent the product as \"\"Jumbo\"\".                                                                                                                                                                                                                                                                                                                               </td></tr>\n",
       "\t<tr><td>3</td><td>B000LQOCH0</td><td>ABXLMWJIXXAIN </td><td>Natalia Corres \"\"Natalia Corres\"\"</td><td>1</td><td>1</td><td>4</td><td>1219017600</td><td>\"\"Delight\"\" says it all</td><td>This is a confection that has been around a few centuries.  It is a light, pillowy citrus gelatin with nuts - in this case Filberts. And it is cut into tiny squares and then liberally coated with powdered sugar.  And it is a tiny mouthful of heaven.  Not too chewy, and very flavorful.  I highly recommend this yummy treat.  If you are familiar with the story of C.S. Lewis' \"\"The Lion, The Witch, and The Wardrobe\"\" - this is the treat that seduces Edmund into selling out his Brother and Sisters to the Witch.</td></tr>\n",
       "</tbody>\n",
       "</table>\n"
      ],
      "text/latex": [
       "A data.frame: 3 × 10\n",
       "\\begin{tabular}{r|llllllllll}\n",
       " Id & ProductId & UserId & ProfileName & HelpfulnessNumerator & HelpfulnessDenominator & Score & Time & Summary & Text\\\\\n",
       " <int> & <chr> & <chr> & <chr> & <int> & <int> & <int> & <int> & <chr> & <chr>\\\\\n",
       "\\hline\n",
       "\t 1 & B001E4KFG0 & A3SGXH7AUHU8GW & delmartian                        & 1 & 1 & 5 & 1303862400 & Good Quality Dog Food   & I have bought several of the Vitality canned dog food products and have found them all to be of good quality. The product looks more like a stew than a processed meat and it smells better. My Labrador is finicky and she appreciates this product better than  most.                                                                                                                                                                                                                                                        \\\\\n",
       "\t 2 & B00813GRG4 & A1D87F6ZCVE5NK & dll pa                            & 0 & 0 & 1 & 1346976000 & Not as Advertised       & Product arrived labeled as Jumbo Salted Peanuts...the peanuts were actually small sized unsalted. Not sure if this was an error or if the vendor intended to represent the product as \"\"Jumbo\"\".                                                                                                                                                                                                                                                                                                                               \\\\\n",
       "\t 3 & B000LQOCH0 & ABXLMWJIXXAIN  & Natalia Corres \"\"Natalia Corres\"\" & 1 & 1 & 4 & 1219017600 & \"\"Delight\"\" says it all & This is a confection that has been around a few centuries.  It is a light, pillowy citrus gelatin with nuts - in this case Filberts. And it is cut into tiny squares and then liberally coated with powdered sugar.  And it is a tiny mouthful of heaven.  Not too chewy, and very flavorful.  I highly recommend this yummy treat.  If you are familiar with the story of C.S. Lewis' \"\"The Lion, The Witch, and The Wardrobe\"\" - this is the treat that seduces Edmund into selling out his Brother and Sisters to the Witch.\\\\\n",
       "\\end{tabular}\n"
      ],
      "text/markdown": [
       "\n",
       "A data.frame: 3 × 10\n",
       "\n",
       "| Id &lt;int&gt; | ProductId &lt;chr&gt; | UserId &lt;chr&gt; | ProfileName &lt;chr&gt; | HelpfulnessNumerator &lt;int&gt; | HelpfulnessDenominator &lt;int&gt; | Score &lt;int&gt; | Time &lt;int&gt; | Summary &lt;chr&gt; | Text &lt;chr&gt; |\n",
       "|---|---|---|---|---|---|---|---|---|---|\n",
       "| 1 | B001E4KFG0 | A3SGXH7AUHU8GW | delmartian                        | 1 | 1 | 5 | 1303862400 | Good Quality Dog Food   | I have bought several of the Vitality canned dog food products and have found them all to be of good quality. The product looks more like a stew than a processed meat and it smells better. My Labrador is finicky and she appreciates this product better than  most.                                                                                                                                                                                                                                                         |\n",
       "| 2 | B00813GRG4 | A1D87F6ZCVE5NK | dll pa                            | 0 | 0 | 1 | 1346976000 | Not as Advertised       | Product arrived labeled as Jumbo Salted Peanuts...the peanuts were actually small sized unsalted. Not sure if this was an error or if the vendor intended to represent the product as \"\"Jumbo\"\".                                                                                                                                                                                                                                                                                                                                |\n",
       "| 3 | B000LQOCH0 | ABXLMWJIXXAIN  | Natalia Corres \"\"Natalia Corres\"\" | 1 | 1 | 4 | 1219017600 | \"\"Delight\"\" says it all | This is a confection that has been around a few centuries.  It is a light, pillowy citrus gelatin with nuts - in this case Filberts. And it is cut into tiny squares and then liberally coated with powdered sugar.  And it is a tiny mouthful of heaven.  Not too chewy, and very flavorful.  I highly recommend this yummy treat.  If you are familiar with the story of C.S. Lewis' \"\"The Lion, The Witch, and The Wardrobe\"\" - this is the treat that seduces Edmund into selling out his Brother and Sisters to the Witch. |\n",
       "\n"
      ],
      "text/plain": [
       "  Id ProductId  UserId         ProfileName                      \n",
       "1 1  B001E4KFG0 A3SGXH7AUHU8GW delmartian                       \n",
       "2 2  B00813GRG4 A1D87F6ZCVE5NK dll pa                           \n",
       "3 3  B000LQOCH0 ABXLMWJIXXAIN  Natalia Corres \"\"Natalia Corres\"\"\n",
       "  HelpfulnessNumerator HelpfulnessDenominator Score Time      \n",
       "1 1                    1                      5     1303862400\n",
       "2 0                    0                      1     1346976000\n",
       "3 1                    1                      4     1219017600\n",
       "  Summary                \n",
       "1 Good Quality Dog Food  \n",
       "2 Not as Advertised      \n",
       "3 \"\"Delight\"\" says it all\n",
       "  Text                                                                                                                                                                                                                                                                                                                                                                                                                                                                                                                           \n",
       "1 I have bought several of the Vitality canned dog food products and have found them all to be of good quality. The product looks more like a stew than a processed meat and it smells better. My Labrador is finicky and she appreciates this product better than  most.                                                                                                                                                                                                                                                        \n",
       "2 Product arrived labeled as Jumbo Salted Peanuts...the peanuts were actually small sized unsalted. Not sure if this was an error or if the vendor intended to represent the product as \"\"Jumbo\"\".                                                                                                                                                                                                                                                                                                                               \n",
       "3 This is a confection that has been around a few centuries.  It is a light, pillowy citrus gelatin with nuts - in this case Filberts. And it is cut into tiny squares and then liberally coated with powdered sugar.  And it is a tiny mouthful of heaven.  Not too chewy, and very flavorful.  I highly recommend this yummy treat.  If you are familiar with the story of C.S. Lewis' \"\"The Lion, The Witch, and The Wardrobe\"\" - this is the treat that seduces Edmund into selling out his Brother and Sisters to the Witch."
      ]
     },
     "metadata": {},
     "output_type": "display_data"
    }
   ],
   "source": [
    "head(reviews,3)"
   ]
  },
  {
   "cell_type": "code",
   "execution_count": 8,
   "metadata": {},
   "outputs": [],
   "source": [
    "# Review Count for each product\n",
    "p_count <- reviews %>%\n",
    "    group_by(ProductId) %>%\n",
    "    summarize(count = n()) %>%\n",
    "    arrange(-count)"
   ]
  },
  {
   "cell_type": "code",
   "execution_count": 53,
   "metadata": {},
   "outputs": [
    {
     "data": {
      "text/html": [
       "<table>\n",
       "<caption>A tibble: 74258 × 2</caption>\n",
       "<thead>\n",
       "\t<tr><th scope=col>ProductId</th><th scope=col>count</th></tr>\n",
       "\t<tr><th scope=col>&lt;chr&gt;</th><th scope=col>&lt;int&gt;</th></tr>\n",
       "</thead>\n",
       "<tbody>\n",
       "\t<tr><td>B007JFMH8M</td><td>913</td></tr>\n",
       "\t<tr><td>B0026RQTGE</td><td>632</td></tr>\n",
       "\t<tr><td>B002QWHJOU</td><td>632</td></tr>\n",
       "\t<tr><td>B002QWP89S</td><td>632</td></tr>\n",
       "\t<tr><td>B002QWP8H0</td><td>632</td></tr>\n",
       "\t<tr><td>B003B3OOPA</td><td>623</td></tr>\n",
       "\t<tr><td>B001EO5Q64</td><td>567</td></tr>\n",
       "\t<tr><td>B000VK8AVK</td><td>564</td></tr>\n",
       "\t<tr><td>B0013NUGDE</td><td>564</td></tr>\n",
       "\t<tr><td>B001RVFEP2</td><td>564</td></tr>\n",
       "\t<tr><td>B001RVFERK</td><td>564</td></tr>\n",
       "\t<tr><td>B0026KNQSA</td><td>564</td></tr>\n",
       "\t<tr><td>B0026KPDG8</td><td>564</td></tr>\n",
       "\t<tr><td>B006HYLW32</td><td>564</td></tr>\n",
       "\t<tr><td>B007M832YY</td><td>564</td></tr>\n",
       "\t<tr><td>B007M83302</td><td>564</td></tr>\n",
       "\t<tr><td>B000KV61FC</td><td>556</td></tr>\n",
       "\t<tr><td>B000KV7ZGQ</td><td>556</td></tr>\n",
       "\t<tr><td>B000NMJWZO</td><td>542</td></tr>\n",
       "\t<tr><td>B000UBD88A</td><td>542</td></tr>\n",
       "\t<tr><td>B0013A0QXC</td><td>542</td></tr>\n",
       "\t<tr><td>B005K4Q1YA</td><td>542</td></tr>\n",
       "\t<tr><td>B005K4Q34S</td><td>542</td></tr>\n",
       "\t<tr><td>B005K4Q37A</td><td>542</td></tr>\n",
       "\t<tr><td>B005K4Q4LK</td><td>542</td></tr>\n",
       "\t<tr><td>B003GTR8IO</td><td>530</td></tr>\n",
       "\t<tr><td>B0090X8IPM</td><td>530</td></tr>\n",
       "\t<tr><td>B005ZBZLT4</td><td>506</td></tr>\n",
       "\t<tr><td>B007Y59HVM</td><td>506</td></tr>\n",
       "\t<tr><td>B006MONQMC</td><td>491</td></tr>\n",
       "\t<tr><td>...</td><td>...</td></tr>\n",
       "\t<tr><td>B009KUFALA</td><td>1</td></tr>\n",
       "\t<tr><td>B009L5LIVA</td><td>1</td></tr>\n",
       "\t<tr><td>B009L8MUD2</td><td>1</td></tr>\n",
       "\t<tr><td>B009L90JNY</td><td>1</td></tr>\n",
       "\t<tr><td>B009LRLB6U</td><td>1</td></tr>\n",
       "\t<tr><td>B009LSMTWE</td><td>1</td></tr>\n",
       "\t<tr><td>B009M6W5UQ</td><td>1</td></tr>\n",
       "\t<tr><td>B009MQVNW2</td><td>1</td></tr>\n",
       "\t<tr><td>B009MRNOR8</td><td>1</td></tr>\n",
       "\t<tr><td>B009NTCOFI</td><td>1</td></tr>\n",
       "\t<tr><td>B009NTCP6Q</td><td>1</td></tr>\n",
       "\t<tr><td>B009O753WA</td><td>1</td></tr>\n",
       "\t<tr><td>B009O7B1I0</td><td>1</td></tr>\n",
       "\t<tr><td>B009O7DGEW</td><td>1</td></tr>\n",
       "\t<tr><td>B009OY38SY</td><td>1</td></tr>\n",
       "\t<tr><td>B009P4KMZA</td><td>1</td></tr>\n",
       "\t<tr><td>B009PCDDO4</td><td>1</td></tr>\n",
       "\t<tr><td>B009PG8MVO</td><td>1</td></tr>\n",
       "\t<tr><td>B009PIAFTE</td><td>1</td></tr>\n",
       "\t<tr><td>B009PICJTS</td><td>1</td></tr>\n",
       "\t<tr><td>B009PIEW3O</td><td>1</td></tr>\n",
       "\t<tr><td>B009RE0Y5G</td><td>1</td></tr>\n",
       "\t<tr><td>B009SF0TN6</td><td>1</td></tr>\n",
       "\t<tr><td>B009SMKESO</td><td>1</td></tr>\n",
       "\t<tr><td>B009SR4OQ2</td><td>1</td></tr>\n",
       "\t<tr><td>B009UOFTUI</td><td>1</td></tr>\n",
       "\t<tr><td>B009UOFU20</td><td>1</td></tr>\n",
       "\t<tr><td>B009UUS05I</td><td>1</td></tr>\n",
       "\t<tr><td>B009WSNWC4</td><td>1</td></tr>\n",
       "\t<tr><td>B009WVB40S</td><td>1</td></tr>\n",
       "</tbody>\n",
       "</table>\n"
      ],
      "text/latex": [
       "A tibble: 74258 × 2\n",
       "\\begin{tabular}{r|ll}\n",
       " ProductId & count\\\\\n",
       " <chr> & <int>\\\\\n",
       "\\hline\n",
       "\t B007JFMH8M & 913\\\\\n",
       "\t B0026RQTGE & 632\\\\\n",
       "\t B002QWHJOU & 632\\\\\n",
       "\t B002QWP89S & 632\\\\\n",
       "\t B002QWP8H0 & 632\\\\\n",
       "\t B003B3OOPA & 623\\\\\n",
       "\t B001EO5Q64 & 567\\\\\n",
       "\t B000VK8AVK & 564\\\\\n",
       "\t B0013NUGDE & 564\\\\\n",
       "\t B001RVFEP2 & 564\\\\\n",
       "\t B001RVFERK & 564\\\\\n",
       "\t B0026KNQSA & 564\\\\\n",
       "\t B0026KPDG8 & 564\\\\\n",
       "\t B006HYLW32 & 564\\\\\n",
       "\t B007M832YY & 564\\\\\n",
       "\t B007M83302 & 564\\\\\n",
       "\t B000KV61FC & 556\\\\\n",
       "\t B000KV7ZGQ & 556\\\\\n",
       "\t B000NMJWZO & 542\\\\\n",
       "\t B000UBD88A & 542\\\\\n",
       "\t B0013A0QXC & 542\\\\\n",
       "\t B005K4Q1YA & 542\\\\\n",
       "\t B005K4Q34S & 542\\\\\n",
       "\t B005K4Q37A & 542\\\\\n",
       "\t B005K4Q4LK & 542\\\\\n",
       "\t B003GTR8IO & 530\\\\\n",
       "\t B0090X8IPM & 530\\\\\n",
       "\t B005ZBZLT4 & 506\\\\\n",
       "\t B007Y59HVM & 506\\\\\n",
       "\t B006MONQMC & 491\\\\\n",
       "\t ... & ...\\\\\n",
       "\t B009KUFALA & 1\\\\\n",
       "\t B009L5LIVA & 1\\\\\n",
       "\t B009L8MUD2 & 1\\\\\n",
       "\t B009L90JNY & 1\\\\\n",
       "\t B009LRLB6U & 1\\\\\n",
       "\t B009LSMTWE & 1\\\\\n",
       "\t B009M6W5UQ & 1\\\\\n",
       "\t B009MQVNW2 & 1\\\\\n",
       "\t B009MRNOR8 & 1\\\\\n",
       "\t B009NTCOFI & 1\\\\\n",
       "\t B009NTCP6Q & 1\\\\\n",
       "\t B009O753WA & 1\\\\\n",
       "\t B009O7B1I0 & 1\\\\\n",
       "\t B009O7DGEW & 1\\\\\n",
       "\t B009OY38SY & 1\\\\\n",
       "\t B009P4KMZA & 1\\\\\n",
       "\t B009PCDDO4 & 1\\\\\n",
       "\t B009PG8MVO & 1\\\\\n",
       "\t B009PIAFTE & 1\\\\\n",
       "\t B009PICJTS & 1\\\\\n",
       "\t B009PIEW3O & 1\\\\\n",
       "\t B009RE0Y5G & 1\\\\\n",
       "\t B009SF0TN6 & 1\\\\\n",
       "\t B009SMKESO & 1\\\\\n",
       "\t B009SR4OQ2 & 1\\\\\n",
       "\t B009UOFTUI & 1\\\\\n",
       "\t B009UOFU20 & 1\\\\\n",
       "\t B009UUS05I & 1\\\\\n",
       "\t B009WSNWC4 & 1\\\\\n",
       "\t B009WVB40S & 1\\\\\n",
       "\\end{tabular}\n"
      ],
      "text/markdown": [
       "\n",
       "A tibble: 74258 × 2\n",
       "\n",
       "| ProductId &lt;chr&gt; | count &lt;int&gt; |\n",
       "|---|---|\n",
       "| B007JFMH8M | 913 |\n",
       "| B0026RQTGE | 632 |\n",
       "| B002QWHJOU | 632 |\n",
       "| B002QWP89S | 632 |\n",
       "| B002QWP8H0 | 632 |\n",
       "| B003B3OOPA | 623 |\n",
       "| B001EO5Q64 | 567 |\n",
       "| B000VK8AVK | 564 |\n",
       "| B0013NUGDE | 564 |\n",
       "| B001RVFEP2 | 564 |\n",
       "| B001RVFERK | 564 |\n",
       "| B0026KNQSA | 564 |\n",
       "| B0026KPDG8 | 564 |\n",
       "| B006HYLW32 | 564 |\n",
       "| B007M832YY | 564 |\n",
       "| B007M83302 | 564 |\n",
       "| B000KV61FC | 556 |\n",
       "| B000KV7ZGQ | 556 |\n",
       "| B000NMJWZO | 542 |\n",
       "| B000UBD88A | 542 |\n",
       "| B0013A0QXC | 542 |\n",
       "| B005K4Q1YA | 542 |\n",
       "| B005K4Q34S | 542 |\n",
       "| B005K4Q37A | 542 |\n",
       "| B005K4Q4LK | 542 |\n",
       "| B003GTR8IO | 530 |\n",
       "| B0090X8IPM | 530 |\n",
       "| B005ZBZLT4 | 506 |\n",
       "| B007Y59HVM | 506 |\n",
       "| B006MONQMC | 491 |\n",
       "| ... | ... |\n",
       "| B009KUFALA | 1 |\n",
       "| B009L5LIVA | 1 |\n",
       "| B009L8MUD2 | 1 |\n",
       "| B009L90JNY | 1 |\n",
       "| B009LRLB6U | 1 |\n",
       "| B009LSMTWE | 1 |\n",
       "| B009M6W5UQ | 1 |\n",
       "| B009MQVNW2 | 1 |\n",
       "| B009MRNOR8 | 1 |\n",
       "| B009NTCOFI | 1 |\n",
       "| B009NTCP6Q | 1 |\n",
       "| B009O753WA | 1 |\n",
       "| B009O7B1I0 | 1 |\n",
       "| B009O7DGEW | 1 |\n",
       "| B009OY38SY | 1 |\n",
       "| B009P4KMZA | 1 |\n",
       "| B009PCDDO4 | 1 |\n",
       "| B009PG8MVO | 1 |\n",
       "| B009PIAFTE | 1 |\n",
       "| B009PICJTS | 1 |\n",
       "| B009PIEW3O | 1 |\n",
       "| B009RE0Y5G | 1 |\n",
       "| B009SF0TN6 | 1 |\n",
       "| B009SMKESO | 1 |\n",
       "| B009SR4OQ2 | 1 |\n",
       "| B009UOFTUI | 1 |\n",
       "| B009UOFU20 | 1 |\n",
       "| B009UUS05I | 1 |\n",
       "| B009WSNWC4 | 1 |\n",
       "| B009WVB40S | 1 |\n",
       "\n"
      ],
      "text/plain": [
       "      ProductId  count\n",
       "1     B007JFMH8M 913  \n",
       "2     B0026RQTGE 632  \n",
       "3     B002QWHJOU 632  \n",
       "4     B002QWP89S 632  \n",
       "5     B002QWP8H0 632  \n",
       "6     B003B3OOPA 623  \n",
       "7     B001EO5Q64 567  \n",
       "8     B000VK8AVK 564  \n",
       "9     B0013NUGDE 564  \n",
       "10    B001RVFEP2 564  \n",
       "11    B001RVFERK 564  \n",
       "12    B0026KNQSA 564  \n",
       "13    B0026KPDG8 564  \n",
       "14    B006HYLW32 564  \n",
       "15    B007M832YY 564  \n",
       "16    B007M83302 564  \n",
       "17    B000KV61FC 556  \n",
       "18    B000KV7ZGQ 556  \n",
       "19    B000NMJWZO 542  \n",
       "20    B000UBD88A 542  \n",
       "21    B0013A0QXC 542  \n",
       "22    B005K4Q1YA 542  \n",
       "23    B005K4Q34S 542  \n",
       "24    B005K4Q37A 542  \n",
       "25    B005K4Q4LK 542  \n",
       "26    B003GTR8IO 530  \n",
       "27    B0090X8IPM 530  \n",
       "28    B005ZBZLT4 506  \n",
       "29    B007Y59HVM 506  \n",
       "30    B006MONQMC 491  \n",
       "...   ...        ...  \n",
       "74229 B009KUFALA 1    \n",
       "74230 B009L5LIVA 1    \n",
       "74231 B009L8MUD2 1    \n",
       "74232 B009L90JNY 1    \n",
       "74233 B009LRLB6U 1    \n",
       "74234 B009LSMTWE 1    \n",
       "74235 B009M6W5UQ 1    \n",
       "74236 B009MQVNW2 1    \n",
       "74237 B009MRNOR8 1    \n",
       "74238 B009NTCOFI 1    \n",
       "74239 B009NTCP6Q 1    \n",
       "74240 B009O753WA 1    \n",
       "74241 B009O7B1I0 1    \n",
       "74242 B009O7DGEW 1    \n",
       "74243 B009OY38SY 1    \n",
       "74244 B009P4KMZA 1    \n",
       "74245 B009PCDDO4 1    \n",
       "74246 B009PG8MVO 1    \n",
       "74247 B009PIAFTE 1    \n",
       "74248 B009PICJTS 1    \n",
       "74249 B009PIEW3O 1    \n",
       "74250 B009RE0Y5G 1    \n",
       "74251 B009SF0TN6 1    \n",
       "74252 B009SMKESO 1    \n",
       "74253 B009SR4OQ2 1    \n",
       "74254 B009UOFTUI 1    \n",
       "74255 B009UOFU20 1    \n",
       "74256 B009UUS05I 1    \n",
       "74257 B009WSNWC4 1    \n",
       "74258 B009WVB40S 1    "
      ]
     },
     "metadata": {},
     "output_type": "display_data"
    }
   ],
   "source": [
    "p_count"
   ]
  },
  {
   "cell_type": "code",
   "execution_count": 9,
   "metadata": {},
   "outputs": [],
   "source": [
    "# Mean score for each product\n",
    "mean_score <- reviews %>%\n",
    "    group_by(ProductId) %>%\n",
    "    summarize(mean_score = mean(Score))"
   ]
  },
  {
   "cell_type": "code",
   "execution_count": 10,
   "metadata": {},
   "outputs": [],
   "source": [
    "# merge p_count to reviews\n",
    "reviews <- merge(reviews, p_count, by.x = 'ProductId', by.y = 'ProductId', all.x = TRUE)"
   ]
  },
  {
   "cell_type": "code",
   "execution_count": 11,
   "metadata": {},
   "outputs": [],
   "source": [
    "# merge mean_score to reviews\n",
    "reviews <- merge(reviews, mean_score, by.x = 'ProductId', by.y = 'ProductId', all.x = TRUE)"
   ]
  },
  {
   "cell_type": "code",
   "execution_count": 12,
   "metadata": {},
   "outputs": [],
   "source": [
    "reviews$UserId <- str_replace_all(reviews$UserId, '#oc-', '' )"
   ]
  },
  {
   "cell_type": "code",
   "execution_count": 13,
   "metadata": {},
   "outputs": [
    {
     "data": {
      "text/html": [
       "<table>\n",
       "<caption>A data.frame: 6 × 12</caption>\n",
       "<thead>\n",
       "\t<tr><th scope=col>ProductId</th><th scope=col>Id</th><th scope=col>UserId</th><th scope=col>ProfileName</th><th scope=col>HelpfulnessNumerator</th><th scope=col>HelpfulnessDenominator</th><th scope=col>Score</th><th scope=col>Time</th><th scope=col>Summary</th><th scope=col>Text</th><th scope=col>count</th><th scope=col>mean_score</th></tr>\n",
       "\t<tr><th scope=col>&lt;chr&gt;</th><th scope=col>&lt;int&gt;</th><th scope=col>&lt;chr&gt;</th><th scope=col>&lt;chr&gt;</th><th scope=col>&lt;int&gt;</th><th scope=col>&lt;int&gt;</th><th scope=col>&lt;int&gt;</th><th scope=col>&lt;int&gt;</th><th scope=col>&lt;chr&gt;</th><th scope=col>&lt;chr&gt;</th><th scope=col>&lt;int&gt;</th><th scope=col>&lt;dbl&gt;</th></tr>\n",
       "</thead>\n",
       "<tbody>\n",
       "\t<tr><td>0006641040</td><td>150493</td><td>AMX0PJKV4PPNJ </td><td><span style=white-space:pre-wrap>E. R. Bird \"\"Ramseelbird\"\"                     </span></td><td>71</td><td>72</td><td>4</td><td>1096416000</td><td>Read it once. Read it twice. Reading Chicken Soup With Rice</td><td><span style=white-space:pre-wrap>These days, when a person says, \"\"chicken soup\"\" they're probably going to follow up those words with, \"\"for the soul\"\" or maybe \"\"for the teenaged soul\"\".  Didn't used to be that way.  Why I can remember a time when if a person said, \"\"chicken soup\"\" those words were followed by an enthusiastic \"\"with rice!\"\".  Such was the power of Maurice Sendak's catchy 1962 children's book.  I am pleased to report that if you care to read this book again today, you will find it hasn't dimished a jot in terms of frolicksome fun.  In this book we are led through a whirlwind chicken soup year with our host, a boy who bears no little resemblance to Sendak's other great rhyming tale \"\"Pierre\"\" (in looks if not demeanor).  It's a catchy flouncy bouncy combo of soup and the people who love it so.&lt;br /&gt;&lt;br /&gt;This is ostensibly a book meant to teach your children the different months of the year.  Each month gets its own rhythmic poem and accompanying illustration.  These are fairly simple pen and ink drawings with the occasional splash of blue (in varying shades), yellow, gray, and green.  You may wonder how an author could ever hope to come up with twelve highly original soup-related poems.  I mean, honestly, how much is there to say about even the fanciest soup, let alone chicken soup with rice?  Quite a lot, as it happens.  In the cold winter months soup is supped while sliding on ice, while celebrating the birthday of a snowman, and in a gusty gale as a whale.  In the spring there's robin's nest soup, soup to cure drooping roses, and soup stolen by jealous March winds.  Our hero postulates the potential joys that could come of being a cooking pot, stewing soup or (oddly enough) as \"\"a baubled bangled Christmas tree\"\".&lt;br /&gt;&lt;br /&gt;Not to degrade the reading skills of parents everywhere, but I cannot recommend enough getting an audio version of this tale to accompany your child's reading.  Though I am now a wise and cultured 26 year-old (the years have been kind to me in this, my old age) I can still remember the chicken soup with rice tune.  Heck, I read this entire book recently and found I could do the song perfectly with each and every line.  Now maybe you have your own particular chicken soup with rice song style that you're just loathe to give up.  If so, fine.  I understand why you might not want to taint your already existing chicken soup melody.  But if you haven't found a jingle to accompany this book, get the audio version immediately, if not sooner.  Until you can sing \"\"Whoopy once, whoopy twice, whoopy chicken soup with rice\"\" with the correct oomph, you're missing out.&lt;br /&gt;&lt;br /&gt;I take my \"\"Chicken Soup With Rice\"\" readings seriously.  This book was the \"\"Chicka Chicka Boom Boom\"\" of its day, and still remains the catchiest method to teach kids the months of the year.  It is also seriously in danger of being forgotten.  So pull out your old accordion and strap on your dancing shoes.  The time for yukkin' it up to a merry dance of poultry broth is here.  It's Sendak at his finest.</span></td><td>37</td><td>4.351351</td></tr>\n",
       "\t<tr><td>0006641040</td><td>150494</td><td>AYZ0PR5QZROD1 </td><td>Mother of 3 girls                              </td><td> 3</td><td> 3</td><td>5</td><td>1173312000</td><td>Family favorite                                            </td><td>All of my children love this book.  My first grader got it for Christmas and loves to read the rhymes.  She is proud that she can do it herself.  (Each month her teacher works on a month from the book with the class-not that she reads independently yet.)  My girls especially enjoy reading the month they were born and singing \"\"going once, going twice, going chicken soup with rice\"\".  This book is a classic that I remember from my childhood.  I highly recommend it.  I just wish the book was a larger size.  It tends to get lost in the bookshelf among regular sized books.                                                                                                                                                                                                                                                                                                                                                                                                                                                                                                                                                                                                                                                                                                                                                                                                                                                                                                                                                                                                                                                                                                                                                                                                                                                                                                                                                                                                                                                                                                                                                                                                                                                                                                                                                                                                                                                                                                                                                                                                                                                                                                                                                                                                                                                                                                                                                                                                                                                                                                                                                        </td><td>37</td><td>4.351351</td></tr>\n",
       "\t<tr><td>0006641040</td><td>150495</td><td>A2QXYSXGQ2PKAU</td><td>Support for Providers                          </td><td> 3</td><td> 3</td><td>3</td><td>1129507200</td><td>Disappointed                                               </td><td>When I ordered a large amount of these books to share with child care providers, I was greatly disappointed in what arrived for the amount I paid. I was expecting a larger book, not the 4x5 inch book that was delivered.  It looked like something that was created off of a copy machine.                                                                                                                                                                                                                                                                                                                                                                                                                                                                                                                                                                                                                                                                                                                                                                                                                                                                                                                                                                                                                                                                                                                                                                                                                                                                                                                                                                                                                                                                                                                                                                                                                                                                                                                                                                                                                                                                                                                                                                                                                                                                                                                                                                                                                                                                                                                                                                                                                                                                                                                                                                                                                                                                                                                                                                                                                                                          </td><td>37</td><td>4.351351</td></tr>\n",
       "\t<tr><td>0006641040</td><td>150496</td><td>A3KKR87BJ0C595</td><td>Gretchen Goodfellow \"\"Lover of children's lit\"\"</td><td> 3</td><td> 3</td><td>5</td><td>1111363200</td><td><span style=white-space:pre-wrap>You'll use it once, you'll use it twice                    </span></td><td><span style=white-space:pre-wrap>One of my earliest memories is of this book.  My mother, who read to us constantly, read this one to us, and we quoted it non-stop.  In fact, that was a typical sort of soup we would beg for at the grocery because of this book!&lt;br /&gt;&lt;br /&gt;Since then, I have used the book in every class/teaching situation I have been in.  I have never met a child who did not LOVE it, and ask to be read it again and again.  It sure beats all those stupid songs you sing in preschool about the months of the year! :)  Even if you are not a Maurice Sendak fan, you will enjoy this one, because it is so original and poetic.                                                                                                                                                                                                                                                                                                                                                                                                                                                                                                                                                                                                                                                                                                                                                                                                                                                                                                                                                                                                                                                                                                                                                                                                                                                                                                                                                                                                                                                                                                                                                                                                                                                                                                                                                                                                                                                                                                                                                                                                                                                                                                                                                                                                                                                                                                                                                                                                                                                                                                                         </span></td><td>37</td><td>4.351351</td></tr>\n",
       "\t<tr><td>0006641040</td><td>150497</td><td>A1HKYQOFC8ZZCH</td><td><span style=white-space:pre-wrap>Maria Apolloni \"\"lanarossa\"\"                   </span></td><td> 2</td><td> 2</td><td>1</td><td>1334707200</td><td><span style=white-space:pre-wrap>The story is great, the softcover book is disappointing    </span></td><td><span style=white-space:pre-wrap>I give five stars to the Maurice Sendak story. One star for this printed edition of the book.&lt;br /&gt;My children had an older copy this book, so I was very familiar with the previous softcover version. I ordered this for my granddaughters, but I'm embarrassed to give it as a gift, it looks so puny. The book is about the size of a postcard and I think it's overpriced. I've learned my lesson: I will not be buying any more softcover children books, next time I'll get a used copy.                                                                                                                                                                                                                                                                                                                                                                                                                                                                                                                                                                                                                                                                                                                                                                                                                                                                                                                                                                                                                                                                                                                                                                                                                                                                                                                                                                                                                                                                                                                                                                                                                                                                                                                                                                                                                                                                                                                                                                                                                                                                                                                                                                                                                                                                                                                                                                                                                                                                                                                                                                                                                                                        </span></td><td>37</td><td>4.351351</td></tr>\n",
       "\t<tr><td>0006641040</td><td>150498</td><td>A3SJWISOCP31TR</td><td><span style=white-space:pre-wrap>R. J. Wells                                    </span></td><td> 2</td><td> 2</td><td>5</td><td>1176336000</td><td><span style=white-space:pre-wrap>A Gem of a Book                                            </span></td><td><span style=white-space:pre-wrap>This is a wonderful little book. I loved it 40 years ago and my twins love it now. They enjoy helping me finish each month by singing \"\"... chicken soup with rice!\"\"&lt;br /&gt;&lt;br /&gt;The cute drawings add to the fun -- but be warned, one of them is very un-PC! We're not in 1962 any more, Toto.                                                                                                                                                                                                                                                                                                                                                                                                                                                                                                                                                                                                                                                                                                                                                                                                                                                                                                                                                                                                                                                                                                                                                                                                                                                                                                                                                                                                                                                                                                                                                                                                                                                                                                                                                                                                                                                                                                                                                                                                                                                                                                                                                                                                                                                                                                                                                                                                                                                                                                                                                                                                                                                                                                                                                                                                                                                       </span></td><td>37</td><td>4.351351</td></tr>\n",
       "</tbody>\n",
       "</table>\n"
      ],
      "text/latex": [
       "A data.frame: 6 × 12\n",
       "\\begin{tabular}{r|llllllllllll}\n",
       " ProductId & Id & UserId & ProfileName & HelpfulnessNumerator & HelpfulnessDenominator & Score & Time & Summary & Text & count & mean\\_score\\\\\n",
       " <chr> & <int> & <chr> & <chr> & <int> & <int> & <int> & <int> & <chr> & <chr> & <int> & <dbl>\\\\\n",
       "\\hline\n",
       "\t 0006641040 & 150493 & AMX0PJKV4PPNJ  & E. R. Bird \"\"Ramseelbird\"\"                      & 71 & 72 & 4 & 1096416000 & Read it once. Read it twice. Reading Chicken Soup With Rice & These days, when a person says, \"\"chicken soup\"\" they're probably going to follow up those words with, \"\"for the soul\"\" or maybe \"\"for the teenaged soul\"\".  Didn't used to be that way.  Why I can remember a time when if a person said, \"\"chicken soup\"\" those words were followed by an enthusiastic \"\"with rice!\"\".  Such was the power of Maurice Sendak's catchy 1962 children's book.  I am pleased to report that if you care to read this book again today, you will find it hasn't dimished a jot in terms of frolicksome fun.  In this book we are led through a whirlwind chicken soup year with our host, a boy who bears no little resemblance to Sendak's other great rhyming tale \"\"Pierre\"\" (in looks if not demeanor).  It's a catchy flouncy bouncy combo of soup and the people who love it so.<br /><br />This is ostensibly a book meant to teach your children the different months of the year.  Each month gets its own rhythmic poem and accompanying illustration.  These are fairly simple pen and ink drawings with the occasional splash of blue (in varying shades), yellow, gray, and green.  You may wonder how an author could ever hope to come up with twelve highly original soup-related poems.  I mean, honestly, how much is there to say about even the fanciest soup, let alone chicken soup with rice?  Quite a lot, as it happens.  In the cold winter months soup is supped while sliding on ice, while celebrating the birthday of a snowman, and in a gusty gale as a whale.  In the spring there's robin's nest soup, soup to cure drooping roses, and soup stolen by jealous March winds.  Our hero postulates the potential joys that could come of being a cooking pot, stewing soup or (oddly enough) as \"\"a baubled bangled Christmas tree\"\".<br /><br />Not to degrade the reading skills of parents everywhere, but I cannot recommend enough getting an audio version of this tale to accompany your child's reading.  Though I am now a wise and cultured 26 year-old (the years have been kind to me in this, my old age) I can still remember the chicken soup with rice tune.  Heck, I read this entire book recently and found I could do the song perfectly with each and every line.  Now maybe you have your own particular chicken soup with rice song style that you're just loathe to give up.  If so, fine.  I understand why you might not want to taint your already existing chicken soup melody.  But if you haven't found a jingle to accompany this book, get the audio version immediately, if not sooner.  Until you can sing \"\"Whoopy once, whoopy twice, whoopy chicken soup with rice\"\" with the correct oomph, you're missing out.<br /><br />I take my \"\"Chicken Soup With Rice\"\" readings seriously.  This book was the \"\"Chicka Chicka Boom Boom\"\" of its day, and still remains the catchiest method to teach kids the months of the year.  It is also seriously in danger of being forgotten.  So pull out your old accordion and strap on your dancing shoes.  The time for yukkin' it up to a merry dance of poultry broth is here.  It's Sendak at his finest. & 37 & 4.351351\\\\\n",
       "\t 0006641040 & 150494 & AYZ0PR5QZROD1  & Mother of 3 girls                               &  3 &  3 & 5 & 1173312000 & Family favorite                                             & All of my children love this book.  My first grader got it for Christmas and loves to read the rhymes.  She is proud that she can do it herself.  (Each month her teacher works on a month from the book with the class-not that she reads independently yet.)  My girls especially enjoy reading the month they were born and singing \"\"going once, going twice, going chicken soup with rice\"\".  This book is a classic that I remember from my childhood.  I highly recommend it.  I just wish the book was a larger size.  It tends to get lost in the bookshelf among regular sized books.                                                                                                                                                                                                                                                                                                                                                                                                                                                                                                                                                                                                                                                                                                                                                                                                                                                                                                                                                                                                                                                                                                                                                                                                                                                                                                                                                                                                                                                                                                                                                                                                                                                                                                                                                                                                                                                                                                                                                                                                                                                                                                                                                                                                                                                                                                                                                                                                                                                                                                                                                         & 37 & 4.351351\\\\\n",
       "\t 0006641040 & 150495 & A2QXYSXGQ2PKAU & Support for Providers                           &  3 &  3 & 3 & 1129507200 & Disappointed                                                & When I ordered a large amount of these books to share with child care providers, I was greatly disappointed in what arrived for the amount I paid. I was expecting a larger book, not the 4x5 inch book that was delivered.  It looked like something that was created off of a copy machine.                                                                                                                                                                                                                                                                                                                                                                                                                                                                                                                                                                                                                                                                                                                                                                                                                                                                                                                                                                                                                                                                                                                                                                                                                                                                                                                                                                                                                                                                                                                                                                                                                                                                                                                                                                                                                                                                                                                                                                                                                                                                                                                                                                                                                                                                                                                                                                                                                                                                                                                                                                                                                                                                                                                                                                                                                                                           & 37 & 4.351351\\\\\n",
       "\t 0006641040 & 150496 & A3KKR87BJ0C595 & Gretchen Goodfellow \"\"Lover of children's lit\"\" &  3 &  3 & 5 & 1111363200 & You'll use it once, you'll use it twice                     & One of my earliest memories is of this book.  My mother, who read to us constantly, read this one to us, and we quoted it non-stop.  In fact, that was a typical sort of soup we would beg for at the grocery because of this book!<br /><br />Since then, I have used the book in every class/teaching situation I have been in.  I have never met a child who did not LOVE it, and ask to be read it again and again.  It sure beats all those stupid songs you sing in preschool about the months of the year! :)  Even if you are not a Maurice Sendak fan, you will enjoy this one, because it is so original and poetic.                                                                                                                                                                                                                                                                                                                                                                                                                                                                                                                                                                                                                                                                                                                                                                                                                                                                                                                                                                                                                                                                                                                                                                                                                                                                                                                                                                                                                                                                                                                                                                                                                                                                                                                                                                                                                                                                                                                                                                                                                                                                                                                                                                                                                                                                                                                                                                                                                                                                                                                          & 37 & 4.351351\\\\\n",
       "\t 0006641040 & 150497 & A1HKYQOFC8ZZCH & Maria Apolloni \"\"lanarossa\"\"                    &  2 &  2 & 1 & 1334707200 & The story is great, the softcover book is disappointing     & I give five stars to the Maurice Sendak story. One star for this printed edition of the book.<br />My children had an older copy this book, so I was very familiar with the previous softcover version. I ordered this for my granddaughters, but I'm embarrassed to give it as a gift, it looks so puny. The book is about the size of a postcard and I think it's overpriced. I've learned my lesson: I will not be buying any more softcover children books, next time I'll get a used copy.                                                                                                                                                                                                                                                                                                                                                                                                                                                                                                                                                                                                                                                                                                                                                                                                                                                                                                                                                                                                                                                                                                                                                                                                                                                                                                                                                                                                                                                                                                                                                                                                                                                                                                                                                                                                                                                                                                                                                                                                                                                                                                                                                                                                                                                                                                                                                                                                                                                                                                                                                                                                                                                         & 37 & 4.351351\\\\\n",
       "\t 0006641040 & 150498 & A3SJWISOCP31TR & R. J. Wells                                     &  2 &  2 & 5 & 1176336000 & A Gem of a Book                                             & This is a wonderful little book. I loved it 40 years ago and my twins love it now. They enjoy helping me finish each month by singing \"\"... chicken soup with rice!\"\"<br /><br />The cute drawings add to the fun -- but be warned, one of them is very un-PC! We're not in 1962 any more, Toto.                                                                                                                                                                                                                                                                                                                                                                                                                                                                                                                                                                                                                                                                                                                                                                                                                                                                                                                                                                                                                                                                                                                                                                                                                                                                                                                                                                                                                                                                                                                                                                                                                                                                                                                                                                                                                                                                                                                                                                                                                                                                                                                                                                                                                                                                                                                                                                                                                                                                                                                                                                                                                                                                                                                                                                                                                                                        & 37 & 4.351351\\\\\n",
       "\\end{tabular}\n"
      ],
      "text/markdown": [
       "\n",
       "A data.frame: 6 × 12\n",
       "\n",
       "| ProductId &lt;chr&gt; | Id &lt;int&gt; | UserId &lt;chr&gt; | ProfileName &lt;chr&gt; | HelpfulnessNumerator &lt;int&gt; | HelpfulnessDenominator &lt;int&gt; | Score &lt;int&gt; | Time &lt;int&gt; | Summary &lt;chr&gt; | Text &lt;chr&gt; | count &lt;int&gt; | mean_score &lt;dbl&gt; |\n",
       "|---|---|---|---|---|---|---|---|---|---|---|---|\n",
       "| 0006641040 | 150493 | AMX0PJKV4PPNJ  | E. R. Bird \"\"Ramseelbird\"\"                      | 71 | 72 | 4 | 1096416000 | Read it once. Read it twice. Reading Chicken Soup With Rice | These days, when a person says, \"\"chicken soup\"\" they're probably going to follow up those words with, \"\"for the soul\"\" or maybe \"\"for the teenaged soul\"\".  Didn't used to be that way.  Why I can remember a time when if a person said, \"\"chicken soup\"\" those words were followed by an enthusiastic \"\"with rice!\"\".  Such was the power of Maurice Sendak's catchy 1962 children's book.  I am pleased to report that if you care to read this book again today, you will find it hasn't dimished a jot in terms of frolicksome fun.  In this book we are led through a whirlwind chicken soup year with our host, a boy who bears no little resemblance to Sendak's other great rhyming tale \"\"Pierre\"\" (in looks if not demeanor).  It's a catchy flouncy bouncy combo of soup and the people who love it so.&lt;br /&gt;&lt;br /&gt;This is ostensibly a book meant to teach your children the different months of the year.  Each month gets its own rhythmic poem and accompanying illustration.  These are fairly simple pen and ink drawings with the occasional splash of blue (in varying shades), yellow, gray, and green.  You may wonder how an author could ever hope to come up with twelve highly original soup-related poems.  I mean, honestly, how much is there to say about even the fanciest soup, let alone chicken soup with rice?  Quite a lot, as it happens.  In the cold winter months soup is supped while sliding on ice, while celebrating the birthday of a snowman, and in a gusty gale as a whale.  In the spring there's robin's nest soup, soup to cure drooping roses, and soup stolen by jealous March winds.  Our hero postulates the potential joys that could come of being a cooking pot, stewing soup or (oddly enough) as \"\"a baubled bangled Christmas tree\"\".&lt;br /&gt;&lt;br /&gt;Not to degrade the reading skills of parents everywhere, but I cannot recommend enough getting an audio version of this tale to accompany your child's reading.  Though I am now a wise and cultured 26 year-old (the years have been kind to me in this, my old age) I can still remember the chicken soup with rice tune.  Heck, I read this entire book recently and found I could do the song perfectly with each and every line.  Now maybe you have your own particular chicken soup with rice song style that you're just loathe to give up.  If so, fine.  I understand why you might not want to taint your already existing chicken soup melody.  But if you haven't found a jingle to accompany this book, get the audio version immediately, if not sooner.  Until you can sing \"\"Whoopy once, whoopy twice, whoopy chicken soup with rice\"\" with the correct oomph, you're missing out.&lt;br /&gt;&lt;br /&gt;I take my \"\"Chicken Soup With Rice\"\" readings seriously.  This book was the \"\"Chicka Chicka Boom Boom\"\" of its day, and still remains the catchiest method to teach kids the months of the year.  It is also seriously in danger of being forgotten.  So pull out your old accordion and strap on your dancing shoes.  The time for yukkin' it up to a merry dance of poultry broth is here.  It's Sendak at his finest. | 37 | 4.351351 |\n",
       "| 0006641040 | 150494 | AYZ0PR5QZROD1  | Mother of 3 girls                               |  3 |  3 | 5 | 1173312000 | Family favorite                                             | All of my children love this book.  My first grader got it for Christmas and loves to read the rhymes.  She is proud that she can do it herself.  (Each month her teacher works on a month from the book with the class-not that she reads independently yet.)  My girls especially enjoy reading the month they were born and singing \"\"going once, going twice, going chicken soup with rice\"\".  This book is a classic that I remember from my childhood.  I highly recommend it.  I just wish the book was a larger size.  It tends to get lost in the bookshelf among regular sized books.                                                                                                                                                                                                                                                                                                                                                                                                                                                                                                                                                                                                                                                                                                                                                                                                                                                                                                                                                                                                                                                                                                                                                                                                                                                                                                                                                                                                                                                                                                                                                                                                                                                                                                                                                                                                                                                                                                                                                                                                                                                                                                                                                                                                                                                                                                                                                                                                                                                                                                                                                         | 37 | 4.351351 |\n",
       "| 0006641040 | 150495 | A2QXYSXGQ2PKAU | Support for Providers                           |  3 |  3 | 3 | 1129507200 | Disappointed                                                | When I ordered a large amount of these books to share with child care providers, I was greatly disappointed in what arrived for the amount I paid. I was expecting a larger book, not the 4x5 inch book that was delivered.  It looked like something that was created off of a copy machine.                                                                                                                                                                                                                                                                                                                                                                                                                                                                                                                                                                                                                                                                                                                                                                                                                                                                                                                                                                                                                                                                                                                                                                                                                                                                                                                                                                                                                                                                                                                                                                                                                                                                                                                                                                                                                                                                                                                                                                                                                                                                                                                                                                                                                                                                                                                                                                                                                                                                                                                                                                                                                                                                                                                                                                                                                                                           | 37 | 4.351351 |\n",
       "| 0006641040 | 150496 | A3KKR87BJ0C595 | Gretchen Goodfellow \"\"Lover of children's lit\"\" |  3 |  3 | 5 | 1111363200 | You'll use it once, you'll use it twice                     | One of my earliest memories is of this book.  My mother, who read to us constantly, read this one to us, and we quoted it non-stop.  In fact, that was a typical sort of soup we would beg for at the grocery because of this book!&lt;br /&gt;&lt;br /&gt;Since then, I have used the book in every class/teaching situation I have been in.  I have never met a child who did not LOVE it, and ask to be read it again and again.  It sure beats all those stupid songs you sing in preschool about the months of the year! :)  Even if you are not a Maurice Sendak fan, you will enjoy this one, because it is so original and poetic.                                                                                                                                                                                                                                                                                                                                                                                                                                                                                                                                                                                                                                                                                                                                                                                                                                                                                                                                                                                                                                                                                                                                                                                                                                                                                                                                                                                                                                                                                                                                                                                                                                                                                                                                                                                                                                                                                                                                                                                                                                                                                                                                                                                                                                                                                                                                                                                                                                                                                                                          | 37 | 4.351351 |\n",
       "| 0006641040 | 150497 | A1HKYQOFC8ZZCH | Maria Apolloni \"\"lanarossa\"\"                    |  2 |  2 | 1 | 1334707200 | The story is great, the softcover book is disappointing     | I give five stars to the Maurice Sendak story. One star for this printed edition of the book.&lt;br /&gt;My children had an older copy this book, so I was very familiar with the previous softcover version. I ordered this for my granddaughters, but I'm embarrassed to give it as a gift, it looks so puny. The book is about the size of a postcard and I think it's overpriced. I've learned my lesson: I will not be buying any more softcover children books, next time I'll get a used copy.                                                                                                                                                                                                                                                                                                                                                                                                                                                                                                                                                                                                                                                                                                                                                                                                                                                                                                                                                                                                                                                                                                                                                                                                                                                                                                                                                                                                                                                                                                                                                                                                                                                                                                                                                                                                                                                                                                                                                                                                                                                                                                                                                                                                                                                                                                                                                                                                                                                                                                                                                                                                                                                         | 37 | 4.351351 |\n",
       "| 0006641040 | 150498 | A3SJWISOCP31TR | R. J. Wells                                     |  2 |  2 | 5 | 1176336000 | A Gem of a Book                                             | This is a wonderful little book. I loved it 40 years ago and my twins love it now. They enjoy helping me finish each month by singing \"\"... chicken soup with rice!\"\"&lt;br /&gt;&lt;br /&gt;The cute drawings add to the fun -- but be warned, one of them is very un-PC! We're not in 1962 any more, Toto.                                                                                                                                                                                                                                                                                                                                                                                                                                                                                                                                                                                                                                                                                                                                                                                                                                                                                                                                                                                                                                                                                                                                                                                                                                                                                                                                                                                                                                                                                                                                                                                                                                                                                                                                                                                                                                                                                                                                                                                                                                                                                                                                                                                                                                                                                                                                                                                                                                                                                                                                                                                                                                                                                                                                                                                                                                                        | 37 | 4.351351 |\n",
       "\n"
      ],
      "text/plain": [
       "  ProductId  Id     UserId        \n",
       "1 0006641040 150493 AMX0PJKV4PPNJ \n",
       "2 0006641040 150494 AYZ0PR5QZROD1 \n",
       "3 0006641040 150495 A2QXYSXGQ2PKAU\n",
       "4 0006641040 150496 A3KKR87BJ0C595\n",
       "5 0006641040 150497 A1HKYQOFC8ZZCH\n",
       "6 0006641040 150498 A3SJWISOCP31TR\n",
       "  ProfileName                                     HelpfulnessNumerator\n",
       "1 E. R. Bird \"\"Ramseelbird\"\"                      71                  \n",
       "2 Mother of 3 girls                                3                  \n",
       "3 Support for Providers                            3                  \n",
       "4 Gretchen Goodfellow \"\"Lover of children's lit\"\"  3                  \n",
       "5 Maria Apolloni \"\"lanarossa\"\"                     2                  \n",
       "6 R. J. Wells                                      2                  \n",
       "  HelpfulnessDenominator Score Time      \n",
       "1 72                     4     1096416000\n",
       "2  3                     5     1173312000\n",
       "3  3                     3     1129507200\n",
       "4  3                     5     1111363200\n",
       "5  2                     1     1334707200\n",
       "6  2                     5     1176336000\n",
       "  Summary                                                    \n",
       "1 Read it once. Read it twice. Reading Chicken Soup With Rice\n",
       "2 Family favorite                                            \n",
       "3 Disappointed                                               \n",
       "4 You'll use it once, you'll use it twice                    \n",
       "5 The story is great, the softcover book is disappointing    \n",
       "6 A Gem of a Book                                            \n",
       "  Text                                                                                                                                                                                                                                                                                                                                                                                                                                                                                                                                                                                                                                                                                                                                                                                                                                                                                                                                                                                                                                                                                                                                                                                                                                                                                                                                                                                                                                                                                                                                                                                                                                                                                                                                                                                                                                                                                                                                                                                                                                                                                                                                                                                                                                                                                                                                                                                                                                                                                                                                                                                                                                                                                                                                                                                                                                                                                                                                                                                                                                                                                                                                                   \n",
       "1 These days, when a person says, \"\"chicken soup\"\" they're probably going to follow up those words with, \"\"for the soul\"\" or maybe \"\"for the teenaged soul\"\".  Didn't used to be that way.  Why I can remember a time when if a person said, \"\"chicken soup\"\" those words were followed by an enthusiastic \"\"with rice!\"\".  Such was the power of Maurice Sendak's catchy 1962 children's book.  I am pleased to report that if you care to read this book again today, you will find it hasn't dimished a jot in terms of frolicksome fun.  In this book we are led through a whirlwind chicken soup year with our host, a boy who bears no little resemblance to Sendak's other great rhyming tale \"\"Pierre\"\" (in looks if not demeanor).  It's a catchy flouncy bouncy combo of soup and the people who love it so.<br /><br />This is ostensibly a book meant to teach your children the different months of the year.  Each month gets its own rhythmic poem and accompanying illustration.  These are fairly simple pen and ink drawings with the occasional splash of blue (in varying shades), yellow, gray, and green.  You may wonder how an author could ever hope to come up with twelve highly original soup-related poems.  I mean, honestly, how much is there to say about even the fanciest soup, let alone chicken soup with rice?  Quite a lot, as it happens.  In the cold winter months soup is supped while sliding on ice, while celebrating the birthday of a snowman, and in a gusty gale as a whale.  In the spring there's robin's nest soup, soup to cure drooping roses, and soup stolen by jealous March winds.  Our hero postulates the potential joys that could come of being a cooking pot, stewing soup or (oddly enough) as \"\"a baubled bangled Christmas tree\"\".<br /><br />Not to degrade the reading skills of parents everywhere, but I cannot recommend enough getting an audio version of this tale to accompany your child's reading.  Though I am now a wise and cultured 26 year-old (the years have been kind to me in this, my old age) I can still remember the chicken soup with rice tune.  Heck, I read this entire book recently and found I could do the song perfectly with each and every line.  Now maybe you have your own particular chicken soup with rice song style that you're just loathe to give up.  If so, fine.  I understand why you might not want to taint your already existing chicken soup melody.  But if you haven't found a jingle to accompany this book, get the audio version immediately, if not sooner.  Until you can sing \"\"Whoopy once, whoopy twice, whoopy chicken soup with rice\"\" with the correct oomph, you're missing out.<br /><br />I take my \"\"Chicken Soup With Rice\"\" readings seriously.  This book was the \"\"Chicka Chicka Boom Boom\"\" of its day, and still remains the catchiest method to teach kids the months of the year.  It is also seriously in danger of being forgotten.  So pull out your old accordion and strap on your dancing shoes.  The time for yukkin' it up to a merry dance of poultry broth is here.  It's Sendak at his finest.\n",
       "2 All of my children love this book.  My first grader got it for Christmas and loves to read the rhymes.  She is proud that she can do it herself.  (Each month her teacher works on a month from the book with the class-not that she reads independently yet.)  My girls especially enjoy reading the month they were born and singing \"\"going once, going twice, going chicken soup with rice\"\".  This book is a classic that I remember from my childhood.  I highly recommend it.  I just wish the book was a larger size.  It tends to get lost in the bookshelf among regular sized books.                                                                                                                                                                                                                                                                                                                                                                                                                                                                                                                                                                                                                                                                                                                                                                                                                                                                                                                                                                                                                                                                                                                                                                                                                                                                                                                                                                                                                                                                                                                                                                                                                                                                                                                                                                                                                                                                                                                                                                                                                                                                                                                                                                                                                                                                                                                                                                                                                                                                                                                                                        \n",
       "3 When I ordered a large amount of these books to share with child care providers, I was greatly disappointed in what arrived for the amount I paid. I was expecting a larger book, not the 4x5 inch book that was delivered.  It looked like something that was created off of a copy machine.                                                                                                                                                                                                                                                                                                                                                                                                                                                                                                                                                                                                                                                                                                                                                                                                                                                                                                                                                                                                                                                                                                                                                                                                                                                                                                                                                                                                                                                                                                                                                                                                                                                                                                                                                                                                                                                                                                                                                                                                                                                                                                                                                                                                                                                                                                                                                                                                                                                                                                                                                                                                                                                                                                                                                                                                                                                          \n",
       "4 One of my earliest memories is of this book.  My mother, who read to us constantly, read this one to us, and we quoted it non-stop.  In fact, that was a typical sort of soup we would beg for at the grocery because of this book!<br /><br />Since then, I have used the book in every class/teaching situation I have been in.  I have never met a child who did not LOVE it, and ask to be read it again and again.  It sure beats all those stupid songs you sing in preschool about the months of the year! :)  Even if you are not a Maurice Sendak fan, you will enjoy this one, because it is so original and poetic.                                                                                                                                                                                                                                                                                                                                                                                                                                                                                                                                                                                                                                                                                                                                                                                                                                                                                                                                                                                                                                                                                                                                                                                                                                                                                                                                                                                                                                                                                                                                                                                                                                                                                                                                                                                                                                                                                                                                                                                                                                                                                                                                                                                                                                                                                                                                                                                                                                                                                                                         \n",
       "5 I give five stars to the Maurice Sendak story. One star for this printed edition of the book.<br />My children had an older copy this book, so I was very familiar with the previous softcover version. I ordered this for my granddaughters, but I'm embarrassed to give it as a gift, it looks so puny. The book is about the size of a postcard and I think it's overpriced. I've learned my lesson: I will not be buying any more softcover children books, next time I'll get a used copy.                                                                                                                                                                                                                                                                                                                                                                                                                                                                                                                                                                                                                                                                                                                                                                                                                                                                                                                                                                                                                                                                                                                                                                                                                                                                                                                                                                                                                                                                                                                                                                                                                                                                                                                                                                                                                                                                                                                                                                                                                                                                                                                                                                                                                                                                                                                                                                                                                                                                                                                                                                                                                                                        \n",
       "6 This is a wonderful little book. I loved it 40 years ago and my twins love it now. They enjoy helping me finish each month by singing \"\"... chicken soup with rice!\"\"<br /><br />The cute drawings add to the fun -- but be warned, one of them is very un-PC! We're not in 1962 any more, Toto.                                                                                                                                                                                                                                                                                                                                                                                                                                                                                                                                                                                                                                                                                                                                                                                                                                                                                                                                                                                                                                                                                                                                                                                                                                                                                                                                                                                                                                                                                                                                                                                                                                                                                                                                                                                                                                                                                                                                                                                                                                                                                                                                                                                                                                                                                                                                                                                                                                                                                                                                                                                                                                                                                                                                                                                                                                                       \n",
       "  count mean_score\n",
       "1 37    4.351351  \n",
       "2 37    4.351351  \n",
       "3 37    4.351351  \n",
       "4 37    4.351351  \n",
       "5 37    4.351351  \n",
       "6 37    4.351351  "
      ]
     },
     "metadata": {},
     "output_type": "display_data"
    }
   ],
   "source": [
    "head(reviews)"
   ]
  },
  {
   "cell_type": "code",
   "execution_count": 14,
   "metadata": {},
   "outputs": [],
   "source": [
    "# Select needed columns, ProductId, Id, UserId, ProfileName, Score, Summary, Text, count, mean_score\n",
    "reviews2 <- reviews[,c(1:4, 7, 9:12)]"
   ]
  },
  {
   "cell_type": "code",
   "execution_count": 15,
   "metadata": {},
   "outputs": [],
   "source": [
    "reviews3 <- ungroup(reviews) %>%\n",
    "    group_by(ProductId) %>%\n",
    "    mutate(combine_summary = paste(Summary, collapse= ' '))"
   ]
  },
  {
   "cell_type": "code",
   "execution_count": 16,
   "metadata": {},
   "outputs": [
    {
     "data": {
      "text/html": [
       "<table>\n",
       "<caption>A grouped_df: 6 × 13</caption>\n",
       "<thead>\n",
       "\t<tr><th scope=col>ProductId</th><th scope=col>Id</th><th scope=col>UserId</th><th scope=col>ProfileName</th><th scope=col>HelpfulnessNumerator</th><th scope=col>HelpfulnessDenominator</th><th scope=col>Score</th><th scope=col>Time</th><th scope=col>Summary</th><th scope=col>Text</th><th scope=col>count</th><th scope=col>mean_score</th><th scope=col>combine_summary</th></tr>\n",
       "\t<tr><th scope=col>&lt;chr&gt;</th><th scope=col>&lt;int&gt;</th><th scope=col>&lt;chr&gt;</th><th scope=col>&lt;chr&gt;</th><th scope=col>&lt;int&gt;</th><th scope=col>&lt;int&gt;</th><th scope=col>&lt;int&gt;</th><th scope=col>&lt;int&gt;</th><th scope=col>&lt;chr&gt;</th><th scope=col>&lt;chr&gt;</th><th scope=col>&lt;int&gt;</th><th scope=col>&lt;dbl&gt;</th><th scope=col>&lt;chr&gt;</th></tr>\n",
       "</thead>\n",
       "<tbody>\n",
       "\t<tr><td>0006641040</td><td>150493</td><td>AMX0PJKV4PPNJ </td><td><span style=white-space:pre-wrap>E. R. Bird \"\"Ramseelbird\"\"                     </span></td><td>71</td><td>72</td><td>4</td><td>1096416000</td><td>Read it once. Read it twice. Reading Chicken Soup With Rice</td><td><span style=white-space:pre-wrap>These days, when a person says, \"\"chicken soup\"\" they're probably going to follow up those words with, \"\"for the soul\"\" or maybe \"\"for the teenaged soul\"\".  Didn't used to be that way.  Why I can remember a time when if a person said, \"\"chicken soup\"\" those words were followed by an enthusiastic \"\"with rice!\"\".  Such was the power of Maurice Sendak's catchy 1962 children's book.  I am pleased to report that if you care to read this book again today, you will find it hasn't dimished a jot in terms of frolicksome fun.  In this book we are led through a whirlwind chicken soup year with our host, a boy who bears no little resemblance to Sendak's other great rhyming tale \"\"Pierre\"\" (in looks if not demeanor).  It's a catchy flouncy bouncy combo of soup and the people who love it so.&lt;br /&gt;&lt;br /&gt;This is ostensibly a book meant to teach your children the different months of the year.  Each month gets its own rhythmic poem and accompanying illustration.  These are fairly simple pen and ink drawings with the occasional splash of blue (in varying shades), yellow, gray, and green.  You may wonder how an author could ever hope to come up with twelve highly original soup-related poems.  I mean, honestly, how much is there to say about even the fanciest soup, let alone chicken soup with rice?  Quite a lot, as it happens.  In the cold winter months soup is supped while sliding on ice, while celebrating the birthday of a snowman, and in a gusty gale as a whale.  In the spring there's robin's nest soup, soup to cure drooping roses, and soup stolen by jealous March winds.  Our hero postulates the potential joys that could come of being a cooking pot, stewing soup or (oddly enough) as \"\"a baubled bangled Christmas tree\"\".&lt;br /&gt;&lt;br /&gt;Not to degrade the reading skills of parents everywhere, but I cannot recommend enough getting an audio version of this tale to accompany your child's reading.  Though I am now a wise and cultured 26 year-old (the years have been kind to me in this, my old age) I can still remember the chicken soup with rice tune.  Heck, I read this entire book recently and found I could do the song perfectly with each and every line.  Now maybe you have your own particular chicken soup with rice song style that you're just loathe to give up.  If so, fine.  I understand why you might not want to taint your already existing chicken soup melody.  But if you haven't found a jingle to accompany this book, get the audio version immediately, if not sooner.  Until you can sing \"\"Whoopy once, whoopy twice, whoopy chicken soup with rice\"\" with the correct oomph, you're missing out.&lt;br /&gt;&lt;br /&gt;I take my \"\"Chicken Soup With Rice\"\" readings seriously.  This book was the \"\"Chicka Chicka Boom Boom\"\" of its day, and still remains the catchiest method to teach kids the months of the year.  It is also seriously in danger of being forgotten.  So pull out your old accordion and strap on your dancing shoes.  The time for yukkin' it up to a merry dance of poultry broth is here.  It's Sendak at his finest.</span></td><td>37</td><td>4.351351</td><td>Read it once. Read it twice. Reading Chicken Soup With Rice Family favorite Disappointed You'll use it once, you'll use it twice The story is great, the softcover book is disappointing A Gem of a Book Can't explain why It Was a favorite! This whole series is great way to spend time with your child Tiny little book, Wonderful little rhymes. so fun to read Chicken Soup with Rice A classic Love the book, miss the hard cover version chicken soup with rice months a good swingy rhythm for reading aloud A great way to learn the months Professional Mentoring Charming and childlike Must have. A classic Chicken soup with Rice One of our family's favorite books Darling! good for children love this book It's a great book! Great Gift This book is great! Children will find it entertaining and a generator of giggles MMMM chicken soup.... EVERY book is educational In December it will be, my snowman's anniversary... awesome book poor size This book is much too small Size does matter Nice cadence, catchy rhymes</td></tr>\n",
       "\t<tr><td>0006641040</td><td>150494</td><td>AYZ0PR5QZROD1 </td><td>Mother of 3 girls                              </td><td> 3</td><td> 3</td><td>5</td><td>1173312000</td><td>Family favorite                                            </td><td>All of my children love this book.  My first grader got it for Christmas and loves to read the rhymes.  She is proud that she can do it herself.  (Each month her teacher works on a month from the book with the class-not that she reads independently yet.)  My girls especially enjoy reading the month they were born and singing \"\"going once, going twice, going chicken soup with rice\"\".  This book is a classic that I remember from my childhood.  I highly recommend it.  I just wish the book was a larger size.  It tends to get lost in the bookshelf among regular sized books.                                                                                                                                                                                                                                                                                                                                                                                                                                                                                                                                                                                                                                                                                                                                                                                                                                                                                                                                                                                                                                                                                                                                                                                                                                                                                                                                                                                                                                                                                                                                                                                                                                                                                                                                                                                                                                                                                                                                                                                                                                                                                                                                                                                                                                                                                                                                                                                                                                                                                                                                                        </td><td>37</td><td>4.351351</td><td>Read it once. Read it twice. Reading Chicken Soup With Rice Family favorite Disappointed You'll use it once, you'll use it twice The story is great, the softcover book is disappointing A Gem of a Book Can't explain why It Was a favorite! This whole series is great way to spend time with your child Tiny little book, Wonderful little rhymes. so fun to read Chicken Soup with Rice A classic Love the book, miss the hard cover version chicken soup with rice months a good swingy rhythm for reading aloud A great way to learn the months Professional Mentoring Charming and childlike Must have. A classic Chicken soup with Rice One of our family's favorite books Darling! good for children love this book It's a great book! Great Gift This book is great! Children will find it entertaining and a generator of giggles MMMM chicken soup.... EVERY book is educational In December it will be, my snowman's anniversary... awesome book poor size This book is much too small Size does matter Nice cadence, catchy rhymes</td></tr>\n",
       "\t<tr><td>0006641040</td><td>150495</td><td>A2QXYSXGQ2PKAU</td><td>Support for Providers                          </td><td> 3</td><td> 3</td><td>3</td><td>1129507200</td><td>Disappointed                                               </td><td>When I ordered a large amount of these books to share with child care providers, I was greatly disappointed in what arrived for the amount I paid. I was expecting a larger book, not the 4x5 inch book that was delivered.  It looked like something that was created off of a copy machine.                                                                                                                                                                                                                                                                                                                                                                                                                                                                                                                                                                                                                                                                                                                                                                                                                                                                                                                                                                                                                                                                                                                                                                                                                                                                                                                                                                                                                                                                                                                                                                                                                                                                                                                                                                                                                                                                                                                                                                                                                                                                                                                                                                                                                                                                                                                                                                                                                                                                                                                                                                                                                                                                                                                                                                                                                                                          </td><td>37</td><td>4.351351</td><td>Read it once. Read it twice. Reading Chicken Soup With Rice Family favorite Disappointed You'll use it once, you'll use it twice The story is great, the softcover book is disappointing A Gem of a Book Can't explain why It Was a favorite! This whole series is great way to spend time with your child Tiny little book, Wonderful little rhymes. so fun to read Chicken Soup with Rice A classic Love the book, miss the hard cover version chicken soup with rice months a good swingy rhythm for reading aloud A great way to learn the months Professional Mentoring Charming and childlike Must have. A classic Chicken soup with Rice One of our family's favorite books Darling! good for children love this book It's a great book! Great Gift This book is great! Children will find it entertaining and a generator of giggles MMMM chicken soup.... EVERY book is educational In December it will be, my snowman's anniversary... awesome book poor size This book is much too small Size does matter Nice cadence, catchy rhymes</td></tr>\n",
       "\t<tr><td>0006641040</td><td>150496</td><td>A3KKR87BJ0C595</td><td>Gretchen Goodfellow \"\"Lover of children's lit\"\"</td><td> 3</td><td> 3</td><td>5</td><td>1111363200</td><td><span style=white-space:pre-wrap>You'll use it once, you'll use it twice                    </span></td><td><span style=white-space:pre-wrap>One of my earliest memories is of this book.  My mother, who read to us constantly, read this one to us, and we quoted it non-stop.  In fact, that was a typical sort of soup we would beg for at the grocery because of this book!&lt;br /&gt;&lt;br /&gt;Since then, I have used the book in every class/teaching situation I have been in.  I have never met a child who did not LOVE it, and ask to be read it again and again.  It sure beats all those stupid songs you sing in preschool about the months of the year! :)  Even if you are not a Maurice Sendak fan, you will enjoy this one, because it is so original and poetic.                                                                                                                                                                                                                                                                                                                                                                                                                                                                                                                                                                                                                                                                                                                                                                                                                                                                                                                                                                                                                                                                                                                                                                                                                                                                                                                                                                                                                                                                                                                                                                                                                                                                                                                                                                                                                                                                                                                                                                                                                                                                                                                                                                                                                                                                                                                                                                                                                                                                                                                         </span></td><td>37</td><td>4.351351</td><td>Read it once. Read it twice. Reading Chicken Soup With Rice Family favorite Disappointed You'll use it once, you'll use it twice The story is great, the softcover book is disappointing A Gem of a Book Can't explain why It Was a favorite! This whole series is great way to spend time with your child Tiny little book, Wonderful little rhymes. so fun to read Chicken Soup with Rice A classic Love the book, miss the hard cover version chicken soup with rice months a good swingy rhythm for reading aloud A great way to learn the months Professional Mentoring Charming and childlike Must have. A classic Chicken soup with Rice One of our family's favorite books Darling! good for children love this book It's a great book! Great Gift This book is great! Children will find it entertaining and a generator of giggles MMMM chicken soup.... EVERY book is educational In December it will be, my snowman's anniversary... awesome book poor size This book is much too small Size does matter Nice cadence, catchy rhymes</td></tr>\n",
       "\t<tr><td>0006641040</td><td>150497</td><td>A1HKYQOFC8ZZCH</td><td><span style=white-space:pre-wrap>Maria Apolloni \"\"lanarossa\"\"                   </span></td><td> 2</td><td> 2</td><td>1</td><td>1334707200</td><td><span style=white-space:pre-wrap>The story is great, the softcover book is disappointing    </span></td><td><span style=white-space:pre-wrap>I give five stars to the Maurice Sendak story. One star for this printed edition of the book.&lt;br /&gt;My children had an older copy this book, so I was very familiar with the previous softcover version. I ordered this for my granddaughters, but I'm embarrassed to give it as a gift, it looks so puny. The book is about the size of a postcard and I think it's overpriced. I've learned my lesson: I will not be buying any more softcover children books, next time I'll get a used copy.                                                                                                                                                                                                                                                                                                                                                                                                                                                                                                                                                                                                                                                                                                                                                                                                                                                                                                                                                                                                                                                                                                                                                                                                                                                                                                                                                                                                                                                                                                                                                                                                                                                                                                                                                                                                                                                                                                                                                                                                                                                                                                                                                                                                                                                                                                                                                                                                                                                                                                                                                                                                                                                        </span></td><td>37</td><td>4.351351</td><td>Read it once. Read it twice. Reading Chicken Soup With Rice Family favorite Disappointed You'll use it once, you'll use it twice The story is great, the softcover book is disappointing A Gem of a Book Can't explain why It Was a favorite! This whole series is great way to spend time with your child Tiny little book, Wonderful little rhymes. so fun to read Chicken Soup with Rice A classic Love the book, miss the hard cover version chicken soup with rice months a good swingy rhythm for reading aloud A great way to learn the months Professional Mentoring Charming and childlike Must have. A classic Chicken soup with Rice One of our family's favorite books Darling! good for children love this book It's a great book! Great Gift This book is great! Children will find it entertaining and a generator of giggles MMMM chicken soup.... EVERY book is educational In December it will be, my snowman's anniversary... awesome book poor size This book is much too small Size does matter Nice cadence, catchy rhymes</td></tr>\n",
       "\t<tr><td>0006641040</td><td>150498</td><td>A3SJWISOCP31TR</td><td><span style=white-space:pre-wrap>R. J. Wells                                    </span></td><td> 2</td><td> 2</td><td>5</td><td>1176336000</td><td><span style=white-space:pre-wrap>A Gem of a Book                                            </span></td><td><span style=white-space:pre-wrap>This is a wonderful little book. I loved it 40 years ago and my twins love it now. They enjoy helping me finish each month by singing \"\"... chicken soup with rice!\"\"&lt;br /&gt;&lt;br /&gt;The cute drawings add to the fun -- but be warned, one of them is very un-PC! We're not in 1962 any more, Toto.                                                                                                                                                                                                                                                                                                                                                                                                                                                                                                                                                                                                                                                                                                                                                                                                                                                                                                                                                                                                                                                                                                                                                                                                                                                                                                                                                                                                                                                                                                                                                                                                                                                                                                                                                                                                                                                                                                                                                                                                                                                                                                                                                                                                                                                                                                                                                                                                                                                                                                                                                                                                                                                                                                                                                                                                                                                       </span></td><td>37</td><td>4.351351</td><td>Read it once. Read it twice. Reading Chicken Soup With Rice Family favorite Disappointed You'll use it once, you'll use it twice The story is great, the softcover book is disappointing A Gem of a Book Can't explain why It Was a favorite! This whole series is great way to spend time with your child Tiny little book, Wonderful little rhymes. so fun to read Chicken Soup with Rice A classic Love the book, miss the hard cover version chicken soup with rice months a good swingy rhythm for reading aloud A great way to learn the months Professional Mentoring Charming and childlike Must have. A classic Chicken soup with Rice One of our family's favorite books Darling! good for children love this book It's a great book! Great Gift This book is great! Children will find it entertaining and a generator of giggles MMMM chicken soup.... EVERY book is educational In December it will be, my snowman's anniversary... awesome book poor size This book is much too small Size does matter Nice cadence, catchy rhymes</td></tr>\n",
       "</tbody>\n",
       "</table>\n"
      ],
      "text/latex": [
       "A grouped_df: 6 × 13\n",
       "\\begin{tabular}{r|lllllllllllll}\n",
       " ProductId & Id & UserId & ProfileName & HelpfulnessNumerator & HelpfulnessDenominator & Score & Time & Summary & Text & count & mean\\_score & combine\\_summary\\\\\n",
       " <chr> & <int> & <chr> & <chr> & <int> & <int> & <int> & <int> & <chr> & <chr> & <int> & <dbl> & <chr>\\\\\n",
       "\\hline\n",
       "\t 0006641040 & 150493 & AMX0PJKV4PPNJ  & E. R. Bird \"\"Ramseelbird\"\"                      & 71 & 72 & 4 & 1096416000 & Read it once. Read it twice. Reading Chicken Soup With Rice & These days, when a person says, \"\"chicken soup\"\" they're probably going to follow up those words with, \"\"for the soul\"\" or maybe \"\"for the teenaged soul\"\".  Didn't used to be that way.  Why I can remember a time when if a person said, \"\"chicken soup\"\" those words were followed by an enthusiastic \"\"with rice!\"\".  Such was the power of Maurice Sendak's catchy 1962 children's book.  I am pleased to report that if you care to read this book again today, you will find it hasn't dimished a jot in terms of frolicksome fun.  In this book we are led through a whirlwind chicken soup year with our host, a boy who bears no little resemblance to Sendak's other great rhyming tale \"\"Pierre\"\" (in looks if not demeanor).  It's a catchy flouncy bouncy combo of soup and the people who love it so.<br /><br />This is ostensibly a book meant to teach your children the different months of the year.  Each month gets its own rhythmic poem and accompanying illustration.  These are fairly simple pen and ink drawings with the occasional splash of blue (in varying shades), yellow, gray, and green.  You may wonder how an author could ever hope to come up with twelve highly original soup-related poems.  I mean, honestly, how much is there to say about even the fanciest soup, let alone chicken soup with rice?  Quite a lot, as it happens.  In the cold winter months soup is supped while sliding on ice, while celebrating the birthday of a snowman, and in a gusty gale as a whale.  In the spring there's robin's nest soup, soup to cure drooping roses, and soup stolen by jealous March winds.  Our hero postulates the potential joys that could come of being a cooking pot, stewing soup or (oddly enough) as \"\"a baubled bangled Christmas tree\"\".<br /><br />Not to degrade the reading skills of parents everywhere, but I cannot recommend enough getting an audio version of this tale to accompany your child's reading.  Though I am now a wise and cultured 26 year-old (the years have been kind to me in this, my old age) I can still remember the chicken soup with rice tune.  Heck, I read this entire book recently and found I could do the song perfectly with each and every line.  Now maybe you have your own particular chicken soup with rice song style that you're just loathe to give up.  If so, fine.  I understand why you might not want to taint your already existing chicken soup melody.  But if you haven't found a jingle to accompany this book, get the audio version immediately, if not sooner.  Until you can sing \"\"Whoopy once, whoopy twice, whoopy chicken soup with rice\"\" with the correct oomph, you're missing out.<br /><br />I take my \"\"Chicken Soup With Rice\"\" readings seriously.  This book was the \"\"Chicka Chicka Boom Boom\"\" of its day, and still remains the catchiest method to teach kids the months of the year.  It is also seriously in danger of being forgotten.  So pull out your old accordion and strap on your dancing shoes.  The time for yukkin' it up to a merry dance of poultry broth is here.  It's Sendak at his finest. & 37 & 4.351351 & Read it once. Read it twice. Reading Chicken Soup With Rice Family favorite Disappointed You'll use it once, you'll use it twice The story is great, the softcover book is disappointing A Gem of a Book Can't explain why It Was a favorite! This whole series is great way to spend time with your child Tiny little book, Wonderful little rhymes. so fun to read Chicken Soup with Rice A classic Love the book, miss the hard cover version chicken soup with rice months a good swingy rhythm for reading aloud A great way to learn the months Professional Mentoring Charming and childlike Must have. A classic Chicken soup with Rice One of our family's favorite books Darling! good for children love this book It's a great book! Great Gift This book is great! Children will find it entertaining and a generator of giggles MMMM chicken soup.... EVERY book is educational In December it will be, my snowman's anniversary... awesome book poor size This book is much too small Size does matter Nice cadence, catchy rhymes\\\\\n",
       "\t 0006641040 & 150494 & AYZ0PR5QZROD1  & Mother of 3 girls                               &  3 &  3 & 5 & 1173312000 & Family favorite                                             & All of my children love this book.  My first grader got it for Christmas and loves to read the rhymes.  She is proud that she can do it herself.  (Each month her teacher works on a month from the book with the class-not that she reads independently yet.)  My girls especially enjoy reading the month they were born and singing \"\"going once, going twice, going chicken soup with rice\"\".  This book is a classic that I remember from my childhood.  I highly recommend it.  I just wish the book was a larger size.  It tends to get lost in the bookshelf among regular sized books.                                                                                                                                                                                                                                                                                                                                                                                                                                                                                                                                                                                                                                                                                                                                                                                                                                                                                                                                                                                                                                                                                                                                                                                                                                                                                                                                                                                                                                                                                                                                                                                                                                                                                                                                                                                                                                                                                                                                                                                                                                                                                                                                                                                                                                                                                                                                                                                                                                                                                                                                                         & 37 & 4.351351 & Read it once. Read it twice. Reading Chicken Soup With Rice Family favorite Disappointed You'll use it once, you'll use it twice The story is great, the softcover book is disappointing A Gem of a Book Can't explain why It Was a favorite! This whole series is great way to spend time with your child Tiny little book, Wonderful little rhymes. so fun to read Chicken Soup with Rice A classic Love the book, miss the hard cover version chicken soup with rice months a good swingy rhythm for reading aloud A great way to learn the months Professional Mentoring Charming and childlike Must have. A classic Chicken soup with Rice One of our family's favorite books Darling! good for children love this book It's a great book! Great Gift This book is great! Children will find it entertaining and a generator of giggles MMMM chicken soup.... EVERY book is educational In December it will be, my snowman's anniversary... awesome book poor size This book is much too small Size does matter Nice cadence, catchy rhymes\\\\\n",
       "\t 0006641040 & 150495 & A2QXYSXGQ2PKAU & Support for Providers                           &  3 &  3 & 3 & 1129507200 & Disappointed                                                & When I ordered a large amount of these books to share with child care providers, I was greatly disappointed in what arrived for the amount I paid. I was expecting a larger book, not the 4x5 inch book that was delivered.  It looked like something that was created off of a copy machine.                                                                                                                                                                                                                                                                                                                                                                                                                                                                                                                                                                                                                                                                                                                                                                                                                                                                                                                                                                                                                                                                                                                                                                                                                                                                                                                                                                                                                                                                                                                                                                                                                                                                                                                                                                                                                                                                                                                                                                                                                                                                                                                                                                                                                                                                                                                                                                                                                                                                                                                                                                                                                                                                                                                                                                                                                                                           & 37 & 4.351351 & Read it once. Read it twice. Reading Chicken Soup With Rice Family favorite Disappointed You'll use it once, you'll use it twice The story is great, the softcover book is disappointing A Gem of a Book Can't explain why It Was a favorite! This whole series is great way to spend time with your child Tiny little book, Wonderful little rhymes. so fun to read Chicken Soup with Rice A classic Love the book, miss the hard cover version chicken soup with rice months a good swingy rhythm for reading aloud A great way to learn the months Professional Mentoring Charming and childlike Must have. A classic Chicken soup with Rice One of our family's favorite books Darling! good for children love this book It's a great book! Great Gift This book is great! Children will find it entertaining and a generator of giggles MMMM chicken soup.... EVERY book is educational In December it will be, my snowman's anniversary... awesome book poor size This book is much too small Size does matter Nice cadence, catchy rhymes\\\\\n",
       "\t 0006641040 & 150496 & A3KKR87BJ0C595 & Gretchen Goodfellow \"\"Lover of children's lit\"\" &  3 &  3 & 5 & 1111363200 & You'll use it once, you'll use it twice                     & One of my earliest memories is of this book.  My mother, who read to us constantly, read this one to us, and we quoted it non-stop.  In fact, that was a typical sort of soup we would beg for at the grocery because of this book!<br /><br />Since then, I have used the book in every class/teaching situation I have been in.  I have never met a child who did not LOVE it, and ask to be read it again and again.  It sure beats all those stupid songs you sing in preschool about the months of the year! :)  Even if you are not a Maurice Sendak fan, you will enjoy this one, because it is so original and poetic.                                                                                                                                                                                                                                                                                                                                                                                                                                                                                                                                                                                                                                                                                                                                                                                                                                                                                                                                                                                                                                                                                                                                                                                                                                                                                                                                                                                                                                                                                                                                                                                                                                                                                                                                                                                                                                                                                                                                                                                                                                                                                                                                                                                                                                                                                                                                                                                                                                                                                                                          & 37 & 4.351351 & Read it once. Read it twice. Reading Chicken Soup With Rice Family favorite Disappointed You'll use it once, you'll use it twice The story is great, the softcover book is disappointing A Gem of a Book Can't explain why It Was a favorite! This whole series is great way to spend time with your child Tiny little book, Wonderful little rhymes. so fun to read Chicken Soup with Rice A classic Love the book, miss the hard cover version chicken soup with rice months a good swingy rhythm for reading aloud A great way to learn the months Professional Mentoring Charming and childlike Must have. A classic Chicken soup with Rice One of our family's favorite books Darling! good for children love this book It's a great book! Great Gift This book is great! Children will find it entertaining and a generator of giggles MMMM chicken soup.... EVERY book is educational In December it will be, my snowman's anniversary... awesome book poor size This book is much too small Size does matter Nice cadence, catchy rhymes\\\\\n",
       "\t 0006641040 & 150497 & A1HKYQOFC8ZZCH & Maria Apolloni \"\"lanarossa\"\"                    &  2 &  2 & 1 & 1334707200 & The story is great, the softcover book is disappointing     & I give five stars to the Maurice Sendak story. One star for this printed edition of the book.<br />My children had an older copy this book, so I was very familiar with the previous softcover version. I ordered this for my granddaughters, but I'm embarrassed to give it as a gift, it looks so puny. The book is about the size of a postcard and I think it's overpriced. I've learned my lesson: I will not be buying any more softcover children books, next time I'll get a used copy.                                                                                                                                                                                                                                                                                                                                                                                                                                                                                                                                                                                                                                                                                                                                                                                                                                                                                                                                                                                                                                                                                                                                                                                                                                                                                                                                                                                                                                                                                                                                                                                                                                                                                                                                                                                                                                                                                                                                                                                                                                                                                                                                                                                                                                                                                                                                                                                                                                                                                                                                                                                                                                                         & 37 & 4.351351 & Read it once. Read it twice. Reading Chicken Soup With Rice Family favorite Disappointed You'll use it once, you'll use it twice The story is great, the softcover book is disappointing A Gem of a Book Can't explain why It Was a favorite! This whole series is great way to spend time with your child Tiny little book, Wonderful little rhymes. so fun to read Chicken Soup with Rice A classic Love the book, miss the hard cover version chicken soup with rice months a good swingy rhythm for reading aloud A great way to learn the months Professional Mentoring Charming and childlike Must have. A classic Chicken soup with Rice One of our family's favorite books Darling! good for children love this book It's a great book! Great Gift This book is great! Children will find it entertaining and a generator of giggles MMMM chicken soup.... EVERY book is educational In December it will be, my snowman's anniversary... awesome book poor size This book is much too small Size does matter Nice cadence, catchy rhymes\\\\\n",
       "\t 0006641040 & 150498 & A3SJWISOCP31TR & R. J. Wells                                     &  2 &  2 & 5 & 1176336000 & A Gem of a Book                                             & This is a wonderful little book. I loved it 40 years ago and my twins love it now. They enjoy helping me finish each month by singing \"\"... chicken soup with rice!\"\"<br /><br />The cute drawings add to the fun -- but be warned, one of them is very un-PC! We're not in 1962 any more, Toto.                                                                                                                                                                                                                                                                                                                                                                                                                                                                                                                                                                                                                                                                                                                                                                                                                                                                                                                                                                                                                                                                                                                                                                                                                                                                                                                                                                                                                                                                                                                                                                                                                                                                                                                                                                                                                                                                                                                                                                                                                                                                                                                                                                                                                                                                                                                                                                                                                                                                                                                                                                                                                                                                                                                                                                                                                                                        & 37 & 4.351351 & Read it once. Read it twice. Reading Chicken Soup With Rice Family favorite Disappointed You'll use it once, you'll use it twice The story is great, the softcover book is disappointing A Gem of a Book Can't explain why It Was a favorite! This whole series is great way to spend time with your child Tiny little book, Wonderful little rhymes. so fun to read Chicken Soup with Rice A classic Love the book, miss the hard cover version chicken soup with rice months a good swingy rhythm for reading aloud A great way to learn the months Professional Mentoring Charming and childlike Must have. A classic Chicken soup with Rice One of our family's favorite books Darling! good for children love this book It's a great book! Great Gift This book is great! Children will find it entertaining and a generator of giggles MMMM chicken soup.... EVERY book is educational In December it will be, my snowman's anniversary... awesome book poor size This book is much too small Size does matter Nice cadence, catchy rhymes\\\\\n",
       "\\end{tabular}\n"
      ],
      "text/markdown": [
       "\n",
       "A grouped_df: 6 × 13\n",
       "\n",
       "| ProductId &lt;chr&gt; | Id &lt;int&gt; | UserId &lt;chr&gt; | ProfileName &lt;chr&gt; | HelpfulnessNumerator &lt;int&gt; | HelpfulnessDenominator &lt;int&gt; | Score &lt;int&gt; | Time &lt;int&gt; | Summary &lt;chr&gt; | Text &lt;chr&gt; | count &lt;int&gt; | mean_score &lt;dbl&gt; | combine_summary &lt;chr&gt; |\n",
       "|---|---|---|---|---|---|---|---|---|---|---|---|---|\n",
       "| 0006641040 | 150493 | AMX0PJKV4PPNJ  | E. R. Bird \"\"Ramseelbird\"\"                      | 71 | 72 | 4 | 1096416000 | Read it once. Read it twice. Reading Chicken Soup With Rice | These days, when a person says, \"\"chicken soup\"\" they're probably going to follow up those words with, \"\"for the soul\"\" or maybe \"\"for the teenaged soul\"\".  Didn't used to be that way.  Why I can remember a time when if a person said, \"\"chicken soup\"\" those words were followed by an enthusiastic \"\"with rice!\"\".  Such was the power of Maurice Sendak's catchy 1962 children's book.  I am pleased to report that if you care to read this book again today, you will find it hasn't dimished a jot in terms of frolicksome fun.  In this book we are led through a whirlwind chicken soup year with our host, a boy who bears no little resemblance to Sendak's other great rhyming tale \"\"Pierre\"\" (in looks if not demeanor).  It's a catchy flouncy bouncy combo of soup and the people who love it so.&lt;br /&gt;&lt;br /&gt;This is ostensibly a book meant to teach your children the different months of the year.  Each month gets its own rhythmic poem and accompanying illustration.  These are fairly simple pen and ink drawings with the occasional splash of blue (in varying shades), yellow, gray, and green.  You may wonder how an author could ever hope to come up with twelve highly original soup-related poems.  I mean, honestly, how much is there to say about even the fanciest soup, let alone chicken soup with rice?  Quite a lot, as it happens.  In the cold winter months soup is supped while sliding on ice, while celebrating the birthday of a snowman, and in a gusty gale as a whale.  In the spring there's robin's nest soup, soup to cure drooping roses, and soup stolen by jealous March winds.  Our hero postulates the potential joys that could come of being a cooking pot, stewing soup or (oddly enough) as \"\"a baubled bangled Christmas tree\"\".&lt;br /&gt;&lt;br /&gt;Not to degrade the reading skills of parents everywhere, but I cannot recommend enough getting an audio version of this tale to accompany your child's reading.  Though I am now a wise and cultured 26 year-old (the years have been kind to me in this, my old age) I can still remember the chicken soup with rice tune.  Heck, I read this entire book recently and found I could do the song perfectly with each and every line.  Now maybe you have your own particular chicken soup with rice song style that you're just loathe to give up.  If so, fine.  I understand why you might not want to taint your already existing chicken soup melody.  But if you haven't found a jingle to accompany this book, get the audio version immediately, if not sooner.  Until you can sing \"\"Whoopy once, whoopy twice, whoopy chicken soup with rice\"\" with the correct oomph, you're missing out.&lt;br /&gt;&lt;br /&gt;I take my \"\"Chicken Soup With Rice\"\" readings seriously.  This book was the \"\"Chicka Chicka Boom Boom\"\" of its day, and still remains the catchiest method to teach kids the months of the year.  It is also seriously in danger of being forgotten.  So pull out your old accordion and strap on your dancing shoes.  The time for yukkin' it up to a merry dance of poultry broth is here.  It's Sendak at his finest. | 37 | 4.351351 | Read it once. Read it twice. Reading Chicken Soup With Rice Family favorite Disappointed You'll use it once, you'll use it twice The story is great, the softcover book is disappointing A Gem of a Book Can't explain why It Was a favorite! This whole series is great way to spend time with your child Tiny little book, Wonderful little rhymes. so fun to read Chicken Soup with Rice A classic Love the book, miss the hard cover version chicken soup with rice months a good swingy rhythm for reading aloud A great way to learn the months Professional Mentoring Charming and childlike Must have. A classic Chicken soup with Rice One of our family's favorite books Darling! good for children love this book It's a great book! Great Gift This book is great! Children will find it entertaining and a generator of giggles MMMM chicken soup.... EVERY book is educational In December it will be, my snowman's anniversary... awesome book poor size This book is much too small Size does matter Nice cadence, catchy rhymes |\n",
       "| 0006641040 | 150494 | AYZ0PR5QZROD1  | Mother of 3 girls                               |  3 |  3 | 5 | 1173312000 | Family favorite                                             | All of my children love this book.  My first grader got it for Christmas and loves to read the rhymes.  She is proud that she can do it herself.  (Each month her teacher works on a month from the book with the class-not that she reads independently yet.)  My girls especially enjoy reading the month they were born and singing \"\"going once, going twice, going chicken soup with rice\"\".  This book is a classic that I remember from my childhood.  I highly recommend it.  I just wish the book was a larger size.  It tends to get lost in the bookshelf among regular sized books.                                                                                                                                                                                                                                                                                                                                                                                                                                                                                                                                                                                                                                                                                                                                                                                                                                                                                                                                                                                                                                                                                                                                                                                                                                                                                                                                                                                                                                                                                                                                                                                                                                                                                                                                                                                                                                                                                                                                                                                                                                                                                                                                                                                                                                                                                                                                                                                                                                                                                                                                                         | 37 | 4.351351 | Read it once. Read it twice. Reading Chicken Soup With Rice Family favorite Disappointed You'll use it once, you'll use it twice The story is great, the softcover book is disappointing A Gem of a Book Can't explain why It Was a favorite! This whole series is great way to spend time with your child Tiny little book, Wonderful little rhymes. so fun to read Chicken Soup with Rice A classic Love the book, miss the hard cover version chicken soup with rice months a good swingy rhythm for reading aloud A great way to learn the months Professional Mentoring Charming and childlike Must have. A classic Chicken soup with Rice One of our family's favorite books Darling! good for children love this book It's a great book! Great Gift This book is great! Children will find it entertaining and a generator of giggles MMMM chicken soup.... EVERY book is educational In December it will be, my snowman's anniversary... awesome book poor size This book is much too small Size does matter Nice cadence, catchy rhymes |\n",
       "| 0006641040 | 150495 | A2QXYSXGQ2PKAU | Support for Providers                           |  3 |  3 | 3 | 1129507200 | Disappointed                                                | When I ordered a large amount of these books to share with child care providers, I was greatly disappointed in what arrived for the amount I paid. I was expecting a larger book, not the 4x5 inch book that was delivered.  It looked like something that was created off of a copy machine.                                                                                                                                                                                                                                                                                                                                                                                                                                                                                                                                                                                                                                                                                                                                                                                                                                                                                                                                                                                                                                                                                                                                                                                                                                                                                                                                                                                                                                                                                                                                                                                                                                                                                                                                                                                                                                                                                                                                                                                                                                                                                                                                                                                                                                                                                                                                                                                                                                                                                                                                                                                                                                                                                                                                                                                                                                                           | 37 | 4.351351 | Read it once. Read it twice. Reading Chicken Soup With Rice Family favorite Disappointed You'll use it once, you'll use it twice The story is great, the softcover book is disappointing A Gem of a Book Can't explain why It Was a favorite! This whole series is great way to spend time with your child Tiny little book, Wonderful little rhymes. so fun to read Chicken Soup with Rice A classic Love the book, miss the hard cover version chicken soup with rice months a good swingy rhythm for reading aloud A great way to learn the months Professional Mentoring Charming and childlike Must have. A classic Chicken soup with Rice One of our family's favorite books Darling! good for children love this book It's a great book! Great Gift This book is great! Children will find it entertaining and a generator of giggles MMMM chicken soup.... EVERY book is educational In December it will be, my snowman's anniversary... awesome book poor size This book is much too small Size does matter Nice cadence, catchy rhymes |\n",
       "| 0006641040 | 150496 | A3KKR87BJ0C595 | Gretchen Goodfellow \"\"Lover of children's lit\"\" |  3 |  3 | 5 | 1111363200 | You'll use it once, you'll use it twice                     | One of my earliest memories is of this book.  My mother, who read to us constantly, read this one to us, and we quoted it non-stop.  In fact, that was a typical sort of soup we would beg for at the grocery because of this book!&lt;br /&gt;&lt;br /&gt;Since then, I have used the book in every class/teaching situation I have been in.  I have never met a child who did not LOVE it, and ask to be read it again and again.  It sure beats all those stupid songs you sing in preschool about the months of the year! :)  Even if you are not a Maurice Sendak fan, you will enjoy this one, because it is so original and poetic.                                                                                                                                                                                                                                                                                                                                                                                                                                                                                                                                                                                                                                                                                                                                                                                                                                                                                                                                                                                                                                                                                                                                                                                                                                                                                                                                                                                                                                                                                                                                                                                                                                                                                                                                                                                                                                                                                                                                                                                                                                                                                                                                                                                                                                                                                                                                                                                                                                                                                                                          | 37 | 4.351351 | Read it once. Read it twice. Reading Chicken Soup With Rice Family favorite Disappointed You'll use it once, you'll use it twice The story is great, the softcover book is disappointing A Gem of a Book Can't explain why It Was a favorite! This whole series is great way to spend time with your child Tiny little book, Wonderful little rhymes. so fun to read Chicken Soup with Rice A classic Love the book, miss the hard cover version chicken soup with rice months a good swingy rhythm for reading aloud A great way to learn the months Professional Mentoring Charming and childlike Must have. A classic Chicken soup with Rice One of our family's favorite books Darling! good for children love this book It's a great book! Great Gift This book is great! Children will find it entertaining and a generator of giggles MMMM chicken soup.... EVERY book is educational In December it will be, my snowman's anniversary... awesome book poor size This book is much too small Size does matter Nice cadence, catchy rhymes |\n",
       "| 0006641040 | 150497 | A1HKYQOFC8ZZCH | Maria Apolloni \"\"lanarossa\"\"                    |  2 |  2 | 1 | 1334707200 | The story is great, the softcover book is disappointing     | I give five stars to the Maurice Sendak story. One star for this printed edition of the book.&lt;br /&gt;My children had an older copy this book, so I was very familiar with the previous softcover version. I ordered this for my granddaughters, but I'm embarrassed to give it as a gift, it looks so puny. The book is about the size of a postcard and I think it's overpriced. I've learned my lesson: I will not be buying any more softcover children books, next time I'll get a used copy.                                                                                                                                                                                                                                                                                                                                                                                                                                                                                                                                                                                                                                                                                                                                                                                                                                                                                                                                                                                                                                                                                                                                                                                                                                                                                                                                                                                                                                                                                                                                                                                                                                                                                                                                                                                                                                                                                                                                                                                                                                                                                                                                                                                                                                                                                                                                                                                                                                                                                                                                                                                                                                                         | 37 | 4.351351 | Read it once. Read it twice. Reading Chicken Soup With Rice Family favorite Disappointed You'll use it once, you'll use it twice The story is great, the softcover book is disappointing A Gem of a Book Can't explain why It Was a favorite! This whole series is great way to spend time with your child Tiny little book, Wonderful little rhymes. so fun to read Chicken Soup with Rice A classic Love the book, miss the hard cover version chicken soup with rice months a good swingy rhythm for reading aloud A great way to learn the months Professional Mentoring Charming and childlike Must have. A classic Chicken soup with Rice One of our family's favorite books Darling! good for children love this book It's a great book! Great Gift This book is great! Children will find it entertaining and a generator of giggles MMMM chicken soup.... EVERY book is educational In December it will be, my snowman's anniversary... awesome book poor size This book is much too small Size does matter Nice cadence, catchy rhymes |\n",
       "| 0006641040 | 150498 | A3SJWISOCP31TR | R. J. Wells                                     |  2 |  2 | 5 | 1176336000 | A Gem of a Book                                             | This is a wonderful little book. I loved it 40 years ago and my twins love it now. They enjoy helping me finish each month by singing \"\"... chicken soup with rice!\"\"&lt;br /&gt;&lt;br /&gt;The cute drawings add to the fun -- but be warned, one of them is very un-PC! We're not in 1962 any more, Toto.                                                                                                                                                                                                                                                                                                                                                                                                                                                                                                                                                                                                                                                                                                                                                                                                                                                                                                                                                                                                                                                                                                                                                                                                                                                                                                                                                                                                                                                                                                                                                                                                                                                                                                                                                                                                                                                                                                                                                                                                                                                                                                                                                                                                                                                                                                                                                                                                                                                                                                                                                                                                                                                                                                                                                                                                                                                        | 37 | 4.351351 | Read it once. Read it twice. Reading Chicken Soup With Rice Family favorite Disappointed You'll use it once, you'll use it twice The story is great, the softcover book is disappointing A Gem of a Book Can't explain why It Was a favorite! This whole series is great way to spend time with your child Tiny little book, Wonderful little rhymes. so fun to read Chicken Soup with Rice A classic Love the book, miss the hard cover version chicken soup with rice months a good swingy rhythm for reading aloud A great way to learn the months Professional Mentoring Charming and childlike Must have. A classic Chicken soup with Rice One of our family's favorite books Darling! good for children love this book It's a great book! Great Gift This book is great! Children will find it entertaining and a generator of giggles MMMM chicken soup.... EVERY book is educational In December it will be, my snowman's anniversary... awesome book poor size This book is much too small Size does matter Nice cadence, catchy rhymes |\n",
       "\n"
      ],
      "text/plain": [
       "  ProductId  Id     UserId        \n",
       "1 0006641040 150493 AMX0PJKV4PPNJ \n",
       "2 0006641040 150494 AYZ0PR5QZROD1 \n",
       "3 0006641040 150495 A2QXYSXGQ2PKAU\n",
       "4 0006641040 150496 A3KKR87BJ0C595\n",
       "5 0006641040 150497 A1HKYQOFC8ZZCH\n",
       "6 0006641040 150498 A3SJWISOCP31TR\n",
       "  ProfileName                                     HelpfulnessNumerator\n",
       "1 E. R. Bird \"\"Ramseelbird\"\"                      71                  \n",
       "2 Mother of 3 girls                                3                  \n",
       "3 Support for Providers                            3                  \n",
       "4 Gretchen Goodfellow \"\"Lover of children's lit\"\"  3                  \n",
       "5 Maria Apolloni \"\"lanarossa\"\"                     2                  \n",
       "6 R. J. Wells                                      2                  \n",
       "  HelpfulnessDenominator Score Time      \n",
       "1 72                     4     1096416000\n",
       "2  3                     5     1173312000\n",
       "3  3                     3     1129507200\n",
       "4  3                     5     1111363200\n",
       "5  2                     1     1334707200\n",
       "6  2                     5     1176336000\n",
       "  Summary                                                    \n",
       "1 Read it once. Read it twice. Reading Chicken Soup With Rice\n",
       "2 Family favorite                                            \n",
       "3 Disappointed                                               \n",
       "4 You'll use it once, you'll use it twice                    \n",
       "5 The story is great, the softcover book is disappointing    \n",
       "6 A Gem of a Book                                            \n",
       "  Text                                                                                                                                                                                                                                                                                                                                                                                                                                                                                                                                                                                                                                                                                                                                                                                                                                                                                                                                                                                                                                                                                                                                                                                                                                                                                                                                                                                                                                                                                                                                                                                                                                                                                                                                                                                                                                                                                                                                                                                                                                                                                                                                                                                                                                                                                                                                                                                                                                                                                                                                                                                                                                                                                                                                                                                                                                                                                                                                                                                                                                                                                                                                                   \n",
       "1 These days, when a person says, \"\"chicken soup\"\" they're probably going to follow up those words with, \"\"for the soul\"\" or maybe \"\"for the teenaged soul\"\".  Didn't used to be that way.  Why I can remember a time when if a person said, \"\"chicken soup\"\" those words were followed by an enthusiastic \"\"with rice!\"\".  Such was the power of Maurice Sendak's catchy 1962 children's book.  I am pleased to report that if you care to read this book again today, you will find it hasn't dimished a jot in terms of frolicksome fun.  In this book we are led through a whirlwind chicken soup year with our host, a boy who bears no little resemblance to Sendak's other great rhyming tale \"\"Pierre\"\" (in looks if not demeanor).  It's a catchy flouncy bouncy combo of soup and the people who love it so.<br /><br />This is ostensibly a book meant to teach your children the different months of the year.  Each month gets its own rhythmic poem and accompanying illustration.  These are fairly simple pen and ink drawings with the occasional splash of blue (in varying shades), yellow, gray, and green.  You may wonder how an author could ever hope to come up with twelve highly original soup-related poems.  I mean, honestly, how much is there to say about even the fanciest soup, let alone chicken soup with rice?  Quite a lot, as it happens.  In the cold winter months soup is supped while sliding on ice, while celebrating the birthday of a snowman, and in a gusty gale as a whale.  In the spring there's robin's nest soup, soup to cure drooping roses, and soup stolen by jealous March winds.  Our hero postulates the potential joys that could come of being a cooking pot, stewing soup or (oddly enough) as \"\"a baubled bangled Christmas tree\"\".<br /><br />Not to degrade the reading skills of parents everywhere, but I cannot recommend enough getting an audio version of this tale to accompany your child's reading.  Though I am now a wise and cultured 26 year-old (the years have been kind to me in this, my old age) I can still remember the chicken soup with rice tune.  Heck, I read this entire book recently and found I could do the song perfectly with each and every line.  Now maybe you have your own particular chicken soup with rice song style that you're just loathe to give up.  If so, fine.  I understand why you might not want to taint your already existing chicken soup melody.  But if you haven't found a jingle to accompany this book, get the audio version immediately, if not sooner.  Until you can sing \"\"Whoopy once, whoopy twice, whoopy chicken soup with rice\"\" with the correct oomph, you're missing out.<br /><br />I take my \"\"Chicken Soup With Rice\"\" readings seriously.  This book was the \"\"Chicka Chicka Boom Boom\"\" of its day, and still remains the catchiest method to teach kids the months of the year.  It is also seriously in danger of being forgotten.  So pull out your old accordion and strap on your dancing shoes.  The time for yukkin' it up to a merry dance of poultry broth is here.  It's Sendak at his finest.\n",
       "2 All of my children love this book.  My first grader got it for Christmas and loves to read the rhymes.  She is proud that she can do it herself.  (Each month her teacher works on a month from the book with the class-not that she reads independently yet.)  My girls especially enjoy reading the month they were born and singing \"\"going once, going twice, going chicken soup with rice\"\".  This book is a classic that I remember from my childhood.  I highly recommend it.  I just wish the book was a larger size.  It tends to get lost in the bookshelf among regular sized books.                                                                                                                                                                                                                                                                                                                                                                                                                                                                                                                                                                                                                                                                                                                                                                                                                                                                                                                                                                                                                                                                                                                                                                                                                                                                                                                                                                                                                                                                                                                                                                                                                                                                                                                                                                                                                                                                                                                                                                                                                                                                                                                                                                                                                                                                                                                                                                                                                                                                                                                                                        \n",
       "3 When I ordered a large amount of these books to share with child care providers, I was greatly disappointed in what arrived for the amount I paid. I was expecting a larger book, not the 4x5 inch book that was delivered.  It looked like something that was created off of a copy machine.                                                                                                                                                                                                                                                                                                                                                                                                                                                                                                                                                                                                                                                                                                                                                                                                                                                                                                                                                                                                                                                                                                                                                                                                                                                                                                                                                                                                                                                                                                                                                                                                                                                                                                                                                                                                                                                                                                                                                                                                                                                                                                                                                                                                                                                                                                                                                                                                                                                                                                                                                                                                                                                                                                                                                                                                                                                          \n",
       "4 One of my earliest memories is of this book.  My mother, who read to us constantly, read this one to us, and we quoted it non-stop.  In fact, that was a typical sort of soup we would beg for at the grocery because of this book!<br /><br />Since then, I have used the book in every class/teaching situation I have been in.  I have never met a child who did not LOVE it, and ask to be read it again and again.  It sure beats all those stupid songs you sing in preschool about the months of the year! :)  Even if you are not a Maurice Sendak fan, you will enjoy this one, because it is so original and poetic.                                                                                                                                                                                                                                                                                                                                                                                                                                                                                                                                                                                                                                                                                                                                                                                                                                                                                                                                                                                                                                                                                                                                                                                                                                                                                                                                                                                                                                                                                                                                                                                                                                                                                                                                                                                                                                                                                                                                                                                                                                                                                                                                                                                                                                                                                                                                                                                                                                                                                                                         \n",
       "5 I give five stars to the Maurice Sendak story. One star for this printed edition of the book.<br />My children had an older copy this book, so I was very familiar with the previous softcover version. I ordered this for my granddaughters, but I'm embarrassed to give it as a gift, it looks so puny. The book is about the size of a postcard and I think it's overpriced. I've learned my lesson: I will not be buying any more softcover children books, next time I'll get a used copy.                                                                                                                                                                                                                                                                                                                                                                                                                                                                                                                                                                                                                                                                                                                                                                                                                                                                                                                                                                                                                                                                                                                                                                                                                                                                                                                                                                                                                                                                                                                                                                                                                                                                                                                                                                                                                                                                                                                                                                                                                                                                                                                                                                                                                                                                                                                                                                                                                                                                                                                                                                                                                                                        \n",
       "6 This is a wonderful little book. I loved it 40 years ago and my twins love it now. They enjoy helping me finish each month by singing \"\"... chicken soup with rice!\"\"<br /><br />The cute drawings add to the fun -- but be warned, one of them is very un-PC! We're not in 1962 any more, Toto.                                                                                                                                                                                                                                                                                                                                                                                                                                                                                                                                                                                                                                                                                                                                                                                                                                                                                                                                                                                                                                                                                                                                                                                                                                                                                                                                                                                                                                                                                                                                                                                                                                                                                                                                                                                                                                                                                                                                                                                                                                                                                                                                                                                                                                                                                                                                                                                                                                                                                                                                                                                                                                                                                                                                                                                                                                                       \n",
       "  count mean_score\n",
       "1 37    4.351351  \n",
       "2 37    4.351351  \n",
       "3 37    4.351351  \n",
       "4 37    4.351351  \n",
       "5 37    4.351351  \n",
       "6 37    4.351351  \n",
       "  combine_summary                                                                                                                                                                                                                                                                                                                                                                                                                                                                                                                                                                                                                                                                                                                                                                                                                                                                                                                                                                                                                                 \n",
       "1 Read it once. Read it twice. Reading Chicken Soup With Rice Family favorite Disappointed You'll use it once, you'll use it twice The story is great, the softcover book is disappointing A Gem of a Book Can't explain why It Was a favorite! This whole series is great way to spend time with your child Tiny little book, Wonderful little rhymes. so fun to read Chicken Soup with Rice A classic Love the book, miss the hard cover version chicken soup with rice months a good swingy rhythm for reading aloud A great way to learn the months Professional Mentoring Charming and childlike Must have. A classic Chicken soup with Rice One of our family's favorite books Darling! good for children love this book It's a great book! Great Gift This book is great! Children will find it entertaining and a generator of giggles MMMM chicken soup.... EVERY book is educational In December it will be, my snowman's anniversary... awesome book poor size This book is much too small Size does matter Nice cadence, catchy rhymes\n",
       "2 Read it once. Read it twice. Reading Chicken Soup With Rice Family favorite Disappointed You'll use it once, you'll use it twice The story is great, the softcover book is disappointing A Gem of a Book Can't explain why It Was a favorite! This whole series is great way to spend time with your child Tiny little book, Wonderful little rhymes. so fun to read Chicken Soup with Rice A classic Love the book, miss the hard cover version chicken soup with rice months a good swingy rhythm for reading aloud A great way to learn the months Professional Mentoring Charming and childlike Must have. A classic Chicken soup with Rice One of our family's favorite books Darling! good for children love this book It's a great book! Great Gift This book is great! Children will find it entertaining and a generator of giggles MMMM chicken soup.... EVERY book is educational In December it will be, my snowman's anniversary... awesome book poor size This book is much too small Size does matter Nice cadence, catchy rhymes\n",
       "3 Read it once. Read it twice. Reading Chicken Soup With Rice Family favorite Disappointed You'll use it once, you'll use it twice The story is great, the softcover book is disappointing A Gem of a Book Can't explain why It Was a favorite! This whole series is great way to spend time with your child Tiny little book, Wonderful little rhymes. so fun to read Chicken Soup with Rice A classic Love the book, miss the hard cover version chicken soup with rice months a good swingy rhythm for reading aloud A great way to learn the months Professional Mentoring Charming and childlike Must have. A classic Chicken soup with Rice One of our family's favorite books Darling! good for children love this book It's a great book! Great Gift This book is great! Children will find it entertaining and a generator of giggles MMMM chicken soup.... EVERY book is educational In December it will be, my snowman's anniversary... awesome book poor size This book is much too small Size does matter Nice cadence, catchy rhymes\n",
       "4 Read it once. Read it twice. Reading Chicken Soup With Rice Family favorite Disappointed You'll use it once, you'll use it twice The story is great, the softcover book is disappointing A Gem of a Book Can't explain why It Was a favorite! This whole series is great way to spend time with your child Tiny little book, Wonderful little rhymes. so fun to read Chicken Soup with Rice A classic Love the book, miss the hard cover version chicken soup with rice months a good swingy rhythm for reading aloud A great way to learn the months Professional Mentoring Charming and childlike Must have. A classic Chicken soup with Rice One of our family's favorite books Darling! good for children love this book It's a great book! Great Gift This book is great! Children will find it entertaining and a generator of giggles MMMM chicken soup.... EVERY book is educational In December it will be, my snowman's anniversary... awesome book poor size This book is much too small Size does matter Nice cadence, catchy rhymes\n",
       "5 Read it once. Read it twice. Reading Chicken Soup With Rice Family favorite Disappointed You'll use it once, you'll use it twice The story is great, the softcover book is disappointing A Gem of a Book Can't explain why It Was a favorite! This whole series is great way to spend time with your child Tiny little book, Wonderful little rhymes. so fun to read Chicken Soup with Rice A classic Love the book, miss the hard cover version chicken soup with rice months a good swingy rhythm for reading aloud A great way to learn the months Professional Mentoring Charming and childlike Must have. A classic Chicken soup with Rice One of our family's favorite books Darling! good for children love this book It's a great book! Great Gift This book is great! Children will find it entertaining and a generator of giggles MMMM chicken soup.... EVERY book is educational In December it will be, my snowman's anniversary... awesome book poor size This book is much too small Size does matter Nice cadence, catchy rhymes\n",
       "6 Read it once. Read it twice. Reading Chicken Soup With Rice Family favorite Disappointed You'll use it once, you'll use it twice The story is great, the softcover book is disappointing A Gem of a Book Can't explain why It Was a favorite! This whole series is great way to spend time with your child Tiny little book, Wonderful little rhymes. so fun to read Chicken Soup with Rice A classic Love the book, miss the hard cover version chicken soup with rice months a good swingy rhythm for reading aloud A great way to learn the months Professional Mentoring Charming and childlike Must have. A classic Chicken soup with Rice One of our family's favorite books Darling! good for children love this book It's a great book! Great Gift This book is great! Children will find it entertaining and a generator of giggles MMMM chicken soup.... EVERY book is educational In December it will be, my snowman's anniversary... awesome book poor size This book is much too small Size does matter Nice cadence, catchy rhymes"
      ]
     },
     "metadata": {},
     "output_type": "display_data"
    }
   ],
   "source": [
    "head(reviews3)"
   ]
  },
  {
   "cell_type": "code",
   "execution_count": 17,
   "metadata": {},
   "outputs": [
    {
     "data": {
      "text/html": [
       "63857"
      ],
      "text/latex": [
       "63857"
      ],
      "text/markdown": [
       "63857"
      ],
      "text/plain": [
       "[1] 63857"
      ]
     },
     "metadata": {},
     "output_type": "display_data"
    },
    {
     "data": {
      "text/html": [
       "74258"
      ],
      "text/latex": [
       "74258"
      ],
      "text/markdown": [
       "74258"
      ],
      "text/plain": [
       "[1] 74258"
      ]
     },
     "metadata": {},
     "output_type": "display_data"
    }
   ],
   "source": [
    "# check lengths\n",
    "length(unique(reviews3$combine_summary))\n",
    "length(unique(reviews3$ProductId))"
   ]
  },
  {
   "cell_type": "code",
   "execution_count": 18,
   "metadata": {},
   "outputs": [
    {
     "data": {
      "text/html": [
       "32"
      ],
      "text/latex": [
       "32"
      ],
      "text/markdown": [
       "32"
      ],
      "text/plain": [
       "[1] 32"
      ]
     },
     "metadata": {},
     "output_type": "display_data"
    }
   ],
   "source": [
    "#median count of product\n",
    "median_count <- median(reviews2$count)\n",
    "median_count"
   ]
  },
  {
   "cell_type": "code",
   "execution_count": 19,
   "metadata": {},
   "outputs": [],
   "source": [
    "#only keep product with more than median reviews\n",
    "review_final <- reviews3 %>%\n",
    "    filter(count >= median_count)\n",
    "    "
   ]
  },
  {
   "cell_type": "code",
   "execution_count": 20,
   "metadata": {},
   "outputs": [],
   "source": [
    "# select only ProductId, UserId, Score\n",
    "review_final <- review_final[,c(3,1,7)]"
   ]
  },
  {
   "cell_type": "code",
   "execution_count": 21,
   "metadata": {},
   "outputs": [],
   "source": [
    "# remove duplicated UsedId and ProductId\n",
    "review_final <- review_final[!duplicated(review_final[,c(1,2)]),]"
   ]
  },
  {
   "cell_type": "code",
   "execution_count": 22,
   "metadata": {},
   "outputs": [
    {
     "data": {
      "text/html": [
       "<table>\n",
       "<caption>A grouped_df: 6 × 3</caption>\n",
       "<thead>\n",
       "\t<tr><th scope=col>UserId</th><th scope=col>ProductId</th><th scope=col>Score</th></tr>\n",
       "\t<tr><th scope=col>&lt;chr&gt;</th><th scope=col>&lt;chr&gt;</th><th scope=col>&lt;int&gt;</th></tr>\n",
       "</thead>\n",
       "<tbody>\n",
       "\t<tr><td>AMX0PJKV4PPNJ </td><td>0006641040</td><td>4</td></tr>\n",
       "\t<tr><td>AYZ0PR5QZROD1 </td><td>0006641040</td><td>5</td></tr>\n",
       "\t<tr><td>A2QXYSXGQ2PKAU</td><td>0006641040</td><td>3</td></tr>\n",
       "\t<tr><td>A3KKR87BJ0C595</td><td>0006641040</td><td>5</td></tr>\n",
       "\t<tr><td>A1HKYQOFC8ZZCH</td><td>0006641040</td><td>1</td></tr>\n",
       "\t<tr><td>A3SJWISOCP31TR</td><td>0006641040</td><td>5</td></tr>\n",
       "</tbody>\n",
       "</table>\n"
      ],
      "text/latex": [
       "A grouped_df: 6 × 3\n",
       "\\begin{tabular}{r|lll}\n",
       " UserId & ProductId & Score\\\\\n",
       " <chr> & <chr> & <int>\\\\\n",
       "\\hline\n",
       "\t AMX0PJKV4PPNJ  & 0006641040 & 4\\\\\n",
       "\t AYZ0PR5QZROD1  & 0006641040 & 5\\\\\n",
       "\t A2QXYSXGQ2PKAU & 0006641040 & 3\\\\\n",
       "\t A3KKR87BJ0C595 & 0006641040 & 5\\\\\n",
       "\t A1HKYQOFC8ZZCH & 0006641040 & 1\\\\\n",
       "\t A3SJWISOCP31TR & 0006641040 & 5\\\\\n",
       "\\end{tabular}\n"
      ],
      "text/markdown": [
       "\n",
       "A grouped_df: 6 × 3\n",
       "\n",
       "| UserId &lt;chr&gt; | ProductId &lt;chr&gt; | Score &lt;int&gt; |\n",
       "|---|---|---|\n",
       "| AMX0PJKV4PPNJ  | 0006641040 | 4 |\n",
       "| AYZ0PR5QZROD1  | 0006641040 | 5 |\n",
       "| A2QXYSXGQ2PKAU | 0006641040 | 3 |\n",
       "| A3KKR87BJ0C595 | 0006641040 | 5 |\n",
       "| A1HKYQOFC8ZZCH | 0006641040 | 1 |\n",
       "| A3SJWISOCP31TR | 0006641040 | 5 |\n",
       "\n"
      ],
      "text/plain": [
       "  UserId         ProductId  Score\n",
       "1 AMX0PJKV4PPNJ  0006641040 4    \n",
       "2 AYZ0PR5QZROD1  0006641040 5    \n",
       "3 A2QXYSXGQ2PKAU 0006641040 3    \n",
       "4 A3KKR87BJ0C595 0006641040 5    \n",
       "5 A1HKYQOFC8ZZCH 0006641040 1    \n",
       "6 A3SJWISOCP31TR 0006641040 5    "
      ]
     },
     "metadata": {},
     "output_type": "display_data"
    }
   ],
   "source": [
    "head(review_final)"
   ]
  },
  {
   "cell_type": "code",
   "execution_count": 23,
   "metadata": {},
   "outputs": [
    {
     "data": {
      "text/html": [
       "101400"
      ],
      "text/latex": [
       "101400"
      ],
      "text/markdown": [
       "101400"
      ],
      "text/plain": [
       "[1] 101400"
      ]
     },
     "metadata": {},
     "output_type": "display_data"
    }
   ],
   "source": [
    "# Unique user\n",
    "length(unique(review_final$UserId))"
   ]
  },
  {
   "cell_type": "code",
   "execution_count": 24,
   "metadata": {},
   "outputs": [
    {
     "data": {
      "text/html": [
       "2921"
      ],
      "text/latex": [
       "2921"
      ],
      "text/markdown": [
       "2921"
      ],
      "text/plain": [
       "[1] 2921"
      ]
     },
     "metadata": {},
     "output_type": "display_data"
    }
   ],
   "source": [
    "# Unique product\n",
    "length(unique(review_final$ProductId))"
   ]
  },
  {
   "cell_type": "code",
   "execution_count": 25,
   "metadata": {},
   "outputs": [
    {
     "data": {
      "text/html": [
       "<table>\n",
       "<caption>A tibble: 6 × 2</caption>\n",
       "<thead>\n",
       "\t<tr><th scope=col>ProductId</th><th scope=col>count</th></tr>\n",
       "\t<tr><th scope=col>&lt;chr&gt;</th><th scope=col>&lt;int&gt;</th></tr>\n",
       "</thead>\n",
       "<tbody>\n",
       "\t<tr><td>B007JFMH8M</td><td>913</td></tr>\n",
       "\t<tr><td>B003B3OOPA</td><td>623</td></tr>\n",
       "\t<tr><td>B0026RQTGE</td><td>609</td></tr>\n",
       "\t<tr><td>B002QWHJOU</td><td>609</td></tr>\n",
       "\t<tr><td>B002QWP89S</td><td>609</td></tr>\n",
       "\t<tr><td>B002QWP8H0</td><td>609</td></tr>\n",
       "</tbody>\n",
       "</table>\n"
      ],
      "text/latex": [
       "A tibble: 6 × 2\n",
       "\\begin{tabular}{r|ll}\n",
       " ProductId & count\\\\\n",
       " <chr> & <int>\\\\\n",
       "\\hline\n",
       "\t B007JFMH8M & 913\\\\\n",
       "\t B003B3OOPA & 623\\\\\n",
       "\t B0026RQTGE & 609\\\\\n",
       "\t B002QWHJOU & 609\\\\\n",
       "\t B002QWP89S & 609\\\\\n",
       "\t B002QWP8H0 & 609\\\\\n",
       "\\end{tabular}\n"
      ],
      "text/markdown": [
       "\n",
       "A tibble: 6 × 2\n",
       "\n",
       "| ProductId &lt;chr&gt; | count &lt;int&gt; |\n",
       "|---|---|\n",
       "| B007JFMH8M | 913 |\n",
       "| B003B3OOPA | 623 |\n",
       "| B0026RQTGE | 609 |\n",
       "| B002QWHJOU | 609 |\n",
       "| B002QWP89S | 609 |\n",
       "| B002QWP8H0 | 609 |\n",
       "\n"
      ],
      "text/plain": [
       "  ProductId  count\n",
       "1 B007JFMH8M 913  \n",
       "2 B003B3OOPA 623  \n",
       "3 B0026RQTGE 609  \n",
       "4 B002QWHJOU 609  \n",
       "5 B002QWP89S 609  \n",
       "6 B002QWP8H0 609  "
      ]
     },
     "metadata": {},
     "output_type": "display_data"
    }
   ],
   "source": [
    "# Most reviewed product\n",
    "review_final %>%\n",
    "    group_by(ProductId) %>%\n",
    "    summarize(count = n()) %>%\n",
    "    arrange(-count) %>%\n",
    "    head()"
   ]
  },
  {
   "cell_type": "code",
   "execution_count": 54,
   "metadata": {},
   "outputs": [],
   "source": [
    "# subset to 1st 50k data only\n",
    "review_final_small <- review_final[1:50000,]"
   ]
  },
  {
   "cell_type": "code",
   "execution_count": 62,
   "metadata": {},
   "outputs": [],
   "source": [
    "p_count <- review_final_small %>%\n",
    "    group_by(ProductId) %>%\n",
    "    summarize(count = n()) %>%\n",
    "    arrange(-count)"
   ]
  },
  {
   "cell_type": "code",
   "execution_count": 65,
   "metadata": {},
   "outputs": [
    {
     "data": {
      "text/html": [
       "<table>\n",
       "<caption>A tibble: 654 × 2</caption>\n",
       "<thead>\n",
       "\t<tr><th scope=col>ProductId</th><th scope=col>count</th></tr>\n",
       "\t<tr><th scope=col>&lt;fct&gt;</th><th scope=col>&lt;int&gt;</th></tr>\n",
       "</thead>\n",
       "<tbody>\n",
       "\t<tr><td>B000CNB4LE</td><td>436</td></tr>\n",
       "\t<tr><td>B0007A0AQM</td><td>412</td></tr>\n",
       "\t<tr><td>B0007A0AQW</td><td>412</td></tr>\n",
       "\t<tr><td>B000BRR8VQ</td><td>412</td></tr>\n",
       "\t<tr><td>B000GAT6NG</td><td>388</td></tr>\n",
       "\t<tr><td>B000ENUC3S</td><td>369</td></tr>\n",
       "\t<tr><td>B000EVOSE4</td><td>324</td></tr>\n",
       "\t<tr><td>B000DZFMEQ</td><td>295</td></tr>\n",
       "\t<tr><td>B000FFIL92</td><td>285</td></tr>\n",
       "\t<tr><td>B0001ES9F8</td><td>279</td></tr>\n",
       "\t<tr><td>B0009YJ4CW</td><td>255</td></tr>\n",
       "\t<tr><td>B0009F3POY</td><td>219</td></tr>\n",
       "\t<tr><td>B000FMZO8G</td><td>219</td></tr>\n",
       "\t<tr><td>B000FMZO90</td><td>219</td></tr>\n",
       "\t<tr><td>B000CQBZPG</td><td>203</td></tr>\n",
       "\t<tr><td>B000CQC05U</td><td>203</td></tr>\n",
       "\t<tr><td>B000CQC064</td><td>203</td></tr>\n",
       "\t<tr><td>B000CQG8K8</td><td>203</td></tr>\n",
       "\t<tr><td>B000CQG8KS</td><td>203</td></tr>\n",
       "\t<tr><td>B000CQID6U</td><td>203</td></tr>\n",
       "\t<tr><td>B000CQIDHY</td><td>203</td></tr>\n",
       "\t<tr><td>B0001ES9FI</td><td>202</td></tr>\n",
       "\t<tr><td>B000G6O2QG</td><td>201</td></tr>\n",
       "\t<tr><td>B000G6MBUA</td><td>200</td></tr>\n",
       "\t<tr><td>B000G6RYNE</td><td>200</td></tr>\n",
       "\t<tr><td>B000EDDS6Q</td><td>196</td></tr>\n",
       "\t<tr><td>B000CQC08C</td><td>195</td></tr>\n",
       "\t<tr><td>B000CQE3NM</td><td>195</td></tr>\n",
       "\t<tr><td>B000CQG8AS</td><td>195</td></tr>\n",
       "\t<tr><td>B000EVG8H4</td><td>194</td></tr>\n",
       "\t<tr><td>...</td><td>...</td></tr>\n",
       "\t<tr><td>B0002VXZ40</td><td>33</td></tr>\n",
       "\t<tr><td>B00060PTLO</td><td>33</td></tr>\n",
       "\t<tr><td>B0006348H2</td><td>33</td></tr>\n",
       "\t<tr><td>B0006U3NIU</td><td>33</td></tr>\n",
       "\t<tr><td>B000ELVUKY</td><td>33</td></tr>\n",
       "\t<tr><td>B000EM8U1U</td><td>33</td></tr>\n",
       "\t<tr><td>B000EVE3YE</td><td>33</td></tr>\n",
       "\t<tr><td>B000EVIDVI</td><td>33</td></tr>\n",
       "\t<tr><td>B000EVSYI0</td><td>33</td></tr>\n",
       "\t<tr><td>B000F2RIQC</td><td>33</td></tr>\n",
       "\t<tr><td>B000FAPLYU</td><td>33</td></tr>\n",
       "\t<tr><td>B000FV8LPU</td><td>33</td></tr>\n",
       "\t<tr><td>B000G1X45G</td><td>33</td></tr>\n",
       "\t<tr><td>B000G7I7DO</td><td>33</td></tr>\n",
       "\t<tr><td>B000GFYRIK</td><td>33</td></tr>\n",
       "\t<tr><td>B000260M96</td><td>32</td></tr>\n",
       "\t<tr><td>B0002NVKZ4</td><td>32</td></tr>\n",
       "\t<tr><td>B0006ZN52E</td><td>32</td></tr>\n",
       "\t<tr><td>B000CO7IC2</td><td>32</td></tr>\n",
       "\t<tr><td>B000DZFMG4</td><td>32</td></tr>\n",
       "\t<tr><td>B000DZKKKC</td><td>32</td></tr>\n",
       "\t<tr><td>B000E4ALGK</td><td>32</td></tr>\n",
       "\t<tr><td>B000EQX62Y</td><td>32</td></tr>\n",
       "\t<tr><td>B000ER5EKA</td><td>32</td></tr>\n",
       "\t<tr><td>B000EUJLHE</td><td>32</td></tr>\n",
       "\t<tr><td>B000F0FZBE</td><td>32</td></tr>\n",
       "\t<tr><td>B000F959NO</td><td>32</td></tr>\n",
       "\t<tr><td>B000FEFEWA</td><td>32</td></tr>\n",
       "\t<tr><td>B000FMZMN8</td><td>32</td></tr>\n",
       "\t<tr><td>B000GW67KY</td><td> 6</td></tr>\n",
       "</tbody>\n",
       "</table>\n"
      ],
      "text/latex": [
       "A tibble: 654 × 2\n",
       "\\begin{tabular}{r|ll}\n",
       " ProductId & count\\\\\n",
       " <fct> & <int>\\\\\n",
       "\\hline\n",
       "\t B000CNB4LE & 436\\\\\n",
       "\t B0007A0AQM & 412\\\\\n",
       "\t B0007A0AQW & 412\\\\\n",
       "\t B000BRR8VQ & 412\\\\\n",
       "\t B000GAT6NG & 388\\\\\n",
       "\t B000ENUC3S & 369\\\\\n",
       "\t B000EVOSE4 & 324\\\\\n",
       "\t B000DZFMEQ & 295\\\\\n",
       "\t B000FFIL92 & 285\\\\\n",
       "\t B0001ES9F8 & 279\\\\\n",
       "\t B0009YJ4CW & 255\\\\\n",
       "\t B0009F3POY & 219\\\\\n",
       "\t B000FMZO8G & 219\\\\\n",
       "\t B000FMZO90 & 219\\\\\n",
       "\t B000CQBZPG & 203\\\\\n",
       "\t B000CQC05U & 203\\\\\n",
       "\t B000CQC064 & 203\\\\\n",
       "\t B000CQG8K8 & 203\\\\\n",
       "\t B000CQG8KS & 203\\\\\n",
       "\t B000CQID6U & 203\\\\\n",
       "\t B000CQIDHY & 203\\\\\n",
       "\t B0001ES9FI & 202\\\\\n",
       "\t B000G6O2QG & 201\\\\\n",
       "\t B000G6MBUA & 200\\\\\n",
       "\t B000G6RYNE & 200\\\\\n",
       "\t B000EDDS6Q & 196\\\\\n",
       "\t B000CQC08C & 195\\\\\n",
       "\t B000CQE3NM & 195\\\\\n",
       "\t B000CQG8AS & 195\\\\\n",
       "\t B000EVG8H4 & 194\\\\\n",
       "\t ... & ...\\\\\n",
       "\t B0002VXZ40 & 33\\\\\n",
       "\t B00060PTLO & 33\\\\\n",
       "\t B0006348H2 & 33\\\\\n",
       "\t B0006U3NIU & 33\\\\\n",
       "\t B000ELVUKY & 33\\\\\n",
       "\t B000EM8U1U & 33\\\\\n",
       "\t B000EVE3YE & 33\\\\\n",
       "\t B000EVIDVI & 33\\\\\n",
       "\t B000EVSYI0 & 33\\\\\n",
       "\t B000F2RIQC & 33\\\\\n",
       "\t B000FAPLYU & 33\\\\\n",
       "\t B000FV8LPU & 33\\\\\n",
       "\t B000G1X45G & 33\\\\\n",
       "\t B000G7I7DO & 33\\\\\n",
       "\t B000GFYRIK & 33\\\\\n",
       "\t B000260M96 & 32\\\\\n",
       "\t B0002NVKZ4 & 32\\\\\n",
       "\t B0006ZN52E & 32\\\\\n",
       "\t B000CO7IC2 & 32\\\\\n",
       "\t B000DZFMG4 & 32\\\\\n",
       "\t B000DZKKKC & 32\\\\\n",
       "\t B000E4ALGK & 32\\\\\n",
       "\t B000EQX62Y & 32\\\\\n",
       "\t B000ER5EKA & 32\\\\\n",
       "\t B000EUJLHE & 32\\\\\n",
       "\t B000F0FZBE & 32\\\\\n",
       "\t B000F959NO & 32\\\\\n",
       "\t B000FEFEWA & 32\\\\\n",
       "\t B000FMZMN8 & 32\\\\\n",
       "\t B000GW67KY &  6\\\\\n",
       "\\end{tabular}\n"
      ],
      "text/markdown": [
       "\n",
       "A tibble: 654 × 2\n",
       "\n",
       "| ProductId &lt;fct&gt; | count &lt;int&gt; |\n",
       "|---|---|\n",
       "| B000CNB4LE | 436 |\n",
       "| B0007A0AQM | 412 |\n",
       "| B0007A0AQW | 412 |\n",
       "| B000BRR8VQ | 412 |\n",
       "| B000GAT6NG | 388 |\n",
       "| B000ENUC3S | 369 |\n",
       "| B000EVOSE4 | 324 |\n",
       "| B000DZFMEQ | 295 |\n",
       "| B000FFIL92 | 285 |\n",
       "| B0001ES9F8 | 279 |\n",
       "| B0009YJ4CW | 255 |\n",
       "| B0009F3POY | 219 |\n",
       "| B000FMZO8G | 219 |\n",
       "| B000FMZO90 | 219 |\n",
       "| B000CQBZPG | 203 |\n",
       "| B000CQC05U | 203 |\n",
       "| B000CQC064 | 203 |\n",
       "| B000CQG8K8 | 203 |\n",
       "| B000CQG8KS | 203 |\n",
       "| B000CQID6U | 203 |\n",
       "| B000CQIDHY | 203 |\n",
       "| B0001ES9FI | 202 |\n",
       "| B000G6O2QG | 201 |\n",
       "| B000G6MBUA | 200 |\n",
       "| B000G6RYNE | 200 |\n",
       "| B000EDDS6Q | 196 |\n",
       "| B000CQC08C | 195 |\n",
       "| B000CQE3NM | 195 |\n",
       "| B000CQG8AS | 195 |\n",
       "| B000EVG8H4 | 194 |\n",
       "| ... | ... |\n",
       "| B0002VXZ40 | 33 |\n",
       "| B00060PTLO | 33 |\n",
       "| B0006348H2 | 33 |\n",
       "| B0006U3NIU | 33 |\n",
       "| B000ELVUKY | 33 |\n",
       "| B000EM8U1U | 33 |\n",
       "| B000EVE3YE | 33 |\n",
       "| B000EVIDVI | 33 |\n",
       "| B000EVSYI0 | 33 |\n",
       "| B000F2RIQC | 33 |\n",
       "| B000FAPLYU | 33 |\n",
       "| B000FV8LPU | 33 |\n",
       "| B000G1X45G | 33 |\n",
       "| B000G7I7DO | 33 |\n",
       "| B000GFYRIK | 33 |\n",
       "| B000260M96 | 32 |\n",
       "| B0002NVKZ4 | 32 |\n",
       "| B0006ZN52E | 32 |\n",
       "| B000CO7IC2 | 32 |\n",
       "| B000DZFMG4 | 32 |\n",
       "| B000DZKKKC | 32 |\n",
       "| B000E4ALGK | 32 |\n",
       "| B000EQX62Y | 32 |\n",
       "| B000ER5EKA | 32 |\n",
       "| B000EUJLHE | 32 |\n",
       "| B000F0FZBE | 32 |\n",
       "| B000F959NO | 32 |\n",
       "| B000FEFEWA | 32 |\n",
       "| B000FMZMN8 | 32 |\n",
       "| B000GW67KY |  6 |\n",
       "\n"
      ],
      "text/plain": [
       "    ProductId  count\n",
       "1   B000CNB4LE 436  \n",
       "2   B0007A0AQM 412  \n",
       "3   B0007A0AQW 412  \n",
       "4   B000BRR8VQ 412  \n",
       "5   B000GAT6NG 388  \n",
       "6   B000ENUC3S 369  \n",
       "7   B000EVOSE4 324  \n",
       "8   B000DZFMEQ 295  \n",
       "9   B000FFIL92 285  \n",
       "10  B0001ES9F8 279  \n",
       "11  B0009YJ4CW 255  \n",
       "12  B0009F3POY 219  \n",
       "13  B000FMZO8G 219  \n",
       "14  B000FMZO90 219  \n",
       "15  B000CQBZPG 203  \n",
       "16  B000CQC05U 203  \n",
       "17  B000CQC064 203  \n",
       "18  B000CQG8K8 203  \n",
       "19  B000CQG8KS 203  \n",
       "20  B000CQID6U 203  \n",
       "21  B000CQIDHY 203  \n",
       "22  B0001ES9FI 202  \n",
       "23  B000G6O2QG 201  \n",
       "24  B000G6MBUA 200  \n",
       "25  B000G6RYNE 200  \n",
       "26  B000EDDS6Q 196  \n",
       "27  B000CQC08C 195  \n",
       "28  B000CQE3NM 195  \n",
       "29  B000CQG8AS 195  \n",
       "30  B000EVG8H4 194  \n",
       "... ...        ...  \n",
       "625 B0002VXZ40 33   \n",
       "626 B00060PTLO 33   \n",
       "627 B0006348H2 33   \n",
       "628 B0006U3NIU 33   \n",
       "629 B000ELVUKY 33   \n",
       "630 B000EM8U1U 33   \n",
       "631 B000EVE3YE 33   \n",
       "632 B000EVIDVI 33   \n",
       "633 B000EVSYI0 33   \n",
       "634 B000F2RIQC 33   \n",
       "635 B000FAPLYU 33   \n",
       "636 B000FV8LPU 33   \n",
       "637 B000G1X45G 33   \n",
       "638 B000G7I7DO 33   \n",
       "639 B000GFYRIK 33   \n",
       "640 B000260M96 32   \n",
       "641 B0002NVKZ4 32   \n",
       "642 B0006ZN52E 32   \n",
       "643 B000CO7IC2 32   \n",
       "644 B000DZFMG4 32   \n",
       "645 B000DZKKKC 32   \n",
       "646 B000E4ALGK 32   \n",
       "647 B000EQX62Y 32   \n",
       "648 B000ER5EKA 32   \n",
       "649 B000EUJLHE 32   \n",
       "650 B000F0FZBE 32   \n",
       "651 B000F959NO 32   \n",
       "652 B000FEFEWA 32   \n",
       "653 B000FMZMN8 32   \n",
       "654 B000GW67KY  6   "
      ]
     },
     "metadata": {},
     "output_type": "display_data"
    }
   ],
   "source": [
    "# check if products are having enough review\n",
    "p_count"
   ]
  },
  {
   "cell_type": "markdown",
   "metadata": {},
   "source": [
    "## RecommenderLab"
   ]
  },
  {
   "cell_type": "code",
   "execution_count": 26,
   "metadata": {},
   "outputs": [],
   "source": [
    "review_final$UserId <- as.factor(review_final$UserId)\n",
    "review_final$ProductId <- as.factor(review_final$ProductId)\n",
    "review_final$Score <- as.numeric(review_final$Score)"
   ]
  },
  {
   "cell_type": "code",
   "execution_count": 27,
   "metadata": {},
   "outputs": [
    {
     "data": {
      "text/html": [
       "<ol class=list-inline>\n",
       "\t<li>278406</li>\n",
       "\t<li>3</li>\n",
       "</ol>\n"
      ],
      "text/latex": [
       "\\begin{enumerate*}\n",
       "\\item 278406\n",
       "\\item 3\n",
       "\\end{enumerate*}\n"
      ],
      "text/markdown": [
       "1. 278406\n",
       "2. 3\n",
       "\n",
       "\n"
      ],
      "text/plain": [
       "[1] 278406      3"
      ]
     },
     "metadata": {},
     "output_type": "display_data"
    }
   ],
   "source": [
    "dim(review_final)"
   ]
  },
  {
   "cell_type": "code",
   "execution_count": 28,
   "metadata": {},
   "outputs": [],
   "source": [
    "review_matrix1 <- dcast(review_final[1:50000,], UserId ~ ProductId, fun.aggregate = mean,value.var = 'Score',fill=0)"
   ]
  },
  {
   "cell_type": "code",
   "execution_count": 29,
   "metadata": {},
   "outputs": [],
   "source": [
    "#review_matrix2 <- dcast(review_final[50001 : 100000,], UserId ~ ProductId, fun.aggregate = mean,value.var = 'Score',fill=0)"
   ]
  },
  {
   "cell_type": "code",
   "execution_count": 31,
   "metadata": {},
   "outputs": [],
   "source": [
    "#review_matrix3 <- dcast(review_final[100001 : 150000,], UserId ~ ProductId, fun.aggregate = mean,value.var = 'Score',fill=0)"
   ]
  },
  {
   "cell_type": "code",
   "execution_count": 32,
   "metadata": {},
   "outputs": [],
   "source": [
    "#review_matrix4 <- dcast(review_final[150001 : 200000,], UserId ~ ProductId, fun.aggregate = mean,value.var = 'Score',fill=0)"
   ]
  },
  {
   "cell_type": "code",
   "execution_count": 33,
   "metadata": {},
   "outputs": [],
   "source": [
    "#review_matrix5 <- dcast(review_final[200001 : 278406,], UserId ~ ProductId, fun.aggregate = mean,value.var = 'Score',fill=0)"
   ]
  },
  {
   "cell_type": "code",
   "execution_count": 34,
   "metadata": {},
   "outputs": [],
   "source": [
    "#review_mat <- list(review_matrix1, review_matrix2, review_matrix3, review_matrix4, review_matrix5)"
   ]
  },
  {
   "cell_type": "code",
   "execution_count": null,
   "metadata": {},
   "outputs": [],
   "source": [
    "#review_matrix <- do.call(rbind, review_mat)"
   ]
  },
  {
   "cell_type": "code",
   "execution_count": 35,
   "metadata": {},
   "outputs": [],
   "source": [
    "review_matrix_s <- dcast(review_final[1:5000,], UserId ~ ProductId, fun.aggregate = mean, value.var = 'Score', fill = 0)"
   ]
  },
  {
   "cell_type": "code",
   "execution_count": 36,
   "metadata": {},
   "outputs": [],
   "source": [
    "rms <- as(review_matrix_s, 'realRatingMatrix')"
   ]
  },
  {
   "cell_type": "code",
   "execution_count": 37,
   "metadata": {},
   "outputs": [],
   "source": [
    "rms <- normalize(rms)"
   ]
  },
  {
   "cell_type": "code",
   "execution_count": 45,
   "metadata": {},
   "outputs": [
    {
     "ename": "ERROR",
     "evalue": "Error in (function (classes, fdef, mtable) : unable to find an inherited method for function 'evaluationScheme' for signature '\"data.frame\"'\n",
     "output_type": "error",
     "traceback": [
      "Error in (function (classes, fdef, mtable) : unable to find an inherited method for function 'evaluationScheme' for signature '\"data.frame\"'\nTraceback:\n",
      "1. evaluationScheme(review_matrix_s, method = \"split\", train = 0.8, \n .     given = 10, goodRating = 5)",
      "2. (function (classes, fdef, mtable) \n . {\n .     methods <- .findInheritedMethods(classes, fdef, mtable)\n .     if (length(methods) == 1L) \n .         return(methods[[1L]])\n .     else if (length(methods) == 0L) {\n .         cnames <- paste0(\"\\\"\", vapply(classes, as.character, \n .             \"\"), \"\\\"\", collapse = \", \")\n .         stop(gettextf(\"unable to find an inherited method for function %s for signature %s\", \n .             sQuote(fdef@generic), sQuote(cnames)), domain = NA)\n .     }\n .     else stop(\"Internal error in finding inherited methods; didn't return a unique method\", \n .         domain = NA)\n . })(list(\"data.frame\"), new(\"standardGeneric\", .Data = function (data, \n .     ...) \n . standardGeneric(\"evaluationScheme\"), generic = structure(\"evaluationScheme\", package = \"recommenderlab\"), \n .     package = \"recommenderlab\", group = list(), valueClass = character(0), \n .     signature = \"data\", default = NULL, skeleton = (function (data, \n .         ...) \n .     stop(\"invalid call in method dispatch to 'evaluationScheme' (no default method)\", \n .         domain = NA))(data, ...)), <environment>)",
      "3. stop(gettextf(\"unable to find an inherited method for function %s for signature %s\", \n .     sQuote(fdef@generic), sQuote(cnames)), domain = NA)"
     ]
    }
   ],
   "source": [
    "eval <- evaluationScheme(review_matrix_s, method = 'split', train = 0.8, given = 10, goodRating = 5)"
   ]
  },
  {
   "cell_type": "code",
   "execution_count": 42,
   "metadata": {},
   "outputs": [],
   "source": [
    "# Try IBCF\n",
    "rec <- Recommender(rms, method = 'IBCF', param = list(normalize = NULL, method = 'Cosine'))"
   ]
  },
  {
   "cell_type": "code",
   "execution_count": 43,
   "metadata": {},
   "outputs": [
    {
     "name": "stdout",
     "output_type": "stream",
     "text": [
      "Recommender of type 'IBCF' for 'realRatingMatrix' \n",
      "learned using 4217 users.\n"
     ]
    }
   ],
   "source": [
    "print(rec)"
   ]
  },
  {
   "cell_type": "code",
   "execution_count": 44,
   "metadata": {},
   "outputs": [
    {
     "data": {
      "text/html": [
       "<ol class=list-inline>\n",
       "\t<li>'description'</li>\n",
       "\t<li>'sim'</li>\n",
       "\t<li>'k'</li>\n",
       "\t<li>'method'</li>\n",
       "\t<li>'normalize'</li>\n",
       "\t<li>'normalize_sim_matrix'</li>\n",
       "\t<li>'alpha'</li>\n",
       "\t<li>'na_as_zero'</li>\n",
       "\t<li>'verbose'</li>\n",
       "</ol>\n"
      ],
      "text/latex": [
       "\\begin{enumerate*}\n",
       "\\item 'description'\n",
       "\\item 'sim'\n",
       "\\item 'k'\n",
       "\\item 'method'\n",
       "\\item 'normalize'\n",
       "\\item 'normalize\\_sim\\_matrix'\n",
       "\\item 'alpha'\n",
       "\\item 'na\\_as\\_zero'\n",
       "\\item 'verbose'\n",
       "\\end{enumerate*}\n"
      ],
      "text/markdown": [
       "1. 'description'\n",
       "2. 'sim'\n",
       "3. 'k'\n",
       "4. 'method'\n",
       "5. 'normalize'\n",
       "6. 'normalize_sim_matrix'\n",
       "7. 'alpha'\n",
       "8. 'na_as_zero'\n",
       "9. 'verbose'\n",
       "\n",
       "\n"
      ],
      "text/plain": [
       "[1] \"description\"          \"sim\"                  \"k\"                   \n",
       "[4] \"method\"               \"normalize\"            \"normalize_sim_matrix\"\n",
       "[7] \"alpha\"                \"na_as_zero\"           \"verbose\"             "
      ]
     },
     "metadata": {},
     "output_type": "display_data"
    },
    {
     "data": {
      "text/plain": [
       "NULL"
      ]
     },
     "metadata": {},
     "output_type": "display_data"
    }
   ],
   "source": [
    "names(getModel(rec))\n",
    "getModel(rec)$\n",
    " "
   ]
  },
  {
   "cell_type": "code",
   "execution_count": null,
   "metadata": {},
   "outputs": [],
   "source": []
  }
 ],
 "metadata": {
  "kernelspec": {
   "display_name": "R",
   "language": "R",
   "name": "ir"
  },
  "language_info": {
   "codemirror_mode": "r",
   "file_extension": ".r",
   "mimetype": "text/x-r-source",
   "name": "R",
   "pygments_lexer": "r",
   "version": "3.6.1"
  }
 },
 "nbformat": 4,
 "nbformat_minor": 2
}
