{
 "cells": [
  {
   "cell_type": "code",
   "execution_count": 1,
   "metadata": {},
   "outputs": [],
   "source": [
    "pacman::p_load(tidyverse, tm, stringr,NLP, RColorBrewer, wordcloud, Matrix, recommenderlab, slam, data.table, rARPACK)"
   ]
  },
  {
   "cell_type": "code",
   "execution_count": 2,
   "metadata": {},
   "outputs": [],
   "source": [
    "setwd('C:/Users/nchandra/OneDrive - National University of Singapore/CARecSys')"
   ]
  },
  {
   "cell_type": "code",
   "execution_count": 3,
   "metadata": {},
   "outputs": [],
   "source": [
    "wine <- read.csv('./Data/wine-reviews/winemag-data-130k-v2.csv', na.strings = c(\"\",\"NA\"), stringsAsFactors = FALSE)"
   ]
  },
  {
   "cell_type": "markdown",
   "metadata": {},
   "source": [
    "|colname|definition|\n",
    "|:---|:---|\n",
    "|country|The country that the wine is from\n",
    "|description|---|\n",
    "|designation|The vineyard within the winery where the grapes that made the wine are from|\n",
    "|points|The number of points WineEnthusiast rated the wine on a scale of 1-100 (though they say they only post reviews for wines that score >=80)|\n",
    "|price|The cost for a bottle of the wine|\n",
    "|province|The province or state that the wine is from|\n",
    "|region_1|The wine growing area in a province or state (ie Napa)|\n",
    "|region_2|Sometimes there are more specific regions specified within a wine growing area (ie Rutherford inside the Napa Valley), but this value can sometimes be blank|\n",
    "|taster_name|---|\n",
    "|taster_twitter_handle|---|\n",
    "|title|The title of the wine review, which often contains the vintage if you're interested in extracting that feature|\n",
    "|variety|The type of grapes used to make the wine (ie Pinot Noir)|\n",
    "|winery|The winery that made the wine|"
   ]
  },
  {
   "cell_type": "code",
   "execution_count": 4,
   "metadata": {},
   "outputs": [
    {
     "data": {
      "text/html": [
       "<table>\n",
       "<caption>A data.frame: 2 × 14</caption>\n",
       "<thead>\n",
       "\t<tr><th scope=col>X</th><th scope=col>country</th><th scope=col>description</th><th scope=col>designation</th><th scope=col>points</th><th scope=col>price</th><th scope=col>province</th><th scope=col>region_1</th><th scope=col>region_2</th><th scope=col>taster_name</th><th scope=col>taster_twitter_handle</th><th scope=col>title</th><th scope=col>variety</th><th scope=col>winery</th></tr>\n",
       "\t<tr><th scope=col>&lt;int&gt;</th><th scope=col>&lt;chr&gt;</th><th scope=col>&lt;chr&gt;</th><th scope=col>&lt;chr&gt;</th><th scope=col>&lt;int&gt;</th><th scope=col>&lt;dbl&gt;</th><th scope=col>&lt;chr&gt;</th><th scope=col>&lt;chr&gt;</th><th scope=col>&lt;chr&gt;</th><th scope=col>&lt;chr&gt;</th><th scope=col>&lt;chr&gt;</th><th scope=col>&lt;chr&gt;</th><th scope=col>&lt;chr&gt;</th><th scope=col>&lt;chr&gt;</th></tr>\n",
       "</thead>\n",
       "<tbody>\n",
       "\t<tr><td>0</td><td><span style=white-space:pre-wrap>Italy   </span></td><td><span style=white-space:pre-wrap>Aromas include tropical fruit, broom, brimstone and dried herb. The palate isn't overly expressive, offering unripened apple, citrus and dried sage alongside brisk acidity.                                                       </span></td><td>VulkÃ  Bianco</td><td>87</td><td>NA</td><td>Sicily &amp; Sardinia</td><td>Etna</td><td>NA</td><td>Kerin Oâ€™Keefe</td><td>@kerinokeefe</td><td><span style=white-space:pre-wrap>Nicosia 2013 VulkÃ  Bianco  (Etna)           </span></td><td><span style=white-space:pre-wrap>White Blend   </span></td><td><span style=white-space:pre-wrap>Nicosia            </span></td></tr>\n",
       "\t<tr><td>1</td><td>Portugal</td><td>This is ripe and fruity, a wine that is smooth while still structured. Firm tannins are filled out with juicy red berry fruits and freshened with acidity. It's  already drinkable, although it will certainly be better from 2016.</td><td>Avidagos     </td><td>87</td><td>15</td><td>Douro            </td><td>NA  </td><td>NA</td><td>Roger Voss     </td><td>@vossroger  </td><td>Quinta dos Avidagos 2011 Avidagos Red (Douro)</td><td>Portuguese Red</td><td>Quinta dos Avidagos</td></tr>\n",
       "</tbody>\n",
       "</table>\n"
      ],
      "text/latex": [
       "A data.frame: 2 × 14\n",
       "\\begin{tabular}{r|llllllllllllll}\n",
       " X & country & description & designation & points & price & province & region\\_1 & region\\_2 & taster\\_name & taster\\_twitter\\_handle & title & variety & winery\\\\\n",
       " <int> & <chr> & <chr> & <chr> & <int> & <dbl> & <chr> & <chr> & <chr> & <chr> & <chr> & <chr> & <chr> & <chr>\\\\\n",
       "\\hline\n",
       "\t 0 & Italy    & Aromas include tropical fruit, broom, brimstone and dried herb. The palate isn't overly expressive, offering unripened apple, citrus and dried sage alongside brisk acidity.                                                        & VulkÃ  Bianco & 87 & NA & Sicily \\& Sardinia & Etna & NA & Kerin Oâ€™Keefe & @kerinokeefe & Nicosia 2013 VulkÃ  Bianco  (Etna)            & White Blend    & Nicosia            \\\\\n",
       "\t 1 & Portugal & This is ripe and fruity, a wine that is smooth while still structured. Firm tannins are filled out with juicy red berry fruits and freshened with acidity. It's  already drinkable, although it will certainly be better from 2016. & Avidagos      & 87 & 15 & Douro             & NA   & NA & Roger Voss      & @vossroger   & Quinta dos Avidagos 2011 Avidagos Red (Douro) & Portuguese Red & Quinta dos Avidagos\\\\\n",
       "\\end{tabular}\n"
      ],
      "text/markdown": [
       "\n",
       "A data.frame: 2 × 14\n",
       "\n",
       "| X &lt;int&gt; | country &lt;chr&gt; | description &lt;chr&gt; | designation &lt;chr&gt; | points &lt;int&gt; | price &lt;dbl&gt; | province &lt;chr&gt; | region_1 &lt;chr&gt; | region_2 &lt;chr&gt; | taster_name &lt;chr&gt; | taster_twitter_handle &lt;chr&gt; | title &lt;chr&gt; | variety &lt;chr&gt; | winery &lt;chr&gt; |\n",
       "|---|---|---|---|---|---|---|---|---|---|---|---|---|---|\n",
       "| 0 | Italy    | Aromas include tropical fruit, broom, brimstone and dried herb. The palate isn't overly expressive, offering unripened apple, citrus and dried sage alongside brisk acidity.                                                        | VulkÃ  Bianco | 87 | NA | Sicily &amp; Sardinia | Etna | NA | Kerin Oâ€™Keefe | @kerinokeefe | Nicosia 2013 VulkÃ  Bianco  (Etna)            | White Blend    | Nicosia             |\n",
       "| 1 | Portugal | This is ripe and fruity, a wine that is smooth while still structured. Firm tannins are filled out with juicy red berry fruits and freshened with acidity. It's  already drinkable, although it will certainly be better from 2016. | Avidagos      | 87 | 15 | Douro             | NA   | NA | Roger Voss      | @vossroger   | Quinta dos Avidagos 2011 Avidagos Red (Douro) | Portuguese Red | Quinta dos Avidagos |\n",
       "\n"
      ],
      "text/plain": [
       "  X country \n",
       "1 0 Italy   \n",
       "2 1 Portugal\n",
       "  description                                                                                                                                                                                                                        \n",
       "1 Aromas include tropical fruit, broom, brimstone and dried herb. The palate isn't overly expressive, offering unripened apple, citrus and dried sage alongside brisk acidity.                                                       \n",
       "2 This is ripe and fruity, a wine that is smooth while still structured. Firm tannins are filled out with juicy red berry fruits and freshened with acidity. It's  already drinkable, although it will certainly be better from 2016.\n",
       "  designation   points price province          region_1 region_2\n",
       "1 VulkÃ  Bianco 87     NA    Sicily & Sardinia Etna     NA      \n",
       "2 Avidagos      87     15    Douro             NA       NA      \n",
       "  taster_name     taster_twitter_handle\n",
       "1 Kerin Oâ\\200\\231Keefe @kerinokeefe         \n",
       "2 Roger Voss      @vossroger           \n",
       "  title                                         variety       \n",
       "1 Nicosia 2013 VulkÃ  Bianco  (Etna)            White Blend   \n",
       "2 Quinta dos Avidagos 2011 Avidagos Red (Douro) Portuguese Red\n",
       "  winery             \n",
       "1 Nicosia            \n",
       "2 Quinta dos Avidagos"
      ]
     },
     "metadata": {},
     "output_type": "display_data"
    }
   ],
   "source": [
    "head(wine,2)"
   ]
  },
  {
   "cell_type": "code",
   "execution_count": 5,
   "metadata": {},
   "outputs": [
    {
     "name": "stdout",
     "output_type": "stream",
     "text": [
      "'data.frame':\t129971 obs. of  14 variables:\n",
      " $ X                    : int  0 1 2 3 4 5 6 7 8 9 ...\n",
      " $ country              : chr  \"Italy\" \"Portugal\" \"US\" \"US\" ...\n",
      " $ description          : chr  \"Aromas include tropical fruit, broom, brimstone and dried herb. The palate isn't overly expressive, offering un\"| __truncated__ \"This is ripe and fruity, a wine that is smooth while still structured. Firm tannins are filled out with juicy r\"| __truncated__ \"Tart and snappy, the flavors of lime flesh and rind dominate. Some green pineapple pokes through, with crisp ac\"| __truncated__ \"Pineapple rind, lemon pith and orange blossom start off the aromas. The palate is a bit more opulent, with note\"| __truncated__ ...\n",
      " $ designation          : chr  \"VulkÃ  Bianco\" \"Avidagos\" NA \"Reserve Late Harvest\" ...\n",
      " $ points               : int  87 87 87 87 87 87 87 87 87 87 ...\n",
      " $ price                : num  NA 15 14 13 65 15 16 24 12 27 ...\n",
      " $ province             : chr  \"Sicily & Sardinia\" \"Douro\" \"Oregon\" \"Michigan\" ...\n",
      " $ region_1             : chr  \"Etna\" NA \"Willamette Valley\" \"Lake Michigan Shore\" ...\n",
      " $ region_2             : chr  NA NA \"Willamette Valley\" NA ...\n",
      " $ taster_name          : chr  \"Kerin Oâ\\200\\231Keefe\" \"Roger Voss\" \"Paul Gregutt\" \"Alexander Peartree\" ...\n",
      " $ taster_twitter_handle: chr  \"@kerinokeefe\" \"@vossroger\" \"@paulgwineÂ \" NA ...\n",
      " $ title                : chr  \"Nicosia 2013 VulkÃ  Bianco  (Etna)\" \"Quinta dos Avidagos 2011 Avidagos Red (Douro)\" \"Rainstorm 2013 Pinot Gris (Willamette Valley)\" \"St. Julian 2013 Reserve Late Harvest Riesling (Lake Michigan Shore)\" ...\n",
      " $ variety              : chr  \"White Blend\" \"Portuguese Red\" \"Pinot Gris\" \"Riesling\" ...\n",
      " $ winery               : chr  \"Nicosia\" \"Quinta dos Avidagos\" \"Rainstorm\" \"St. Julian\" ...\n"
     ]
    }
   ],
   "source": [
    "str(wine)"
   ]
  },
  {
   "cell_type": "code",
   "execution_count": 6,
   "metadata": {},
   "outputs": [
    {
     "data": {
      "text/plain": [
       "       X            country          description        designation       \n",
       " Min.   :     0   Length:129971      Length:129971      Length:129971     \n",
       " 1st Qu.: 32493   Class :character   Class :character   Class :character  \n",
       " Median : 64985   Mode  :character   Mode  :character   Mode  :character  \n",
       " Mean   : 64985                                                           \n",
       " 3rd Qu.: 97478                                                           \n",
       " Max.   :129970                                                           \n",
       "                                                                          \n",
       "     points           price           province           region_1        \n",
       " Min.   : 80.00   Min.   :   4.00   Length:129971      Length:129971     \n",
       " 1st Qu.: 86.00   1st Qu.:  17.00   Class :character   Class :character  \n",
       " Median : 88.00   Median :  25.00   Mode  :character   Mode  :character  \n",
       " Mean   : 88.45   Mean   :  35.36                                        \n",
       " 3rd Qu.: 91.00   3rd Qu.:  42.00                                        \n",
       " Max.   :100.00   Max.   :3300.00                                        \n",
       "                  NA's   :8996                                           \n",
       "   region_2         taster_name        taster_twitter_handle    title          \n",
       " Length:129971      Length:129971      Length:129971         Length:129971     \n",
       " Class :character   Class :character   Class :character      Class :character  \n",
       " Mode  :character   Mode  :character   Mode  :character      Mode  :character  \n",
       "                                                                               \n",
       "                                                                               \n",
       "                                                                               \n",
       "                                                                               \n",
       "   variety             winery         \n",
       " Length:129971      Length:129971     \n",
       " Class :character   Class :character  \n",
       " Mode  :character   Mode  :character  \n",
       "                                      \n",
       "                                      \n",
       "                                      \n",
       "                                      "
      ]
     },
     "metadata": {},
     "output_type": "display_data"
    }
   ],
   "source": [
    "summary(wine)"
   ]
  },
  {
   "cell_type": "code",
   "execution_count": 7,
   "metadata": {},
   "outputs": [],
   "source": [
    "# remove X to identify duplicates\n",
    "wine <- select(wine, -c('X'))"
   ]
  },
  {
   "cell_type": "code",
   "execution_count": 8,
   "metadata": {},
   "outputs": [
    {
     "data": {
      "text/html": [
       "<ol class=list-inline>\n",
       "\t<li>129971</li>\n",
       "\t<li>13</li>\n",
       "</ol>\n"
      ],
      "text/latex": [
       "\\begin{enumerate*}\n",
       "\\item 129971\n",
       "\\item 13\n",
       "\\end{enumerate*}\n"
      ],
      "text/markdown": [
       "1. 129971\n",
       "2. 13\n",
       "\n",
       "\n"
      ],
      "text/plain": [
       "[1] 129971     13"
      ]
     },
     "metadata": {},
     "output_type": "display_data"
    }
   ],
   "source": [
    "dim(wine)"
   ]
  },
  {
   "cell_type": "code",
   "execution_count": 9,
   "metadata": {},
   "outputs": [],
   "source": [
    "# Remove duplicate records\n",
    "wine_nodup <- distinct(wine)"
   ]
  },
  {
   "cell_type": "code",
   "execution_count": 10,
   "metadata": {},
   "outputs": [
    {
     "data": {
      "text/html": [
       "<ol class=list-inline>\n",
       "\t<li>119988</li>\n",
       "\t<li>13</li>\n",
       "</ol>\n"
      ],
      "text/latex": [
       "\\begin{enumerate*}\n",
       "\\item 119988\n",
       "\\item 13\n",
       "\\end{enumerate*}\n"
      ],
      "text/markdown": [
       "1. 119988\n",
       "2. 13\n",
       "\n",
       "\n"
      ],
      "text/plain": [
       "[1] 119988     13"
      ]
     },
     "metadata": {},
     "output_type": "display_data"
    }
   ],
   "source": [
    "dim(wine_nodup)"
   ]
  },
  {
   "cell_type": "markdown",
   "metadata": {},
   "source": [
    "Next step, check for missing values"
   ]
  },
  {
   "cell_type": "code",
   "execution_count": 11,
   "metadata": {},
   "outputs": [
    {
     "data": {
      "text/html": [
       "<table>\n",
       "<caption>A data.frame: 99495 × 13</caption>\n",
       "<thead>\n",
       "\t<tr><th></th><th scope=col>country</th><th scope=col>description</th><th scope=col>designation</th><th scope=col>points</th><th scope=col>price</th><th scope=col>province</th><th scope=col>region_1</th><th scope=col>region_2</th><th scope=col>taster_name</th><th scope=col>taster_twitter_handle</th><th scope=col>title</th><th scope=col>variety</th><th scope=col>winery</th></tr>\n",
       "\t<tr><th></th><th scope=col>&lt;chr&gt;</th><th scope=col>&lt;chr&gt;</th><th scope=col>&lt;chr&gt;</th><th scope=col>&lt;int&gt;</th><th scope=col>&lt;dbl&gt;</th><th scope=col>&lt;chr&gt;</th><th scope=col>&lt;chr&gt;</th><th scope=col>&lt;chr&gt;</th><th scope=col>&lt;chr&gt;</th><th scope=col>&lt;chr&gt;</th><th scope=col>&lt;chr&gt;</th><th scope=col>&lt;chr&gt;</th><th scope=col>&lt;chr&gt;</th></tr>\n",
       "</thead>\n",
       "<tbody>\n",
       "\t<tr><th scope=row>1</th><td><span style=white-space:pre-wrap>Italy    </span></td><td><span style=white-space:pre-wrap>Aromas include tropical fruit, broom, brimstone and dried herb. The palate isn't overly expressive, offering unripened apple, citrus and dried sage alongside brisk acidity.                                                                                                                                               </span></td><td><span style=white-space:pre-wrap>VulkÃ  Bianco                                                   </span></td><td>87</td><td>NA</td><td>Sicily &amp; Sardinia</td><td><span style=white-space:pre-wrap>Etna                 </span></td><td><span style=white-space:pre-wrap>NA               </span></td><td><span style=white-space:pre-wrap>Kerin Oâ€™Keefe   </span></td><td>@kerinokeefe </td><td><span style=white-space:pre-wrap>Nicosia 2013 VulkÃ  Bianco  (Etna)                                                                </span></td><td><span style=white-space:pre-wrap>White Blend       </span></td><td><span style=white-space:pre-wrap>Nicosia                </span></td></tr>\n",
       "\t<tr><th scope=row>2</th><td>Portugal </td><td>This is ripe and fruity, a wine that is smooth while still structured. Firm tannins are filled out with juicy red berry fruits and freshened with acidity. It's  already drinkable, although it will certainly be better from 2016.                                                                                        </td><td>Avidagos                                                        </td><td>87</td><td>15</td><td>Douro            </td><td>NA                   </td><td>NA               </td><td>Roger Voss        </td><td>@vossroger   </td><td>Quinta dos Avidagos 2011 Avidagos Red (Douro)                                                     </td><td>Portuguese Red    </td><td>Quinta dos Avidagos    </td></tr>\n",
       "\t<tr><th scope=row>3</th><td>US       </td><td>Tart and snappy, the flavors of lime flesh and rind dominate. Some green pineapple pokes through, with crisp acidity underscoring the flavors. The wine was all stainless-steel fermented.                                                                                                                                 </td><td>NA                                                              </td><td>87</td><td>14</td><td>Oregon           </td><td>Willamette Valley    </td><td>Willamette Valley</td><td>Paul Gregutt      </td><td>@paulgwineÂ  </td><td>Rainstorm 2013 Pinot Gris (Willamette Valley)                                                     </td><td>Pinot Gris        </td><td>Rainstorm              </td></tr>\n",
       "\t<tr><th scope=row>4</th><td>US       </td><td>Pineapple rind, lemon pith and orange blossom start off the aromas. The palate is a bit more opulent, with notes of honey-drizzled guava and mango giving way to a slightly astringent, semidry finish.                                                                                                                    </td><td>Reserve Late Harvest                                            </td><td>87</td><td>13</td><td>Michigan         </td><td>Lake Michigan Shore  </td><td>NA               </td><td>Alexander Peartree</td><td>NA           </td><td>St. Julian 2013 Reserve Late Harvest Riesling (Lake Michigan Shore)                               </td><td>Riesling          </td><td>St. Julian             </td></tr>\n",
       "\t<tr><th scope=row>6</th><td>Spain    </td><td>Blackberry and raspberry aromas show a typical Navarran whiff of green herbs and, in this case, horseradish. In the mouth, this is fairly full bodied, with tomatoey acidity. Spicy, herbal flavors complement dark plum fruit, while the finish is fresh but grabby.                                                      </td><td>Ars In Vitro                                                    </td><td>87</td><td>15</td><td>Northern Spain   </td><td>Navarra              </td><td>NA               </td><td>Michael Schachner </td><td>@wineschach  </td><td>Tandem 2011 Ars In Vitro Tempranillo-Merlot (Navarra)                                             </td><td>Tempranillo-Merlot</td><td>Tandem                 </td></tr>\n",
       "\t<tr><th scope=row>7</th><td><span style=white-space:pre-wrap>Italy    </span></td><td><span style=white-space:pre-wrap>Here's a bright, informal red that opens with aromas of candied berry, white pepper and savory herb that carry over to the palate. It's balanced with fresh acidity and soft tannins.                                                                                                                                      </span></td><td><span style=white-space:pre-wrap>Belsito                                                         </span></td><td>87</td><td>16</td><td>Sicily &amp; Sardinia</td><td><span style=white-space:pre-wrap>Vittoria             </span></td><td><span style=white-space:pre-wrap>NA               </span></td><td><span style=white-space:pre-wrap>Kerin Oâ€™Keefe   </span></td><td>@kerinokeefe </td><td><span style=white-space:pre-wrap>Terre di Giurfo 2013 Belsito Frappato (Vittoria)                                                  </span></td><td><span style=white-space:pre-wrap>Frappato          </span></td><td><span style=white-space:pre-wrap>Terre di Giurfo        </span></td></tr>\n",
       "\t<tr><th scope=row>8</th><td>France   </td><td>This dry and restrained wine offers spice in profusion. Balanced with acidity and a firm texture, it's very much for food.                                                                                                                                                                                                 </td><td>NA                                                              </td><td>87</td><td>24</td><td>Alsace           </td><td>Alsace               </td><td>NA               </td><td>Roger Voss        </td><td>@vossroger   </td><td>Trimbach 2012 Gewurztraminer (Alsace)                                                             </td><td>GewÃ¼rztraminer   </td><td>Trimbach               </td></tr>\n",
       "\t<tr><th scope=row>9</th><td>Germany  </td><td>Savory dried thyme notes accent sunnier flavors of preserved peach in this brisk, off-dry wine. It's fruity and fresh, with an elegant, sprightly footprint.                                                                                                                                                               </td><td>Shine                                                           </td><td>87</td><td>12</td><td>Rheinhessen      </td><td>NA                   </td><td>NA               </td><td>Anna Lee C. Iijima</td><td>NA           </td><td>Heinz Eifel 2013 Shine GewÃ¼rztraminer (Rheinhessen)                                              </td><td>GewÃ¼rztraminer   </td><td>Heinz Eifel            </td></tr>\n",
       "\t<tr><th scope=row>10</th><td>France   </td><td>This has great depth of flavor with its fresh apple and pear fruits and touch of spice. It's off dry while balanced with acidity and a crisp texture. Drink now.                                                                                                                                                           </td><td>Les Natures                                                     </td><td>87</td><td>27</td><td>Alsace           </td><td>Alsace               </td><td>NA               </td><td>Roger Voss        </td><td>@vossroger   </td><td>Jean-Baptiste Adam 2012 Les Natures Pinot Gris (Alsace)                                           </td><td>Pinot Gris        </td><td>Jean-Baptiste Adam     </td></tr>\n",
       "\t<tr><th scope=row>12</th><td>France   </td><td>This is a dry wine, very spicy, with a tight, taut texture and strongly mineral character layered with citrus as well as pepper. It's a food wine with its almost crisp aftertaste.                                                                                                                                        </td><td>NA                                                              </td><td>87</td><td>30</td><td>Alsace           </td><td>Alsace               </td><td>NA               </td><td>Roger Voss        </td><td>@vossroger   </td><td>Leon Beyer 2012 Gewurztraminer (Alsace)                                                           </td><td>GewÃ¼rztraminer   </td><td>Leon Beyer             </td></tr>\n",
       "\t<tr><th scope=row>13</th><td>US       </td><td>Slightly reduced, this wine offers a chalky, tannic backbone to an otherwise juicy explosion of rich black cherry, the whole accented throughout by firm oak and cigar box.                                                                                                                                                </td><td>NA                                                              </td><td>87</td><td>34</td><td>California       </td><td>Alexander Valley     </td><td>Sonoma           </td><td>Virginie Boone    </td><td>@vboone      </td><td>Louis M. Martini 2012 Cabernet Sauvignon (Alexander Valley)                                       </td><td>Cabernet Sauvignon</td><td>Louis M. Martini       </td></tr>\n",
       "\t<tr><th scope=row>14</th><td><span style=white-space:pre-wrap>Italy    </span></td><td><span style=white-space:pre-wrap>This is dominated by oak and oak-driven aromas that include roasted coffee bean, espresso, coconut and vanilla that carry over to the palate, together with plum and chocolate. Astringent, drying tannins give it a rather abrupt finish.                                                                                 </span></td><td><span style=white-space:pre-wrap>Rosso                                                           </span></td><td>87</td><td>NA</td><td>Sicily &amp; Sardinia</td><td><span style=white-space:pre-wrap>Etna                 </span></td><td><span style=white-space:pre-wrap>NA               </span></td><td><span style=white-space:pre-wrap>Kerin Oâ€™Keefe   </span></td><td>@kerinokeefe </td><td><span style=white-space:pre-wrap>Masseria Setteporte 2012 Rosso  (Etna)                                                            </span></td><td>Nerello Mascalese </td><td><span style=white-space:pre-wrap>Masseria Setteporte    </span></td></tr>\n",
       "\t<tr><th scope=row>15</th><td>US       </td><td>Building on 150 years and six generations of winemaking tradition, the winery trends toward a leaner style, with the classic California buttercream aroma cut by tart green apple. In this good everyday sipping wine, flavors that range from pear to barely ripe pineapple prove approachable but not distinctive.       </td><td>NA                                                              </td><td>87</td><td>12</td><td>California       </td><td>Central Coast        </td><td>Central Coast    </td><td>Matt Kettmann     </td><td>@mattkettmann</td><td>Mirassou 2012 Chardonnay (Central Coast)                                                          </td><td>Chardonnay        </td><td>Mirassou               </td></tr>\n",
       "\t<tr><th scope=row>16</th><td>Germany  </td><td>Zesty orange peels and apple notes abound in this sprightly, mineral-toned Riesling. Off dry on the palate, yet racy and lean, it's a refreshing, easy quaffer with wide appeal.                                                                                                                                           </td><td>Devon                                                           </td><td>87</td><td>24</td><td>Mosel            </td><td>NA                   </td><td>NA               </td><td>Anna Lee C. Iijima</td><td>NA           </td><td>Richard BÃ¶cking 2013 Devon Riesling (Mosel)                                                      </td><td>Riesling          </td><td>Richard BÃ¶cking       </td></tr>\n",
       "\t<tr><th scope=row>17</th><td>Argentina</td><td>Baked plum, molasses, balsamic vinegar and cheesy oak aromas feed into a palate that's braced by a bolt of acidity. A compact set of saucy red-berry and plum flavors features tobacco and peppery accents, while the finish is mildly green in flavor, with respectable weight and balance.                               </td><td>Felix                                                           </td><td>87</td><td>30</td><td>Other            </td><td>Cafayate             </td><td>NA               </td><td>Michael Schachner </td><td>@wineschach  </td><td>Felix Lavaque 2010 Felix Malbec (Cafayate)                                                        </td><td>Malbec            </td><td>Felix Lavaque          </td></tr>\n",
       "\t<tr><th scope=row>18</th><td>Argentina</td><td>Raw black-cherry aromas are direct and simple but good. This has a juicy feel that thickens over time, with oak character and extract becoming more apparent. A flavor profile driven by dark-berry fruits and smoldering oak finishes meaty but hot.                                                                      </td><td>Winemaker Selection                                             </td><td>87</td><td>13</td><td>Mendoza Province </td><td>Mendoza              </td><td>NA               </td><td>Michael Schachner </td><td>@wineschach  </td><td>Gaucho Andino 2011 Winemaker Selection Malbec (Mendoza)                                           </td><td>Malbec            </td><td>Gaucho Andino          </td></tr>\n",
       "\t<tr><th scope=row>19</th><td>Spain    </td><td>Desiccated blackberry, leather, charred wood and mint aromas carry the nose on this full-bodied, tannic, heavily oaked Tinto Fino. Flavors of clove and woodspice sit on top of blackberry fruit, then hickory and other forceful oak-based aromas rise up and dominate the finish.                                        </td><td>Vendimia Seleccionada Finca Valdelayegua Single Vineyard Crianza</td><td>87</td><td>28</td><td>Northern Spain   </td><td>Ribera del Duero     </td><td>NA               </td><td>Michael Schachner </td><td>@wineschach  </td><td>Pradorey 2010 Vendimia Seleccionada Finca Valdelayegua Single Vineyard Crianza  (Ribera del Duero)</td><td>Tempranillo Blend </td><td>Pradorey               </td></tr>\n",
       "\t<tr><th scope=row>20</th><td>US       </td><td>Red fruit aromas pervade on the nose, with cigar box and menthol notes riding in the back. The palate is slightly restrained on entry, but opens up to riper notes of cherry and plum specked with crushed pepper. This blend of Merlot, Cabernet Sauvignon and Cabernet Franc is approachable now and ready to be enjoyed.</td><td>NA                                                              </td><td>87</td><td>32</td><td>Virginia         </td><td>Virginia             </td><td>NA               </td><td>Alexander Peartree</td><td>NA           </td><td>QuiÃ©vremont 2012 Meritage (Virginia)                                                             </td><td>Meritage          </td><td>QuiÃ©vremont           </td></tr>\n",
       "\t<tr><th scope=row>21</th><td>US       </td><td>Ripe aromas of dark berries mingle with ample notes of black pepper, toasted vanilla and dusty tobacco. The palate is oak-driven in nature, but notes of tart red currant shine through, offering a bit of levity.                                                                                                         </td><td>Vin de Maison                                                   </td><td>87</td><td>23</td><td>Virginia         </td><td>Virginia             </td><td>NA               </td><td>Alexander Peartree</td><td>NA           </td><td>QuiÃ©vremont 2012 Vin de Maison Red (Virginia)                                                    </td><td>Red Blend         </td><td>QuiÃ©vremont           </td></tr>\n",
       "\t<tr><th scope=row>22</th><td>US       </td><td>A sleek mix of tart berry, stem and herb, along with a hint of oak and chocolate, this is a fair value in a widely available, drink-now Oregon Pinot. The wine oak-aged for six months, whether in neutral or re-staved is not indicated.                                                                                  </td><td>NA                                                              </td><td>87</td><td>20</td><td>Oregon           </td><td>Oregon               </td><td>Oregon Other     </td><td>Paul Gregutt      </td><td>@paulgwineÂ  </td><td>Acrobat 2013 Pinot Noir (Oregon)                                                                  </td><td>Pinot Noir        </td><td>Acrobat                </td></tr>\n",
       "\t<tr><th scope=row>23</th><td><span style=white-space:pre-wrap>Italy    </span></td><td><span style=white-space:pre-wrap>Delicate aromas recall white flower and citrus. The palate offers passion fruit, lime and white peach with a hint of mineral alongside bright acidity.                                                                                                                                                                     </span></td><td><span style=white-space:pre-wrap>Ficiligno                                                       </span></td><td>87</td><td>19</td><td>Sicily &amp; Sardinia</td><td><span style=white-space:pre-wrap>Sicilia              </span></td><td><span style=white-space:pre-wrap>NA               </span></td><td><span style=white-space:pre-wrap>Kerin Oâ€™Keefe   </span></td><td>@kerinokeefe </td><td><span style=white-space:pre-wrap>Baglio di Pianetto 2007 Ficiligno White (Sicilia)                                                 </span></td><td><span style=white-space:pre-wrap>White Blend       </span></td><td><span style=white-space:pre-wrap>Baglio di Pianetto     </span></td></tr>\n",
       "\t<tr><th scope=row>25</th><td><span style=white-space:pre-wrap>Italy    </span></td><td><span style=white-space:pre-wrap>Aromas of prune, blackcurrant, toast and oak carry through to the extracted palate, along with flavors of black cherry and roasted coffee beans. Firm but drying tannins provide the framework.                                                                                                                            </span></td><td><span style=white-space:pre-wrap>Aynat                                                           </span></td><td>87</td><td>35</td><td>Sicily &amp; Sardinia</td><td><span style=white-space:pre-wrap>Sicilia              </span></td><td><span style=white-space:pre-wrap>NA               </span></td><td><span style=white-space:pre-wrap>Kerin Oâ€™Keefe   </span></td><td>@kerinokeefe </td><td><span style=white-space:pre-wrap>CanicattÃ¬ 2009 Aynat Nero d'Avola (Sicilia)                                                      </span></td><td><span style=white-space:pre-wrap>Nero d'Avola      </span></td><td><span style=white-space:pre-wrap>CanicattÃ¬             </span></td></tr>\n",
       "\t<tr><th scope=row>27</th><td><span style=white-space:pre-wrap>Italy    </span></td><td><span style=white-space:pre-wrap>Pretty aromas of yellow flower and stone fruit lead the nose. The bright palate offers yellow apple, apricot, vanilla and delicate notes of lightly toasted oak alongside crisp acidity.                                                                                                                                   </span></td><td><span style=white-space:pre-wrap>Dalila                                                          </span></td><td>87</td><td>13</td><td>Sicily &amp; Sardinia</td><td><span style=white-space:pre-wrap>Terre Siciliane      </span></td><td><span style=white-space:pre-wrap>NA               </span></td><td><span style=white-space:pre-wrap>Kerin Oâ€™Keefe   </span></td><td>@kerinokeefe </td><td><span style=white-space:pre-wrap>Stemmari 2013 Dalila White (Terre Siciliane)                                                      </span></td><td><span style=white-space:pre-wrap>White Blend       </span></td><td><span style=white-space:pre-wrap>Stemmari               </span></td></tr>\n",
       "\t<tr><th scope=row>28</th><td><span style=white-space:pre-wrap>Italy    </span></td><td><span style=white-space:pre-wrap>Aromas recall ripe dark berry, toast and a whiff of cake spice. The soft, informal palate offers sour cherry, vanilla and a hint of espresso alongside round tannins. Drink soon.                                                                                                                                          </span></td><td><span style=white-space:pre-wrap>NA                                                              </span></td><td>87</td><td>10</td><td>Sicily &amp; Sardinia</td><td><span style=white-space:pre-wrap>Terre Siciliane      </span></td><td><span style=white-space:pre-wrap>NA               </span></td><td><span style=white-space:pre-wrap>Kerin Oâ€™Keefe   </span></td><td>@kerinokeefe </td><td><span style=white-space:pre-wrap>Stemmari 2013 Nero d'Avola (Terre Siciliane)                                                      </span></td><td><span style=white-space:pre-wrap>Nero d'Avola      </span></td><td><span style=white-space:pre-wrap>Stemmari               </span></td></tr>\n",
       "\t<tr><th scope=row>29</th><td><span style=white-space:pre-wrap>Italy    </span></td><td><span style=white-space:pre-wrap>Aromas suggest mature berry, scorched earth, animal, toast and anise. The palate offers ripe black berry, oak, espresso, cocoa and vanilla alongside dusty tannins.                                                                                                                                                        </span></td><td><span style=white-space:pre-wrap>Mascaria Barricato                                              </span></td><td>87</td><td>17</td><td>Sicily &amp; Sardinia</td><td>Cerasuolo di Vittoria</td><td><span style=white-space:pre-wrap>NA               </span></td><td><span style=white-space:pre-wrap>Kerin Oâ€™Keefe   </span></td><td>@kerinokeefe </td><td><span style=white-space:pre-wrap>Terre di Giurfo 2011 Mascaria Barricato  (Cerasuolo di Vittoria)                                  </span></td><td><span style=white-space:pre-wrap>Red Blend         </span></td><td><span style=white-space:pre-wrap>Terre di Giurfo        </span></td></tr>\n",
       "\t<tr><th scope=row>30</th><td>US       </td><td>Clarksburg is becoming a haven for Chenin Blanc in California. This bottling, using fruit sourced from several vineyards in the area, is balanced with just a trace of sweetness in the background (1% residual sugar). This is crisp, straightforward and blessed with notes of pear and lime. Drink it cold.             </td><td>NA                                                              </td><td>86</td><td>16</td><td>California       </td><td>Clarksburg           </td><td>Central Valley   </td><td>Virginie Boone    </td><td>@vboone      </td><td>Clarksburg Wine Company 2010 Chenin Blanc (Clarksburg)                                            </td><td>Chenin Blanc      </td><td>Clarksburg Wine Company</td></tr>\n",
       "\t<tr><th scope=row>31</th><td>France   </td><td>Red cherry fruit comes laced with light tannins, giving this bright wine an open, juicy character.                                                                                                                                                                                                                         </td><td>Nouveau                                                         </td><td>86</td><td>NA</td><td>Beaujolais       </td><td>Beaujolais-Villages  </td><td>NA               </td><td>Roger Voss        </td><td>@vossroger   </td><td>Domaine de la Madone 2012 Nouveau  (Beaujolais-Villages)                                          </td><td>Gamay             </td><td>Domaine de la Madone   </td></tr>\n",
       "\t<tr><th scope=row>32</th><td><span style=white-space:pre-wrap>Italy    </span></td><td><span style=white-space:pre-wrap>Merlot and Nero d'Avola form the base for this easy red wine that would pair with fettuccine and meat sauce or pork roast. The quality of the fruit is clean, bright and sharp.                                                                                                                                            </span></td><td><span style=white-space:pre-wrap>CalanÃ¬ca Nero d'Avola-Merlot                                   </span></td><td>86</td><td>NA</td><td>Sicily &amp; Sardinia</td><td><span style=white-space:pre-wrap>Sicilia              </span></td><td><span style=white-space:pre-wrap>NA               </span></td><td><span style=white-space:pre-wrap>NA                </span></td><td><span style=white-space:pre-wrap>NA           </span></td><td><span style=white-space:pre-wrap>Duca di Salaparuta 2010 CalanÃ¬ca Nero d'Avola-Merlot Red (Sicilia)                               </span></td><td><span style=white-space:pre-wrap>Red Blend         </span></td><td><span style=white-space:pre-wrap>Duca di Salaparuta     </span></td></tr>\n",
       "\t<tr><th scope=row>33</th><td><span style=white-space:pre-wrap>Italy    </span></td><td><span style=white-space:pre-wrap>Part of the extended CalanÃ¬ca series, this Grillo-Viognier blend shows aromas of honeysuckle and jasmine, backed by touches of cut grass and wild sage. In the mouth, it shows ripe yellow-fruit flavors.                                                                                                                 </span></td><td><span style=white-space:pre-wrap>CalanÃ¬ca Grillo-Viognier                                       </span></td><td>86</td><td>NA</td><td>Sicily &amp; Sardinia</td><td><span style=white-space:pre-wrap>Sicilia              </span></td><td><span style=white-space:pre-wrap>NA               </span></td><td><span style=white-space:pre-wrap>NA                </span></td><td><span style=white-space:pre-wrap>NA           </span></td><td><span style=white-space:pre-wrap>Duca di Salaparuta 2011 CalanÃ¬ca Grillo-Viognier White (Sicilia)                                 </span></td><td><span style=white-space:pre-wrap>White Blend       </span></td><td><span style=white-space:pre-wrap>Duca di Salaparuta     </span></td></tr>\n",
       "\t<tr><th scope=row>34</th><td>US       </td><td>Rustic and dry, this has flavors of berries, currants, licorice and spices. Made from Cabernet Franc and Cabernet Sauvignon.                                                                                                                                                                                               </td><td>Puma Springs Vineyard                                           </td><td>86</td><td>50</td><td>California       </td><td>Dry Creek Valley     </td><td>Sonoma           </td><td>NA                </td><td>NA           </td><td>Envolve 2010 Puma Springs Vineyard Red (Dry Creek Valley)                                         </td><td>Red Blend         </td><td>Envolve                </td></tr>\n",
       "\t<tr><th scope=row>...</th><td>...</td><td>...</td><td>...</td><td>...</td><td>...</td><td>...</td><td>...</td><td>...</td><td>...</td><td>...</td><td>...</td><td>...</td><td>...</td></tr>\n",
       "\t<tr><th scope=row>119956</th><td>Argentina  </td><td>Compared to the regular 2006 Malbec from Chakana, this wine steps up in weight class and wins the crown. It's a serious but inviting red with spongey, ripe berry aromas topped by pure raspberry, cherry and cola flavors. It's both racy and composed, with a pile of bitter chocolate on the long finish. Good through 2009 at least.                                        </td><td>Reserve                                          </td><td>91</td><td>25</td><td>Mendoza Province </td><td>LujÃ¡n de Cuyo  </td><td>NA          </td><td>Michael Schachner </td><td>@wineschach   </td><td>Chakana 2006 Reserve Malbec (LujÃ¡n de Cuyo)                                                           </td><td>Malbec                  </td><td>Chakana                                  </td></tr>\n",
       "\t<tr><th scope=row>119957</th><td>Austria    </td><td>A true TBA, its very rich, toffee-flavored, intense sweetness overpowering the botrytis dryness initially. And then you feel the acidity, the apricot and peach flavors and the shot of lime. In its texture, it is a truly intense dessert wine. Age for 10 years.                                                                                                             </td><td>Grand Vin                                        </td><td>91</td><td>70</td><td>Burgenland       </td><td>NA              </td><td>NA          </td><td>Roger Voss        </td><td>@vossroger    </td><td>Schloss Halbturn 2004 Grand Vin White (Burgenland)                                                     </td><td>White Blend             </td><td>Schloss Halbturn                         </td></tr>\n",
       "\t<tr><th scope=row>119958</th><td>US         </td><td>This is the winery's bells and whistles Chardonnay. Grown from inland fruit, in a vineyard near Ukiah, it's rich in buttercreamy peach, pear and pineapple flavors, with a spicy, racy finish.                                                                                                                                                                                  </td><td>Watson Vineyard                                  </td><td>91</td><td>36</td><td>California       </td><td>Mendocino       </td><td>NA          </td><td>NA                </td><td>NA            </td><td>Standish 2006 Watson Vineyard Chardonnay (Mendocino)                                                   </td><td>Chardonnay              </td><td>Standish                                 </td></tr>\n",
       "\t<tr><th scope=row>119959</th><td>US         </td><td>A Chardonnay with an unusual companion, 8% SÃ©millon, this is floral and fruity in equal measure. Tight, bright acidity supports flavors of fennel and green apple, with the oak impact playing a subtle supporting role. The finish is nicely crisp.                                                                                                                           </td><td>NA                                               </td><td>90</td><td>20</td><td>California       </td><td>Mendocino County</td><td>NA          </td><td>Virginie Boone    </td><td>@vboone       </td><td>Apriori 2013 Chardonnay (Mendocino County)                                                             </td><td>Chardonnay              </td><td>Apriori                                  </td></tr>\n",
       "\t<tr><th scope=row>119960</th><td>US         </td><td>This is classic in herbaceous aromas and flavors, rich in juicy blackberry and blueberry while also offering savory pencil shavings and dark chocolate. Leathered, firm tannins complete the picture, providing structure and integration to a wall of well-managed oak.                                                                                                        </td><td>NA                                               </td><td>90</td><td>35</td><td>California       </td><td>Sonoma County   </td><td>Sonoma      </td><td>Virginie Boone    </td><td>@vboone       </td><td>Arrowood 2010 Cabernet Sauvignon (Sonoma County)                                                       </td><td>Cabernet Sauvignon      </td><td>Arrowood                                 </td></tr>\n",
       "\t<tr><th scope=row>119961</th><td><span style=white-space:pre-wrap>Italy      </span></td><td><span style=white-space:pre-wrap>A blend of Nero d'Avola and Syrah, this conveys aromas of scorched earth, crushed flower, dark berry and a whiff of cooking spice. The palate offers ripe cherry, graphite, ground black pepper and a smoky note alongside velvety tannins.                                                                                                                                     </span></td><td><span style=white-space:pre-wrap>AdÃ¨nzia                                         </span></td><td>90</td><td>29</td><td>Sicily &amp; Sardinia</td><td><span style=white-space:pre-wrap>Sicilia         </span></td><td><span style=white-space:pre-wrap>NA          </span></td><td><span style=white-space:pre-wrap>Kerin Oâ€™Keefe   </span></td><td><span style=white-space:pre-wrap>@kerinokeefe  </span></td><td><span style=white-space:pre-wrap>Baglio del Cristo di Campobello 2012 AdÃ¨nzia Red (Sicilia)                                            </span></td><td><span style=white-space:pre-wrap>Red Blend               </span></td><td><span style=white-space:pre-wrap>Baglio del Cristo di Campobello          </span></td></tr>\n",
       "\t<tr><th scope=row>119962</th><td>Israel     </td><td>Deep garnet in the glass, this has a nose of blackberry and vanilla. Flavors of blackberry, eucalyptus, tart cherry and white chocolate are well balanced, with a mix of fruity and savory notes. Tannins are mostly smooth with a touch of grip. The finish combines a pleasing blend of eucalyptus and tart cherry flavors.                                                   </td><td>Special Reserve Winemakers' Choice               </td><td>90</td><td>25</td><td>Galilee          </td><td>NA              </td><td>NA          </td><td>Mike DeSimone     </td><td>@worldwineguys</td><td>Barkan 2011 Special Reserve Winemakers' Choice Shiraz (Galilee)                                        </td><td>Shiraz                  </td><td>Barkan                                   </td></tr>\n",
       "\t<tr><th scope=row>119964</th><td>Germany    </td><td>Plump, clingy peach and honey notes are cut with streaks of lime in this delicate yet intensely satisfying wine. Off dry in style, it's refreshingly juicy, with a rich, supple mouthfeel offset by bristling acidity.                                                                                                                                                          </td><td>Dom                                              </td><td>90</td><td>17</td><td>Mosel            </td><td>NA              </td><td>NA          </td><td>Anna Lee C. Iijima</td><td>NA            </td><td>BischÃ¶fliche WeingÃ¼ter Trier 2013 Dom Riesling (Mosel)                                               </td><td>Riesling                </td><td>BischÃ¶fliche WeingÃ¼ter Trier           </td></tr>\n",
       "\t<tr><th scope=row>119965</th><td><span style=white-space:pre-wrap>Italy      </span></td><td><span style=white-space:pre-wrap>A blend of 65% Cabernet Sauvignon, 30% Merlot and 5% Petit Verdot, this bold wine features aromas of spiced plum, blackcurrant, leather and a hint of coconut. On the palate, assertive tannins support the mature blackberry, espresso and licorice flavors.                                                                                                                   </span></td><td><span style=white-space:pre-wrap>Symposio                                         </span></td><td>90</td><td>20</td><td>Sicily &amp; Sardinia</td><td>Terre Siciliane </td><td><span style=white-space:pre-wrap>NA          </span></td><td><span style=white-space:pre-wrap>Kerin Oâ€™Keefe   </span></td><td><span style=white-space:pre-wrap>@kerinokeefe  </span></td><td><span style=white-space:pre-wrap>Feudo Principi di Butera 2012 Symposio Red (Terre Siciliane)                                           </span></td><td><span style=white-space:pre-wrap>Red Blend               </span></td><td><span style=white-space:pre-wrap>Feudo Principi di Butera                 </span></td></tr>\n",
       "\t<tr><th scope=row>119966</th><td>Argentina  </td><td>Raspberry and cassis aromas are fresh and upright while showing wiry, grassy accents. Full bodied, this features a jammy, pulpy palate that's fresh but low on definition. Herbal, lightly green infiltrations drift onto a solid, tannic finish. Drink through 2018.                                                                                                           </td><td>Pedernal                                         </td><td>90</td><td>43</td><td>Other            </td><td>San Juan        </td><td>NA          </td><td>Michael Schachner </td><td>@wineschach   </td><td>Finca Las Moras 2010 Pedernal Malbec (San Juan)                                                        </td><td>Malbec                  </td><td>Finca Las Moras                          </td></tr>\n",
       "\t<tr><th scope=row>119969</th><td>France     </td><td>Hugely spicy this rich wine is described as sweet. In fact, the spice gives it a drier edge, adding pepper and cinnamon as well as a mineral character from the granite soil. The wine could age, so drink from 2016.                                                                                                                                                           </td><td>Holder                                           </td><td>90</td><td>30</td><td>Alsace           </td><td>Alsace          </td><td>NA          </td><td>Roger Voss        </td><td>@vossroger    </td><td>Henri Schoenheitz 2012 Holder Gewurztraminer (Alsace)                                                  </td><td>GewÃ¼rztraminer         </td><td>Henri Schoenheitz                        </td></tr>\n",
       "\t<tr><th scope=row>119970</th><td>US         </td><td>This Zinfandel from the eastern section of Napa Valley is unexpectedly structured and bright in acidity, offering notes of strawberry and cinnamon. The acidity provides a kick to the finish, awash in memorable sprinkles of white pepper.                                                                                                                                    </td><td>NA                                               </td><td>90</td><td>22</td><td>California       </td><td>Chiles Valley   </td><td>Napa        </td><td>Virginie Boone    </td><td>@vboone       </td><td>Houdini 2011 Zinfandel (Chiles Valley)                                                                 </td><td>Zinfandel               </td><td>Houdini                                  </td></tr>\n",
       "\t<tr><th scope=row>119971</th><td>New Zealand</td><td>Roughly two-thirds Cabernet and one-third Merlot, this medium-bodied wine packs in ample plum fruit, accented by cinnamon and cedar. Finishes long, with a slightly velvety texture.                                                                                                                                                                                            </td><td>Elspeth                                          </td><td>90</td><td>25</td><td>Hawke's Bay      </td><td>NA              </td><td>NA          </td><td>Joe Czerwinski    </td><td>@JoeCz        </td><td>Mills Reef 2011 Elspeth Cabernet Merlot (Hawke's Bay)                                                  </td><td>Cabernet Merlot         </td><td>Mills Reef                               </td></tr>\n",
       "\t<tr><th scope=row>119972</th><td>New Zealand</td><td>One of the more characterful Pinot Gris for this price, Ara's 2013 offers wet stone and apple aromas, flavors of apple, cinnamon and pear and a long, mouthwatering finish. There's a bit of creaminess on the midpalate and just a hint of dusty texture on the finish.                                                                                                        </td><td>Single Estate                                    </td><td>90</td><td>15</td><td>Marlborough      </td><td>NA              </td><td>NA          </td><td>Joe Czerwinski    </td><td>@JoeCz        </td><td>Ara 2013 Single Estate Pinot Gris (Marlborough)                                                        </td><td>Pinot Gris              </td><td>Ara                                      </td></tr>\n",
       "\t<tr><th scope=row>119973</th><td>New Zealand</td><td>Like Dog Point's 2011 Chardonnay, this wine is dominated by citrusy elements. Hints of toasted almond and some riper notes of pear provide a certain amount of breadth on the palate, but citrus and quince dominate, lingering on the crisp finish. Drink nowâ€“2017.                                                                                                          </td><td>NA                                               </td><td>90</td><td>40</td><td>Marlborough      </td><td>NA              </td><td>NA          </td><td>Joe Czerwinski    </td><td>@JoeCz        </td><td>Dog Point 2012 Chardonnay (Marlborough)                                                                </td><td>Chardonnay              </td><td>Dog Point                                </td></tr>\n",
       "\t<tr><th scope=row>119974</th><td>New Zealand</td><td>The blend is 44% Merlot, 33% Cabernet Sauvignon and 22% Malbec. The result is a medium- to full-bodied wine with firm structure that should drink well through 2020. Leather, earth and plum notes pick up hints of black olive and espresso on the finish.                                                                                                                     </td><td>Gimblett Gravels Merlot-Cabernet Sauvignon-Malbec</td><td>90</td><td>19</td><td>Hawke's Bay      </td><td>NA              </td><td>NA          </td><td>Joe Czerwinski    </td><td>@JoeCz        </td><td>Esk Valley 2011 Gimblett Gravels Merlot-Cabernet Sauvignon-Malbec Red (Hawke's Bay)                    </td><td>Bordeaux-style Red Blend</td><td>Esk Valley                               </td></tr>\n",
       "\t<tr><th scope=row>119975</th><td>Spain      </td><td>Lightly baked berry aromas vie for attention with leather, spice and mild earth notes, and the result is disjointed. On the palate, this is tight as a drum initially, but more expansive as it unfolds. Cherry, plum, raspberry, vanilla and woodspice flavors finish pure, clean and easy. This is a fine yet manageable Rioja that's not trying too hard. Drink through 2016.</td><td>Crianza                                          </td><td>90</td><td>17</td><td>Northern Spain   </td><td>Rioja           </td><td>NA          </td><td>Michael Schachner </td><td>@wineschach   </td><td>ViÃ±edos Real Rubio 2010 Crianza  (Rioja)                                                              </td><td>Tempranillo Blend       </td><td>ViÃ±edos Real Rubio                      </td></tr>\n",
       "\t<tr><th scope=row>119976</th><td>New Zealand</td><td>This blend of Cabernet Sauvignon-Merlot and Cabernet Franc is full bodied and firm, the tannins just beginning to soften. The aromas and flavors are classic: cedar, vanilla, cassis and tobacco. Drink nowâ€“2020.                                                                                                                                                             </td><td>Irongate                                         </td><td>90</td><td>35</td><td>Hawke's Bay      </td><td>NA              </td><td>NA          </td><td>Joe Czerwinski    </td><td>@JoeCz        </td><td>Babich 2010 Irongate Red (Hawke's Bay)                                                                 </td><td>Bordeaux-style Red Blend</td><td>Babich                                   </td></tr>\n",
       "\t<tr><th scope=row>119977</th><td>France     </td><td>The granite soil of the Brand Grand Cru vineyard has produced a strongly structured wine that also has richness and ripe fruits. Off dry, it has a hint of honey as well as yellow fruits and pears. The aftertaste brings out the acidity and freshness that balance the wine. Drink from 2017.                                                                                </td><td>Brand Grand Cru                                  </td><td>90</td><td>57</td><td>Alsace           </td><td>Alsace          </td><td>NA          </td><td>Roger Voss        </td><td>@vossroger    </td><td>Cave de Turckheim 2010 Brand Grand Cru Pinot Gris (Alsace)                                             </td><td>Pinot Gris              </td><td>Cave de Turckheim                        </td></tr>\n",
       "\t<tr><th scope=row>119978</th><td>Portugal   </td><td>Fresh and fruity, this is full of red cherry flavors and crisp acidity. It has some age, hinting at a more toasty future. For the moment, it's at its best after eight years aging on the lees in the bottle.                                                                                                                                                                   </td><td>VÃ©rtice                                         </td><td>90</td><td>48</td><td>Douro            </td><td>NA              </td><td>NA          </td><td>Roger Voss        </td><td>@vossroger    </td><td>Caves Transmontanas 2006 VÃ©rtice Pinot Noir (Douro)                                                   </td><td>Pinot Noir              </td><td>Caves Transmontanas                      </td></tr>\n",
       "\t<tr><th scope=row>119979</th><td><span style=white-space:pre-wrap>Italy      </span></td><td><span style=white-space:pre-wrap>Intense aromas of wild cherry, baking spice, tilled soil and savory herb lead the nose on this soulful, silky red. The round, smooth palate doles out juicy red cherry, strawberry jelly, mineral, white pepper and an intriguing note of zabaglione alongside soft, supple tannins and bright acidity..                                                                        </span></td><td><span style=white-space:pre-wrap>NA                                               </span></td><td>90</td><td>30</td><td>Sicily &amp; Sardinia</td><td><span style=white-space:pre-wrap>Sicilia         </span></td><td><span style=white-space:pre-wrap>NA          </span></td><td><span style=white-space:pre-wrap>Kerin Oâ€™Keefe   </span></td><td><span style=white-space:pre-wrap>@kerinokeefe  </span></td><td><span style=white-space:pre-wrap>COS 2013 Frappato (Sicilia)                                                                            </span></td><td><span style=white-space:pre-wrap>Frappato                </span></td><td><span style=white-space:pre-wrap>COS                                      </span></td></tr>\n",
       "\t<tr><th scope=row>119980</th><td><span style=white-space:pre-wrap>Italy      </span></td><td><span style=white-space:pre-wrap>Blackberry, cassis, grilled herb and toasted aromas come together in the glass. On the palate, espresso, mint and black pepper add depth to the core of black cherry and blackberry flavors. It finishes on a licorice note.                                                                                                                                                    </span></td><td><span style=white-space:pre-wrap>SÃ gana Tenuta San Giacomo                       </span></td><td>90</td><td>40</td><td>Sicily &amp; Sardinia</td><td><span style=white-space:pre-wrap>Sicilia         </span></td><td><span style=white-space:pre-wrap>NA          </span></td><td><span style=white-space:pre-wrap>Kerin Oâ€™Keefe   </span></td><td><span style=white-space:pre-wrap>@kerinokeefe  </span></td><td><span style=white-space:pre-wrap>Cusumano 2012 SÃ gana Tenuta San Giacomo Nero d'Avola (Sicilia)                                        </span></td><td><span style=white-space:pre-wrap>Nero d'Avola            </span></td><td><span style=white-space:pre-wrap>Cusumano                                 </span></td></tr>\n",
       "\t<tr><th scope=row>119981</th><td>Israel     </td><td>A bouquet of black cherry, tart cranberry and clove opens into flavors of cherry, anisette, espresso bean and mint, with a hint of tart cranberry. The minty notes can almost seem overly strong for a moment, but tart tones bring the fruit flavors back to the foreground. The pleasantly gripping tannins will mellow with a few more years of aging.                       </td><td>Oak Aged                                         </td><td>90</td><td>20</td><td>Galilee          </td><td>NA              </td><td>NA          </td><td>Mike DeSimone     </td><td>@worldwineguys</td><td>Dalton 2012 Oak Aged Cabernet Sauvignon (Galilee)                                                      </td><td>Cabernet Sauvignon      </td><td>Dalton                                   </td></tr>\n",
       "\t<tr><th scope=row>119982</th><td>France     </td><td>Initially quite muted, this wine slowly develops impressive richness and spice. It's not sweet, more medium dry, with the spice forming a core of dryness that contrasts with the honeyed texture. It can develop more, so wait to drink until 2016.                                                                                                                            </td><td>Domaine Saint-RÃ©my Herrenweg                    </td><td>90</td><td>NA</td><td>Alsace           </td><td>Alsace          </td><td>NA          </td><td>Roger Voss        </td><td>@vossroger    </td><td>Domaine Ehrhart 2013 Domaine Saint-RÃ©my Herrenweg Gewurztraminer (Alsace)                             </td><td>GewÃ¼rztraminer         </td><td>Domaine Ehrhart                          </td></tr>\n",
       "\t<tr><th scope=row>119983</th><td>France     </td><td>While it's rich, this beautiful dry wine also offers considerable freshness. Acidity cuts easily through the ripe white fruit, pear and red apples, allowing room for spice that provides a contrasting aftertaste.                                                                                                                                                             </td><td>Seppi Landmann VallÃ©e Noble                     </td><td>90</td><td>28</td><td>Alsace           </td><td>Alsace          </td><td>NA          </td><td>Roger Voss        </td><td>@vossroger    </td><td>Domaine RieflÃ©-Landmann 2013 Seppi Landmann VallÃ©e Noble Pinot Gris (Alsace)                         </td><td>Pinot Gris              </td><td>Domaine RieflÃ©-Landmann                 </td></tr>\n",
       "\t<tr><th scope=row>119984</th><td>Germany    </td><td>Notes of honeysuckle and cantaloupe sweeten this deliciously feather-light spÃ¤tlese. It's intensely juicy, quenching the palate with streams of tart tangerine and grapefruit acidity, yet wraps up with a kiss of honey and peach.                                                                                                                                            </td><td>Brauneberger Juffer-Sonnenuhr SpÃ¤tlese          </td><td>90</td><td>28</td><td>Mosel            </td><td>NA              </td><td>NA          </td><td>Anna Lee C. Iijima</td><td>NA            </td><td>Dr. H. Thanisch (Erben MÃ¼ller-Burggraef) 2013 Brauneberger Juffer-Sonnenuhr SpÃ¤tlese Riesling (Mosel)</td><td>Riesling                </td><td>Dr. H. Thanisch (Erben MÃ¼ller-Burggraef)</td></tr>\n",
       "\t<tr><th scope=row>119985</th><td>US         </td><td>Citation is given as much as a decade of bottle age prior to release, which means it is pre-cellared and drinking at its peak. Baked cherry, cocoa and coconut flavors combine gracefully, with soft, secondary fruit compote highlights.                                                                                                                                       </td><td>NA                                               </td><td>90</td><td>75</td><td>Oregon           </td><td>Oregon          </td><td>Oregon Other</td><td>Paul Gregutt      </td><td>@paulgwineÂ   </td><td>Citation 2004 Pinot Noir (Oregon)                                                                      </td><td>Pinot Noir              </td><td>Citation                                 </td></tr>\n",
       "\t<tr><th scope=row>119986</th><td>France     </td><td>Well-drained gravel soil gives this wine its crisp and dry character. It is ripe and fruity, although the spice is subdued in favor of a more serious structure. This is a wine to age for a couple of years, so drink from 2017.                                                                                                                                               </td><td>Kritt                                            </td><td>90</td><td>30</td><td>Alsace           </td><td>Alsace          </td><td>NA          </td><td>Roger Voss        </td><td>@vossroger    </td><td>Domaine Gresser 2013 Kritt Gewurztraminer (Alsace)                                                     </td><td>GewÃ¼rztraminer         </td><td>Domaine Gresser                          </td></tr>\n",
       "\t<tr><th scope=row>119987</th><td>France     </td><td>A dry style of Pinot Gris, this is crisp with some acidity. It also has weight and a solid, powerful core of spice and baked apple flavors. With its structure still developing, the wine needs to age. Drink from 2015.                                                                                                                                                        </td><td>NA                                               </td><td>90</td><td>32</td><td>Alsace           </td><td>Alsace          </td><td>NA          </td><td>Roger Voss        </td><td>@vossroger    </td><td>Domaine Marcel Deiss 2012 Pinot Gris (Alsace)                                                          </td><td>Pinot Gris              </td><td>Domaine Marcel Deiss                     </td></tr>\n",
       "\t<tr><th scope=row>119988</th><td>France     </td><td>Big, rich and off-dry, this is powered by intense spiciness and rounded texture. Lychees dominate the fruit profile, giving an opulent feel to the aftertaste. Drink now.                                                                                                                                                                                                       </td><td>Lieu-dit Harth CuvÃ©e Caroline                   </td><td>90</td><td>21</td><td>Alsace           </td><td>Alsace          </td><td>NA          </td><td>Roger Voss        </td><td>@vossroger    </td><td>Domaine Schoffit 2012 Lieu-dit Harth CuvÃ©e Caroline Gewurztraminer (Alsace)                           </td><td>GewÃ¼rztraminer         </td><td>Domaine Schoffit                         </td></tr>\n",
       "</tbody>\n",
       "</table>\n"
      ],
      "text/latex": [
       "A data.frame: 99495 × 13\n",
       "\\begin{tabular}{r|lllllllllllll}\n",
       "  & country & description & designation & points & price & province & region\\_1 & region\\_2 & taster\\_name & taster\\_twitter\\_handle & title & variety & winery\\\\\n",
       "  & <chr> & <chr> & <chr> & <int> & <dbl> & <chr> & <chr> & <chr> & <chr> & <chr> & <chr> & <chr> & <chr>\\\\\n",
       "\\hline\n",
       "\t1 & Italy     & Aromas include tropical fruit, broom, brimstone and dried herb. The palate isn't overly expressive, offering unripened apple, citrus and dried sage alongside brisk acidity.                                                                                                                                                & VulkÃ  Bianco                                                    & 87 & NA & Sicily \\& Sardinia & Etna                  & NA                & Kerin Oâ€™Keefe    & @kerinokeefe  & Nicosia 2013 VulkÃ  Bianco  (Etna)                                                                 & White Blend        & Nicosia                \\\\\n",
       "\t2 & Portugal  & This is ripe and fruity, a wine that is smooth while still structured. Firm tannins are filled out with juicy red berry fruits and freshened with acidity. It's  already drinkable, although it will certainly be better from 2016.                                                                                         & Avidagos                                                         & 87 & 15 & Douro             & NA                    & NA                & Roger Voss         & @vossroger    & Quinta dos Avidagos 2011 Avidagos Red (Douro)                                                      & Portuguese Red     & Quinta dos Avidagos    \\\\\n",
       "\t3 & US        & Tart and snappy, the flavors of lime flesh and rind dominate. Some green pineapple pokes through, with crisp acidity underscoring the flavors. The wine was all stainless-steel fermented.                                                                                                                                  & NA                                                               & 87 & 14 & Oregon            & Willamette Valley     & Willamette Valley & Paul Gregutt       & @paulgwineÂ   & Rainstorm 2013 Pinot Gris (Willamette Valley)                                                      & Pinot Gris         & Rainstorm              \\\\\n",
       "\t4 & US        & Pineapple rind, lemon pith and orange blossom start off the aromas. The palate is a bit more opulent, with notes of honey-drizzled guava and mango giving way to a slightly astringent, semidry finish.                                                                                                                     & Reserve Late Harvest                                             & 87 & 13 & Michigan          & Lake Michigan Shore   & NA                & Alexander Peartree & NA            & St. Julian 2013 Reserve Late Harvest Riesling (Lake Michigan Shore)                                & Riesling           & St. Julian             \\\\\n",
       "\t6 & Spain     & Blackberry and raspberry aromas show a typical Navarran whiff of green herbs and, in this case, horseradish. In the mouth, this is fairly full bodied, with tomatoey acidity. Spicy, herbal flavors complement dark plum fruit, while the finish is fresh but grabby.                                                       & Ars In Vitro                                                     & 87 & 15 & Northern Spain    & Navarra               & NA                & Michael Schachner  & @wineschach   & Tandem 2011 Ars In Vitro Tempranillo-Merlot (Navarra)                                              & Tempranillo-Merlot & Tandem                 \\\\\n",
       "\t7 & Italy     & Here's a bright, informal red that opens with aromas of candied berry, white pepper and savory herb that carry over to the palate. It's balanced with fresh acidity and soft tannins.                                                                                                                                       & Belsito                                                          & 87 & 16 & Sicily \\& Sardinia & Vittoria              & NA                & Kerin Oâ€™Keefe    & @kerinokeefe  & Terre di Giurfo 2013 Belsito Frappato (Vittoria)                                                   & Frappato           & Terre di Giurfo        \\\\\n",
       "\t8 & France    & This dry and restrained wine offers spice in profusion. Balanced with acidity and a firm texture, it's very much for food.                                                                                                                                                                                                  & NA                                                               & 87 & 24 & Alsace            & Alsace                & NA                & Roger Voss         & @vossroger    & Trimbach 2012 Gewurztraminer (Alsace)                                                              & GewÃ¼rztraminer    & Trimbach               \\\\\n",
       "\t9 & Germany   & Savory dried thyme notes accent sunnier flavors of preserved peach in this brisk, off-dry wine. It's fruity and fresh, with an elegant, sprightly footprint.                                                                                                                                                                & Shine                                                            & 87 & 12 & Rheinhessen       & NA                    & NA                & Anna Lee C. Iijima & NA            & Heinz Eifel 2013 Shine GewÃ¼rztraminer (Rheinhessen)                                               & GewÃ¼rztraminer    & Heinz Eifel            \\\\\n",
       "\t10 & France    & This has great depth of flavor with its fresh apple and pear fruits and touch of spice. It's off dry while balanced with acidity and a crisp texture. Drink now.                                                                                                                                                            & Les Natures                                                      & 87 & 27 & Alsace            & Alsace                & NA                & Roger Voss         & @vossroger    & Jean-Baptiste Adam 2012 Les Natures Pinot Gris (Alsace)                                            & Pinot Gris         & Jean-Baptiste Adam     \\\\\n",
       "\t12 & France    & This is a dry wine, very spicy, with a tight, taut texture and strongly mineral character layered with citrus as well as pepper. It's a food wine with its almost crisp aftertaste.                                                                                                                                         & NA                                                               & 87 & 30 & Alsace            & Alsace                & NA                & Roger Voss         & @vossroger    & Leon Beyer 2012 Gewurztraminer (Alsace)                                                            & GewÃ¼rztraminer    & Leon Beyer             \\\\\n",
       "\t13 & US        & Slightly reduced, this wine offers a chalky, tannic backbone to an otherwise juicy explosion of rich black cherry, the whole accented throughout by firm oak and cigar box.                                                                                                                                                 & NA                                                               & 87 & 34 & California        & Alexander Valley      & Sonoma            & Virginie Boone     & @vboone       & Louis M. Martini 2012 Cabernet Sauvignon (Alexander Valley)                                        & Cabernet Sauvignon & Louis M. Martini       \\\\\n",
       "\t14 & Italy     & This is dominated by oak and oak-driven aromas that include roasted coffee bean, espresso, coconut and vanilla that carry over to the palate, together with plum and chocolate. Astringent, drying tannins give it a rather abrupt finish.                                                                                  & Rosso                                                            & 87 & NA & Sicily \\& Sardinia & Etna                  & NA                & Kerin Oâ€™Keefe    & @kerinokeefe  & Masseria Setteporte 2012 Rosso  (Etna)                                                             & Nerello Mascalese  & Masseria Setteporte    \\\\\n",
       "\t15 & US        & Building on 150 years and six generations of winemaking tradition, the winery trends toward a leaner style, with the classic California buttercream aroma cut by tart green apple. In this good everyday sipping wine, flavors that range from pear to barely ripe pineapple prove approachable but not distinctive.        & NA                                                               & 87 & 12 & California        & Central Coast         & Central Coast     & Matt Kettmann      & @mattkettmann & Mirassou 2012 Chardonnay (Central Coast)                                                           & Chardonnay         & Mirassou               \\\\\n",
       "\t16 & Germany   & Zesty orange peels and apple notes abound in this sprightly, mineral-toned Riesling. Off dry on the palate, yet racy and lean, it's a refreshing, easy quaffer with wide appeal.                                                                                                                                            & Devon                                                            & 87 & 24 & Mosel             & NA                    & NA                & Anna Lee C. Iijima & NA            & Richard BÃ¶cking 2013 Devon Riesling (Mosel)                                                       & Riesling           & Richard BÃ¶cking       \\\\\n",
       "\t17 & Argentina & Baked plum, molasses, balsamic vinegar and cheesy oak aromas feed into a palate that's braced by a bolt of acidity. A compact set of saucy red-berry and plum flavors features tobacco and peppery accents, while the finish is mildly green in flavor, with respectable weight and balance.                                & Felix                                                            & 87 & 30 & Other             & Cafayate              & NA                & Michael Schachner  & @wineschach   & Felix Lavaque 2010 Felix Malbec (Cafayate)                                                         & Malbec             & Felix Lavaque          \\\\\n",
       "\t18 & Argentina & Raw black-cherry aromas are direct and simple but good. This has a juicy feel that thickens over time, with oak character and extract becoming more apparent. A flavor profile driven by dark-berry fruits and smoldering oak finishes meaty but hot.                                                                       & Winemaker Selection                                              & 87 & 13 & Mendoza Province  & Mendoza               & NA                & Michael Schachner  & @wineschach   & Gaucho Andino 2011 Winemaker Selection Malbec (Mendoza)                                            & Malbec             & Gaucho Andino          \\\\\n",
       "\t19 & Spain     & Desiccated blackberry, leather, charred wood and mint aromas carry the nose on this full-bodied, tannic, heavily oaked Tinto Fino. Flavors of clove and woodspice sit on top of blackberry fruit, then hickory and other forceful oak-based aromas rise up and dominate the finish.                                         & Vendimia Seleccionada Finca Valdelayegua Single Vineyard Crianza & 87 & 28 & Northern Spain    & Ribera del Duero      & NA                & Michael Schachner  & @wineschach   & Pradorey 2010 Vendimia Seleccionada Finca Valdelayegua Single Vineyard Crianza  (Ribera del Duero) & Tempranillo Blend  & Pradorey               \\\\\n",
       "\t20 & US        & Red fruit aromas pervade on the nose, with cigar box and menthol notes riding in the back. The palate is slightly restrained on entry, but opens up to riper notes of cherry and plum specked with crushed pepper. This blend of Merlot, Cabernet Sauvignon and Cabernet Franc is approachable now and ready to be enjoyed. & NA                                                               & 87 & 32 & Virginia          & Virginia              & NA                & Alexander Peartree & NA            & QuiÃ©vremont 2012 Meritage (Virginia)                                                              & Meritage           & QuiÃ©vremont           \\\\\n",
       "\t21 & US        & Ripe aromas of dark berries mingle with ample notes of black pepper, toasted vanilla and dusty tobacco. The palate is oak-driven in nature, but notes of tart red currant shine through, offering a bit of levity.                                                                                                          & Vin de Maison                                                    & 87 & 23 & Virginia          & Virginia              & NA                & Alexander Peartree & NA            & QuiÃ©vremont 2012 Vin de Maison Red (Virginia)                                                     & Red Blend          & QuiÃ©vremont           \\\\\n",
       "\t22 & US        & A sleek mix of tart berry, stem and herb, along with a hint of oak and chocolate, this is a fair value in a widely available, drink-now Oregon Pinot. The wine oak-aged for six months, whether in neutral or re-staved is not indicated.                                                                                   & NA                                                               & 87 & 20 & Oregon            & Oregon                & Oregon Other      & Paul Gregutt       & @paulgwineÂ   & Acrobat 2013 Pinot Noir (Oregon)                                                                   & Pinot Noir         & Acrobat                \\\\\n",
       "\t23 & Italy     & Delicate aromas recall white flower and citrus. The palate offers passion fruit, lime and white peach with a hint of mineral alongside bright acidity.                                                                                                                                                                      & Ficiligno                                                        & 87 & 19 & Sicily \\& Sardinia & Sicilia               & NA                & Kerin Oâ€™Keefe    & @kerinokeefe  & Baglio di Pianetto 2007 Ficiligno White (Sicilia)                                                  & White Blend        & Baglio di Pianetto     \\\\\n",
       "\t25 & Italy     & Aromas of prune, blackcurrant, toast and oak carry through to the extracted palate, along with flavors of black cherry and roasted coffee beans. Firm but drying tannins provide the framework.                                                                                                                             & Aynat                                                            & 87 & 35 & Sicily \\& Sardinia & Sicilia               & NA                & Kerin Oâ€™Keefe    & @kerinokeefe  & CanicattÃ¬ 2009 Aynat Nero d'Avola (Sicilia)                                                       & Nero d'Avola       & CanicattÃ¬             \\\\\n",
       "\t27 & Italy     & Pretty aromas of yellow flower and stone fruit lead the nose. The bright palate offers yellow apple, apricot, vanilla and delicate notes of lightly toasted oak alongside crisp acidity.                                                                                                                                    & Dalila                                                           & 87 & 13 & Sicily \\& Sardinia & Terre Siciliane       & NA                & Kerin Oâ€™Keefe    & @kerinokeefe  & Stemmari 2013 Dalila White (Terre Siciliane)                                                       & White Blend        & Stemmari               \\\\\n",
       "\t28 & Italy     & Aromas recall ripe dark berry, toast and a whiff of cake spice. The soft, informal palate offers sour cherry, vanilla and a hint of espresso alongside round tannins. Drink soon.                                                                                                                                           & NA                                                               & 87 & 10 & Sicily \\& Sardinia & Terre Siciliane       & NA                & Kerin Oâ€™Keefe    & @kerinokeefe  & Stemmari 2013 Nero d'Avola (Terre Siciliane)                                                       & Nero d'Avola       & Stemmari               \\\\\n",
       "\t29 & Italy     & Aromas suggest mature berry, scorched earth, animal, toast and anise. The palate offers ripe black berry, oak, espresso, cocoa and vanilla alongside dusty tannins.                                                                                                                                                         & Mascaria Barricato                                               & 87 & 17 & Sicily \\& Sardinia & Cerasuolo di Vittoria & NA                & Kerin Oâ€™Keefe    & @kerinokeefe  & Terre di Giurfo 2011 Mascaria Barricato  (Cerasuolo di Vittoria)                                   & Red Blend          & Terre di Giurfo        \\\\\n",
       "\t30 & US        & Clarksburg is becoming a haven for Chenin Blanc in California. This bottling, using fruit sourced from several vineyards in the area, is balanced with just a trace of sweetness in the background (1\\% residual sugar). This is crisp, straightforward and blessed with notes of pear and lime. Drink it cold.              & NA                                                               & 86 & 16 & California        & Clarksburg            & Central Valley    & Virginie Boone     & @vboone       & Clarksburg Wine Company 2010 Chenin Blanc (Clarksburg)                                             & Chenin Blanc       & Clarksburg Wine Company\\\\\n",
       "\t31 & France    & Red cherry fruit comes laced with light tannins, giving this bright wine an open, juicy character.                                                                                                                                                                                                                          & Nouveau                                                          & 86 & NA & Beaujolais        & Beaujolais-Villages   & NA                & Roger Voss         & @vossroger    & Domaine de la Madone 2012 Nouveau  (Beaujolais-Villages)                                           & Gamay              & Domaine de la Madone   \\\\\n",
       "\t32 & Italy     & Merlot and Nero d'Avola form the base for this easy red wine that would pair with fettuccine and meat sauce or pork roast. The quality of the fruit is clean, bright and sharp.                                                                                                                                             & CalanÃ¬ca Nero d'Avola-Merlot                                    & 86 & NA & Sicily \\& Sardinia & Sicilia               & NA                & NA                 & NA            & Duca di Salaparuta 2010 CalanÃ¬ca Nero d'Avola-Merlot Red (Sicilia)                                & Red Blend          & Duca di Salaparuta     \\\\\n",
       "\t33 & Italy     & Part of the extended CalanÃ¬ca series, this Grillo-Viognier blend shows aromas of honeysuckle and jasmine, backed by touches of cut grass and wild sage. In the mouth, it shows ripe yellow-fruit flavors.                                                                                                                  & CalanÃ¬ca Grillo-Viognier                                        & 86 & NA & Sicily \\& Sardinia & Sicilia               & NA                & NA                 & NA            & Duca di Salaparuta 2011 CalanÃ¬ca Grillo-Viognier White (Sicilia)                                  & White Blend        & Duca di Salaparuta     \\\\\n",
       "\t34 & US        & Rustic and dry, this has flavors of berries, currants, licorice and spices. Made from Cabernet Franc and Cabernet Sauvignon.                                                                                                                                                                                                & Puma Springs Vineyard                                            & 86 & 50 & California        & Dry Creek Valley      & Sonoma            & NA                 & NA            & Envolve 2010 Puma Springs Vineyard Red (Dry Creek Valley)                                          & Red Blend          & Envolve                \\\\\n",
       "\t... & ... & ... & ... & ... & ... & ... & ... & ... & ... & ... & ... & ... & ...\\\\\n",
       "\t119956 & Argentina   & Compared to the regular 2006 Malbec from Chakana, this wine steps up in weight class and wins the crown. It's a serious but inviting red with spongey, ripe berry aromas topped by pure raspberry, cherry and cola flavors. It's both racy and composed, with a pile of bitter chocolate on the long finish. Good through 2009 at least.                                         & Reserve                                           & 91 & 25 & Mendoza Province  & LujÃ¡n de Cuyo   & NA           & Michael Schachner  & @wineschach    & Chakana 2006 Reserve Malbec (LujÃ¡n de Cuyo)                                                            & Malbec                   & Chakana                                  \\\\\n",
       "\t119957 & Austria     & A true TBA, its very rich, toffee-flavored, intense sweetness overpowering the botrytis dryness initially. And then you feel the acidity, the apricot and peach flavors and the shot of lime. In its texture, it is a truly intense dessert wine. Age for 10 years.                                                                                                              & Grand Vin                                         & 91 & 70 & Burgenland        & NA               & NA           & Roger Voss         & @vossroger     & Schloss Halbturn 2004 Grand Vin White (Burgenland)                                                      & White Blend              & Schloss Halbturn                         \\\\\n",
       "\t119958 & US          & This is the winery's bells and whistles Chardonnay. Grown from inland fruit, in a vineyard near Ukiah, it's rich in buttercreamy peach, pear and pineapple flavors, with a spicy, racy finish.                                                                                                                                                                                   & Watson Vineyard                                   & 91 & 36 & California        & Mendocino        & NA           & NA                 & NA             & Standish 2006 Watson Vineyard Chardonnay (Mendocino)                                                    & Chardonnay               & Standish                                 \\\\\n",
       "\t119959 & US          & A Chardonnay with an unusual companion, 8\\% SÃ©millon, this is floral and fruity in equal measure. Tight, bright acidity supports flavors of fennel and green apple, with the oak impact playing a subtle supporting role. The finish is nicely crisp.                                                                                                                            & NA                                                & 90 & 20 & California        & Mendocino County & NA           & Virginie Boone     & @vboone        & Apriori 2013 Chardonnay (Mendocino County)                                                              & Chardonnay               & Apriori                                  \\\\\n",
       "\t119960 & US          & This is classic in herbaceous aromas and flavors, rich in juicy blackberry and blueberry while also offering savory pencil shavings and dark chocolate. Leathered, firm tannins complete the picture, providing structure and integration to a wall of well-managed oak.                                                                                                         & NA                                                & 90 & 35 & California        & Sonoma County    & Sonoma       & Virginie Boone     & @vboone        & Arrowood 2010 Cabernet Sauvignon (Sonoma County)                                                        & Cabernet Sauvignon       & Arrowood                                 \\\\\n",
       "\t119961 & Italy       & A blend of Nero d'Avola and Syrah, this conveys aromas of scorched earth, crushed flower, dark berry and a whiff of cooking spice. The palate offers ripe cherry, graphite, ground black pepper and a smoky note alongside velvety tannins.                                                                                                                                      & AdÃ¨nzia                                          & 90 & 29 & Sicily \\& Sardinia & Sicilia          & NA           & Kerin Oâ€™Keefe    & @kerinokeefe   & Baglio del Cristo di Campobello 2012 AdÃ¨nzia Red (Sicilia)                                             & Red Blend                & Baglio del Cristo di Campobello          \\\\\n",
       "\t119962 & Israel      & Deep garnet in the glass, this has a nose of blackberry and vanilla. Flavors of blackberry, eucalyptus, tart cherry and white chocolate are well balanced, with a mix of fruity and savory notes. Tannins are mostly smooth with a touch of grip. The finish combines a pleasing blend of eucalyptus and tart cherry flavors.                                                    & Special Reserve Winemakers' Choice                & 90 & 25 & Galilee           & NA               & NA           & Mike DeSimone      & @worldwineguys & Barkan 2011 Special Reserve Winemakers' Choice Shiraz (Galilee)                                         & Shiraz                   & Barkan                                   \\\\\n",
       "\t119964 & Germany     & Plump, clingy peach and honey notes are cut with streaks of lime in this delicate yet intensely satisfying wine. Off dry in style, it's refreshingly juicy, with a rich, supple mouthfeel offset by bristling acidity.                                                                                                                                                           & Dom                                               & 90 & 17 & Mosel             & NA               & NA           & Anna Lee C. Iijima & NA             & BischÃ¶fliche WeingÃ¼ter Trier 2013 Dom Riesling (Mosel)                                                & Riesling                 & BischÃ¶fliche WeingÃ¼ter Trier           \\\\\n",
       "\t119965 & Italy       & A blend of 65\\% Cabernet Sauvignon, 30\\% Merlot and 5\\% Petit Verdot, this bold wine features aromas of spiced plum, blackcurrant, leather and a hint of coconut. On the palate, assertive tannins support the mature blackberry, espresso and licorice flavors.                                                                                                                    & Symposio                                          & 90 & 20 & Sicily \\& Sardinia & Terre Siciliane  & NA           & Kerin Oâ€™Keefe    & @kerinokeefe   & Feudo Principi di Butera 2012 Symposio Red (Terre Siciliane)                                            & Red Blend                & Feudo Principi di Butera                 \\\\\n",
       "\t119966 & Argentina   & Raspberry and cassis aromas are fresh and upright while showing wiry, grassy accents. Full bodied, this features a jammy, pulpy palate that's fresh but low on definition. Herbal, lightly green infiltrations drift onto a solid, tannic finish. Drink through 2018.                                                                                                            & Pedernal                                          & 90 & 43 & Other             & San Juan         & NA           & Michael Schachner  & @wineschach    & Finca Las Moras 2010 Pedernal Malbec (San Juan)                                                         & Malbec                   & Finca Las Moras                          \\\\\n",
       "\t119969 & France      & Hugely spicy this rich wine is described as sweet. In fact, the spice gives it a drier edge, adding pepper and cinnamon as well as a mineral character from the granite soil. The wine could age, so drink from 2016.                                                                                                                                                            & Holder                                            & 90 & 30 & Alsace            & Alsace           & NA           & Roger Voss         & @vossroger     & Henri Schoenheitz 2012 Holder Gewurztraminer (Alsace)                                                   & GewÃ¼rztraminer          & Henri Schoenheitz                        \\\\\n",
       "\t119970 & US          & This Zinfandel from the eastern section of Napa Valley is unexpectedly structured and bright in acidity, offering notes of strawberry and cinnamon. The acidity provides a kick to the finish, awash in memorable sprinkles of white pepper.                                                                                                                                     & NA                                                & 90 & 22 & California        & Chiles Valley    & Napa         & Virginie Boone     & @vboone        & Houdini 2011 Zinfandel (Chiles Valley)                                                                  & Zinfandel                & Houdini                                  \\\\\n",
       "\t119971 & New Zealand & Roughly two-thirds Cabernet and one-third Merlot, this medium-bodied wine packs in ample plum fruit, accented by cinnamon and cedar. Finishes long, with a slightly velvety texture.                                                                                                                                                                                             & Elspeth                                           & 90 & 25 & Hawke's Bay       & NA               & NA           & Joe Czerwinski     & @JoeCz         & Mills Reef 2011 Elspeth Cabernet Merlot (Hawke's Bay)                                                   & Cabernet Merlot          & Mills Reef                               \\\\\n",
       "\t119972 & New Zealand & One of the more characterful Pinot Gris for this price, Ara's 2013 offers wet stone and apple aromas, flavors of apple, cinnamon and pear and a long, mouthwatering finish. There's a bit of creaminess on the midpalate and just a hint of dusty texture on the finish.                                                                                                         & Single Estate                                     & 90 & 15 & Marlborough       & NA               & NA           & Joe Czerwinski     & @JoeCz         & Ara 2013 Single Estate Pinot Gris (Marlborough)                                                         & Pinot Gris               & Ara                                      \\\\\n",
       "\t119973 & New Zealand & Like Dog Point's 2011 Chardonnay, this wine is dominated by citrusy elements. Hints of toasted almond and some riper notes of pear provide a certain amount of breadth on the palate, but citrus and quince dominate, lingering on the crisp finish. Drink nowâ€“2017.                                                                                                           & NA                                                & 90 & 40 & Marlborough       & NA               & NA           & Joe Czerwinski     & @JoeCz         & Dog Point 2012 Chardonnay (Marlborough)                                                                 & Chardonnay               & Dog Point                                \\\\\n",
       "\t119974 & New Zealand & The blend is 44\\% Merlot, 33\\% Cabernet Sauvignon and 22\\% Malbec. The result is a medium- to full-bodied wine with firm structure that should drink well through 2020. Leather, earth and plum notes pick up hints of black olive and espresso on the finish.                                                                                                                      & Gimblett Gravels Merlot-Cabernet Sauvignon-Malbec & 90 & 19 & Hawke's Bay       & NA               & NA           & Joe Czerwinski     & @JoeCz         & Esk Valley 2011 Gimblett Gravels Merlot-Cabernet Sauvignon-Malbec Red (Hawke's Bay)                     & Bordeaux-style Red Blend & Esk Valley                               \\\\\n",
       "\t119975 & Spain       & Lightly baked berry aromas vie for attention with leather, spice and mild earth notes, and the result is disjointed. On the palate, this is tight as a drum initially, but more expansive as it unfolds. Cherry, plum, raspberry, vanilla and woodspice flavors finish pure, clean and easy. This is a fine yet manageable Rioja that's not trying too hard. Drink through 2016. & Crianza                                           & 90 & 17 & Northern Spain    & Rioja            & NA           & Michael Schachner  & @wineschach    & ViÃ±edos Real Rubio 2010 Crianza  (Rioja)                                                               & Tempranillo Blend        & ViÃ±edos Real Rubio                      \\\\\n",
       "\t119976 & New Zealand & This blend of Cabernet Sauvignon-Merlot and Cabernet Franc is full bodied and firm, the tannins just beginning to soften. The aromas and flavors are classic: cedar, vanilla, cassis and tobacco. Drink nowâ€“2020.                                                                                                                                                              & Irongate                                          & 90 & 35 & Hawke's Bay       & NA               & NA           & Joe Czerwinski     & @JoeCz         & Babich 2010 Irongate Red (Hawke's Bay)                                                                  & Bordeaux-style Red Blend & Babich                                   \\\\\n",
       "\t119977 & France      & The granite soil of the Brand Grand Cru vineyard has produced a strongly structured wine that also has richness and ripe fruits. Off dry, it has a hint of honey as well as yellow fruits and pears. The aftertaste brings out the acidity and freshness that balance the wine. Drink from 2017.                                                                                 & Brand Grand Cru                                   & 90 & 57 & Alsace            & Alsace           & NA           & Roger Voss         & @vossroger     & Cave de Turckheim 2010 Brand Grand Cru Pinot Gris (Alsace)                                              & Pinot Gris               & Cave de Turckheim                        \\\\\n",
       "\t119978 & Portugal    & Fresh and fruity, this is full of red cherry flavors and crisp acidity. It has some age, hinting at a more toasty future. For the moment, it's at its best after eight years aging on the lees in the bottle.                                                                                                                                                                    & VÃ©rtice                                          & 90 & 48 & Douro             & NA               & NA           & Roger Voss         & @vossroger     & Caves Transmontanas 2006 VÃ©rtice Pinot Noir (Douro)                                                    & Pinot Noir               & Caves Transmontanas                      \\\\\n",
       "\t119979 & Italy       & Intense aromas of wild cherry, baking spice, tilled soil and savory herb lead the nose on this soulful, silky red. The round, smooth palate doles out juicy red cherry, strawberry jelly, mineral, white pepper and an intriguing note of zabaglione alongside soft, supple tannins and bright acidity..                                                                         & NA                                                & 90 & 30 & Sicily \\& Sardinia & Sicilia          & NA           & Kerin Oâ€™Keefe    & @kerinokeefe   & COS 2013 Frappato (Sicilia)                                                                             & Frappato                 & COS                                      \\\\\n",
       "\t119980 & Italy       & Blackberry, cassis, grilled herb and toasted aromas come together in the glass. On the palate, espresso, mint and black pepper add depth to the core of black cherry and blackberry flavors. It finishes on a licorice note.                                                                                                                                                     & SÃ gana Tenuta San Giacomo                        & 90 & 40 & Sicily \\& Sardinia & Sicilia          & NA           & Kerin Oâ€™Keefe    & @kerinokeefe   & Cusumano 2012 SÃ gana Tenuta San Giacomo Nero d'Avola (Sicilia)                                         & Nero d'Avola             & Cusumano                                 \\\\\n",
       "\t119981 & Israel      & A bouquet of black cherry, tart cranberry and clove opens into flavors of cherry, anisette, espresso bean and mint, with a hint of tart cranberry. The minty notes can almost seem overly strong for a moment, but tart tones bring the fruit flavors back to the foreground. The pleasantly gripping tannins will mellow with a few more years of aging.                        & Oak Aged                                          & 90 & 20 & Galilee           & NA               & NA           & Mike DeSimone      & @worldwineguys & Dalton 2012 Oak Aged Cabernet Sauvignon (Galilee)                                                       & Cabernet Sauvignon       & Dalton                                   \\\\\n",
       "\t119982 & France      & Initially quite muted, this wine slowly develops impressive richness and spice. It's not sweet, more medium dry, with the spice forming a core of dryness that contrasts with the honeyed texture. It can develop more, so wait to drink until 2016.                                                                                                                             & Domaine Saint-RÃ©my Herrenweg                     & 90 & NA & Alsace            & Alsace           & NA           & Roger Voss         & @vossroger     & Domaine Ehrhart 2013 Domaine Saint-RÃ©my Herrenweg Gewurztraminer (Alsace)                              & GewÃ¼rztraminer          & Domaine Ehrhart                          \\\\\n",
       "\t119983 & France      & While it's rich, this beautiful dry wine also offers considerable freshness. Acidity cuts easily through the ripe white fruit, pear and red apples, allowing room for spice that provides a contrasting aftertaste.                                                                                                                                                              & Seppi Landmann VallÃ©e Noble                      & 90 & 28 & Alsace            & Alsace           & NA           & Roger Voss         & @vossroger     & Domaine RieflÃ©-Landmann 2013 Seppi Landmann VallÃ©e Noble Pinot Gris (Alsace)                          & Pinot Gris               & Domaine RieflÃ©-Landmann                 \\\\\n",
       "\t119984 & Germany     & Notes of honeysuckle and cantaloupe sweeten this deliciously feather-light spÃ¤tlese. It's intensely juicy, quenching the palate with streams of tart tangerine and grapefruit acidity, yet wraps up with a kiss of honey and peach.                                                                                                                                             & Brauneberger Juffer-Sonnenuhr SpÃ¤tlese           & 90 & 28 & Mosel             & NA               & NA           & Anna Lee C. Iijima & NA             & Dr. H. Thanisch (Erben MÃ¼ller-Burggraef) 2013 Brauneberger Juffer-Sonnenuhr SpÃ¤tlese Riesling (Mosel) & Riesling                 & Dr. H. Thanisch (Erben MÃ¼ller-Burggraef)\\\\\n",
       "\t119985 & US          & Citation is given as much as a decade of bottle age prior to release, which means it is pre-cellared and drinking at its peak. Baked cherry, cocoa and coconut flavors combine gracefully, with soft, secondary fruit compote highlights.                                                                                                                                        & NA                                                & 90 & 75 & Oregon            & Oregon           & Oregon Other & Paul Gregutt       & @paulgwineÂ    & Citation 2004 Pinot Noir (Oregon)                                                                       & Pinot Noir               & Citation                                 \\\\\n",
       "\t119986 & France      & Well-drained gravel soil gives this wine its crisp and dry character. It is ripe and fruity, although the spice is subdued in favor of a more serious structure. This is a wine to age for a couple of years, so drink from 2017.                                                                                                                                                & Kritt                                             & 90 & 30 & Alsace            & Alsace           & NA           & Roger Voss         & @vossroger     & Domaine Gresser 2013 Kritt Gewurztraminer (Alsace)                                                      & GewÃ¼rztraminer          & Domaine Gresser                          \\\\\n",
       "\t119987 & France      & A dry style of Pinot Gris, this is crisp with some acidity. It also has weight and a solid, powerful core of spice and baked apple flavors. With its structure still developing, the wine needs to age. Drink from 2015.                                                                                                                                                         & NA                                                & 90 & 32 & Alsace            & Alsace           & NA           & Roger Voss         & @vossroger     & Domaine Marcel Deiss 2012 Pinot Gris (Alsace)                                                           & Pinot Gris               & Domaine Marcel Deiss                     \\\\\n",
       "\t119988 & France      & Big, rich and off-dry, this is powered by intense spiciness and rounded texture. Lychees dominate the fruit profile, giving an opulent feel to the aftertaste. Drink now.                                                                                                                                                                                                        & Lieu-dit Harth CuvÃ©e Caroline                    & 90 & 21 & Alsace            & Alsace           & NA           & Roger Voss         & @vossroger     & Domaine Schoffit 2012 Lieu-dit Harth CuvÃ©e Caroline Gewurztraminer (Alsace)                            & GewÃ¼rztraminer          & Domaine Schoffit                         \\\\\n",
       "\\end{tabular}\n"
      ],
      "text/markdown": [
       "\n",
       "A data.frame: 99495 × 13\n",
       "\n",
       "| <!--/--> | country &lt;chr&gt; | description &lt;chr&gt; | designation &lt;chr&gt; | points &lt;int&gt; | price &lt;dbl&gt; | province &lt;chr&gt; | region_1 &lt;chr&gt; | region_2 &lt;chr&gt; | taster_name &lt;chr&gt; | taster_twitter_handle &lt;chr&gt; | title &lt;chr&gt; | variety &lt;chr&gt; | winery &lt;chr&gt; |\n",
       "|---|---|---|---|---|---|---|---|---|---|---|---|---|---|\n",
       "| 1 | Italy     | Aromas include tropical fruit, broom, brimstone and dried herb. The palate isn't overly expressive, offering unripened apple, citrus and dried sage alongside brisk acidity.                                                                                                                                                | VulkÃ  Bianco                                                    | 87 | NA | Sicily &amp; Sardinia | Etna                  | NA                | Kerin Oâ€™Keefe    | @kerinokeefe  | Nicosia 2013 VulkÃ  Bianco  (Etna)                                                                 | White Blend        | Nicosia                 |\n",
       "| 2 | Portugal  | This is ripe and fruity, a wine that is smooth while still structured. Firm tannins are filled out with juicy red berry fruits and freshened with acidity. It's  already drinkable, although it will certainly be better from 2016.                                                                                         | Avidagos                                                         | 87 | 15 | Douro             | NA                    | NA                | Roger Voss         | @vossroger    | Quinta dos Avidagos 2011 Avidagos Red (Douro)                                                      | Portuguese Red     | Quinta dos Avidagos     |\n",
       "| 3 | US        | Tart and snappy, the flavors of lime flesh and rind dominate. Some green pineapple pokes through, with crisp acidity underscoring the flavors. The wine was all stainless-steel fermented.                                                                                                                                  | NA                                                               | 87 | 14 | Oregon            | Willamette Valley     | Willamette Valley | Paul Gregutt       | @paulgwineÂ   | Rainstorm 2013 Pinot Gris (Willamette Valley)                                                      | Pinot Gris         | Rainstorm               |\n",
       "| 4 | US        | Pineapple rind, lemon pith and orange blossom start off the aromas. The palate is a bit more opulent, with notes of honey-drizzled guava and mango giving way to a slightly astringent, semidry finish.                                                                                                                     | Reserve Late Harvest                                             | 87 | 13 | Michigan          | Lake Michigan Shore   | NA                | Alexander Peartree | NA            | St. Julian 2013 Reserve Late Harvest Riesling (Lake Michigan Shore)                                | Riesling           | St. Julian              |\n",
       "| 6 | Spain     | Blackberry and raspberry aromas show a typical Navarran whiff of green herbs and, in this case, horseradish. In the mouth, this is fairly full bodied, with tomatoey acidity. Spicy, herbal flavors complement dark plum fruit, while the finish is fresh but grabby.                                                       | Ars In Vitro                                                     | 87 | 15 | Northern Spain    | Navarra               | NA                | Michael Schachner  | @wineschach   | Tandem 2011 Ars In Vitro Tempranillo-Merlot (Navarra)                                              | Tempranillo-Merlot | Tandem                  |\n",
       "| 7 | Italy     | Here's a bright, informal red that opens with aromas of candied berry, white pepper and savory herb that carry over to the palate. It's balanced with fresh acidity and soft tannins.                                                                                                                                       | Belsito                                                          | 87 | 16 | Sicily &amp; Sardinia | Vittoria              | NA                | Kerin Oâ€™Keefe    | @kerinokeefe  | Terre di Giurfo 2013 Belsito Frappato (Vittoria)                                                   | Frappato           | Terre di Giurfo         |\n",
       "| 8 | France    | This dry and restrained wine offers spice in profusion. Balanced with acidity and a firm texture, it's very much for food.                                                                                                                                                                                                  | NA                                                               | 87 | 24 | Alsace            | Alsace                | NA                | Roger Voss         | @vossroger    | Trimbach 2012 Gewurztraminer (Alsace)                                                              | GewÃ¼rztraminer    | Trimbach                |\n",
       "| 9 | Germany   | Savory dried thyme notes accent sunnier flavors of preserved peach in this brisk, off-dry wine. It's fruity and fresh, with an elegant, sprightly footprint.                                                                                                                                                                | Shine                                                            | 87 | 12 | Rheinhessen       | NA                    | NA                | Anna Lee C. Iijima | NA            | Heinz Eifel 2013 Shine GewÃ¼rztraminer (Rheinhessen)                                               | GewÃ¼rztraminer    | Heinz Eifel             |\n",
       "| 10 | France    | This has great depth of flavor with its fresh apple and pear fruits and touch of spice. It's off dry while balanced with acidity and a crisp texture. Drink now.                                                                                                                                                            | Les Natures                                                      | 87 | 27 | Alsace            | Alsace                | NA                | Roger Voss         | @vossroger    | Jean-Baptiste Adam 2012 Les Natures Pinot Gris (Alsace)                                            | Pinot Gris         | Jean-Baptiste Adam      |\n",
       "| 12 | France    | This is a dry wine, very spicy, with a tight, taut texture and strongly mineral character layered with citrus as well as pepper. It's a food wine with its almost crisp aftertaste.                                                                                                                                         | NA                                                               | 87 | 30 | Alsace            | Alsace                | NA                | Roger Voss         | @vossroger    | Leon Beyer 2012 Gewurztraminer (Alsace)                                                            | GewÃ¼rztraminer    | Leon Beyer              |\n",
       "| 13 | US        | Slightly reduced, this wine offers a chalky, tannic backbone to an otherwise juicy explosion of rich black cherry, the whole accented throughout by firm oak and cigar box.                                                                                                                                                 | NA                                                               | 87 | 34 | California        | Alexander Valley      | Sonoma            | Virginie Boone     | @vboone       | Louis M. Martini 2012 Cabernet Sauvignon (Alexander Valley)                                        | Cabernet Sauvignon | Louis M. Martini        |\n",
       "| 14 | Italy     | This is dominated by oak and oak-driven aromas that include roasted coffee bean, espresso, coconut and vanilla that carry over to the palate, together with plum and chocolate. Astringent, drying tannins give it a rather abrupt finish.                                                                                  | Rosso                                                            | 87 | NA | Sicily &amp; Sardinia | Etna                  | NA                | Kerin Oâ€™Keefe    | @kerinokeefe  | Masseria Setteporte 2012 Rosso  (Etna)                                                             | Nerello Mascalese  | Masseria Setteporte     |\n",
       "| 15 | US        | Building on 150 years and six generations of winemaking tradition, the winery trends toward a leaner style, with the classic California buttercream aroma cut by tart green apple. In this good everyday sipping wine, flavors that range from pear to barely ripe pineapple prove approachable but not distinctive.        | NA                                                               | 87 | 12 | California        | Central Coast         | Central Coast     | Matt Kettmann      | @mattkettmann | Mirassou 2012 Chardonnay (Central Coast)                                                           | Chardonnay         | Mirassou                |\n",
       "| 16 | Germany   | Zesty orange peels and apple notes abound in this sprightly, mineral-toned Riesling. Off dry on the palate, yet racy and lean, it's a refreshing, easy quaffer with wide appeal.                                                                                                                                            | Devon                                                            | 87 | 24 | Mosel             | NA                    | NA                | Anna Lee C. Iijima | NA            | Richard BÃ¶cking 2013 Devon Riesling (Mosel)                                                       | Riesling           | Richard BÃ¶cking        |\n",
       "| 17 | Argentina | Baked plum, molasses, balsamic vinegar and cheesy oak aromas feed into a palate that's braced by a bolt of acidity. A compact set of saucy red-berry and plum flavors features tobacco and peppery accents, while the finish is mildly green in flavor, with respectable weight and balance.                                | Felix                                                            | 87 | 30 | Other             | Cafayate              | NA                | Michael Schachner  | @wineschach   | Felix Lavaque 2010 Felix Malbec (Cafayate)                                                         | Malbec             | Felix Lavaque           |\n",
       "| 18 | Argentina | Raw black-cherry aromas are direct and simple but good. This has a juicy feel that thickens over time, with oak character and extract becoming more apparent. A flavor profile driven by dark-berry fruits and smoldering oak finishes meaty but hot.                                                                       | Winemaker Selection                                              | 87 | 13 | Mendoza Province  | Mendoza               | NA                | Michael Schachner  | @wineschach   | Gaucho Andino 2011 Winemaker Selection Malbec (Mendoza)                                            | Malbec             | Gaucho Andino           |\n",
       "| 19 | Spain     | Desiccated blackberry, leather, charred wood and mint aromas carry the nose on this full-bodied, tannic, heavily oaked Tinto Fino. Flavors of clove and woodspice sit on top of blackberry fruit, then hickory and other forceful oak-based aromas rise up and dominate the finish.                                         | Vendimia Seleccionada Finca Valdelayegua Single Vineyard Crianza | 87 | 28 | Northern Spain    | Ribera del Duero      | NA                | Michael Schachner  | @wineschach   | Pradorey 2010 Vendimia Seleccionada Finca Valdelayegua Single Vineyard Crianza  (Ribera del Duero) | Tempranillo Blend  | Pradorey                |\n",
       "| 20 | US        | Red fruit aromas pervade on the nose, with cigar box and menthol notes riding in the back. The palate is slightly restrained on entry, but opens up to riper notes of cherry and plum specked with crushed pepper. This blend of Merlot, Cabernet Sauvignon and Cabernet Franc is approachable now and ready to be enjoyed. | NA                                                               | 87 | 32 | Virginia          | Virginia              | NA                | Alexander Peartree | NA            | QuiÃ©vremont 2012 Meritage (Virginia)                                                              | Meritage           | QuiÃ©vremont            |\n",
       "| 21 | US        | Ripe aromas of dark berries mingle with ample notes of black pepper, toasted vanilla and dusty tobacco. The palate is oak-driven in nature, but notes of tart red currant shine through, offering a bit of levity.                                                                                                          | Vin de Maison                                                    | 87 | 23 | Virginia          | Virginia              | NA                | Alexander Peartree | NA            | QuiÃ©vremont 2012 Vin de Maison Red (Virginia)                                                     | Red Blend          | QuiÃ©vremont            |\n",
       "| 22 | US        | A sleek mix of tart berry, stem and herb, along with a hint of oak and chocolate, this is a fair value in a widely available, drink-now Oregon Pinot. The wine oak-aged for six months, whether in neutral or re-staved is not indicated.                                                                                   | NA                                                               | 87 | 20 | Oregon            | Oregon                | Oregon Other      | Paul Gregutt       | @paulgwineÂ   | Acrobat 2013 Pinot Noir (Oregon)                                                                   | Pinot Noir         | Acrobat                 |\n",
       "| 23 | Italy     | Delicate aromas recall white flower and citrus. The palate offers passion fruit, lime and white peach with a hint of mineral alongside bright acidity.                                                                                                                                                                      | Ficiligno                                                        | 87 | 19 | Sicily &amp; Sardinia | Sicilia               | NA                | Kerin Oâ€™Keefe    | @kerinokeefe  | Baglio di Pianetto 2007 Ficiligno White (Sicilia)                                                  | White Blend        | Baglio di Pianetto      |\n",
       "| 25 | Italy     | Aromas of prune, blackcurrant, toast and oak carry through to the extracted palate, along with flavors of black cherry and roasted coffee beans. Firm but drying tannins provide the framework.                                                                                                                             | Aynat                                                            | 87 | 35 | Sicily &amp; Sardinia | Sicilia               | NA                | Kerin Oâ€™Keefe    | @kerinokeefe  | CanicattÃ¬ 2009 Aynat Nero d'Avola (Sicilia)                                                       | Nero d'Avola       | CanicattÃ¬              |\n",
       "| 27 | Italy     | Pretty aromas of yellow flower and stone fruit lead the nose. The bright palate offers yellow apple, apricot, vanilla and delicate notes of lightly toasted oak alongside crisp acidity.                                                                                                                                    | Dalila                                                           | 87 | 13 | Sicily &amp; Sardinia | Terre Siciliane       | NA                | Kerin Oâ€™Keefe    | @kerinokeefe  | Stemmari 2013 Dalila White (Terre Siciliane)                                                       | White Blend        | Stemmari                |\n",
       "| 28 | Italy     | Aromas recall ripe dark berry, toast and a whiff of cake spice. The soft, informal palate offers sour cherry, vanilla and a hint of espresso alongside round tannins. Drink soon.                                                                                                                                           | NA                                                               | 87 | 10 | Sicily &amp; Sardinia | Terre Siciliane       | NA                | Kerin Oâ€™Keefe    | @kerinokeefe  | Stemmari 2013 Nero d'Avola (Terre Siciliane)                                                       | Nero d'Avola       | Stemmari                |\n",
       "| 29 | Italy     | Aromas suggest mature berry, scorched earth, animal, toast and anise. The palate offers ripe black berry, oak, espresso, cocoa and vanilla alongside dusty tannins.                                                                                                                                                         | Mascaria Barricato                                               | 87 | 17 | Sicily &amp; Sardinia | Cerasuolo di Vittoria | NA                | Kerin Oâ€™Keefe    | @kerinokeefe  | Terre di Giurfo 2011 Mascaria Barricato  (Cerasuolo di Vittoria)                                   | Red Blend          | Terre di Giurfo         |\n",
       "| 30 | US        | Clarksburg is becoming a haven for Chenin Blanc in California. This bottling, using fruit sourced from several vineyards in the area, is balanced with just a trace of sweetness in the background (1% residual sugar). This is crisp, straightforward and blessed with notes of pear and lime. Drink it cold.              | NA                                                               | 86 | 16 | California        | Clarksburg            | Central Valley    | Virginie Boone     | @vboone       | Clarksburg Wine Company 2010 Chenin Blanc (Clarksburg)                                             | Chenin Blanc       | Clarksburg Wine Company |\n",
       "| 31 | France    | Red cherry fruit comes laced with light tannins, giving this bright wine an open, juicy character.                                                                                                                                                                                                                          | Nouveau                                                          | 86 | NA | Beaujolais        | Beaujolais-Villages   | NA                | Roger Voss         | @vossroger    | Domaine de la Madone 2012 Nouveau  (Beaujolais-Villages)                                           | Gamay              | Domaine de la Madone    |\n",
       "| 32 | Italy     | Merlot and Nero d'Avola form the base for this easy red wine that would pair with fettuccine and meat sauce or pork roast. The quality of the fruit is clean, bright and sharp.                                                                                                                                             | CalanÃ¬ca Nero d'Avola-Merlot                                    | 86 | NA | Sicily &amp; Sardinia | Sicilia               | NA                | NA                 | NA            | Duca di Salaparuta 2010 CalanÃ¬ca Nero d'Avola-Merlot Red (Sicilia)                                | Red Blend          | Duca di Salaparuta      |\n",
       "| 33 | Italy     | Part of the extended CalanÃ¬ca series, this Grillo-Viognier blend shows aromas of honeysuckle and jasmine, backed by touches of cut grass and wild sage. In the mouth, it shows ripe yellow-fruit flavors.                                                                                                                  | CalanÃ¬ca Grillo-Viognier                                        | 86 | NA | Sicily &amp; Sardinia | Sicilia               | NA                | NA                 | NA            | Duca di Salaparuta 2011 CalanÃ¬ca Grillo-Viognier White (Sicilia)                                  | White Blend        | Duca di Salaparuta      |\n",
       "| 34 | US        | Rustic and dry, this has flavors of berries, currants, licorice and spices. Made from Cabernet Franc and Cabernet Sauvignon.                                                                                                                                                                                                | Puma Springs Vineyard                                            | 86 | 50 | California        | Dry Creek Valley      | Sonoma            | NA                 | NA            | Envolve 2010 Puma Springs Vineyard Red (Dry Creek Valley)                                          | Red Blend          | Envolve                 |\n",
       "| ... | ... | ... | ... | ... | ... | ... | ... | ... | ... | ... | ... | ... | ... |\n",
       "| 119956 | Argentina   | Compared to the regular 2006 Malbec from Chakana, this wine steps up in weight class and wins the crown. It's a serious but inviting red with spongey, ripe berry aromas topped by pure raspberry, cherry and cola flavors. It's both racy and composed, with a pile of bitter chocolate on the long finish. Good through 2009 at least.                                         | Reserve                                           | 91 | 25 | Mendoza Province  | LujÃ¡n de Cuyo   | NA           | Michael Schachner  | @wineschach    | Chakana 2006 Reserve Malbec (LujÃ¡n de Cuyo)                                                            | Malbec                   | Chakana                                   |\n",
       "| 119957 | Austria     | A true TBA, its very rich, toffee-flavored, intense sweetness overpowering the botrytis dryness initially. And then you feel the acidity, the apricot and peach flavors and the shot of lime. In its texture, it is a truly intense dessert wine. Age for 10 years.                                                                                                              | Grand Vin                                         | 91 | 70 | Burgenland        | NA               | NA           | Roger Voss         | @vossroger     | Schloss Halbturn 2004 Grand Vin White (Burgenland)                                                      | White Blend              | Schloss Halbturn                          |\n",
       "| 119958 | US          | This is the winery's bells and whistles Chardonnay. Grown from inland fruit, in a vineyard near Ukiah, it's rich in buttercreamy peach, pear and pineapple flavors, with a spicy, racy finish.                                                                                                                                                                                   | Watson Vineyard                                   | 91 | 36 | California        | Mendocino        | NA           | NA                 | NA             | Standish 2006 Watson Vineyard Chardonnay (Mendocino)                                                    | Chardonnay               | Standish                                  |\n",
       "| 119959 | US          | A Chardonnay with an unusual companion, 8% SÃ©millon, this is floral and fruity in equal measure. Tight, bright acidity supports flavors of fennel and green apple, with the oak impact playing a subtle supporting role. The finish is nicely crisp.                                                                                                                            | NA                                                | 90 | 20 | California        | Mendocino County | NA           | Virginie Boone     | @vboone        | Apriori 2013 Chardonnay (Mendocino County)                                                              | Chardonnay               | Apriori                                   |\n",
       "| 119960 | US          | This is classic in herbaceous aromas and flavors, rich in juicy blackberry and blueberry while also offering savory pencil shavings and dark chocolate. Leathered, firm tannins complete the picture, providing structure and integration to a wall of well-managed oak.                                                                                                         | NA                                                | 90 | 35 | California        | Sonoma County    | Sonoma       | Virginie Boone     | @vboone        | Arrowood 2010 Cabernet Sauvignon (Sonoma County)                                                        | Cabernet Sauvignon       | Arrowood                                  |\n",
       "| 119961 | Italy       | A blend of Nero d'Avola and Syrah, this conveys aromas of scorched earth, crushed flower, dark berry and a whiff of cooking spice. The palate offers ripe cherry, graphite, ground black pepper and a smoky note alongside velvety tannins.                                                                                                                                      | AdÃ¨nzia                                          | 90 | 29 | Sicily &amp; Sardinia | Sicilia          | NA           | Kerin Oâ€™Keefe    | @kerinokeefe   | Baglio del Cristo di Campobello 2012 AdÃ¨nzia Red (Sicilia)                                             | Red Blend                | Baglio del Cristo di Campobello           |\n",
       "| 119962 | Israel      | Deep garnet in the glass, this has a nose of blackberry and vanilla. Flavors of blackberry, eucalyptus, tart cherry and white chocolate are well balanced, with a mix of fruity and savory notes. Tannins are mostly smooth with a touch of grip. The finish combines a pleasing blend of eucalyptus and tart cherry flavors.                                                    | Special Reserve Winemakers' Choice                | 90 | 25 | Galilee           | NA               | NA           | Mike DeSimone      | @worldwineguys | Barkan 2011 Special Reserve Winemakers' Choice Shiraz (Galilee)                                         | Shiraz                   | Barkan                                    |\n",
       "| 119964 | Germany     | Plump, clingy peach and honey notes are cut with streaks of lime in this delicate yet intensely satisfying wine. Off dry in style, it's refreshingly juicy, with a rich, supple mouthfeel offset by bristling acidity.                                                                                                                                                           | Dom                                               | 90 | 17 | Mosel             | NA               | NA           | Anna Lee C. Iijima | NA             | BischÃ¶fliche WeingÃ¼ter Trier 2013 Dom Riesling (Mosel)                                                | Riesling                 | BischÃ¶fliche WeingÃ¼ter Trier            |\n",
       "| 119965 | Italy       | A blend of 65% Cabernet Sauvignon, 30% Merlot and 5% Petit Verdot, this bold wine features aromas of spiced plum, blackcurrant, leather and a hint of coconut. On the palate, assertive tannins support the mature blackberry, espresso and licorice flavors.                                                                                                                    | Symposio                                          | 90 | 20 | Sicily &amp; Sardinia | Terre Siciliane  | NA           | Kerin Oâ€™Keefe    | @kerinokeefe   | Feudo Principi di Butera 2012 Symposio Red (Terre Siciliane)                                            | Red Blend                | Feudo Principi di Butera                  |\n",
       "| 119966 | Argentina   | Raspberry and cassis aromas are fresh and upright while showing wiry, grassy accents. Full bodied, this features a jammy, pulpy palate that's fresh but low on definition. Herbal, lightly green infiltrations drift onto a solid, tannic finish. Drink through 2018.                                                                                                            | Pedernal                                          | 90 | 43 | Other             | San Juan         | NA           | Michael Schachner  | @wineschach    | Finca Las Moras 2010 Pedernal Malbec (San Juan)                                                         | Malbec                   | Finca Las Moras                           |\n",
       "| 119969 | France      | Hugely spicy this rich wine is described as sweet. In fact, the spice gives it a drier edge, adding pepper and cinnamon as well as a mineral character from the granite soil. The wine could age, so drink from 2016.                                                                                                                                                            | Holder                                            | 90 | 30 | Alsace            | Alsace           | NA           | Roger Voss         | @vossroger     | Henri Schoenheitz 2012 Holder Gewurztraminer (Alsace)                                                   | GewÃ¼rztraminer          | Henri Schoenheitz                         |\n",
       "| 119970 | US          | This Zinfandel from the eastern section of Napa Valley is unexpectedly structured and bright in acidity, offering notes of strawberry and cinnamon. The acidity provides a kick to the finish, awash in memorable sprinkles of white pepper.                                                                                                                                     | NA                                                | 90 | 22 | California        | Chiles Valley    | Napa         | Virginie Boone     | @vboone        | Houdini 2011 Zinfandel (Chiles Valley)                                                                  | Zinfandel                | Houdini                                   |\n",
       "| 119971 | New Zealand | Roughly two-thirds Cabernet and one-third Merlot, this medium-bodied wine packs in ample plum fruit, accented by cinnamon and cedar. Finishes long, with a slightly velvety texture.                                                                                                                                                                                             | Elspeth                                           | 90 | 25 | Hawke's Bay       | NA               | NA           | Joe Czerwinski     | @JoeCz         | Mills Reef 2011 Elspeth Cabernet Merlot (Hawke's Bay)                                                   | Cabernet Merlot          | Mills Reef                                |\n",
       "| 119972 | New Zealand | One of the more characterful Pinot Gris for this price, Ara's 2013 offers wet stone and apple aromas, flavors of apple, cinnamon and pear and a long, mouthwatering finish. There's a bit of creaminess on the midpalate and just a hint of dusty texture on the finish.                                                                                                         | Single Estate                                     | 90 | 15 | Marlborough       | NA               | NA           | Joe Czerwinski     | @JoeCz         | Ara 2013 Single Estate Pinot Gris (Marlborough)                                                         | Pinot Gris               | Ara                                       |\n",
       "| 119973 | New Zealand | Like Dog Point's 2011 Chardonnay, this wine is dominated by citrusy elements. Hints of toasted almond and some riper notes of pear provide a certain amount of breadth on the palate, but citrus and quince dominate, lingering on the crisp finish. Drink nowâ€“2017.                                                                                                           | NA                                                | 90 | 40 | Marlborough       | NA               | NA           | Joe Czerwinski     | @JoeCz         | Dog Point 2012 Chardonnay (Marlborough)                                                                 | Chardonnay               | Dog Point                                 |\n",
       "| 119974 | New Zealand | The blend is 44% Merlot, 33% Cabernet Sauvignon and 22% Malbec. The result is a medium- to full-bodied wine with firm structure that should drink well through 2020. Leather, earth and plum notes pick up hints of black olive and espresso on the finish.                                                                                                                      | Gimblett Gravels Merlot-Cabernet Sauvignon-Malbec | 90 | 19 | Hawke's Bay       | NA               | NA           | Joe Czerwinski     | @JoeCz         | Esk Valley 2011 Gimblett Gravels Merlot-Cabernet Sauvignon-Malbec Red (Hawke's Bay)                     | Bordeaux-style Red Blend | Esk Valley                                |\n",
       "| 119975 | Spain       | Lightly baked berry aromas vie for attention with leather, spice and mild earth notes, and the result is disjointed. On the palate, this is tight as a drum initially, but more expansive as it unfolds. Cherry, plum, raspberry, vanilla and woodspice flavors finish pure, clean and easy. This is a fine yet manageable Rioja that's not trying too hard. Drink through 2016. | Crianza                                           | 90 | 17 | Northern Spain    | Rioja            | NA           | Michael Schachner  | @wineschach    | ViÃ±edos Real Rubio 2010 Crianza  (Rioja)                                                               | Tempranillo Blend        | ViÃ±edos Real Rubio                       |\n",
       "| 119976 | New Zealand | This blend of Cabernet Sauvignon-Merlot and Cabernet Franc is full bodied and firm, the tannins just beginning to soften. The aromas and flavors are classic: cedar, vanilla, cassis and tobacco. Drink nowâ€“2020.                                                                                                                                                              | Irongate                                          | 90 | 35 | Hawke's Bay       | NA               | NA           | Joe Czerwinski     | @JoeCz         | Babich 2010 Irongate Red (Hawke's Bay)                                                                  | Bordeaux-style Red Blend | Babich                                    |\n",
       "| 119977 | France      | The granite soil of the Brand Grand Cru vineyard has produced a strongly structured wine that also has richness and ripe fruits. Off dry, it has a hint of honey as well as yellow fruits and pears. The aftertaste brings out the acidity and freshness that balance the wine. Drink from 2017.                                                                                 | Brand Grand Cru                                   | 90 | 57 | Alsace            | Alsace           | NA           | Roger Voss         | @vossroger     | Cave de Turckheim 2010 Brand Grand Cru Pinot Gris (Alsace)                                              | Pinot Gris               | Cave de Turckheim                         |\n",
       "| 119978 | Portugal    | Fresh and fruity, this is full of red cherry flavors and crisp acidity. It has some age, hinting at a more toasty future. For the moment, it's at its best after eight years aging on the lees in the bottle.                                                                                                                                                                    | VÃ©rtice                                          | 90 | 48 | Douro             | NA               | NA           | Roger Voss         | @vossroger     | Caves Transmontanas 2006 VÃ©rtice Pinot Noir (Douro)                                                    | Pinot Noir               | Caves Transmontanas                       |\n",
       "| 119979 | Italy       | Intense aromas of wild cherry, baking spice, tilled soil and savory herb lead the nose on this soulful, silky red. The round, smooth palate doles out juicy red cherry, strawberry jelly, mineral, white pepper and an intriguing note of zabaglione alongside soft, supple tannins and bright acidity..                                                                         | NA                                                | 90 | 30 | Sicily &amp; Sardinia | Sicilia          | NA           | Kerin Oâ€™Keefe    | @kerinokeefe   | COS 2013 Frappato (Sicilia)                                                                             | Frappato                 | COS                                       |\n",
       "| 119980 | Italy       | Blackberry, cassis, grilled herb and toasted aromas come together in the glass. On the palate, espresso, mint and black pepper add depth to the core of black cherry and blackberry flavors. It finishes on a licorice note.                                                                                                                                                     | SÃ gana Tenuta San Giacomo                        | 90 | 40 | Sicily &amp; Sardinia | Sicilia          | NA           | Kerin Oâ€™Keefe    | @kerinokeefe   | Cusumano 2012 SÃ gana Tenuta San Giacomo Nero d'Avola (Sicilia)                                         | Nero d'Avola             | Cusumano                                  |\n",
       "| 119981 | Israel      | A bouquet of black cherry, tart cranberry and clove opens into flavors of cherry, anisette, espresso bean and mint, with a hint of tart cranberry. The minty notes can almost seem overly strong for a moment, but tart tones bring the fruit flavors back to the foreground. The pleasantly gripping tannins will mellow with a few more years of aging.                        | Oak Aged                                          | 90 | 20 | Galilee           | NA               | NA           | Mike DeSimone      | @worldwineguys | Dalton 2012 Oak Aged Cabernet Sauvignon (Galilee)                                                       | Cabernet Sauvignon       | Dalton                                    |\n",
       "| 119982 | France      | Initially quite muted, this wine slowly develops impressive richness and spice. It's not sweet, more medium dry, with the spice forming a core of dryness that contrasts with the honeyed texture. It can develop more, so wait to drink until 2016.                                                                                                                             | Domaine Saint-RÃ©my Herrenweg                     | 90 | NA | Alsace            | Alsace           | NA           | Roger Voss         | @vossroger     | Domaine Ehrhart 2013 Domaine Saint-RÃ©my Herrenweg Gewurztraminer (Alsace)                              | GewÃ¼rztraminer          | Domaine Ehrhart                           |\n",
       "| 119983 | France      | While it's rich, this beautiful dry wine also offers considerable freshness. Acidity cuts easily through the ripe white fruit, pear and red apples, allowing room for spice that provides a contrasting aftertaste.                                                                                                                                                              | Seppi Landmann VallÃ©e Noble                      | 90 | 28 | Alsace            | Alsace           | NA           | Roger Voss         | @vossroger     | Domaine RieflÃ©-Landmann 2013 Seppi Landmann VallÃ©e Noble Pinot Gris (Alsace)                          | Pinot Gris               | Domaine RieflÃ©-Landmann                  |\n",
       "| 119984 | Germany     | Notes of honeysuckle and cantaloupe sweeten this deliciously feather-light spÃ¤tlese. It's intensely juicy, quenching the palate with streams of tart tangerine and grapefruit acidity, yet wraps up with a kiss of honey and peach.                                                                                                                                             | Brauneberger Juffer-Sonnenuhr SpÃ¤tlese           | 90 | 28 | Mosel             | NA               | NA           | Anna Lee C. Iijima | NA             | Dr. H. Thanisch (Erben MÃ¼ller-Burggraef) 2013 Brauneberger Juffer-Sonnenuhr SpÃ¤tlese Riesling (Mosel) | Riesling                 | Dr. H. Thanisch (Erben MÃ¼ller-Burggraef) |\n",
       "| 119985 | US          | Citation is given as much as a decade of bottle age prior to release, which means it is pre-cellared and drinking at its peak. Baked cherry, cocoa and coconut flavors combine gracefully, with soft, secondary fruit compote highlights.                                                                                                                                        | NA                                                | 90 | 75 | Oregon            | Oregon           | Oregon Other | Paul Gregutt       | @paulgwineÂ    | Citation 2004 Pinot Noir (Oregon)                                                                       | Pinot Noir               | Citation                                  |\n",
       "| 119986 | France      | Well-drained gravel soil gives this wine its crisp and dry character. It is ripe and fruity, although the spice is subdued in favor of a more serious structure. This is a wine to age for a couple of years, so drink from 2017.                                                                                                                                                | Kritt                                             | 90 | 30 | Alsace            | Alsace           | NA           | Roger Voss         | @vossroger     | Domaine Gresser 2013 Kritt Gewurztraminer (Alsace)                                                      | GewÃ¼rztraminer          | Domaine Gresser                           |\n",
       "| 119987 | France      | A dry style of Pinot Gris, this is crisp with some acidity. It also has weight and a solid, powerful core of spice and baked apple flavors. With its structure still developing, the wine needs to age. Drink from 2015.                                                                                                                                                         | NA                                                | 90 | 32 | Alsace            | Alsace           | NA           | Roger Voss         | @vossroger     | Domaine Marcel Deiss 2012 Pinot Gris (Alsace)                                                           | Pinot Gris               | Domaine Marcel Deiss                      |\n",
       "| 119988 | France      | Big, rich and off-dry, this is powered by intense spiciness and rounded texture. Lychees dominate the fruit profile, giving an opulent feel to the aftertaste. Drink now.                                                                                                                                                                                                        | Lieu-dit Harth CuvÃ©e Caroline                    | 90 | 21 | Alsace            | Alsace           | NA           | Roger Voss         | @vossroger     | Domaine Schoffit 2012 Lieu-dit Harth CuvÃ©e Caroline Gewurztraminer (Alsace)                            | GewÃ¼rztraminer          | Domaine Schoffit                          |\n",
       "\n"
      ],
      "text/plain": [
       "       country    \n",
       "1      Italy      \n",
       "2      Portugal   \n",
       "3      US         \n",
       "4      US         \n",
       "6      Spain      \n",
       "7      Italy      \n",
       "8      France     \n",
       "9      Germany    \n",
       "10     France     \n",
       "12     France     \n",
       "13     US         \n",
       "14     Italy      \n",
       "15     US         \n",
       "16     Germany    \n",
       "17     Argentina  \n",
       "18     Argentina  \n",
       "19     Spain      \n",
       "20     US         \n",
       "21     US         \n",
       "22     US         \n",
       "23     Italy      \n",
       "25     Italy      \n",
       "27     Italy      \n",
       "28     Italy      \n",
       "29     Italy      \n",
       "30     US         \n",
       "31     France     \n",
       "32     Italy      \n",
       "33     Italy      \n",
       "34     US         \n",
       "...    ...        \n",
       "119956 Argentina  \n",
       "119957 Austria    \n",
       "119958 US         \n",
       "119959 US         \n",
       "119960 US         \n",
       "119961 Italy      \n",
       "119962 Israel     \n",
       "119964 Germany    \n",
       "119965 Italy      \n",
       "119966 Argentina  \n",
       "119969 France     \n",
       "119970 US         \n",
       "119971 New Zealand\n",
       "119972 New Zealand\n",
       "119973 New Zealand\n",
       "119974 New Zealand\n",
       "119975 Spain      \n",
       "119976 New Zealand\n",
       "119977 France     \n",
       "119978 Portugal   \n",
       "119979 Italy      \n",
       "119980 Italy      \n",
       "119981 Israel     \n",
       "119982 France     \n",
       "119983 France     \n",
       "119984 Germany    \n",
       "119985 US         \n",
       "119986 France     \n",
       "119987 France     \n",
       "119988 France     \n",
       "       description                                                                                                                                                                                                                                                                                                                                                                     \n",
       "1      Aromas include tropical fruit, broom, brimstone and dried herb. The palate isn't overly expressive, offering unripened apple, citrus and dried sage alongside brisk acidity.                                                                                                                                                                                                    \n",
       "2      This is ripe and fruity, a wine that is smooth while still structured. Firm tannins are filled out with juicy red berry fruits and freshened with acidity. It's  already drinkable, although it will certainly be better from 2016.                                                                                                                                             \n",
       "3      Tart and snappy, the flavors of lime flesh and rind dominate. Some green pineapple pokes through, with crisp acidity underscoring the flavors. The wine was all stainless-steel fermented.                                                                                                                                                                                      \n",
       "4      Pineapple rind, lemon pith and orange blossom start off the aromas. The palate is a bit more opulent, with notes of honey-drizzled guava and mango giving way to a slightly astringent, semidry finish.                                                                                                                                                                         \n",
       "6      Blackberry and raspberry aromas show a typical Navarran whiff of green herbs and, in this case, horseradish. In the mouth, this is fairly full bodied, with tomatoey acidity. Spicy, herbal flavors complement dark plum fruit, while the finish is fresh but grabby.                                                                                                           \n",
       "7      Here's a bright, informal red that opens with aromas of candied berry, white pepper and savory herb that carry over to the palate. It's balanced with fresh acidity and soft tannins.                                                                                                                                                                                           \n",
       "8      This dry and restrained wine offers spice in profusion. Balanced with acidity and a firm texture, it's very much for food.                                                                                                                                                                                                                                                      \n",
       "9      Savory dried thyme notes accent sunnier flavors of preserved peach in this brisk, off-dry wine. It's fruity and fresh, with an elegant, sprightly footprint.                                                                                                                                                                                                                    \n",
       "10     This has great depth of flavor with its fresh apple and pear fruits and touch of spice. It's off dry while balanced with acidity and a crisp texture. Drink now.                                                                                                                                                                                                                \n",
       "12     This is a dry wine, very spicy, with a tight, taut texture and strongly mineral character layered with citrus as well as pepper. It's a food wine with its almost crisp aftertaste.                                                                                                                                                                                             \n",
       "13     Slightly reduced, this wine offers a chalky, tannic backbone to an otherwise juicy explosion of rich black cherry, the whole accented throughout by firm oak and cigar box.                                                                                                                                                                                                     \n",
       "14     This is dominated by oak and oak-driven aromas that include roasted coffee bean, espresso, coconut and vanilla that carry over to the palate, together with plum and chocolate. Astringent, drying tannins give it a rather abrupt finish.                                                                                                                                      \n",
       "15     Building on 150 years and six generations of winemaking tradition, the winery trends toward a leaner style, with the classic California buttercream aroma cut by tart green apple. In this good everyday sipping wine, flavors that range from pear to barely ripe pineapple prove approachable but not distinctive.                                                            \n",
       "16     Zesty orange peels and apple notes abound in this sprightly, mineral-toned Riesling. Off dry on the palate, yet racy and lean, it's a refreshing, easy quaffer with wide appeal.                                                                                                                                                                                                \n",
       "17     Baked plum, molasses, balsamic vinegar and cheesy oak aromas feed into a palate that's braced by a bolt of acidity. A compact set of saucy red-berry and plum flavors features tobacco and peppery accents, while the finish is mildly green in flavor, with respectable weight and balance.                                                                                    \n",
       "18     Raw black-cherry aromas are direct and simple but good. This has a juicy feel that thickens over time, with oak character and extract becoming more apparent. A flavor profile driven by dark-berry fruits and smoldering oak finishes meaty but hot.                                                                                                                           \n",
       "19     Desiccated blackberry, leather, charred wood and mint aromas carry the nose on this full-bodied, tannic, heavily oaked Tinto Fino. Flavors of clove and woodspice sit on top of blackberry fruit, then hickory and other forceful oak-based aromas rise up and dominate the finish.                                                                                             \n",
       "20     Red fruit aromas pervade on the nose, with cigar box and menthol notes riding in the back. The palate is slightly restrained on entry, but opens up to riper notes of cherry and plum specked with crushed pepper. This blend of Merlot, Cabernet Sauvignon and Cabernet Franc is approachable now and ready to be enjoyed.                                                     \n",
       "21     Ripe aromas of dark berries mingle with ample notes of black pepper, toasted vanilla and dusty tobacco. The palate is oak-driven in nature, but notes of tart red currant shine through, offering a bit of levity.                                                                                                                                                              \n",
       "22     A sleek mix of tart berry, stem and herb, along with a hint of oak and chocolate, this is a fair value in a widely available, drink-now Oregon Pinot. The wine oak-aged for six months, whether in neutral or re-staved is not indicated.                                                                                                                                       \n",
       "23     Delicate aromas recall white flower and citrus. The palate offers passion fruit, lime and white peach with a hint of mineral alongside bright acidity.                                                                                                                                                                                                                          \n",
       "25     Aromas of prune, blackcurrant, toast and oak carry through to the extracted palate, along with flavors of black cherry and roasted coffee beans. Firm but drying tannins provide the framework.                                                                                                                                                                                 \n",
       "27     Pretty aromas of yellow flower and stone fruit lead the nose. The bright palate offers yellow apple, apricot, vanilla and delicate notes of lightly toasted oak alongside crisp acidity.                                                                                                                                                                                        \n",
       "28     Aromas recall ripe dark berry, toast and a whiff of cake spice. The soft, informal palate offers sour cherry, vanilla and a hint of espresso alongside round tannins. Drink soon.                                                                                                                                                                                               \n",
       "29     Aromas suggest mature berry, scorched earth, animal, toast and anise. The palate offers ripe black berry, oak, espresso, cocoa and vanilla alongside dusty tannins.                                                                                                                                                                                                             \n",
       "30     Clarksburg is becoming a haven for Chenin Blanc in California. This bottling, using fruit sourced from several vineyards in the area, is balanced with just a trace of sweetness in the background (1% residual sugar). This is crisp, straightforward and blessed with notes of pear and lime. Drink it cold.                                                                  \n",
       "31     Red cherry fruit comes laced with light tannins, giving this bright wine an open, juicy character.                                                                                                                                                                                                                                                                              \n",
       "32     Merlot and Nero d'Avola form the base for this easy red wine that would pair with fettuccine and meat sauce or pork roast. The quality of the fruit is clean, bright and sharp.                                                                                                                                                                                                 \n",
       "33     Part of the extended CalanÃ¬ca series, this Grillo-Viognier blend shows aromas of honeysuckle and jasmine, backed by touches of cut grass and wild sage. In the mouth, it shows ripe yellow-fruit flavors.                                                                                                                                                                      \n",
       "34     Rustic and dry, this has flavors of berries, currants, licorice and spices. Made from Cabernet Franc and Cabernet Sauvignon.                                                                                                                                                                                                                                                    \n",
       "...    ...                                                                                                                                                                                                                                                                                                                                                                             \n",
       "119956 Compared to the regular 2006 Malbec from Chakana, this wine steps up in weight class and wins the crown. It's a serious but inviting red with spongey, ripe berry aromas topped by pure raspberry, cherry and cola flavors. It's both racy and composed, with a pile of bitter chocolate on the long finish. Good through 2009 at least.                                        \n",
       "119957 A true TBA, its very rich, toffee-flavored, intense sweetness overpowering the botrytis dryness initially. And then you feel the acidity, the apricot and peach flavors and the shot of lime. In its texture, it is a truly intense dessert wine. Age for 10 years.                                                                                                             \n",
       "119958 This is the winery's bells and whistles Chardonnay. Grown from inland fruit, in a vineyard near Ukiah, it's rich in buttercreamy peach, pear and pineapple flavors, with a spicy, racy finish.                                                                                                                                                                                  \n",
       "119959 A Chardonnay with an unusual companion, 8% SÃ©millon, this is floral and fruity in equal measure. Tight, bright acidity supports flavors of fennel and green apple, with the oak impact playing a subtle supporting role. The finish is nicely crisp.                                                                                                                           \n",
       "119960 This is classic in herbaceous aromas and flavors, rich in juicy blackberry and blueberry while also offering savory pencil shavings and dark chocolate. Leathered, firm tannins complete the picture, providing structure and integration to a wall of well-managed oak.                                                                                                        \n",
       "119961 A blend of Nero d'Avola and Syrah, this conveys aromas of scorched earth, crushed flower, dark berry and a whiff of cooking spice. The palate offers ripe cherry, graphite, ground black pepper and a smoky note alongside velvety tannins.                                                                                                                                     \n",
       "119962 Deep garnet in the glass, this has a nose of blackberry and vanilla. Flavors of blackberry, eucalyptus, tart cherry and white chocolate are well balanced, with a mix of fruity and savory notes. Tannins are mostly smooth with a touch of grip. The finish combines a pleasing blend of eucalyptus and tart cherry flavors.                                                   \n",
       "119964 Plump, clingy peach and honey notes are cut with streaks of lime in this delicate yet intensely satisfying wine. Off dry in style, it's refreshingly juicy, with a rich, supple mouthfeel offset by bristling acidity.                                                                                                                                                          \n",
       "119965 A blend of 65% Cabernet Sauvignon, 30% Merlot and 5% Petit Verdot, this bold wine features aromas of spiced plum, blackcurrant, leather and a hint of coconut. On the palate, assertive tannins support the mature blackberry, espresso and licorice flavors.                                                                                                                   \n",
       "119966 Raspberry and cassis aromas are fresh and upright while showing wiry, grassy accents. Full bodied, this features a jammy, pulpy palate that's fresh but low on definition. Herbal, lightly green infiltrations drift onto a solid, tannic finish. Drink through 2018.                                                                                                           \n",
       "119969 Hugely spicy this rich wine is described as sweet. In fact, the spice gives it a drier edge, adding pepper and cinnamon as well as a mineral character from the granite soil. The wine could age, so drink from 2016.                                                                                                                                                           \n",
       "119970 This Zinfandel from the eastern section of Napa Valley is unexpectedly structured and bright in acidity, offering notes of strawberry and cinnamon. The acidity provides a kick to the finish, awash in memorable sprinkles of white pepper.                                                                                                                                    \n",
       "119971 Roughly two-thirds Cabernet and one-third Merlot, this medium-bodied wine packs in ample plum fruit, accented by cinnamon and cedar. Finishes long, with a slightly velvety texture.                                                                                                                                                                                            \n",
       "119972 One of the more characterful Pinot Gris for this price, Ara's 2013 offers wet stone and apple aromas, flavors of apple, cinnamon and pear and a long, mouthwatering finish. There's a bit of creaminess on the midpalate and just a hint of dusty texture on the finish.                                                                                                        \n",
       "119973 Like Dog Point's 2011 Chardonnay, this wine is dominated by citrusy elements. Hints of toasted almond and some riper notes of pear provide a certain amount of breadth on the palate, but citrus and quince dominate, lingering on the crisp finish. Drink nowâ\\200“2017.                                                                                                          \n",
       "119974 The blend is 44% Merlot, 33% Cabernet Sauvignon and 22% Malbec. The result is a medium- to full-bodied wine with firm structure that should drink well through 2020. Leather, earth and plum notes pick up hints of black olive and espresso on the finish.                                                                                                                     \n",
       "119975 Lightly baked berry aromas vie for attention with leather, spice and mild earth notes, and the result is disjointed. On the palate, this is tight as a drum initially, but more expansive as it unfolds. Cherry, plum, raspberry, vanilla and woodspice flavors finish pure, clean and easy. This is a fine yet manageable Rioja that's not trying too hard. Drink through 2016.\n",
       "119976 This blend of Cabernet Sauvignon-Merlot and Cabernet Franc is full bodied and firm, the tannins just beginning to soften. The aromas and flavors are classic: cedar, vanilla, cassis and tobacco. Drink nowâ\\200“2020.                                                                                                                                                             \n",
       "119977 The granite soil of the Brand Grand Cru vineyard has produced a strongly structured wine that also has richness and ripe fruits. Off dry, it has a hint of honey as well as yellow fruits and pears. The aftertaste brings out the acidity and freshness that balance the wine. Drink from 2017.                                                                                \n",
       "119978 Fresh and fruity, this is full of red cherry flavors and crisp acidity. It has some age, hinting at a more toasty future. For the moment, it's at its best after eight years aging on the lees in the bottle.                                                                                                                                                                   \n",
       "119979 Intense aromas of wild cherry, baking spice, tilled soil and savory herb lead the nose on this soulful, silky red. The round, smooth palate doles out juicy red cherry, strawberry jelly, mineral, white pepper and an intriguing note of zabaglione alongside soft, supple tannins and bright acidity..                                                                        \n",
       "119980 Blackberry, cassis, grilled herb and toasted aromas come together in the glass. On the palate, espresso, mint and black pepper add depth to the core of black cherry and blackberry flavors. It finishes on a licorice note.                                                                                                                                                    \n",
       "119981 A bouquet of black cherry, tart cranberry and clove opens into flavors of cherry, anisette, espresso bean and mint, with a hint of tart cranberry. The minty notes can almost seem overly strong for a moment, but tart tones bring the fruit flavors back to the foreground. The pleasantly gripping tannins will mellow with a few more years of aging.                       \n",
       "119982 Initially quite muted, this wine slowly develops impressive richness and spice. It's not sweet, more medium dry, with the spice forming a core of dryness that contrasts with the honeyed texture. It can develop more, so wait to drink until 2016.                                                                                                                            \n",
       "119983 While it's rich, this beautiful dry wine also offers considerable freshness. Acidity cuts easily through the ripe white fruit, pear and red apples, allowing room for spice that provides a contrasting aftertaste.                                                                                                                                                             \n",
       "119984 Notes of honeysuckle and cantaloupe sweeten this deliciously feather-light spÃ¤tlese. It's intensely juicy, quenching the palate with streams of tart tangerine and grapefruit acidity, yet wraps up with a kiss of honey and peach.                                                                                                                                            \n",
       "119985 Citation is given as much as a decade of bottle age prior to release, which means it is pre-cellared and drinking at its peak. Baked cherry, cocoa and coconut flavors combine gracefully, with soft, secondary fruit compote highlights.                                                                                                                                       \n",
       "119986 Well-drained gravel soil gives this wine its crisp and dry character. It is ripe and fruity, although the spice is subdued in favor of a more serious structure. This is a wine to age for a couple of years, so drink from 2017.                                                                                                                                               \n",
       "119987 A dry style of Pinot Gris, this is crisp with some acidity. It also has weight and a solid, powerful core of spice and baked apple flavors. With its structure still developing, the wine needs to age. Drink from 2015.                                                                                                                                                        \n",
       "119988 Big, rich and off-dry, this is powered by intense spiciness and rounded texture. Lychees dominate the fruit profile, giving an opulent feel to the aftertaste. Drink now.                                                                                                                                                                                                       \n",
       "       designation                                                      points\n",
       "1      VulkÃ  Bianco                                                    87    \n",
       "2      Avidagos                                                         87    \n",
       "3      NA                                                               87    \n",
       "4      Reserve Late Harvest                                             87    \n",
       "6      Ars In Vitro                                                     87    \n",
       "7      Belsito                                                          87    \n",
       "8      NA                                                               87    \n",
       "9      Shine                                                            87    \n",
       "10     Les Natures                                                      87    \n",
       "12     NA                                                               87    \n",
       "13     NA                                                               87    \n",
       "14     Rosso                                                            87    \n",
       "15     NA                                                               87    \n",
       "16     Devon                                                            87    \n",
       "17     Felix                                                            87    \n",
       "18     Winemaker Selection                                              87    \n",
       "19     Vendimia Seleccionada Finca Valdelayegua Single Vineyard Crianza 87    \n",
       "20     NA                                                               87    \n",
       "21     Vin de Maison                                                    87    \n",
       "22     NA                                                               87    \n",
       "23     Ficiligno                                                        87    \n",
       "25     Aynat                                                            87    \n",
       "27     Dalila                                                           87    \n",
       "28     NA                                                               87    \n",
       "29     Mascaria Barricato                                               87    \n",
       "30     NA                                                               86    \n",
       "31     Nouveau                                                          86    \n",
       "32     CalanÃ¬ca Nero d'Avola-Merlot                                    86    \n",
       "33     CalanÃ¬ca Grillo-Viognier                                        86    \n",
       "34     Puma Springs Vineyard                                            86    \n",
       "...    ...                                                              ...   \n",
       "119956 Reserve                                                          91    \n",
       "119957 Grand Vin                                                        91    \n",
       "119958 Watson Vineyard                                                  91    \n",
       "119959 NA                                                               90    \n",
       "119960 NA                                                               90    \n",
       "119961 AdÃ¨nzia                                                         90    \n",
       "119962 Special Reserve Winemakers' Choice                               90    \n",
       "119964 Dom                                                              90    \n",
       "119965 Symposio                                                         90    \n",
       "119966 Pedernal                                                         90    \n",
       "119969 Holder                                                           90    \n",
       "119970 NA                                                               90    \n",
       "119971 Elspeth                                                          90    \n",
       "119972 Single Estate                                                    90    \n",
       "119973 NA                                                               90    \n",
       "119974 Gimblett Gravels Merlot-Cabernet Sauvignon-Malbec                90    \n",
       "119975 Crianza                                                          90    \n",
       "119976 Irongate                                                         90    \n",
       "119977 Brand Grand Cru                                                  90    \n",
       "119978 VÃ©rtice                                                         90    \n",
       "119979 NA                                                               90    \n",
       "119980 SÃ gana Tenuta San Giacomo                                       90    \n",
       "119981 Oak Aged                                                         90    \n",
       "119982 Domaine Saint-RÃ©my Herrenweg                                    90    \n",
       "119983 Seppi Landmann VallÃ©e Noble                                     90    \n",
       "119984 Brauneberger Juffer-Sonnenuhr SpÃ¤tlese                          90    \n",
       "119985 NA                                                               90    \n",
       "119986 Kritt                                                            90    \n",
       "119987 NA                                                               90    \n",
       "119988 Lieu-dit Harth CuvÃ©e Caroline                                   90    \n",
       "       price province          region_1              region_2         \n",
       "1      NA    Sicily & Sardinia Etna                  NA               \n",
       "2      15    Douro             NA                    NA               \n",
       "3      14    Oregon            Willamette Valley     Willamette Valley\n",
       "4      13    Michigan          Lake Michigan Shore   NA               \n",
       "6      15    Northern Spain    Navarra               NA               \n",
       "7      16    Sicily & Sardinia Vittoria              NA               \n",
       "8      24    Alsace            Alsace                NA               \n",
       "9      12    Rheinhessen       NA                    NA               \n",
       "10     27    Alsace            Alsace                NA               \n",
       "12     30    Alsace            Alsace                NA               \n",
       "13     34    California        Alexander Valley      Sonoma           \n",
       "14     NA    Sicily & Sardinia Etna                  NA               \n",
       "15     12    California        Central Coast         Central Coast    \n",
       "16     24    Mosel             NA                    NA               \n",
       "17     30    Other             Cafayate              NA               \n",
       "18     13    Mendoza Province  Mendoza               NA               \n",
       "19     28    Northern Spain    Ribera del Duero      NA               \n",
       "20     32    Virginia          Virginia              NA               \n",
       "21     23    Virginia          Virginia              NA               \n",
       "22     20    Oregon            Oregon                Oregon Other     \n",
       "23     19    Sicily & Sardinia Sicilia               NA               \n",
       "25     35    Sicily & Sardinia Sicilia               NA               \n",
       "27     13    Sicily & Sardinia Terre Siciliane       NA               \n",
       "28     10    Sicily & Sardinia Terre Siciliane       NA               \n",
       "29     17    Sicily & Sardinia Cerasuolo di Vittoria NA               \n",
       "30     16    California        Clarksburg            Central Valley   \n",
       "31     NA    Beaujolais        Beaujolais-Villages   NA               \n",
       "32     NA    Sicily & Sardinia Sicilia               NA               \n",
       "33     NA    Sicily & Sardinia Sicilia               NA               \n",
       "34     50    California        Dry Creek Valley      Sonoma           \n",
       "...    ...   ...               ...                   ...              \n",
       "119956 25    Mendoza Province  LujÃ¡n de Cuyo        NA               \n",
       "119957 70    Burgenland        NA                    NA               \n",
       "119958 36    California        Mendocino             NA               \n",
       "119959 20    California        Mendocino County      NA               \n",
       "119960 35    California        Sonoma County         Sonoma           \n",
       "119961 29    Sicily & Sardinia Sicilia               NA               \n",
       "119962 25    Galilee           NA                    NA               \n",
       "119964 17    Mosel             NA                    NA               \n",
       "119965 20    Sicily & Sardinia Terre Siciliane       NA               \n",
       "119966 43    Other             San Juan              NA               \n",
       "119969 30    Alsace            Alsace                NA               \n",
       "119970 22    California        Chiles Valley         Napa             \n",
       "119971 25    Hawke's Bay       NA                    NA               \n",
       "119972 15    Marlborough       NA                    NA               \n",
       "119973 40    Marlborough       NA                    NA               \n",
       "119974 19    Hawke's Bay       NA                    NA               \n",
       "119975 17    Northern Spain    Rioja                 NA               \n",
       "119976 35    Hawke's Bay       NA                    NA               \n",
       "119977 57    Alsace            Alsace                NA               \n",
       "119978 48    Douro             NA                    NA               \n",
       "119979 30    Sicily & Sardinia Sicilia               NA               \n",
       "119980 40    Sicily & Sardinia Sicilia               NA               \n",
       "119981 20    Galilee           NA                    NA               \n",
       "119982 NA    Alsace            Alsace                NA               \n",
       "119983 28    Alsace            Alsace                NA               \n",
       "119984 28    Mosel             NA                    NA               \n",
       "119985 75    Oregon            Oregon                Oregon Other     \n",
       "119986 30    Alsace            Alsace                NA               \n",
       "119987 32    Alsace            Alsace                NA               \n",
       "119988 21    Alsace            Alsace                NA               \n",
       "       taster_name        taster_twitter_handle\n",
       "1      Kerin Oâ\\200\\231Keefe    @kerinokeefe         \n",
       "2      Roger Voss         @vossroger           \n",
       "3      Paul Gregutt       @paulgwineÂ          \n",
       "4      Alexander Peartree NA                   \n",
       "6      Michael Schachner  @wineschach          \n",
       "7      Kerin Oâ\\200\\231Keefe    @kerinokeefe         \n",
       "8      Roger Voss         @vossroger           \n",
       "9      Anna Lee C. Iijima NA                   \n",
       "10     Roger Voss         @vossroger           \n",
       "12     Roger Voss         @vossroger           \n",
       "13     Virginie Boone     @vboone              \n",
       "14     Kerin Oâ\\200\\231Keefe    @kerinokeefe         \n",
       "15     Matt Kettmann      @mattkettmann        \n",
       "16     Anna Lee C. Iijima NA                   \n",
       "17     Michael Schachner  @wineschach          \n",
       "18     Michael Schachner  @wineschach          \n",
       "19     Michael Schachner  @wineschach          \n",
       "20     Alexander Peartree NA                   \n",
       "21     Alexander Peartree NA                   \n",
       "22     Paul Gregutt       @paulgwineÂ          \n",
       "23     Kerin Oâ\\200\\231Keefe    @kerinokeefe         \n",
       "25     Kerin Oâ\\200\\231Keefe    @kerinokeefe         \n",
       "27     Kerin Oâ\\200\\231Keefe    @kerinokeefe         \n",
       "28     Kerin Oâ\\200\\231Keefe    @kerinokeefe         \n",
       "29     Kerin Oâ\\200\\231Keefe    @kerinokeefe         \n",
       "30     Virginie Boone     @vboone              \n",
       "31     Roger Voss         @vossroger           \n",
       "32     NA                 NA                   \n",
       "33     NA                 NA                   \n",
       "34     NA                 NA                   \n",
       "...    ...                ...                  \n",
       "119956 Michael Schachner  @wineschach          \n",
       "119957 Roger Voss         @vossroger           \n",
       "119958 NA                 NA                   \n",
       "119959 Virginie Boone     @vboone              \n",
       "119960 Virginie Boone     @vboone              \n",
       "119961 Kerin Oâ\\200\\231Keefe    @kerinokeefe         \n",
       "119962 Mike DeSimone      @worldwineguys       \n",
       "119964 Anna Lee C. Iijima NA                   \n",
       "119965 Kerin Oâ\\200\\231Keefe    @kerinokeefe         \n",
       "119966 Michael Schachner  @wineschach          \n",
       "119969 Roger Voss         @vossroger           \n",
       "119970 Virginie Boone     @vboone              \n",
       "119971 Joe Czerwinski     @JoeCz               \n",
       "119972 Joe Czerwinski     @JoeCz               \n",
       "119973 Joe Czerwinski     @JoeCz               \n",
       "119974 Joe Czerwinski     @JoeCz               \n",
       "119975 Michael Schachner  @wineschach          \n",
       "119976 Joe Czerwinski     @JoeCz               \n",
       "119977 Roger Voss         @vossroger           \n",
       "119978 Roger Voss         @vossroger           \n",
       "119979 Kerin Oâ\\200\\231Keefe    @kerinokeefe         \n",
       "119980 Kerin Oâ\\200\\231Keefe    @kerinokeefe         \n",
       "119981 Mike DeSimone      @worldwineguys       \n",
       "119982 Roger Voss         @vossroger           \n",
       "119983 Roger Voss         @vossroger           \n",
       "119984 Anna Lee C. Iijima NA                   \n",
       "119985 Paul Gregutt       @paulgwineÂ          \n",
       "119986 Roger Voss         @vossroger           \n",
       "119987 Roger Voss         @vossroger           \n",
       "119988 Roger Voss         @vossroger           \n",
       "       title                                                                                                  \n",
       "1      Nicosia 2013 VulkÃ  Bianco  (Etna)                                                                     \n",
       "2      Quinta dos Avidagos 2011 Avidagos Red (Douro)                                                          \n",
       "3      Rainstorm 2013 Pinot Gris (Willamette Valley)                                                          \n",
       "4      St. Julian 2013 Reserve Late Harvest Riesling (Lake Michigan Shore)                                    \n",
       "6      Tandem 2011 Ars In Vitro Tempranillo-Merlot (Navarra)                                                  \n",
       "7      Terre di Giurfo 2013 Belsito Frappato (Vittoria)                                                       \n",
       "8      Trimbach 2012 Gewurztraminer (Alsace)                                                                  \n",
       "9      Heinz Eifel 2013 Shine GewÃ¼rztraminer (Rheinhessen)                                                   \n",
       "10     Jean-Baptiste Adam 2012 Les Natures Pinot Gris (Alsace)                                                \n",
       "12     Leon Beyer 2012 Gewurztraminer (Alsace)                                                                \n",
       "13     Louis M. Martini 2012 Cabernet Sauvignon (Alexander Valley)                                            \n",
       "14     Masseria Setteporte 2012 Rosso  (Etna)                                                                 \n",
       "15     Mirassou 2012 Chardonnay (Central Coast)                                                               \n",
       "16     Richard BÃ¶cking 2013 Devon Riesling (Mosel)                                                           \n",
       "17     Felix Lavaque 2010 Felix Malbec (Cafayate)                                                             \n",
       "18     Gaucho Andino 2011 Winemaker Selection Malbec (Mendoza)                                                \n",
       "19     Pradorey 2010 Vendimia Seleccionada Finca Valdelayegua Single Vineyard Crianza  (Ribera del Duero)     \n",
       "20     QuiÃ©vremont 2012 Meritage (Virginia)                                                                  \n",
       "21     QuiÃ©vremont 2012 Vin de Maison Red (Virginia)                                                         \n",
       "22     Acrobat 2013 Pinot Noir (Oregon)                                                                       \n",
       "23     Baglio di Pianetto 2007 Ficiligno White (Sicilia)                                                      \n",
       "25     CanicattÃ¬ 2009 Aynat Nero d'Avola (Sicilia)                                                           \n",
       "27     Stemmari 2013 Dalila White (Terre Siciliane)                                                           \n",
       "28     Stemmari 2013 Nero d'Avola (Terre Siciliane)                                                           \n",
       "29     Terre di Giurfo 2011 Mascaria Barricato  (Cerasuolo di Vittoria)                                       \n",
       "30     Clarksburg Wine Company 2010 Chenin Blanc (Clarksburg)                                                 \n",
       "31     Domaine de la Madone 2012 Nouveau  (Beaujolais-Villages)                                               \n",
       "32     Duca di Salaparuta 2010 CalanÃ¬ca Nero d'Avola-Merlot Red (Sicilia)                                    \n",
       "33     Duca di Salaparuta 2011 CalanÃ¬ca Grillo-Viognier White (Sicilia)                                      \n",
       "34     Envolve 2010 Puma Springs Vineyard Red (Dry Creek Valley)                                              \n",
       "...    ...                                                                                                    \n",
       "119956 Chakana 2006 Reserve Malbec (LujÃ¡n de Cuyo)                                                           \n",
       "119957 Schloss Halbturn 2004 Grand Vin White (Burgenland)                                                     \n",
       "119958 Standish 2006 Watson Vineyard Chardonnay (Mendocino)                                                   \n",
       "119959 Apriori 2013 Chardonnay (Mendocino County)                                                             \n",
       "119960 Arrowood 2010 Cabernet Sauvignon (Sonoma County)                                                       \n",
       "119961 Baglio del Cristo di Campobello 2012 AdÃ¨nzia Red (Sicilia)                                            \n",
       "119962 Barkan 2011 Special Reserve Winemakers' Choice Shiraz (Galilee)                                        \n",
       "119964 BischÃ¶fliche WeingÃ¼ter Trier 2013 Dom Riesling (Mosel)                                               \n",
       "119965 Feudo Principi di Butera 2012 Symposio Red (Terre Siciliane)                                           \n",
       "119966 Finca Las Moras 2010 Pedernal Malbec (San Juan)                                                        \n",
       "119969 Henri Schoenheitz 2012 Holder Gewurztraminer (Alsace)                                                  \n",
       "119970 Houdini 2011 Zinfandel (Chiles Valley)                                                                 \n",
       "119971 Mills Reef 2011 Elspeth Cabernet Merlot (Hawke's Bay)                                                  \n",
       "119972 Ara 2013 Single Estate Pinot Gris (Marlborough)                                                        \n",
       "119973 Dog Point 2012 Chardonnay (Marlborough)                                                                \n",
       "119974 Esk Valley 2011 Gimblett Gravels Merlot-Cabernet Sauvignon-Malbec Red (Hawke's Bay)                    \n",
       "119975 ViÃ±edos Real Rubio 2010 Crianza  (Rioja)                                                              \n",
       "119976 Babich 2010 Irongate Red (Hawke's Bay)                                                                 \n",
       "119977 Cave de Turckheim 2010 Brand Grand Cru Pinot Gris (Alsace)                                             \n",
       "119978 Caves Transmontanas 2006 VÃ©rtice Pinot Noir (Douro)                                                   \n",
       "119979 COS 2013 Frappato (Sicilia)                                                                            \n",
       "119980 Cusumano 2012 SÃ gana Tenuta San Giacomo Nero d'Avola (Sicilia)                                        \n",
       "119981 Dalton 2012 Oak Aged Cabernet Sauvignon (Galilee)                                                      \n",
       "119982 Domaine Ehrhart 2013 Domaine Saint-RÃ©my Herrenweg Gewurztraminer (Alsace)                             \n",
       "119983 Domaine RieflÃ©-Landmann 2013 Seppi Landmann VallÃ©e Noble Pinot Gris (Alsace)                         \n",
       "119984 Dr. H. Thanisch (Erben MÃ¼ller-Burggraef) 2013 Brauneberger Juffer-Sonnenuhr SpÃ¤tlese Riesling (Mosel)\n",
       "119985 Citation 2004 Pinot Noir (Oregon)                                                                      \n",
       "119986 Domaine Gresser 2013 Kritt Gewurztraminer (Alsace)                                                     \n",
       "119987 Domaine Marcel Deiss 2012 Pinot Gris (Alsace)                                                          \n",
       "119988 Domaine Schoffit 2012 Lieu-dit Harth CuvÃ©e Caroline Gewurztraminer (Alsace)                           \n",
       "       variety                  winery                                   \n",
       "1      White Blend              Nicosia                                  \n",
       "2      Portuguese Red           Quinta dos Avidagos                      \n",
       "3      Pinot Gris               Rainstorm                                \n",
       "4      Riesling                 St. Julian                               \n",
       "6      Tempranillo-Merlot       Tandem                                   \n",
       "7      Frappato                 Terre di Giurfo                          \n",
       "8      GewÃ¼rztraminer          Trimbach                                 \n",
       "9      GewÃ¼rztraminer          Heinz Eifel                              \n",
       "10     Pinot Gris               Jean-Baptiste Adam                       \n",
       "12     GewÃ¼rztraminer          Leon Beyer                               \n",
       "13     Cabernet Sauvignon       Louis M. Martini                         \n",
       "14     Nerello Mascalese        Masseria Setteporte                      \n",
       "15     Chardonnay               Mirassou                                 \n",
       "16     Riesling                 Richard BÃ¶cking                         \n",
       "17     Malbec                   Felix Lavaque                            \n",
       "18     Malbec                   Gaucho Andino                            \n",
       "19     Tempranillo Blend        Pradorey                                 \n",
       "20     Meritage                 QuiÃ©vremont                             \n",
       "21     Red Blend                QuiÃ©vremont                             \n",
       "22     Pinot Noir               Acrobat                                  \n",
       "23     White Blend              Baglio di Pianetto                       \n",
       "25     Nero d'Avola             CanicattÃ¬                               \n",
       "27     White Blend              Stemmari                                 \n",
       "28     Nero d'Avola             Stemmari                                 \n",
       "29     Red Blend                Terre di Giurfo                          \n",
       "30     Chenin Blanc             Clarksburg Wine Company                  \n",
       "31     Gamay                    Domaine de la Madone                     \n",
       "32     Red Blend                Duca di Salaparuta                       \n",
       "33     White Blend              Duca di Salaparuta                       \n",
       "34     Red Blend                Envolve                                  \n",
       "...    ...                      ...                                      \n",
       "119956 Malbec                   Chakana                                  \n",
       "119957 White Blend              Schloss Halbturn                         \n",
       "119958 Chardonnay               Standish                                 \n",
       "119959 Chardonnay               Apriori                                  \n",
       "119960 Cabernet Sauvignon       Arrowood                                 \n",
       "119961 Red Blend                Baglio del Cristo di Campobello          \n",
       "119962 Shiraz                   Barkan                                   \n",
       "119964 Riesling                 BischÃ¶fliche WeingÃ¼ter Trier           \n",
       "119965 Red Blend                Feudo Principi di Butera                 \n",
       "119966 Malbec                   Finca Las Moras                          \n",
       "119969 GewÃ¼rztraminer          Henri Schoenheitz                        \n",
       "119970 Zinfandel                Houdini                                  \n",
       "119971 Cabernet Merlot          Mills Reef                               \n",
       "119972 Pinot Gris               Ara                                      \n",
       "119973 Chardonnay               Dog Point                                \n",
       "119974 Bordeaux-style Red Blend Esk Valley                               \n",
       "119975 Tempranillo Blend        ViÃ±edos Real Rubio                      \n",
       "119976 Bordeaux-style Red Blend Babich                                   \n",
       "119977 Pinot Gris               Cave de Turckheim                        \n",
       "119978 Pinot Noir               Caves Transmontanas                      \n",
       "119979 Frappato                 COS                                      \n",
       "119980 Nero d'Avola             Cusumano                                 \n",
       "119981 Cabernet Sauvignon       Dalton                                   \n",
       "119982 GewÃ¼rztraminer          Domaine Ehrhart                          \n",
       "119983 Pinot Gris               Domaine RieflÃ©-Landmann                 \n",
       "119984 Riesling                 Dr. H. Thanisch (Erben MÃ¼ller-Burggraef)\n",
       "119985 Pinot Noir               Citation                                 \n",
       "119986 GewÃ¼rztraminer          Domaine Gresser                          \n",
       "119987 Pinot Gris               Domaine Marcel Deiss                     \n",
       "119988 GewÃ¼rztraminer          Domaine Schoffit                         "
      ]
     },
     "metadata": {},
     "output_type": "display_data"
    }
   ],
   "source": [
    "wine_nodup[!complete.cases(wine_nodup),]"
   ]
  },
  {
   "cell_type": "code",
   "execution_count": 12,
   "metadata": {},
   "outputs": [
    {
     "data": {
      "text/html": [
       "0.829207920792079"
      ],
      "text/latex": [
       "0.829207920792079"
      ],
      "text/markdown": [
       "0.829207920792079"
      ],
      "text/plain": [
       "[1] 0.8292079"
      ]
     },
     "metadata": {},
     "output_type": "display_data"
    }
   ],
   "source": [
    "#percentage of rows with missing value\n",
    "nrow(wine_nodup[!complete.cases(wine_nodup),])/nrow(wine_nodup)"
   ]
  },
  {
   "cell_type": "code",
   "execution_count": 13,
   "metadata": {},
   "outputs": [
    {
     "data": {
      "text/html": [
       "0.533803380338034"
      ],
      "text/latex": [
       "0.533803380338034"
      ],
      "text/markdown": [
       "0.533803380338034"
      ],
      "text/plain": [
       "[1] 0.5338034"
      ]
     },
     "metadata": {},
     "output_type": "display_data"
    }
   ],
   "source": [
    "# if we narrow down to check only completeness of \"description, designation, taser_name, points, price, variety, country, province\"\n",
    "nrow(wine_nodup[complete.cases(wine_nodup[c('description','designation', 'taster_name', 'points', 'price','variety', 'country', 'province')]),])/nrow(wine_nodup)"
   ]
  },
  {
   "cell_type": "code",
   "execution_count": 14,
   "metadata": {},
   "outputs": [],
   "source": [
    "# new dataframe after removing rows with NAs from description, designation, taster_name, points, price, variety, country, province\n",
    "wine_clean <- wine_nodup[complete.cases(wine_nodup[c('description','designation', 'taster_name', 'points', 'price','variety', 'country', 'province')]),]"
   ]
  },
  {
   "cell_type": "code",
   "execution_count": 15,
   "metadata": {},
   "outputs": [],
   "source": [
    "# Make GSM a set of character so that it does not get split in text analysis\n",
    "wine_clean[wine_clean$variety == 'G-S-M', 'variety'] = 'GSM'"
   ]
  },
  {
   "cell_type": "code",
   "execution_count": 16,
   "metadata": {},
   "outputs": [],
   "source": [
    "#wine_clean$year = gsub"
   ]
  },
  {
   "cell_type": "code",
   "execution_count": 17,
   "metadata": {},
   "outputs": [],
   "source": [
    "# further subset the data to only wine from France to prevent oversized matrix\n",
    "wine_clean <- wine_clean%>%\n",
    "    filter(country == 'France')"
   ]
  },
  {
   "cell_type": "code",
   "execution_count": 18,
   "metadata": {},
   "outputs": [
    {
     "data": {
      "text/html": [
       "0"
      ],
      "text/latex": [
       "0"
      ],
      "text/markdown": [
       "0"
      ],
      "text/plain": [
       "[1] 0"
      ]
     },
     "metadata": {},
     "output_type": "display_data"
    }
   ],
   "source": [
    "# check number of duplicated records in wine_clean\n",
    "sum(duplicated(wine_clean))"
   ]
  },
  {
   "cell_type": "code",
   "execution_count": 19,
   "metadata": {},
   "outputs": [
    {
     "data": {
      "text/html": [
       "0.0819567441967824"
      ],
      "text/latex": [
       "0.0819567441967824"
      ],
      "text/markdown": [
       "0.0819567441967824"
      ],
      "text/plain": [
       "[1] 0.08195674"
      ]
     },
     "metadata": {},
     "output_type": "display_data"
    }
   ],
   "source": [
    "#percentage of data left after the preprocessing\n",
    "nrow(wine_clean)/nrow(wine)"
   ]
  },
  {
   "cell_type": "code",
   "execution_count": 20,
   "metadata": {},
   "outputs": [
    {
     "data": {
      "text/html": [
       "<ol class=list-inline>\n",
       "\t<li>10652</li>\n",
       "\t<li>13</li>\n",
       "</ol>\n"
      ],
      "text/latex": [
       "\\begin{enumerate*}\n",
       "\\item 10652\n",
       "\\item 13\n",
       "\\end{enumerate*}\n"
      ],
      "text/markdown": [
       "1. 10652\n",
       "2. 13\n",
       "\n",
       "\n"
      ],
      "text/plain": [
       "[1] 10652    13"
      ]
     },
     "metadata": {},
     "output_type": "display_data"
    }
   ],
   "source": [
    "dim(wine_clean)"
   ]
  },
  {
   "cell_type": "code",
   "execution_count": 21,
   "metadata": {},
   "outputs": [
    {
     "data": {
      "text/html": [
       "0"
      ],
      "text/latex": [
       "0"
      ],
      "text/markdown": [
       "0"
      ],
      "text/plain": [
       "[1] 0"
      ]
     },
     "metadata": {},
     "output_type": "display_data"
    }
   ],
   "source": [
    "# in the original dataset some taster_name does not have twitter handle thus taster_name will be used as user identifier\n",
    "sum(is.na(wine_clean$taster_name))"
   ]
  },
  {
   "cell_type": "code",
   "execution_count": 22,
   "metadata": {},
   "outputs": [
    {
     "data": {
      "text/html": [
       "0"
      ],
      "text/latex": [
       "0"
      ],
      "text/markdown": [
       "0"
      ],
      "text/plain": [
       "[1] 0"
      ]
     },
     "metadata": {},
     "output_type": "display_data"
    }
   ],
   "source": [
    "#check missing product title after clean up\n",
    "sum(is.null(wine_clean$title))"
   ]
  },
  {
   "cell_type": "code",
   "execution_count": 23,
   "metadata": {},
   "outputs": [
    {
     "data": {
      "text/html": [
       "0"
      ],
      "text/latex": [
       "0"
      ],
      "text/markdown": [
       "0"
      ],
      "text/plain": [
       "[1] 0"
      ]
     },
     "metadata": {},
     "output_type": "display_data"
    }
   ],
   "source": [
    "#check missing rating\n",
    "sum(is.na(wine_clean$points))"
   ]
  },
  {
   "cell_type": "code",
   "execution_count": 24,
   "metadata": {},
   "outputs": [
    {
     "data": {
      "text/html": [
       "0"
      ],
      "text/latex": [
       "0"
      ],
      "text/markdown": [
       "0"
      ],
      "text/plain": [
       "[1] 0"
      ]
     },
     "metadata": {},
     "output_type": "display_data"
    }
   ],
   "source": [
    "# check missing price\n",
    "sum(is.na(wine_clean$price))"
   ]
  },
  {
   "cell_type": "code",
   "execution_count": 25,
   "metadata": {},
   "outputs": [
    {
     "data": {
      "text/html": [
       "0"
      ],
      "text/latex": [
       "0"
      ],
      "text/markdown": [
       "0"
      ],
      "text/plain": [
       "[1] 0"
      ]
     },
     "metadata": {},
     "output_type": "display_data"
    }
   ],
   "source": [
    "# check for missing designation\n",
    "sum(!complete.cases(wine_clean$designation))"
   ]
  },
  {
   "cell_type": "code",
   "execution_count": 26,
   "metadata": {},
   "outputs": [],
   "source": [
    "#convert data type\n",
    "wine_clean <- wine_clean %>%\n",
    "    #convert taster_twitter_handle and taster_name to factor\n",
    "    mutate(taster_twitter_handle = as.factor(taster_twitter_handle)) %>%\n",
    "    mutate(taster_name = as.factor(taster_name)) %>%\n",
    "    #convert variety and winery to factor\n",
    "    mutate(variety = as.factor(variety)) %>%\n",
    "    mutate(winery = as.factor(winery)) %>%\n",
    "    #convert country as factor\n",
    "    mutate(country = as.factor(country))"
   ]
  },
  {
   "cell_type": "code",
   "execution_count": 27,
   "metadata": {},
   "outputs": [
    {
     "data": {
      "text/html": [
       "<table>\n",
       "<caption>A data.frame: 6 × 13</caption>\n",
       "<thead>\n",
       "\t<tr><th scope=col>country</th><th scope=col>description</th><th scope=col>designation</th><th scope=col>points</th><th scope=col>price</th><th scope=col>province</th><th scope=col>region_1</th><th scope=col>region_2</th><th scope=col>taster_name</th><th scope=col>taster_twitter_handle</th><th scope=col>title</th><th scope=col>variety</th><th scope=col>winery</th></tr>\n",
       "\t<tr><th scope=col>&lt;fct&gt;</th><th scope=col>&lt;chr&gt;</th><th scope=col>&lt;chr&gt;</th><th scope=col>&lt;int&gt;</th><th scope=col>&lt;dbl&gt;</th><th scope=col>&lt;chr&gt;</th><th scope=col>&lt;chr&gt;</th><th scope=col>&lt;chr&gt;</th><th scope=col>&lt;fct&gt;</th><th scope=col>&lt;fct&gt;</th><th scope=col>&lt;chr&gt;</th><th scope=col>&lt;fct&gt;</th><th scope=col>&lt;fct&gt;</th></tr>\n",
       "</thead>\n",
       "<tbody>\n",
       "\t<tr><td>France</td><td>This has great depth of flavor with its fresh apple and pear fruits and touch of spice. It's off dry while balanced with acidity and a crisp texture. Drink now.                            </td><td>Les Natures       </td><td>87</td><td>27</td><td>Alsace    </td><td>Alsace        </td><td>NA</td><td>Roger Voss</td><td>@vossroger</td><td>Jean-Baptiste Adam 2012 Les Natures Pinot Gris (Alsace)    </td><td>Pinot Gris                </td><td>Jean-Baptiste Adam  </td></tr>\n",
       "\t<tr><td>France</td><td>This is a festive wine, with soft, ripe fruit and acidity, plus a red berry flavor.                                                                                                         </td><td>Nouveau           </td><td>86</td><td> 9</td><td>Beaujolais</td><td>Beaujolais    </td><td>NA</td><td>Roger Voss</td><td>@vossroger</td><td>Henry Fessy 2012 Nouveau  (Beaujolais)                     </td><td>Gamay                     </td><td>Henry Fessy         </td></tr>\n",
       "\t<tr><td>France</td><td>Soft and fruity, this is a generous, ripe wine that's full of juicy red-cherry fruits and gentle tannins. It has some richness, giving a sweet character to this open, ready-to-drink wine. </td><td>EtÃ© Indien       </td><td>86</td><td>14</td><td>Beaujolais</td><td>Brouilly      </td><td>NA</td><td>Roger Voss</td><td>@vossroger</td><td>Vignerons de Bel Air 2011 EtÃ© Indien  (Brouilly)          </td><td>Gamay                     </td><td>Vignerons de Bel Air</td></tr>\n",
       "\t<tr><td>France</td><td>Fruity and lightly herbaceous, this has fine textured acidity along with a pink grapefruit flavor. The wine is bright and easy, and it will be ready to drink in a few months.              </td><td>La Fleur d'AmÃ©lie</td><td>85</td><td>15</td><td>Bordeaux  </td><td>Bordeaux Blanc</td><td>NA</td><td>Roger Voss</td><td>@vossroger</td><td>ChÃ¢teau de Sours 2011 La Fleur d'AmÃ©lie  (Bordeaux Blanc)</td><td>Bordeaux-style White Blend</td><td>ChÃ¢teau de Sours   </td></tr>\n",
       "\t<tr><td>France</td><td>This fat, yeasty Champagne is comprised predominantly of Pinot Noir. It has ripe red berry fruit, light acidity and a soft, creamy aftertaste. It's ready to drink.                         </td><td>Brut RosÃ©        </td><td>86</td><td>58</td><td>Champagne </td><td>Champagne     </td><td>NA</td><td>Roger Voss</td><td>@vossroger</td><td>Roland Champion NV Brut RosÃ©  (Champagne)                 </td><td>Champagne Blend           </td><td>Roland Champion     </td></tr>\n",
       "\t<tr><td>France</td><td>This cooperative, based in AÃ¿, has benefited from the fine Pinot Noir in the village to produce a ripe red fruited wine. With balanced acidity and a soft aftertaste, it is ready to drink.</td><td>Brut RosÃ©        </td><td>86</td><td>55</td><td>Champagne </td><td>Champagne     </td><td>NA</td><td>Roger Voss</td><td>@vossroger</td><td>Collet NV Brut RosÃ©  (Champagne)                          </td><td>Champagne Blend           </td><td>Collet              </td></tr>\n",
       "</tbody>\n",
       "</table>\n"
      ],
      "text/latex": [
       "A data.frame: 6 × 13\n",
       "\\begin{tabular}{r|lllllllllllll}\n",
       " country & description & designation & points & price & province & region\\_1 & region\\_2 & taster\\_name & taster\\_twitter\\_handle & title & variety & winery\\\\\n",
       " <fct> & <chr> & <chr> & <int> & <dbl> & <chr> & <chr> & <chr> & <fct> & <fct> & <chr> & <fct> & <fct>\\\\\n",
       "\\hline\n",
       "\t France & This has great depth of flavor with its fresh apple and pear fruits and touch of spice. It's off dry while balanced with acidity and a crisp texture. Drink now.                             & Les Natures        & 87 & 27 & Alsace     & Alsace         & NA & Roger Voss & @vossroger & Jean-Baptiste Adam 2012 Les Natures Pinot Gris (Alsace)     & Pinot Gris                 & Jean-Baptiste Adam  \\\\\n",
       "\t France & This is a festive wine, with soft, ripe fruit and acidity, plus a red berry flavor.                                                                                                          & Nouveau            & 86 &  9 & Beaujolais & Beaujolais     & NA & Roger Voss & @vossroger & Henry Fessy 2012 Nouveau  (Beaujolais)                      & Gamay                      & Henry Fessy         \\\\\n",
       "\t France & Soft and fruity, this is a generous, ripe wine that's full of juicy red-cherry fruits and gentle tannins. It has some richness, giving a sweet character to this open, ready-to-drink wine.  & EtÃ© Indien        & 86 & 14 & Beaujolais & Brouilly       & NA & Roger Voss & @vossroger & Vignerons de Bel Air 2011 EtÃ© Indien  (Brouilly)           & Gamay                      & Vignerons de Bel Air\\\\\n",
       "\t France & Fruity and lightly herbaceous, this has fine textured acidity along with a pink grapefruit flavor. The wine is bright and easy, and it will be ready to drink in a few months.               & La Fleur d'AmÃ©lie & 85 & 15 & Bordeaux   & Bordeaux Blanc & NA & Roger Voss & @vossroger & ChÃ¢teau de Sours 2011 La Fleur d'AmÃ©lie  (Bordeaux Blanc) & Bordeaux-style White Blend & ChÃ¢teau de Sours   \\\\\n",
       "\t France & This fat, yeasty Champagne is comprised predominantly of Pinot Noir. It has ripe red berry fruit, light acidity and a soft, creamy aftertaste. It's ready to drink.                          & Brut RosÃ©         & 86 & 58 & Champagne  & Champagne      & NA & Roger Voss & @vossroger & Roland Champion NV Brut RosÃ©  (Champagne)                  & Champagne Blend            & Roland Champion     \\\\\n",
       "\t France & This cooperative, based in AÃ¿, has benefited from the fine Pinot Noir in the village to produce a ripe red fruited wine. With balanced acidity and a soft aftertaste, it is ready to drink. & Brut RosÃ©         & 86 & 55 & Champagne  & Champagne      & NA & Roger Voss & @vossroger & Collet NV Brut RosÃ©  (Champagne)                           & Champagne Blend            & Collet              \\\\\n",
       "\\end{tabular}\n"
      ],
      "text/markdown": [
       "\n",
       "A data.frame: 6 × 13\n",
       "\n",
       "| country &lt;fct&gt; | description &lt;chr&gt; | designation &lt;chr&gt; | points &lt;int&gt; | price &lt;dbl&gt; | province &lt;chr&gt; | region_1 &lt;chr&gt; | region_2 &lt;chr&gt; | taster_name &lt;fct&gt; | taster_twitter_handle &lt;fct&gt; | title &lt;chr&gt; | variety &lt;fct&gt; | winery &lt;fct&gt; |\n",
       "|---|---|---|---|---|---|---|---|---|---|---|---|---|\n",
       "| France | This has great depth of flavor with its fresh apple and pear fruits and touch of spice. It's off dry while balanced with acidity and a crisp texture. Drink now.                             | Les Natures        | 87 | 27 | Alsace     | Alsace         | NA | Roger Voss | @vossroger | Jean-Baptiste Adam 2012 Les Natures Pinot Gris (Alsace)     | Pinot Gris                 | Jean-Baptiste Adam   |\n",
       "| France | This is a festive wine, with soft, ripe fruit and acidity, plus a red berry flavor.                                                                                                          | Nouveau            | 86 |  9 | Beaujolais | Beaujolais     | NA | Roger Voss | @vossroger | Henry Fessy 2012 Nouveau  (Beaujolais)                      | Gamay                      | Henry Fessy          |\n",
       "| France | Soft and fruity, this is a generous, ripe wine that's full of juicy red-cherry fruits and gentle tannins. It has some richness, giving a sweet character to this open, ready-to-drink wine.  | EtÃ© Indien        | 86 | 14 | Beaujolais | Brouilly       | NA | Roger Voss | @vossroger | Vignerons de Bel Air 2011 EtÃ© Indien  (Brouilly)           | Gamay                      | Vignerons de Bel Air |\n",
       "| France | Fruity and lightly herbaceous, this has fine textured acidity along with a pink grapefruit flavor. The wine is bright and easy, and it will be ready to drink in a few months.               | La Fleur d'AmÃ©lie | 85 | 15 | Bordeaux   | Bordeaux Blanc | NA | Roger Voss | @vossroger | ChÃ¢teau de Sours 2011 La Fleur d'AmÃ©lie  (Bordeaux Blanc) | Bordeaux-style White Blend | ChÃ¢teau de Sours    |\n",
       "| France | This fat, yeasty Champagne is comprised predominantly of Pinot Noir. It has ripe red berry fruit, light acidity and a soft, creamy aftertaste. It's ready to drink.                          | Brut RosÃ©         | 86 | 58 | Champagne  | Champagne      | NA | Roger Voss | @vossroger | Roland Champion NV Brut RosÃ©  (Champagne)                  | Champagne Blend            | Roland Champion      |\n",
       "| France | This cooperative, based in AÃ¿, has benefited from the fine Pinot Noir in the village to produce a ripe red fruited wine. With balanced acidity and a soft aftertaste, it is ready to drink. | Brut RosÃ©         | 86 | 55 | Champagne  | Champagne      | NA | Roger Voss | @vossroger | Collet NV Brut RosÃ©  (Champagne)                           | Champagne Blend            | Collet               |\n",
       "\n"
      ],
      "text/plain": [
       "  country\n",
       "1 France \n",
       "2 France \n",
       "3 France \n",
       "4 France \n",
       "5 France \n",
       "6 France \n",
       "  description                                                                                                                                                                                 \n",
       "1 This has great depth of flavor with its fresh apple and pear fruits and touch of spice. It's off dry while balanced with acidity and a crisp texture. Drink now.                            \n",
       "2 This is a festive wine, with soft, ripe fruit and acidity, plus a red berry flavor.                                                                                                         \n",
       "3 Soft and fruity, this is a generous, ripe wine that's full of juicy red-cherry fruits and gentle tannins. It has some richness, giving a sweet character to this open, ready-to-drink wine. \n",
       "4 Fruity and lightly herbaceous, this has fine textured acidity along with a pink grapefruit flavor. The wine is bright and easy, and it will be ready to drink in a few months.              \n",
       "5 This fat, yeasty Champagne is comprised predominantly of Pinot Noir. It has ripe red berry fruit, light acidity and a soft, creamy aftertaste. It's ready to drink.                         \n",
       "6 This cooperative, based in AÃ¿, has benefited from the fine Pinot Noir in the village to produce a ripe red fruited wine. With balanced acidity and a soft aftertaste, it is ready to drink.\n",
       "  designation        points price province   region_1       region_2\n",
       "1 Les Natures        87     27    Alsace     Alsace         NA      \n",
       "2 Nouveau            86      9    Beaujolais Beaujolais     NA      \n",
       "3 EtÃ© Indien        86     14    Beaujolais Brouilly       NA      \n",
       "4 La Fleur d'AmÃ©lie 85     15    Bordeaux   Bordeaux Blanc NA      \n",
       "5 Brut RosÃ©         86     58    Champagne  Champagne      NA      \n",
       "6 Brut RosÃ©         86     55    Champagne  Champagne      NA      \n",
       "  taster_name taster_twitter_handle\n",
       "1 Roger Voss  @vossroger           \n",
       "2 Roger Voss  @vossroger           \n",
       "3 Roger Voss  @vossroger           \n",
       "4 Roger Voss  @vossroger           \n",
       "5 Roger Voss  @vossroger           \n",
       "6 Roger Voss  @vossroger           \n",
       "  title                                                      \n",
       "1 Jean-Baptiste Adam 2012 Les Natures Pinot Gris (Alsace)    \n",
       "2 Henry Fessy 2012 Nouveau  (Beaujolais)                     \n",
       "3 Vignerons de Bel Air 2011 EtÃ© Indien  (Brouilly)          \n",
       "4 ChÃ¢teau de Sours 2011 La Fleur d'AmÃ©lie  (Bordeaux Blanc)\n",
       "5 Roland Champion NV Brut RosÃ©  (Champagne)                 \n",
       "6 Collet NV Brut RosÃ©  (Champagne)                          \n",
       "  variety                    winery              \n",
       "1 Pinot Gris                 Jean-Baptiste Adam  \n",
       "2 Gamay                      Henry Fessy         \n",
       "3 Gamay                      Vignerons de Bel Air\n",
       "4 Bordeaux-style White Blend ChÃ¢teau de Sours   \n",
       "5 Champagne Blend            Roland Champion     \n",
       "6 Champagne Blend            Collet              "
      ]
     },
     "metadata": {},
     "output_type": "display_data"
    }
   ],
   "source": [
    "head(wine_clean)"
   ]
  },
  {
   "cell_type": "markdown",
   "metadata": {},
   "source": [
    "'title' is product name, 'points' = the reviewer's rating, 'taster_name' as user identifier, 'variety' as wine group"
   ]
  },
  {
   "cell_type": "code",
   "execution_count": 28,
   "metadata": {},
   "outputs": [],
   "source": [
    "# assign tasterID and wineID as unique identifier\n",
    "wine_clean <- wine_clean %>%\n",
    "    mutate(tasterID = group_indices(.,taster_name), wineID = group_indices(.,title))"
   ]
  },
  {
   "cell_type": "markdown",
   "metadata": {},
   "source": [
    "**Count of reviews each taster**"
   ]
  },
  {
   "cell_type": "code",
   "execution_count": 29,
   "metadata": {},
   "outputs": [
    {
     "data": {
      "text/html": [
       "<table>\n",
       "<caption>A tibble: 6 × 2</caption>\n",
       "<thead>\n",
       "\t<tr><th scope=col>taster_name</th><th scope=col>count</th></tr>\n",
       "\t<tr><th scope=col>&lt;fct&gt;</th><th scope=col>&lt;int&gt;</th></tr>\n",
       "</thead>\n",
       "<tbody>\n",
       "\t<tr><td>Roger Voss       </td><td>8453</td></tr>\n",
       "\t<tr><td>Anne KrebiehlÂ MW</td><td>1051</td></tr>\n",
       "\t<tr><td>Joe Czerwinski   </td><td> 720</td></tr>\n",
       "\t<tr><td>Lauren Buzzeo    </td><td> 381</td></tr>\n",
       "\t<tr><td>Paul Gregutt     </td><td>  31</td></tr>\n",
       "\t<tr><td>Michael Schachner</td><td>  16</td></tr>\n",
       "</tbody>\n",
       "</table>\n"
      ],
      "text/latex": [
       "A tibble: 6 × 2\n",
       "\\begin{tabular}{r|ll}\n",
       " taster\\_name & count\\\\\n",
       " <fct> & <int>\\\\\n",
       "\\hline\n",
       "\t Roger Voss        & 8453\\\\\n",
       "\t Anne KrebiehlÂ MW & 1051\\\\\n",
       "\t Joe Czerwinski    &  720\\\\\n",
       "\t Lauren Buzzeo     &  381\\\\\n",
       "\t Paul Gregutt      &   31\\\\\n",
       "\t Michael Schachner &   16\\\\\n",
       "\\end{tabular}\n"
      ],
      "text/markdown": [
       "\n",
       "A tibble: 6 × 2\n",
       "\n",
       "| taster_name &lt;fct&gt; | count &lt;int&gt; |\n",
       "|---|---|\n",
       "| Roger Voss        | 8453 |\n",
       "| Anne KrebiehlÂ MW | 1051 |\n",
       "| Joe Czerwinski    |  720 |\n",
       "| Lauren Buzzeo     |  381 |\n",
       "| Paul Gregutt      |   31 |\n",
       "| Michael Schachner |   16 |\n",
       "\n"
      ],
      "text/plain": [
       "  taster_name       count\n",
       "1 Roger Voss        8453 \n",
       "2 Anne KrebiehlÂ MW 1051 \n",
       "3 Joe Czerwinski     720 \n",
       "4 Lauren Buzzeo      381 \n",
       "5 Paul Gregutt        31 \n",
       "6 Michael Schachner   16 "
      ]
     },
     "metadata": {},
     "output_type": "display_data"
    }
   ],
   "source": [
    "wine_clean %>%\n",
    "    group_by(taster_name) %>%\n",
    "    summarize(count = n()) %>%\n",
    "    arrange(-count)"
   ]
  },
  {
   "cell_type": "markdown",
   "metadata": {},
   "source": [
    "**Review Count for each Variety**"
   ]
  },
  {
   "cell_type": "code",
   "execution_count": 30,
   "metadata": {},
   "outputs": [
    {
     "data": {
      "image/png": "[encoded data removed]",
      "text/plain": [
       "plot without title"
      ]
     },
     "metadata": {},
     "output_type": "display_data"
    }
   ],
   "source": [
    "wine_clean %>%\n",
    "    group_by(variety) %>%\n",
    "    summarize(rev_count = n()) %>%\n",
    "    arrange(-rev_count) %>%\n",
    "    head(15) %>%\n",
    "    ggplot(aes(x = reorder(as.factor(variety),rev_count), y = rev_count)) + geom_bar(stat = 'identity') + coord_flip() +\n",
    "    labs(x = 'Wine Variety', \n",
    "         y = 'Review Count', \n",
    "         title = \"Review Count for top 15 Wine variety\")"
   ]
  },
  {
   "cell_type": "code",
   "execution_count": 31,
   "metadata": {},
   "outputs": [],
   "source": [
    "# get mean point for each product\n",
    "mean_score <- ungroup(wine_clean) %>%\n",
    "    group_by(title) %>%\n",
    "    summarize(mean_points = mean(points)) %>%\n",
    "    arrange(desc(mean_points))"
   ]
  },
  {
   "cell_type": "code",
   "execution_count": 32,
   "metadata": {},
   "outputs": [
    {
     "data": {
      "image/png": "[encoded data removed]",
      "text/plain": [
       "plot without title"
      ]
     },
     "metadata": {},
     "output_type": "display_data"
    }
   ],
   "source": [
    "ggplot(mean_score, aes(mean_points)) + geom_histogram(binwidth = 1, alpha = 0.5, position = 'identity') +\n",
    "labs(title = 'Distribution of Mean Points')"
   ]
  },
  {
   "cell_type": "code",
   "execution_count": 33,
   "metadata": {},
   "outputs": [
    {
     "data": {
      "text/html": [
       "<table>\n",
       "<caption>A tibble: 122 × 4</caption>\n",
       "<thead>\n",
       "\t<tr><th scope=col>variety</th><th scope=col>mean_points</th><th scope=col>median_points</th><th scope=col>max_points</th></tr>\n",
       "\t<tr><th scope=col>&lt;fct&gt;</th><th scope=col>&lt;dbl&gt;</th><th scope=col>&lt;dbl&gt;</th><th scope=col>&lt;int&gt;</th></tr>\n",
       "</thead>\n",
       "<tbody>\n",
       "\t<tr><td>Abouriou                         </td><td>87.00000</td><td>87.0</td><td> 87</td></tr>\n",
       "\t<tr><td>AligotÃ©                         </td><td>86.30000</td><td>86.5</td><td> 88</td></tr>\n",
       "\t<tr><td>Alsace white blend               </td><td>90.60976</td><td>92.0</td><td> 96</td></tr>\n",
       "\t<tr><td>Altesse                          </td><td>87.50000</td><td>87.5</td><td> 88</td></tr>\n",
       "\t<tr><td>Auxerrois                        </td><td>88.75000</td><td>89.0</td><td> 90</td></tr>\n",
       "\t<tr><td>Bordeaux-style Red Blend         </td><td>87.72919</td><td>88.0</td><td> 95</td></tr>\n",
       "\t<tr><td>Bordeaux-style White Blend       </td><td>87.61957</td><td>88.0</td><td> 96</td></tr>\n",
       "\t<tr><td>Braucol                          </td><td>91.00000</td><td>91.0</td><td> 92</td></tr>\n",
       "\t<tr><td>Cabernet                         </td><td>85.00000</td><td>85.0</td><td> 85</td></tr>\n",
       "\t<tr><td>Cabernet-Syrah                   </td><td>88.66667</td><td>89.0</td><td> 90</td></tr>\n",
       "\t<tr><td>Cabernet Blend                   </td><td>84.00000</td><td>84.0</td><td> 84</td></tr>\n",
       "\t<tr><td>Cabernet Franc                   </td><td>88.58716</td><td>89.0</td><td> 94</td></tr>\n",
       "\t<tr><td>Cabernet Franc-Cabernet Sauvignon</td><td>89.42857</td><td>88.0</td><td> 92</td></tr>\n",
       "\t<tr><td>Cabernet Sauvignon               </td><td>86.14286</td><td>85.0</td><td> 94</td></tr>\n",
       "\t<tr><td>Cabernet Sauvignon-Syrah         </td><td>88.00000</td><td>88.0</td><td> 88</td></tr>\n",
       "\t<tr><td>Carcajolu                        </td><td>88.00000</td><td>88.0</td><td> 88</td></tr>\n",
       "\t<tr><td>Carignan                         </td><td>88.00000</td><td>88.5</td><td> 89</td></tr>\n",
       "\t<tr><td>Carignan-Syrah                   </td><td>90.50000</td><td>90.5</td><td> 92</td></tr>\n",
       "\t<tr><td>Champagne Blend                  </td><td>90.10289</td><td>90.0</td><td>100</td></tr>\n",
       "\t<tr><td>Chardonnay                       </td><td>89.92760</td><td>90.0</td><td>100</td></tr>\n",
       "\t<tr><td>Chardonnay-Pinot Gris            </td><td>85.00000</td><td>85.0</td><td> 85</td></tr>\n",
       "\t<tr><td>Chardonnay-Sauvignon             </td><td>87.00000</td><td>87.0</td><td> 87</td></tr>\n",
       "\t<tr><td>Chardonnay-Sauvignon Blanc       </td><td>88.00000</td><td>88.0</td><td> 88</td></tr>\n",
       "\t<tr><td>Chardonnay-Viognier              </td><td>86.75000</td><td>86.5</td><td> 88</td></tr>\n",
       "\t<tr><td>Chasselas                        </td><td>88.60000</td><td>89.0</td><td> 90</td></tr>\n",
       "\t<tr><td>Chenin Blanc                     </td><td>89.09836</td><td>89.0</td><td> 99</td></tr>\n",
       "\t<tr><td>Chenin Blanc-Chardonnay          </td><td>88.76471</td><td>89.0</td><td> 92</td></tr>\n",
       "\t<tr><td>Cinsault                         </td><td>86.00000</td><td>86.0</td><td> 87</td></tr>\n",
       "\t<tr><td>Colombard                        </td><td>85.00000</td><td>85.0</td><td> 86</td></tr>\n",
       "\t<tr><td>Colombard-Sauvignon Blanc        </td><td>85.50000</td><td>85.5</td><td> 87</td></tr>\n",
       "\t<tr><td>...</td><td>...</td><td>...</td><td>...</td></tr>\n",
       "\t<tr><td>Romorantin           </td><td>90.66667</td><td>91.0</td><td>91</td></tr>\n",
       "\t<tr><td>RosÃ©                </td><td>87.37268</td><td>87.0</td><td>94</td></tr>\n",
       "\t<tr><td>Roussanne            </td><td>89.33333</td><td>89.5</td><td>92</td></tr>\n",
       "\t<tr><td>Roussanne-Marsanne   </td><td>91.00000</td><td>91.0</td><td>91</td></tr>\n",
       "\t<tr><td>SÃ©millon            </td><td>89.50000</td><td>89.5</td><td>90</td></tr>\n",
       "\t<tr><td>Sacy                 </td><td>87.00000</td><td>87.0</td><td>87</td></tr>\n",
       "\t<tr><td>Sauvignon            </td><td>91.00000</td><td>91.0</td><td>92</td></tr>\n",
       "\t<tr><td>Sauvignon Blanc      </td><td>88.89643</td><td>89.0</td><td>95</td></tr>\n",
       "\t<tr><td>Savagnin             </td><td>90.54545</td><td>90.0</td><td>94</td></tr>\n",
       "\t<tr><td>Sciaccerellu         </td><td>89.00000</td><td>89.0</td><td>90</td></tr>\n",
       "\t<tr><td>Sparkling Blend      </td><td>87.79927</td><td>88.0</td><td>93</td></tr>\n",
       "\t<tr><td>Sylvaner             </td><td>89.04545</td><td>90.0</td><td>93</td></tr>\n",
       "\t<tr><td>Syrah                </td><td>90.44118</td><td>91.0</td><td>95</td></tr>\n",
       "\t<tr><td>Syrah-Cabernet       </td><td>86.00000</td><td>86.0</td><td>86</td></tr>\n",
       "\t<tr><td>Syrah-Grenache       </td><td>88.78571</td><td>89.0</td><td>92</td></tr>\n",
       "\t<tr><td>Syrah-Merlot         </td><td>86.00000</td><td>86.0</td><td>86</td></tr>\n",
       "\t<tr><td>Syrah-MourvÃ¨dre     </td><td>91.00000</td><td>91.0</td><td>91</td></tr>\n",
       "\t<tr><td>Syrah-Viognier       </td><td>89.00000</td><td>90.0</td><td>91</td></tr>\n",
       "\t<tr><td>Tannat               </td><td>91.50000</td><td>91.5</td><td>96</td></tr>\n",
       "\t<tr><td>Tannat-Cabernet      </td><td>90.61111</td><td>91.0</td><td>94</td></tr>\n",
       "\t<tr><td>Tannat-Cabernet Franc</td><td>91.10000</td><td>91.0</td><td>94</td></tr>\n",
       "\t<tr><td>Tannat-Merlot        </td><td>88.33333</td><td>87.0</td><td>93</td></tr>\n",
       "\t<tr><td>Tannat-Syrah         </td><td>86.66667</td><td>86.0</td><td>88</td></tr>\n",
       "\t<tr><td>Tokay Pinot Gris     </td><td>89.00000</td><td>89.0</td><td>89</td></tr>\n",
       "\t<tr><td>Trousseau            </td><td>88.00000</td><td>87.0</td><td>91</td></tr>\n",
       "\t<tr><td>Ugni Blanc-Colombard </td><td>85.87500</td><td>86.0</td><td>87</td></tr>\n",
       "\t<tr><td>Vermentino           </td><td>87.87500</td><td>89.0</td><td>91</td></tr>\n",
       "\t<tr><td>Viognier             </td><td>89.21053</td><td>90.0</td><td>95</td></tr>\n",
       "\t<tr><td>Viognier-Chardonnay  </td><td>88.00000</td><td>88.0</td><td>88</td></tr>\n",
       "\t<tr><td>White Blend          </td><td>87.32051</td><td>87.0</td><td>94</td></tr>\n",
       "</tbody>\n",
       "</table>\n"
      ],
      "text/latex": [
       "A tibble: 122 × 4\n",
       "\\begin{tabular}{r|llll}\n",
       " variety & mean\\_points & median\\_points & max\\_points\\\\\n",
       " <fct> & <dbl> & <dbl> & <int>\\\\\n",
       "\\hline\n",
       "\t Abouriou                          & 87.00000 & 87.0 &  87\\\\\n",
       "\t AligotÃ©                          & 86.30000 & 86.5 &  88\\\\\n",
       "\t Alsace white blend                & 90.60976 & 92.0 &  96\\\\\n",
       "\t Altesse                           & 87.50000 & 87.5 &  88\\\\\n",
       "\t Auxerrois                         & 88.75000 & 89.0 &  90\\\\\n",
       "\t Bordeaux-style Red Blend          & 87.72919 & 88.0 &  95\\\\\n",
       "\t Bordeaux-style White Blend        & 87.61957 & 88.0 &  96\\\\\n",
       "\t Braucol                           & 91.00000 & 91.0 &  92\\\\\n",
       "\t Cabernet                          & 85.00000 & 85.0 &  85\\\\\n",
       "\t Cabernet-Syrah                    & 88.66667 & 89.0 &  90\\\\\n",
       "\t Cabernet Blend                    & 84.00000 & 84.0 &  84\\\\\n",
       "\t Cabernet Franc                    & 88.58716 & 89.0 &  94\\\\\n",
       "\t Cabernet Franc-Cabernet Sauvignon & 89.42857 & 88.0 &  92\\\\\n",
       "\t Cabernet Sauvignon                & 86.14286 & 85.0 &  94\\\\\n",
       "\t Cabernet Sauvignon-Syrah          & 88.00000 & 88.0 &  88\\\\\n",
       "\t Carcajolu                         & 88.00000 & 88.0 &  88\\\\\n",
       "\t Carignan                          & 88.00000 & 88.5 &  89\\\\\n",
       "\t Carignan-Syrah                    & 90.50000 & 90.5 &  92\\\\\n",
       "\t Champagne Blend                   & 90.10289 & 90.0 & 100\\\\\n",
       "\t Chardonnay                        & 89.92760 & 90.0 & 100\\\\\n",
       "\t Chardonnay-Pinot Gris             & 85.00000 & 85.0 &  85\\\\\n",
       "\t Chardonnay-Sauvignon              & 87.00000 & 87.0 &  87\\\\\n",
       "\t Chardonnay-Sauvignon Blanc        & 88.00000 & 88.0 &  88\\\\\n",
       "\t Chardonnay-Viognier               & 86.75000 & 86.5 &  88\\\\\n",
       "\t Chasselas                         & 88.60000 & 89.0 &  90\\\\\n",
       "\t Chenin Blanc                      & 89.09836 & 89.0 &  99\\\\\n",
       "\t Chenin Blanc-Chardonnay           & 88.76471 & 89.0 &  92\\\\\n",
       "\t Cinsault                          & 86.00000 & 86.0 &  87\\\\\n",
       "\t Colombard                         & 85.00000 & 85.0 &  86\\\\\n",
       "\t Colombard-Sauvignon Blanc         & 85.50000 & 85.5 &  87\\\\\n",
       "\t ... & ... & ... & ...\\\\\n",
       "\t Romorantin            & 90.66667 & 91.0 & 91\\\\\n",
       "\t RosÃ©                 & 87.37268 & 87.0 & 94\\\\\n",
       "\t Roussanne             & 89.33333 & 89.5 & 92\\\\\n",
       "\t Roussanne-Marsanne    & 91.00000 & 91.0 & 91\\\\\n",
       "\t SÃ©millon             & 89.50000 & 89.5 & 90\\\\\n",
       "\t Sacy                  & 87.00000 & 87.0 & 87\\\\\n",
       "\t Sauvignon             & 91.00000 & 91.0 & 92\\\\\n",
       "\t Sauvignon Blanc       & 88.89643 & 89.0 & 95\\\\\n",
       "\t Savagnin              & 90.54545 & 90.0 & 94\\\\\n",
       "\t Sciaccerellu          & 89.00000 & 89.0 & 90\\\\\n",
       "\t Sparkling Blend       & 87.79927 & 88.0 & 93\\\\\n",
       "\t Sylvaner              & 89.04545 & 90.0 & 93\\\\\n",
       "\t Syrah                 & 90.44118 & 91.0 & 95\\\\\n",
       "\t Syrah-Cabernet        & 86.00000 & 86.0 & 86\\\\\n",
       "\t Syrah-Grenache        & 88.78571 & 89.0 & 92\\\\\n",
       "\t Syrah-Merlot          & 86.00000 & 86.0 & 86\\\\\n",
       "\t Syrah-MourvÃ¨dre      & 91.00000 & 91.0 & 91\\\\\n",
       "\t Syrah-Viognier        & 89.00000 & 90.0 & 91\\\\\n",
       "\t Tannat                & 91.50000 & 91.5 & 96\\\\\n",
       "\t Tannat-Cabernet       & 90.61111 & 91.0 & 94\\\\\n",
       "\t Tannat-Cabernet Franc & 91.10000 & 91.0 & 94\\\\\n",
       "\t Tannat-Merlot         & 88.33333 & 87.0 & 93\\\\\n",
       "\t Tannat-Syrah          & 86.66667 & 86.0 & 88\\\\\n",
       "\t Tokay Pinot Gris      & 89.00000 & 89.0 & 89\\\\\n",
       "\t Trousseau             & 88.00000 & 87.0 & 91\\\\\n",
       "\t Ugni Blanc-Colombard  & 85.87500 & 86.0 & 87\\\\\n",
       "\t Vermentino            & 87.87500 & 89.0 & 91\\\\\n",
       "\t Viognier              & 89.21053 & 90.0 & 95\\\\\n",
       "\t Viognier-Chardonnay   & 88.00000 & 88.0 & 88\\\\\n",
       "\t White Blend           & 87.32051 & 87.0 & 94\\\\\n",
       "\\end{tabular}\n"
      ],
      "text/markdown": [
       "\n",
       "A tibble: 122 × 4\n",
       "\n",
       "| variety &lt;fct&gt; | mean_points &lt;dbl&gt; | median_points &lt;dbl&gt; | max_points &lt;int&gt; |\n",
       "|---|---|---|---|\n",
       "| Abouriou                          | 87.00000 | 87.0 |  87 |\n",
       "| AligotÃ©                          | 86.30000 | 86.5 |  88 |\n",
       "| Alsace white blend                | 90.60976 | 92.0 |  96 |\n",
       "| Altesse                           | 87.50000 | 87.5 |  88 |\n",
       "| Auxerrois                         | 88.75000 | 89.0 |  90 |\n",
       "| Bordeaux-style Red Blend          | 87.72919 | 88.0 |  95 |\n",
       "| Bordeaux-style White Blend        | 87.61957 | 88.0 |  96 |\n",
       "| Braucol                           | 91.00000 | 91.0 |  92 |\n",
       "| Cabernet                          | 85.00000 | 85.0 |  85 |\n",
       "| Cabernet-Syrah                    | 88.66667 | 89.0 |  90 |\n",
       "| Cabernet Blend                    | 84.00000 | 84.0 |  84 |\n",
       "| Cabernet Franc                    | 88.58716 | 89.0 |  94 |\n",
       "| Cabernet Franc-Cabernet Sauvignon | 89.42857 | 88.0 |  92 |\n",
       "| Cabernet Sauvignon                | 86.14286 | 85.0 |  94 |\n",
       "| Cabernet Sauvignon-Syrah          | 88.00000 | 88.0 |  88 |\n",
       "| Carcajolu                         | 88.00000 | 88.0 |  88 |\n",
       "| Carignan                          | 88.00000 | 88.5 |  89 |\n",
       "| Carignan-Syrah                    | 90.50000 | 90.5 |  92 |\n",
       "| Champagne Blend                   | 90.10289 | 90.0 | 100 |\n",
       "| Chardonnay                        | 89.92760 | 90.0 | 100 |\n",
       "| Chardonnay-Pinot Gris             | 85.00000 | 85.0 |  85 |\n",
       "| Chardonnay-Sauvignon              | 87.00000 | 87.0 |  87 |\n",
       "| Chardonnay-Sauvignon Blanc        | 88.00000 | 88.0 |  88 |\n",
       "| Chardonnay-Viognier               | 86.75000 | 86.5 |  88 |\n",
       "| Chasselas                         | 88.60000 | 89.0 |  90 |\n",
       "| Chenin Blanc                      | 89.09836 | 89.0 |  99 |\n",
       "| Chenin Blanc-Chardonnay           | 88.76471 | 89.0 |  92 |\n",
       "| Cinsault                          | 86.00000 | 86.0 |  87 |\n",
       "| Colombard                         | 85.00000 | 85.0 |  86 |\n",
       "| Colombard-Sauvignon Blanc         | 85.50000 | 85.5 |  87 |\n",
       "| ... | ... | ... | ... |\n",
       "| Romorantin            | 90.66667 | 91.0 | 91 |\n",
       "| RosÃ©                 | 87.37268 | 87.0 | 94 |\n",
       "| Roussanne             | 89.33333 | 89.5 | 92 |\n",
       "| Roussanne-Marsanne    | 91.00000 | 91.0 | 91 |\n",
       "| SÃ©millon             | 89.50000 | 89.5 | 90 |\n",
       "| Sacy                  | 87.00000 | 87.0 | 87 |\n",
       "| Sauvignon             | 91.00000 | 91.0 | 92 |\n",
       "| Sauvignon Blanc       | 88.89643 | 89.0 | 95 |\n",
       "| Savagnin              | 90.54545 | 90.0 | 94 |\n",
       "| Sciaccerellu          | 89.00000 | 89.0 | 90 |\n",
       "| Sparkling Blend       | 87.79927 | 88.0 | 93 |\n",
       "| Sylvaner              | 89.04545 | 90.0 | 93 |\n",
       "| Syrah                 | 90.44118 | 91.0 | 95 |\n",
       "| Syrah-Cabernet        | 86.00000 | 86.0 | 86 |\n",
       "| Syrah-Grenache        | 88.78571 | 89.0 | 92 |\n",
       "| Syrah-Merlot          | 86.00000 | 86.0 | 86 |\n",
       "| Syrah-MourvÃ¨dre      | 91.00000 | 91.0 | 91 |\n",
       "| Syrah-Viognier        | 89.00000 | 90.0 | 91 |\n",
       "| Tannat                | 91.50000 | 91.5 | 96 |\n",
       "| Tannat-Cabernet       | 90.61111 | 91.0 | 94 |\n",
       "| Tannat-Cabernet Franc | 91.10000 | 91.0 | 94 |\n",
       "| Tannat-Merlot         | 88.33333 | 87.0 | 93 |\n",
       "| Tannat-Syrah          | 86.66667 | 86.0 | 88 |\n",
       "| Tokay Pinot Gris      | 89.00000 | 89.0 | 89 |\n",
       "| Trousseau             | 88.00000 | 87.0 | 91 |\n",
       "| Ugni Blanc-Colombard  | 85.87500 | 86.0 | 87 |\n",
       "| Vermentino            | 87.87500 | 89.0 | 91 |\n",
       "| Viognier              | 89.21053 | 90.0 | 95 |\n",
       "| Viognier-Chardonnay   | 88.00000 | 88.0 | 88 |\n",
       "| White Blend           | 87.32051 | 87.0 | 94 |\n",
       "\n"
      ],
      "text/plain": [
       "    variety                           mean_points median_points max_points\n",
       "1   Abouriou                          87.00000    87.0           87       \n",
       "2   AligotÃ©                          86.30000    86.5           88       \n",
       "3   Alsace white blend                90.60976    92.0           96       \n",
       "4   Altesse                           87.50000    87.5           88       \n",
       "5   Auxerrois                         88.75000    89.0           90       \n",
       "6   Bordeaux-style Red Blend          87.72919    88.0           95       \n",
       "7   Bordeaux-style White Blend        87.61957    88.0           96       \n",
       "8   Braucol                           91.00000    91.0           92       \n",
       "9   Cabernet                          85.00000    85.0           85       \n",
       "10  Cabernet-Syrah                    88.66667    89.0           90       \n",
       "11  Cabernet Blend                    84.00000    84.0           84       \n",
       "12  Cabernet Franc                    88.58716    89.0           94       \n",
       "13  Cabernet Franc-Cabernet Sauvignon 89.42857    88.0           92       \n",
       "14  Cabernet Sauvignon                86.14286    85.0           94       \n",
       "15  Cabernet Sauvignon-Syrah          88.00000    88.0           88       \n",
       "16  Carcajolu                         88.00000    88.0           88       \n",
       "17  Carignan                          88.00000    88.5           89       \n",
       "18  Carignan-Syrah                    90.50000    90.5           92       \n",
       "19  Champagne Blend                   90.10289    90.0          100       \n",
       "20  Chardonnay                        89.92760    90.0          100       \n",
       "21  Chardonnay-Pinot Gris             85.00000    85.0           85       \n",
       "22  Chardonnay-Sauvignon              87.00000    87.0           87       \n",
       "23  Chardonnay-Sauvignon Blanc        88.00000    88.0           88       \n",
       "24  Chardonnay-Viognier               86.75000    86.5           88       \n",
       "25  Chasselas                         88.60000    89.0           90       \n",
       "26  Chenin Blanc                      89.09836    89.0           99       \n",
       "27  Chenin Blanc-Chardonnay           88.76471    89.0           92       \n",
       "28  Cinsault                          86.00000    86.0           87       \n",
       "29  Colombard                         85.00000    85.0           86       \n",
       "30  Colombard-Sauvignon Blanc         85.50000    85.5           87       \n",
       "... ...                               ...         ...           ...       \n",
       "93  Romorantin                        90.66667    91.0          91        \n",
       "94  RosÃ©                             87.37268    87.0          94        \n",
       "95  Roussanne                         89.33333    89.5          92        \n",
       "96  Roussanne-Marsanne                91.00000    91.0          91        \n",
       "97  SÃ©millon                         89.50000    89.5          90        \n",
       "98  Sacy                              87.00000    87.0          87        \n",
       "99  Sauvignon                         91.00000    91.0          92        \n",
       "100 Sauvignon Blanc                   88.89643    89.0          95        \n",
       "101 Savagnin                          90.54545    90.0          94        \n",
       "102 Sciaccerellu                      89.00000    89.0          90        \n",
       "103 Sparkling Blend                   87.79927    88.0          93        \n",
       "104 Sylvaner                          89.04545    90.0          93        \n",
       "105 Syrah                             90.44118    91.0          95        \n",
       "106 Syrah-Cabernet                    86.00000    86.0          86        \n",
       "107 Syrah-Grenache                    88.78571    89.0          92        \n",
       "108 Syrah-Merlot                      86.00000    86.0          86        \n",
       "109 Syrah-MourvÃ¨dre                  91.00000    91.0          91        \n",
       "110 Syrah-Viognier                    89.00000    90.0          91        \n",
       "111 Tannat                            91.50000    91.5          96        \n",
       "112 Tannat-Cabernet                   90.61111    91.0          94        \n",
       "113 Tannat-Cabernet Franc             91.10000    91.0          94        \n",
       "114 Tannat-Merlot                     88.33333    87.0          93        \n",
       "115 Tannat-Syrah                      86.66667    86.0          88        \n",
       "116 Tokay Pinot Gris                  89.00000    89.0          89        \n",
       "117 Trousseau                         88.00000    87.0          91        \n",
       "118 Ugni Blanc-Colombard              85.87500    86.0          87        \n",
       "119 Vermentino                        87.87500    89.0          91        \n",
       "120 Viognier                          89.21053    90.0          95        \n",
       "121 Viognier-Chardonnay               88.00000    88.0          88        \n",
       "122 White Blend                       87.32051    87.0          94        "
      ]
     },
     "metadata": {},
     "output_type": "display_data"
    }
   ],
   "source": [
    "wine_clean %>%\n",
    "    group_by(variety) %>%\n",
    "    summarize(mean_points = mean(points), median_points = median(points), max_points = max(points))"
   ]
  },
  {
   "cell_type": "code",
   "execution_count": 34,
   "metadata": {},
   "outputs": [
    {
     "name": "stdout",
     "output_type": "stream",
     "text": [
      "[1] \"Number of wine product: 10309\"\n"
     ]
    }
   ],
   "source": [
    "# number of unique product\n",
    "print(paste('Number of wine product:',length(unique(wine_clean$title))))"
   ]
  },
  {
   "cell_type": "code",
   "execution_count": 35,
   "metadata": {},
   "outputs": [
    {
     "name": "stdout",
     "output_type": "stream",
     "text": [
      "[1] \"Number of wine variety: 122\"\n"
     ]
    }
   ],
   "source": [
    "#number of unique designation\n",
    "print(paste('Number of wine variety:',length(unique(wine_clean$variety))))"
   ]
  },
  {
   "cell_type": "code",
   "execution_count": 36,
   "metadata": {},
   "outputs": [
    {
     "data": {
      "text/html": [
       "<table>\n",
       "<caption>A data.frame: 3 × 15</caption>\n",
       "<thead>\n",
       "\t<tr><th scope=col>country</th><th scope=col>description</th><th scope=col>designation</th><th scope=col>points</th><th scope=col>price</th><th scope=col>province</th><th scope=col>region_1</th><th scope=col>region_2</th><th scope=col>taster_name</th><th scope=col>taster_twitter_handle</th><th scope=col>title</th><th scope=col>variety</th><th scope=col>winery</th><th scope=col>tasterID</th><th scope=col>wineID</th></tr>\n",
       "\t<tr><th scope=col>&lt;fct&gt;</th><th scope=col>&lt;chr&gt;</th><th scope=col>&lt;chr&gt;</th><th scope=col>&lt;int&gt;</th><th scope=col>&lt;dbl&gt;</th><th scope=col>&lt;chr&gt;</th><th scope=col>&lt;chr&gt;</th><th scope=col>&lt;chr&gt;</th><th scope=col>&lt;fct&gt;</th><th scope=col>&lt;fct&gt;</th><th scope=col>&lt;chr&gt;</th><th scope=col>&lt;fct&gt;</th><th scope=col>&lt;fct&gt;</th><th scope=col>&lt;int&gt;</th><th scope=col>&lt;int&gt;</th></tr>\n",
       "</thead>\n",
       "<tbody>\n",
       "\t<tr><td>France</td><td>This has great depth of flavor with its fresh apple and pear fruits and touch of spice. It's off dry while balanced with acidity and a crisp texture. Drink now.                           </td><td>Les Natures</td><td>87</td><td>27</td><td>Alsace    </td><td>Alsace    </td><td>NA</td><td>Roger Voss</td><td>@vossroger</td><td>Jean-Baptiste Adam 2012 Les Natures Pinot Gris (Alsace)</td><td>Pinot Gris</td><td>Jean-Baptiste Adam  </td><td>6</td><td>6832</td></tr>\n",
       "\t<tr><td>France</td><td>This is a festive wine, with soft, ripe fruit and acidity, plus a red berry flavor.                                                                                                        </td><td>Nouveau    </td><td>86</td><td> 9</td><td>Beaujolais</td><td>Beaujolais</td><td>NA</td><td>Roger Voss</td><td>@vossroger</td><td>Henry Fessy 2012 Nouveau  (Beaujolais)                 </td><td>Gamay     </td><td>Henry Fessy         </td><td>6</td><td>6680</td></tr>\n",
       "\t<tr><td>France</td><td>Soft and fruity, this is a generous, ripe wine that's full of juicy red-cherry fruits and gentle tannins. It has some richness, giving a sweet character to this open, ready-to-drink wine.</td><td>EtÃ© Indien</td><td>86</td><td>14</td><td>Beaujolais</td><td>Brouilly  </td><td>NA</td><td>Roger Voss</td><td>@vossroger</td><td>Vignerons de Bel Air 2011 EtÃ© Indien  (Brouilly)      </td><td>Gamay     </td><td>Vignerons de Bel Air</td><td>6</td><td>9837</td></tr>\n",
       "</tbody>\n",
       "</table>\n"
      ],
      "text/latex": [
       "A data.frame: 3 × 15\n",
       "\\begin{tabular}{r|lllllllllllllll}\n",
       " country & description & designation & points & price & province & region\\_1 & region\\_2 & taster\\_name & taster\\_twitter\\_handle & title & variety & winery & tasterID & wineID\\\\\n",
       " <fct> & <chr> & <chr> & <int> & <dbl> & <chr> & <chr> & <chr> & <fct> & <fct> & <chr> & <fct> & <fct> & <int> & <int>\\\\\n",
       "\\hline\n",
       "\t France & This has great depth of flavor with its fresh apple and pear fruits and touch of spice. It's off dry while balanced with acidity and a crisp texture. Drink now.                            & Les Natures & 87 & 27 & Alsace     & Alsace     & NA & Roger Voss & @vossroger & Jean-Baptiste Adam 2012 Les Natures Pinot Gris (Alsace) & Pinot Gris & Jean-Baptiste Adam   & 6 & 6832\\\\\n",
       "\t France & This is a festive wine, with soft, ripe fruit and acidity, plus a red berry flavor.                                                                                                         & Nouveau     & 86 &  9 & Beaujolais & Beaujolais & NA & Roger Voss & @vossroger & Henry Fessy 2012 Nouveau  (Beaujolais)                  & Gamay      & Henry Fessy          & 6 & 6680\\\\\n",
       "\t France & Soft and fruity, this is a generous, ripe wine that's full of juicy red-cherry fruits and gentle tannins. It has some richness, giving a sweet character to this open, ready-to-drink wine. & EtÃ© Indien & 86 & 14 & Beaujolais & Brouilly   & NA & Roger Voss & @vossroger & Vignerons de Bel Air 2011 EtÃ© Indien  (Brouilly)       & Gamay      & Vignerons de Bel Air & 6 & 9837\\\\\n",
       "\\end{tabular}\n"
      ],
      "text/markdown": [
       "\n",
       "A data.frame: 3 × 15\n",
       "\n",
       "| country &lt;fct&gt; | description &lt;chr&gt; | designation &lt;chr&gt; | points &lt;int&gt; | price &lt;dbl&gt; | province &lt;chr&gt; | region_1 &lt;chr&gt; | region_2 &lt;chr&gt; | taster_name &lt;fct&gt; | taster_twitter_handle &lt;fct&gt; | title &lt;chr&gt; | variety &lt;fct&gt; | winery &lt;fct&gt; | tasterID &lt;int&gt; | wineID &lt;int&gt; |\n",
       "|---|---|---|---|---|---|---|---|---|---|---|---|---|---|---|\n",
       "| France | This has great depth of flavor with its fresh apple and pear fruits and touch of spice. It's off dry while balanced with acidity and a crisp texture. Drink now.                            | Les Natures | 87 | 27 | Alsace     | Alsace     | NA | Roger Voss | @vossroger | Jean-Baptiste Adam 2012 Les Natures Pinot Gris (Alsace) | Pinot Gris | Jean-Baptiste Adam   | 6 | 6832 |\n",
       "| France | This is a festive wine, with soft, ripe fruit and acidity, plus a red berry flavor.                                                                                                         | Nouveau     | 86 |  9 | Beaujolais | Beaujolais | NA | Roger Voss | @vossroger | Henry Fessy 2012 Nouveau  (Beaujolais)                  | Gamay      | Henry Fessy          | 6 | 6680 |\n",
       "| France | Soft and fruity, this is a generous, ripe wine that's full of juicy red-cherry fruits and gentle tannins. It has some richness, giving a sweet character to this open, ready-to-drink wine. | EtÃ© Indien | 86 | 14 | Beaujolais | Brouilly   | NA | Roger Voss | @vossroger | Vignerons de Bel Air 2011 EtÃ© Indien  (Brouilly)       | Gamay      | Vignerons de Bel Air | 6 | 9837 |\n",
       "\n"
      ],
      "text/plain": [
       "  country\n",
       "1 France \n",
       "2 France \n",
       "3 France \n",
       "  description                                                                                                                                                                                \n",
       "1 This has great depth of flavor with its fresh apple and pear fruits and touch of spice. It's off dry while balanced with acidity and a crisp texture. Drink now.                           \n",
       "2 This is a festive wine, with soft, ripe fruit and acidity, plus a red berry flavor.                                                                                                        \n",
       "3 Soft and fruity, this is a generous, ripe wine that's full of juicy red-cherry fruits and gentle tannins. It has some richness, giving a sweet character to this open, ready-to-drink wine.\n",
       "  designation points price province   region_1   region_2 taster_name\n",
       "1 Les Natures 87     27    Alsace     Alsace     NA       Roger Voss \n",
       "2 Nouveau     86      9    Beaujolais Beaujolais NA       Roger Voss \n",
       "3 EtÃ© Indien 86     14    Beaujolais Brouilly   NA       Roger Voss \n",
       "  taster_twitter_handle title                                                  \n",
       "1 @vossroger            Jean-Baptiste Adam 2012 Les Natures Pinot Gris (Alsace)\n",
       "2 @vossroger            Henry Fessy 2012 Nouveau  (Beaujolais)                 \n",
       "3 @vossroger            Vignerons de Bel Air 2011 EtÃ© Indien  (Brouilly)      \n",
       "  variety    winery               tasterID wineID\n",
       "1 Pinot Gris Jean-Baptiste Adam   6        6832  \n",
       "2 Gamay      Henry Fessy          6        6680  \n",
       "3 Gamay      Vignerons de Bel Air 6        9837  "
      ]
     },
     "metadata": {},
     "output_type": "display_data"
    }
   ],
   "source": [
    "head(wine_clean, 3)"
   ]
  },
  {
   "cell_type": "code",
   "execution_count": 37,
   "metadata": {},
   "outputs": [
    {
     "data": {
      "text/html": [
       "TRUE"
      ],
      "text/latex": [
       "TRUE"
      ],
      "text/markdown": [
       "TRUE"
      ],
      "text/plain": [
       "[1] TRUE"
      ]
     },
     "metadata": {},
     "output_type": "display_data"
    }
   ],
   "source": [
    "# check the wineID against unique number of title\n",
    "max(wine_clean$wineID) == length(unique(wine_clean$title))"
   ]
  },
  {
   "cell_type": "code",
   "execution_count": 38,
   "metadata": {},
   "outputs": [
    {
     "data": {
      "text/html": [
       "TRUE"
      ],
      "text/latex": [
       "TRUE"
      ],
      "text/markdown": [
       "TRUE"
      ],
      "text/plain": [
       "[1] TRUE"
      ]
     },
     "metadata": {},
     "output_type": "display_data"
    }
   ],
   "source": [
    "# check the userID against unique number of taster_name\n",
    "max(wine_clean$tasterID) == length(unique(wine_clean$taster_name))"
   ]
  },
  {
   "cell_type": "code",
   "execution_count": 39,
   "metadata": {},
   "outputs": [
    {
     "name": "stdout",
     "output_type": "stream",
     "text": [
      "[1] \"Number of wine reviewer: 6 , for 10309 wine products\"\n"
     ]
    }
   ],
   "source": [
    "print(paste('Number of wine reviewer:', length(unique(wine_clean$taster_name)), ', for', length(unique(wine_clean$title)), 'wine products'))"
   ]
  },
  {
   "cell_type": "code",
   "execution_count": 40,
   "metadata": {},
   "outputs": [],
   "source": [
    "#taster\n",
    "taster <- wine_clean %>%\n",
    "    group_by(tasterID, taster_name) %>%\n",
    "    summarize(Rcount = n(), maxpoint = max(points), minpoint = min(points), average = mean(points))\n"
   ]
  },
  {
   "cell_type": "code",
   "execution_count": 41,
   "metadata": {},
   "outputs": [
    {
     "data": {
      "text/html": [
       "<table>\n",
       "<caption>A grouped_df: 3 × 6</caption>\n",
       "<thead>\n",
       "\t<tr><th scope=col>tasterID</th><th scope=col>taster_name</th><th scope=col>Rcount</th><th scope=col>maxpoint</th><th scope=col>minpoint</th><th scope=col>average</th></tr>\n",
       "\t<tr><th scope=col>&lt;int&gt;</th><th scope=col>&lt;fct&gt;</th><th scope=col>&lt;int&gt;</th><th scope=col>&lt;int&gt;</th><th scope=col>&lt;int&gt;</th><th scope=col>&lt;dbl&gt;</th></tr>\n",
       "</thead>\n",
       "<tbody>\n",
       "\t<tr><td>6</td><td>Roger Voss       </td><td>8453</td><td>100</td><td>80</td><td>89.00355</td></tr>\n",
       "\t<tr><td>1</td><td>Anne KrebiehlÂ MW</td><td>1051</td><td> 97</td><td>80</td><td>90.84967</td></tr>\n",
       "\t<tr><td>2</td><td>Joe Czerwinski   </td><td> 720</td><td> 96</td><td>81</td><td>88.82361</td></tr>\n",
       "</tbody>\n",
       "</table>\n"
      ],
      "text/latex": [
       "A grouped_df: 3 × 6\n",
       "\\begin{tabular}{r|llllll}\n",
       " tasterID & taster\\_name & Rcount & maxpoint & minpoint & average\\\\\n",
       " <int> & <fct> & <int> & <int> & <int> & <dbl>\\\\\n",
       "\\hline\n",
       "\t 6 & Roger Voss        & 8453 & 100 & 80 & 89.00355\\\\\n",
       "\t 1 & Anne KrebiehlÂ MW & 1051 &  97 & 80 & 90.84967\\\\\n",
       "\t 2 & Joe Czerwinski    &  720 &  96 & 81 & 88.82361\\\\\n",
       "\\end{tabular}\n"
      ],
      "text/markdown": [
       "\n",
       "A grouped_df: 3 × 6\n",
       "\n",
       "| tasterID &lt;int&gt; | taster_name &lt;fct&gt; | Rcount &lt;int&gt; | maxpoint &lt;int&gt; | minpoint &lt;int&gt; | average &lt;dbl&gt; |\n",
       "|---|---|---|---|---|---|\n",
       "| 6 | Roger Voss        | 8453 | 100 | 80 | 89.00355 |\n",
       "| 1 | Anne KrebiehlÂ MW | 1051 |  97 | 80 | 90.84967 |\n",
       "| 2 | Joe Czerwinski    |  720 |  96 | 81 | 88.82361 |\n",
       "\n"
      ],
      "text/plain": [
       "  tasterID taster_name       Rcount maxpoint minpoint average \n",
       "1 6        Roger Voss        8453   100      80       89.00355\n",
       "2 1        Anne KrebiehlÂ MW 1051    97      80       90.84967\n",
       "3 2        Joe Czerwinski     720    96      81       88.82361"
      ]
     },
     "metadata": {},
     "output_type": "display_data"
    }
   ],
   "source": [
    "# top 3 tasters by review count\n",
    "head(taster[order(-taster$Rcount),],3)"
   ]
  },
  {
   "cell_type": "code",
   "execution_count": 42,
   "metadata": {},
   "outputs": [
    {
     "data": {
      "image/png": "[encoded data removed]",
      "text/plain": [
       "plot without title"
      ]
     },
     "metadata": {},
     "output_type": "display_data"
    }
   ],
   "source": [
    "ggplot(taster, aes(x = reorder(as.factor(taster_name),Rcount), y = Rcount)) + \n",
    "geom_bar(stat = 'identity') +\n",
    "labs(x = \"Taster Name\", y = 'Count of Review', title = 'Count of Review by each taster') + \n",
    "coord_flip()"
   ]
  },
  {
   "cell_type": "markdown",
   "metadata": {},
   "source": [
    "Clearly Roger Voss dominates in terms of number of wine reviews"
   ]
  },
  {
   "cell_type": "code",
   "execution_count": 43,
   "metadata": {},
   "outputs": [],
   "source": [
    "#wine\n",
    "wineprod <- wine_clean %>%\n",
    "    group_by(wineID, title) %>%\n",
    "    summarize(Rcount = n(), maxpoint = max(points), minpoints = min(points), average = mean(points)) %>%\n",
    "    arrange(desc(Rcount))\n"
   ]
  },
  {
   "cell_type": "code",
   "execution_count": 44,
   "metadata": {},
   "outputs": [
    {
     "data": {
      "text/plain": [
       "\n",
       "    1     2     3     4     6 \n",
       "10039   215    41    12     2 "
      ]
     },
     "metadata": {},
     "output_type": "display_data"
    }
   ],
   "source": [
    "table(wineprod$Rcount)"
   ]
  },
  {
   "cell_type": "code",
   "execution_count": 45,
   "metadata": {},
   "outputs": [
    {
     "data": {
      "text/html": [
       "<table>\n",
       "<caption>A grouped_df: 5 × 6</caption>\n",
       "<thead>\n",
       "\t<tr><th scope=col>wineID</th><th scope=col>title</th><th scope=col>Rcount</th><th scope=col>maxpoint</th><th scope=col>minpoints</th><th scope=col>average</th></tr>\n",
       "\t<tr><th scope=col>&lt;int&gt;</th><th scope=col>&lt;chr&gt;</th><th scope=col>&lt;int&gt;</th><th scope=col>&lt;int&gt;</th><th scope=col>&lt;int&gt;</th><th scope=col>&lt;dbl&gt;</th></tr>\n",
       "</thead>\n",
       "<tbody>\n",
       "\t<tr><td> 307</td><td>Bailly-Lapierre NV Brut  (CrÃ©mant de Bourgogne)      </td><td>6</td><td>91</td><td>90</td><td>90.33333</td></tr>\n",
       "\t<tr><td>9456</td><td>Ruinart NV Brut RosÃ©  (Champagne)                    </td><td>6</td><td>91</td><td>87</td><td>89.83333</td></tr>\n",
       "\t<tr><td>8224</td><td>Louis Roederer NV Brut Premier  (Champagne)           </td><td>4</td><td>92</td><td>91</td><td>91.75000</td></tr>\n",
       "\t<tr><td>9455</td><td>Ruinart NV Blanc de Blancs Brut Chardonnay (Champagne)</td><td>4</td><td>93</td><td>90</td><td>91.75000</td></tr>\n",
       "\t<tr><td>9711</td><td>ThiÃ©not NV Brut  (Champagne)                         </td><td>4</td><td>91</td><td>89</td><td>90.00000</td></tr>\n",
       "</tbody>\n",
       "</table>\n"
      ],
      "text/latex": [
       "A grouped_df: 5 × 6\n",
       "\\begin{tabular}{r|llllll}\n",
       " wineID & title & Rcount & maxpoint & minpoints & average\\\\\n",
       " <int> & <chr> & <int> & <int> & <int> & <dbl>\\\\\n",
       "\\hline\n",
       "\t  307 & Bailly-Lapierre NV Brut  (CrÃ©mant de Bourgogne)       & 6 & 91 & 90 & 90.33333\\\\\n",
       "\t 9456 & Ruinart NV Brut RosÃ©  (Champagne)                     & 6 & 91 & 87 & 89.83333\\\\\n",
       "\t 8224 & Louis Roederer NV Brut Premier  (Champagne)            & 4 & 92 & 91 & 91.75000\\\\\n",
       "\t 9455 & Ruinart NV Blanc de Blancs Brut Chardonnay (Champagne) & 4 & 93 & 90 & 91.75000\\\\\n",
       "\t 9711 & ThiÃ©not NV Brut  (Champagne)                          & 4 & 91 & 89 & 90.00000\\\\\n",
       "\\end{tabular}\n"
      ],
      "text/markdown": [
       "\n",
       "A grouped_df: 5 × 6\n",
       "\n",
       "| wineID &lt;int&gt; | title &lt;chr&gt; | Rcount &lt;int&gt; | maxpoint &lt;int&gt; | minpoints &lt;int&gt; | average &lt;dbl&gt; |\n",
       "|---|---|---|---|---|---|\n",
       "|  307 | Bailly-Lapierre NV Brut  (CrÃ©mant de Bourgogne)       | 6 | 91 | 90 | 90.33333 |\n",
       "| 9456 | Ruinart NV Brut RosÃ©  (Champagne)                     | 6 | 91 | 87 | 89.83333 |\n",
       "| 8224 | Louis Roederer NV Brut Premier  (Champagne)            | 4 | 92 | 91 | 91.75000 |\n",
       "| 9455 | Ruinart NV Blanc de Blancs Brut Chardonnay (Champagne) | 4 | 93 | 90 | 91.75000 |\n",
       "| 9711 | ThiÃ©not NV Brut  (Champagne)                          | 4 | 91 | 89 | 90.00000 |\n",
       "\n"
      ],
      "text/plain": [
       "  wineID title                                                  Rcount maxpoint\n",
       "1  307   Bailly-Lapierre NV Brut  (CrÃ©mant de Bourgogne)       6      91      \n",
       "2 9456   Ruinart NV Brut RosÃ©  (Champagne)                     6      91      \n",
       "3 8224   Louis Roederer NV Brut Premier  (Champagne)            4      92      \n",
       "4 9455   Ruinart NV Blanc de Blancs Brut Chardonnay (Champagne) 4      93      \n",
       "5 9711   ThiÃ©not NV Brut  (Champagne)                          4      91      \n",
       "  minpoints average \n",
       "1 90        90.33333\n",
       "2 87        89.83333\n",
       "3 91        91.75000\n",
       "4 90        91.75000\n",
       "5 89        90.00000"
      ]
     },
     "metadata": {},
     "output_type": "display_data"
    }
   ],
   "source": [
    "#top 5 most reviewed wine\n",
    "head(wineprod[order(-wineprod$Rcount, -wineprod$average),], 5)"
   ]
  },
  {
   "cell_type": "code",
   "execution_count": 46,
   "metadata": {},
   "outputs": [
    {
     "data": {
      "image/png": "[encoded data removed]",
      "text/plain": [
       "plot without title"
      ]
     },
     "metadata": {},
     "output_type": "display_data"
    }
   ],
   "source": [
    "ggplot(wineprod, aes(Rcount)) + geom_histogram(binwidth = 1, alpha = 0.5, position = 'identity') +\n",
    "labs( x = \"Number of Review\",\n",
    "     y = \"Count of Wine product\", \n",
    "     title = 'Distribution of number or product based on review count',\n",
    "    subtitle = 'Most of the wines have only 1 review')"
   ]
  },
  {
   "cell_type": "code",
   "execution_count": 47,
   "metadata": {},
   "outputs": [],
   "source": [
    "# Do tasters who review more wine tend to give different scores?\n",
    "wine4 <- merge(wine_clean, taster[c('tasterID', 'Rcount')], by.x = 'tasterID', by.y = 'tasterID', all.x = T)\n",
    "wine4 <- merge(wine4, wineprod[c('wineID', 'average')], by.x = 'wineID', by.y = 'wineID', all.x = T)\n",
    "\n",
    "avgpoint <- round(mean(wine4$points),2)"
   ]
  },
  {
   "cell_type": "code",
   "execution_count": 48,
   "metadata": {},
   "outputs": [
    {
     "data": {
      "text/html": [
       "89.11"
      ],
      "text/latex": [
       "89.11"
      ],
      "text/markdown": [
       "89.11"
      ],
      "text/plain": [
       "[1] 89.11"
      ]
     },
     "metadata": {},
     "output_type": "display_data"
    }
   ],
   "source": [
    "avgpoint"
   ]
  },
  {
   "cell_type": "code",
   "execution_count": 49,
   "metadata": {},
   "outputs": [
    {
     "data": {
      "image/png": "[encoded data removed]",
      "text/plain": [
       "plot without title"
      ]
     },
     "metadata": {},
     "output_type": "display_data"
    }
   ],
   "source": [
    "#distribution of wine mean point\n",
    "ggplot(wine4, aes(x = average)) +\n",
    "    geom_histogram(binwidth = 0.01, alpha = .5, position = 'identity') +\n",
    "    geom_vline(aes(xintercept = mean(points)), color = 'blue') +\n",
    "    labs(x = \"Mean Points\", y = \"count\", title = \"Distribution of User Mean Ratings\")"
   ]
  },
  {
   "cell_type": "code",
   "execution_count": 50,
   "metadata": {},
   "outputs": [],
   "source": [
    "# Differences among reviewers\n",
    "wine4$Rcut <- cut(wine4$Rcount, c(0,50,100,150,200,250,500,750,1000,1250,1500,1750,2000, 3000, 4000, 5000, 6000, 7000, 10000, 15000))"
   ]
  },
  {
   "cell_type": "code",
   "execution_count": 51,
   "metadata": {},
   "outputs": [],
   "source": [
    "statbox <- ungroup(wine4) %>%\n",
    "    group_by(Rcut) %>%\n",
    "    summarize(avgpoint = round(mean(points, na.rm = T),2),\n",
    "             medpoint = median(points),\n",
    "             sdpoint = round(sd(points, na.rm = T),2))"
   ]
  },
  {
   "cell_type": "code",
   "execution_count": 52,
   "metadata": {},
   "outputs": [],
   "source": [
    "colnames(statbox) <- c(\"Review Count\", \"Average Score\", \"Median Score\", \"Std Deviation\")"
   ]
  },
  {
   "cell_type": "markdown",
   "metadata": {},
   "source": [
    "Chart below shows that tasters tend to be fairly consistent despite tasters' experience.\n",
    "Scores tend to be about the same and all above 80s. "
   ]
  },
  {
   "cell_type": "code",
   "execution_count": 53,
   "metadata": {},
   "outputs": [
    {
     "data": {
      "text/html": [
       "<table>\n",
       "<caption>A tibble: 5 × 4</caption>\n",
       "<thead>\n",
       "\t<tr><th scope=col>Review Count</th><th scope=col>Average Score</th><th scope=col>Median Score</th><th scope=col>Std Deviation</th></tr>\n",
       "\t<tr><th scope=col>&lt;fct&gt;</th><th scope=col>&lt;dbl&gt;</th><th scope=col>&lt;dbl&gt;</th><th scope=col>&lt;dbl&gt;</th></tr>\n",
       "</thead>\n",
       "<tbody>\n",
       "\t<tr><td>(0,50]          </td><td>87.21</td><td>88</td><td>4.50</td></tr>\n",
       "\t<tr><td>(250,500]       </td><td>87.32</td><td>87</td><td>2.42</td></tr>\n",
       "\t<tr><td>(500,750]       </td><td>88.82</td><td>89</td><td>2.79</td></tr>\n",
       "\t<tr><td>(1e+03,1.25e+03]</td><td>90.85</td><td>91</td><td>2.61</td></tr>\n",
       "\t<tr><td>(7e+03,1e+04]   </td><td>89.00</td><td>89</td><td>2.97</td></tr>\n",
       "</tbody>\n",
       "</table>\n"
      ],
      "text/latex": [
       "A tibble: 5 × 4\n",
       "\\begin{tabular}{r|llll}\n",
       " Review Count & Average Score & Median Score & Std Deviation\\\\\n",
       " <fct> & <dbl> & <dbl> & <dbl>\\\\\n",
       "\\hline\n",
       "\t (0,50{]}           & 87.21 & 88 & 4.50\\\\\n",
       "\t (250,500{]}        & 87.32 & 87 & 2.42\\\\\n",
       "\t (500,750{]}        & 88.82 & 89 & 2.79\\\\\n",
       "\t (1e+03,1.25e+03{]} & 90.85 & 91 & 2.61\\\\\n",
       "\t (7e+03,1e+04{]}    & 89.00 & 89 & 2.97\\\\\n",
       "\\end{tabular}\n"
      ],
      "text/markdown": [
       "\n",
       "A tibble: 5 × 4\n",
       "\n",
       "| Review Count &lt;fct&gt; | Average Score &lt;dbl&gt; | Median Score &lt;dbl&gt; | Std Deviation &lt;dbl&gt; |\n",
       "|---|---|---|---|\n",
       "| (0,50]           | 87.21 | 88 | 4.50 |\n",
       "| (250,500]        | 87.32 | 87 | 2.42 |\n",
       "| (500,750]        | 88.82 | 89 | 2.79 |\n",
       "| (1e+03,1.25e+03] | 90.85 | 91 | 2.61 |\n",
       "| (7e+03,1e+04]    | 89.00 | 89 | 2.97 |\n",
       "\n"
      ],
      "text/plain": [
       "  Review Count     Average Score Median Score Std Deviation\n",
       "1 (0,50]           87.21         88           4.50         \n",
       "2 (250,500]        87.32         87           2.42         \n",
       "3 (500,750]        88.82         89           2.79         \n",
       "4 (1e+03,1.25e+03] 90.85         91           2.61         \n",
       "5 (7e+03,1e+04]    89.00         89           2.97         "
      ]
     },
     "metadata": {},
     "output_type": "display_data"
    }
   ],
   "source": [
    "statbox"
   ]
  },
  {
   "cell_type": "code",
   "execution_count": 54,
   "metadata": {},
   "outputs": [
    {
     "data": {
      "text/html": [
       "<table>\n",
       "<caption>A grouped_df: 584 × 15</caption>\n",
       "<thead>\n",
       "\t<tr><th scope=col>country</th><th scope=col>description</th><th scope=col>designation</th><th scope=col>points</th><th scope=col>price</th><th scope=col>province</th><th scope=col>region_1</th><th scope=col>region_2</th><th scope=col>taster_name</th><th scope=col>taster_twitter_handle</th><th scope=col>title</th><th scope=col>variety</th><th scope=col>winery</th><th scope=col>tasterID</th><th scope=col>wineID</th></tr>\n",
       "\t<tr><th scope=col>&lt;fct&gt;</th><th scope=col>&lt;chr&gt;</th><th scope=col>&lt;chr&gt;</th><th scope=col>&lt;int&gt;</th><th scope=col>&lt;dbl&gt;</th><th scope=col>&lt;chr&gt;</th><th scope=col>&lt;chr&gt;</th><th scope=col>&lt;chr&gt;</th><th scope=col>&lt;fct&gt;</th><th scope=col>&lt;fct&gt;</th><th scope=col>&lt;chr&gt;</th><th scope=col>&lt;fct&gt;</th><th scope=col>&lt;fct&gt;</th><th scope=col>&lt;int&gt;</th><th scope=col>&lt;int&gt;</th></tr>\n",
       "</thead>\n",
       "<tbody>\n",
       "\t<tr><td>France</td><td>Bone dry and crisp, this is also has fruitiness from the ripeness of the grapes, giving impressively rich apple and pear flavors. Of course, these are cut by tight acidity and intense citrus, leaving a tight, steely aftertaste.                                                                                                                                                  </td><td>Dosage ZÃ©ro Brut Nature               </td><td>89</td><td>49</td><td>Champagne   </td><td>Champagne                        </td><td>NA</td><td>Roger Voss       </td><td>@vossroger </td><td>A.R. LenobleÂ  NV Dosage ZÃ©ro Brut Nature  (Champagne)                         </td><td>Champagne Blend</td><td>A.R. LenobleÂ         </td><td>6</td><td> 14</td></tr>\n",
       "\t<tr><td>France</td><td>This tight crisp wine delivers citrus and sliced apple fruits. There is a brisk mousse that gives the wine quite a bite of acidity. All the elements point in the direction of food for this Champagne. Like many bone-dry Champagnes, this bottling needs to age, so drink from 2018.                                                                                               </td><td>Dosage ZÃ©ro Brut Nature               </td><td>90</td><td>49</td><td>Champagne   </td><td>Champagne                        </td><td>NA</td><td>Roger Voss       </td><td>@vossroger </td><td>A.R. LenobleÂ  NV Dosage ZÃ©ro Brut Nature  (Champagne)                         </td><td>Champagne Blend</td><td>A.R. LenobleÂ         </td><td>6</td><td> 14</td></tr>\n",
       "\t<tr><td>France</td><td>With zero grams of residual sugar, this is wine is as dry as it gets, relying on the ripe fruit to balance the intense acidity. Crisp apple and tight acidity dominate. Like many zero-dosage Champagnes it needs to age, so hold this bottle for two years.                                                                                                                         </td><td>Dosage ZÃ©ro Brut Nature               </td><td>90</td><td>49</td><td>Champagne   </td><td>Champagne                        </td><td>NA</td><td>Roger Voss       </td><td>@vossroger </td><td>A.R. LenobleÂ  NV Dosage ZÃ©ro Brut Nature  (Champagne)                         </td><td>Champagne Blend</td><td>A.R. LenobleÂ         </td><td>6</td><td> 14</td></tr>\n",
       "\t<tr><td>France</td><td>The wine comes from the Grand Cru village of Chouilly in the Chardonnay vineyards of the CÃ´te des Blancs. It is crisp, mineral textured and still developing. Bright acidity and lemon-zest flavors give this wine its lively and also full-bodied character. Drink from 2018.                                                                                                      </td><td>Grand Cru Blanc de Blancs Chouilly Brut</td><td>92</td><td>54</td><td>Champagne   </td><td>Champagne                        </td><td>NA</td><td>Roger Voss       </td><td>@vossroger </td><td>A.R. LenobleÂ  NV Grand Cru Blanc de Blancs Chouilly Brut Chardonnay (Champagne)</td><td>Chardonnay     </td><td>A.R. LenobleÂ         </td><td>6</td><td> 15</td></tr>\n",
       "\t<tr><td>France</td><td>This is a very lively wine with a creamy mousse. The wine is towards dry, bringing out great white and citrus fruit flavors with a burst of tangy acidity. It comes from the village of Chouilly in the CÃ´te des Blancs, which gives the wine a tight mineral texture at the end.                                                                                                   </td><td>Grand Cru Blanc de Blancs Chouilly Brut</td><td>91</td><td>54</td><td>Champagne   </td><td>Champagne                        </td><td>NA</td><td>Roger Voss       </td><td>@vossroger </td><td>A.R. LenobleÂ  NV Grand Cru Blanc de Blancs Chouilly Brut Chardonnay (Champagne)</td><td>Chardonnay     </td><td>A.R. LenobleÂ         </td><td>6</td><td> 15</td></tr>\n",
       "\t<tr><td>France</td><td>A quarter of this nonvintage blend was vinified in wood. That adds some extra richness to the already ripe fruit. Based on the 2013 vintage, the wine is full of pear, crisp apple and hints of apricot. Drink now.                                                                                                                                                                  </td><td>Intense Brut                           </td><td>90</td><td>45</td><td>Champagne   </td><td>Champagne                        </td><td>NA</td><td>Roger Voss       </td><td>@vossroger </td><td>A.R. LenobleÂ  NV Intense Brut  (Champagne)                                     </td><td>Champagne Blend</td><td>A.R. LenobleÂ         </td><td>6</td><td> 16</td></tr>\n",
       "\t<tr><td>France</td><td>With vineyards in the Marne Valley, this Champagne house has produced a ripe, soft style. Based on grapes from the 2011 harvest, it is still young, although the acidity is softening to bring in ripe apple and green-plum flavors. An underlying ripe fruit character makes it extra attractive.                                                                                   </td><td>Intense Brut                           </td><td>89</td><td>45</td><td>Champagne   </td><td>Champagne                        </td><td>NA</td><td>Roger Voss       </td><td>@vossroger </td><td>A.R. LenobleÂ  NV Intense Brut  (Champagne)                                     </td><td>Champagne Blend</td><td>A.R. LenobleÂ         </td><td>6</td><td> 16</td></tr>\n",
       "\t<tr><td>France</td><td>Intense is a good description of this tightly textured and mineral-driven wine. Its fruit is subdued by the steely, tense character, although there are attractive hints of crisp apple and citrus acidity. The bottling is young and will repay several months aging after purchase.                                                                                                </td><td>Intense Brut                           </td><td>90</td><td>45</td><td>Champagne   </td><td>Champagne                        </td><td>NA</td><td>Roger Voss       </td><td>@vossroger </td><td>A.R. LenobleÂ  NV Intense Brut  (Champagne)                                     </td><td>Champagne Blend</td><td>A.R. LenobleÂ         </td><td>6</td><td> 16</td></tr>\n",
       "\t<tr><td>France</td><td>This beautifully crisp and fresh wine has great red-berry acidity. Tight and textured, it is dry while balancing fruit and the more steely edge. The bottling is young, so could be aged for six months from purchase, although it is also refreshing to drink immediately.                                                                                                          </td><td>Terroirs Brut RosÃ©                    </td><td>91</td><td>59</td><td>Champagne   </td><td>Champagne                        </td><td>NA</td><td>Roger Voss       </td><td>@vossroger </td><td>A.R. LenobleÂ  NV Terroirs Brut RosÃ©  (Champagne)                              </td><td>Champagne Blend</td><td>A.R. LenobleÂ         </td><td>6</td><td> 17</td></tr>\n",
       "\t<tr><td>France</td><td>With some attractive bottle age, this pale rosÃ© is warm and rich. Spice contrasts with crisp red fruits and acidity. The wine is ready to drink.                                                                                                                                                                                                                                    </td><td>Terroirs Brut RosÃ©                    </td><td>87</td><td>59</td><td>Champagne   </td><td>Champagne                        </td><td>NA</td><td>Roger Voss       </td><td>@vossroger </td><td>A.R. LenobleÂ  NV Terroirs Brut RosÃ©  (Champagne)                              </td><td>Champagne Blend</td><td>A.R. LenobleÂ         </td><td>6</td><td> 17</td></tr>\n",
       "\t<tr><td>France</td><td>The base of this wine is Chardonnay with some Pinot Noir added to give color (standard practice in Champagne). The result is a pale-colored wine that's ripe and full of fruit. It has a rich character lifted by the tight, mineral acidity in the aftertaste.                                                                                                                      </td><td>Terroirs Brut RosÃ©                    </td><td>91</td><td>59</td><td>Champagne   </td><td>Champagne                        </td><td>NA</td><td>Roger Voss       </td><td>@vossroger </td><td>A.R. LenobleÂ  NV Terroirs Brut RosÃ©  (Champagne)                              </td><td>Champagne Blend</td><td>A.R. LenobleÂ         </td><td>6</td><td> 17</td></tr>\n",
       "\t<tr><td>France</td><td>As with all this producer's wines, the first fermentation iof this bottling was in wood, adding richness and smoothing out the fruit to give a warm, round character. The acidity is still tight and crisp, with citrus and apple flavors shot through with minerality. Drink now.                                                                                                   </td><td>Brut                                   </td><td>90</td><td>50</td><td>Champagne   </td><td>Champagne                        </td><td>NA</td><td>Roger Voss       </td><td>@vossroger </td><td>Alfred Gratien NV Brut  (Champagne)                                             </td><td>Champagne Blend</td><td>Alfred Gratien        </td><td>6</td><td>167</td></tr>\n",
       "\t<tr><td>France</td><td>A dry, tight style of wine, with fresh grapefruit and lime flavors. It could do with some bottle age to allow the fruit to shed some of its intense acidity.                                                                                                                                                                                                                         </td><td>Brut                                   </td><td>87</td><td>69</td><td>Champagne   </td><td>Champagne                        </td><td>NA</td><td>Roger Voss       </td><td>@vossroger </td><td>Alfred Gratien NV Brut  (Champagne)                                             </td><td>Champagne Blend</td><td>Alfred Gratien        </td><td>6</td><td>167</td></tr>\n",
       "\t<tr><td>France</td><td>This stalky, smoky wine has red currant fruits and a tight texture. The fruit is just ripe, light in character with very fresh acidity. Some more depth would have been good. Drink now.                                                                                                                                                                                             </td><td>Demoiselle Bleue                       </td><td>84</td><td>15</td><td>Loire Valley</td><td>Saumur                           </td><td>NA</td><td>Roger Voss       </td><td>@vossroger </td><td>Alliance Loire 2014 Demoiselle Bleue  (Saumur)                                  </td><td>Cabernet Franc </td><td>Alliance Loire        </td><td>6</td><td>174</td></tr>\n",
       "\t<tr><td>France</td><td>Peach and pear flavors entwine with intense, youthful acidity in this bone-dry wine. It is taut and still developing fuller, fruity character. Very fresh, it needs time; drink from 2016.                                                                                                                                                                                           </td><td>Demoiselle Bleue                       </td><td>86</td><td>15</td><td>Loire Valley</td><td>Saumur                           </td><td>NA</td><td>Roger Voss       </td><td>@vossroger </td><td>Alliance Loire 2014 Demoiselle Bleue  (Saumur)                                  </td><td>Chenin Blanc   </td><td>Alliance Loire        </td><td>6</td><td>174</td></tr>\n",
       "\t<tr><td>France</td><td>Blossom and citrus notes stream from the glassâ€”there are notes of green pear too. The slender palate boosts these fruit notes with a generous but still dry dosage, while hints of grassy herbs play along the edges. This is frothy, easy and very fresh. Drink soon.                                                                                                             </td><td>Brut                                   </td><td>87</td><td>20</td><td>Alsace      </td><td>CrÃ©mant d'Alsace                </td><td>NA</td><td>Anne KrebiehlÂ MW</td><td>@AnneInVino</td><td>Allimant-Laugner NV Brut Sparkling (CrÃ©mant d'Alsace)                          </td><td>Sparkling Blend</td><td>Allimant-Laugner      </td><td>1</td><td>182</td></tr>\n",
       "\t<tr><td>France</td><td>Lovely and fresh notes of red apple are joined by a livelier tangier citrus note on the nose. The dry palate is very light, almost weightless and fizzes away with a very fine mousse. There is real depth of fruit and a knowingly light touch. It is lovely as an elegant apÃ©ritif but sophisticated enough to be served alongside food. The finish is tart, lasting and grown-up.</td><td>Brut                                   </td><td>91</td><td>20</td><td>Alsace      </td><td>CrÃ©mant d'Alsace                </td><td>NA</td><td>Anne KrebiehlÂ MW</td><td>@AnneInVino</td><td>Allimant-Laugner NV Brut Sparkling (CrÃ©mant d'Alsace)                          </td><td>Sparkling Blend</td><td>Allimant-Laugner      </td><td>1</td><td>182</td></tr>\n",
       "\t<tr><td>France</td><td>This wine has a bright, crisp character that is reminiscent of Chablis. It has refreshing lemon and apple flavors, and it's ready to drink.                                                                                                                                                                                                                                          </td><td>ChÃ¢teau de Mercey                     </td><td>87</td><td>23</td><td>Burgundy    </td><td>Bourgogne Hautes CÃ´tes de Beaune</td><td>NA</td><td>Roger Voss       </td><td>@vossroger </td><td>Antonin Rodet 2010 ChÃ¢teau de Mercey  (Bourgogne Hautes CÃ´tes de Beaune)      </td><td>Chardonnay     </td><td>Antonin Rodet         </td><td>6</td><td>233</td></tr>\n",
       "\t<tr><td>France</td><td>The warmth of the year brings out rich fruits as well as the cool structure of a wine from the Hautes CÃ´tes in the hills behind Beaune. There is acidity, of course, coupled with red berries and an underlying ripeness.                                                                                                                                                           </td><td>ChÃ¢teau de Mercey                     </td><td>86</td><td>22</td><td>Burgundy    </td><td>Bourgogne Hautes CÃ´tes de Beaune</td><td>NA</td><td>Roger Voss       </td><td>@vossroger </td><td>Antonin Rodet 2010 ChÃ¢teau de Mercey  (Bourgogne Hautes CÃ´tes de Beaune)      </td><td>Pinot Noir     </td><td>Antonin Rodet         </td><td>6</td><td>233</td></tr>\n",
       "\t<tr><td>France</td><td>Soft and ripe, this wine has juicy pineapple and pear flavors. And with its tension between richness and steeliness, this could certainly age.                                                                                                                                                                                                                                       </td><td>ChÃ¢teau de Rully CuvÃ©e R. de Ternay  </td><td>90</td><td>30</td><td>Burgundy    </td><td>Rully                            </td><td>NA</td><td>Roger Voss       </td><td>@vossroger </td><td>Antonin Rodet 2010 ChÃ¢teau de Rully CuvÃ©e R. de Ternay  (Rully)               </td><td>Chardonnay     </td><td>Antonin Rodet         </td><td>6</td><td>236</td></tr>\n",
       "\t<tr><td>France</td><td>ChÃ¢teau de Rully is managed by Rodet. It has produced a firm, dark and smoky wine in 2010. It's firm, solid, with an earthy, undergrowth edge. At the same time, its weight and density promise some good aging over at least five years.                                                                                                                                           </td><td>ChÃ¢teau de Rully CuvÃ©e R. de Ternay  </td><td>91</td><td>28</td><td>Burgundy    </td><td>Rully                            </td><td>NA</td><td>Roger Voss       </td><td>@vossroger </td><td>Antonin Rodet 2010 ChÃ¢teau de Rully CuvÃ©e R. de Ternay  (Rully)               </td><td>Pinot Noir     </td><td>Antonin Rodet         </td><td>6</td><td>236</td></tr>\n",
       "\t<tr><td>France</td><td>A totally fresh nose of lemon, wet stone and greengage creates an enticing opening. These flavors also present themselves on the light palate, where they are dispersed by a fine, creamy mousse. The impression is one of light-bodied but fruity cleanness. This refreshing, brisk and enlivening sparkler is ready now, but will continue to develop through 2022.                </td><td>Brut Prestige                          </td><td>91</td><td>18</td><td>Alsace      </td><td>CrÃ©mant d'Alsace                </td><td>NA</td><td>Anne KrebiehlÂ MW</td><td>@AnneInVino</td><td>Arthur Metz NV Brut Prestige Sparkling (CrÃ©mant d'Alsace)                      </td><td>Sparkling Blend</td><td>Arthur Metz           </td><td>1</td><td>261</td></tr>\n",
       "\t<tr><td>France</td><td>Bread and lemon, rather than primary fruit, denotes the scent. The dry and restrained palate is serious and values yeasty autolytic notes above fruit. There is lemon freshness among the yeast and bread flavors and a dry, almost severe finish.                                                                                                                                   </td><td>Brut Prestige                          </td><td>88</td><td>20</td><td>Alsace      </td><td>CrÃ©mant d'Alsace                </td><td>NA</td><td>Anne KrebiehlÂ MW</td><td>@AnneInVino</td><td>Arthur Metz NV Brut Prestige Sparkling (CrÃ©mant d'Alsace)                      </td><td>Sparkling Blend</td><td>Arthur Metz           </td><td>1</td><td>261</td></tr>\n",
       "\t<tr><td>France</td><td>This soft, fruity wine is pretty much ready to drink. With its red-berry fruits and fresh acidity it has a crisp side, although its round, ripe texture is so attractive. Drink from the end of 2016.                                                                                                                                                                                </td><td>Le Charmois Premier Cru                </td><td>88</td><td>40</td><td>Burgundy    </td><td>Saint-Aubin                      </td><td>NA</td><td>Roger Voss       </td><td>@vossroger </td><td>Au Pied du Mont Chauve 2012 Le Charmois Premier Cru  (Saint-Aubin)              </td><td>Pinot Noir     </td><td>Au Pied du Mont Chauve</td><td>6</td><td>267</td></tr>\n",
       "\t<tr><td>France</td><td>This wine is structured, firm and has a mineral, tight texture. It also offers plenty of red apples, green plums and a touch of apricot. However, with its nervy edge the wine needs to age; drink from 2017.                                                                                                                                                                        </td><td>Le Charmois Premier Cru                </td><td>89</td><td>40</td><td>Burgundy    </td><td>Saint-Aubin                      </td><td>NA</td><td>Roger Voss       </td><td>@vossroger </td><td>Au Pied du Mont Chauve 2012 Le Charmois Premier Cru  (Saint-Aubin)              </td><td>Chardonnay     </td><td>Au Pied du Mont Chauve</td><td>6</td><td>267</td></tr>\n",
       "\t<tr><td>France</td><td>This wine is still young, tight and on the crisp acid side. That doesn't mean it won't soften and fill out, although it will probably stay ultrafresh and packed with red-currant flavors for some time. Wait to drink until 2018.                                                                                                                                                   </td><td>Le Charmois Premier Cru                </td><td>89</td><td>40</td><td>Burgundy    </td><td>Saint-Aubin                      </td><td>NA</td><td>Roger Voss       </td><td>@vossroger </td><td>Au Pied du Mont Chauve 2013 Le Charmois Premier Cru  (Saint-Aubin)              </td><td>Pinot Noir     </td><td>Au Pied du Mont Chauve</td><td>6</td><td>275</td></tr>\n",
       "\t<tr><td>France</td><td>Fresh with apple and citrus, this is a perfumed, immediately attractive wine. It has bright acidity, a lightly mineral texture and a tangy, zesty aftertaste. It's young and will age although it is delicious now.                                                                                                                                                                  </td><td>Le Charmois Premier Cru                </td><td>87</td><td>40</td><td>Burgundy    </td><td>Saint-Aubin                      </td><td>NA</td><td>Roger Voss       </td><td>@vossroger </td><td>Au Pied du Mont Chauve 2013 Le Charmois Premier Cru  (Saint-Aubin)              </td><td>Chardonnay     </td><td>Au Pied du Mont Chauve</td><td>6</td><td>275</td></tr>\n",
       "\t<tr><td>France</td><td>Rich, fruity and textured, this expresses freshness with its acidity and red-currant flavors. These cut through the tangy texture, giving a tight aftertaste. The wine can be drunk immediately for its crispness or held until late 2016 to let it soften.                                                                                                                          </td><td>Brut RosÃ© Premier Cru                 </td><td>88</td><td>60</td><td>Champagne   </td><td>Champagne                        </td><td>NA</td><td>Roger Voss       </td><td>@vossroger </td><td>Aubry NV Brut RosÃ© Premier Cru  (Champagne)                                    </td><td>Champagne Blend</td><td>Aubry                 </td><td>6</td><td>283</td></tr>\n",
       "\t<tr><td>France</td><td>This intensely fruity selection is packed with red fruit that overlays its soft, tangy texture. Orange zest and citrus flavors give the right amount of freshness to this ready-to-drink wine.                                                                                                                                                                                       </td><td>Brut RosÃ© Premier Cru                 </td><td>88</td><td>59</td><td>Champagne   </td><td>Champagne                        </td><td>NA</td><td>Roger Voss       </td><td>@vossroger </td><td>Aubry NV Brut RosÃ© Premier Cru  (Champagne)                                    </td><td>Champagne Blend</td><td>Aubry                 </td><td>6</td><td>283</td></tr>\n",
       "\t<tr><td>France</td><td>A crisp, fresh wine that has an edge of raspberry and red berry flavors over a very citrus character. It is dry, tight and structured with cranberries and red currants, the red fruits giving some extra weight.                                                                                                                                                                    </td><td>RosÃ© Majeur Brut                      </td><td>88</td><td>55</td><td>Champagne   </td><td>Champagne                        </td><td>NA</td><td>Roger Voss       </td><td>@vossroger </td><td>Ayala NV RosÃ© Majeur Brut  (Champagne)                                         </td><td>Champagne Blend</td><td>Ayala                 </td><td>6</td><td>297</td></tr>\n",
       "\t<tr><td>...</td><td>...</td><td>...</td><td>...</td><td>...</td><td>...</td><td>...</td><td>...</td><td>...</td><td>...</td><td>...</td><td>...</td><td>...</td><td>...</td><td>...</td></tr>\n",
       "\t<tr><td>France</td><td>Light, creamed apple fruits with a bright line of fresh acidity. The wine is exuberant in its citrus character, just broadened by an underlay of green apples.                                                                                                                                                                                                                                                          </td><td>Buissonnier                    </td><td>84</td><td>15</td><td>Burgundy    </td><td>Bourgogne                 </td><td>NA</td><td>Roger Voss       </td><td>@vossroger </td><td>Vignerons de Buxy 2008 Buissonnier  (Bourgogne)                           </td><td>Chardonnay     </td><td>Vignerons de Buxy            </td><td>6</td><td> 9871</td></tr>\n",
       "\t<tr><td>France</td><td>Nervy and racy, this has crisp acidity and a lively orange-zest texture. It's fruity, with upfront apple and grapefruit flavors, showing just a touch of a minerally character in the background.                                                                                                                                                                                                                       </td><td>Buissonnier                    </td><td>85</td><td>15</td><td>Burgundy    </td><td>CÃ´te Chalonnaise         </td><td>NA</td><td>Roger Voss       </td><td>@vossroger </td><td>Vignerons de Buxy 2010 Buissonnier  (CÃ´te Chalonnaise)                   </td><td>Chardonnay     </td><td>Vignerons de Buxy            </td><td>6</td><td> 9875</td></tr>\n",
       "\t<tr><td>France</td><td>This is light and fruity, with its red fruit upfront. The tannins are balanced, in keeping with the wine's perfumed nature. The youthful acidity on the finish is likely to soften out in a year.                                                                                                                                                                                                                       </td><td>Buissonnier                    </td><td>85</td><td>16</td><td>Burgundy    </td><td>CÃ´te Chalonnaise         </td><td>NA</td><td>Roger Voss       </td><td>@vossroger </td><td>Vignerons de Buxy 2010 Buissonnier  (CÃ´te Chalonnaise)                   </td><td>Pinot Noir     </td><td>Vignerons de Buxy            </td><td>6</td><td> 9875</td></tr>\n",
       "\t<tr><td>France</td><td>This attractive, lightly honeyed wine has apple and fresh pear flavors. Fresh, fruity and crisp, it finishes with a youthful lift that suggests it will be better from mid-2016.                                                                                                                                                                                                                                        </td><td>Buissonnier                    </td><td>86</td><td>18</td><td>Burgundy    </td><td>CÃ´te Chalonnaise         </td><td>NA</td><td>Roger Voss       </td><td>@vossroger </td><td>Vignerons de Buxy 2013 Buissonnier  (CÃ´te Chalonnaise)                   </td><td>Chardonnay     </td><td>Vignerons de Buxy            </td><td>6</td><td> 9888</td></tr>\n",
       "\t<tr><td>France</td><td>This light and fruity wine has acidity sustaining the red-cherry flavors. It has a dry core along with really juicy flavors and soft tannins. Drink now, although the wine will be even fruitier from 2016.                                                                                                                                                                                                             </td><td>Buissonnier                    </td><td>86</td><td>19</td><td>Burgundy    </td><td>CÃ´te Chalonnaise         </td><td>NA</td><td>Roger Voss       </td><td>@vossroger </td><td>Vignerons de Buxy 2013 Buissonnier  (CÃ´te Chalonnaise)                   </td><td>Pinot Noir     </td><td>Vignerons de Buxy            </td><td>6</td><td> 9888</td></tr>\n",
       "\t<tr><td>France</td><td>This is an open delicious wine, full of red-cherry and red-currant fruit with a touch of minerality to add texture. Some wood aging has smoothed out the crisp fruit and added vanilla to the mix. Drink this ripe wine from 2018.                                                                                                                                                                                      </td><td>Buissonnier                    </td><td>87</td><td>20</td><td>Burgundy    </td><td>CÃ´te Chalonnaise         </td><td>NA</td><td>Roger Voss       </td><td>@vossroger </td><td>Vignerons de Buxy 2015 Buissonnier  (CÃ´te Chalonnaise)                   </td><td>Pinot Noir     </td><td>Vignerons de Buxy            </td><td>6</td><td> 9898</td></tr>\n",
       "\t<tr><td>France</td><td>This is a light, crisp and fruity wine. Full of ripe green plums and crisp acidity, it is a wine that is all fruit. A light touch of minerality gives texture and complements the refreshing, floral aftertaste. Drink this wine now.                                                                                                                                                                                   </td><td>Buissonnier                    </td><td>86</td><td>14</td><td>Burgundy    </td><td>CÃ´te Chalonnaise         </td><td>NA</td><td>Roger Voss       </td><td>@vossroger </td><td>Vignerons de Buxy 2015 Buissonnier  (CÃ´te Chalonnaise)                   </td><td>Chardonnay     </td><td>Vignerons de Buxy            </td><td>6</td><td> 9898</td></tr>\n",
       "\t<tr><td>France</td><td>This soft wine features attractive citrus and creamed-apple flavors. It is round, full, lightly spicy and presents an easy, immediately drinkable character.                                                                                                                                                                                                                                                            </td><td>Salamandre d'Or                </td><td>86</td><td>15</td><td>Burgundy    </td><td>Coteaux Bourguignons      </td><td>NA</td><td>Roger Voss       </td><td>@vossroger </td><td>Vignerons des Pierres DorÃ©es 2015 Salamandre d'Or  (Coteaux Bourguignons)</td><td>Chardonnay     </td><td>Vignerons des Pierres DorÃ©es</td><td>6</td><td> 9925</td></tr>\n",
       "\t<tr><td>France</td><td>From the area known as Pierres DorÃ©es because of the gold-colored stone used in buildings, this wine is soft and fruity. It carries a touch of tannin along with red-cherry crispness. The wine is ready to drink.                                                                                                                                                                                                     </td><td>Salamandre d'Or                </td><td>86</td><td>15</td><td>Burgundy    </td><td>Coteaux Bourguignons      </td><td>NA</td><td>Roger Voss       </td><td>@vossroger </td><td>Vignerons des Pierres DorÃ©es 2015 Salamandre d'Or  (Coteaux Bourguignons)</td><td>Gamay          </td><td>Vignerons des Pierres DorÃ©es</td><td>6</td><td> 9925</td></tr>\n",
       "\t<tr><td>France</td><td>This is brilliantly fruity, very crisp and fragrant, with delicious spice, perfumed red fruits and lively acidity. It's very dry, with a fresh aftertaste.                                                                                                                                                                                                                                                              </td><td>Quintessence                   </td><td>87</td><td>17</td><td>Loire Valley</td><td>Saint-Nicolas-de-Bourgueil</td><td>NA</td><td>Roger Voss       </td><td>@vossroger </td><td>Vignoble de la Jarnoterie 2013 Quintessence  (Saint-Nicolas-de-Bourgueil) </td><td>RosÃ©          </td><td>Vignoble de la Jarnoterie    </td><td>6</td><td> 9948</td></tr>\n",
       "\t<tr><td>France</td><td>This structured wine is bold with its tannins and dry cherry-pit flavor. It is dense, its stalky acidity and red-plum flavors backed by a dry core. It's a concentrated wine that needs to age, so drink from 2017.                                                                                                                                                                                                     </td><td>Quintessence                   </td><td>90</td><td>15</td><td>Loire Valley</td><td>Saint-Nicolas-de-Bourgueil</td><td>NA</td><td>Roger Voss       </td><td>@vossroger </td><td>Vignoble de la Jarnoterie 2013 Quintessence  (Saint-Nicolas-de-Bourgueil) </td><td>Cabernet Franc </td><td>Vignoble de la Jarnoterie    </td><td>6</td><td> 9948</td></tr>\n",
       "\t<tr><td>France</td><td>Crisp, mineral and tight, this is still a young bottling. It is dry, full of citrus-fruit flavors and with a fine burst of acidity that cuts through the wine. Let this delicious wine settle for a few more months to add more fruit to the texture. Drink from late 2018.                                                                                                                                             </td><td>Blanc de Blancs Brut           </td><td>91</td><td>40</td><td>Champagne   </td><td>Champagne                 </td><td>NA</td><td>Roger Voss       </td><td>@vossroger </td><td>Vollereaux NV Blanc de Blancs Brut Chardonnay (Champagne)                 </td><td>Chardonnay     </td><td>Vollereaux                   </td><td>6</td><td>10116</td></tr>\n",
       "\t<tr><td>France</td><td>This ripe Chardonnay has a significant amount of reserve wine from older vintages in the blend. It is on the dry side of Brut, with a mineral, steely texture. That is balanced by the maturity of this bottling, giving hints of toast and ripe, sliced apple flavors.                                                                                                                                                 </td><td>Blanc de Blancs Brut           </td><td>91</td><td>40</td><td>Champagne   </td><td>Champagne                 </td><td>NA</td><td>Roger Voss       </td><td>@vossroger </td><td>Vollereaux NV Blanc de Blancs Brut Chardonnay (Champagne)                 </td><td>Chardonnay     </td><td>Vollereaux                   </td><td>6</td><td>10116</td></tr>\n",
       "\t<tr><td>France</td><td>The blend of delightfully crisp wine is based around three years of reserve wines. It is creamy, with just a hint of toastiness. The acidity and ripe apple combine well with this touch of bottle age to give a wine that is ready to drink.                                                                                                                                                                           </td><td>Blanc de Blancs Brut           </td><td>91</td><td>37</td><td>Champagne   </td><td>Champagne                 </td><td>NA</td><td>Roger Voss       </td><td>@vossroger </td><td>Vollereaux NV Blanc de Blancs Brut Chardonnay (Champagne)                 </td><td>Chardonnay     </td><td>Vollereaux                   </td><td>6</td><td>10116</td></tr>\n",
       "\t<tr><td>France</td><td>Attractively perfumed, this is a fruity, fresh wine that is full of apple and crisp citrus flavors and a soft texture. Its relatively high dosage adds a hint of sweetness.                                                                                                                                                                                                                                             </td><td>Brut RÃ©serve                  </td><td>86</td><td>34</td><td>Champagne   </td><td>Champagne                 </td><td>NA</td><td>Roger Voss       </td><td>@vossroger </td><td>Vollereaux NV Brut RÃ©serve  (Champagne)                                  </td><td>Champagne Blend</td><td>Vollereaux                   </td><td>6</td><td>10117</td></tr>\n",
       "\t<tr><td>France</td><td>Soft and creamy, this floral wine also has an attractive touch of toastiness suggesting it has bottle age. Its green-plum and citrus flavors contribute to the crispness of this balanced wine. Drink now.                                                                                                                                                                                                              </td><td>Brut RÃ©serve                  </td><td>88</td><td>35</td><td>Champagne   </td><td>Champagne                 </td><td>NA</td><td>Roger Voss       </td><td>@vossroger </td><td>Vollereaux NV Brut RÃ©serve  (Champagne)                                  </td><td>Champagne Blend</td><td>Vollereaux                   </td><td>6</td><td>10117</td></tr>\n",
       "\t<tr><td>France</td><td>An equal blend of Pinot Noir, Chardonnay and Pinot Meunier, this is the producer's nonvintage cuvÃ©e, soft and ripe. Balanced and crisp, it has attractive acidity under the light texture and tangy lemon-zest flavor. The bottling is ready to drink.                                                                                                                                                                 </td><td>Brut RÃ©serve                  </td><td>88</td><td>35</td><td>Champagne   </td><td>Champagne                 </td><td>NA</td><td>Roger Voss       </td><td>@vossroger </td><td>Vollereaux NV Brut RÃ©serve  (Champagne)                                  </td><td>Champagne Blend</td><td>Vollereaux                   </td><td>6</td><td>10117</td></tr>\n",
       "\t<tr><td>France</td><td>This ripe, soft wine is well balanced and offers attractive fruitiness. The creamy mousse and acidity bring richness and a fresh character. With its finely judged dosage, not too dry, not too sweet, the wine is very ready to drink.                                                                                                                                                                                 </td><td>Brut RÃ©serve                  </td><td>88</td><td>35</td><td>Champagne   </td><td>Champagne                 </td><td>NA</td><td>Roger Voss       </td><td>@vossroger </td><td>Vollereaux NV Brut RÃ©serve  (Champagne)                                  </td><td>Champagne Blend</td><td>Vollereaux                   </td><td>6</td><td>10117</td></tr>\n",
       "\t<tr><td>France</td><td>This is an unusual rosÃ© for Champagne. It is made 100% from Pinot Noir rather than a blend. And it is made by getting color directly from the fermenting grapes rather than the normal Champagne process of adding red wine. The result is a dark-colored rosÃ© that has a tannic structure as well as red fruits. It is rich and concentrated with ripeness rather than great freshness. It is definitely a food wine.</td><td>Brut RosÃ© de SaignÃ©e         </td><td>87</td><td>40</td><td>Champagne   </td><td>Champagne                 </td><td>NA</td><td>Roger Voss       </td><td>@vossroger </td><td>Vollereaux NV Brut RosÃ© de SaignÃ©e Pinot Noir (Champagne)               </td><td>Pinot Noir     </td><td>Vollereaux                   </td><td>6</td><td>10119</td></tr>\n",
       "\t<tr><td>France</td><td>Most rosÃ© Champagnes get their color by the addition of red wine. This wine gets its hue from the skins of red grapes macerating before fermentation. It has a deep pink color and a lightly tannic character, making for a rich wine flavored with red currants and finished with acidity.                                                                                                                            </td><td>Brut RosÃ© de SaignÃ©e         </td><td>88</td><td>40</td><td>Champagne   </td><td>Champagne                 </td><td>NA</td><td>Roger Voss       </td><td>@vossroger </td><td>Vollereaux NV Brut RosÃ© de SaignÃ©e Pinot Noir (Champagne)               </td><td>Pinot Noir     </td><td>Vollereaux                   </td><td>6</td><td>10119</td></tr>\n",
       "\t<tr><td>France</td><td>Orange-pink color on this soft, ripe rosÃ©. The balance is better than in past years, with acidity cutting the red fruits. Light-bodied with a good texture.                                                                                                                                                                                                                                                            </td><td>Demoiselle RosÃ© Brut          </td><td>89</td><td>50</td><td>Champagne   </td><td>Champagne                 </td><td>NA</td><td>Roger Voss       </td><td>@vossroger </td><td>Vranken NV Demoiselle RosÃ© Brut  (Champagne)                             </td><td>Champagne Blend</td><td>Vranken                      </td><td>6</td><td>10130</td></tr>\n",
       "\t<tr><td>France</td><td>While it is certainly on the sweet side, this bottling, with its lively mousse and strawberry flavors, is a definite step up from previous tastings. It has weight but also freshness.                                                                                                                                                                                                                                  </td><td>Demoiselle RosÃ© Brut          </td><td>88</td><td>55</td><td>Champagne   </td><td>Champagne                 </td><td>NA</td><td>Roger Voss       </td><td>@vossroger </td><td>Vranken NV Demoiselle RosÃ© Brut  (Champagne)                             </td><td>Champagne Blend</td><td>Vranken                      </td><td>6</td><td>10130</td></tr>\n",
       "\t<tr><td>France</td><td>A balanced wine, with softness that indicates a relatively high dosage. There is no complexity, but the wine is light, creamy, flavored with green plums and kiwi, just edged with bitterness.                                                                                                                                                                                                                          </td><td>Demoiselle TÃªte de CuvÃ©e Brut</td><td>85</td><td>40</td><td>Champagne   </td><td>Champagne                 </td><td>NA</td><td>Roger Voss       </td><td>@vossroger </td><td>Vranken NV Demoiselle TÃªte de CuvÃ©e Brut  (Champagne)                   </td><td>Champagne Blend</td><td>Vranken                      </td><td>6</td><td>10131</td></tr>\n",
       "\t<tr><td>France</td><td>The style of this creamy wine seems to have become drier, giving a steely tight character to go with the apple and citrus flavors. The result is attractive, very fresh, ready to drink.                                                                                                                                                                                                                                </td><td>Demoiselle TÃªte de CuvÃ©e Brut</td><td>90</td><td>40</td><td>Champagne   </td><td>Champagne                 </td><td>NA</td><td>Roger Voss       </td><td>@vossroger </td><td>Vranken NV Demoiselle TÃªte de CuvÃ©e Brut  (Champagne)                   </td><td>Champagne Blend</td><td>Vranken                      </td><td>6</td><td>10131</td></tr>\n",
       "\t<tr><td>France</td><td>Vranken's releases seem to be bucking the trend towards drier Champagnes. This wine is soft and obviously the dosage is high. It is balanced and the fresh creamed apple flavors and light texture all work well together. It is in a light style, ready to drink.                                                                                                                                                      </td><td>Diamant Brut                   </td><td>87</td><td>53</td><td>Champagne   </td><td>Champagne                 </td><td>NA</td><td>Roger Voss       </td><td>@vossroger </td><td>Vranken NV Diamant Brut  (Champagne)                                      </td><td>Champagne Blend</td><td>Vranken                      </td><td>6</td><td>10132</td></tr>\n",
       "\t<tr><td>France</td><td>For those who like their non-vintage with some bottle age, this is a fine wine. While it has lost its early freshness, it certainly has gained in complexity, offering ripe, soft, toasty flavors to add to the green plum fruits and acidity.                                                                                                                                                                          </td><td>Diamant Brut                   </td><td>89</td><td>50</td><td>Champagne   </td><td>Champagne                 </td><td>NA</td><td>Roger Voss       </td><td>@vossroger </td><td>Vranken NV Diamant Brut  (Champagne)                                      </td><td>Champagne Blend</td><td>Vranken                      </td><td>6</td><td>10132</td></tr>\n",
       "\t<tr><td>France</td><td>Attractive, best-selling CrÃ©mant d'Alsace, with its crisp apple and almond flavors to go with the acidity. It is lively, well-balanced, a great value in sparkling wines.                                                                                                                                                                                                                                              </td><td>Brut                           </td><td>88</td><td>22</td><td>Alsace      </td><td>CrÃ©mant d'Alsace         </td><td>NA</td><td>Roger Voss       </td><td>@vossroger </td><td>Wolfberger NV Brut Sparkling (CrÃ©mant d'Alsace)                          </td><td>Sparkling Blend</td><td>Wolfberger                   </td><td>6</td><td>10230</td></tr>\n",
       "\t<tr><td>France</td><td>This is a really fruity, really refreshing sparkling wine. It boasts apple, citrus and a touch of apricot flavors, as well as tight acidity. It is fragrant, pure and clean, and very fresh on the finish.                                                                                                                                                                                                              </td><td>Brut                           </td><td>88</td><td>22</td><td>Alsace      </td><td>CrÃ©mant d'Alsace         </td><td>NA</td><td>Roger Voss       </td><td>@vossroger </td><td>Wolfberger NV Brut Sparkling (CrÃ©mant d'Alsace)                          </td><td>Sparkling Blend</td><td>Wolfberger                   </td><td>6</td><td>10230</td></tr>\n",
       "\t<tr><td>France</td><td>Lovely notes of Golden Pearmain apple perfume the nose, with hints of soy sauce. The body and palate are luminous showing green apple freshness that come across as light, graceful and authentic. There is something honest and fresh-faced about this wine that is rather disarming. This is a very beautiful, classy crÃ©mant made from a blend of Riesling and Auxerrois.                                           </td><td>Clos Liebenberg                </td><td>93</td><td>58</td><td>Alsace      </td><td>CrÃ©mant d'Alsace         </td><td>NA</td><td>Anne KrebiehlÂ MW</td><td>@AnneInVino</td><td>Zusslin 2012 Clos Liebenberg Sparkling (CrÃ©mant d'Alsace)                </td><td>Sparkling Blend</td><td>Zusslin                      </td><td>1</td><td>10304</td></tr>\n",
       "\t<tr><td>France</td><td>Exquisitely fragrant notes of ripe, aromatic apples rise from the glass: tart, fruity and fresh in equal measure. The palate shows both evolved autolysis by way of soy-spiced breadiness and even more fruit in the way of bruised, tart apple notes of great purity. The finish is long and full of flavor, complex, nuanced and resolutely dry.                                                                      </td><td>Clos Liebenberg                </td><td>93</td><td>57</td><td>Alsace      </td><td>CrÃ©mant d'Alsace         </td><td>NA</td><td>Anne KrebiehlÂ MW</td><td>@AnneInVino</td><td>Zusslin 2012 Clos Liebenberg Sparkling (CrÃ©mant d'Alsace)                </td><td>Sparkling Blend</td><td>Zusslin                      </td><td>1</td><td>10304</td></tr>\n",
       "</tbody>\n",
       "</table>\n"
      ],
      "text/latex": [
       "A grouped_df: 584 × 15\n",
       "\\begin{tabular}{r|lllllllllllllll}\n",
       " country & description & designation & points & price & province & region\\_1 & region\\_2 & taster\\_name & taster\\_twitter\\_handle & title & variety & winery & tasterID & wineID\\\\\n",
       " <fct> & <chr> & <chr> & <int> & <dbl> & <chr> & <chr> & <chr> & <fct> & <fct> & <chr> & <fct> & <fct> & <int> & <int>\\\\\n",
       "\\hline\n",
       "\t France & Bone dry and crisp, this is also has fruitiness from the ripeness of the grapes, giving impressively rich apple and pear flavors. Of course, these are cut by tight acidity and intense citrus, leaving a tight, steely aftertaste.                                                                                                                                                   & Dosage ZÃ©ro Brut Nature                & 89 & 49 & Champagne    & Champagne                         & NA & Roger Voss        & @vossroger  & A.R. LenobleÂ  NV Dosage ZÃ©ro Brut Nature  (Champagne)                          & Champagne Blend & A.R. LenobleÂ          & 6 &  14\\\\\n",
       "\t France & This tight crisp wine delivers citrus and sliced apple fruits. There is a brisk mousse that gives the wine quite a bite of acidity. All the elements point in the direction of food for this Champagne. Like many bone-dry Champagnes, this bottling needs to age, so drink from 2018.                                                                                                & Dosage ZÃ©ro Brut Nature                & 90 & 49 & Champagne    & Champagne                         & NA & Roger Voss        & @vossroger  & A.R. LenobleÂ  NV Dosage ZÃ©ro Brut Nature  (Champagne)                          & Champagne Blend & A.R. LenobleÂ          & 6 &  14\\\\\n",
       "\t France & With zero grams of residual sugar, this is wine is as dry as it gets, relying on the ripe fruit to balance the intense acidity. Crisp apple and tight acidity dominate. Like many zero-dosage Champagnes it needs to age, so hold this bottle for two years.                                                                                                                          & Dosage ZÃ©ro Brut Nature                & 90 & 49 & Champagne    & Champagne                         & NA & Roger Voss        & @vossroger  & A.R. LenobleÂ  NV Dosage ZÃ©ro Brut Nature  (Champagne)                          & Champagne Blend & A.R. LenobleÂ          & 6 &  14\\\\\n",
       "\t France & The wine comes from the Grand Cru village of Chouilly in the Chardonnay vineyards of the CÃ´te des Blancs. It is crisp, mineral textured and still developing. Bright acidity and lemon-zest flavors give this wine its lively and also full-bodied character. Drink from 2018.                                                                                                       & Grand Cru Blanc de Blancs Chouilly Brut & 92 & 54 & Champagne    & Champagne                         & NA & Roger Voss        & @vossroger  & A.R. LenobleÂ  NV Grand Cru Blanc de Blancs Chouilly Brut Chardonnay (Champagne) & Chardonnay      & A.R. LenobleÂ          & 6 &  15\\\\\n",
       "\t France & This is a very lively wine with a creamy mousse. The wine is towards dry, bringing out great white and citrus fruit flavors with a burst of tangy acidity. It comes from the village of Chouilly in the CÃ´te des Blancs, which gives the wine a tight mineral texture at the end.                                                                                                    & Grand Cru Blanc de Blancs Chouilly Brut & 91 & 54 & Champagne    & Champagne                         & NA & Roger Voss        & @vossroger  & A.R. LenobleÂ  NV Grand Cru Blanc de Blancs Chouilly Brut Chardonnay (Champagne) & Chardonnay      & A.R. LenobleÂ          & 6 &  15\\\\\n",
       "\t France & A quarter of this nonvintage blend was vinified in wood. That adds some extra richness to the already ripe fruit. Based on the 2013 vintage, the wine is full of pear, crisp apple and hints of apricot. Drink now.                                                                                                                                                                   & Intense Brut                            & 90 & 45 & Champagne    & Champagne                         & NA & Roger Voss        & @vossroger  & A.R. LenobleÂ  NV Intense Brut  (Champagne)                                      & Champagne Blend & A.R. LenobleÂ          & 6 &  16\\\\\n",
       "\t France & With vineyards in the Marne Valley, this Champagne house has produced a ripe, soft style. Based on grapes from the 2011 harvest, it is still young, although the acidity is softening to bring in ripe apple and green-plum flavors. An underlying ripe fruit character makes it extra attractive.                                                                                    & Intense Brut                            & 89 & 45 & Champagne    & Champagne                         & NA & Roger Voss        & @vossroger  & A.R. LenobleÂ  NV Intense Brut  (Champagne)                                      & Champagne Blend & A.R. LenobleÂ          & 6 &  16\\\\\n",
       "\t France & Intense is a good description of this tightly textured and mineral-driven wine. Its fruit is subdued by the steely, tense character, although there are attractive hints of crisp apple and citrus acidity. The bottling is young and will repay several months aging after purchase.                                                                                                 & Intense Brut                            & 90 & 45 & Champagne    & Champagne                         & NA & Roger Voss        & @vossroger  & A.R. LenobleÂ  NV Intense Brut  (Champagne)                                      & Champagne Blend & A.R. LenobleÂ          & 6 &  16\\\\\n",
       "\t France & This beautifully crisp and fresh wine has great red-berry acidity. Tight and textured, it is dry while balancing fruit and the more steely edge. The bottling is young, so could be aged for six months from purchase, although it is also refreshing to drink immediately.                                                                                                           & Terroirs Brut RosÃ©                     & 91 & 59 & Champagne    & Champagne                         & NA & Roger Voss        & @vossroger  & A.R. LenobleÂ  NV Terroirs Brut RosÃ©  (Champagne)                               & Champagne Blend & A.R. LenobleÂ          & 6 &  17\\\\\n",
       "\t France & With some attractive bottle age, this pale rosÃ© is warm and rich. Spice contrasts with crisp red fruits and acidity. The wine is ready to drink.                                                                                                                                                                                                                                     & Terroirs Brut RosÃ©                     & 87 & 59 & Champagne    & Champagne                         & NA & Roger Voss        & @vossroger  & A.R. LenobleÂ  NV Terroirs Brut RosÃ©  (Champagne)                               & Champagne Blend & A.R. LenobleÂ          & 6 &  17\\\\\n",
       "\t France & The base of this wine is Chardonnay with some Pinot Noir added to give color (standard practice in Champagne). The result is a pale-colored wine that's ripe and full of fruit. It has a rich character lifted by the tight, mineral acidity in the aftertaste.                                                                                                                       & Terroirs Brut RosÃ©                     & 91 & 59 & Champagne    & Champagne                         & NA & Roger Voss        & @vossroger  & A.R. LenobleÂ  NV Terroirs Brut RosÃ©  (Champagne)                               & Champagne Blend & A.R. LenobleÂ          & 6 &  17\\\\\n",
       "\t France & As with all this producer's wines, the first fermentation iof this bottling was in wood, adding richness and smoothing out the fruit to give a warm, round character. The acidity is still tight and crisp, with citrus and apple flavors shot through with minerality. Drink now.                                                                                                    & Brut                                    & 90 & 50 & Champagne    & Champagne                         & NA & Roger Voss        & @vossroger  & Alfred Gratien NV Brut  (Champagne)                                              & Champagne Blend & Alfred Gratien         & 6 & 167\\\\\n",
       "\t France & A dry, tight style of wine, with fresh grapefruit and lime flavors. It could do with some bottle age to allow the fruit to shed some of its intense acidity.                                                                                                                                                                                                                          & Brut                                    & 87 & 69 & Champagne    & Champagne                         & NA & Roger Voss        & @vossroger  & Alfred Gratien NV Brut  (Champagne)                                              & Champagne Blend & Alfred Gratien         & 6 & 167\\\\\n",
       "\t France & This stalky, smoky wine has red currant fruits and a tight texture. The fruit is just ripe, light in character with very fresh acidity. Some more depth would have been good. Drink now.                                                                                                                                                                                              & Demoiselle Bleue                        & 84 & 15 & Loire Valley & Saumur                            & NA & Roger Voss        & @vossroger  & Alliance Loire 2014 Demoiselle Bleue  (Saumur)                                   & Cabernet Franc  & Alliance Loire         & 6 & 174\\\\\n",
       "\t France & Peach and pear flavors entwine with intense, youthful acidity in this bone-dry wine. It is taut and still developing fuller, fruity character. Very fresh, it needs time; drink from 2016.                                                                                                                                                                                            & Demoiselle Bleue                        & 86 & 15 & Loire Valley & Saumur                            & NA & Roger Voss        & @vossroger  & Alliance Loire 2014 Demoiselle Bleue  (Saumur)                                   & Chenin Blanc    & Alliance Loire         & 6 & 174\\\\\n",
       "\t France & Blossom and citrus notes stream from the glassâ€”there are notes of green pear too. The slender palate boosts these fruit notes with a generous but still dry dosage, while hints of grassy herbs play along the edges. This is frothy, easy and very fresh. Drink soon.                                                                                                              & Brut                                    & 87 & 20 & Alsace       & CrÃ©mant d'Alsace                 & NA & Anne KrebiehlÂ MW & @AnneInVino & Allimant-Laugner NV Brut Sparkling (CrÃ©mant d'Alsace)                           & Sparkling Blend & Allimant-Laugner       & 1 & 182\\\\\n",
       "\t France & Lovely and fresh notes of red apple are joined by a livelier tangier citrus note on the nose. The dry palate is very light, almost weightless and fizzes away with a very fine mousse. There is real depth of fruit and a knowingly light touch. It is lovely as an elegant apÃ©ritif but sophisticated enough to be served alongside food. The finish is tart, lasting and grown-up. & Brut                                    & 91 & 20 & Alsace       & CrÃ©mant d'Alsace                 & NA & Anne KrebiehlÂ MW & @AnneInVino & Allimant-Laugner NV Brut Sparkling (CrÃ©mant d'Alsace)                           & Sparkling Blend & Allimant-Laugner       & 1 & 182\\\\\n",
       "\t France & This wine has a bright, crisp character that is reminiscent of Chablis. It has refreshing lemon and apple flavors, and it's ready to drink.                                                                                                                                                                                                                                           & ChÃ¢teau de Mercey                      & 87 & 23 & Burgundy     & Bourgogne Hautes CÃ´tes de Beaune & NA & Roger Voss        & @vossroger  & Antonin Rodet 2010 ChÃ¢teau de Mercey  (Bourgogne Hautes CÃ´tes de Beaune)       & Chardonnay      & Antonin Rodet          & 6 & 233\\\\\n",
       "\t France & The warmth of the year brings out rich fruits as well as the cool structure of a wine from the Hautes CÃ´tes in the hills behind Beaune. There is acidity, of course, coupled with red berries and an underlying ripeness.                                                                                                                                                            & ChÃ¢teau de Mercey                      & 86 & 22 & Burgundy     & Bourgogne Hautes CÃ´tes de Beaune & NA & Roger Voss        & @vossroger  & Antonin Rodet 2010 ChÃ¢teau de Mercey  (Bourgogne Hautes CÃ´tes de Beaune)       & Pinot Noir      & Antonin Rodet          & 6 & 233\\\\\n",
       "\t France & Soft and ripe, this wine has juicy pineapple and pear flavors. And with its tension between richness and steeliness, this could certainly age.                                                                                                                                                                                                                                        & ChÃ¢teau de Rully CuvÃ©e R. de Ternay   & 90 & 30 & Burgundy     & Rully                             & NA & Roger Voss        & @vossroger  & Antonin Rodet 2010 ChÃ¢teau de Rully CuvÃ©e R. de Ternay  (Rully)                & Chardonnay      & Antonin Rodet          & 6 & 236\\\\\n",
       "\t France & ChÃ¢teau de Rully is managed by Rodet. It has produced a firm, dark and smoky wine in 2010. It's firm, solid, with an earthy, undergrowth edge. At the same time, its weight and density promise some good aging over at least five years.                                                                                                                                            & ChÃ¢teau de Rully CuvÃ©e R. de Ternay   & 91 & 28 & Burgundy     & Rully                             & NA & Roger Voss        & @vossroger  & Antonin Rodet 2010 ChÃ¢teau de Rully CuvÃ©e R. de Ternay  (Rully)                & Pinot Noir      & Antonin Rodet          & 6 & 236\\\\\n",
       "\t France & A totally fresh nose of lemon, wet stone and greengage creates an enticing opening. These flavors also present themselves on the light palate, where they are dispersed by a fine, creamy mousse. The impression is one of light-bodied but fruity cleanness. This refreshing, brisk and enlivening sparkler is ready now, but will continue to develop through 2022.                 & Brut Prestige                           & 91 & 18 & Alsace       & CrÃ©mant d'Alsace                 & NA & Anne KrebiehlÂ MW & @AnneInVino & Arthur Metz NV Brut Prestige Sparkling (CrÃ©mant d'Alsace)                       & Sparkling Blend & Arthur Metz            & 1 & 261\\\\\n",
       "\t France & Bread and lemon, rather than primary fruit, denotes the scent. The dry and restrained palate is serious and values yeasty autolytic notes above fruit. There is lemon freshness among the yeast and bread flavors and a dry, almost severe finish.                                                                                                                                    & Brut Prestige                           & 88 & 20 & Alsace       & CrÃ©mant d'Alsace                 & NA & Anne KrebiehlÂ MW & @AnneInVino & Arthur Metz NV Brut Prestige Sparkling (CrÃ©mant d'Alsace)                       & Sparkling Blend & Arthur Metz            & 1 & 261\\\\\n",
       "\t France & This soft, fruity wine is pretty much ready to drink. With its red-berry fruits and fresh acidity it has a crisp side, although its round, ripe texture is so attractive. Drink from the end of 2016.                                                                                                                                                                                 & Le Charmois Premier Cru                 & 88 & 40 & Burgundy     & Saint-Aubin                       & NA & Roger Voss        & @vossroger  & Au Pied du Mont Chauve 2012 Le Charmois Premier Cru  (Saint-Aubin)               & Pinot Noir      & Au Pied du Mont Chauve & 6 & 267\\\\\n",
       "\t France & This wine is structured, firm and has a mineral, tight texture. It also offers plenty of red apples, green plums and a touch of apricot. However, with its nervy edge the wine needs to age; drink from 2017.                                                                                                                                                                         & Le Charmois Premier Cru                 & 89 & 40 & Burgundy     & Saint-Aubin                       & NA & Roger Voss        & @vossroger  & Au Pied du Mont Chauve 2012 Le Charmois Premier Cru  (Saint-Aubin)               & Chardonnay      & Au Pied du Mont Chauve & 6 & 267\\\\\n",
       "\t France & This wine is still young, tight and on the crisp acid side. That doesn't mean it won't soften and fill out, although it will probably stay ultrafresh and packed with red-currant flavors for some time. Wait to drink until 2018.                                                                                                                                                    & Le Charmois Premier Cru                 & 89 & 40 & Burgundy     & Saint-Aubin                       & NA & Roger Voss        & @vossroger  & Au Pied du Mont Chauve 2013 Le Charmois Premier Cru  (Saint-Aubin)               & Pinot Noir      & Au Pied du Mont Chauve & 6 & 275\\\\\n",
       "\t France & Fresh with apple and citrus, this is a perfumed, immediately attractive wine. It has bright acidity, a lightly mineral texture and a tangy, zesty aftertaste. It's young and will age although it is delicious now.                                                                                                                                                                   & Le Charmois Premier Cru                 & 87 & 40 & Burgundy     & Saint-Aubin                       & NA & Roger Voss        & @vossroger  & Au Pied du Mont Chauve 2013 Le Charmois Premier Cru  (Saint-Aubin)               & Chardonnay      & Au Pied du Mont Chauve & 6 & 275\\\\\n",
       "\t France & Rich, fruity and textured, this expresses freshness with its acidity and red-currant flavors. These cut through the tangy texture, giving a tight aftertaste. The wine can be drunk immediately for its crispness or held until late 2016 to let it soften.                                                                                                                           & Brut RosÃ© Premier Cru                  & 88 & 60 & Champagne    & Champagne                         & NA & Roger Voss        & @vossroger  & Aubry NV Brut RosÃ© Premier Cru  (Champagne)                                     & Champagne Blend & Aubry                  & 6 & 283\\\\\n",
       "\t France & This intensely fruity selection is packed with red fruit that overlays its soft, tangy texture. Orange zest and citrus flavors give the right amount of freshness to this ready-to-drink wine.                                                                                                                                                                                        & Brut RosÃ© Premier Cru                  & 88 & 59 & Champagne    & Champagne                         & NA & Roger Voss        & @vossroger  & Aubry NV Brut RosÃ© Premier Cru  (Champagne)                                     & Champagne Blend & Aubry                  & 6 & 283\\\\\n",
       "\t France & A crisp, fresh wine that has an edge of raspberry and red berry flavors over a very citrus character. It is dry, tight and structured with cranberries and red currants, the red fruits giving some extra weight.                                                                                                                                                                     & RosÃ© Majeur Brut                       & 88 & 55 & Champagne    & Champagne                         & NA & Roger Voss        & @vossroger  & Ayala NV RosÃ© Majeur Brut  (Champagne)                                          & Champagne Blend & Ayala                  & 6 & 297\\\\\n",
       "\t ... & ... & ... & ... & ... & ... & ... & ... & ... & ... & ... & ... & ... & ... & ...\\\\\n",
       "\t France & Light, creamed apple fruits with a bright line of fresh acidity. The wine is exuberant in its citrus character, just broadened by an underlay of green apples.                                                                                                                                                                                                                                                           & Buissonnier                     & 84 & 15 & Burgundy     & Bourgogne                  & NA & Roger Voss        & @vossroger  & Vignerons de Buxy 2008 Buissonnier  (Bourgogne)                            & Chardonnay      & Vignerons de Buxy             & 6 &  9871\\\\\n",
       "\t France & Nervy and racy, this has crisp acidity and a lively orange-zest texture. It's fruity, with upfront apple and grapefruit flavors, showing just a touch of a minerally character in the background.                                                                                                                                                                                                                        & Buissonnier                     & 85 & 15 & Burgundy     & CÃ´te Chalonnaise          & NA & Roger Voss        & @vossroger  & Vignerons de Buxy 2010 Buissonnier  (CÃ´te Chalonnaise)                    & Chardonnay      & Vignerons de Buxy             & 6 &  9875\\\\\n",
       "\t France & This is light and fruity, with its red fruit upfront. The tannins are balanced, in keeping with the wine's perfumed nature. The youthful acidity on the finish is likely to soften out in a year.                                                                                                                                                                                                                        & Buissonnier                     & 85 & 16 & Burgundy     & CÃ´te Chalonnaise          & NA & Roger Voss        & @vossroger  & Vignerons de Buxy 2010 Buissonnier  (CÃ´te Chalonnaise)                    & Pinot Noir      & Vignerons de Buxy             & 6 &  9875\\\\\n",
       "\t France & This attractive, lightly honeyed wine has apple and fresh pear flavors. Fresh, fruity and crisp, it finishes with a youthful lift that suggests it will be better from mid-2016.                                                                                                                                                                                                                                         & Buissonnier                     & 86 & 18 & Burgundy     & CÃ´te Chalonnaise          & NA & Roger Voss        & @vossroger  & Vignerons de Buxy 2013 Buissonnier  (CÃ´te Chalonnaise)                    & Chardonnay      & Vignerons de Buxy             & 6 &  9888\\\\\n",
       "\t France & This light and fruity wine has acidity sustaining the red-cherry flavors. It has a dry core along with really juicy flavors and soft tannins. Drink now, although the wine will be even fruitier from 2016.                                                                                                                                                                                                              & Buissonnier                     & 86 & 19 & Burgundy     & CÃ´te Chalonnaise          & NA & Roger Voss        & @vossroger  & Vignerons de Buxy 2013 Buissonnier  (CÃ´te Chalonnaise)                    & Pinot Noir      & Vignerons de Buxy             & 6 &  9888\\\\\n",
       "\t France & This is an open delicious wine, full of red-cherry and red-currant fruit with a touch of minerality to add texture. Some wood aging has smoothed out the crisp fruit and added vanilla to the mix. Drink this ripe wine from 2018.                                                                                                                                                                                       & Buissonnier                     & 87 & 20 & Burgundy     & CÃ´te Chalonnaise          & NA & Roger Voss        & @vossroger  & Vignerons de Buxy 2015 Buissonnier  (CÃ´te Chalonnaise)                    & Pinot Noir      & Vignerons de Buxy             & 6 &  9898\\\\\n",
       "\t France & This is a light, crisp and fruity wine. Full of ripe green plums and crisp acidity, it is a wine that is all fruit. A light touch of minerality gives texture and complements the refreshing, floral aftertaste. Drink this wine now.                                                                                                                                                                                    & Buissonnier                     & 86 & 14 & Burgundy     & CÃ´te Chalonnaise          & NA & Roger Voss        & @vossroger  & Vignerons de Buxy 2015 Buissonnier  (CÃ´te Chalonnaise)                    & Chardonnay      & Vignerons de Buxy             & 6 &  9898\\\\\n",
       "\t France & This soft wine features attractive citrus and creamed-apple flavors. It is round, full, lightly spicy and presents an easy, immediately drinkable character.                                                                                                                                                                                                                                                             & Salamandre d'Or                 & 86 & 15 & Burgundy     & Coteaux Bourguignons       & NA & Roger Voss        & @vossroger  & Vignerons des Pierres DorÃ©es 2015 Salamandre d'Or  (Coteaux Bourguignons) & Chardonnay      & Vignerons des Pierres DorÃ©es & 6 &  9925\\\\\n",
       "\t France & From the area known as Pierres DorÃ©es because of the gold-colored stone used in buildings, this wine is soft and fruity. It carries a touch of tannin along with red-cherry crispness. The wine is ready to drink.                                                                                                                                                                                                      & Salamandre d'Or                 & 86 & 15 & Burgundy     & Coteaux Bourguignons       & NA & Roger Voss        & @vossroger  & Vignerons des Pierres DorÃ©es 2015 Salamandre d'Or  (Coteaux Bourguignons) & Gamay           & Vignerons des Pierres DorÃ©es & 6 &  9925\\\\\n",
       "\t France & This is brilliantly fruity, very crisp and fragrant, with delicious spice, perfumed red fruits and lively acidity. It's very dry, with a fresh aftertaste.                                                                                                                                                                                                                                                               & Quintessence                    & 87 & 17 & Loire Valley & Saint-Nicolas-de-Bourgueil & NA & Roger Voss        & @vossroger  & Vignoble de la Jarnoterie 2013 Quintessence  (Saint-Nicolas-de-Bourgueil)  & RosÃ©           & Vignoble de la Jarnoterie     & 6 &  9948\\\\\n",
       "\t France & This structured wine is bold with its tannins and dry cherry-pit flavor. It is dense, its stalky acidity and red-plum flavors backed by a dry core. It's a concentrated wine that needs to age, so drink from 2017.                                                                                                                                                                                                      & Quintessence                    & 90 & 15 & Loire Valley & Saint-Nicolas-de-Bourgueil & NA & Roger Voss        & @vossroger  & Vignoble de la Jarnoterie 2013 Quintessence  (Saint-Nicolas-de-Bourgueil)  & Cabernet Franc  & Vignoble de la Jarnoterie     & 6 &  9948\\\\\n",
       "\t France & Crisp, mineral and tight, this is still a young bottling. It is dry, full of citrus-fruit flavors and with a fine burst of acidity that cuts through the wine. Let this delicious wine settle for a few more months to add more fruit to the texture. Drink from late 2018.                                                                                                                                              & Blanc de Blancs Brut            & 91 & 40 & Champagne    & Champagne                  & NA & Roger Voss        & @vossroger  & Vollereaux NV Blanc de Blancs Brut Chardonnay (Champagne)                  & Chardonnay      & Vollereaux                    & 6 & 10116\\\\\n",
       "\t France & This ripe Chardonnay has a significant amount of reserve wine from older vintages in the blend. It is on the dry side of Brut, with a mineral, steely texture. That is balanced by the maturity of this bottling, giving hints of toast and ripe, sliced apple flavors.                                                                                                                                                  & Blanc de Blancs Brut            & 91 & 40 & Champagne    & Champagne                  & NA & Roger Voss        & @vossroger  & Vollereaux NV Blanc de Blancs Brut Chardonnay (Champagne)                  & Chardonnay      & Vollereaux                    & 6 & 10116\\\\\n",
       "\t France & The blend of delightfully crisp wine is based around three years of reserve wines. It is creamy, with just a hint of toastiness. The acidity and ripe apple combine well with this touch of bottle age to give a wine that is ready to drink.                                                                                                                                                                            & Blanc de Blancs Brut            & 91 & 37 & Champagne    & Champagne                  & NA & Roger Voss        & @vossroger  & Vollereaux NV Blanc de Blancs Brut Chardonnay (Champagne)                  & Chardonnay      & Vollereaux                    & 6 & 10116\\\\\n",
       "\t France & Attractively perfumed, this is a fruity, fresh wine that is full of apple and crisp citrus flavors and a soft texture. Its relatively high dosage adds a hint of sweetness.                                                                                                                                                                                                                                              & Brut RÃ©serve                   & 86 & 34 & Champagne    & Champagne                  & NA & Roger Voss        & @vossroger  & Vollereaux NV Brut RÃ©serve  (Champagne)                                   & Champagne Blend & Vollereaux                    & 6 & 10117\\\\\n",
       "\t France & Soft and creamy, this floral wine also has an attractive touch of toastiness suggesting it has bottle age. Its green-plum and citrus flavors contribute to the crispness of this balanced wine. Drink now.                                                                                                                                                                                                               & Brut RÃ©serve                   & 88 & 35 & Champagne    & Champagne                  & NA & Roger Voss        & @vossroger  & Vollereaux NV Brut RÃ©serve  (Champagne)                                   & Champagne Blend & Vollereaux                    & 6 & 10117\\\\\n",
       "\t France & An equal blend of Pinot Noir, Chardonnay and Pinot Meunier, this is the producer's nonvintage cuvÃ©e, soft and ripe. Balanced and crisp, it has attractive acidity under the light texture and tangy lemon-zest flavor. The bottling is ready to drink.                                                                                                                                                                  & Brut RÃ©serve                   & 88 & 35 & Champagne    & Champagne                  & NA & Roger Voss        & @vossroger  & Vollereaux NV Brut RÃ©serve  (Champagne)                                   & Champagne Blend & Vollereaux                    & 6 & 10117\\\\\n",
       "\t France & This ripe, soft wine is well balanced and offers attractive fruitiness. The creamy mousse and acidity bring richness and a fresh character. With its finely judged dosage, not too dry, not too sweet, the wine is very ready to drink.                                                                                                                                                                                  & Brut RÃ©serve                   & 88 & 35 & Champagne    & Champagne                  & NA & Roger Voss        & @vossroger  & Vollereaux NV Brut RÃ©serve  (Champagne)                                   & Champagne Blend & Vollereaux                    & 6 & 10117\\\\\n",
       "\t France & This is an unusual rosÃ© for Champagne. It is made 100\\% from Pinot Noir rather than a blend. And it is made by getting color directly from the fermenting grapes rather than the normal Champagne process of adding red wine. The result is a dark-colored rosÃ© that has a tannic structure as well as red fruits. It is rich and concentrated with ripeness rather than great freshness. It is definitely a food wine. & Brut RosÃ© de SaignÃ©e          & 87 & 40 & Champagne    & Champagne                  & NA & Roger Voss        & @vossroger  & Vollereaux NV Brut RosÃ© de SaignÃ©e Pinot Noir (Champagne)                & Pinot Noir      & Vollereaux                    & 6 & 10119\\\\\n",
       "\t France & Most rosÃ© Champagnes get their color by the addition of red wine. This wine gets its hue from the skins of red grapes macerating before fermentation. It has a deep pink color and a lightly tannic character, making for a rich wine flavored with red currants and finished with acidity.                                                                                                                             & Brut RosÃ© de SaignÃ©e          & 88 & 40 & Champagne    & Champagne                  & NA & Roger Voss        & @vossroger  & Vollereaux NV Brut RosÃ© de SaignÃ©e Pinot Noir (Champagne)                & Pinot Noir      & Vollereaux                    & 6 & 10119\\\\\n",
       "\t France & Orange-pink color on this soft, ripe rosÃ©. The balance is better than in past years, with acidity cutting the red fruits. Light-bodied with a good texture.                                                                                                                                                                                                                                                             & Demoiselle RosÃ© Brut           & 89 & 50 & Champagne    & Champagne                  & NA & Roger Voss        & @vossroger  & Vranken NV Demoiselle RosÃ© Brut  (Champagne)                              & Champagne Blend & Vranken                       & 6 & 10130\\\\\n",
       "\t France & While it is certainly on the sweet side, this bottling, with its lively mousse and strawberry flavors, is a definite step up from previous tastings. It has weight but also freshness.                                                                                                                                                                                                                                   & Demoiselle RosÃ© Brut           & 88 & 55 & Champagne    & Champagne                  & NA & Roger Voss        & @vossroger  & Vranken NV Demoiselle RosÃ© Brut  (Champagne)                              & Champagne Blend & Vranken                       & 6 & 10130\\\\\n",
       "\t France & A balanced wine, with softness that indicates a relatively high dosage. There is no complexity, but the wine is light, creamy, flavored with green plums and kiwi, just edged with bitterness.                                                                                                                                                                                                                           & Demoiselle TÃªte de CuvÃ©e Brut & 85 & 40 & Champagne    & Champagne                  & NA & Roger Voss        & @vossroger  & Vranken NV Demoiselle TÃªte de CuvÃ©e Brut  (Champagne)                    & Champagne Blend & Vranken                       & 6 & 10131\\\\\n",
       "\t France & The style of this creamy wine seems to have become drier, giving a steely tight character to go with the apple and citrus flavors. The result is attractive, very fresh, ready to drink.                                                                                                                                                                                                                                 & Demoiselle TÃªte de CuvÃ©e Brut & 90 & 40 & Champagne    & Champagne                  & NA & Roger Voss        & @vossroger  & Vranken NV Demoiselle TÃªte de CuvÃ©e Brut  (Champagne)                    & Champagne Blend & Vranken                       & 6 & 10131\\\\\n",
       "\t France & Vranken's releases seem to be bucking the trend towards drier Champagnes. This wine is soft and obviously the dosage is high. It is balanced and the fresh creamed apple flavors and light texture all work well together. It is in a light style, ready to drink.                                                                                                                                                       & Diamant Brut                    & 87 & 53 & Champagne    & Champagne                  & NA & Roger Voss        & @vossroger  & Vranken NV Diamant Brut  (Champagne)                                       & Champagne Blend & Vranken                       & 6 & 10132\\\\\n",
       "\t France & For those who like their non-vintage with some bottle age, this is a fine wine. While it has lost its early freshness, it certainly has gained in complexity, offering ripe, soft, toasty flavors to add to the green plum fruits and acidity.                                                                                                                                                                           & Diamant Brut                    & 89 & 50 & Champagne    & Champagne                  & NA & Roger Voss        & @vossroger  & Vranken NV Diamant Brut  (Champagne)                                       & Champagne Blend & Vranken                       & 6 & 10132\\\\\n",
       "\t France & Attractive, best-selling CrÃ©mant d'Alsace, with its crisp apple and almond flavors to go with the acidity. It is lively, well-balanced, a great value in sparkling wines.                                                                                                                                                                                                                                               & Brut                            & 88 & 22 & Alsace       & CrÃ©mant d'Alsace          & NA & Roger Voss        & @vossroger  & Wolfberger NV Brut Sparkling (CrÃ©mant d'Alsace)                           & Sparkling Blend & Wolfberger                    & 6 & 10230\\\\\n",
       "\t France & This is a really fruity, really refreshing sparkling wine. It boasts apple, citrus and a touch of apricot flavors, as well as tight acidity. It is fragrant, pure and clean, and very fresh on the finish.                                                                                                                                                                                                               & Brut                            & 88 & 22 & Alsace       & CrÃ©mant d'Alsace          & NA & Roger Voss        & @vossroger  & Wolfberger NV Brut Sparkling (CrÃ©mant d'Alsace)                           & Sparkling Blend & Wolfberger                    & 6 & 10230\\\\\n",
       "\t France & Lovely notes of Golden Pearmain apple perfume the nose, with hints of soy sauce. The body and palate are luminous showing green apple freshness that come across as light, graceful and authentic. There is something honest and fresh-faced about this wine that is rather disarming. This is a very beautiful, classy crÃ©mant made from a blend of Riesling and Auxerrois.                                            & Clos Liebenberg                 & 93 & 58 & Alsace       & CrÃ©mant d'Alsace          & NA & Anne KrebiehlÂ MW & @AnneInVino & Zusslin 2012 Clos Liebenberg Sparkling (CrÃ©mant d'Alsace)                 & Sparkling Blend & Zusslin                       & 1 & 10304\\\\\n",
       "\t France & Exquisitely fragrant notes of ripe, aromatic apples rise from the glass: tart, fruity and fresh in equal measure. The palate shows both evolved autolysis by way of soy-spiced breadiness and even more fruit in the way of bruised, tart apple notes of great purity. The finish is long and full of flavor, complex, nuanced and resolutely dry.                                                                       & Clos Liebenberg                 & 93 & 57 & Alsace       & CrÃ©mant d'Alsace          & NA & Anne KrebiehlÂ MW & @AnneInVino & Zusslin 2012 Clos Liebenberg Sparkling (CrÃ©mant d'Alsace)                 & Sparkling Blend & Zusslin                       & 1 & 10304\\\\\n",
       "\\end{tabular}\n"
      ],
      "text/markdown": [
       "\n",
       "A grouped_df: 584 × 15\n",
       "\n",
       "| country &lt;fct&gt; | description &lt;chr&gt; | designation &lt;chr&gt; | points &lt;int&gt; | price &lt;dbl&gt; | province &lt;chr&gt; | region_1 &lt;chr&gt; | region_2 &lt;chr&gt; | taster_name &lt;fct&gt; | taster_twitter_handle &lt;fct&gt; | title &lt;chr&gt; | variety &lt;fct&gt; | winery &lt;fct&gt; | tasterID &lt;int&gt; | wineID &lt;int&gt; |\n",
       "|---|---|---|---|---|---|---|---|---|---|---|---|---|---|---|\n",
       "| France | Bone dry and crisp, this is also has fruitiness from the ripeness of the grapes, giving impressively rich apple and pear flavors. Of course, these are cut by tight acidity and intense citrus, leaving a tight, steely aftertaste.                                                                                                                                                   | Dosage ZÃ©ro Brut Nature                | 89 | 49 | Champagne    | Champagne                         | NA | Roger Voss        | @vossroger  | A.R. LenobleÂ  NV Dosage ZÃ©ro Brut Nature  (Champagne)                          | Champagne Blend | A.R. LenobleÂ          | 6 |  14 |\n",
       "| France | This tight crisp wine delivers citrus and sliced apple fruits. There is a brisk mousse that gives the wine quite a bite of acidity. All the elements point in the direction of food for this Champagne. Like many bone-dry Champagnes, this bottling needs to age, so drink from 2018.                                                                                                | Dosage ZÃ©ro Brut Nature                | 90 | 49 | Champagne    | Champagne                         | NA | Roger Voss        | @vossroger  | A.R. LenobleÂ  NV Dosage ZÃ©ro Brut Nature  (Champagne)                          | Champagne Blend | A.R. LenobleÂ          | 6 |  14 |\n",
       "| France | With zero grams of residual sugar, this is wine is as dry as it gets, relying on the ripe fruit to balance the intense acidity. Crisp apple and tight acidity dominate. Like many zero-dosage Champagnes it needs to age, so hold this bottle for two years.                                                                                                                          | Dosage ZÃ©ro Brut Nature                | 90 | 49 | Champagne    | Champagne                         | NA | Roger Voss        | @vossroger  | A.R. LenobleÂ  NV Dosage ZÃ©ro Brut Nature  (Champagne)                          | Champagne Blend | A.R. LenobleÂ          | 6 |  14 |\n",
       "| France | The wine comes from the Grand Cru village of Chouilly in the Chardonnay vineyards of the CÃ´te des Blancs. It is crisp, mineral textured and still developing. Bright acidity and lemon-zest flavors give this wine its lively and also full-bodied character. Drink from 2018.                                                                                                       | Grand Cru Blanc de Blancs Chouilly Brut | 92 | 54 | Champagne    | Champagne                         | NA | Roger Voss        | @vossroger  | A.R. LenobleÂ  NV Grand Cru Blanc de Blancs Chouilly Brut Chardonnay (Champagne) | Chardonnay      | A.R. LenobleÂ          | 6 |  15 |\n",
       "| France | This is a very lively wine with a creamy mousse. The wine is towards dry, bringing out great white and citrus fruit flavors with a burst of tangy acidity. It comes from the village of Chouilly in the CÃ´te des Blancs, which gives the wine a tight mineral texture at the end.                                                                                                    | Grand Cru Blanc de Blancs Chouilly Brut | 91 | 54 | Champagne    | Champagne                         | NA | Roger Voss        | @vossroger  | A.R. LenobleÂ  NV Grand Cru Blanc de Blancs Chouilly Brut Chardonnay (Champagne) | Chardonnay      | A.R. LenobleÂ          | 6 |  15 |\n",
       "| France | A quarter of this nonvintage blend was vinified in wood. That adds some extra richness to the already ripe fruit. Based on the 2013 vintage, the wine is full of pear, crisp apple and hints of apricot. Drink now.                                                                                                                                                                   | Intense Brut                            | 90 | 45 | Champagne    | Champagne                         | NA | Roger Voss        | @vossroger  | A.R. LenobleÂ  NV Intense Brut  (Champagne)                                      | Champagne Blend | A.R. LenobleÂ          | 6 |  16 |\n",
       "| France | With vineyards in the Marne Valley, this Champagne house has produced a ripe, soft style. Based on grapes from the 2011 harvest, it is still young, although the acidity is softening to bring in ripe apple and green-plum flavors. An underlying ripe fruit character makes it extra attractive.                                                                                    | Intense Brut                            | 89 | 45 | Champagne    | Champagne                         | NA | Roger Voss        | @vossroger  | A.R. LenobleÂ  NV Intense Brut  (Champagne)                                      | Champagne Blend | A.R. LenobleÂ          | 6 |  16 |\n",
       "| France | Intense is a good description of this tightly textured and mineral-driven wine. Its fruit is subdued by the steely, tense character, although there are attractive hints of crisp apple and citrus acidity. The bottling is young and will repay several months aging after purchase.                                                                                                 | Intense Brut                            | 90 | 45 | Champagne    | Champagne                         | NA | Roger Voss        | @vossroger  | A.R. LenobleÂ  NV Intense Brut  (Champagne)                                      | Champagne Blend | A.R. LenobleÂ          | 6 |  16 |\n",
       "| France | This beautifully crisp and fresh wine has great red-berry acidity. Tight and textured, it is dry while balancing fruit and the more steely edge. The bottling is young, so could be aged for six months from purchase, although it is also refreshing to drink immediately.                                                                                                           | Terroirs Brut RosÃ©                     | 91 | 59 | Champagne    | Champagne                         | NA | Roger Voss        | @vossroger  | A.R. LenobleÂ  NV Terroirs Brut RosÃ©  (Champagne)                               | Champagne Blend | A.R. LenobleÂ          | 6 |  17 |\n",
       "| France | With some attractive bottle age, this pale rosÃ© is warm and rich. Spice contrasts with crisp red fruits and acidity. The wine is ready to drink.                                                                                                                                                                                                                                     | Terroirs Brut RosÃ©                     | 87 | 59 | Champagne    | Champagne                         | NA | Roger Voss        | @vossroger  | A.R. LenobleÂ  NV Terroirs Brut RosÃ©  (Champagne)                               | Champagne Blend | A.R. LenobleÂ          | 6 |  17 |\n",
       "| France | The base of this wine is Chardonnay with some Pinot Noir added to give color (standard practice in Champagne). The result is a pale-colored wine that's ripe and full of fruit. It has a rich character lifted by the tight, mineral acidity in the aftertaste.                                                                                                                       | Terroirs Brut RosÃ©                     | 91 | 59 | Champagne    | Champagne                         | NA | Roger Voss        | @vossroger  | A.R. LenobleÂ  NV Terroirs Brut RosÃ©  (Champagne)                               | Champagne Blend | A.R. LenobleÂ          | 6 |  17 |\n",
       "| France | As with all this producer's wines, the first fermentation iof this bottling was in wood, adding richness and smoothing out the fruit to give a warm, round character. The acidity is still tight and crisp, with citrus and apple flavors shot through with minerality. Drink now.                                                                                                    | Brut                                    | 90 | 50 | Champagne    | Champagne                         | NA | Roger Voss        | @vossroger  | Alfred Gratien NV Brut  (Champagne)                                              | Champagne Blend | Alfred Gratien         | 6 | 167 |\n",
       "| France | A dry, tight style of wine, with fresh grapefruit and lime flavors. It could do with some bottle age to allow the fruit to shed some of its intense acidity.                                                                                                                                                                                                                          | Brut                                    | 87 | 69 | Champagne    | Champagne                         | NA | Roger Voss        | @vossroger  | Alfred Gratien NV Brut  (Champagne)                                              | Champagne Blend | Alfred Gratien         | 6 | 167 |\n",
       "| France | This stalky, smoky wine has red currant fruits and a tight texture. The fruit is just ripe, light in character with very fresh acidity. Some more depth would have been good. Drink now.                                                                                                                                                                                              | Demoiselle Bleue                        | 84 | 15 | Loire Valley | Saumur                            | NA | Roger Voss        | @vossroger  | Alliance Loire 2014 Demoiselle Bleue  (Saumur)                                   | Cabernet Franc  | Alliance Loire         | 6 | 174 |\n",
       "| France | Peach and pear flavors entwine with intense, youthful acidity in this bone-dry wine. It is taut and still developing fuller, fruity character. Very fresh, it needs time; drink from 2016.                                                                                                                                                                                            | Demoiselle Bleue                        | 86 | 15 | Loire Valley | Saumur                            | NA | Roger Voss        | @vossroger  | Alliance Loire 2014 Demoiselle Bleue  (Saumur)                                   | Chenin Blanc    | Alliance Loire         | 6 | 174 |\n",
       "| France | Blossom and citrus notes stream from the glassâ€”there are notes of green pear too. The slender palate boosts these fruit notes with a generous but still dry dosage, while hints of grassy herbs play along the edges. This is frothy, easy and very fresh. Drink soon.                                                                                                              | Brut                                    | 87 | 20 | Alsace       | CrÃ©mant d'Alsace                 | NA | Anne KrebiehlÂ MW | @AnneInVino | Allimant-Laugner NV Brut Sparkling (CrÃ©mant d'Alsace)                           | Sparkling Blend | Allimant-Laugner       | 1 | 182 |\n",
       "| France | Lovely and fresh notes of red apple are joined by a livelier tangier citrus note on the nose. The dry palate is very light, almost weightless and fizzes away with a very fine mousse. There is real depth of fruit and a knowingly light touch. It is lovely as an elegant apÃ©ritif but sophisticated enough to be served alongside food. The finish is tart, lasting and grown-up. | Brut                                    | 91 | 20 | Alsace       | CrÃ©mant d'Alsace                 | NA | Anne KrebiehlÂ MW | @AnneInVino | Allimant-Laugner NV Brut Sparkling (CrÃ©mant d'Alsace)                           | Sparkling Blend | Allimant-Laugner       | 1 | 182 |\n",
       "| France | This wine has a bright, crisp character that is reminiscent of Chablis. It has refreshing lemon and apple flavors, and it's ready to drink.                                                                                                                                                                                                                                           | ChÃ¢teau de Mercey                      | 87 | 23 | Burgundy     | Bourgogne Hautes CÃ´tes de Beaune | NA | Roger Voss        | @vossroger  | Antonin Rodet 2010 ChÃ¢teau de Mercey  (Bourgogne Hautes CÃ´tes de Beaune)       | Chardonnay      | Antonin Rodet          | 6 | 233 |\n",
       "| France | The warmth of the year brings out rich fruits as well as the cool structure of a wine from the Hautes CÃ´tes in the hills behind Beaune. There is acidity, of course, coupled with red berries and an underlying ripeness.                                                                                                                                                            | ChÃ¢teau de Mercey                      | 86 | 22 | Burgundy     | Bourgogne Hautes CÃ´tes de Beaune | NA | Roger Voss        | @vossroger  | Antonin Rodet 2010 ChÃ¢teau de Mercey  (Bourgogne Hautes CÃ´tes de Beaune)       | Pinot Noir      | Antonin Rodet          | 6 | 233 |\n",
       "| France | Soft and ripe, this wine has juicy pineapple and pear flavors. And with its tension between richness and steeliness, this could certainly age.                                                                                                                                                                                                                                        | ChÃ¢teau de Rully CuvÃ©e R. de Ternay   | 90 | 30 | Burgundy     | Rully                             | NA | Roger Voss        | @vossroger  | Antonin Rodet 2010 ChÃ¢teau de Rully CuvÃ©e R. de Ternay  (Rully)                | Chardonnay      | Antonin Rodet          | 6 | 236 |\n",
       "| France | ChÃ¢teau de Rully is managed by Rodet. It has produced a firm, dark and smoky wine in 2010. It's firm, solid, with an earthy, undergrowth edge. At the same time, its weight and density promise some good aging over at least five years.                                                                                                                                            | ChÃ¢teau de Rully CuvÃ©e R. de Ternay   | 91 | 28 | Burgundy     | Rully                             | NA | Roger Voss        | @vossroger  | Antonin Rodet 2010 ChÃ¢teau de Rully CuvÃ©e R. de Ternay  (Rully)                | Pinot Noir      | Antonin Rodet          | 6 | 236 |\n",
       "| France | A totally fresh nose of lemon, wet stone and greengage creates an enticing opening. These flavors also present themselves on the light palate, where they are dispersed by a fine, creamy mousse. The impression is one of light-bodied but fruity cleanness. This refreshing, brisk and enlivening sparkler is ready now, but will continue to develop through 2022.                 | Brut Prestige                           | 91 | 18 | Alsace       | CrÃ©mant d'Alsace                 | NA | Anne KrebiehlÂ MW | @AnneInVino | Arthur Metz NV Brut Prestige Sparkling (CrÃ©mant d'Alsace)                       | Sparkling Blend | Arthur Metz            | 1 | 261 |\n",
       "| France | Bread and lemon, rather than primary fruit, denotes the scent. The dry and restrained palate is serious and values yeasty autolytic notes above fruit. There is lemon freshness among the yeast and bread flavors and a dry, almost severe finish.                                                                                                                                    | Brut Prestige                           | 88 | 20 | Alsace       | CrÃ©mant d'Alsace                 | NA | Anne KrebiehlÂ MW | @AnneInVino | Arthur Metz NV Brut Prestige Sparkling (CrÃ©mant d'Alsace)                       | Sparkling Blend | Arthur Metz            | 1 | 261 |\n",
       "| France | This soft, fruity wine is pretty much ready to drink. With its red-berry fruits and fresh acidity it has a crisp side, although its round, ripe texture is so attractive. Drink from the end of 2016.                                                                                                                                                                                 | Le Charmois Premier Cru                 | 88 | 40 | Burgundy     | Saint-Aubin                       | NA | Roger Voss        | @vossroger  | Au Pied du Mont Chauve 2012 Le Charmois Premier Cru  (Saint-Aubin)               | Pinot Noir      | Au Pied du Mont Chauve | 6 | 267 |\n",
       "| France | This wine is structured, firm and has a mineral, tight texture. It also offers plenty of red apples, green plums and a touch of apricot. However, with its nervy edge the wine needs to age; drink from 2017.                                                                                                                                                                         | Le Charmois Premier Cru                 | 89 | 40 | Burgundy     | Saint-Aubin                       | NA | Roger Voss        | @vossroger  | Au Pied du Mont Chauve 2012 Le Charmois Premier Cru  (Saint-Aubin)               | Chardonnay      | Au Pied du Mont Chauve | 6 | 267 |\n",
       "| France | This wine is still young, tight and on the crisp acid side. That doesn't mean it won't soften and fill out, although it will probably stay ultrafresh and packed with red-currant flavors for some time. Wait to drink until 2018.                                                                                                                                                    | Le Charmois Premier Cru                 | 89 | 40 | Burgundy     | Saint-Aubin                       | NA | Roger Voss        | @vossroger  | Au Pied du Mont Chauve 2013 Le Charmois Premier Cru  (Saint-Aubin)               | Pinot Noir      | Au Pied du Mont Chauve | 6 | 275 |\n",
       "| France | Fresh with apple and citrus, this is a perfumed, immediately attractive wine. It has bright acidity, a lightly mineral texture and a tangy, zesty aftertaste. It's young and will age although it is delicious now.                                                                                                                                                                   | Le Charmois Premier Cru                 | 87 | 40 | Burgundy     | Saint-Aubin                       | NA | Roger Voss        | @vossroger  | Au Pied du Mont Chauve 2013 Le Charmois Premier Cru  (Saint-Aubin)               | Chardonnay      | Au Pied du Mont Chauve | 6 | 275 |\n",
       "| France | Rich, fruity and textured, this expresses freshness with its acidity and red-currant flavors. These cut through the tangy texture, giving a tight aftertaste. The wine can be drunk immediately for its crispness or held until late 2016 to let it soften.                                                                                                                           | Brut RosÃ© Premier Cru                  | 88 | 60 | Champagne    | Champagne                         | NA | Roger Voss        | @vossroger  | Aubry NV Brut RosÃ© Premier Cru  (Champagne)                                     | Champagne Blend | Aubry                  | 6 | 283 |\n",
       "| France | This intensely fruity selection is packed with red fruit that overlays its soft, tangy texture. Orange zest and citrus flavors give the right amount of freshness to this ready-to-drink wine.                                                                                                                                                                                        | Brut RosÃ© Premier Cru                  | 88 | 59 | Champagne    | Champagne                         | NA | Roger Voss        | @vossroger  | Aubry NV Brut RosÃ© Premier Cru  (Champagne)                                     | Champagne Blend | Aubry                  | 6 | 283 |\n",
       "| France | A crisp, fresh wine that has an edge of raspberry and red berry flavors over a very citrus character. It is dry, tight and structured with cranberries and red currants, the red fruits giving some extra weight.                                                                                                                                                                     | RosÃ© Majeur Brut                       | 88 | 55 | Champagne    | Champagne                         | NA | Roger Voss        | @vossroger  | Ayala NV RosÃ© Majeur Brut  (Champagne)                                          | Champagne Blend | Ayala                  | 6 | 297 |\n",
       "| ... | ... | ... | ... | ... | ... | ... | ... | ... | ... | ... | ... | ... | ... | ... |\n",
       "| France | Light, creamed apple fruits with a bright line of fresh acidity. The wine is exuberant in its citrus character, just broadened by an underlay of green apples.                                                                                                                                                                                                                                                           | Buissonnier                     | 84 | 15 | Burgundy     | Bourgogne                  | NA | Roger Voss        | @vossroger  | Vignerons de Buxy 2008 Buissonnier  (Bourgogne)                            | Chardonnay      | Vignerons de Buxy             | 6 |  9871 |\n",
       "| France | Nervy and racy, this has crisp acidity and a lively orange-zest texture. It's fruity, with upfront apple and grapefruit flavors, showing just a touch of a minerally character in the background.                                                                                                                                                                                                                        | Buissonnier                     | 85 | 15 | Burgundy     | CÃ´te Chalonnaise          | NA | Roger Voss        | @vossroger  | Vignerons de Buxy 2010 Buissonnier  (CÃ´te Chalonnaise)                    | Chardonnay      | Vignerons de Buxy             | 6 |  9875 |\n",
       "| France | This is light and fruity, with its red fruit upfront. The tannins are balanced, in keeping with the wine's perfumed nature. The youthful acidity on the finish is likely to soften out in a year.                                                                                                                                                                                                                        | Buissonnier                     | 85 | 16 | Burgundy     | CÃ´te Chalonnaise          | NA | Roger Voss        | @vossroger  | Vignerons de Buxy 2010 Buissonnier  (CÃ´te Chalonnaise)                    | Pinot Noir      | Vignerons de Buxy             | 6 |  9875 |\n",
       "| France | This attractive, lightly honeyed wine has apple and fresh pear flavors. Fresh, fruity and crisp, it finishes with a youthful lift that suggests it will be better from mid-2016.                                                                                                                                                                                                                                         | Buissonnier                     | 86 | 18 | Burgundy     | CÃ´te Chalonnaise          | NA | Roger Voss        | @vossroger  | Vignerons de Buxy 2013 Buissonnier  (CÃ´te Chalonnaise)                    | Chardonnay      | Vignerons de Buxy             | 6 |  9888 |\n",
       "| France | This light and fruity wine has acidity sustaining the red-cherry flavors. It has a dry core along with really juicy flavors and soft tannins. Drink now, although the wine will be even fruitier from 2016.                                                                                                                                                                                                              | Buissonnier                     | 86 | 19 | Burgundy     | CÃ´te Chalonnaise          | NA | Roger Voss        | @vossroger  | Vignerons de Buxy 2013 Buissonnier  (CÃ´te Chalonnaise)                    | Pinot Noir      | Vignerons de Buxy             | 6 |  9888 |\n",
       "| France | This is an open delicious wine, full of red-cherry and red-currant fruit with a touch of minerality to add texture. Some wood aging has smoothed out the crisp fruit and added vanilla to the mix. Drink this ripe wine from 2018.                                                                                                                                                                                       | Buissonnier                     | 87 | 20 | Burgundy     | CÃ´te Chalonnaise          | NA | Roger Voss        | @vossroger  | Vignerons de Buxy 2015 Buissonnier  (CÃ´te Chalonnaise)                    | Pinot Noir      | Vignerons de Buxy             | 6 |  9898 |\n",
       "| France | This is a light, crisp and fruity wine. Full of ripe green plums and crisp acidity, it is a wine that is all fruit. A light touch of minerality gives texture and complements the refreshing, floral aftertaste. Drink this wine now.                                                                                                                                                                                    | Buissonnier                     | 86 | 14 | Burgundy     | CÃ´te Chalonnaise          | NA | Roger Voss        | @vossroger  | Vignerons de Buxy 2015 Buissonnier  (CÃ´te Chalonnaise)                    | Chardonnay      | Vignerons de Buxy             | 6 |  9898 |\n",
       "| France | This soft wine features attractive citrus and creamed-apple flavors. It is round, full, lightly spicy and presents an easy, immediately drinkable character.                                                                                                                                                                                                                                                             | Salamandre d'Or                 | 86 | 15 | Burgundy     | Coteaux Bourguignons       | NA | Roger Voss        | @vossroger  | Vignerons des Pierres DorÃ©es 2015 Salamandre d'Or  (Coteaux Bourguignons) | Chardonnay      | Vignerons des Pierres DorÃ©es | 6 |  9925 |\n",
       "| France | From the area known as Pierres DorÃ©es because of the gold-colored stone used in buildings, this wine is soft and fruity. It carries a touch of tannin along with red-cherry crispness. The wine is ready to drink.                                                                                                                                                                                                      | Salamandre d'Or                 | 86 | 15 | Burgundy     | Coteaux Bourguignons       | NA | Roger Voss        | @vossroger  | Vignerons des Pierres DorÃ©es 2015 Salamandre d'Or  (Coteaux Bourguignons) | Gamay           | Vignerons des Pierres DorÃ©es | 6 |  9925 |\n",
       "| France | This is brilliantly fruity, very crisp and fragrant, with delicious spice, perfumed red fruits and lively acidity. It's very dry, with a fresh aftertaste.                                                                                                                                                                                                                                                               | Quintessence                    | 87 | 17 | Loire Valley | Saint-Nicolas-de-Bourgueil | NA | Roger Voss        | @vossroger  | Vignoble de la Jarnoterie 2013 Quintessence  (Saint-Nicolas-de-Bourgueil)  | RosÃ©           | Vignoble de la Jarnoterie     | 6 |  9948 |\n",
       "| France | This structured wine is bold with its tannins and dry cherry-pit flavor. It is dense, its stalky acidity and red-plum flavors backed by a dry core. It's a concentrated wine that needs to age, so drink from 2017.                                                                                                                                                                                                      | Quintessence                    | 90 | 15 | Loire Valley | Saint-Nicolas-de-Bourgueil | NA | Roger Voss        | @vossroger  | Vignoble de la Jarnoterie 2013 Quintessence  (Saint-Nicolas-de-Bourgueil)  | Cabernet Franc  | Vignoble de la Jarnoterie     | 6 |  9948 |\n",
       "| France | Crisp, mineral and tight, this is still a young bottling. It is dry, full of citrus-fruit flavors and with a fine burst of acidity that cuts through the wine. Let this delicious wine settle for a few more months to add more fruit to the texture. Drink from late 2018.                                                                                                                                              | Blanc de Blancs Brut            | 91 | 40 | Champagne    | Champagne                  | NA | Roger Voss        | @vossroger  | Vollereaux NV Blanc de Blancs Brut Chardonnay (Champagne)                  | Chardonnay      | Vollereaux                    | 6 | 10116 |\n",
       "| France | This ripe Chardonnay has a significant amount of reserve wine from older vintages in the blend. It is on the dry side of Brut, with a mineral, steely texture. That is balanced by the maturity of this bottling, giving hints of toast and ripe, sliced apple flavors.                                                                                                                                                  | Blanc de Blancs Brut            | 91 | 40 | Champagne    | Champagne                  | NA | Roger Voss        | @vossroger  | Vollereaux NV Blanc de Blancs Brut Chardonnay (Champagne)                  | Chardonnay      | Vollereaux                    | 6 | 10116 |\n",
       "| France | The blend of delightfully crisp wine is based around three years of reserve wines. It is creamy, with just a hint of toastiness. The acidity and ripe apple combine well with this touch of bottle age to give a wine that is ready to drink.                                                                                                                                                                            | Blanc de Blancs Brut            | 91 | 37 | Champagne    | Champagne                  | NA | Roger Voss        | @vossroger  | Vollereaux NV Blanc de Blancs Brut Chardonnay (Champagne)                  | Chardonnay      | Vollereaux                    | 6 | 10116 |\n",
       "| France | Attractively perfumed, this is a fruity, fresh wine that is full of apple and crisp citrus flavors and a soft texture. Its relatively high dosage adds a hint of sweetness.                                                                                                                                                                                                                                              | Brut RÃ©serve                   | 86 | 34 | Champagne    | Champagne                  | NA | Roger Voss        | @vossroger  | Vollereaux NV Brut RÃ©serve  (Champagne)                                   | Champagne Blend | Vollereaux                    | 6 | 10117 |\n",
       "| France | Soft and creamy, this floral wine also has an attractive touch of toastiness suggesting it has bottle age. Its green-plum and citrus flavors contribute to the crispness of this balanced wine. Drink now.                                                                                                                                                                                                               | Brut RÃ©serve                   | 88 | 35 | Champagne    | Champagne                  | NA | Roger Voss        | @vossroger  | Vollereaux NV Brut RÃ©serve  (Champagne)                                   | Champagne Blend | Vollereaux                    | 6 | 10117 |\n",
       "| France | An equal blend of Pinot Noir, Chardonnay and Pinot Meunier, this is the producer's nonvintage cuvÃ©e, soft and ripe. Balanced and crisp, it has attractive acidity under the light texture and tangy lemon-zest flavor. The bottling is ready to drink.                                                                                                                                                                  | Brut RÃ©serve                   | 88 | 35 | Champagne    | Champagne                  | NA | Roger Voss        | @vossroger  | Vollereaux NV Brut RÃ©serve  (Champagne)                                   | Champagne Blend | Vollereaux                    | 6 | 10117 |\n",
       "| France | This ripe, soft wine is well balanced and offers attractive fruitiness. The creamy mousse and acidity bring richness and a fresh character. With its finely judged dosage, not too dry, not too sweet, the wine is very ready to drink.                                                                                                                                                                                  | Brut RÃ©serve                   | 88 | 35 | Champagne    | Champagne                  | NA | Roger Voss        | @vossroger  | Vollereaux NV Brut RÃ©serve  (Champagne)                                   | Champagne Blend | Vollereaux                    | 6 | 10117 |\n",
       "| France | This is an unusual rosÃ© for Champagne. It is made 100% from Pinot Noir rather than a blend. And it is made by getting color directly from the fermenting grapes rather than the normal Champagne process of adding red wine. The result is a dark-colored rosÃ© that has a tannic structure as well as red fruits. It is rich and concentrated with ripeness rather than great freshness. It is definitely a food wine. | Brut RosÃ© de SaignÃ©e          | 87 | 40 | Champagne    | Champagne                  | NA | Roger Voss        | @vossroger  | Vollereaux NV Brut RosÃ© de SaignÃ©e Pinot Noir (Champagne)                | Pinot Noir      | Vollereaux                    | 6 | 10119 |\n",
       "| France | Most rosÃ© Champagnes get their color by the addition of red wine. This wine gets its hue from the skins of red grapes macerating before fermentation. It has a deep pink color and a lightly tannic character, making for a rich wine flavored with red currants and finished with acidity.                                                                                                                             | Brut RosÃ© de SaignÃ©e          | 88 | 40 | Champagne    | Champagne                  | NA | Roger Voss        | @vossroger  | Vollereaux NV Brut RosÃ© de SaignÃ©e Pinot Noir (Champagne)                | Pinot Noir      | Vollereaux                    | 6 | 10119 |\n",
       "| France | Orange-pink color on this soft, ripe rosÃ©. The balance is better than in past years, with acidity cutting the red fruits. Light-bodied with a good texture.                                                                                                                                                                                                                                                             | Demoiselle RosÃ© Brut           | 89 | 50 | Champagne    | Champagne                  | NA | Roger Voss        | @vossroger  | Vranken NV Demoiselle RosÃ© Brut  (Champagne)                              | Champagne Blend | Vranken                       | 6 | 10130 |\n",
       "| France | While it is certainly on the sweet side, this bottling, with its lively mousse and strawberry flavors, is a definite step up from previous tastings. It has weight but also freshness.                                                                                                                                                                                                                                   | Demoiselle RosÃ© Brut           | 88 | 55 | Champagne    | Champagne                  | NA | Roger Voss        | @vossroger  | Vranken NV Demoiselle RosÃ© Brut  (Champagne)                              | Champagne Blend | Vranken                       | 6 | 10130 |\n",
       "| France | A balanced wine, with softness that indicates a relatively high dosage. There is no complexity, but the wine is light, creamy, flavored with green plums and kiwi, just edged with bitterness.                                                                                                                                                                                                                           | Demoiselle TÃªte de CuvÃ©e Brut | 85 | 40 | Champagne    | Champagne                  | NA | Roger Voss        | @vossroger  | Vranken NV Demoiselle TÃªte de CuvÃ©e Brut  (Champagne)                    | Champagne Blend | Vranken                       | 6 | 10131 |\n",
       "| France | The style of this creamy wine seems to have become drier, giving a steely tight character to go with the apple and citrus flavors. The result is attractive, very fresh, ready to drink.                                                                                                                                                                                                                                 | Demoiselle TÃªte de CuvÃ©e Brut | 90 | 40 | Champagne    | Champagne                  | NA | Roger Voss        | @vossroger  | Vranken NV Demoiselle TÃªte de CuvÃ©e Brut  (Champagne)                    | Champagne Blend | Vranken                       | 6 | 10131 |\n",
       "| France | Vranken's releases seem to be bucking the trend towards drier Champagnes. This wine is soft and obviously the dosage is high. It is balanced and the fresh creamed apple flavors and light texture all work well together. It is in a light style, ready to drink.                                                                                                                                                       | Diamant Brut                    | 87 | 53 | Champagne    | Champagne                  | NA | Roger Voss        | @vossroger  | Vranken NV Diamant Brut  (Champagne)                                       | Champagne Blend | Vranken                       | 6 | 10132 |\n",
       "| France | For those who like their non-vintage with some bottle age, this is a fine wine. While it has lost its early freshness, it certainly has gained in complexity, offering ripe, soft, toasty flavors to add to the green plum fruits and acidity.                                                                                                                                                                           | Diamant Brut                    | 89 | 50 | Champagne    | Champagne                  | NA | Roger Voss        | @vossroger  | Vranken NV Diamant Brut  (Champagne)                                       | Champagne Blend | Vranken                       | 6 | 10132 |\n",
       "| France | Attractive, best-selling CrÃ©mant d'Alsace, with its crisp apple and almond flavors to go with the acidity. It is lively, well-balanced, a great value in sparkling wines.                                                                                                                                                                                                                                               | Brut                            | 88 | 22 | Alsace       | CrÃ©mant d'Alsace          | NA | Roger Voss        | @vossroger  | Wolfberger NV Brut Sparkling (CrÃ©mant d'Alsace)                           | Sparkling Blend | Wolfberger                    | 6 | 10230 |\n",
       "| France | This is a really fruity, really refreshing sparkling wine. It boasts apple, citrus and a touch of apricot flavors, as well as tight acidity. It is fragrant, pure and clean, and very fresh on the finish.                                                                                                                                                                                                               | Brut                            | 88 | 22 | Alsace       | CrÃ©mant d'Alsace          | NA | Roger Voss        | @vossroger  | Wolfberger NV Brut Sparkling (CrÃ©mant d'Alsace)                           | Sparkling Blend | Wolfberger                    | 6 | 10230 |\n",
       "| France | Lovely notes of Golden Pearmain apple perfume the nose, with hints of soy sauce. The body and palate are luminous showing green apple freshness that come across as light, graceful and authentic. There is something honest and fresh-faced about this wine that is rather disarming. This is a very beautiful, classy crÃ©mant made from a blend of Riesling and Auxerrois.                                            | Clos Liebenberg                 | 93 | 58 | Alsace       | CrÃ©mant d'Alsace          | NA | Anne KrebiehlÂ MW | @AnneInVino | Zusslin 2012 Clos Liebenberg Sparkling (CrÃ©mant d'Alsace)                 | Sparkling Blend | Zusslin                       | 1 | 10304 |\n",
       "| France | Exquisitely fragrant notes of ripe, aromatic apples rise from the glass: tart, fruity and fresh in equal measure. The palate shows both evolved autolysis by way of soy-spiced breadiness and even more fruit in the way of bruised, tart apple notes of great purity. The finish is long and full of flavor, complex, nuanced and resolutely dry.                                                                       | Clos Liebenberg                 | 93 | 57 | Alsace       | CrÃ©mant d'Alsace          | NA | Anne KrebiehlÂ MW | @AnneInVino | Zusslin 2012 Clos Liebenberg Sparkling (CrÃ©mant d'Alsace)                 | Sparkling Blend | Zusslin                       | 1 | 10304 |\n",
       "\n"
      ],
      "text/plain": [
       "    country\n",
       "1   France \n",
       "2   France \n",
       "3   France \n",
       "4   France \n",
       "5   France \n",
       "6   France \n",
       "7   France \n",
       "8   France \n",
       "9   France \n",
       "10  France \n",
       "11  France \n",
       "12  France \n",
       "13  France \n",
       "14  France \n",
       "15  France \n",
       "16  France \n",
       "17  France \n",
       "18  France \n",
       "19  France \n",
       "20  France \n",
       "21  France \n",
       "22  France \n",
       "23  France \n",
       "24  France \n",
       "25  France \n",
       "26  France \n",
       "27  France \n",
       "28  France \n",
       "29  France \n",
       "30  France \n",
       "... ...    \n",
       "555 France \n",
       "556 France \n",
       "557 France \n",
       "558 France \n",
       "559 France \n",
       "560 France \n",
       "561 France \n",
       "562 France \n",
       "563 France \n",
       "564 France \n",
       "565 France \n",
       "566 France \n",
       "567 France \n",
       "568 France \n",
       "569 France \n",
       "570 France \n",
       "571 France \n",
       "572 France \n",
       "573 France \n",
       "574 France \n",
       "575 France \n",
       "576 France \n",
       "577 France \n",
       "578 France \n",
       "579 France \n",
       "580 France \n",
       "581 France \n",
       "582 France \n",
       "583 France \n",
       "584 France \n",
       "    description                                                                                                                                                                                                                                                                                                                                                                                                             \n",
       "1   Bone dry and crisp, this is also has fruitiness from the ripeness of the grapes, giving impressively rich apple and pear flavors. Of course, these are cut by tight acidity and intense citrus, leaving a tight, steely aftertaste.                                                                                                                                                                                     \n",
       "2   This tight crisp wine delivers citrus and sliced apple fruits. There is a brisk mousse that gives the wine quite a bite of acidity. All the elements point in the direction of food for this Champagne. Like many bone-dry Champagnes, this bottling needs to age, so drink from 2018.                                                                                                                                  \n",
       "3   With zero grams of residual sugar, this is wine is as dry as it gets, relying on the ripe fruit to balance the intense acidity. Crisp apple and tight acidity dominate. Like many zero-dosage Champagnes it needs to age, so hold this bottle for two years.                                                                                                                                                            \n",
       "4   The wine comes from the Grand Cru village of Chouilly in the Chardonnay vineyards of the CÃ´te des Blancs. It is crisp, mineral textured and still developing. Bright acidity and lemon-zest flavors give this wine its lively and also full-bodied character. Drink from 2018.                                                                                                                                         \n",
       "5   This is a very lively wine with a creamy mousse. The wine is towards dry, bringing out great white and citrus fruit flavors with a burst of tangy acidity. It comes from the village of Chouilly in the CÃ´te des Blancs, which gives the wine a tight mineral texture at the end.                                                                                                                                      \n",
       "6   A quarter of this nonvintage blend was vinified in wood. That adds some extra richness to the already ripe fruit. Based on the 2013 vintage, the wine is full of pear, crisp apple and hints of apricot. Drink now.                                                                                                                                                                                                     \n",
       "7   With vineyards in the Marne Valley, this Champagne house has produced a ripe, soft style. Based on grapes from the 2011 harvest, it is still young, although the acidity is softening to bring in ripe apple and green-plum flavors. An underlying ripe fruit character makes it extra attractive.                                                                                                                      \n",
       "8   Intense is a good description of this tightly textured and mineral-driven wine. Its fruit is subdued by the steely, tense character, although there are attractive hints of crisp apple and citrus acidity. The bottling is young and will repay several months aging after purchase.                                                                                                                                   \n",
       "9   This beautifully crisp and fresh wine has great red-berry acidity. Tight and textured, it is dry while balancing fruit and the more steely edge. The bottling is young, so could be aged for six months from purchase, although it is also refreshing to drink immediately.                                                                                                                                             \n",
       "10  With some attractive bottle age, this pale rosÃ© is warm and rich. Spice contrasts with crisp red fruits and acidity. The wine is ready to drink.                                                                                                                                                                                                                                                                       \n",
       "11  The base of this wine is Chardonnay with some Pinot Noir added to give color (standard practice in Champagne). The result is a pale-colored wine that's ripe and full of fruit. It has a rich character lifted by the tight, mineral acidity in the aftertaste.                                                                                                                                                         \n",
       "12  As with all this producer's wines, the first fermentation iof this bottling was in wood, adding richness and smoothing out the fruit to give a warm, round character. The acidity is still tight and crisp, with citrus and apple flavors shot through with minerality. Drink now.                                                                                                                                      \n",
       "13  A dry, tight style of wine, with fresh grapefruit and lime flavors. It could do with some bottle age to allow the fruit to shed some of its intense acidity.                                                                                                                                                                                                                                                            \n",
       "14  This stalky, smoky wine has red currant fruits and a tight texture. The fruit is just ripe, light in character with very fresh acidity. Some more depth would have been good. Drink now.                                                                                                                                                                                                                                \n",
       "15  Peach and pear flavors entwine with intense, youthful acidity in this bone-dry wine. It is taut and still developing fuller, fruity character. Very fresh, it needs time; drink from 2016.                                                                                                                                                                                                                              \n",
       "16  Blossom and citrus notes stream from the glassâ\\200”there are notes of green pear too. The slender palate boosts these fruit notes with a generous but still dry dosage, while hints of grassy herbs play along the edges. This is frothy, easy and very fresh. Drink soon.                                                                                                                                                \n",
       "17  Lovely and fresh notes of red apple are joined by a livelier tangier citrus note on the nose. The dry palate is very light, almost weightless and fizzes away with a very fine mousse. There is real depth of fruit and a knowingly light touch. It is lovely as an elegant apÃ©ritif but sophisticated enough to be served alongside food. The finish is tart, lasting and grown-up.                                   \n",
       "18  This wine has a bright, crisp character that is reminiscent of Chablis. It has refreshing lemon and apple flavors, and it's ready to drink.                                                                                                                                                                                                                                                                             \n",
       "19  The warmth of the year brings out rich fruits as well as the cool structure of a wine from the Hautes CÃ´tes in the hills behind Beaune. There is acidity, of course, coupled with red berries and an underlying ripeness.                                                                                                                                                                                              \n",
       "20  Soft and ripe, this wine has juicy pineapple and pear flavors. And with its tension between richness and steeliness, this could certainly age.                                                                                                                                                                                                                                                                          \n",
       "21  ChÃ¢teau de Rully is managed by Rodet. It has produced a firm, dark and smoky wine in 2010. It's firm, solid, with an earthy, undergrowth edge. At the same time, its weight and density promise some good aging over at least five years.                                                                                                                                                                              \n",
       "22  A totally fresh nose of lemon, wet stone and greengage creates an enticing opening. These flavors also present themselves on the light palate, where they are dispersed by a fine, creamy mousse. The impression is one of light-bodied but fruity cleanness. This refreshing, brisk and enlivening sparkler is ready now, but will continue to develop through 2022.                                                   \n",
       "23  Bread and lemon, rather than primary fruit, denotes the scent. The dry and restrained palate is serious and values yeasty autolytic notes above fruit. There is lemon freshness among the yeast and bread flavors and a dry, almost severe finish.                                                                                                                                                                      \n",
       "24  This soft, fruity wine is pretty much ready to drink. With its red-berry fruits and fresh acidity it has a crisp side, although its round, ripe texture is so attractive. Drink from the end of 2016.                                                                                                                                                                                                                   \n",
       "25  This wine is structured, firm and has a mineral, tight texture. It also offers plenty of red apples, green plums and a touch of apricot. However, with its nervy edge the wine needs to age; drink from 2017.                                                                                                                                                                                                           \n",
       "26  This wine is still young, tight and on the crisp acid side. That doesn't mean it won't soften and fill out, although it will probably stay ultrafresh and packed with red-currant flavors for some time. Wait to drink until 2018.                                                                                                                                                                                      \n",
       "27  Fresh with apple and citrus, this is a perfumed, immediately attractive wine. It has bright acidity, a lightly mineral texture and a tangy, zesty aftertaste. It's young and will age although it is delicious now.                                                                                                                                                                                                     \n",
       "28  Rich, fruity and textured, this expresses freshness with its acidity and red-currant flavors. These cut through the tangy texture, giving a tight aftertaste. The wine can be drunk immediately for its crispness or held until late 2016 to let it soften.                                                                                                                                                             \n",
       "29  This intensely fruity selection is packed with red fruit that overlays its soft, tangy texture. Orange zest and citrus flavors give the right amount of freshness to this ready-to-drink wine.                                                                                                                                                                                                                          \n",
       "30  A crisp, fresh wine that has an edge of raspberry and red berry flavors over a very citrus character. It is dry, tight and structured with cranberries and red currants, the red fruits giving some extra weight.                                                                                                                                                                                                       \n",
       "... ...                                                                                                                                                                                                                                                                                                                                                                                                                     \n",
       "555 Light, creamed apple fruits with a bright line of fresh acidity. The wine is exuberant in its citrus character, just broadened by an underlay of green apples.                                                                                                                                                                                                                                                          \n",
       "556 Nervy and racy, this has crisp acidity and a lively orange-zest texture. It's fruity, with upfront apple and grapefruit flavors, showing just a touch of a minerally character in the background.                                                                                                                                                                                                                       \n",
       "557 This is light and fruity, with its red fruit upfront. The tannins are balanced, in keeping with the wine's perfumed nature. The youthful acidity on the finish is likely to soften out in a year.                                                                                                                                                                                                                       \n",
       "558 This attractive, lightly honeyed wine has apple and fresh pear flavors. Fresh, fruity and crisp, it finishes with a youthful lift that suggests it will be better from mid-2016.                                                                                                                                                                                                                                        \n",
       "559 This light and fruity wine has acidity sustaining the red-cherry flavors. It has a dry core along with really juicy flavors and soft tannins. Drink now, although the wine will be even fruitier from 2016.                                                                                                                                                                                                             \n",
       "560 This is an open delicious wine, full of red-cherry and red-currant fruit with a touch of minerality to add texture. Some wood aging has smoothed out the crisp fruit and added vanilla to the mix. Drink this ripe wine from 2018.                                                                                                                                                                                      \n",
       "561 This is a light, crisp and fruity wine. Full of ripe green plums and crisp acidity, it is a wine that is all fruit. A light touch of minerality gives texture and complements the refreshing, floral aftertaste. Drink this wine now.                                                                                                                                                                                   \n",
       "562 This soft wine features attractive citrus and creamed-apple flavors. It is round, full, lightly spicy and presents an easy, immediately drinkable character.                                                                                                                                                                                                                                                            \n",
       "563 From the area known as Pierres DorÃ©es because of the gold-colored stone used in buildings, this wine is soft and fruity. It carries a touch of tannin along with red-cherry crispness. The wine is ready to drink.                                                                                                                                                                                                     \n",
       "564 This is brilliantly fruity, very crisp and fragrant, with delicious spice, perfumed red fruits and lively acidity. It's very dry, with a fresh aftertaste.                                                                                                                                                                                                                                                              \n",
       "565 This structured wine is bold with its tannins and dry cherry-pit flavor. It is dense, its stalky acidity and red-plum flavors backed by a dry core. It's a concentrated wine that needs to age, so drink from 2017.                                                                                                                                                                                                     \n",
       "566 Crisp, mineral and tight, this is still a young bottling. It is dry, full of citrus-fruit flavors and with a fine burst of acidity that cuts through the wine. Let this delicious wine settle for a few more months to add more fruit to the texture. Drink from late 2018.                                                                                                                                             \n",
       "567 This ripe Chardonnay has a significant amount of reserve wine from older vintages in the blend. It is on the dry side of Brut, with a mineral, steely texture. That is balanced by the maturity of this bottling, giving hints of toast and ripe, sliced apple flavors.                                                                                                                                                 \n",
       "568 The blend of delightfully crisp wine is based around three years of reserve wines. It is creamy, with just a hint of toastiness. The acidity and ripe apple combine well with this touch of bottle age to give a wine that is ready to drink.                                                                                                                                                                           \n",
       "569 Attractively perfumed, this is a fruity, fresh wine that is full of apple and crisp citrus flavors and a soft texture. Its relatively high dosage adds a hint of sweetness.                                                                                                                                                                                                                                             \n",
       "570 Soft and creamy, this floral wine also has an attractive touch of toastiness suggesting it has bottle age. Its green-plum and citrus flavors contribute to the crispness of this balanced wine. Drink now.                                                                                                                                                                                                              \n",
       "571 An equal blend of Pinot Noir, Chardonnay and Pinot Meunier, this is the producer's nonvintage cuvÃ©e, soft and ripe. Balanced and crisp, it has attractive acidity under the light texture and tangy lemon-zest flavor. The bottling is ready to drink.                                                                                                                                                                 \n",
       "572 This ripe, soft wine is well balanced and offers attractive fruitiness. The creamy mousse and acidity bring richness and a fresh character. With its finely judged dosage, not too dry, not too sweet, the wine is very ready to drink.                                                                                                                                                                                 \n",
       "573 This is an unusual rosÃ© for Champagne. It is made 100% from Pinot Noir rather than a blend. And it is made by getting color directly from the fermenting grapes rather than the normal Champagne process of adding red wine. The result is a dark-colored rosÃ© that has a tannic structure as well as red fruits. It is rich and concentrated with ripeness rather than great freshness. It is definitely a food wine.\n",
       "574 Most rosÃ© Champagnes get their color by the addition of red wine. This wine gets its hue from the skins of red grapes macerating before fermentation. It has a deep pink color and a lightly tannic character, making for a rich wine flavored with red currants and finished with acidity.                                                                                                                            \n",
       "575 Orange-pink color on this soft, ripe rosÃ©. The balance is better than in past years, with acidity cutting the red fruits. Light-bodied with a good texture.                                                                                                                                                                                                                                                            \n",
       "576 While it is certainly on the sweet side, this bottling, with its lively mousse and strawberry flavors, is a definite step up from previous tastings. It has weight but also freshness.                                                                                                                                                                                                                                  \n",
       "577 A balanced wine, with softness that indicates a relatively high dosage. There is no complexity, but the wine is light, creamy, flavored with green plums and kiwi, just edged with bitterness.                                                                                                                                                                                                                          \n",
       "578 The style of this creamy wine seems to have become drier, giving a steely tight character to go with the apple and citrus flavors. The result is attractive, very fresh, ready to drink.                                                                                                                                                                                                                                \n",
       "579 Vranken's releases seem to be bucking the trend towards drier Champagnes. This wine is soft and obviously the dosage is high. It is balanced and the fresh creamed apple flavors and light texture all work well together. It is in a light style, ready to drink.                                                                                                                                                      \n",
       "580 For those who like their non-vintage with some bottle age, this is a fine wine. While it has lost its early freshness, it certainly has gained in complexity, offering ripe, soft, toasty flavors to add to the green plum fruits and acidity.                                                                                                                                                                          \n",
       "581 Attractive, best-selling CrÃ©mant d'Alsace, with its crisp apple and almond flavors to go with the acidity. It is lively, well-balanced, a great value in sparkling wines.                                                                                                                                                                                                                                              \n",
       "582 This is a really fruity, really refreshing sparkling wine. It boasts apple, citrus and a touch of apricot flavors, as well as tight acidity. It is fragrant, pure and clean, and very fresh on the finish.                                                                                                                                                                                                              \n",
       "583 Lovely notes of Golden Pearmain apple perfume the nose, with hints of soy sauce. The body and palate are luminous showing green apple freshness that come across as light, graceful and authentic. There is something honest and fresh-faced about this wine that is rather disarming. This is a very beautiful, classy crÃ©mant made from a blend of Riesling and Auxerrois.                                           \n",
       "584 Exquisitely fragrant notes of ripe, aromatic apples rise from the glass: tart, fruity and fresh in equal measure. The palate shows both evolved autolysis by way of soy-spiced breadiness and even more fruit in the way of bruised, tart apple notes of great purity. The finish is long and full of flavor, complex, nuanced and resolutely dry.                                                                      \n",
       "    designation                             points price province    \n",
       "1   Dosage ZÃ©ro Brut Nature                89     49    Champagne   \n",
       "2   Dosage ZÃ©ro Brut Nature                90     49    Champagne   \n",
       "3   Dosage ZÃ©ro Brut Nature                90     49    Champagne   \n",
       "4   Grand Cru Blanc de Blancs Chouilly Brut 92     54    Champagne   \n",
       "5   Grand Cru Blanc de Blancs Chouilly Brut 91     54    Champagne   \n",
       "6   Intense Brut                            90     45    Champagne   \n",
       "7   Intense Brut                            89     45    Champagne   \n",
       "8   Intense Brut                            90     45    Champagne   \n",
       "9   Terroirs Brut RosÃ©                     91     59    Champagne   \n",
       "10  Terroirs Brut RosÃ©                     87     59    Champagne   \n",
       "11  Terroirs Brut RosÃ©                     91     59    Champagne   \n",
       "12  Brut                                    90     50    Champagne   \n",
       "13  Brut                                    87     69    Champagne   \n",
       "14  Demoiselle Bleue                        84     15    Loire Valley\n",
       "15  Demoiselle Bleue                        86     15    Loire Valley\n",
       "16  Brut                                    87     20    Alsace      \n",
       "17  Brut                                    91     20    Alsace      \n",
       "18  ChÃ¢teau de Mercey                      87     23    Burgundy    \n",
       "19  ChÃ¢teau de Mercey                      86     22    Burgundy    \n",
       "20  ChÃ¢teau de Rully CuvÃ©e R. de Ternay   90     30    Burgundy    \n",
       "21  ChÃ¢teau de Rully CuvÃ©e R. de Ternay   91     28    Burgundy    \n",
       "22  Brut Prestige                           91     18    Alsace      \n",
       "23  Brut Prestige                           88     20    Alsace      \n",
       "24  Le Charmois Premier Cru                 88     40    Burgundy    \n",
       "25  Le Charmois Premier Cru                 89     40    Burgundy    \n",
       "26  Le Charmois Premier Cru                 89     40    Burgundy    \n",
       "27  Le Charmois Premier Cru                 87     40    Burgundy    \n",
       "28  Brut RosÃ© Premier Cru                  88     60    Champagne   \n",
       "29  Brut RosÃ© Premier Cru                  88     59    Champagne   \n",
       "30  RosÃ© Majeur Brut                       88     55    Champagne   \n",
       "... ...                                     ...    ...   ...         \n",
       "555 Buissonnier                             84     15    Burgundy    \n",
       "556 Buissonnier                             85     15    Burgundy    \n",
       "557 Buissonnier                             85     16    Burgundy    \n",
       "558 Buissonnier                             86     18    Burgundy    \n",
       "559 Buissonnier                             86     19    Burgundy    \n",
       "560 Buissonnier                             87     20    Burgundy    \n",
       "561 Buissonnier                             86     14    Burgundy    \n",
       "562 Salamandre d'Or                         86     15    Burgundy    \n",
       "563 Salamandre d'Or                         86     15    Burgundy    \n",
       "564 Quintessence                            87     17    Loire Valley\n",
       "565 Quintessence                            90     15    Loire Valley\n",
       "566 Blanc de Blancs Brut                    91     40    Champagne   \n",
       "567 Blanc de Blancs Brut                    91     40    Champagne   \n",
       "568 Blanc de Blancs Brut                    91     37    Champagne   \n",
       "569 Brut RÃ©serve                           86     34    Champagne   \n",
       "570 Brut RÃ©serve                           88     35    Champagne   \n",
       "571 Brut RÃ©serve                           88     35    Champagne   \n",
       "572 Brut RÃ©serve                           88     35    Champagne   \n",
       "573 Brut RosÃ© de SaignÃ©e                  87     40    Champagne   \n",
       "574 Brut RosÃ© de SaignÃ©e                  88     40    Champagne   \n",
       "575 Demoiselle RosÃ© Brut                   89     50    Champagne   \n",
       "576 Demoiselle RosÃ© Brut                   88     55    Champagne   \n",
       "577 Demoiselle TÃªte de CuvÃ©e Brut         85     40    Champagne   \n",
       "578 Demoiselle TÃªte de CuvÃ©e Brut         90     40    Champagne   \n",
       "579 Diamant Brut                            87     53    Champagne   \n",
       "580 Diamant Brut                            89     50    Champagne   \n",
       "581 Brut                                    88     22    Alsace      \n",
       "582 Brut                                    88     22    Alsace      \n",
       "583 Clos Liebenberg                         93     58    Alsace      \n",
       "584 Clos Liebenberg                         93     57    Alsace      \n",
       "    region_1                          region_2 taster_name      \n",
       "1   Champagne                         NA       Roger Voss       \n",
       "2   Champagne                         NA       Roger Voss       \n",
       "3   Champagne                         NA       Roger Voss       \n",
       "4   Champagne                         NA       Roger Voss       \n",
       "5   Champagne                         NA       Roger Voss       \n",
       "6   Champagne                         NA       Roger Voss       \n",
       "7   Champagne                         NA       Roger Voss       \n",
       "8   Champagne                         NA       Roger Voss       \n",
       "9   Champagne                         NA       Roger Voss       \n",
       "10  Champagne                         NA       Roger Voss       \n",
       "11  Champagne                         NA       Roger Voss       \n",
       "12  Champagne                         NA       Roger Voss       \n",
       "13  Champagne                         NA       Roger Voss       \n",
       "14  Saumur                            NA       Roger Voss       \n",
       "15  Saumur                            NA       Roger Voss       \n",
       "16  CrÃ©mant d'Alsace                 NA       Anne KrebiehlÂ MW\n",
       "17  CrÃ©mant d'Alsace                 NA       Anne KrebiehlÂ MW\n",
       "18  Bourgogne Hautes CÃ´tes de Beaune NA       Roger Voss       \n",
       "19  Bourgogne Hautes CÃ´tes de Beaune NA       Roger Voss       \n",
       "20  Rully                             NA       Roger Voss       \n",
       "21  Rully                             NA       Roger Voss       \n",
       "22  CrÃ©mant d'Alsace                 NA       Anne KrebiehlÂ MW\n",
       "23  CrÃ©mant d'Alsace                 NA       Anne KrebiehlÂ MW\n",
       "24  Saint-Aubin                       NA       Roger Voss       \n",
       "25  Saint-Aubin                       NA       Roger Voss       \n",
       "26  Saint-Aubin                       NA       Roger Voss       \n",
       "27  Saint-Aubin                       NA       Roger Voss       \n",
       "28  Champagne                         NA       Roger Voss       \n",
       "29  Champagne                         NA       Roger Voss       \n",
       "30  Champagne                         NA       Roger Voss       \n",
       "... ...                               ...      ...              \n",
       "555 Bourgogne                         NA       Roger Voss       \n",
       "556 CÃ´te Chalonnaise                 NA       Roger Voss       \n",
       "557 CÃ´te Chalonnaise                 NA       Roger Voss       \n",
       "558 CÃ´te Chalonnaise                 NA       Roger Voss       \n",
       "559 CÃ´te Chalonnaise                 NA       Roger Voss       \n",
       "560 CÃ´te Chalonnaise                 NA       Roger Voss       \n",
       "561 CÃ´te Chalonnaise                 NA       Roger Voss       \n",
       "562 Coteaux Bourguignons              NA       Roger Voss       \n",
       "563 Coteaux Bourguignons              NA       Roger Voss       \n",
       "564 Saint-Nicolas-de-Bourgueil        NA       Roger Voss       \n",
       "565 Saint-Nicolas-de-Bourgueil        NA       Roger Voss       \n",
       "566 Champagne                         NA       Roger Voss       \n",
       "567 Champagne                         NA       Roger Voss       \n",
       "568 Champagne                         NA       Roger Voss       \n",
       "569 Champagne                         NA       Roger Voss       \n",
       "570 Champagne                         NA       Roger Voss       \n",
       "571 Champagne                         NA       Roger Voss       \n",
       "572 Champagne                         NA       Roger Voss       \n",
       "573 Champagne                         NA       Roger Voss       \n",
       "574 Champagne                         NA       Roger Voss       \n",
       "575 Champagne                         NA       Roger Voss       \n",
       "576 Champagne                         NA       Roger Voss       \n",
       "577 Champagne                         NA       Roger Voss       \n",
       "578 Champagne                         NA       Roger Voss       \n",
       "579 Champagne                         NA       Roger Voss       \n",
       "580 Champagne                         NA       Roger Voss       \n",
       "581 CrÃ©mant d'Alsace                 NA       Roger Voss       \n",
       "582 CrÃ©mant d'Alsace                 NA       Roger Voss       \n",
       "583 CrÃ©mant d'Alsace                 NA       Anne KrebiehlÂ MW\n",
       "584 CrÃ©mant d'Alsace                 NA       Anne KrebiehlÂ MW\n",
       "    taster_twitter_handle\n",
       "1   @vossroger           \n",
       "2   @vossroger           \n",
       "3   @vossroger           \n",
       "4   @vossroger           \n",
       "5   @vossroger           \n",
       "6   @vossroger           \n",
       "7   @vossroger           \n",
       "8   @vossroger           \n",
       "9   @vossroger           \n",
       "10  @vossroger           \n",
       "11  @vossroger           \n",
       "12  @vossroger           \n",
       "13  @vossroger           \n",
       "14  @vossroger           \n",
       "15  @vossroger           \n",
       "16  @AnneInVino          \n",
       "17  @AnneInVino          \n",
       "18  @vossroger           \n",
       "19  @vossroger           \n",
       "20  @vossroger           \n",
       "21  @vossroger           \n",
       "22  @AnneInVino          \n",
       "23  @AnneInVino          \n",
       "24  @vossroger           \n",
       "25  @vossroger           \n",
       "26  @vossroger           \n",
       "27  @vossroger           \n",
       "28  @vossroger           \n",
       "29  @vossroger           \n",
       "30  @vossroger           \n",
       "... ...                  \n",
       "555 @vossroger           \n",
       "556 @vossroger           \n",
       "557 @vossroger           \n",
       "558 @vossroger           \n",
       "559 @vossroger           \n",
       "560 @vossroger           \n",
       "561 @vossroger           \n",
       "562 @vossroger           \n",
       "563 @vossroger           \n",
       "564 @vossroger           \n",
       "565 @vossroger           \n",
       "566 @vossroger           \n",
       "567 @vossroger           \n",
       "568 @vossroger           \n",
       "569 @vossroger           \n",
       "570 @vossroger           \n",
       "571 @vossroger           \n",
       "572 @vossroger           \n",
       "573 @vossroger           \n",
       "574 @vossroger           \n",
       "575 @vossroger           \n",
       "576 @vossroger           \n",
       "577 @vossroger           \n",
       "578 @vossroger           \n",
       "579 @vossroger           \n",
       "580 @vossroger           \n",
       "581 @vossroger           \n",
       "582 @vossroger           \n",
       "583 @AnneInVino          \n",
       "584 @AnneInVino          \n",
       "    title                                                                           \n",
       "1   A.R. LenobleÂ  NV Dosage ZÃ©ro Brut Nature  (Champagne)                         \n",
       "2   A.R. LenobleÂ  NV Dosage ZÃ©ro Brut Nature  (Champagne)                         \n",
       "3   A.R. LenobleÂ  NV Dosage ZÃ©ro Brut Nature  (Champagne)                         \n",
       "4   A.R. LenobleÂ  NV Grand Cru Blanc de Blancs Chouilly Brut Chardonnay (Champagne)\n",
       "5   A.R. LenobleÂ  NV Grand Cru Blanc de Blancs Chouilly Brut Chardonnay (Champagne)\n",
       "6   A.R. LenobleÂ  NV Intense Brut  (Champagne)                                     \n",
       "7   A.R. LenobleÂ  NV Intense Brut  (Champagne)                                     \n",
       "8   A.R. LenobleÂ  NV Intense Brut  (Champagne)                                     \n",
       "9   A.R. LenobleÂ  NV Terroirs Brut RosÃ©  (Champagne)                              \n",
       "10  A.R. LenobleÂ  NV Terroirs Brut RosÃ©  (Champagne)                              \n",
       "11  A.R. LenobleÂ  NV Terroirs Brut RosÃ©  (Champagne)                              \n",
       "12  Alfred Gratien NV Brut  (Champagne)                                             \n",
       "13  Alfred Gratien NV Brut  (Champagne)                                             \n",
       "14  Alliance Loire 2014 Demoiselle Bleue  (Saumur)                                  \n",
       "15  Alliance Loire 2014 Demoiselle Bleue  (Saumur)                                  \n",
       "16  Allimant-Laugner NV Brut Sparkling (CrÃ©mant d'Alsace)                          \n",
       "17  Allimant-Laugner NV Brut Sparkling (CrÃ©mant d'Alsace)                          \n",
       "18  Antonin Rodet 2010 ChÃ¢teau de Mercey  (Bourgogne Hautes CÃ´tes de Beaune)      \n",
       "19  Antonin Rodet 2010 ChÃ¢teau de Mercey  (Bourgogne Hautes CÃ´tes de Beaune)      \n",
       "20  Antonin Rodet 2010 ChÃ¢teau de Rully CuvÃ©e R. de Ternay  (Rully)               \n",
       "21  Antonin Rodet 2010 ChÃ¢teau de Rully CuvÃ©e R. de Ternay  (Rully)               \n",
       "22  Arthur Metz NV Brut Prestige Sparkling (CrÃ©mant d'Alsace)                      \n",
       "23  Arthur Metz NV Brut Prestige Sparkling (CrÃ©mant d'Alsace)                      \n",
       "24  Au Pied du Mont Chauve 2012 Le Charmois Premier Cru  (Saint-Aubin)              \n",
       "25  Au Pied du Mont Chauve 2012 Le Charmois Premier Cru  (Saint-Aubin)              \n",
       "26  Au Pied du Mont Chauve 2013 Le Charmois Premier Cru  (Saint-Aubin)              \n",
       "27  Au Pied du Mont Chauve 2013 Le Charmois Premier Cru  (Saint-Aubin)              \n",
       "28  Aubry NV Brut RosÃ© Premier Cru  (Champagne)                                    \n",
       "29  Aubry NV Brut RosÃ© Premier Cru  (Champagne)                                    \n",
       "30  Ayala NV RosÃ© Majeur Brut  (Champagne)                                         \n",
       "... ...                                                                             \n",
       "555 Vignerons de Buxy 2008 Buissonnier  (Bourgogne)                                 \n",
       "556 Vignerons de Buxy 2010 Buissonnier  (CÃ´te Chalonnaise)                         \n",
       "557 Vignerons de Buxy 2010 Buissonnier  (CÃ´te Chalonnaise)                         \n",
       "558 Vignerons de Buxy 2013 Buissonnier  (CÃ´te Chalonnaise)                         \n",
       "559 Vignerons de Buxy 2013 Buissonnier  (CÃ´te Chalonnaise)                         \n",
       "560 Vignerons de Buxy 2015 Buissonnier  (CÃ´te Chalonnaise)                         \n",
       "561 Vignerons de Buxy 2015 Buissonnier  (CÃ´te Chalonnaise)                         \n",
       "562 Vignerons des Pierres DorÃ©es 2015 Salamandre d'Or  (Coteaux Bourguignons)      \n",
       "563 Vignerons des Pierres DorÃ©es 2015 Salamandre d'Or  (Coteaux Bourguignons)      \n",
       "564 Vignoble de la Jarnoterie 2013 Quintessence  (Saint-Nicolas-de-Bourgueil)       \n",
       "565 Vignoble de la Jarnoterie 2013 Quintessence  (Saint-Nicolas-de-Bourgueil)       \n",
       "566 Vollereaux NV Blanc de Blancs Brut Chardonnay (Champagne)                       \n",
       "567 Vollereaux NV Blanc de Blancs Brut Chardonnay (Champagne)                       \n",
       "568 Vollereaux NV Blanc de Blancs Brut Chardonnay (Champagne)                       \n",
       "569 Vollereaux NV Brut RÃ©serve  (Champagne)                                        \n",
       "570 Vollereaux NV Brut RÃ©serve  (Champagne)                                        \n",
       "571 Vollereaux NV Brut RÃ©serve  (Champagne)                                        \n",
       "572 Vollereaux NV Brut RÃ©serve  (Champagne)                                        \n",
       "573 Vollereaux NV Brut RosÃ© de SaignÃ©e Pinot Noir (Champagne)                     \n",
       "574 Vollereaux NV Brut RosÃ© de SaignÃ©e Pinot Noir (Champagne)                     \n",
       "575 Vranken NV Demoiselle RosÃ© Brut  (Champagne)                                   \n",
       "576 Vranken NV Demoiselle RosÃ© Brut  (Champagne)                                   \n",
       "577 Vranken NV Demoiselle TÃªte de CuvÃ©e Brut  (Champagne)                         \n",
       "578 Vranken NV Demoiselle TÃªte de CuvÃ©e Brut  (Champagne)                         \n",
       "579 Vranken NV Diamant Brut  (Champagne)                                            \n",
       "580 Vranken NV Diamant Brut  (Champagne)                                            \n",
       "581 Wolfberger NV Brut Sparkling (CrÃ©mant d'Alsace)                                \n",
       "582 Wolfberger NV Brut Sparkling (CrÃ©mant d'Alsace)                                \n",
       "583 Zusslin 2012 Clos Liebenberg Sparkling (CrÃ©mant d'Alsace)                      \n",
       "584 Zusslin 2012 Clos Liebenberg Sparkling (CrÃ©mant d'Alsace)                      \n",
       "    variety         winery                        tasterID wineID\n",
       "1   Champagne Blend A.R. LenobleÂ                 6         14   \n",
       "2   Champagne Blend A.R. LenobleÂ                 6         14   \n",
       "3   Champagne Blend A.R. LenobleÂ                 6         14   \n",
       "4   Chardonnay      A.R. LenobleÂ                 6         15   \n",
       "5   Chardonnay      A.R. LenobleÂ                 6         15   \n",
       "6   Champagne Blend A.R. LenobleÂ                 6         16   \n",
       "7   Champagne Blend A.R. LenobleÂ                 6         16   \n",
       "8   Champagne Blend A.R. LenobleÂ                 6         16   \n",
       "9   Champagne Blend A.R. LenobleÂ                 6         17   \n",
       "10  Champagne Blend A.R. LenobleÂ                 6         17   \n",
       "11  Champagne Blend A.R. LenobleÂ                 6         17   \n",
       "12  Champagne Blend Alfred Gratien                6        167   \n",
       "13  Champagne Blend Alfred Gratien                6        167   \n",
       "14  Cabernet Franc  Alliance Loire                6        174   \n",
       "15  Chenin Blanc    Alliance Loire                6        174   \n",
       "16  Sparkling Blend Allimant-Laugner              1        182   \n",
       "17  Sparkling Blend Allimant-Laugner              1        182   \n",
       "18  Chardonnay      Antonin Rodet                 6        233   \n",
       "19  Pinot Noir      Antonin Rodet                 6        233   \n",
       "20  Chardonnay      Antonin Rodet                 6        236   \n",
       "21  Pinot Noir      Antonin Rodet                 6        236   \n",
       "22  Sparkling Blend Arthur Metz                   1        261   \n",
       "23  Sparkling Blend Arthur Metz                   1        261   \n",
       "24  Pinot Noir      Au Pied du Mont Chauve        6        267   \n",
       "25  Chardonnay      Au Pied du Mont Chauve        6        267   \n",
       "26  Pinot Noir      Au Pied du Mont Chauve        6        275   \n",
       "27  Chardonnay      Au Pied du Mont Chauve        6        275   \n",
       "28  Champagne Blend Aubry                         6        283   \n",
       "29  Champagne Blend Aubry                         6        283   \n",
       "30  Champagne Blend Ayala                         6        297   \n",
       "... ...             ...                           ...      ...   \n",
       "555 Chardonnay      Vignerons de Buxy             6         9871 \n",
       "556 Chardonnay      Vignerons de Buxy             6         9875 \n",
       "557 Pinot Noir      Vignerons de Buxy             6         9875 \n",
       "558 Chardonnay      Vignerons de Buxy             6         9888 \n",
       "559 Pinot Noir      Vignerons de Buxy             6         9888 \n",
       "560 Pinot Noir      Vignerons de Buxy             6         9898 \n",
       "561 Chardonnay      Vignerons de Buxy             6         9898 \n",
       "562 Chardonnay      Vignerons des Pierres DorÃ©es 6         9925 \n",
       "563 Gamay           Vignerons des Pierres DorÃ©es 6         9925 \n",
       "564 RosÃ©           Vignoble de la Jarnoterie     6         9948 \n",
       "565 Cabernet Franc  Vignoble de la Jarnoterie     6         9948 \n",
       "566 Chardonnay      Vollereaux                    6        10116 \n",
       "567 Chardonnay      Vollereaux                    6        10116 \n",
       "568 Chardonnay      Vollereaux                    6        10116 \n",
       "569 Champagne Blend Vollereaux                    6        10117 \n",
       "570 Champagne Blend Vollereaux                    6        10117 \n",
       "571 Champagne Blend Vollereaux                    6        10117 \n",
       "572 Champagne Blend Vollereaux                    6        10117 \n",
       "573 Pinot Noir      Vollereaux                    6        10119 \n",
       "574 Pinot Noir      Vollereaux                    6        10119 \n",
       "575 Champagne Blend Vranken                       6        10130 \n",
       "576 Champagne Blend Vranken                       6        10130 \n",
       "577 Champagne Blend Vranken                       6        10131 \n",
       "578 Champagne Blend Vranken                       6        10131 \n",
       "579 Champagne Blend Vranken                       6        10132 \n",
       "580 Champagne Blend Vranken                       6        10132 \n",
       "581 Sparkling Blend Wolfberger                    6        10230 \n",
       "582 Sparkling Blend Wolfberger                    6        10230 \n",
       "583 Sparkling Blend Zusslin                       1        10304 \n",
       "584 Sparkling Blend Zusslin                       1        10304 "
      ]
     },
     "metadata": {},
     "output_type": "display_data"
    }
   ],
   "source": [
    "# check for duplicate title for same taster\n",
    "wine_clean %>%\n",
    "    arrange(title, taster_name) %>%\n",
    "    group_by(taster_name, title) %>%\n",
    "    filter(n() >1)"
   ]
  },
  {
   "cell_type": "code",
   "execution_count": 55,
   "metadata": {},
   "outputs": [
    {
     "data": {
      "text/html": [
       "<table>\n",
       "<caption>A data.frame: 2 × 15</caption>\n",
       "<thead>\n",
       "\t<tr><th></th><th scope=col>country</th><th scope=col>description</th><th scope=col>designation</th><th scope=col>points</th><th scope=col>price</th><th scope=col>province</th><th scope=col>region_1</th><th scope=col>region_2</th><th scope=col>taster_name</th><th scope=col>taster_twitter_handle</th><th scope=col>title</th><th scope=col>variety</th><th scope=col>winery</th><th scope=col>tasterID</th><th scope=col>wineID</th></tr>\n",
       "\t<tr><th></th><th scope=col>&lt;fct&gt;</th><th scope=col>&lt;chr&gt;</th><th scope=col>&lt;chr&gt;</th><th scope=col>&lt;int&gt;</th><th scope=col>&lt;dbl&gt;</th><th scope=col>&lt;chr&gt;</th><th scope=col>&lt;chr&gt;</th><th scope=col>&lt;chr&gt;</th><th scope=col>&lt;fct&gt;</th><th scope=col>&lt;fct&gt;</th><th scope=col>&lt;chr&gt;</th><th scope=col>&lt;fct&gt;</th><th scope=col>&lt;fct&gt;</th><th scope=col>&lt;int&gt;</th><th scope=col>&lt;int&gt;</th></tr>\n",
       "</thead>\n",
       "<tbody>\n",
       "\t<tr><th scope=row>185</th><td>France</td><td>Full-bodied wine with ripe pear and red apple flavors, laced with delicate acidity. It's an elegant wine, a fine balance with a more mineral, tight texture as a counterpoint. Drink from 2014.</td><td>ChÃ¢teau de Chamirey</td><td>88</td><td>35</td><td>Burgundy</td><td>Mercurey</td><td>NA</td><td>Roger Voss</td><td>@vossroger</td><td>Domaines Devillard 2011 ChÃ¢teau de Chamirey  (Mercurey)</td><td>Chardonnay</td><td>Domaines Devillard</td><td>6</td><td>5613</td></tr>\n",
       "\t<tr><th scope=row>186</th><td>France</td><td>A smooth and rounded wine, its ripe plum and blueberry flavors well integrated into the soft tannins and sweet acidity. Drinkable now, but worth waiting for two more years.                   </td><td>ChÃ¢teau de Chamirey</td><td>88</td><td>35</td><td>Burgundy</td><td>Mercurey</td><td>NA</td><td>Roger Voss</td><td>@vossroger</td><td>Domaines Devillard 2011 ChÃ¢teau de Chamirey  (Mercurey)</td><td>Pinot Noir</td><td>Domaines Devillard</td><td>6</td><td>5613</td></tr>\n",
       "</tbody>\n",
       "</table>\n"
      ],
      "text/latex": [
       "A data.frame: 2 × 15\n",
       "\\begin{tabular}{r|lllllllllllllll}\n",
       "  & country & description & designation & points & price & province & region\\_1 & region\\_2 & taster\\_name & taster\\_twitter\\_handle & title & variety & winery & tasterID & wineID\\\\\n",
       "  & <fct> & <chr> & <chr> & <int> & <dbl> & <chr> & <chr> & <chr> & <fct> & <fct> & <chr> & <fct> & <fct> & <int> & <int>\\\\\n",
       "\\hline\n",
       "\t185 & France & Full-bodied wine with ripe pear and red apple flavors, laced with delicate acidity. It's an elegant wine, a fine balance with a more mineral, tight texture as a counterpoint. Drink from 2014. & ChÃ¢teau de Chamirey & 88 & 35 & Burgundy & Mercurey & NA & Roger Voss & @vossroger & Domaines Devillard 2011 ChÃ¢teau de Chamirey  (Mercurey) & Chardonnay & Domaines Devillard & 6 & 5613\\\\\n",
       "\t186 & France & A smooth and rounded wine, its ripe plum and blueberry flavors well integrated into the soft tannins and sweet acidity. Drinkable now, but worth waiting for two more years.                    & ChÃ¢teau de Chamirey & 88 & 35 & Burgundy & Mercurey & NA & Roger Voss & @vossroger & Domaines Devillard 2011 ChÃ¢teau de Chamirey  (Mercurey) & Pinot Noir & Domaines Devillard & 6 & 5613\\\\\n",
       "\\end{tabular}\n"
      ],
      "text/markdown": [
       "\n",
       "A data.frame: 2 × 15\n",
       "\n",
       "| <!--/--> | country &lt;fct&gt; | description &lt;chr&gt; | designation &lt;chr&gt; | points &lt;int&gt; | price &lt;dbl&gt; | province &lt;chr&gt; | region_1 &lt;chr&gt; | region_2 &lt;chr&gt; | taster_name &lt;fct&gt; | taster_twitter_handle &lt;fct&gt; | title &lt;chr&gt; | variety &lt;fct&gt; | winery &lt;fct&gt; | tasterID &lt;int&gt; | wineID &lt;int&gt; |\n",
       "|---|---|---|---|---|---|---|---|---|---|---|---|---|---|---|---|\n",
       "| 185 | France | Full-bodied wine with ripe pear and red apple flavors, laced with delicate acidity. It's an elegant wine, a fine balance with a more mineral, tight texture as a counterpoint. Drink from 2014. | ChÃ¢teau de Chamirey | 88 | 35 | Burgundy | Mercurey | NA | Roger Voss | @vossroger | Domaines Devillard 2011 ChÃ¢teau de Chamirey  (Mercurey) | Chardonnay | Domaines Devillard | 6 | 5613 |\n",
       "| 186 | France | A smooth and rounded wine, its ripe plum and blueberry flavors well integrated into the soft tannins and sweet acidity. Drinkable now, but worth waiting for two more years.                    | ChÃ¢teau de Chamirey | 88 | 35 | Burgundy | Mercurey | NA | Roger Voss | @vossroger | Domaines Devillard 2011 ChÃ¢teau de Chamirey  (Mercurey) | Pinot Noir | Domaines Devillard | 6 | 5613 |\n",
       "\n"
      ],
      "text/plain": [
       "    country\n",
       "185 France \n",
       "186 France \n",
       "    description                                                                                                                                                                                    \n",
       "185 Full-bodied wine with ripe pear and red apple flavors, laced with delicate acidity. It's an elegant wine, a fine balance with a more mineral, tight texture as a counterpoint. Drink from 2014.\n",
       "186 A smooth and rounded wine, its ripe plum and blueberry flavors well integrated into the soft tannins and sweet acidity. Drinkable now, but worth waiting for two more years.                   \n",
       "    designation          points price province region_1 region_2 taster_name\n",
       "185 ChÃ¢teau de Chamirey 88     35    Burgundy Mercurey NA       Roger Voss \n",
       "186 ChÃ¢teau de Chamirey 88     35    Burgundy Mercurey NA       Roger Voss \n",
       "    taster_twitter_handle\n",
       "185 @vossroger           \n",
       "186 @vossroger           \n",
       "    title                                                    variety   \n",
       "185 Domaines Devillard 2011 ChÃ¢teau de Chamirey  (Mercurey) Chardonnay\n",
       "186 Domaines Devillard 2011 ChÃ¢teau de Chamirey  (Mercurey) Pinot Noir\n",
       "    winery             tasterID wineID\n",
       "185 Domaines Devillard 6        5613  \n",
       "186 Domaines Devillard 6        5613  "
      ]
     },
     "metadata": {},
     "output_type": "display_data"
    }
   ],
   "source": [
    "wine_clean[wine_clean$title == 'Domaines Devillard 2011 ChÃ¢teau de Chamirey  (Mercurey)',]"
   ]
  },
  {
   "cell_type": "markdown",
   "metadata": {},
   "source": [
    "## Collaborative Filtering"
   ]
  },
  {
   "cell_type": "markdown",
   "metadata": {},
   "source": [
    "### Item Based Collaborative Filtering"
   ]
  },
  {
   "cell_type": "code",
   "execution_count": 56,
   "metadata": {},
   "outputs": [],
   "source": [
    "# will be using taster_twitter_handler as userid, designation as item, points as the rating\n",
    "#wine_cf <- wine_clean[,c('tasterID', 'wineID', 'points')]\n",
    "wine_cf <- wine_clean[,c('tasterID', 'variety', 'points')]"
   ]
  },
  {
   "cell_type": "code",
   "execution_count": 57,
   "metadata": {},
   "outputs": [],
   "source": [
    "#head(wine_cf)"
   ]
  },
  {
   "cell_type": "code",
   "execution_count": 58,
   "metadata": {},
   "outputs": [],
   "source": [
    "wine_cf$tasterID <- as.factor(wine_cf$tasterID)\n",
    "#wine_cf$wineID <- as.factor(wine_cf$wineID)\n",
    "wine_cf$variety <- as.factor(wine_cf$variety)\n",
    "wine_cf$points <- as.numeric(wine_cf$points)"
   ]
  },
  {
   "cell_type": "code",
   "execution_count": 59,
   "metadata": {},
   "outputs": [],
   "source": [
    "#wine_cf_matrix <- dcast(wine_cf, tasterID ~ wineID, fun.aggregate = mean,value.var = 'points',fill=0)\n",
    "wine_cf_matrix <- dcast(wine_cf, tasterID ~ variety, fun.aggregate = mean,value.var = 'points',fill=0)"
   ]
  },
  {
   "cell_type": "code",
   "execution_count": 60,
   "metadata": {},
   "outputs": [],
   "source": [
    "rownames(wine_cf_matrix) = wine_cf_matrix[,1]"
   ]
  },
  {
   "cell_type": "code",
   "execution_count": 61,
   "metadata": {},
   "outputs": [],
   "source": [
    "wine_cf_matrix[,1] = NULL"
   ]
  },
  {
   "cell_type": "code",
   "execution_count": 62,
   "metadata": {},
   "outputs": [],
   "source": [
    "wine_cf_matrix <- as.matrix(wine_cf_matrix)"
   ]
  },
  {
   "cell_type": "code",
   "execution_count": 63,
   "metadata": {},
   "outputs": [
    {
     "name": "stdout",
     "output_type": "stream",
     "text": [
      "15.5 Kb\n"
     ]
    }
   ],
   "source": [
    "# dense matrix size\n",
    "print(object.size(wine_cf_matrix), units = 'auto')"
   ]
  },
  {
   "cell_type": "code",
   "execution_count": 64,
   "metadata": {},
   "outputs": [],
   "source": [
    "#wine_cf_spmat <- Matrix(wine_cf_matrix, sparse = TRUE)"
   ]
  },
  {
   "cell_type": "code",
   "execution_count": 66,
   "metadata": {},
   "outputs": [
    {
     "ename": "ERROR",
     "evalue": "Error in parse(text = x, srcfile = src): <text>:9:0: unexpected end of input\n7:                               j = as.numeric(wine_cf$wvariety,\n8:                                x = wine_cf$points)\n  ^\n",
     "output_type": "error",
     "traceback": [
      "Error in parse(text = x, srcfile = src): <text>:9:0: unexpected end of input\n7:                               j = as.numeric(wine_cf$wvariety,\n8:                                x = wine_cf$points)\n  ^\nTraceback:\n"
     ]
    }
   ],
   "source": [
    "# Sparse matrix\n",
    "wine_cf_spmat <- sparseMatrix(i = as.numeric(wine_cf$tasterID),\n",
    "                              j = as.numeric(wine_cf$wineID),\n",
    "                              x = wine_cf$points)"
   ]
  },
  {
   "cell_type": "code",
   "execution_count": 199,
   "metadata": {},
   "outputs": [
    {
     "name": "stdout",
     "output_type": "stream",
     "text": [
      "162.8 Kb\n"
     ]
    }
   ],
   "source": [
    "# size of sparse matrix\n",
    "print(object.size(wine_cf_spmat), units = 'auto')"
   ]
  },
  {
   "cell_type": "markdown",
   "metadata": {},
   "source": [
    "Sparse matrix has much smaller size than dense matrix and will be more memory efficient"
   ]
  },
  {
   "cell_type": "code",
   "execution_count": 200,
   "metadata": {},
   "outputs": [
    {
     "data": {
      "text/html": [
       "<ol class=list-inline>\n",
       "\t<li>6</li>\n",
       "\t<li>10309</li>\n",
       "</ol>\n"
      ],
      "text/latex": [
       "\\begin{enumerate*}\n",
       "\\item 6\n",
       "\\item 10309\n",
       "\\end{enumerate*}\n"
      ],
      "text/markdown": [
       "1. 6\n",
       "2. 10309\n",
       "\n",
       "\n"
      ],
      "text/plain": [
       "[1]     6 10309"
      ]
     },
     "metadata": {},
     "output_type": "display_data"
    }
   ],
   "source": [
    "dim(wine_cf_spmat)"
   ]
  },
  {
   "cell_type": "code",
   "execution_count": 201,
   "metadata": {},
   "outputs": [
    {
     "data": {
      "text/html": [
       "<ol class=list-inline>\n",
       "\t<li>6</li>\n",
       "\t<li>10309</li>\n",
       "</ol>\n"
      ],
      "text/latex": [
       "\\begin{enumerate*}\n",
       "\\item 6\n",
       "\\item 10309\n",
       "\\end{enumerate*}\n"
      ],
      "text/markdown": [
       "1. 6\n",
       "2. 10309\n",
       "\n",
       "\n"
      ],
      "text/plain": [
       "[1]     6 10309"
      ]
     },
     "metadata": {},
     "output_type": "display_data"
    }
   ],
   "source": [
    "dim(wine_cf_matrix)"
   ]
  },
  {
   "cell_type": "code",
   "execution_count": 202,
   "metadata": {},
   "outputs": [],
   "source": [
    "# normalized matrix\n",
    "#wine_cf_matrix_norm <- sweep(wine_cf_matrix, 1, rowMeans(wine_cf_matrix, na.rm = TRUE))"
   ]
  },
  {
   "cell_type": "code",
   "execution_count": 203,
   "metadata": {},
   "outputs": [],
   "source": [
    "#wine_cf_km <- kmeans(wine_cf_matrix_norm, 3)"
   ]
  },
  {
   "cell_type": "code",
   "execution_count": 204,
   "metadata": {},
   "outputs": [],
   "source": [
    "#wine_cf_km"
   ]
  },
  {
   "cell_type": "code",
   "execution_count": 205,
   "metadata": {},
   "outputs": [],
   "source": [
    "#wine_cf_km$cluster"
   ]
  },
  {
   "cell_type": "code",
   "execution_count": 206,
   "metadata": {},
   "outputs": [],
   "source": [
    "#wine_cf_km$size"
   ]
  },
  {
   "cell_type": "code",
   "execution_count": 207,
   "metadata": {},
   "outputs": [],
   "source": [
    "#wine_cf_svd <- svds(as.matrix(wine_cf_matrix_norm),500)"
   ]
  },
  {
   "cell_type": "markdown",
   "metadata": {},
   "source": [
    "Convert wine_cf to realRatingMatrix"
   ]
  },
  {
   "cell_type": "code",
   "execution_count": 67,
   "metadata": {},
   "outputs": [],
   "source": [
    "#convert wine dense matrix to realRatingMatrix\n",
    "wine_cf_rrm <- as(wine_cf_matrix, 'realRatingMatrix')"
   ]
  },
  {
   "cell_type": "code",
   "execution_count": 209,
   "metadata": {},
   "outputs": [],
   "source": [
    "#convert wine sparse to realRatingMatrix\n",
    "wine_cf_sprrm <- as(wine_cf_spmat, 'realRatingMatrix')"
   ]
  },
  {
   "cell_type": "code",
   "execution_count": 68,
   "metadata": {},
   "outputs": [
    {
     "ename": "ERROR",
     "evalue": "Error in intI(j, n = d[2], dn[[2]], give.dn = FALSE): index larger than maximal 122\n",
     "output_type": "error",
     "traceback": [
      "Error in intI(j, n = d[2], dn[[2]], give.dn = FALSE): index larger than maximal 122\nTraceback:\n",
      "1. getRatingMatrix(wine_cf_rrm[c(1:5), c(500:550)])",
      "2. wine_cf_rrm[c(1:5), c(500:550)]",
      "3. wine_cf_rrm[c(1:5), c(500:550)]",
      "4. x@data[i, j, ..., drop = FALSE]",
      "5. x@data[i, j, ..., drop = FALSE]",
      "6. subCsp_ij(x, i, j, drop = drop)",
      "7. intI(j, n = d[2], dn[[2]], give.dn = FALSE)",
      "8. stop(gettextf(\"index larger than maximal %d\", n), domain = NA)"
     ]
    }
   ],
   "source": [
    "getRatingMatrix(wine_cf_rrm[c(1:5), c(500:550)])"
   ]
  },
  {
   "cell_type": "code",
   "execution_count": 211,
   "metadata": {},
   "outputs": [
    {
     "data": {
      "text/plain": [
       "5 x 51 sparse Matrix of class \"dgCMatrix\"\n",
       "                                                                               \n",
       "[1,] 94 93  . . . . . . . . . . .  .  .  . . 93 93 . . 91 92 91 90 . 94 . 94 93\n",
       "[2,]  .  . 88 . . . . . . . . . .  .  .  . .  .  . . .  .  .  .  . .  . .  .  .\n",
       "[3,]  .  .  . . . . . . . . . . . 89 89 85 .  .  . . .  .  .  .  . .  . .  .  .\n",
       "[4,]  .  .  . . . . . . . . . . .  .  .  . .  .  . . .  .  .  .  . .  . .  .  .\n",
       "[5,]  .  .  . . . . . . . . . . .  .  .  . .  .  . . .  .  .  .  . .  . .  .  .\n",
       "                                                            \n",
       "[1,] 93 92 92 94 93 90 89 91 90 89 89 93 95 91 . . . . . . .\n",
       "[2,]  .  .  .  .  .  .  .  .  .  .  .  .  .  . . . . . . . .\n",
       "[3,]  .  .  .  .  .  .  .  .  .  .  .  .  .  . . . . . . . .\n",
       "[4,]  .  .  .  .  .  .  .  .  .  .  .  .  .  . . . . . . . .\n",
       "[5,]  .  .  .  .  .  .  .  .  .  .  .  .  .  . . . . . . . ."
      ]
     },
     "metadata": {},
     "output_type": "display_data"
    }
   ],
   "source": [
    "getRatingMatrix(wine_cf_sprrm[c(1:5), c(500:550)])"
   ]
  },
  {
   "cell_type": "code",
   "execution_count": 212,
   "metadata": {},
   "outputs": [],
   "source": [
    "#wine_cf_rrm_n <- as(wine_cf_matrix_norm, 'realRatingMatrix')"
   ]
  },
  {
   "cell_type": "code",
   "execution_count": 69,
   "metadata": {},
   "outputs": [
    {
     "name": "stderr",
     "output_type": "stream",
     "text": [
      "\n",
      "Attaching package: 'reshape2'\n",
      "\n",
      "The following objects are masked from 'package:data.table':\n",
      "\n",
      "    dcast, melt\n",
      "\n",
      "The following object is masked from 'package:tidyr':\n",
      "\n",
      "    smiths\n",
      "\n"
     ]
    }
   ],
   "source": [
    "###############################################################\n",
    "# simple user-user and item-item collaborative filtering\n",
    "# using ratings data in tabular format (rows as users, columns as items)\n",
    "################################################################\n",
    "\n",
    "library(Matrix)\n",
    "library(stringr)\n",
    "library(reshape2)\n",
    "library(compiler)\n",
    "\n",
    "# Make recommendations for the target user using User-based CF\n",
    "getrecommendations_UU <- function(targetuser, users, topN=5, simfun=pearsonsim) {\n",
    "  sims = apply(users,1,function(user) simfun(user,targetuser)) \n",
    "  sims = sims[!is.na(sims) & sims >=0] # get rid of any similarity less than 0\n",
    "  wavrats = apply(users[names(sims),is.na(targetuser), drop=FALSE],2,function(rats) weighted.mean(rats, sims, na.rm=TRUE)) #computer weighted average rating for every non Toby user \n",
    "  s = sort(wavrats[!is.na(wavrats)], decreasing = TRUE) \n",
    "  if (topN == FALSE) s else s[1:min(topN,length(s))] # get topN items\n",
    "}\n",
    "#getrecommendations_UU = cmpfun(getrecommendations_UU)\n",
    "\n",
    "# get recommedations for the target user using Item-based CF\n",
    "getrecommendations_II <- function(targetuser, itemsims, topN=5) {\n",
    "  targetuser = targetuser[colnames(itemsims)] # ensure the item order is the same as simmatrix\n",
    "  seenitems  = !is.na(targetuser)\n",
    "  unseenitems = is.na(targetuser)\n",
    "  seenrats = targetuser[seenitems]\n",
    "  preds = apply(itemsims[unseenitems,seenitems, drop=FALSE], 1, function(simrow) my.weighted.mean(seenrats, simrow))\n",
    "  sp = sort(preds[!is.na(preds)] , decreasing = TRUE)\n",
    "  sp[1:min(topN,length(sp))]  # get topN items\n",
    "}\n",
    "getrecommendations_II = cmpfun(getrecommendations_II)\n",
    "\n",
    "# compute the item-item similarity matrix (the matrix is symmetric so can compute half & then copy)\n",
    "# (setting dir=1 generates the user similarity matrix)\n",
    "getitemsimsmatrix = function(users, simfun=cosinesim, dir=2) {\n",
    "  rw <<- 1; \n",
    "  itemsims = apply(users, dir, function(itemA) {\n",
    "    rw <<- rw + 1 ; cl <<- 1; \n",
    "    apply(users,dir,function(itemB) {cl<<-cl+1; if (cl<rw) NA else if (cl==rw) NA else simfun(itemA,itemB)})\n",
    "  })\n",
    "  m = forceSymmetric(itemsims,uplo=\"L\") # copy lower half to upper half\n",
    "  as.matrix(m)\n",
    "}\n",
    "getitemsimsmatrix = cmpfun(getitemsimsmatrix)\n",
    "\n",
    "# similarity functions\n",
    "euclidsim = function(x,y) { z=(y-x)^2; sz=sqrt(sum(z,na.rm=TRUE));\n",
    "                            if (sz!=0) 1/(1+sz) else if (length(which(!is.na(z)))==0) NA else 1/(1+sz)}\n",
    "\n",
    "euclidsimF= function(x,y) { z=(y-x)^2; sz=sum(z,na.rm=TRUE);\n",
    "                            if (sz!=0) 1/(1+sz) else if (length(which(!is.na(z)))==0) NA else 1/(1+sz)} \n",
    "\n",
    "cosinesim = function(x,y) { xy = x*y; sum(xy, na.rm=TRUE)/(sqrt(sum(x[!is.na(xy)]^2)*sum(y[!is.na(xy)]^2)))}\n",
    "\n",
    "pearsonsim= function(x,y) { suppressWarnings(cor(unlist(x),unlist(y),use=\"pairwise.complete.obs\")) }\n",
    "\n",
    "mypearsim = function(x,y) { xy = x*y; x=x[!is.na(xy)]; y=y[!is.na(xy)]; \n",
    "                            mx=mean(x); my=mean(y);\n",
    "                            sum((x-mx)*(y-my))/(sqrt(sum((x-mx)^2)*sum((y-my)^2)))}\n",
    "\n",
    "pearsonRM = function(x,y) { mx=mean(x,na.rm=TRUE);my=mean(y,na.rm=TRUE);\n",
    "                            xy=x*y;x=x[!is.na(xy)]; y=y[!is.na(xy)]\n",
    "                            sum((x-mx)*(y-my))/(sqrt(sum((x-mx)^2)*sum((y-my)^2)))}\n",
    "\n",
    "jacardsim = function(x,y) { validx= !is.na(x); validy= !is.na(y); \n",
    "                            sum(as.integer(validx&validy))/sum(as.integer(validx|validy))}\n",
    "\n",
    "###############################################################################\n",
    "# For testing, we split the data by user, so test users are not in the trainset\n",
    "# This is clean but does not test the situation where partial information \n",
    "# is known about a user (as may be the case in User-based scenario).\n",
    "# For item-based having partial info will make very little difference (since simmatrix is precomputed)\n",
    "###############################################################################\n",
    "\n",
    "# make predicted ratings for a sample of items for each test user\n",
    "# if trainusers is defined then do User-based CF else do Item-based CF\n",
    "# Note: if Item-based CF is to be performed them the itemsimilarity matrix (itemsims) must be defined\n",
    "predictCF = function(testusers, trainusers=NULL, itemsims=NULL, numtestitems=10, random=FALSE, simfun=cosinesim) {\n",
    "  preds = sapply(1:nrow(testusers),function(i) {\n",
    "    cat(\".\")\n",
    "    predictuser(testusers[i,],trainusers=trainusers,itemsims=itemsims,numtestitems=numtestitems,random=random,simfun=simfun)})\n",
    "  colnames(preds) = rownames(testusers)\n",
    "  preds\n",
    "}\n",
    "\n",
    "predictuser <- function(testuser, trainusers=NULL, itemsims=NULL, numtestitems=10, random=FALSE, simfun=cosinesim) {\n",
    "  seenitemnames   = names(testuser)[!is.na(testuser)]\n",
    "  if (random) testitemnames = sample(seenitemnames,min(numtestitems,length(seenitemnames))) # test a random N items\n",
    "  else testitemnames = seenitemnames[1:min(numtestitems,length(seenitemnames))] # test first N items\n",
    "  preds = list()\n",
    "  for (testitemname in testitemnames) {\n",
    "    truerating = testuser[testitemname] \n",
    "    testuser[testitemname] = NA\n",
    "    if (!is.null(trainusers)) {\n",
    "      # do user-based CF\n",
    "      usersims = apply(trainusers,1,function(trainuser) simfun(trainuser,testuser))\n",
    "      usersims = usersims[!is.na(usersims) & usersims >=0]\n",
    "      predictedrating = my.weighted.mean(trainusers[names(usersims),testitemname], usersims)\n",
    "    }\n",
    "    else {\n",
    "      # do item-based CF\n",
    "      predictedrating = my.weighted.mean(testuser[seenitemnames], itemsims[seenitemnames,testitemname])\n",
    "    }\n",
    "    testuser[testitemname] = truerating # restore the actual rating\n",
    "    preds = c(preds,predictedrating,truerating)\n",
    "  }\n",
    "  preds = unname(preds)\n",
    "  m = as.matrix(preds)\n",
    "  if (length(m) < numtestitems*2) for (i in (length(m)+1):(numtestitems*2)) { m = rbind(m,NA)}\n",
    "  return(m)\n",
    "}\n",
    "predictuser= cmpfun(predictuser)\n",
    "\n",
    "# a weighted mean that handles NA's in both arguments (ratings and similarities)\n",
    "my.weighted.mean = function(x,y) {\n",
    "    xy = x*y; \n",
    "    z = sum(abs(y[!is.na(xy)]))\n",
    "    if (z == 0) as.numeric(NA) else sum(xy,na.rm=TRUE)/z \n",
    "}\n",
    "my.weighted.mean = cmpfun(my.weighted.mean)\n",
    "\n",
    "# computes average, mean absolute error\n",
    "# each row contains prediction, actual, prediction, actual etc, hence errors are just the diff between consecutive cells\n",
    "avgMAE = function(preds) {\n",
    "  plist = unlist(preds)\n",
    "  errors = sapply(1:(length(plist)/2),function(i) abs(plist[i*2-1]-plist[i*2]))\n",
    "  errors = errors[errors != Inf]\n",
    "  mean(errors,na.rm=TRUE)\n",
    "}\n",
    "\n",
    "showCM = function(preds, like) {\n",
    "  plist = unlist(preds)\n",
    "  cnts = sapply(1:(length(plist)/2), function(i) {\n",
    "    pred = plist[i*2-1] ; actual = plist[i*2]\n",
    "    if (!is.na(pred) & !is.nan(actual)) {\n",
    "      if (pred>=like) {if(actual>=like) c(1,0,0,0) else c(0,1,0,0)}\n",
    "      else if(actual<like) c(0,0,1,0) else c(0,0,0,1) \n",
    "    } else c(0,0,0,0)\n",
    "  })\n",
    "  s = rowSums(cnts)   #returns cnts for: TP, FP, TN, FN\n",
    "\n",
    "  cat(sprintf(\"TN=%5d FP=%5d\\n\",s[3],s[2]))\n",
    "  cat(sprintf(\"FN=%5d TP=%5d  (total=%d)\\n\",s[4],s[1], sum(s)))\n",
    "  cat(sprintf(\"accuracy  = %0.1f%%\\n\",(s[1]+s[3])*100/sum(s)))\n",
    "  cat(sprintf(\"precision = %3.1f%%\\n\",s[1]*100/(s[1]+s[2])))\n",
    "  cat(sprintf(\"recall    = %3.1f%%\\n\",s[1]*100/(s[1]+s[4])))\n",
    "}\n",
    "\n",
    "#######################\n",
    "# miscellaneous aids\n",
    "#######################\n",
    "\n",
    "maketraintest = function(users,numtestusers) {\n",
    "  testnames  = sample(rownames(users), min(numtestusers,nrow(users))) # identify N users randomly for testing\n",
    "  trainnames = setdiff(rownames(users),testnames) # take remaining users for training\n",
    "  trainusers <<- users[trainnames,]\n",
    "  testusers  <<- users[testnames,]\n",
    "  list(trainusers,testusers)\n",
    "}\n",
    "\n",
    "# extract only prediction or only actual ratings from the output of predictCF()\n",
    "listpreds= function(results) {unlist(results)[c(TRUE,FALSE)]}\n",
    "listrats = function(results) {unlist(results)[c(FALSE,TRUE)]}\n",
    "validcnt = function(x) length(which(is.finite(x)))\n",
    "\n",
    "# How sparse is the data in a data frame? Compute % of non-blank entries\n",
    "fillrate = function(df) {cat((length(which(!is.na(df)))*100)/(nrow(df)*ncol(df)),\"%\")}\n",
    "fillrate = cmpfun(fillrate)\n",
    "\n",
    "# same as above but also works on vectors\n",
    "fillratev = function(df) {t=unlist(df); cat((length(which(!is.na(t)))*100)/length(t),\"%\")}\n",
    "fillratev = cmpfun(fillratev)\n",
    "\n",
    "# how many values are > 0? Compute % of entries > 0\n",
    "fillrateG = function(df,thresh) {t=unlist(df); cat((length(which(!is.na(t) & t > thresh))*100)/length(t),\"%\")}\n",
    "fillrateL = function(df,thresh) {t=unlist(df); cat((length(which(!is.na(t) & t < thresh))*100)/length(t),\"%\")}\n",
    "fillrateE = function(df,thresh) {t=unlist(df); cat((length(which(!is.na(t) & t == thresh))*100)/length(t),\"%\")}\n"
   ]
  },
  {
   "cell_type": "markdown",
   "metadata": {},
   "source": [
    "Item Based Collaborative Filtering"
   ]
  },
  {
   "cell_type": "markdown",
   "metadata": {},
   "source": [
    "Throughout the R code and associated summary tables, recommender models will be identified according to the following naming construct:<br>\n",
    "MMMM_X_D<br>\n",
    "with the subcomponents defined as follows:<br>\n",
    "‘MMMM’ can be either “UBCF” in the case of a user-based collaborative filter or “IBCF” in the case of a item-based collaborative filter.<br>\n",
    "‘X’ will be a single letter indicative of the type of normalization used within the model. Valid values will be N for no normalization (i.e., the raw data is used), Z for Z-score normalization, and C for centering-based normalization.<br>\n",
    "‘D’ will be a single letter indicative of the type of similarity metric used within the model. Valid values will be C for cosine similarity, E for Euclidean Distance, and P for Pearson’s Correlation.<br>"
   ]
  },
  {
   "cell_type": "markdown",
   "metadata": {},
   "source": [
    "We will attempt the following models: <br>\n",
    "IBCF_N_C -> Item based collaborative filtering with no normalisation with cosine similarity metric<br>\n",
    "IBCF_C_C -> Item based collaborative filtering with centering and consine similarity metric <br>\n",
    "IBCF_Z_C -> Item based collaborative filtering with z score normalisation and cosine similarity metric<br>"
   ]
  },
  {
   "cell_type": "code",
   "execution_count": null,
   "metadata": {},
   "outputs": [],
   "source": []
  },
  {
   "cell_type": "code",
   "execution_count": 70,
   "metadata": {},
   "outputs": [],
   "source": [
    "numtestusers = 10\n",
    "test = sample(rownames(wine_cf_matrix), min(numtestusers,nrow(wine_cf_matrix)))\n",
    "train = setdiff(rownames(wine_cf_matrix), test)"
   ]
  },
  {
   "cell_type": "code",
   "execution_count": 71,
   "metadata": {},
   "outputs": [
    {
     "data": {
      "text/plain": [
       "Time difference of 0.04298592 secs"
      ]
     },
     "metadata": {},
     "output_type": "display_data"
    }
   ],
   "source": [
    "#Item based\n",
    "st=Sys.time(); events_itemsimsC  = getitemsimsmatrix(wine_cf_matrix[train,], simfun=cosinesim); Sys.time()-st"
   ]
  },
  {
   "cell_type": "code",
   "execution_count": 72,
   "metadata": {},
   "outputs": [
    {
     "name": "stdout",
     "output_type": "stream",
     "text": [
      "......"
     ]
    },
    {
     "data": {
      "text/plain": [
       "Time difference of 0.003998041 secs"
      ]
     },
     "metadata": {},
     "output_type": "display_data"
    }
   ],
   "source": [
    "st=Sys.time();preds = predictCF(wine_cf_matrix[test,], itemsims=events_itemsimsC, numtestitems=10, random=TRUE); Sys.time()-st"
   ]
  },
  {
   "cell_type": "code",
   "execution_count": 73,
   "metadata": {},
   "outputs": [
    {
     "name": "stdout",
     "output_type": "stream",
     "text": [
      "avg MAE = NaN"
     ]
    }
   ],
   "source": [
    "cat(\"avg MAE =\",avgMAE(preds)) # 0.004817273"
   ]
  },
  {
   "cell_type": "markdown",
   "metadata": {},
   "source": [
    "## Using recommenderlab"
   ]
  },
  {
   "cell_type": "markdown",
   "metadata": {},
   "source": [
    "Train Test Split"
   ]
  },
  {
   "cell_type": "code",
   "execution_count": 241,
   "metadata": {},
   "outputs": [],
   "source": [
    "#prune data to more than users who have reviewed more than 1000 wines and wines that have been reviewed more than once\n",
    "wine_rating <- wine_cf_sprrm[rowCounts(wine_cf_sprrm) > 1000, colCounts(wine_cf_sprrm) >= 1]\n",
    "wine_rating1 <- wine_rating[rowCounts(wine_rating) > 1000,]"
   ]
  },
  {
   "cell_type": "code",
   "execution_count": 242,
   "metadata": {},
   "outputs": [
    {
     "data": {
      "text/plain": [
       "2 x 10309 rating matrix of class 'realRatingMatrix' with 9182 ratings."
      ]
     },
     "metadata": {},
     "output_type": "display_data"
    }
   ],
   "source": [
    "wine_rating1"
   ]
  },
  {
   "cell_type": "code",
   "execution_count": 243,
   "metadata": {},
   "outputs": [],
   "source": [
    "# create training, test indices at 80/20\n",
    "which_train <- sample(x = c(TRUE, FALSE), size = nrow(wine_rating1), replace = TRUE, prob = c(0.8, 0.2))\n",
    "\n"
   ]
  },
  {
   "cell_type": "code",
   "execution_count": 244,
   "metadata": {},
   "outputs": [],
   "source": [
    "# create the training and the test data sets\n",
    "recc_data_train <- wine_rating1[which_train, ]\n",
    "recc_data_test <- wine_rating1[!which_train, ]\n",
    "\n"
   ]
  },
  {
   "cell_type": "code",
   "execution_count": 245,
   "metadata": {},
   "outputs": [],
   "source": [
    "# Build recommender IBCF - cosine:\n",
    "recc_model <- Recommender(data = recc_data_train, method = \"IBCF\", parameter = list(k = 30))"
   ]
  },
  {
   "cell_type": "code",
   "execution_count": 246,
   "metadata": {
    "scrolled": true
   },
   "outputs": [
    {
     "name": "stdout",
     "output_type": "stream",
     "text": [
      "[1] \"Similarity Matrix Dimensions\"\n"
     ]
    }
   ],
   "source": [
    "# We have now created a IBCF Recommender Model\n",
    "\n",
    "model_details <- getModel(recc_model) \n",
    "\n",
    "print(\"Similarity Matrix Dimensions\")"
   ]
  },
  {
   "cell_type": "code",
   "execution_count": 248,
   "metadata": {},
   "outputs": [],
   "source": [
    "p <- predict(recc_model, recc_data_test,type = 'ratings' )\n"
   ]
  },
  {
   "cell_type": "code",
   "execution_count": 252,
   "metadata": {},
   "outputs": [
    {
     "data": {
      "text/html": [],
      "text/latex": [],
      "text/markdown": [],
      "text/plain": [
       "integer(0)"
      ]
     },
     "metadata": {},
     "output_type": "display_data"
    }
   ],
   "source": [
    "# Testing item based model\n",
    "n_recommended <- 5\n",
    "recc_predicted <- predict(object = recc_model, newdata = recc_data_test, n = n_recommended)\n",
    "\n",
    "# This is the recommendation for the first user\n",
    "recc_predicted@items[[1]]"
   ]
  },
  {
   "cell_type": "markdown",
   "metadata": {},
   "source": [
    "#####"
   ]
  },
  {
   "cell_type": "code",
   "execution_count": 77,
   "metadata": {},
   "outputs": [],
   "source": [
    "eval <- evaluationScheme(wine_cf_rrm, method = 'split', train = 0.8, given = 10, goodRating = 85)"
   ]
  },
  {
   "cell_type": "code",
   "execution_count": 99,
   "metadata": {},
   "outputs": [],
   "source": [
    "#eval2 <- evaluationScheme(wine_cf_rrm_2, method = 'split', train = 0.8, given = 10, goodRating = 50)"
   ]
  },
  {
   "cell_type": "code",
   "execution_count": 103,
   "metadata": {},
   "outputs": [],
   "source": [
    "# train test split on sparse realRatingMatrix\n",
    "eval_sp <- evaluationScheme(wine_cf_sprrm, method = 'split', train = 0.8, given = 1, goodRating = 85)"
   ]
  },
  {
   "cell_type": "code",
   "execution_count": 78,
   "metadata": {},
   "outputs": [
    {
     "data": {
      "text/plain": [
       "4 x 122 rating matrix of class 'realRatingMatrix' with 488 ratings."
      ]
     },
     "metadata": {},
     "output_type": "display_data"
    }
   ],
   "source": [
    "# Training Data\n",
    "# normal matrix realRatingMatrix\n",
    "getData(eval, 'train')"
   ]
  },
  {
   "cell_type": "code",
   "execution_count": 73,
   "metadata": {},
   "outputs": [
    {
     "data": {
      "text/plain": [
       "4 x 10309 rating matrix of class 'realRatingMatrix' with 9932 ratings."
      ]
     },
     "metadata": {},
     "output_type": "display_data"
    }
   ],
   "source": [
    "# on sparse realRatingMatrix\n",
    "getData(eval_sp, 'train')"
   ]
  },
  {
   "cell_type": "code",
   "execution_count": 79,
   "metadata": {},
   "outputs": [
    {
     "data": {
      "text/plain": [
       "2 x 122 rating matrix of class 'realRatingMatrix' with 20 ratings."
      ]
     },
     "metadata": {},
     "output_type": "display_data"
    }
   ],
   "source": [
    "# Test data: \"known\"/\"given\" ratings\n",
    "getData(eval,'known')"
   ]
  },
  {
   "cell_type": "code",
   "execution_count": 75,
   "metadata": {},
   "outputs": [
    {
     "data": {
      "text/plain": [
       "2 x 10309 rating matrix of class 'realRatingMatrix' with 20 ratings."
      ]
     },
     "metadata": {},
     "output_type": "display_data"
    }
   ],
   "source": [
    "getData(eval_sp, 'known')"
   ]
  },
  {
   "cell_type": "code",
   "execution_count": 81,
   "metadata": {},
   "outputs": [
    {
     "data": {
      "text/plain": [
       "2 x 122 rating matrix of class 'realRatingMatrix' with 224 ratings."
      ]
     },
     "metadata": {},
     "output_type": "display_data"
    }
   ],
   "source": [
    "# Test data: \"unknown\" ratings to be predicted and evaluated against\n",
    "getData(eval, 'unknown')"
   ]
  },
  {
   "cell_type": "code",
   "execution_count": 80,
   "metadata": {},
   "outputs": [
    {
     "ename": "ERROR",
     "evalue": "Error in getData(eval_sp, \"unknown\"): object 'eval_sp' not found\n",
     "output_type": "error",
     "traceback": [
      "Error in getData(eval_sp, \"unknown\"): object 'eval_sp' not found\nTraceback:\n",
      "1. getData(eval_sp, \"unknown\")"
     ]
    }
   ],
   "source": [
    "getData(eval_sp, 'unknown')"
   ]
  },
  {
   "cell_type": "code",
   "execution_count": 82,
   "metadata": {},
   "outputs": [
    {
     "data": {
      "text/plain": [
       "Recommender method: IBCF for realRatingMatrix\n",
       "Description: Recommender based on item-based collaborative filtering.\n",
       "Reference: NA\n",
       "Parameters:\n",
       "   k   method normalize normalize_sim_matrix alpha na_as_zero\n",
       "1 30 \"Cosine\"  \"center\"                FALSE   0.5      FALSE"
      ]
     },
     "metadata": {},
     "output_type": "display_data"
    }
   ],
   "source": [
    "# Item Based Collaborative Filtering\n",
    "recommenderRegistry$get_entry('IBCF', dataType = 'realRatingMatrix')"
   ]
  },
  {
   "cell_type": "code",
   "execution_count": 83,
   "metadata": {},
   "outputs": [],
   "source": [
    "# Train IBCF cosine similarity models:\n",
    "\n",
    "# without normalization\n",
    "IBCF_N_C <- Recommender(getData(eval, 'train'), 'IBCF', parameter = list(normalize = NULL, method = \"Cosine\", k = 1))"
   ]
  },
  {
   "cell_type": "code",
   "execution_count": null,
   "metadata": {},
   "outputs": [],
   "source": [
    "# on sparse RRM\n",
    "IBCF_N_C_sp <- Recommender(getData(eval_sp, 'train'), 'IBCF', parameter = list(normalize = NULL, method = 'Cosine', k = 1))"
   ]
  },
  {
   "cell_type": "code",
   "execution_count": 84,
   "metadata": {},
   "outputs": [
    {
     "data": {
      "text/html": [
       "<dl class=dl-horizontal>\n",
       "\t<dt>RMSE</dt>\n",
       "\t\t<dd>0.921515511572199</dd>\n",
       "\t<dt>MSE</dt>\n",
       "\t\t<dd>0.849190838068172</dd>\n",
       "\t<dt>MAE</dt>\n",
       "\t\t<dd>0.782734546722788</dd>\n",
       "</dl>\n"
      ],
      "text/latex": [
       "\\begin{description*}\n",
       "\\item[RMSE] 0.921515511572199\n",
       "\\item[MSE] 0.849190838068172\n",
       "\\item[MAE] 0.782734546722788\n",
       "\\end{description*}\n"
      ],
      "text/markdown": [
       "RMSE\n",
       ":   0.921515511572199MSE\n",
       ":   0.849190838068172MAE\n",
       ":   0.782734546722788\n",
       "\n"
      ],
      "text/plain": [
       "     RMSE       MSE       MAE \n",
       "0.9215155 0.8491908 0.7827345 "
      ]
     },
     "metadata": {},
     "output_type": "display_data"
    }
   ],
   "source": [
    "# Evaluation of Models\n",
    "p1 <- predict(IBCF_N_C, getData(eval, 'known'),type = 'ratings' )\n",
    "\n",
    "calcPredictionAccuracy(p1, getData(eval, 'unknown'))"
   ]
  },
  {
   "cell_type": "code",
   "execution_count": null,
   "metadata": {},
   "outputs": [],
   "source": [
    "# Evaluation of Models\n",
    "p2 <- predict(IBCF_N_C_sp, getData(eval_sp, 'known'),type = 'ratings' )\n",
    "\n",
    "calcPredictionAccuracy(p2, getData(eval_sp, 'unknown'))"
   ]
  },
  {
   "cell_type": "markdown",
   "metadata": {},
   "source": [
    "## Content Based Recommender"
   ]
  },
  {
   "cell_type": "code",
   "execution_count": 117,
   "metadata": {},
   "outputs": [
    {
     "data": {
      "text/html": [
       "<ol class=list-inline>\n",
       "\t<li><span style=white-space:pre-wrap>'This is ripe and fruity, a wine that is smooth while still structured. Firm tannins are filled out with juicy red berry fruits and freshened with acidity. It\\'s  already drinkable, although it will certainly be better from 2016.'</span></li>\n",
       "\t<li>'Pineapple rind, lemon pith and orange blossom start off the aromas. The palate is a bit more opulent, with notes of honey-drizzled guava and mango giving way to a slightly astringent, semidry finish.'</li>\n",
       "\t<li>'Much like the regular bottling from 2012, this comes across as rather rough and tannic, with rustic, earthy, herbal characteristics. Nonetheless, if you think of it as a pleasantly unfussy country wine, it\\'s a good companion to a hearty winter stew.'</li>\n",
       "\t<li>'Blackberry and raspberry aromas show a typical Navarran whiff of green herbs and, in this case, horseradish. In the mouth, this is fairly full bodied, with tomatoey acidity. Spicy, herbal flavors complement dark plum fruit, while the finish is fresh but grabby.'</li>\n",
       "\t<li>'Here\\'s a bright, informal red that opens with aromas of candied berry, white pepper and savory herb that carry over to the palate. It\\'s balanced with fresh acidity and soft tannins.'</li>\n",
       "</ol>\n"
      ],
      "text/latex": [
       "\\begin{enumerate*}\n",
       "\\item 'This is ripe and fruity, a wine that is smooth while still structured. Firm tannins are filled out with juicy red berry fruits and freshened with acidity. It\\textbackslash{}'s  already drinkable, although it will certainly be better from 2016.'\n",
       "\\item 'Pineapple rind, lemon pith and orange blossom start off the aromas. The palate is a bit more opulent, with notes of honey-drizzled guava and mango giving way to a slightly astringent, semidry finish.'\n",
       "\\item 'Much like the regular bottling from 2012, this comes across as rather rough and tannic, with rustic, earthy, herbal characteristics. Nonetheless, if you think of it as a pleasantly unfussy country wine, it\\textbackslash{}'s a good companion to a hearty winter stew.'\n",
       "\\item 'Blackberry and raspberry aromas show a typical Navarran whiff of green herbs and, in this case, horseradish. In the mouth, this is fairly full bodied, with tomatoey acidity. Spicy, herbal flavors complement dark plum fruit, while the finish is fresh but grabby.'\n",
       "\\item 'Here\\textbackslash{}'s a bright, informal red that opens with aromas of candied berry, white pepper and savory herb that carry over to the palate. It\\textbackslash{}'s balanced with fresh acidity and soft tannins.'\n",
       "\\end{enumerate*}\n"
      ],
      "text/markdown": [
       "1. <span style=white-space:pre-wrap>'This is ripe and fruity, a wine that is smooth while still structured. Firm tannins are filled out with juicy red berry fruits and freshened with acidity. It\\'s  already drinkable, although it will certainly be better from 2016.'</span>\n",
       "2. 'Pineapple rind, lemon pith and orange blossom start off the aromas. The palate is a bit more opulent, with notes of honey-drizzled guava and mango giving way to a slightly astringent, semidry finish.'\n",
       "3. 'Much like the regular bottling from 2012, this comes across as rather rough and tannic, with rustic, earthy, herbal characteristics. Nonetheless, if you think of it as a pleasantly unfussy country wine, it\\'s a good companion to a hearty winter stew.'\n",
       "4. 'Blackberry and raspberry aromas show a typical Navarran whiff of green herbs and, in this case, horseradish. In the mouth, this is fairly full bodied, with tomatoey acidity. Spicy, herbal flavors complement dark plum fruit, while the finish is fresh but grabby.'\n",
       "5. 'Here\\'s a bright, informal red that opens with aromas of candied berry, white pepper and savory herb that carry over to the palate. It\\'s balanced with fresh acidity and soft tannins.'\n",
       "\n",
       "\n"
      ],
      "text/plain": [
       "[1] \"This is ripe and fruity, a wine that is smooth while still structured. Firm tannins are filled out with juicy red berry fruits and freshened with acidity. It's  already drinkable, although it will certainly be better from 2016.\"                                  \n",
       "[2] \"Pineapple rind, lemon pith and orange blossom start off the aromas. The palate is a bit more opulent, with notes of honey-drizzled guava and mango giving way to a slightly astringent, semidry finish.\"                                                              \n",
       "[3] \"Much like the regular bottling from 2012, this comes across as rather rough and tannic, with rustic, earthy, herbal characteristics. Nonetheless, if you think of it as a pleasantly unfussy country wine, it's a good companion to a hearty winter stew.\"            \n",
       "[4] \"Blackberry and raspberry aromas show a typical Navarran whiff of green herbs and, in this case, horseradish. In the mouth, this is fairly full bodied, with tomatoey acidity. Spicy, herbal flavors complement dark plum fruit, while the finish is fresh but grabby.\"\n",
       "[5] \"Here's a bright, informal red that opens with aromas of candied berry, white pepper and savory herb that carry over to the palate. It's balanced with fresh acidity and soft tannins.\"                                                                                "
      ]
     },
     "metadata": {},
     "output_type": "display_data"
    }
   ],
   "source": [
    "wine_clean$description[1:5]"
   ]
  },
  {
   "cell_type": "code",
   "execution_count": 118,
   "metadata": {},
   "outputs": [],
   "source": [
    "mystopwords = c(stopwords('english'), 'the', 'and', 'wine')"
   ]
  },
  {
   "cell_type": "code",
   "execution_count": 119,
   "metadata": {},
   "outputs": [],
   "source": [
    "desc_corpus <- VCorpus(VectorSource(wine_clean$description))"
   ]
  },
  {
   "cell_type": "code",
   "execution_count": 120,
   "metadata": {},
   "outputs": [],
   "source": [
    "desc_corpus <- tm_map(desc_corpus, content_transformer(tolower))"
   ]
  },
  {
   "cell_type": "code",
   "execution_count": 121,
   "metadata": {},
   "outputs": [],
   "source": [
    "desc_corpus <- tm_map(desc_corpus, removeNumbers)"
   ]
  },
  {
   "cell_type": "code",
   "execution_count": 122,
   "metadata": {},
   "outputs": [],
   "source": [
    "desc_corpus <- tm_map(desc_corpus, removeWords, c(stopwords('english'),'the', 'and', 'wine'))\n",
    "desc_corpus <- tm_map(desc_corpus, removePunctuation)\n",
    "desc_corpus <- tm_map(desc_corpus, stemDocument)\n",
    "desc_corpus <- tm_map(desc_corpus, removeWords, stopwords('english'))\n",
    "desc_corpus <- tm_map(desc_corpus, stripWhitespace)"
   ]
  },
  {
   "cell_type": "code",
   "execution_count": 123,
   "metadata": {},
   "outputs": [
    {
     "name": "stdout",
     "output_type": "stream",
     "text": [
      "$content\n",
      "[1] \"ripe fruiti smooth still structur firm tannin fill juici red berri fruit freshen acid alreadi drinkabl although will certain better\"\n",
      "\n",
      "$content\n",
      "[1] \"pineappl rind lemon pith orang blossom start aroma palat bit opul note honeydrizzl guava mango give way slight astring semidri finish\"\n",
      "\n",
      "$content\n",
      "[1] \"much like regular bottl come across rather rough tannic rustic earthi herbal characterist nonetheless think pleasant unfussi countri good companion hearti winter stew\"\n",
      "\n",
      "$content\n",
      "[1] \"blackberri raspberri aroma show typic navarran whiff green herb case horseradish mouth fair full bodi tomatoey acid spici herbal flavor complement dark plum fruit finish fresh grabbi\"\n",
      "\n",
      "$content\n",
      "[1] \"bright inform red open aroma candi berri white pepper savori herb carri palat balanc fresh acid soft tannin\"\n",
      "\n",
      "$content\n",
      "[1] \"savori dri thyme note accent sunnier flavor preserv peach brisk dri fruiti fresh eleg spright footprint\"\n",
      "\n"
     ]
    }
   ],
   "source": [
    "for(i in 1:6){\n",
    "    print(desc_corpus[[i]][1])\n",
    "}"
   ]
  },
  {
   "cell_type": "code",
   "execution_count": 124,
   "metadata": {},
   "outputs": [],
   "source": [
    "desc_dtm <- DocumentTermMatrix(desc_corpus, control = list(weighting = weightTfIdf))"
   ]
  },
  {
   "cell_type": "code",
   "execution_count": 125,
   "metadata": {},
   "outputs": [
    {
     "data": {
      "text/plain": [
       "<<DocumentTermMatrix (documents: 64050, terms: 24170)>>\n",
       "Non-/sparse entries: 1555765/1546532735\n",
       "Sparsity           : 100%\n",
       "Maximal term length: 47\n",
       "Weighting          : term frequency - inverse document frequency (normalized) (tf-idf)"
      ]
     },
     "metadata": {},
     "output_type": "display_data"
    }
   ],
   "source": [
    "desc_dtm"
   ]
  },
  {
   "cell_type": "markdown",
   "metadata": {},
   "source": [
    "### Improve Sparsity"
   ]
  },
  {
   "cell_type": "code",
   "execution_count": 126,
   "metadata": {},
   "outputs": [],
   "source": [
    "desc_dtm = removeSparseTerms(desc_dtm, 0.90)"
   ]
  },
  {
   "cell_type": "code",
   "execution_count": 127,
   "metadata": {},
   "outputs": [
    {
     "data": {
      "text/plain": [
       "<<DocumentTermMatrix (documents: 64050, terms: 29)>>\n",
       "Non-/sparse entries: 377821/1479629\n",
       "Sparsity           : 80%\n",
       "Maximal term length: 6\n",
       "Weighting          : term frequency - inverse document frequency (normalized) (tf-idf)"
      ]
     },
     "metadata": {},
     "output_type": "display_data"
    }
   ],
   "source": [
    "desc_dtm"
   ]
  },
  {
   "cell_type": "code",
   "execution_count": 128,
   "metadata": {},
   "outputs": [
    {
     "name": "stderr",
     "output_type": "stream",
     "text": [
      "Warning message in brewer.pal(1, \"Dark2\"):\n",
      "\"minimal value for n is 3, returning requested palette with 3 different levels\n",
      "\""
     ]
    },
    {
     "data": {
      "image/png": "[encoded data removed]",
      "text/plain": [
       "plot without title"
      ]
     },
     "metadata": {},
     "output_type": "display_data"
    }
   ],
   "source": [
    "freq = data.frame(sort(colSums(as.matrix(desc_dtm)), decreasing=TRUE))\n",
    "wordcloud(rownames(freq), freq[,1], max.words=100, colors=brewer.pal(1, \"Dark2\"))"
   ]
  },
  {
   "cell_type": "markdown",
   "metadata": {},
   "source": [
    "## Compute Cosine similarity"
   ]
  },
  {
   "cell_type": "code",
   "execution_count": 129,
   "metadata": {},
   "outputs": [],
   "source": [
    "require('slam')"
   ]
  },
  {
   "cell_type": "code",
   "execution_count": 130,
   "metadata": {},
   "outputs": [
    {
     "ename": "ERROR",
     "evalue": "Error: cannot allocate vector of size 30.6 Gb\n",
     "output_type": "error",
     "traceback": [
      "Error: cannot allocate vector of size 30.6 Gb\nTraceback:\n",
      "1. crossprod_simple_triplet_matrix(t(desc_dtm))",
      "2. .tcrossprod_simple_triplet_matrix(t(x), if (is.null(y)) y else if (is.simple_triplet_matrix(y)) t(y) else t(as.matrix(y)))"
     ]
    }
   ],
   "source": [
    "sim_mat_cos <- crossprod_simple_triplet_matrix(t(desc_dtm))/(sqrt(col_sums(t(desc_dtm)^2) %*% t(col_sums(t(desc_dtm)^2))))"
   ]
  },
  {
   "cell_type": "code",
   "execution_count": null,
   "metadata": {},
   "outputs": [],
   "source": []
  }
 ],
 "metadata": {
  "kernelspec": {
   "display_name": "R",
   "language": "R",
   "name": "ir"
  },
  "language_info": {
   "codemirror_mode": "r",
   "file_extension": ".r",
   "mimetype": "text/x-r-source",
   "name": "R",
   "pygments_lexer": "r",
   "version": "3.6.1"
  }
 },
 "nbformat": 4,
 "nbformat_minor": 2
}
