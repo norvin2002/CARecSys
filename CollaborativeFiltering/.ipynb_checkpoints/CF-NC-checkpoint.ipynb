{
 "cells": [
  {
   "cell_type": "code",
   "execution_count": 2,
   "metadata": {},
   "outputs": [],
   "source": [
    "pacman::p_load(tidyverse, tm, stringr,NLP, RColorBrewer, wordcloud, Matrix)"
   ]
  },
  {
   "cell_type": "code",
   "execution_count": 3,
   "metadata": {},
   "outputs": [
    {
     "ename": "ERROR",
     "evalue": "Error in setwd(\"C:/Usersnchandra/OneDrive - National University of Singapore/CARecSys\"): cannot change working directory\n",
     "output_type": "error",
     "traceback": [
      "Error in setwd(\"C:/Usersnchandra/OneDrive - National University of Singapore/CARecSys\"): cannot change working directory\nTraceback:\n",
      "1. setwd(\"C:/Usersnchandra/OneDrive - National University of Singapore/CARecSys\")"
     ]
    }
   ],
   "source": [
    "setwd('C:/Usersnchandra/OneDrive - National University of Singapore/CARecSys')"
   ]
  },
  {
   "cell_type": "code",
   "execution_count": null,
   "metadata": {},
   "outputs": [],
   "source": [
    "booking <- read.csv()"
   ]
  }
 ],
 "metadata": {
  "kernelspec": {
   "display_name": "R",
   "language": "R",
   "name": "ir"
  },
  "language_info": {
   "codemirror_mode": "r",
   "file_extension": ".r",
   "mimetype": "text/x-r-source",
   "name": "R",
   "pygments_lexer": "r",
   "version": "3.6.1"
  }
 },
 "nbformat": 4,
 "nbformat_minor": 2
}
