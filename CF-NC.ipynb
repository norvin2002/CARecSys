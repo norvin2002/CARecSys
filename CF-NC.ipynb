{
 "cells": [
  {
   "cell_type": "code",
   "execution_count": 1,
   "metadata": {},
   "outputs": [],
   "source": [
    "pacman::p_load(tidyverse, tm, stringr,NLP, RColorBrewer, wordcloud, Matrix)"
   ]
  },
  {
   "cell_type": "code",
   "execution_count": 92,
   "metadata": {},
   "outputs": [],
   "source": [
    "setwd('C:/Users/nchandra/OneDrive - National University of Singapore/CARecSys')"
   ]
  },
  {
   "cell_type": "code",
   "execution_count": 95,
   "metadata": {},
   "outputs": [],
   "source": [
    "hotels <- read.csv('./Data/hotels.csv', stringsAsFactors = FALSE, fileEncoding = 'UTF-8')"
   ]
  },
  {
   "cell_type": "code",
   "execution_count": 96,
   "metadata": {},
   "outputs": [
    {
     "data": {
      "text/html": [
       "<table>\n",
       "<caption>A data.frame: 2 × 19</caption>\n",
       "<thead>\n",
       "\t<tr><th scope=col>X</th><th scope=col>ï..hotel_name</th><th scope=col>review_date</th><th scope=col>reviewer_country</th><th scope=col>reviewer_rating</th><th scope=col>review_count</th><th scope=col>review_header</th><th scope=col>review_tag_list</th><th scope=col>review_neg_content</th><th scope=col>review_pos_content</th><th scope=col>stay</th><th scope=col>overall_score</th><th scope=col>clean_score</th><th scope=col>comfort_score</th><th scope=col>loc_score</th><th scope=col>facilities_score</th><th scope=col>staff_score</th><th scope=col>value_score</th><th scope=col>wifi_score</th></tr>\n",
       "\t<tr><th scope=col>&lt;int&gt;</th><th scope=col>&lt;chr&gt;</th><th scope=col>&lt;chr&gt;</th><th scope=col>&lt;chr&gt;</th><th scope=col>&lt;dbl&gt;</th><th scope=col>&lt;int&gt;</th><th scope=col>&lt;chr&gt;</th><th scope=col>&lt;chr&gt;</th><th scope=col>&lt;chr&gt;</th><th scope=col>&lt;chr&gt;</th><th scope=col>&lt;chr&gt;</th><th scope=col>&lt;dbl&gt;</th><th scope=col>&lt;dbl&gt;</th><th scope=col>&lt;dbl&gt;</th><th scope=col>&lt;dbl&gt;</th><th scope=col>&lt;dbl&gt;</th><th scope=col>&lt;dbl&gt;</th><th scope=col>&lt;dbl&gt;</th><th scope=col>&lt;dbl&gt;</th></tr>\n",
       "</thead>\n",
       "<tbody>\n",
       "\t<tr><td>1</td><td>The InnCrowd Backpackers' Hostel, Singapore</td><td>Reviewed: 14 October 2019</td><td>Malaysia      </td><td>8.0</td><td>9</td><td>â€œGreat value for moneyâ€                                       </td><td>['â€¢ Leisure trip', 'â€¢ Solo traveller', 'â€¢ Bed in 8-Bed Female Dormitory Room', 'â€¢ Stayed 2 nights', 'â€¢ Submitted via mobile']</td><td>The floor was really quite dusty. Also the air-conditioning wasn't quite cold enough and the room felt a little warm</td><td>The location! It is so convenient, a very short walk from the Rochor MRT station. You can also easily walk around Little India as well. \n",
       "Breakfast is provided! I didn't take any but they looked quite decent, and it's really a convenient luxury. The staff is informative and friendly too! There are discounts for various attractions (again, as I was in Singapore to meet up with friends I didn't go for any attractions) which I think is a good deal as well.</td><td>Stayed in October 2019</td><td>7.8</td><td>7.3</td><td>7</td><td>8.7</td><td>7.4</td><td>8.4</td><td>8</td><td>7.8</td></tr>\n",
       "\t<tr><td>2</td><td>The InnCrowd Backpackers' Hostel, Singapore</td><td>Reviewed: 12 October 2019</td><td>United Kingdom</td><td>7.5</td><td>4</td><td>â€œThey allowed me to shorten my stay without paying which I...â€</td><td>['â€¢ Leisure trip', 'â€¢ Solo traveller', 'â€¢ Bed in 8-Bed Female Dormitory Room', 'â€¢ Stayed 3 nights', 'â€¢ Submitted via mobile']</td><td>                                                                                                                    </td><td>They allowed me to shorten my stay without paying which I really appreciated it! The location was perfect as I love Indian food and it was in Little India :) Breakfast was nice. The staff members were nice                                                                                                                                                                                                                                                            </td><td>Stayed in October 2019</td><td>7.8</td><td>7.3</td><td>7</td><td>8.7</td><td>7.4</td><td>8.4</td><td>8</td><td>7.8</td></tr>\n",
       "</tbody>\n",
       "</table>\n"
      ],
      "text/latex": [
       "A data.frame: 2 × 19\n",
       "\\begin{tabular}{r|lllllllllllllllllll}\n",
       " X & ï..hotel\\_name & review\\_date & reviewer\\_country & reviewer\\_rating & review\\_count & review\\_header & review\\_tag\\_list & review\\_neg\\_content & review\\_pos\\_content & stay & overall\\_score & clean\\_score & comfort\\_score & loc\\_score & facilities\\_score & staff\\_score & value\\_score & wifi\\_score\\\\\n",
       " <int> & <chr> & <chr> & <chr> & <dbl> & <int> & <chr> & <chr> & <chr> & <chr> & <chr> & <dbl> & <dbl> & <dbl> & <dbl> & <dbl> & <dbl> & <dbl> & <dbl>\\\\\n",
       "\\hline\n",
       "\t 1 & The InnCrowd Backpackers' Hostel, Singapore & Reviewed: 14 October 2019 & Malaysia       & 8.0 & 9 & â€œGreat value for moneyâ€                                        & {[}'â€¢ Leisure trip', 'â€¢ Solo traveller', 'â€¢ Bed in 8-Bed Female Dormitory Room', 'â€¢ Stayed 2 nights', 'â€¢ Submitted via mobile'{]} & The floor was really quite dusty. Also the air-conditioning wasn't quite cold enough and the room felt a little warm & The location! It is so convenient, a very short walk from the Rochor MRT station. You can also easily walk around Little India as well. \n",
       "Breakfast is provided! I didn't take any but they looked quite decent, and it's really a convenient luxury. The staff is informative and friendly too! There are discounts for various attractions (again, as I was in Singapore to meet up with friends I didn't go for any attractions) which I think is a good deal as well. & Stayed in October 2019 & 7.8 & 7.3 & 7 & 8.7 & 7.4 & 8.4 & 8 & 7.8\\\\\n",
       "\t 2 & The InnCrowd Backpackers' Hostel, Singapore & Reviewed: 12 October 2019 & United Kingdom & 7.5 & 4 & â€œThey allowed me to shorten my stay without paying which I...â€ & {[}'â€¢ Leisure trip', 'â€¢ Solo traveller', 'â€¢ Bed in 8-Bed Female Dormitory Room', 'â€¢ Stayed 3 nights', 'â€¢ Submitted via mobile'{]} &                                                                                                                      & They allowed me to shorten my stay without paying which I really appreciated it! The location was perfect as I love Indian food and it was in Little India :) Breakfast was nice. The staff members were nice                                                                                                                                                                                                                                                             & Stayed in October 2019 & 7.8 & 7.3 & 7 & 8.7 & 7.4 & 8.4 & 8 & 7.8\\\\\n",
       "\\end{tabular}\n"
      ],
      "text/markdown": [
       "\n",
       "A data.frame: 2 × 19\n",
       "\n",
       "| X &lt;int&gt; | ï..hotel_name &lt;chr&gt; | review_date &lt;chr&gt; | reviewer_country &lt;chr&gt; | reviewer_rating &lt;dbl&gt; | review_count &lt;int&gt; | review_header &lt;chr&gt; | review_tag_list &lt;chr&gt; | review_neg_content &lt;chr&gt; | review_pos_content &lt;chr&gt; | stay &lt;chr&gt; | overall_score &lt;dbl&gt; | clean_score &lt;dbl&gt; | comfort_score &lt;dbl&gt; | loc_score &lt;dbl&gt; | facilities_score &lt;dbl&gt; | staff_score &lt;dbl&gt; | value_score &lt;dbl&gt; | wifi_score &lt;dbl&gt; |\n",
       "|---|---|---|---|---|---|---|---|---|---|---|---|---|---|---|---|---|---|---|\n",
       "| 1 | The InnCrowd Backpackers' Hostel, Singapore | Reviewed: 14 October 2019 | Malaysia       | 8.0 | 9 | â€œGreat value for moneyâ€                                        | ['â€¢ Leisure trip', 'â€¢ Solo traveller', 'â€¢ Bed in 8-Bed Female Dormitory Room', 'â€¢ Stayed 2 nights', 'â€¢ Submitted via mobile'] | The floor was really quite dusty. Also the air-conditioning wasn't quite cold enough and the room felt a little warm | The location! It is so convenient, a very short walk from the Rochor MRT station. You can also easily walk around Little India as well. \n",
       "Breakfast is provided! I didn't take any but they looked quite decent, and it's really a convenient luxury. The staff is informative and friendly too! There are discounts for various attractions (again, as I was in Singapore to meet up with friends I didn't go for any attractions) which I think is a good deal as well. | Stayed in October 2019 | 7.8 | 7.3 | 7 | 8.7 | 7.4 | 8.4 | 8 | 7.8 |\n",
       "| 2 | The InnCrowd Backpackers' Hostel, Singapore | Reviewed: 12 October 2019 | United Kingdom | 7.5 | 4 | â€œThey allowed me to shorten my stay without paying which I...â€ | ['â€¢ Leisure trip', 'â€¢ Solo traveller', 'â€¢ Bed in 8-Bed Female Dormitory Room', 'â€¢ Stayed 3 nights', 'â€¢ Submitted via mobile'] | <!----> | They allowed me to shorten my stay without paying which I really appreciated it! The location was perfect as I love Indian food and it was in Little India :) Breakfast was nice. The staff members were nice                                                                                                                                                                                                                                                             | Stayed in October 2019 | 7.8 | 7.3 | 7 | 8.7 | 7.4 | 8.4 | 8 | 7.8 |\n",
       "\n"
      ],
      "text/plain": [
       "  X ï..hotel_name                               review_date              \n",
       "1 1 The InnCrowd Backpackers' Hostel, Singapore Reviewed: 14 October 2019\n",
       "2 2 The InnCrowd Backpackers' Hostel, Singapore Reviewed: 12 October 2019\n",
       "  reviewer_country reviewer_rating review_count\n",
       "1 Malaysia         8.0             9           \n",
       "2 United Kingdom   7.5             4           \n",
       "  review_header                                                     \n",
       "1 â\\200œGreat value for moneyâ\\200\\235                                       \n",
       "2 â\\200œThey allowed me to shorten my stay without paying which I...â\\200\\235\n",
       "  review_tag_list                                                                                                                        \n",
       "1 ['â\\200¢ Leisure trip', 'â\\200¢ Solo traveller', 'â\\200¢ Bed in 8-Bed Female Dormitory Room', 'â\\200¢ Stayed 2 nights', 'â\\200¢ Submitted via mobile']\n",
       "2 ['â\\200¢ Leisure trip', 'â\\200¢ Solo traveller', 'â\\200¢ Bed in 8-Bed Female Dormitory Room', 'â\\200¢ Stayed 3 nights', 'â\\200¢ Submitted via mobile']\n",
       "  review_neg_content                                                                                                  \n",
       "1 The floor was really quite dusty. Also the air-conditioning wasn't quite cold enough and the room felt a little warm\n",
       "2                                                                                                                     \n",
       "  review_pos_content                                                                                                                                                                                                                                                                                                                                                                                                                                                       \n",
       "1 The location! It is so convenient, a very short walk from the Rochor MRT station. You can also easily walk around Little India as well. \\nBreakfast is provided! I didn't take any but they looked quite decent, and it's really a convenient luxury. The staff is informative and friendly too! There are discounts for various attractions (again, as I was in Singapore to meet up with friends I didn't go for any attractions) which I think is a good deal as well.\n",
       "2 They allowed me to shorten my stay without paying which I really appreciated it! The location was perfect as I love Indian food and it was in Little India :) Breakfast was nice. The staff members were nice                                                                                                                                                                                                                                                            \n",
       "  stay                   overall_score clean_score comfort_score loc_score\n",
       "1 Stayed in October 2019 7.8           7.3         7             8.7      \n",
       "2 Stayed in October 2019 7.8           7.3         7             8.7      \n",
       "  facilities_score staff_score value_score wifi_score\n",
       "1 7.4              8.4         8           7.8       \n",
       "2 7.4              8.4         8           7.8       "
      ]
     },
     "metadata": {},
     "output_type": "display_data"
    }
   ],
   "source": [
    "head(hotels,2)"
   ]
  },
  {
   "cell_type": "code",
   "execution_count": 88,
   "metadata": {},
   "outputs": [],
   "source": [
    "names(hotels)[1] <- 'hotel_name'"
   ]
  },
  {
   "cell_type": "code",
   "execution_count": 89,
   "metadata": {},
   "outputs": [
    {
     "name": "stdout",
     "output_type": "stream",
     "text": [
      "'data.frame':\t6410 obs. of  19 variables:\n",
      " $ hotel_name        : int  1 2 3 4 5 6 7 8 9 10 ...\n",
      " $ ï..hotel_name     : chr  \"The InnCrowd Backpackers' Hostel, Singapore\" \"The InnCrowd Backpackers' Hostel, Singapore\" \"The InnCrowd Backpackers' Hostel, Singapore\" \"The InnCrowd Backpackers' Hostel, Singapore\" ...\n",
      " $ review_date       : chr  \"Reviewed: 14 October 2019\" \"Reviewed: 12 October 2019\" \"Reviewed: 12 October 2019\" \"Reviewed: 9 October 2019\" ...\n",
      " $ reviewer_country  : chr  \"Malaysia\" \"United Kingdom\" \"Netherlands\" \"Israel\" ...\n",
      " $ reviewer_rating   : num  8 7.5 8.3 9.6 9.6 7.5 6.3 6.3 9.2 7.5 ...\n",
      " $ review_count      : int  9 4 15 1 9 32 3 1 1 18 ...\n",
      " $ review_header     : chr  \"â\\200œGreat value for moneyâ\\200\\235\" \"â\\200œThey allowed me to shorten my stay without paying which I...â\\200\\235\" \"â\\200œCommon room is nice, they give various tips on what you can...â\\200\\235\" \"â\\200œAwesome place for backpackers â\\200\\235\" ...\n",
      " $ review_tag_list   : chr  \"['â\\200¢ Leisure trip', 'â\\200¢ Solo traveller', 'â\\200¢ Bed in 8-Bed Female Dormitory Room', 'â\\200¢ Stayed 2 \"| __truncated__ \"['â\\200¢ Leisure trip', 'â\\200¢ Solo traveller', 'â\\200¢ Bed in 8-Bed Female Dormitory Room', 'â\\200¢ Stayed 3 \"| __truncated__ \"['â\\200¢ Leisure trip', 'â\\200¢ Solo traveller', 'â\\200¢ Bed in 8-Bed Mixed Dormitory Room', 'â\\200¢ Stayed 3 n\"| __truncated__ \"['â\\200¢ Leisure trip', 'â\\200¢ Solo traveller', 'â\\200¢ Bed in 12-Bed Mixed Dormitory Room', 'â\\200¢ Stayed 6 \"| __truncated__ ...\n",
      " $ review_neg_content: chr  \"The floor was really quite dusty. Also the air-conditioning wasn't quite cold enough and the room felt a little warm\" \"\" \"The bathroom is small and can use an update. Breakfast is basic.\" \"\" ...\n",
      " $ review_pos_content: chr  \"The location! It is so convenient, a very short walk from the Rochor MRT station. You can also easily walk arou\"| __truncated__ \"They allowed me to shorten my stay without paying which I really appreciated it! The location was perfect as I \"| __truncated__ \"Common room is nice, they give various tips on what you can do, you can borrow travel books etc.\" \"If you travel solo (or with friends as well), I highly recommend this hostel. Common space is a bomb! Very soci\"| __truncated__ ...\n",
      " $ stay              : chr  \"Stayed in October 2019\" \"Stayed in October 2019\" \"Stayed in October 2019\" \"Stayed in October 2019\" ...\n",
      " $ overall_score     : num  7.8 7.8 7.8 7.8 7.8 7.8 7.8 7.8 7.8 7.8 ...\n",
      " $ clean_score       : num  7.3 7.3 7.3 7.3 7.3 7.3 7.3 7.3 7.3 7.3 ...\n",
      " $ comfort_score     : num  7 7 7 7 7 7 7 7 7 7 ...\n",
      " $ loc_score         : num  8.7 8.7 8.7 8.7 8.7 8.7 8.7 8.7 8.7 8.7 ...\n",
      " $ facilities_score  : num  7.4 7.4 7.4 7.4 7.4 7.4 7.4 7.4 7.4 7.4 ...\n",
      " $ staff_score       : num  8.4 8.4 8.4 8.4 8.4 8.4 8.4 8.4 8.4 8.4 ...\n",
      " $ value_score       : num  8 8 8 8 8 8 8 8 8 8 ...\n",
      " $ wifi_score        : num  7.8 7.8 7.8 7.8 7.8 7.8 7.8 7.8 7.8 7.8 ...\n"
     ]
    }
   ],
   "source": [
    "str(hotels)"
   ]
  },
  {
   "cell_type": "code",
   "execution_count": 90,
   "metadata": {},
   "outputs": [
    {
     "data": {
      "text/html": [
       "<ol class=list-inline>\n",
       "\t<li>6410</li>\n",
       "\t<li>19</li>\n",
       "</ol>\n"
      ],
      "text/latex": [
       "\\begin{enumerate*}\n",
       "\\item 6410\n",
       "\\item 19\n",
       "\\end{enumerate*}\n"
      ],
      "text/markdown": [
       "1. 6410\n",
       "2. 19\n",
       "\n",
       "\n"
      ],
      "text/plain": [
       "[1] 6410   19"
      ]
     },
     "metadata": {},
     "output_type": "display_data"
    }
   ],
   "source": [
    "dim(hotels)"
   ]
  },
  {
   "cell_type": "markdown",
   "metadata": {},
   "source": [
    "## Review Count for each hotel"
   ]
  },
  {
   "cell_type": "code",
   "execution_count": 78,
   "metadata": {},
   "outputs": [
    {
     "data": {
      "image/png": "[encoded data removed]",
      "text/plain": [
       "plot without title"
      ]
     },
     "metadata": {},
     "output_type": "display_data"
    }
   ],
   "source": [
    "hotels %>%\n",
    "    group_by(hotel_name) %>%\n",
    "    summarize(rev_count = n()) %>%\n",
    "    arrange(-rev_count) %>%\n",
    "    ggplot(aes(x = reorder(as.factor(hotel_name),rev_count), y = rev_count)) + geom_bar(stat = 'identity') + coord_flip() +\n",
    "    labs(x = 'Hotel Name', \n",
    "         y = 'Review Count', \n",
    "         title = \"Review Count for Hotels in Little India\")"
   ]
  },
  {
   "cell_type": "code",
   "execution_count": 82,
   "metadata": {},
   "outputs": [
    {
     "data": {
      "text/html": [
       "'â\\200œGreat value for moneyâ\\200\\235'"
      ],
      "text/latex": [
       "'â\\textbackslash{}200œGreat value for moneyâ\\textbackslash{}200\\textbackslash{}235'"
      ],
      "text/markdown": [
       "'â\\200œGreat value for moneyâ\\200\\235'"
      ],
      "text/plain": [
       "[1] \"â\\200œGreat value for moneyâ\\200\\235\""
      ]
     },
     "metadata": {},
     "output_type": "display_data"
    }
   ],
   "source": [
    "hotels$review_header[1]"
   ]
  },
  {
   "cell_type": "code",
   "execution_count": null,
   "metadata": {},
   "outputs": [],
   "source": []
  }
 ],
 "metadata": {
  "kernelspec": {
   "display_name": "R",
   "language": "R",
   "name": "ir"
  }
 },
 "nbformat": 4,
 "nbformat_minor": 2
}
