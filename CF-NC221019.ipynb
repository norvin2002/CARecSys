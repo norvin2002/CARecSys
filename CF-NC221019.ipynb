{
 "cells": [
  {
   "cell_type": "code",
   "execution_count": 1,
   "metadata": {},
   "outputs": [],
   "source": [
    "pacman::p_load(tidyverse, tm, stringr,NLP, RColorBrewer, wordcloud, Matrix, recommenderlab, slam, data.table)"
   ]
  },
  {
   "cell_type": "code",
   "execution_count": 2,
   "metadata": {},
   "outputs": [],
   "source": [
    "setwd('C:/Users/nchandra/OneDrive - National University of Singapore/CARecSys')"
   ]
  },
  {
   "cell_type": "code",
   "execution_count": 3,
   "metadata": {},
   "outputs": [],
   "source": [
    "wine <- read.csv('./Data/wine-reviews/winemag-data-130k-v2.csv', na.strings = c(\"\",\"NA\"), stringsAsFactors = FALSE)"
   ]
  },
  {
   "cell_type": "markdown",
   "metadata": {},
   "source": [
    "|colname|definition|\n",
    "|:---|:---|\n",
    "|country|The country that the wine is from\n",
    "|description|---|\n",
    "|designation|The vineyard within the winery where the grapes that made the wine are from|\n",
    "|points|The number of points WineEnthusiast rated the wine on a scale of 1-100 (though they say they only post reviews for wines that score >=80)|\n",
    "|price|The cost for a bottle of the wine|\n",
    "|province|The province or state that the wine is from|\n",
    "|region_1|The wine growing area in a province or state (ie Napa)|\n",
    "|region_2|Sometimes there are more specific regions specified within a wine growing area (ie Rutherford inside the Napa Valley), but this value can sometimes be blank|\n",
    "|taster_name|---|\n",
    "|taster_twitter_handle|---|\n",
    "|title|The title of the wine review, which often contains the vintage if you're interested in extracting that feature|\n",
    "|variety|The type of grapes used to make the wine (ie Pinot Noir)|\n",
    "|winery|The winery that made the wine|"
   ]
  },
  {
   "cell_type": "code",
   "execution_count": 4,
   "metadata": {},
   "outputs": [
    {
     "data": {
      "text/html": [
       "<table>\n",
       "<caption>A data.frame: 2 × 14</caption>\n",
       "<thead>\n",
       "\t<tr><th scope=col>X</th><th scope=col>country</th><th scope=col>description</th><th scope=col>designation</th><th scope=col>points</th><th scope=col>price</th><th scope=col>province</th><th scope=col>region_1</th><th scope=col>region_2</th><th scope=col>taster_name</th><th scope=col>taster_twitter_handle</th><th scope=col>title</th><th scope=col>variety</th><th scope=col>winery</th></tr>\n",
       "\t<tr><th scope=col>&lt;int&gt;</th><th scope=col>&lt;chr&gt;</th><th scope=col>&lt;chr&gt;</th><th scope=col>&lt;chr&gt;</th><th scope=col>&lt;int&gt;</th><th scope=col>&lt;dbl&gt;</th><th scope=col>&lt;chr&gt;</th><th scope=col>&lt;chr&gt;</th><th scope=col>&lt;chr&gt;</th><th scope=col>&lt;chr&gt;</th><th scope=col>&lt;chr&gt;</th><th scope=col>&lt;chr&gt;</th><th scope=col>&lt;chr&gt;</th><th scope=col>&lt;chr&gt;</th></tr>\n",
       "</thead>\n",
       "<tbody>\n",
       "\t<tr><td>0</td><td><span style=white-space:pre-wrap>Italy   </span></td><td><span style=white-space:pre-wrap>Aromas include tropical fruit, broom, brimstone and dried herb. The palate isn't overly expressive, offering unripened apple, citrus and dried sage alongside brisk acidity.                                                       </span></td><td>VulkÃ  Bianco</td><td>87</td><td>NA</td><td>Sicily &amp; Sardinia</td><td>Etna</td><td>NA</td><td>Kerin Oâ€™Keefe</td><td>@kerinokeefe</td><td><span style=white-space:pre-wrap>Nicosia 2013 VulkÃ  Bianco  (Etna)           </span></td><td><span style=white-space:pre-wrap>White Blend   </span></td><td><span style=white-space:pre-wrap>Nicosia            </span></td></tr>\n",
       "\t<tr><td>1</td><td>Portugal</td><td>This is ripe and fruity, a wine that is smooth while still structured. Firm tannins are filled out with juicy red berry fruits and freshened with acidity. It's  already drinkable, although it will certainly be better from 2016.</td><td>Avidagos     </td><td>87</td><td>15</td><td>Douro            </td><td>NA  </td><td>NA</td><td>Roger Voss     </td><td>@vossroger  </td><td>Quinta dos Avidagos 2011 Avidagos Red (Douro)</td><td>Portuguese Red</td><td>Quinta dos Avidagos</td></tr>\n",
       "</tbody>\n",
       "</table>\n"
      ],
      "text/latex": [
       "A data.frame: 2 × 14\n",
       "\\begin{tabular}{r|llllllllllllll}\n",
       " X & country & description & designation & points & price & province & region\\_1 & region\\_2 & taster\\_name & taster\\_twitter\\_handle & title & variety & winery\\\\\n",
       " <int> & <chr> & <chr> & <chr> & <int> & <dbl> & <chr> & <chr> & <chr> & <chr> & <chr> & <chr> & <chr> & <chr>\\\\\n",
       "\\hline\n",
       "\t 0 & Italy    & Aromas include tropical fruit, broom, brimstone and dried herb. The palate isn't overly expressive, offering unripened apple, citrus and dried sage alongside brisk acidity.                                                        & VulkÃ  Bianco & 87 & NA & Sicily \\& Sardinia & Etna & NA & Kerin Oâ€™Keefe & @kerinokeefe & Nicosia 2013 VulkÃ  Bianco  (Etna)            & White Blend    & Nicosia            \\\\\n",
       "\t 1 & Portugal & This is ripe and fruity, a wine that is smooth while still structured. Firm tannins are filled out with juicy red berry fruits and freshened with acidity. It's  already drinkable, although it will certainly be better from 2016. & Avidagos      & 87 & 15 & Douro             & NA   & NA & Roger Voss      & @vossroger   & Quinta dos Avidagos 2011 Avidagos Red (Douro) & Portuguese Red & Quinta dos Avidagos\\\\\n",
       "\\end{tabular}\n"
      ],
      "text/markdown": [
       "\n",
       "A data.frame: 2 × 14\n",
       "\n",
       "| X &lt;int&gt; | country &lt;chr&gt; | description &lt;chr&gt; | designation &lt;chr&gt; | points &lt;int&gt; | price &lt;dbl&gt; | province &lt;chr&gt; | region_1 &lt;chr&gt; | region_2 &lt;chr&gt; | taster_name &lt;chr&gt; | taster_twitter_handle &lt;chr&gt; | title &lt;chr&gt; | variety &lt;chr&gt; | winery &lt;chr&gt; |\n",
       "|---|---|---|---|---|---|---|---|---|---|---|---|---|---|\n",
       "| 0 | Italy    | Aromas include tropical fruit, broom, brimstone and dried herb. The palate isn't overly expressive, offering unripened apple, citrus and dried sage alongside brisk acidity.                                                        | VulkÃ  Bianco | 87 | NA | Sicily &amp; Sardinia | Etna | NA | Kerin Oâ€™Keefe | @kerinokeefe | Nicosia 2013 VulkÃ  Bianco  (Etna)            | White Blend    | Nicosia             |\n",
       "| 1 | Portugal | This is ripe and fruity, a wine that is smooth while still structured. Firm tannins are filled out with juicy red berry fruits and freshened with acidity. It's  already drinkable, although it will certainly be better from 2016. | Avidagos      | 87 | 15 | Douro             | NA   | NA | Roger Voss      | @vossroger   | Quinta dos Avidagos 2011 Avidagos Red (Douro) | Portuguese Red | Quinta dos Avidagos |\n",
       "\n"
      ],
      "text/plain": [
       "  X country \n",
       "1 0 Italy   \n",
       "2 1 Portugal\n",
       "  description                                                                                                                                                                                                                        \n",
       "1 Aromas include tropical fruit, broom, brimstone and dried herb. The palate isn't overly expressive, offering unripened apple, citrus and dried sage alongside brisk acidity.                                                       \n",
       "2 This is ripe and fruity, a wine that is smooth while still structured. Firm tannins are filled out with juicy red berry fruits and freshened with acidity. It's  already drinkable, although it will certainly be better from 2016.\n",
       "  designation   points price province          region_1 region_2\n",
       "1 VulkÃ  Bianco 87     NA    Sicily & Sardinia Etna     NA      \n",
       "2 Avidagos      87     15    Douro             NA       NA      \n",
       "  taster_name     taster_twitter_handle\n",
       "1 Kerin Oâ\\200\\231Keefe @kerinokeefe         \n",
       "2 Roger Voss      @vossroger           \n",
       "  title                                         variety       \n",
       "1 Nicosia 2013 VulkÃ  Bianco  (Etna)            White Blend   \n",
       "2 Quinta dos Avidagos 2011 Avidagos Red (Douro) Portuguese Red\n",
       "  winery             \n",
       "1 Nicosia            \n",
       "2 Quinta dos Avidagos"
      ]
     },
     "metadata": {},
     "output_type": "display_data"
    }
   ],
   "source": [
    "head(wine,2)"
   ]
  },
  {
   "cell_type": "code",
   "execution_count": 5,
   "metadata": {},
   "outputs": [
    {
     "name": "stdout",
     "output_type": "stream",
     "text": [
      "'data.frame':\t129971 obs. of  14 variables:\n",
      " $ X                    : int  0 1 2 3 4 5 6 7 8 9 ...\n",
      " $ country              : chr  \"Italy\" \"Portugal\" \"US\" \"US\" ...\n",
      " $ description          : chr  \"Aromas include tropical fruit, broom, brimstone and dried herb. The palate isn't overly expressive, offering un\"| __truncated__ \"This is ripe and fruity, a wine that is smooth while still structured. Firm tannins are filled out with juicy r\"| __truncated__ \"Tart and snappy, the flavors of lime flesh and rind dominate. Some green pineapple pokes through, with crisp ac\"| __truncated__ \"Pineapple rind, lemon pith and orange blossom start off the aromas. The palate is a bit more opulent, with note\"| __truncated__ ...\n",
      " $ designation          : chr  \"VulkÃ  Bianco\" \"Avidagos\" NA \"Reserve Late Harvest\" ...\n",
      " $ points               : int  87 87 87 87 87 87 87 87 87 87 ...\n",
      " $ price                : num  NA 15 14 13 65 15 16 24 12 27 ...\n",
      " $ province             : chr  \"Sicily & Sardinia\" \"Douro\" \"Oregon\" \"Michigan\" ...\n",
      " $ region_1             : chr  \"Etna\" NA \"Willamette Valley\" \"Lake Michigan Shore\" ...\n",
      " $ region_2             : chr  NA NA \"Willamette Valley\" NA ...\n",
      " $ taster_name          : chr  \"Kerin Oâ\\200\\231Keefe\" \"Roger Voss\" \"Paul Gregutt\" \"Alexander Peartree\" ...\n",
      " $ taster_twitter_handle: chr  \"@kerinokeefe\" \"@vossroger\" \"@paulgwineÂ \" NA ...\n",
      " $ title                : chr  \"Nicosia 2013 VulkÃ  Bianco  (Etna)\" \"Quinta dos Avidagos 2011 Avidagos Red (Douro)\" \"Rainstorm 2013 Pinot Gris (Willamette Valley)\" \"St. Julian 2013 Reserve Late Harvest Riesling (Lake Michigan Shore)\" ...\n",
      " $ variety              : chr  \"White Blend\" \"Portuguese Red\" \"Pinot Gris\" \"Riesling\" ...\n",
      " $ winery               : chr  \"Nicosia\" \"Quinta dos Avidagos\" \"Rainstorm\" \"St. Julian\" ...\n"
     ]
    }
   ],
   "source": [
    "str(wine)"
   ]
  },
  {
   "cell_type": "code",
   "execution_count": 6,
   "metadata": {},
   "outputs": [
    {
     "data": {
      "text/plain": [
       "       X            country          description        designation       \n",
       " Min.   :     0   Length:129971      Length:129971      Length:129971     \n",
       " 1st Qu.: 32493   Class :character   Class :character   Class :character  \n",
       " Median : 64985   Mode  :character   Mode  :character   Mode  :character  \n",
       " Mean   : 64985                                                           \n",
       " 3rd Qu.: 97478                                                           \n",
       " Max.   :129970                                                           \n",
       "                                                                          \n",
       "     points           price           province           region_1        \n",
       " Min.   : 80.00   Min.   :   4.00   Length:129971      Length:129971     \n",
       " 1st Qu.: 86.00   1st Qu.:  17.00   Class :character   Class :character  \n",
       " Median : 88.00   Median :  25.00   Mode  :character   Mode  :character  \n",
       " Mean   : 88.45   Mean   :  35.36                                        \n",
       " 3rd Qu.: 91.00   3rd Qu.:  42.00                                        \n",
       " Max.   :100.00   Max.   :3300.00                                        \n",
       "                  NA's   :8996                                           \n",
       "   region_2         taster_name        taster_twitter_handle    title          \n",
       " Length:129971      Length:129971      Length:129971         Length:129971     \n",
       " Class :character   Class :character   Class :character      Class :character  \n",
       " Mode  :character   Mode  :character   Mode  :character      Mode  :character  \n",
       "                                                                               \n",
       "                                                                               \n",
       "                                                                               \n",
       "                                                                               \n",
       "   variety             winery         \n",
       " Length:129971      Length:129971     \n",
       " Class :character   Class :character  \n",
       " Mode  :character   Mode  :character  \n",
       "                                      \n",
       "                                      \n",
       "                                      \n",
       "                                      "
      ]
     },
     "metadata": {},
     "output_type": "display_data"
    }
   ],
   "source": [
    "summary(wine)"
   ]
  },
  {
   "cell_type": "code",
   "execution_count": 82,
   "metadata": {},
   "outputs": [],
   "source": [
    "wine <- select(wine, -c('X'))"
   ]
  },
  {
   "cell_type": "code",
   "execution_count": 97,
   "metadata": {},
   "outputs": [
    {
     "data": {
      "text/html": [
       "<ol class=list-inline>\n",
       "\t<li>129971</li>\n",
       "\t<li>13</li>\n",
       "</ol>\n"
      ],
      "text/latex": [
       "\\begin{enumerate*}\n",
       "\\item 129971\n",
       "\\item 13\n",
       "\\end{enumerate*}\n"
      ],
      "text/markdown": [
       "1. 129971\n",
       "2. 13\n",
       "\n",
       "\n"
      ],
      "text/plain": [
       "[1] 129971     13"
      ]
     },
     "metadata": {},
     "output_type": "display_data"
    }
   ],
   "source": [
    "dim(wine)"
   ]
  },
  {
   "cell_type": "code",
   "execution_count": 99,
   "metadata": {},
   "outputs": [],
   "source": [
    "# Remove duplicate records\n",
    "wine_nodup <- distinct(wine)"
   ]
  },
  {
   "cell_type": "code",
   "execution_count": 100,
   "metadata": {},
   "outputs": [
    {
     "data": {
      "text/html": [
       "<ol class=list-inline>\n",
       "\t<li>119988</li>\n",
       "\t<li>13</li>\n",
       "</ol>\n"
      ],
      "text/latex": [
       "\\begin{enumerate*}\n",
       "\\item 119988\n",
       "\\item 13\n",
       "\\end{enumerate*}\n"
      ],
      "text/markdown": [
       "1. 119988\n",
       "2. 13\n",
       "\n",
       "\n"
      ],
      "text/plain": [
       "[1] 119988     13"
      ]
     },
     "metadata": {},
     "output_type": "display_data"
    }
   ],
   "source": [
    "dim(wine_nodup)"
   ]
  },
  {
   "cell_type": "markdown",
   "metadata": {},
   "source": [
    "Next check for missing values"
   ]
  },
  {
   "cell_type": "code",
   "execution_count": 101,
   "metadata": {},
   "outputs": [
    {
     "data": {
      "text/html": [
       "<table>\n",
       "<caption>A data.frame: 99495 × 13</caption>\n",
       "<thead>\n",
       "\t<tr><th></th><th scope=col>country</th><th scope=col>description</th><th scope=col>designation</th><th scope=col>points</th><th scope=col>price</th><th scope=col>province</th><th scope=col>region_1</th><th scope=col>region_2</th><th scope=col>taster_name</th><th scope=col>taster_twitter_handle</th><th scope=col>title</th><th scope=col>variety</th><th scope=col>winery</th></tr>\n",
       "\t<tr><th></th><th scope=col>&lt;chr&gt;</th><th scope=col>&lt;chr&gt;</th><th scope=col>&lt;chr&gt;</th><th scope=col>&lt;int&gt;</th><th scope=col>&lt;dbl&gt;</th><th scope=col>&lt;chr&gt;</th><th scope=col>&lt;chr&gt;</th><th scope=col>&lt;chr&gt;</th><th scope=col>&lt;chr&gt;</th><th scope=col>&lt;chr&gt;</th><th scope=col>&lt;chr&gt;</th><th scope=col>&lt;chr&gt;</th><th scope=col>&lt;chr&gt;</th></tr>\n",
       "</thead>\n",
       "<tbody>\n",
       "\t<tr><th scope=row>1</th><td><span style=white-space:pre-wrap>Italy    </span></td><td><span style=white-space:pre-wrap>Aromas include tropical fruit, broom, brimstone and dried herb. The palate isn't overly expressive, offering unripened apple, citrus and dried sage alongside brisk acidity.                                                                                                                                               </span></td><td><span style=white-space:pre-wrap>VulkÃ  Bianco                                                   </span></td><td>87</td><td>NA</td><td>Sicily &amp; Sardinia</td><td><span style=white-space:pre-wrap>Etna                 </span></td><td><span style=white-space:pre-wrap>NA               </span></td><td><span style=white-space:pre-wrap>Kerin Oâ€™Keefe   </span></td><td>@kerinokeefe </td><td><span style=white-space:pre-wrap>Nicosia 2013 VulkÃ  Bianco  (Etna)                                                                </span></td><td><span style=white-space:pre-wrap>White Blend       </span></td><td><span style=white-space:pre-wrap>Nicosia                </span></td></tr>\n",
       "\t<tr><th scope=row>2</th><td>Portugal </td><td>This is ripe and fruity, a wine that is smooth while still structured. Firm tannins are filled out with juicy red berry fruits and freshened with acidity. It's  already drinkable, although it will certainly be better from 2016.                                                                                        </td><td>Avidagos                                                        </td><td>87</td><td>15</td><td>Douro            </td><td>NA                   </td><td>NA               </td><td>Roger Voss        </td><td>@vossroger   </td><td>Quinta dos Avidagos 2011 Avidagos Red (Douro)                                                     </td><td>Portuguese Red    </td><td>Quinta dos Avidagos    </td></tr>\n",
       "\t<tr><th scope=row>3</th><td>US       </td><td>Tart and snappy, the flavors of lime flesh and rind dominate. Some green pineapple pokes through, with crisp acidity underscoring the flavors. The wine was all stainless-steel fermented.                                                                                                                                 </td><td>NA                                                              </td><td>87</td><td>14</td><td>Oregon           </td><td>Willamette Valley    </td><td>Willamette Valley</td><td>Paul Gregutt      </td><td>@paulgwineÂ  </td><td>Rainstorm 2013 Pinot Gris (Willamette Valley)                                                     </td><td>Pinot Gris        </td><td>Rainstorm              </td></tr>\n",
       "\t<tr><th scope=row>4</th><td>US       </td><td>Pineapple rind, lemon pith and orange blossom start off the aromas. The palate is a bit more opulent, with notes of honey-drizzled guava and mango giving way to a slightly astringent, semidry finish.                                                                                                                    </td><td>Reserve Late Harvest                                            </td><td>87</td><td>13</td><td>Michigan         </td><td>Lake Michigan Shore  </td><td>NA               </td><td>Alexander Peartree</td><td>NA           </td><td>St. Julian 2013 Reserve Late Harvest Riesling (Lake Michigan Shore)                               </td><td>Riesling          </td><td>St. Julian             </td></tr>\n",
       "\t<tr><th scope=row>6</th><td>Spain    </td><td>Blackberry and raspberry aromas show a typical Navarran whiff of green herbs and, in this case, horseradish. In the mouth, this is fairly full bodied, with tomatoey acidity. Spicy, herbal flavors complement dark plum fruit, while the finish is fresh but grabby.                                                      </td><td>Ars In Vitro                                                    </td><td>87</td><td>15</td><td>Northern Spain   </td><td>Navarra              </td><td>NA               </td><td>Michael Schachner </td><td>@wineschach  </td><td>Tandem 2011 Ars In Vitro Tempranillo-Merlot (Navarra)                                             </td><td>Tempranillo-Merlot</td><td>Tandem                 </td></tr>\n",
       "\t<tr><th scope=row>7</th><td><span style=white-space:pre-wrap>Italy    </span></td><td><span style=white-space:pre-wrap>Here's a bright, informal red that opens with aromas of candied berry, white pepper and savory herb that carry over to the palate. It's balanced with fresh acidity and soft tannins.                                                                                                                                      </span></td><td><span style=white-space:pre-wrap>Belsito                                                         </span></td><td>87</td><td>16</td><td>Sicily &amp; Sardinia</td><td><span style=white-space:pre-wrap>Vittoria             </span></td><td><span style=white-space:pre-wrap>NA               </span></td><td><span style=white-space:pre-wrap>Kerin Oâ€™Keefe   </span></td><td>@kerinokeefe </td><td><span style=white-space:pre-wrap>Terre di Giurfo 2013 Belsito Frappato (Vittoria)                                                  </span></td><td><span style=white-space:pre-wrap>Frappato          </span></td><td><span style=white-space:pre-wrap>Terre di Giurfo        </span></td></tr>\n",
       "\t<tr><th scope=row>8</th><td>France   </td><td>This dry and restrained wine offers spice in profusion. Balanced with acidity and a firm texture, it's very much for food.                                                                                                                                                                                                 </td><td>NA                                                              </td><td>87</td><td>24</td><td>Alsace           </td><td>Alsace               </td><td>NA               </td><td>Roger Voss        </td><td>@vossroger   </td><td>Trimbach 2012 Gewurztraminer (Alsace)                                                             </td><td>GewÃ¼rztraminer   </td><td>Trimbach               </td></tr>\n",
       "\t<tr><th scope=row>9</th><td>Germany  </td><td>Savory dried thyme notes accent sunnier flavors of preserved peach in this brisk, off-dry wine. It's fruity and fresh, with an elegant, sprightly footprint.                                                                                                                                                               </td><td>Shine                                                           </td><td>87</td><td>12</td><td>Rheinhessen      </td><td>NA                   </td><td>NA               </td><td>Anna Lee C. Iijima</td><td>NA           </td><td>Heinz Eifel 2013 Shine GewÃ¼rztraminer (Rheinhessen)                                              </td><td>GewÃ¼rztraminer   </td><td>Heinz Eifel            </td></tr>\n",
       "\t<tr><th scope=row>10</th><td>France   </td><td>This has great depth of flavor with its fresh apple and pear fruits and touch of spice. It's off dry while balanced with acidity and a crisp texture. Drink now.                                                                                                                                                           </td><td>Les Natures                                                     </td><td>87</td><td>27</td><td>Alsace           </td><td>Alsace               </td><td>NA               </td><td>Roger Voss        </td><td>@vossroger   </td><td>Jean-Baptiste Adam 2012 Les Natures Pinot Gris (Alsace)                                           </td><td>Pinot Gris        </td><td>Jean-Baptiste Adam     </td></tr>\n",
       "\t<tr><th scope=row>12</th><td>France   </td><td>This is a dry wine, very spicy, with a tight, taut texture and strongly mineral character layered with citrus as well as pepper. It's a food wine with its almost crisp aftertaste.                                                                                                                                        </td><td>NA                                                              </td><td>87</td><td>30</td><td>Alsace           </td><td>Alsace               </td><td>NA               </td><td>Roger Voss        </td><td>@vossroger   </td><td>Leon Beyer 2012 Gewurztraminer (Alsace)                                                           </td><td>GewÃ¼rztraminer   </td><td>Leon Beyer             </td></tr>\n",
       "\t<tr><th scope=row>13</th><td>US       </td><td>Slightly reduced, this wine offers a chalky, tannic backbone to an otherwise juicy explosion of rich black cherry, the whole accented throughout by firm oak and cigar box.                                                                                                                                                </td><td>NA                                                              </td><td>87</td><td>34</td><td>California       </td><td>Alexander Valley     </td><td>Sonoma           </td><td>Virginie Boone    </td><td>@vboone      </td><td>Louis M. Martini 2012 Cabernet Sauvignon (Alexander Valley)                                       </td><td>Cabernet Sauvignon</td><td>Louis M. Martini       </td></tr>\n",
       "\t<tr><th scope=row>14</th><td><span style=white-space:pre-wrap>Italy    </span></td><td><span style=white-space:pre-wrap>This is dominated by oak and oak-driven aromas that include roasted coffee bean, espresso, coconut and vanilla that carry over to the palate, together with plum and chocolate. Astringent, drying tannins give it a rather abrupt finish.                                                                                 </span></td><td><span style=white-space:pre-wrap>Rosso                                                           </span></td><td>87</td><td>NA</td><td>Sicily &amp; Sardinia</td><td><span style=white-space:pre-wrap>Etna                 </span></td><td><span style=white-space:pre-wrap>NA               </span></td><td><span style=white-space:pre-wrap>Kerin Oâ€™Keefe   </span></td><td>@kerinokeefe </td><td><span style=white-space:pre-wrap>Masseria Setteporte 2012 Rosso  (Etna)                                                            </span></td><td>Nerello Mascalese </td><td><span style=white-space:pre-wrap>Masseria Setteporte    </span></td></tr>\n",
       "\t<tr><th scope=row>15</th><td>US       </td><td>Building on 150 years and six generations of winemaking tradition, the winery trends toward a leaner style, with the classic California buttercream aroma cut by tart green apple. In this good everyday sipping wine, flavors that range from pear to barely ripe pineapple prove approachable but not distinctive.       </td><td>NA                                                              </td><td>87</td><td>12</td><td>California       </td><td>Central Coast        </td><td>Central Coast    </td><td>Matt Kettmann     </td><td>@mattkettmann</td><td>Mirassou 2012 Chardonnay (Central Coast)                                                          </td><td>Chardonnay        </td><td>Mirassou               </td></tr>\n",
       "\t<tr><th scope=row>16</th><td>Germany  </td><td>Zesty orange peels and apple notes abound in this sprightly, mineral-toned Riesling. Off dry on the palate, yet racy and lean, it's a refreshing, easy quaffer with wide appeal.                                                                                                                                           </td><td>Devon                                                           </td><td>87</td><td>24</td><td>Mosel            </td><td>NA                   </td><td>NA               </td><td>Anna Lee C. Iijima</td><td>NA           </td><td>Richard BÃ¶cking 2013 Devon Riesling (Mosel)                                                      </td><td>Riesling          </td><td>Richard BÃ¶cking       </td></tr>\n",
       "\t<tr><th scope=row>17</th><td>Argentina</td><td>Baked plum, molasses, balsamic vinegar and cheesy oak aromas feed into a palate that's braced by a bolt of acidity. A compact set of saucy red-berry and plum flavors features tobacco and peppery accents, while the finish is mildly green in flavor, with respectable weight and balance.                               </td><td>Felix                                                           </td><td>87</td><td>30</td><td>Other            </td><td>Cafayate             </td><td>NA               </td><td>Michael Schachner </td><td>@wineschach  </td><td>Felix Lavaque 2010 Felix Malbec (Cafayate)                                                        </td><td>Malbec            </td><td>Felix Lavaque          </td></tr>\n",
       "\t<tr><th scope=row>18</th><td>Argentina</td><td>Raw black-cherry aromas are direct and simple but good. This has a juicy feel that thickens over time, with oak character and extract becoming more apparent. A flavor profile driven by dark-berry fruits and smoldering oak finishes meaty but hot.                                                                      </td><td>Winemaker Selection                                             </td><td>87</td><td>13</td><td>Mendoza Province </td><td>Mendoza              </td><td>NA               </td><td>Michael Schachner </td><td>@wineschach  </td><td>Gaucho Andino 2011 Winemaker Selection Malbec (Mendoza)                                           </td><td>Malbec            </td><td>Gaucho Andino          </td></tr>\n",
       "\t<tr><th scope=row>19</th><td>Spain    </td><td>Desiccated blackberry, leather, charred wood and mint aromas carry the nose on this full-bodied, tannic, heavily oaked Tinto Fino. Flavors of clove and woodspice sit on top of blackberry fruit, then hickory and other forceful oak-based aromas rise up and dominate the finish.                                        </td><td>Vendimia Seleccionada Finca Valdelayegua Single Vineyard Crianza</td><td>87</td><td>28</td><td>Northern Spain   </td><td>Ribera del Duero     </td><td>NA               </td><td>Michael Schachner </td><td>@wineschach  </td><td>Pradorey 2010 Vendimia Seleccionada Finca Valdelayegua Single Vineyard Crianza  (Ribera del Duero)</td><td>Tempranillo Blend </td><td>Pradorey               </td></tr>\n",
       "\t<tr><th scope=row>20</th><td>US       </td><td>Red fruit aromas pervade on the nose, with cigar box and menthol notes riding in the back. The palate is slightly restrained on entry, but opens up to riper notes of cherry and plum specked with crushed pepper. This blend of Merlot, Cabernet Sauvignon and Cabernet Franc is approachable now and ready to be enjoyed.</td><td>NA                                                              </td><td>87</td><td>32</td><td>Virginia         </td><td>Virginia             </td><td>NA               </td><td>Alexander Peartree</td><td>NA           </td><td>QuiÃ©vremont 2012 Meritage (Virginia)                                                             </td><td>Meritage          </td><td>QuiÃ©vremont           </td></tr>\n",
       "\t<tr><th scope=row>21</th><td>US       </td><td>Ripe aromas of dark berries mingle with ample notes of black pepper, toasted vanilla and dusty tobacco. The palate is oak-driven in nature, but notes of tart red currant shine through, offering a bit of levity.                                                                                                         </td><td>Vin de Maison                                                   </td><td>87</td><td>23</td><td>Virginia         </td><td>Virginia             </td><td>NA               </td><td>Alexander Peartree</td><td>NA           </td><td>QuiÃ©vremont 2012 Vin de Maison Red (Virginia)                                                    </td><td>Red Blend         </td><td>QuiÃ©vremont           </td></tr>\n",
       "\t<tr><th scope=row>22</th><td>US       </td><td>A sleek mix of tart berry, stem and herb, along with a hint of oak and chocolate, this is a fair value in a widely available, drink-now Oregon Pinot. The wine oak-aged for six months, whether in neutral or re-staved is not indicated.                                                                                  </td><td>NA                                                              </td><td>87</td><td>20</td><td>Oregon           </td><td>Oregon               </td><td>Oregon Other     </td><td>Paul Gregutt      </td><td>@paulgwineÂ  </td><td>Acrobat 2013 Pinot Noir (Oregon)                                                                  </td><td>Pinot Noir        </td><td>Acrobat                </td></tr>\n",
       "\t<tr><th scope=row>23</th><td><span style=white-space:pre-wrap>Italy    </span></td><td><span style=white-space:pre-wrap>Delicate aromas recall white flower and citrus. The palate offers passion fruit, lime and white peach with a hint of mineral alongside bright acidity.                                                                                                                                                                     </span></td><td><span style=white-space:pre-wrap>Ficiligno                                                       </span></td><td>87</td><td>19</td><td>Sicily &amp; Sardinia</td><td><span style=white-space:pre-wrap>Sicilia              </span></td><td><span style=white-space:pre-wrap>NA               </span></td><td><span style=white-space:pre-wrap>Kerin Oâ€™Keefe   </span></td><td>@kerinokeefe </td><td><span style=white-space:pre-wrap>Baglio di Pianetto 2007 Ficiligno White (Sicilia)                                                 </span></td><td><span style=white-space:pre-wrap>White Blend       </span></td><td><span style=white-space:pre-wrap>Baglio di Pianetto     </span></td></tr>\n",
       "\t<tr><th scope=row>25</th><td><span style=white-space:pre-wrap>Italy    </span></td><td><span style=white-space:pre-wrap>Aromas of prune, blackcurrant, toast and oak carry through to the extracted palate, along with flavors of black cherry and roasted coffee beans. Firm but drying tannins provide the framework.                                                                                                                            </span></td><td><span style=white-space:pre-wrap>Aynat                                                           </span></td><td>87</td><td>35</td><td>Sicily &amp; Sardinia</td><td><span style=white-space:pre-wrap>Sicilia              </span></td><td><span style=white-space:pre-wrap>NA               </span></td><td><span style=white-space:pre-wrap>Kerin Oâ€™Keefe   </span></td><td>@kerinokeefe </td><td><span style=white-space:pre-wrap>CanicattÃ¬ 2009 Aynat Nero d'Avola (Sicilia)                                                      </span></td><td><span style=white-space:pre-wrap>Nero d'Avola      </span></td><td><span style=white-space:pre-wrap>CanicattÃ¬             </span></td></tr>\n",
       "\t<tr><th scope=row>27</th><td><span style=white-space:pre-wrap>Italy    </span></td><td><span style=white-space:pre-wrap>Pretty aromas of yellow flower and stone fruit lead the nose. The bright palate offers yellow apple, apricot, vanilla and delicate notes of lightly toasted oak alongside crisp acidity.                                                                                                                                   </span></td><td><span style=white-space:pre-wrap>Dalila                                                          </span></td><td>87</td><td>13</td><td>Sicily &amp; Sardinia</td><td><span style=white-space:pre-wrap>Terre Siciliane      </span></td><td><span style=white-space:pre-wrap>NA               </span></td><td><span style=white-space:pre-wrap>Kerin Oâ€™Keefe   </span></td><td>@kerinokeefe </td><td><span style=white-space:pre-wrap>Stemmari 2013 Dalila White (Terre Siciliane)                                                      </span></td><td><span style=white-space:pre-wrap>White Blend       </span></td><td><span style=white-space:pre-wrap>Stemmari               </span></td></tr>\n",
       "\t<tr><th scope=row>28</th><td><span style=white-space:pre-wrap>Italy    </span></td><td><span style=white-space:pre-wrap>Aromas recall ripe dark berry, toast and a whiff of cake spice. The soft, informal palate offers sour cherry, vanilla and a hint of espresso alongside round tannins. Drink soon.                                                                                                                                          </span></td><td><span style=white-space:pre-wrap>NA                                                              </span></td><td>87</td><td>10</td><td>Sicily &amp; Sardinia</td><td><span style=white-space:pre-wrap>Terre Siciliane      </span></td><td><span style=white-space:pre-wrap>NA               </span></td><td><span style=white-space:pre-wrap>Kerin Oâ€™Keefe   </span></td><td>@kerinokeefe </td><td><span style=white-space:pre-wrap>Stemmari 2013 Nero d'Avola (Terre Siciliane)                                                      </span></td><td><span style=white-space:pre-wrap>Nero d'Avola      </span></td><td><span style=white-space:pre-wrap>Stemmari               </span></td></tr>\n",
       "\t<tr><th scope=row>29</th><td><span style=white-space:pre-wrap>Italy    </span></td><td><span style=white-space:pre-wrap>Aromas suggest mature berry, scorched earth, animal, toast and anise. The palate offers ripe black berry, oak, espresso, cocoa and vanilla alongside dusty tannins.                                                                                                                                                        </span></td><td><span style=white-space:pre-wrap>Mascaria Barricato                                              </span></td><td>87</td><td>17</td><td>Sicily &amp; Sardinia</td><td>Cerasuolo di Vittoria</td><td><span style=white-space:pre-wrap>NA               </span></td><td><span style=white-space:pre-wrap>Kerin Oâ€™Keefe   </span></td><td>@kerinokeefe </td><td><span style=white-space:pre-wrap>Terre di Giurfo 2011 Mascaria Barricato  (Cerasuolo di Vittoria)                                  </span></td><td><span style=white-space:pre-wrap>Red Blend         </span></td><td><span style=white-space:pre-wrap>Terre di Giurfo        </span></td></tr>\n",
       "\t<tr><th scope=row>30</th><td>US       </td><td>Clarksburg is becoming a haven for Chenin Blanc in California. This bottling, using fruit sourced from several vineyards in the area, is balanced with just a trace of sweetness in the background (1% residual sugar). This is crisp, straightforward and blessed with notes of pear and lime. Drink it cold.             </td><td>NA                                                              </td><td>86</td><td>16</td><td>California       </td><td>Clarksburg           </td><td>Central Valley   </td><td>Virginie Boone    </td><td>@vboone      </td><td>Clarksburg Wine Company 2010 Chenin Blanc (Clarksburg)                                            </td><td>Chenin Blanc      </td><td>Clarksburg Wine Company</td></tr>\n",
       "\t<tr><th scope=row>31</th><td>France   </td><td>Red cherry fruit comes laced with light tannins, giving this bright wine an open, juicy character.                                                                                                                                                                                                                         </td><td>Nouveau                                                         </td><td>86</td><td>NA</td><td>Beaujolais       </td><td>Beaujolais-Villages  </td><td>NA               </td><td>Roger Voss        </td><td>@vossroger   </td><td>Domaine de la Madone 2012 Nouveau  (Beaujolais-Villages)                                          </td><td>Gamay             </td><td>Domaine de la Madone   </td></tr>\n",
       "\t<tr><th scope=row>32</th><td><span style=white-space:pre-wrap>Italy    </span></td><td><span style=white-space:pre-wrap>Merlot and Nero d'Avola form the base for this easy red wine that would pair with fettuccine and meat sauce or pork roast. The quality of the fruit is clean, bright and sharp.                                                                                                                                            </span></td><td><span style=white-space:pre-wrap>CalanÃ¬ca Nero d'Avola-Merlot                                   </span></td><td>86</td><td>NA</td><td>Sicily &amp; Sardinia</td><td><span style=white-space:pre-wrap>Sicilia              </span></td><td><span style=white-space:pre-wrap>NA               </span></td><td><span style=white-space:pre-wrap>NA                </span></td><td><span style=white-space:pre-wrap>NA           </span></td><td><span style=white-space:pre-wrap>Duca di Salaparuta 2010 CalanÃ¬ca Nero d'Avola-Merlot Red (Sicilia)                               </span></td><td><span style=white-space:pre-wrap>Red Blend         </span></td><td><span style=white-space:pre-wrap>Duca di Salaparuta     </span></td></tr>\n",
       "\t<tr><th scope=row>33</th><td><span style=white-space:pre-wrap>Italy    </span></td><td><span style=white-space:pre-wrap>Part of the extended CalanÃ¬ca series, this Grillo-Viognier blend shows aromas of honeysuckle and jasmine, backed by touches of cut grass and wild sage. In the mouth, it shows ripe yellow-fruit flavors.                                                                                                                 </span></td><td><span style=white-space:pre-wrap>CalanÃ¬ca Grillo-Viognier                                       </span></td><td>86</td><td>NA</td><td>Sicily &amp; Sardinia</td><td><span style=white-space:pre-wrap>Sicilia              </span></td><td><span style=white-space:pre-wrap>NA               </span></td><td><span style=white-space:pre-wrap>NA                </span></td><td><span style=white-space:pre-wrap>NA           </span></td><td><span style=white-space:pre-wrap>Duca di Salaparuta 2011 CalanÃ¬ca Grillo-Viognier White (Sicilia)                                 </span></td><td><span style=white-space:pre-wrap>White Blend       </span></td><td><span style=white-space:pre-wrap>Duca di Salaparuta     </span></td></tr>\n",
       "\t<tr><th scope=row>34</th><td>US       </td><td>Rustic and dry, this has flavors of berries, currants, licorice and spices. Made from Cabernet Franc and Cabernet Sauvignon.                                                                                                                                                                                               </td><td>Puma Springs Vineyard                                           </td><td>86</td><td>50</td><td>California       </td><td>Dry Creek Valley     </td><td>Sonoma           </td><td>NA                </td><td>NA           </td><td>Envolve 2010 Puma Springs Vineyard Red (Dry Creek Valley)                                         </td><td>Red Blend         </td><td>Envolve                </td></tr>\n",
       "\t<tr><th scope=row>...</th><td>...</td><td>...</td><td>...</td><td>...</td><td>...</td><td>...</td><td>...</td><td>...</td><td>...</td><td>...</td><td>...</td><td>...</td><td>...</td></tr>\n",
       "\t<tr><th scope=row>119956</th><td>Argentina  </td><td>Compared to the regular 2006 Malbec from Chakana, this wine steps up in weight class and wins the crown. It's a serious but inviting red with spongey, ripe berry aromas topped by pure raspberry, cherry and cola flavors. It's both racy and composed, with a pile of bitter chocolate on the long finish. Good through 2009 at least.                                        </td><td>Reserve                                          </td><td>91</td><td>25</td><td>Mendoza Province </td><td>LujÃ¡n de Cuyo  </td><td>NA          </td><td>Michael Schachner </td><td>@wineschach   </td><td>Chakana 2006 Reserve Malbec (LujÃ¡n de Cuyo)                                                           </td><td>Malbec                  </td><td>Chakana                                  </td></tr>\n",
       "\t<tr><th scope=row>119957</th><td>Austria    </td><td>A true TBA, its very rich, toffee-flavored, intense sweetness overpowering the botrytis dryness initially. And then you feel the acidity, the apricot and peach flavors and the shot of lime. In its texture, it is a truly intense dessert wine. Age for 10 years.                                                                                                             </td><td>Grand Vin                                        </td><td>91</td><td>70</td><td>Burgenland       </td><td>NA              </td><td>NA          </td><td>Roger Voss        </td><td>@vossroger    </td><td>Schloss Halbturn 2004 Grand Vin White (Burgenland)                                                     </td><td>White Blend             </td><td>Schloss Halbturn                         </td></tr>\n",
       "\t<tr><th scope=row>119958</th><td>US         </td><td>This is the winery's bells and whistles Chardonnay. Grown from inland fruit, in a vineyard near Ukiah, it's rich in buttercreamy peach, pear and pineapple flavors, with a spicy, racy finish.                                                                                                                                                                                  </td><td>Watson Vineyard                                  </td><td>91</td><td>36</td><td>California       </td><td>Mendocino       </td><td>NA          </td><td>NA                </td><td>NA            </td><td>Standish 2006 Watson Vineyard Chardonnay (Mendocino)                                                   </td><td>Chardonnay              </td><td>Standish                                 </td></tr>\n",
       "\t<tr><th scope=row>119959</th><td>US         </td><td>A Chardonnay with an unusual companion, 8% SÃ©millon, this is floral and fruity in equal measure. Tight, bright acidity supports flavors of fennel and green apple, with the oak impact playing a subtle supporting role. The finish is nicely crisp.                                                                                                                           </td><td>NA                                               </td><td>90</td><td>20</td><td>California       </td><td>Mendocino County</td><td>NA          </td><td>Virginie Boone    </td><td>@vboone       </td><td>Apriori 2013 Chardonnay (Mendocino County)                                                             </td><td>Chardonnay              </td><td>Apriori                                  </td></tr>\n",
       "\t<tr><th scope=row>119960</th><td>US         </td><td>This is classic in herbaceous aromas and flavors, rich in juicy blackberry and blueberry while also offering savory pencil shavings and dark chocolate. Leathered, firm tannins complete the picture, providing structure and integration to a wall of well-managed oak.                                                                                                        </td><td>NA                                               </td><td>90</td><td>35</td><td>California       </td><td>Sonoma County   </td><td>Sonoma      </td><td>Virginie Boone    </td><td>@vboone       </td><td>Arrowood 2010 Cabernet Sauvignon (Sonoma County)                                                       </td><td>Cabernet Sauvignon      </td><td>Arrowood                                 </td></tr>\n",
       "\t<tr><th scope=row>119961</th><td><span style=white-space:pre-wrap>Italy      </span></td><td><span style=white-space:pre-wrap>A blend of Nero d'Avola and Syrah, this conveys aromas of scorched earth, crushed flower, dark berry and a whiff of cooking spice. The palate offers ripe cherry, graphite, ground black pepper and a smoky note alongside velvety tannins.                                                                                                                                     </span></td><td><span style=white-space:pre-wrap>AdÃ¨nzia                                         </span></td><td>90</td><td>29</td><td>Sicily &amp; Sardinia</td><td><span style=white-space:pre-wrap>Sicilia         </span></td><td><span style=white-space:pre-wrap>NA          </span></td><td><span style=white-space:pre-wrap>Kerin Oâ€™Keefe   </span></td><td><span style=white-space:pre-wrap>@kerinokeefe  </span></td><td><span style=white-space:pre-wrap>Baglio del Cristo di Campobello 2012 AdÃ¨nzia Red (Sicilia)                                            </span></td><td><span style=white-space:pre-wrap>Red Blend               </span></td><td><span style=white-space:pre-wrap>Baglio del Cristo di Campobello          </span></td></tr>\n",
       "\t<tr><th scope=row>119962</th><td>Israel     </td><td>Deep garnet in the glass, this has a nose of blackberry and vanilla. Flavors of blackberry, eucalyptus, tart cherry and white chocolate are well balanced, with a mix of fruity and savory notes. Tannins are mostly smooth with a touch of grip. The finish combines a pleasing blend of eucalyptus and tart cherry flavors.                                                   </td><td>Special Reserve Winemakers' Choice               </td><td>90</td><td>25</td><td>Galilee          </td><td>NA              </td><td>NA          </td><td>Mike DeSimone     </td><td>@worldwineguys</td><td>Barkan 2011 Special Reserve Winemakers' Choice Shiraz (Galilee)                                        </td><td>Shiraz                  </td><td>Barkan                                   </td></tr>\n",
       "\t<tr><th scope=row>119964</th><td>Germany    </td><td>Plump, clingy peach and honey notes are cut with streaks of lime in this delicate yet intensely satisfying wine. Off dry in style, it's refreshingly juicy, with a rich, supple mouthfeel offset by bristling acidity.                                                                                                                                                          </td><td>Dom                                              </td><td>90</td><td>17</td><td>Mosel            </td><td>NA              </td><td>NA          </td><td>Anna Lee C. Iijima</td><td>NA            </td><td>BischÃ¶fliche WeingÃ¼ter Trier 2013 Dom Riesling (Mosel)                                               </td><td>Riesling                </td><td>BischÃ¶fliche WeingÃ¼ter Trier           </td></tr>\n",
       "\t<tr><th scope=row>119965</th><td><span style=white-space:pre-wrap>Italy      </span></td><td><span style=white-space:pre-wrap>A blend of 65% Cabernet Sauvignon, 30% Merlot and 5% Petit Verdot, this bold wine features aromas of spiced plum, blackcurrant, leather and a hint of coconut. On the palate, assertive tannins support the mature blackberry, espresso and licorice flavors.                                                                                                                   </span></td><td><span style=white-space:pre-wrap>Symposio                                         </span></td><td>90</td><td>20</td><td>Sicily &amp; Sardinia</td><td>Terre Siciliane </td><td><span style=white-space:pre-wrap>NA          </span></td><td><span style=white-space:pre-wrap>Kerin Oâ€™Keefe   </span></td><td><span style=white-space:pre-wrap>@kerinokeefe  </span></td><td><span style=white-space:pre-wrap>Feudo Principi di Butera 2012 Symposio Red (Terre Siciliane)                                           </span></td><td><span style=white-space:pre-wrap>Red Blend               </span></td><td><span style=white-space:pre-wrap>Feudo Principi di Butera                 </span></td></tr>\n",
       "\t<tr><th scope=row>119966</th><td>Argentina  </td><td>Raspberry and cassis aromas are fresh and upright while showing wiry, grassy accents. Full bodied, this features a jammy, pulpy palate that's fresh but low on definition. Herbal, lightly green infiltrations drift onto a solid, tannic finish. Drink through 2018.                                                                                                           </td><td>Pedernal                                         </td><td>90</td><td>43</td><td>Other            </td><td>San Juan        </td><td>NA          </td><td>Michael Schachner </td><td>@wineschach   </td><td>Finca Las Moras 2010 Pedernal Malbec (San Juan)                                                        </td><td>Malbec                  </td><td>Finca Las Moras                          </td></tr>\n",
       "\t<tr><th scope=row>119969</th><td>France     </td><td>Hugely spicy this rich wine is described as sweet. In fact, the spice gives it a drier edge, adding pepper and cinnamon as well as a mineral character from the granite soil. The wine could age, so drink from 2016.                                                                                                                                                           </td><td>Holder                                           </td><td>90</td><td>30</td><td>Alsace           </td><td>Alsace          </td><td>NA          </td><td>Roger Voss        </td><td>@vossroger    </td><td>Henri Schoenheitz 2012 Holder Gewurztraminer (Alsace)                                                  </td><td>GewÃ¼rztraminer         </td><td>Henri Schoenheitz                        </td></tr>\n",
       "\t<tr><th scope=row>119970</th><td>US         </td><td>This Zinfandel from the eastern section of Napa Valley is unexpectedly structured and bright in acidity, offering notes of strawberry and cinnamon. The acidity provides a kick to the finish, awash in memorable sprinkles of white pepper.                                                                                                                                    </td><td>NA                                               </td><td>90</td><td>22</td><td>California       </td><td>Chiles Valley   </td><td>Napa        </td><td>Virginie Boone    </td><td>@vboone       </td><td>Houdini 2011 Zinfandel (Chiles Valley)                                                                 </td><td>Zinfandel               </td><td>Houdini                                  </td></tr>\n",
       "\t<tr><th scope=row>119971</th><td>New Zealand</td><td>Roughly two-thirds Cabernet and one-third Merlot, this medium-bodied wine packs in ample plum fruit, accented by cinnamon and cedar. Finishes long, with a slightly velvety texture.                                                                                                                                                                                            </td><td>Elspeth                                          </td><td>90</td><td>25</td><td>Hawke's Bay      </td><td>NA              </td><td>NA          </td><td>Joe Czerwinski    </td><td>@JoeCz        </td><td>Mills Reef 2011 Elspeth Cabernet Merlot (Hawke's Bay)                                                  </td><td>Cabernet Merlot         </td><td>Mills Reef                               </td></tr>\n",
       "\t<tr><th scope=row>119972</th><td>New Zealand</td><td>One of the more characterful Pinot Gris for this price, Ara's 2013 offers wet stone and apple aromas, flavors of apple, cinnamon and pear and a long, mouthwatering finish. There's a bit of creaminess on the midpalate and just a hint of dusty texture on the finish.                                                                                                        </td><td>Single Estate                                    </td><td>90</td><td>15</td><td>Marlborough      </td><td>NA              </td><td>NA          </td><td>Joe Czerwinski    </td><td>@JoeCz        </td><td>Ara 2013 Single Estate Pinot Gris (Marlborough)                                                        </td><td>Pinot Gris              </td><td>Ara                                      </td></tr>\n",
       "\t<tr><th scope=row>119973</th><td>New Zealand</td><td>Like Dog Point's 2011 Chardonnay, this wine is dominated by citrusy elements. Hints of toasted almond and some riper notes of pear provide a certain amount of breadth on the palate, but citrus and quince dominate, lingering on the crisp finish. Drink nowâ€“2017.                                                                                                          </td><td>NA                                               </td><td>90</td><td>40</td><td>Marlborough      </td><td>NA              </td><td>NA          </td><td>Joe Czerwinski    </td><td>@JoeCz        </td><td>Dog Point 2012 Chardonnay (Marlborough)                                                                </td><td>Chardonnay              </td><td>Dog Point                                </td></tr>\n",
       "\t<tr><th scope=row>119974</th><td>New Zealand</td><td>The blend is 44% Merlot, 33% Cabernet Sauvignon and 22% Malbec. The result is a medium- to full-bodied wine with firm structure that should drink well through 2020. Leather, earth and plum notes pick up hints of black olive and espresso on the finish.                                                                                                                     </td><td>Gimblett Gravels Merlot-Cabernet Sauvignon-Malbec</td><td>90</td><td>19</td><td>Hawke's Bay      </td><td>NA              </td><td>NA          </td><td>Joe Czerwinski    </td><td>@JoeCz        </td><td>Esk Valley 2011 Gimblett Gravels Merlot-Cabernet Sauvignon-Malbec Red (Hawke's Bay)                    </td><td>Bordeaux-style Red Blend</td><td>Esk Valley                               </td></tr>\n",
       "\t<tr><th scope=row>119975</th><td>Spain      </td><td>Lightly baked berry aromas vie for attention with leather, spice and mild earth notes, and the result is disjointed. On the palate, this is tight as a drum initially, but more expansive as it unfolds. Cherry, plum, raspberry, vanilla and woodspice flavors finish pure, clean and easy. This is a fine yet manageable Rioja that's not trying too hard. Drink through 2016.</td><td>Crianza                                          </td><td>90</td><td>17</td><td>Northern Spain   </td><td>Rioja           </td><td>NA          </td><td>Michael Schachner </td><td>@wineschach   </td><td>ViÃ±edos Real Rubio 2010 Crianza  (Rioja)                                                              </td><td>Tempranillo Blend       </td><td>ViÃ±edos Real Rubio                      </td></tr>\n",
       "\t<tr><th scope=row>119976</th><td>New Zealand</td><td>This blend of Cabernet Sauvignon-Merlot and Cabernet Franc is full bodied and firm, the tannins just beginning to soften. The aromas and flavors are classic: cedar, vanilla, cassis and tobacco. Drink nowâ€“2020.                                                                                                                                                             </td><td>Irongate                                         </td><td>90</td><td>35</td><td>Hawke's Bay      </td><td>NA              </td><td>NA          </td><td>Joe Czerwinski    </td><td>@JoeCz        </td><td>Babich 2010 Irongate Red (Hawke's Bay)                                                                 </td><td>Bordeaux-style Red Blend</td><td>Babich                                   </td></tr>\n",
       "\t<tr><th scope=row>119977</th><td>France     </td><td>The granite soil of the Brand Grand Cru vineyard has produced a strongly structured wine that also has richness and ripe fruits. Off dry, it has a hint of honey as well as yellow fruits and pears. The aftertaste brings out the acidity and freshness that balance the wine. Drink from 2017.                                                                                </td><td>Brand Grand Cru                                  </td><td>90</td><td>57</td><td>Alsace           </td><td>Alsace          </td><td>NA          </td><td>Roger Voss        </td><td>@vossroger    </td><td>Cave de Turckheim 2010 Brand Grand Cru Pinot Gris (Alsace)                                             </td><td>Pinot Gris              </td><td>Cave de Turckheim                        </td></tr>\n",
       "\t<tr><th scope=row>119978</th><td>Portugal   </td><td>Fresh and fruity, this is full of red cherry flavors and crisp acidity. It has some age, hinting at a more toasty future. For the moment, it's at its best after eight years aging on the lees in the bottle.                                                                                                                                                                   </td><td>VÃ©rtice                                         </td><td>90</td><td>48</td><td>Douro            </td><td>NA              </td><td>NA          </td><td>Roger Voss        </td><td>@vossroger    </td><td>Caves Transmontanas 2006 VÃ©rtice Pinot Noir (Douro)                                                   </td><td>Pinot Noir              </td><td>Caves Transmontanas                      </td></tr>\n",
       "\t<tr><th scope=row>119979</th><td><span style=white-space:pre-wrap>Italy      </span></td><td><span style=white-space:pre-wrap>Intense aromas of wild cherry, baking spice, tilled soil and savory herb lead the nose on this soulful, silky red. The round, smooth palate doles out juicy red cherry, strawberry jelly, mineral, white pepper and an intriguing note of zabaglione alongside soft, supple tannins and bright acidity..                                                                        </span></td><td><span style=white-space:pre-wrap>NA                                               </span></td><td>90</td><td>30</td><td>Sicily &amp; Sardinia</td><td><span style=white-space:pre-wrap>Sicilia         </span></td><td><span style=white-space:pre-wrap>NA          </span></td><td><span style=white-space:pre-wrap>Kerin Oâ€™Keefe   </span></td><td><span style=white-space:pre-wrap>@kerinokeefe  </span></td><td><span style=white-space:pre-wrap>COS 2013 Frappato (Sicilia)                                                                            </span></td><td><span style=white-space:pre-wrap>Frappato                </span></td><td><span style=white-space:pre-wrap>COS                                      </span></td></tr>\n",
       "\t<tr><th scope=row>119980</th><td><span style=white-space:pre-wrap>Italy      </span></td><td><span style=white-space:pre-wrap>Blackberry, cassis, grilled herb and toasted aromas come together in the glass. On the palate, espresso, mint and black pepper add depth to the core of black cherry and blackberry flavors. It finishes on a licorice note.                                                                                                                                                    </span></td><td><span style=white-space:pre-wrap>SÃ gana Tenuta San Giacomo                       </span></td><td>90</td><td>40</td><td>Sicily &amp; Sardinia</td><td><span style=white-space:pre-wrap>Sicilia         </span></td><td><span style=white-space:pre-wrap>NA          </span></td><td><span style=white-space:pre-wrap>Kerin Oâ€™Keefe   </span></td><td><span style=white-space:pre-wrap>@kerinokeefe  </span></td><td><span style=white-space:pre-wrap>Cusumano 2012 SÃ gana Tenuta San Giacomo Nero d'Avola (Sicilia)                                        </span></td><td><span style=white-space:pre-wrap>Nero d'Avola            </span></td><td><span style=white-space:pre-wrap>Cusumano                                 </span></td></tr>\n",
       "\t<tr><th scope=row>119981</th><td>Israel     </td><td>A bouquet of black cherry, tart cranberry and clove opens into flavors of cherry, anisette, espresso bean and mint, with a hint of tart cranberry. The minty notes can almost seem overly strong for a moment, but tart tones bring the fruit flavors back to the foreground. The pleasantly gripping tannins will mellow with a few more years of aging.                       </td><td>Oak Aged                                         </td><td>90</td><td>20</td><td>Galilee          </td><td>NA              </td><td>NA          </td><td>Mike DeSimone     </td><td>@worldwineguys</td><td>Dalton 2012 Oak Aged Cabernet Sauvignon (Galilee)                                                      </td><td>Cabernet Sauvignon      </td><td>Dalton                                   </td></tr>\n",
       "\t<tr><th scope=row>119982</th><td>France     </td><td>Initially quite muted, this wine slowly develops impressive richness and spice. It's not sweet, more medium dry, with the spice forming a core of dryness that contrasts with the honeyed texture. It can develop more, so wait to drink until 2016.                                                                                                                            </td><td>Domaine Saint-RÃ©my Herrenweg                    </td><td>90</td><td>NA</td><td>Alsace           </td><td>Alsace          </td><td>NA          </td><td>Roger Voss        </td><td>@vossroger    </td><td>Domaine Ehrhart 2013 Domaine Saint-RÃ©my Herrenweg Gewurztraminer (Alsace)                             </td><td>GewÃ¼rztraminer         </td><td>Domaine Ehrhart                          </td></tr>\n",
       "\t<tr><th scope=row>119983</th><td>France     </td><td>While it's rich, this beautiful dry wine also offers considerable freshness. Acidity cuts easily through the ripe white fruit, pear and red apples, allowing room for spice that provides a contrasting aftertaste.                                                                                                                                                             </td><td>Seppi Landmann VallÃ©e Noble                     </td><td>90</td><td>28</td><td>Alsace           </td><td>Alsace          </td><td>NA          </td><td>Roger Voss        </td><td>@vossroger    </td><td>Domaine RieflÃ©-Landmann 2013 Seppi Landmann VallÃ©e Noble Pinot Gris (Alsace)                         </td><td>Pinot Gris              </td><td>Domaine RieflÃ©-Landmann                 </td></tr>\n",
       "\t<tr><th scope=row>119984</th><td>Germany    </td><td>Notes of honeysuckle and cantaloupe sweeten this deliciously feather-light spÃ¤tlese. It's intensely juicy, quenching the palate with streams of tart tangerine and grapefruit acidity, yet wraps up with a kiss of honey and peach.                                                                                                                                            </td><td>Brauneberger Juffer-Sonnenuhr SpÃ¤tlese          </td><td>90</td><td>28</td><td>Mosel            </td><td>NA              </td><td>NA          </td><td>Anna Lee C. Iijima</td><td>NA            </td><td>Dr. H. Thanisch (Erben MÃ¼ller-Burggraef) 2013 Brauneberger Juffer-Sonnenuhr SpÃ¤tlese Riesling (Mosel)</td><td>Riesling                </td><td>Dr. H. Thanisch (Erben MÃ¼ller-Burggraef)</td></tr>\n",
       "\t<tr><th scope=row>119985</th><td>US         </td><td>Citation is given as much as a decade of bottle age prior to release, which means it is pre-cellared and drinking at its peak. Baked cherry, cocoa and coconut flavors combine gracefully, with soft, secondary fruit compote highlights.                                                                                                                                       </td><td>NA                                               </td><td>90</td><td>75</td><td>Oregon           </td><td>Oregon          </td><td>Oregon Other</td><td>Paul Gregutt      </td><td>@paulgwineÂ   </td><td>Citation 2004 Pinot Noir (Oregon)                                                                      </td><td>Pinot Noir              </td><td>Citation                                 </td></tr>\n",
       "\t<tr><th scope=row>119986</th><td>France     </td><td>Well-drained gravel soil gives this wine its crisp and dry character. It is ripe and fruity, although the spice is subdued in favor of a more serious structure. This is a wine to age for a couple of years, so drink from 2017.                                                                                                                                               </td><td>Kritt                                            </td><td>90</td><td>30</td><td>Alsace           </td><td>Alsace          </td><td>NA          </td><td>Roger Voss        </td><td>@vossroger    </td><td>Domaine Gresser 2013 Kritt Gewurztraminer (Alsace)                                                     </td><td>GewÃ¼rztraminer         </td><td>Domaine Gresser                          </td></tr>\n",
       "\t<tr><th scope=row>119987</th><td>France     </td><td>A dry style of Pinot Gris, this is crisp with some acidity. It also has weight and a solid, powerful core of spice and baked apple flavors. With its structure still developing, the wine needs to age. Drink from 2015.                                                                                                                                                        </td><td>NA                                               </td><td>90</td><td>32</td><td>Alsace           </td><td>Alsace          </td><td>NA          </td><td>Roger Voss        </td><td>@vossroger    </td><td>Domaine Marcel Deiss 2012 Pinot Gris (Alsace)                                                          </td><td>Pinot Gris              </td><td>Domaine Marcel Deiss                     </td></tr>\n",
       "\t<tr><th scope=row>119988</th><td>France     </td><td>Big, rich and off-dry, this is powered by intense spiciness and rounded texture. Lychees dominate the fruit profile, giving an opulent feel to the aftertaste. Drink now.                                                                                                                                                                                                       </td><td>Lieu-dit Harth CuvÃ©e Caroline                   </td><td>90</td><td>21</td><td>Alsace           </td><td>Alsace          </td><td>NA          </td><td>Roger Voss        </td><td>@vossroger    </td><td>Domaine Schoffit 2012 Lieu-dit Harth CuvÃ©e Caroline Gewurztraminer (Alsace)                           </td><td>GewÃ¼rztraminer         </td><td>Domaine Schoffit                         </td></tr>\n",
       "</tbody>\n",
       "</table>\n"
      ],
      "text/latex": [
       "A data.frame: 99495 × 13\n",
       "\\begin{tabular}{r|lllllllllllll}\n",
       "  & country & description & designation & points & price & province & region\\_1 & region\\_2 & taster\\_name & taster\\_twitter\\_handle & title & variety & winery\\\\\n",
       "  & <chr> & <chr> & <chr> & <int> & <dbl> & <chr> & <chr> & <chr> & <chr> & <chr> & <chr> & <chr> & <chr>\\\\\n",
       "\\hline\n",
       "\t1 & Italy     & Aromas include tropical fruit, broom, brimstone and dried herb. The palate isn't overly expressive, offering unripened apple, citrus and dried sage alongside brisk acidity.                                                                                                                                                & VulkÃ  Bianco                                                    & 87 & NA & Sicily \\& Sardinia & Etna                  & NA                & Kerin Oâ€™Keefe    & @kerinokeefe  & Nicosia 2013 VulkÃ  Bianco  (Etna)                                                                 & White Blend        & Nicosia                \\\\\n",
       "\t2 & Portugal  & This is ripe and fruity, a wine that is smooth while still structured. Firm tannins are filled out with juicy red berry fruits and freshened with acidity. It's  already drinkable, although it will certainly be better from 2016.                                                                                         & Avidagos                                                         & 87 & 15 & Douro             & NA                    & NA                & Roger Voss         & @vossroger    & Quinta dos Avidagos 2011 Avidagos Red (Douro)                                                      & Portuguese Red     & Quinta dos Avidagos    \\\\\n",
       "\t3 & US        & Tart and snappy, the flavors of lime flesh and rind dominate. Some green pineapple pokes through, with crisp acidity underscoring the flavors. The wine was all stainless-steel fermented.                                                                                                                                  & NA                                                               & 87 & 14 & Oregon            & Willamette Valley     & Willamette Valley & Paul Gregutt       & @paulgwineÂ   & Rainstorm 2013 Pinot Gris (Willamette Valley)                                                      & Pinot Gris         & Rainstorm              \\\\\n",
       "\t4 & US        & Pineapple rind, lemon pith and orange blossom start off the aromas. The palate is a bit more opulent, with notes of honey-drizzled guava and mango giving way to a slightly astringent, semidry finish.                                                                                                                     & Reserve Late Harvest                                             & 87 & 13 & Michigan          & Lake Michigan Shore   & NA                & Alexander Peartree & NA            & St. Julian 2013 Reserve Late Harvest Riesling (Lake Michigan Shore)                                & Riesling           & St. Julian             \\\\\n",
       "\t6 & Spain     & Blackberry and raspberry aromas show a typical Navarran whiff of green herbs and, in this case, horseradish. In the mouth, this is fairly full bodied, with tomatoey acidity. Spicy, herbal flavors complement dark plum fruit, while the finish is fresh but grabby.                                                       & Ars In Vitro                                                     & 87 & 15 & Northern Spain    & Navarra               & NA                & Michael Schachner  & @wineschach   & Tandem 2011 Ars In Vitro Tempranillo-Merlot (Navarra)                                              & Tempranillo-Merlot & Tandem                 \\\\\n",
       "\t7 & Italy     & Here's a bright, informal red that opens with aromas of candied berry, white pepper and savory herb that carry over to the palate. It's balanced with fresh acidity and soft tannins.                                                                                                                                       & Belsito                                                          & 87 & 16 & Sicily \\& Sardinia & Vittoria              & NA                & Kerin Oâ€™Keefe    & @kerinokeefe  & Terre di Giurfo 2013 Belsito Frappato (Vittoria)                                                   & Frappato           & Terre di Giurfo        \\\\\n",
       "\t8 & France    & This dry and restrained wine offers spice in profusion. Balanced with acidity and a firm texture, it's very much for food.                                                                                                                                                                                                  & NA                                                               & 87 & 24 & Alsace            & Alsace                & NA                & Roger Voss         & @vossroger    & Trimbach 2012 Gewurztraminer (Alsace)                                                              & GewÃ¼rztraminer    & Trimbach               \\\\\n",
       "\t9 & Germany   & Savory dried thyme notes accent sunnier flavors of preserved peach in this brisk, off-dry wine. It's fruity and fresh, with an elegant, sprightly footprint.                                                                                                                                                                & Shine                                                            & 87 & 12 & Rheinhessen       & NA                    & NA                & Anna Lee C. Iijima & NA            & Heinz Eifel 2013 Shine GewÃ¼rztraminer (Rheinhessen)                                               & GewÃ¼rztraminer    & Heinz Eifel            \\\\\n",
       "\t10 & France    & This has great depth of flavor with its fresh apple and pear fruits and touch of spice. It's off dry while balanced with acidity and a crisp texture. Drink now.                                                                                                                                                            & Les Natures                                                      & 87 & 27 & Alsace            & Alsace                & NA                & Roger Voss         & @vossroger    & Jean-Baptiste Adam 2012 Les Natures Pinot Gris (Alsace)                                            & Pinot Gris         & Jean-Baptiste Adam     \\\\\n",
       "\t12 & France    & This is a dry wine, very spicy, with a tight, taut texture and strongly mineral character layered with citrus as well as pepper. It's a food wine with its almost crisp aftertaste.                                                                                                                                         & NA                                                               & 87 & 30 & Alsace            & Alsace                & NA                & Roger Voss         & @vossroger    & Leon Beyer 2012 Gewurztraminer (Alsace)                                                            & GewÃ¼rztraminer    & Leon Beyer             \\\\\n",
       "\t13 & US        & Slightly reduced, this wine offers a chalky, tannic backbone to an otherwise juicy explosion of rich black cherry, the whole accented throughout by firm oak and cigar box.                                                                                                                                                 & NA                                                               & 87 & 34 & California        & Alexander Valley      & Sonoma            & Virginie Boone     & @vboone       & Louis M. Martini 2012 Cabernet Sauvignon (Alexander Valley)                                        & Cabernet Sauvignon & Louis M. Martini       \\\\\n",
       "\t14 & Italy     & This is dominated by oak and oak-driven aromas that include roasted coffee bean, espresso, coconut and vanilla that carry over to the palate, together with plum and chocolate. Astringent, drying tannins give it a rather abrupt finish.                                                                                  & Rosso                                                            & 87 & NA & Sicily \\& Sardinia & Etna                  & NA                & Kerin Oâ€™Keefe    & @kerinokeefe  & Masseria Setteporte 2012 Rosso  (Etna)                                                             & Nerello Mascalese  & Masseria Setteporte    \\\\\n",
       "\t15 & US        & Building on 150 years and six generations of winemaking tradition, the winery trends toward a leaner style, with the classic California buttercream aroma cut by tart green apple. In this good everyday sipping wine, flavors that range from pear to barely ripe pineapple prove approachable but not distinctive.        & NA                                                               & 87 & 12 & California        & Central Coast         & Central Coast     & Matt Kettmann      & @mattkettmann & Mirassou 2012 Chardonnay (Central Coast)                                                           & Chardonnay         & Mirassou               \\\\\n",
       "\t16 & Germany   & Zesty orange peels and apple notes abound in this sprightly, mineral-toned Riesling. Off dry on the palate, yet racy and lean, it's a refreshing, easy quaffer with wide appeal.                                                                                                                                            & Devon                                                            & 87 & 24 & Mosel             & NA                    & NA                & Anna Lee C. Iijima & NA            & Richard BÃ¶cking 2013 Devon Riesling (Mosel)                                                       & Riesling           & Richard BÃ¶cking       \\\\\n",
       "\t17 & Argentina & Baked plum, molasses, balsamic vinegar and cheesy oak aromas feed into a palate that's braced by a bolt of acidity. A compact set of saucy red-berry and plum flavors features tobacco and peppery accents, while the finish is mildly green in flavor, with respectable weight and balance.                                & Felix                                                            & 87 & 30 & Other             & Cafayate              & NA                & Michael Schachner  & @wineschach   & Felix Lavaque 2010 Felix Malbec (Cafayate)                                                         & Malbec             & Felix Lavaque          \\\\\n",
       "\t18 & Argentina & Raw black-cherry aromas are direct and simple but good. This has a juicy feel that thickens over time, with oak character and extract becoming more apparent. A flavor profile driven by dark-berry fruits and smoldering oak finishes meaty but hot.                                                                       & Winemaker Selection                                              & 87 & 13 & Mendoza Province  & Mendoza               & NA                & Michael Schachner  & @wineschach   & Gaucho Andino 2011 Winemaker Selection Malbec (Mendoza)                                            & Malbec             & Gaucho Andino          \\\\\n",
       "\t19 & Spain     & Desiccated blackberry, leather, charred wood and mint aromas carry the nose on this full-bodied, tannic, heavily oaked Tinto Fino. Flavors of clove and woodspice sit on top of blackberry fruit, then hickory and other forceful oak-based aromas rise up and dominate the finish.                                         & Vendimia Seleccionada Finca Valdelayegua Single Vineyard Crianza & 87 & 28 & Northern Spain    & Ribera del Duero      & NA                & Michael Schachner  & @wineschach   & Pradorey 2010 Vendimia Seleccionada Finca Valdelayegua Single Vineyard Crianza  (Ribera del Duero) & Tempranillo Blend  & Pradorey               \\\\\n",
       "\t20 & US        & Red fruit aromas pervade on the nose, with cigar box and menthol notes riding in the back. The palate is slightly restrained on entry, but opens up to riper notes of cherry and plum specked with crushed pepper. This blend of Merlot, Cabernet Sauvignon and Cabernet Franc is approachable now and ready to be enjoyed. & NA                                                               & 87 & 32 & Virginia          & Virginia              & NA                & Alexander Peartree & NA            & QuiÃ©vremont 2012 Meritage (Virginia)                                                              & Meritage           & QuiÃ©vremont           \\\\\n",
       "\t21 & US        & Ripe aromas of dark berries mingle with ample notes of black pepper, toasted vanilla and dusty tobacco. The palate is oak-driven in nature, but notes of tart red currant shine through, offering a bit of levity.                                                                                                          & Vin de Maison                                                    & 87 & 23 & Virginia          & Virginia              & NA                & Alexander Peartree & NA            & QuiÃ©vremont 2012 Vin de Maison Red (Virginia)                                                     & Red Blend          & QuiÃ©vremont           \\\\\n",
       "\t22 & US        & A sleek mix of tart berry, stem and herb, along with a hint of oak and chocolate, this is a fair value in a widely available, drink-now Oregon Pinot. The wine oak-aged for six months, whether in neutral or re-staved is not indicated.                                                                                   & NA                                                               & 87 & 20 & Oregon            & Oregon                & Oregon Other      & Paul Gregutt       & @paulgwineÂ   & Acrobat 2013 Pinot Noir (Oregon)                                                                   & Pinot Noir         & Acrobat                \\\\\n",
       "\t23 & Italy     & Delicate aromas recall white flower and citrus. The palate offers passion fruit, lime and white peach with a hint of mineral alongside bright acidity.                                                                                                                                                                      & Ficiligno                                                        & 87 & 19 & Sicily \\& Sardinia & Sicilia               & NA                & Kerin Oâ€™Keefe    & @kerinokeefe  & Baglio di Pianetto 2007 Ficiligno White (Sicilia)                                                  & White Blend        & Baglio di Pianetto     \\\\\n",
       "\t25 & Italy     & Aromas of prune, blackcurrant, toast and oak carry through to the extracted palate, along with flavors of black cherry and roasted coffee beans. Firm but drying tannins provide the framework.                                                                                                                             & Aynat                                                            & 87 & 35 & Sicily \\& Sardinia & Sicilia               & NA                & Kerin Oâ€™Keefe    & @kerinokeefe  & CanicattÃ¬ 2009 Aynat Nero d'Avola (Sicilia)                                                       & Nero d'Avola       & CanicattÃ¬             \\\\\n",
       "\t27 & Italy     & Pretty aromas of yellow flower and stone fruit lead the nose. The bright palate offers yellow apple, apricot, vanilla and delicate notes of lightly toasted oak alongside crisp acidity.                                                                                                                                    & Dalila                                                           & 87 & 13 & Sicily \\& Sardinia & Terre Siciliane       & NA                & Kerin Oâ€™Keefe    & @kerinokeefe  & Stemmari 2013 Dalila White (Terre Siciliane)                                                       & White Blend        & Stemmari               \\\\\n",
       "\t28 & Italy     & Aromas recall ripe dark berry, toast and a whiff of cake spice. The soft, informal palate offers sour cherry, vanilla and a hint of espresso alongside round tannins. Drink soon.                                                                                                                                           & NA                                                               & 87 & 10 & Sicily \\& Sardinia & Terre Siciliane       & NA                & Kerin Oâ€™Keefe    & @kerinokeefe  & Stemmari 2013 Nero d'Avola (Terre Siciliane)                                                       & Nero d'Avola       & Stemmari               \\\\\n",
       "\t29 & Italy     & Aromas suggest mature berry, scorched earth, animal, toast and anise. The palate offers ripe black berry, oak, espresso, cocoa and vanilla alongside dusty tannins.                                                                                                                                                         & Mascaria Barricato                                               & 87 & 17 & Sicily \\& Sardinia & Cerasuolo di Vittoria & NA                & Kerin Oâ€™Keefe    & @kerinokeefe  & Terre di Giurfo 2011 Mascaria Barricato  (Cerasuolo di Vittoria)                                   & Red Blend          & Terre di Giurfo        \\\\\n",
       "\t30 & US        & Clarksburg is becoming a haven for Chenin Blanc in California. This bottling, using fruit sourced from several vineyards in the area, is balanced with just a trace of sweetness in the background (1\\% residual sugar). This is crisp, straightforward and blessed with notes of pear and lime. Drink it cold.              & NA                                                               & 86 & 16 & California        & Clarksburg            & Central Valley    & Virginie Boone     & @vboone       & Clarksburg Wine Company 2010 Chenin Blanc (Clarksburg)                                             & Chenin Blanc       & Clarksburg Wine Company\\\\\n",
       "\t31 & France    & Red cherry fruit comes laced with light tannins, giving this bright wine an open, juicy character.                                                                                                                                                                                                                          & Nouveau                                                          & 86 & NA & Beaujolais        & Beaujolais-Villages   & NA                & Roger Voss         & @vossroger    & Domaine de la Madone 2012 Nouveau  (Beaujolais-Villages)                                           & Gamay              & Domaine de la Madone   \\\\\n",
       "\t32 & Italy     & Merlot and Nero d'Avola form the base for this easy red wine that would pair with fettuccine and meat sauce or pork roast. The quality of the fruit is clean, bright and sharp.                                                                                                                                             & CalanÃ¬ca Nero d'Avola-Merlot                                    & 86 & NA & Sicily \\& Sardinia & Sicilia               & NA                & NA                 & NA            & Duca di Salaparuta 2010 CalanÃ¬ca Nero d'Avola-Merlot Red (Sicilia)                                & Red Blend          & Duca di Salaparuta     \\\\\n",
       "\t33 & Italy     & Part of the extended CalanÃ¬ca series, this Grillo-Viognier blend shows aromas of honeysuckle and jasmine, backed by touches of cut grass and wild sage. In the mouth, it shows ripe yellow-fruit flavors.                                                                                                                  & CalanÃ¬ca Grillo-Viognier                                        & 86 & NA & Sicily \\& Sardinia & Sicilia               & NA                & NA                 & NA            & Duca di Salaparuta 2011 CalanÃ¬ca Grillo-Viognier White (Sicilia)                                  & White Blend        & Duca di Salaparuta     \\\\\n",
       "\t34 & US        & Rustic and dry, this has flavors of berries, currants, licorice and spices. Made from Cabernet Franc and Cabernet Sauvignon.                                                                                                                                                                                                & Puma Springs Vineyard                                            & 86 & 50 & California        & Dry Creek Valley      & Sonoma            & NA                 & NA            & Envolve 2010 Puma Springs Vineyard Red (Dry Creek Valley)                                          & Red Blend          & Envolve                \\\\\n",
       "\t... & ... & ... & ... & ... & ... & ... & ... & ... & ... & ... & ... & ... & ...\\\\\n",
       "\t119956 & Argentina   & Compared to the regular 2006 Malbec from Chakana, this wine steps up in weight class and wins the crown. It's a serious but inviting red with spongey, ripe berry aromas topped by pure raspberry, cherry and cola flavors. It's both racy and composed, with a pile of bitter chocolate on the long finish. Good through 2009 at least.                                         & Reserve                                           & 91 & 25 & Mendoza Province  & LujÃ¡n de Cuyo   & NA           & Michael Schachner  & @wineschach    & Chakana 2006 Reserve Malbec (LujÃ¡n de Cuyo)                                                            & Malbec                   & Chakana                                  \\\\\n",
       "\t119957 & Austria     & A true TBA, its very rich, toffee-flavored, intense sweetness overpowering the botrytis dryness initially. And then you feel the acidity, the apricot and peach flavors and the shot of lime. In its texture, it is a truly intense dessert wine. Age for 10 years.                                                                                                              & Grand Vin                                         & 91 & 70 & Burgenland        & NA               & NA           & Roger Voss         & @vossroger     & Schloss Halbturn 2004 Grand Vin White (Burgenland)                                                      & White Blend              & Schloss Halbturn                         \\\\\n",
       "\t119958 & US          & This is the winery's bells and whistles Chardonnay. Grown from inland fruit, in a vineyard near Ukiah, it's rich in buttercreamy peach, pear and pineapple flavors, with a spicy, racy finish.                                                                                                                                                                                   & Watson Vineyard                                   & 91 & 36 & California        & Mendocino        & NA           & NA                 & NA             & Standish 2006 Watson Vineyard Chardonnay (Mendocino)                                                    & Chardonnay               & Standish                                 \\\\\n",
       "\t119959 & US          & A Chardonnay with an unusual companion, 8\\% SÃ©millon, this is floral and fruity in equal measure. Tight, bright acidity supports flavors of fennel and green apple, with the oak impact playing a subtle supporting role. The finish is nicely crisp.                                                                                                                            & NA                                                & 90 & 20 & California        & Mendocino County & NA           & Virginie Boone     & @vboone        & Apriori 2013 Chardonnay (Mendocino County)                                                              & Chardonnay               & Apriori                                  \\\\\n",
       "\t119960 & US          & This is classic in herbaceous aromas and flavors, rich in juicy blackberry and blueberry while also offering savory pencil shavings and dark chocolate. Leathered, firm tannins complete the picture, providing structure and integration to a wall of well-managed oak.                                                                                                         & NA                                                & 90 & 35 & California        & Sonoma County    & Sonoma       & Virginie Boone     & @vboone        & Arrowood 2010 Cabernet Sauvignon (Sonoma County)                                                        & Cabernet Sauvignon       & Arrowood                                 \\\\\n",
       "\t119961 & Italy       & A blend of Nero d'Avola and Syrah, this conveys aromas of scorched earth, crushed flower, dark berry and a whiff of cooking spice. The palate offers ripe cherry, graphite, ground black pepper and a smoky note alongside velvety tannins.                                                                                                                                      & AdÃ¨nzia                                          & 90 & 29 & Sicily \\& Sardinia & Sicilia          & NA           & Kerin Oâ€™Keefe    & @kerinokeefe   & Baglio del Cristo di Campobello 2012 AdÃ¨nzia Red (Sicilia)                                             & Red Blend                & Baglio del Cristo di Campobello          \\\\\n",
       "\t119962 & Israel      & Deep garnet in the glass, this has a nose of blackberry and vanilla. Flavors of blackberry, eucalyptus, tart cherry and white chocolate are well balanced, with a mix of fruity and savory notes. Tannins are mostly smooth with a touch of grip. The finish combines a pleasing blend of eucalyptus and tart cherry flavors.                                                    & Special Reserve Winemakers' Choice                & 90 & 25 & Galilee           & NA               & NA           & Mike DeSimone      & @worldwineguys & Barkan 2011 Special Reserve Winemakers' Choice Shiraz (Galilee)                                         & Shiraz                   & Barkan                                   \\\\\n",
       "\t119964 & Germany     & Plump, clingy peach and honey notes are cut with streaks of lime in this delicate yet intensely satisfying wine. Off dry in style, it's refreshingly juicy, with a rich, supple mouthfeel offset by bristling acidity.                                                                                                                                                           & Dom                                               & 90 & 17 & Mosel             & NA               & NA           & Anna Lee C. Iijima & NA             & BischÃ¶fliche WeingÃ¼ter Trier 2013 Dom Riesling (Mosel)                                                & Riesling                 & BischÃ¶fliche WeingÃ¼ter Trier           \\\\\n",
       "\t119965 & Italy       & A blend of 65\\% Cabernet Sauvignon, 30\\% Merlot and 5\\% Petit Verdot, this bold wine features aromas of spiced plum, blackcurrant, leather and a hint of coconut. On the palate, assertive tannins support the mature blackberry, espresso and licorice flavors.                                                                                                                    & Symposio                                          & 90 & 20 & Sicily \\& Sardinia & Terre Siciliane  & NA           & Kerin Oâ€™Keefe    & @kerinokeefe   & Feudo Principi di Butera 2012 Symposio Red (Terre Siciliane)                                            & Red Blend                & Feudo Principi di Butera                 \\\\\n",
       "\t119966 & Argentina   & Raspberry and cassis aromas are fresh and upright while showing wiry, grassy accents. Full bodied, this features a jammy, pulpy palate that's fresh but low on definition. Herbal, lightly green infiltrations drift onto a solid, tannic finish. Drink through 2018.                                                                                                            & Pedernal                                          & 90 & 43 & Other             & San Juan         & NA           & Michael Schachner  & @wineschach    & Finca Las Moras 2010 Pedernal Malbec (San Juan)                                                         & Malbec                   & Finca Las Moras                          \\\\\n",
       "\t119969 & France      & Hugely spicy this rich wine is described as sweet. In fact, the spice gives it a drier edge, adding pepper and cinnamon as well as a mineral character from the granite soil. The wine could age, so drink from 2016.                                                                                                                                                            & Holder                                            & 90 & 30 & Alsace            & Alsace           & NA           & Roger Voss         & @vossroger     & Henri Schoenheitz 2012 Holder Gewurztraminer (Alsace)                                                   & GewÃ¼rztraminer          & Henri Schoenheitz                        \\\\\n",
       "\t119970 & US          & This Zinfandel from the eastern section of Napa Valley is unexpectedly structured and bright in acidity, offering notes of strawberry and cinnamon. The acidity provides a kick to the finish, awash in memorable sprinkles of white pepper.                                                                                                                                     & NA                                                & 90 & 22 & California        & Chiles Valley    & Napa         & Virginie Boone     & @vboone        & Houdini 2011 Zinfandel (Chiles Valley)                                                                  & Zinfandel                & Houdini                                  \\\\\n",
       "\t119971 & New Zealand & Roughly two-thirds Cabernet and one-third Merlot, this medium-bodied wine packs in ample plum fruit, accented by cinnamon and cedar. Finishes long, with a slightly velvety texture.                                                                                                                                                                                             & Elspeth                                           & 90 & 25 & Hawke's Bay       & NA               & NA           & Joe Czerwinski     & @JoeCz         & Mills Reef 2011 Elspeth Cabernet Merlot (Hawke's Bay)                                                   & Cabernet Merlot          & Mills Reef                               \\\\\n",
       "\t119972 & New Zealand & One of the more characterful Pinot Gris for this price, Ara's 2013 offers wet stone and apple aromas, flavors of apple, cinnamon and pear and a long, mouthwatering finish. There's a bit of creaminess on the midpalate and just a hint of dusty texture on the finish.                                                                                                         & Single Estate                                     & 90 & 15 & Marlborough       & NA               & NA           & Joe Czerwinski     & @JoeCz         & Ara 2013 Single Estate Pinot Gris (Marlborough)                                                         & Pinot Gris               & Ara                                      \\\\\n",
       "\t119973 & New Zealand & Like Dog Point's 2011 Chardonnay, this wine is dominated by citrusy elements. Hints of toasted almond and some riper notes of pear provide a certain amount of breadth on the palate, but citrus and quince dominate, lingering on the crisp finish. Drink nowâ€“2017.                                                                                                           & NA                                                & 90 & 40 & Marlborough       & NA               & NA           & Joe Czerwinski     & @JoeCz         & Dog Point 2012 Chardonnay (Marlborough)                                                                 & Chardonnay               & Dog Point                                \\\\\n",
       "\t119974 & New Zealand & The blend is 44\\% Merlot, 33\\% Cabernet Sauvignon and 22\\% Malbec. The result is a medium- to full-bodied wine with firm structure that should drink well through 2020. Leather, earth and plum notes pick up hints of black olive and espresso on the finish.                                                                                                                      & Gimblett Gravels Merlot-Cabernet Sauvignon-Malbec & 90 & 19 & Hawke's Bay       & NA               & NA           & Joe Czerwinski     & @JoeCz         & Esk Valley 2011 Gimblett Gravels Merlot-Cabernet Sauvignon-Malbec Red (Hawke's Bay)                     & Bordeaux-style Red Blend & Esk Valley                               \\\\\n",
       "\t119975 & Spain       & Lightly baked berry aromas vie for attention with leather, spice and mild earth notes, and the result is disjointed. On the palate, this is tight as a drum initially, but more expansive as it unfolds. Cherry, plum, raspberry, vanilla and woodspice flavors finish pure, clean and easy. This is a fine yet manageable Rioja that's not trying too hard. Drink through 2016. & Crianza                                           & 90 & 17 & Northern Spain    & Rioja            & NA           & Michael Schachner  & @wineschach    & ViÃ±edos Real Rubio 2010 Crianza  (Rioja)                                                               & Tempranillo Blend        & ViÃ±edos Real Rubio                      \\\\\n",
       "\t119976 & New Zealand & This blend of Cabernet Sauvignon-Merlot and Cabernet Franc is full bodied and firm, the tannins just beginning to soften. The aromas and flavors are classic: cedar, vanilla, cassis and tobacco. Drink nowâ€“2020.                                                                                                                                                              & Irongate                                          & 90 & 35 & Hawke's Bay       & NA               & NA           & Joe Czerwinski     & @JoeCz         & Babich 2010 Irongate Red (Hawke's Bay)                                                                  & Bordeaux-style Red Blend & Babich                                   \\\\\n",
       "\t119977 & France      & The granite soil of the Brand Grand Cru vineyard has produced a strongly structured wine that also has richness and ripe fruits. Off dry, it has a hint of honey as well as yellow fruits and pears. The aftertaste brings out the acidity and freshness that balance the wine. Drink from 2017.                                                                                 & Brand Grand Cru                                   & 90 & 57 & Alsace            & Alsace           & NA           & Roger Voss         & @vossroger     & Cave de Turckheim 2010 Brand Grand Cru Pinot Gris (Alsace)                                              & Pinot Gris               & Cave de Turckheim                        \\\\\n",
       "\t119978 & Portugal    & Fresh and fruity, this is full of red cherry flavors and crisp acidity. It has some age, hinting at a more toasty future. For the moment, it's at its best after eight years aging on the lees in the bottle.                                                                                                                                                                    & VÃ©rtice                                          & 90 & 48 & Douro             & NA               & NA           & Roger Voss         & @vossroger     & Caves Transmontanas 2006 VÃ©rtice Pinot Noir (Douro)                                                    & Pinot Noir               & Caves Transmontanas                      \\\\\n",
       "\t119979 & Italy       & Intense aromas of wild cherry, baking spice, tilled soil and savory herb lead the nose on this soulful, silky red. The round, smooth palate doles out juicy red cherry, strawberry jelly, mineral, white pepper and an intriguing note of zabaglione alongside soft, supple tannins and bright acidity..                                                                         & NA                                                & 90 & 30 & Sicily \\& Sardinia & Sicilia          & NA           & Kerin Oâ€™Keefe    & @kerinokeefe   & COS 2013 Frappato (Sicilia)                                                                             & Frappato                 & COS                                      \\\\\n",
       "\t119980 & Italy       & Blackberry, cassis, grilled herb and toasted aromas come together in the glass. On the palate, espresso, mint and black pepper add depth to the core of black cherry and blackberry flavors. It finishes on a licorice note.                                                                                                                                                     & SÃ gana Tenuta San Giacomo                        & 90 & 40 & Sicily \\& Sardinia & Sicilia          & NA           & Kerin Oâ€™Keefe    & @kerinokeefe   & Cusumano 2012 SÃ gana Tenuta San Giacomo Nero d'Avola (Sicilia)                                         & Nero d'Avola             & Cusumano                                 \\\\\n",
       "\t119981 & Israel      & A bouquet of black cherry, tart cranberry and clove opens into flavors of cherry, anisette, espresso bean and mint, with a hint of tart cranberry. The minty notes can almost seem overly strong for a moment, but tart tones bring the fruit flavors back to the foreground. The pleasantly gripping tannins will mellow with a few more years of aging.                        & Oak Aged                                          & 90 & 20 & Galilee           & NA               & NA           & Mike DeSimone      & @worldwineguys & Dalton 2012 Oak Aged Cabernet Sauvignon (Galilee)                                                       & Cabernet Sauvignon       & Dalton                                   \\\\\n",
       "\t119982 & France      & Initially quite muted, this wine slowly develops impressive richness and spice. It's not sweet, more medium dry, with the spice forming a core of dryness that contrasts with the honeyed texture. It can develop more, so wait to drink until 2016.                                                                                                                             & Domaine Saint-RÃ©my Herrenweg                     & 90 & NA & Alsace            & Alsace           & NA           & Roger Voss         & @vossroger     & Domaine Ehrhart 2013 Domaine Saint-RÃ©my Herrenweg Gewurztraminer (Alsace)                              & GewÃ¼rztraminer          & Domaine Ehrhart                          \\\\\n",
       "\t119983 & France      & While it's rich, this beautiful dry wine also offers considerable freshness. Acidity cuts easily through the ripe white fruit, pear and red apples, allowing room for spice that provides a contrasting aftertaste.                                                                                                                                                              & Seppi Landmann VallÃ©e Noble                      & 90 & 28 & Alsace            & Alsace           & NA           & Roger Voss         & @vossroger     & Domaine RieflÃ©-Landmann 2013 Seppi Landmann VallÃ©e Noble Pinot Gris (Alsace)                          & Pinot Gris               & Domaine RieflÃ©-Landmann                 \\\\\n",
       "\t119984 & Germany     & Notes of honeysuckle and cantaloupe sweeten this deliciously feather-light spÃ¤tlese. It's intensely juicy, quenching the palate with streams of tart tangerine and grapefruit acidity, yet wraps up with a kiss of honey and peach.                                                                                                                                             & Brauneberger Juffer-Sonnenuhr SpÃ¤tlese           & 90 & 28 & Mosel             & NA               & NA           & Anna Lee C. Iijima & NA             & Dr. H. Thanisch (Erben MÃ¼ller-Burggraef) 2013 Brauneberger Juffer-Sonnenuhr SpÃ¤tlese Riesling (Mosel) & Riesling                 & Dr. H. Thanisch (Erben MÃ¼ller-Burggraef)\\\\\n",
       "\t119985 & US          & Citation is given as much as a decade of bottle age prior to release, which means it is pre-cellared and drinking at its peak. Baked cherry, cocoa and coconut flavors combine gracefully, with soft, secondary fruit compote highlights.                                                                                                                                        & NA                                                & 90 & 75 & Oregon            & Oregon           & Oregon Other & Paul Gregutt       & @paulgwineÂ    & Citation 2004 Pinot Noir (Oregon)                                                                       & Pinot Noir               & Citation                                 \\\\\n",
       "\t119986 & France      & Well-drained gravel soil gives this wine its crisp and dry character. It is ripe and fruity, although the spice is subdued in favor of a more serious structure. This is a wine to age for a couple of years, so drink from 2017.                                                                                                                                                & Kritt                                             & 90 & 30 & Alsace            & Alsace           & NA           & Roger Voss         & @vossroger     & Domaine Gresser 2013 Kritt Gewurztraminer (Alsace)                                                      & GewÃ¼rztraminer          & Domaine Gresser                          \\\\\n",
       "\t119987 & France      & A dry style of Pinot Gris, this is crisp with some acidity. It also has weight and a solid, powerful core of spice and baked apple flavors. With its structure still developing, the wine needs to age. Drink from 2015.                                                                                                                                                         & NA                                                & 90 & 32 & Alsace            & Alsace           & NA           & Roger Voss         & @vossroger     & Domaine Marcel Deiss 2012 Pinot Gris (Alsace)                                                           & Pinot Gris               & Domaine Marcel Deiss                     \\\\\n",
       "\t119988 & France      & Big, rich and off-dry, this is powered by intense spiciness and rounded texture. Lychees dominate the fruit profile, giving an opulent feel to the aftertaste. Drink now.                                                                                                                                                                                                        & Lieu-dit Harth CuvÃ©e Caroline                    & 90 & 21 & Alsace            & Alsace           & NA           & Roger Voss         & @vossroger     & Domaine Schoffit 2012 Lieu-dit Harth CuvÃ©e Caroline Gewurztraminer (Alsace)                            & GewÃ¼rztraminer          & Domaine Schoffit                         \\\\\n",
       "\\end{tabular}\n"
      ],
      "text/markdown": [
       "\n",
       "A data.frame: 99495 × 13\n",
       "\n",
       "| <!--/--> | country &lt;chr&gt; | description &lt;chr&gt; | designation &lt;chr&gt; | points &lt;int&gt; | price &lt;dbl&gt; | province &lt;chr&gt; | region_1 &lt;chr&gt; | region_2 &lt;chr&gt; | taster_name &lt;chr&gt; | taster_twitter_handle &lt;chr&gt; | title &lt;chr&gt; | variety &lt;chr&gt; | winery &lt;chr&gt; |\n",
       "|---|---|---|---|---|---|---|---|---|---|---|---|---|---|\n",
       "| 1 | Italy     | Aromas include tropical fruit, broom, brimstone and dried herb. The palate isn't overly expressive, offering unripened apple, citrus and dried sage alongside brisk acidity.                                                                                                                                                | VulkÃ  Bianco                                                    | 87 | NA | Sicily &amp; Sardinia | Etna                  | NA                | Kerin Oâ€™Keefe    | @kerinokeefe  | Nicosia 2013 VulkÃ  Bianco  (Etna)                                                                 | White Blend        | Nicosia                 |\n",
       "| 2 | Portugal  | This is ripe and fruity, a wine that is smooth while still structured. Firm tannins are filled out with juicy red berry fruits and freshened with acidity. It's  already drinkable, although it will certainly be better from 2016.                                                                                         | Avidagos                                                         | 87 | 15 | Douro             | NA                    | NA                | Roger Voss         | @vossroger    | Quinta dos Avidagos 2011 Avidagos Red (Douro)                                                      | Portuguese Red     | Quinta dos Avidagos     |\n",
       "| 3 | US        | Tart and snappy, the flavors of lime flesh and rind dominate. Some green pineapple pokes through, with crisp acidity underscoring the flavors. The wine was all stainless-steel fermented.                                                                                                                                  | NA                                                               | 87 | 14 | Oregon            | Willamette Valley     | Willamette Valley | Paul Gregutt       | @paulgwineÂ   | Rainstorm 2013 Pinot Gris (Willamette Valley)                                                      | Pinot Gris         | Rainstorm               |\n",
       "| 4 | US        | Pineapple rind, lemon pith and orange blossom start off the aromas. The palate is a bit more opulent, with notes of honey-drizzled guava and mango giving way to a slightly astringent, semidry finish.                                                                                                                     | Reserve Late Harvest                                             | 87 | 13 | Michigan          | Lake Michigan Shore   | NA                | Alexander Peartree | NA            | St. Julian 2013 Reserve Late Harvest Riesling (Lake Michigan Shore)                                | Riesling           | St. Julian              |\n",
       "| 6 | Spain     | Blackberry and raspberry aromas show a typical Navarran whiff of green herbs and, in this case, horseradish. In the mouth, this is fairly full bodied, with tomatoey acidity. Spicy, herbal flavors complement dark plum fruit, while the finish is fresh but grabby.                                                       | Ars In Vitro                                                     | 87 | 15 | Northern Spain    | Navarra               | NA                | Michael Schachner  | @wineschach   | Tandem 2011 Ars In Vitro Tempranillo-Merlot (Navarra)                                              | Tempranillo-Merlot | Tandem                  |\n",
       "| 7 | Italy     | Here's a bright, informal red that opens with aromas of candied berry, white pepper and savory herb that carry over to the palate. It's balanced with fresh acidity and soft tannins.                                                                                                                                       | Belsito                                                          | 87 | 16 | Sicily &amp; Sardinia | Vittoria              | NA                | Kerin Oâ€™Keefe    | @kerinokeefe  | Terre di Giurfo 2013 Belsito Frappato (Vittoria)                                                   | Frappato           | Terre di Giurfo         |\n",
       "| 8 | France    | This dry and restrained wine offers spice in profusion. Balanced with acidity and a firm texture, it's very much for food.                                                                                                                                                                                                  | NA                                                               | 87 | 24 | Alsace            | Alsace                | NA                | Roger Voss         | @vossroger    | Trimbach 2012 Gewurztraminer (Alsace)                                                              | GewÃ¼rztraminer    | Trimbach                |\n",
       "| 9 | Germany   | Savory dried thyme notes accent sunnier flavors of preserved peach in this brisk, off-dry wine. It's fruity and fresh, with an elegant, sprightly footprint.                                                                                                                                                                | Shine                                                            | 87 | 12 | Rheinhessen       | NA                    | NA                | Anna Lee C. Iijima | NA            | Heinz Eifel 2013 Shine GewÃ¼rztraminer (Rheinhessen)                                               | GewÃ¼rztraminer    | Heinz Eifel             |\n",
       "| 10 | France    | This has great depth of flavor with its fresh apple and pear fruits and touch of spice. It's off dry while balanced with acidity and a crisp texture. Drink now.                                                                                                                                                            | Les Natures                                                      | 87 | 27 | Alsace            | Alsace                | NA                | Roger Voss         | @vossroger    | Jean-Baptiste Adam 2012 Les Natures Pinot Gris (Alsace)                                            | Pinot Gris         | Jean-Baptiste Adam      |\n",
       "| 12 | France    | This is a dry wine, very spicy, with a tight, taut texture and strongly mineral character layered with citrus as well as pepper. It's a food wine with its almost crisp aftertaste.                                                                                                                                         | NA                                                               | 87 | 30 | Alsace            | Alsace                | NA                | Roger Voss         | @vossroger    | Leon Beyer 2012 Gewurztraminer (Alsace)                                                            | GewÃ¼rztraminer    | Leon Beyer              |\n",
       "| 13 | US        | Slightly reduced, this wine offers a chalky, tannic backbone to an otherwise juicy explosion of rich black cherry, the whole accented throughout by firm oak and cigar box.                                                                                                                                                 | NA                                                               | 87 | 34 | California        | Alexander Valley      | Sonoma            | Virginie Boone     | @vboone       | Louis M. Martini 2012 Cabernet Sauvignon (Alexander Valley)                                        | Cabernet Sauvignon | Louis M. Martini        |\n",
       "| 14 | Italy     | This is dominated by oak and oak-driven aromas that include roasted coffee bean, espresso, coconut and vanilla that carry over to the palate, together with plum and chocolate. Astringent, drying tannins give it a rather abrupt finish.                                                                                  | Rosso                                                            | 87 | NA | Sicily &amp; Sardinia | Etna                  | NA                | Kerin Oâ€™Keefe    | @kerinokeefe  | Masseria Setteporte 2012 Rosso  (Etna)                                                             | Nerello Mascalese  | Masseria Setteporte     |\n",
       "| 15 | US        | Building on 150 years and six generations of winemaking tradition, the winery trends toward a leaner style, with the classic California buttercream aroma cut by tart green apple. In this good everyday sipping wine, flavors that range from pear to barely ripe pineapple prove approachable but not distinctive.        | NA                                                               | 87 | 12 | California        | Central Coast         | Central Coast     | Matt Kettmann      | @mattkettmann | Mirassou 2012 Chardonnay (Central Coast)                                                           | Chardonnay         | Mirassou                |\n",
       "| 16 | Germany   | Zesty orange peels and apple notes abound in this sprightly, mineral-toned Riesling. Off dry on the palate, yet racy and lean, it's a refreshing, easy quaffer with wide appeal.                                                                                                                                            | Devon                                                            | 87 | 24 | Mosel             | NA                    | NA                | Anna Lee C. Iijima | NA            | Richard BÃ¶cking 2013 Devon Riesling (Mosel)                                                       | Riesling           | Richard BÃ¶cking        |\n",
       "| 17 | Argentina | Baked plum, molasses, balsamic vinegar and cheesy oak aromas feed into a palate that's braced by a bolt of acidity. A compact set of saucy red-berry and plum flavors features tobacco and peppery accents, while the finish is mildly green in flavor, with respectable weight and balance.                                | Felix                                                            | 87 | 30 | Other             | Cafayate              | NA                | Michael Schachner  | @wineschach   | Felix Lavaque 2010 Felix Malbec (Cafayate)                                                         | Malbec             | Felix Lavaque           |\n",
       "| 18 | Argentina | Raw black-cherry aromas are direct and simple but good. This has a juicy feel that thickens over time, with oak character and extract becoming more apparent. A flavor profile driven by dark-berry fruits and smoldering oak finishes meaty but hot.                                                                       | Winemaker Selection                                              | 87 | 13 | Mendoza Province  | Mendoza               | NA                | Michael Schachner  | @wineschach   | Gaucho Andino 2011 Winemaker Selection Malbec (Mendoza)                                            | Malbec             | Gaucho Andino           |\n",
       "| 19 | Spain     | Desiccated blackberry, leather, charred wood and mint aromas carry the nose on this full-bodied, tannic, heavily oaked Tinto Fino. Flavors of clove and woodspice sit on top of blackberry fruit, then hickory and other forceful oak-based aromas rise up and dominate the finish.                                         | Vendimia Seleccionada Finca Valdelayegua Single Vineyard Crianza | 87 | 28 | Northern Spain    | Ribera del Duero      | NA                | Michael Schachner  | @wineschach   | Pradorey 2010 Vendimia Seleccionada Finca Valdelayegua Single Vineyard Crianza  (Ribera del Duero) | Tempranillo Blend  | Pradorey                |\n",
       "| 20 | US        | Red fruit aromas pervade on the nose, with cigar box and menthol notes riding in the back. The palate is slightly restrained on entry, but opens up to riper notes of cherry and plum specked with crushed pepper. This blend of Merlot, Cabernet Sauvignon and Cabernet Franc is approachable now and ready to be enjoyed. | NA                                                               | 87 | 32 | Virginia          | Virginia              | NA                | Alexander Peartree | NA            | QuiÃ©vremont 2012 Meritage (Virginia)                                                              | Meritage           | QuiÃ©vremont            |\n",
       "| 21 | US        | Ripe aromas of dark berries mingle with ample notes of black pepper, toasted vanilla and dusty tobacco. The palate is oak-driven in nature, but notes of tart red currant shine through, offering a bit of levity.                                                                                                          | Vin de Maison                                                    | 87 | 23 | Virginia          | Virginia              | NA                | Alexander Peartree | NA            | QuiÃ©vremont 2012 Vin de Maison Red (Virginia)                                                     | Red Blend          | QuiÃ©vremont            |\n",
       "| 22 | US        | A sleek mix of tart berry, stem and herb, along with a hint of oak and chocolate, this is a fair value in a widely available, drink-now Oregon Pinot. The wine oak-aged for six months, whether in neutral or re-staved is not indicated.                                                                                   | NA                                                               | 87 | 20 | Oregon            | Oregon                | Oregon Other      | Paul Gregutt       | @paulgwineÂ   | Acrobat 2013 Pinot Noir (Oregon)                                                                   | Pinot Noir         | Acrobat                 |\n",
       "| 23 | Italy     | Delicate aromas recall white flower and citrus. The palate offers passion fruit, lime and white peach with a hint of mineral alongside bright acidity.                                                                                                                                                                      | Ficiligno                                                        | 87 | 19 | Sicily &amp; Sardinia | Sicilia               | NA                | Kerin Oâ€™Keefe    | @kerinokeefe  | Baglio di Pianetto 2007 Ficiligno White (Sicilia)                                                  | White Blend        | Baglio di Pianetto      |\n",
       "| 25 | Italy     | Aromas of prune, blackcurrant, toast and oak carry through to the extracted palate, along with flavors of black cherry and roasted coffee beans. Firm but drying tannins provide the framework.                                                                                                                             | Aynat                                                            | 87 | 35 | Sicily &amp; Sardinia | Sicilia               | NA                | Kerin Oâ€™Keefe    | @kerinokeefe  | CanicattÃ¬ 2009 Aynat Nero d'Avola (Sicilia)                                                       | Nero d'Avola       | CanicattÃ¬              |\n",
       "| 27 | Italy     | Pretty aromas of yellow flower and stone fruit lead the nose. The bright palate offers yellow apple, apricot, vanilla and delicate notes of lightly toasted oak alongside crisp acidity.                                                                                                                                    | Dalila                                                           | 87 | 13 | Sicily &amp; Sardinia | Terre Siciliane       | NA                | Kerin Oâ€™Keefe    | @kerinokeefe  | Stemmari 2013 Dalila White (Terre Siciliane)                                                       | White Blend        | Stemmari                |\n",
       "| 28 | Italy     | Aromas recall ripe dark berry, toast and a whiff of cake spice. The soft, informal palate offers sour cherry, vanilla and a hint of espresso alongside round tannins. Drink soon.                                                                                                                                           | NA                                                               | 87 | 10 | Sicily &amp; Sardinia | Terre Siciliane       | NA                | Kerin Oâ€™Keefe    | @kerinokeefe  | Stemmari 2013 Nero d'Avola (Terre Siciliane)                                                       | Nero d'Avola       | Stemmari                |\n",
       "| 29 | Italy     | Aromas suggest mature berry, scorched earth, animal, toast and anise. The palate offers ripe black berry, oak, espresso, cocoa and vanilla alongside dusty tannins.                                                                                                                                                         | Mascaria Barricato                                               | 87 | 17 | Sicily &amp; Sardinia | Cerasuolo di Vittoria | NA                | Kerin Oâ€™Keefe    | @kerinokeefe  | Terre di Giurfo 2011 Mascaria Barricato  (Cerasuolo di Vittoria)                                   | Red Blend          | Terre di Giurfo         |\n",
       "| 30 | US        | Clarksburg is becoming a haven for Chenin Blanc in California. This bottling, using fruit sourced from several vineyards in the area, is balanced with just a trace of sweetness in the background (1% residual sugar). This is crisp, straightforward and blessed with notes of pear and lime. Drink it cold.              | NA                                                               | 86 | 16 | California        | Clarksburg            | Central Valley    | Virginie Boone     | @vboone       | Clarksburg Wine Company 2010 Chenin Blanc (Clarksburg)                                             | Chenin Blanc       | Clarksburg Wine Company |\n",
       "| 31 | France    | Red cherry fruit comes laced with light tannins, giving this bright wine an open, juicy character.                                                                                                                                                                                                                          | Nouveau                                                          | 86 | NA | Beaujolais        | Beaujolais-Villages   | NA                | Roger Voss         | @vossroger    | Domaine de la Madone 2012 Nouveau  (Beaujolais-Villages)                                           | Gamay              | Domaine de la Madone    |\n",
       "| 32 | Italy     | Merlot and Nero d'Avola form the base for this easy red wine that would pair with fettuccine and meat sauce or pork roast. The quality of the fruit is clean, bright and sharp.                                                                                                                                             | CalanÃ¬ca Nero d'Avola-Merlot                                    | 86 | NA | Sicily &amp; Sardinia | Sicilia               | NA                | NA                 | NA            | Duca di Salaparuta 2010 CalanÃ¬ca Nero d'Avola-Merlot Red (Sicilia)                                | Red Blend          | Duca di Salaparuta      |\n",
       "| 33 | Italy     | Part of the extended CalanÃ¬ca series, this Grillo-Viognier blend shows aromas of honeysuckle and jasmine, backed by touches of cut grass and wild sage. In the mouth, it shows ripe yellow-fruit flavors.                                                                                                                  | CalanÃ¬ca Grillo-Viognier                                        | 86 | NA | Sicily &amp; Sardinia | Sicilia               | NA                | NA                 | NA            | Duca di Salaparuta 2011 CalanÃ¬ca Grillo-Viognier White (Sicilia)                                  | White Blend        | Duca di Salaparuta      |\n",
       "| 34 | US        | Rustic and dry, this has flavors of berries, currants, licorice and spices. Made from Cabernet Franc and Cabernet Sauvignon.                                                                                                                                                                                                | Puma Springs Vineyard                                            | 86 | 50 | California        | Dry Creek Valley      | Sonoma            | NA                 | NA            | Envolve 2010 Puma Springs Vineyard Red (Dry Creek Valley)                                          | Red Blend          | Envolve                 |\n",
       "| ... | ... | ... | ... | ... | ... | ... | ... | ... | ... | ... | ... | ... | ... |\n",
       "| 119956 | Argentina   | Compared to the regular 2006 Malbec from Chakana, this wine steps up in weight class and wins the crown. It's a serious but inviting red with spongey, ripe berry aromas topped by pure raspberry, cherry and cola flavors. It's both racy and composed, with a pile of bitter chocolate on the long finish. Good through 2009 at least.                                         | Reserve                                           | 91 | 25 | Mendoza Province  | LujÃ¡n de Cuyo   | NA           | Michael Schachner  | @wineschach    | Chakana 2006 Reserve Malbec (LujÃ¡n de Cuyo)                                                            | Malbec                   | Chakana                                   |\n",
       "| 119957 | Austria     | A true TBA, its very rich, toffee-flavored, intense sweetness overpowering the botrytis dryness initially. And then you feel the acidity, the apricot and peach flavors and the shot of lime. In its texture, it is a truly intense dessert wine. Age for 10 years.                                                                                                              | Grand Vin                                         | 91 | 70 | Burgenland        | NA               | NA           | Roger Voss         | @vossroger     | Schloss Halbturn 2004 Grand Vin White (Burgenland)                                                      | White Blend              | Schloss Halbturn                          |\n",
       "| 119958 | US          | This is the winery's bells and whistles Chardonnay. Grown from inland fruit, in a vineyard near Ukiah, it's rich in buttercreamy peach, pear and pineapple flavors, with a spicy, racy finish.                                                                                                                                                                                   | Watson Vineyard                                   | 91 | 36 | California        | Mendocino        | NA           | NA                 | NA             | Standish 2006 Watson Vineyard Chardonnay (Mendocino)                                                    | Chardonnay               | Standish                                  |\n",
       "| 119959 | US          | A Chardonnay with an unusual companion, 8% SÃ©millon, this is floral and fruity in equal measure. Tight, bright acidity supports flavors of fennel and green apple, with the oak impact playing a subtle supporting role. The finish is nicely crisp.                                                                                                                            | NA                                                | 90 | 20 | California        | Mendocino County | NA           | Virginie Boone     | @vboone        | Apriori 2013 Chardonnay (Mendocino County)                                                              | Chardonnay               | Apriori                                   |\n",
       "| 119960 | US          | This is classic in herbaceous aromas and flavors, rich in juicy blackberry and blueberry while also offering savory pencil shavings and dark chocolate. Leathered, firm tannins complete the picture, providing structure and integration to a wall of well-managed oak.                                                                                                         | NA                                                | 90 | 35 | California        | Sonoma County    | Sonoma       | Virginie Boone     | @vboone        | Arrowood 2010 Cabernet Sauvignon (Sonoma County)                                                        | Cabernet Sauvignon       | Arrowood                                  |\n",
       "| 119961 | Italy       | A blend of Nero d'Avola and Syrah, this conveys aromas of scorched earth, crushed flower, dark berry and a whiff of cooking spice. The palate offers ripe cherry, graphite, ground black pepper and a smoky note alongside velvety tannins.                                                                                                                                      | AdÃ¨nzia                                          | 90 | 29 | Sicily &amp; Sardinia | Sicilia          | NA           | Kerin Oâ€™Keefe    | @kerinokeefe   | Baglio del Cristo di Campobello 2012 AdÃ¨nzia Red (Sicilia)                                             | Red Blend                | Baglio del Cristo di Campobello           |\n",
       "| 119962 | Israel      | Deep garnet in the glass, this has a nose of blackberry and vanilla. Flavors of blackberry, eucalyptus, tart cherry and white chocolate are well balanced, with a mix of fruity and savory notes. Tannins are mostly smooth with a touch of grip. The finish combines a pleasing blend of eucalyptus and tart cherry flavors.                                                    | Special Reserve Winemakers' Choice                | 90 | 25 | Galilee           | NA               | NA           | Mike DeSimone      | @worldwineguys | Barkan 2011 Special Reserve Winemakers' Choice Shiraz (Galilee)                                         | Shiraz                   | Barkan                                    |\n",
       "| 119964 | Germany     | Plump, clingy peach and honey notes are cut with streaks of lime in this delicate yet intensely satisfying wine. Off dry in style, it's refreshingly juicy, with a rich, supple mouthfeel offset by bristling acidity.                                                                                                                                                           | Dom                                               | 90 | 17 | Mosel             | NA               | NA           | Anna Lee C. Iijima | NA             | BischÃ¶fliche WeingÃ¼ter Trier 2013 Dom Riesling (Mosel)                                                | Riesling                 | BischÃ¶fliche WeingÃ¼ter Trier            |\n",
       "| 119965 | Italy       | A blend of 65% Cabernet Sauvignon, 30% Merlot and 5% Petit Verdot, this bold wine features aromas of spiced plum, blackcurrant, leather and a hint of coconut. On the palate, assertive tannins support the mature blackberry, espresso and licorice flavors.                                                                                                                    | Symposio                                          | 90 | 20 | Sicily &amp; Sardinia | Terre Siciliane  | NA           | Kerin Oâ€™Keefe    | @kerinokeefe   | Feudo Principi di Butera 2012 Symposio Red (Terre Siciliane)                                            | Red Blend                | Feudo Principi di Butera                  |\n",
       "| 119966 | Argentina   | Raspberry and cassis aromas are fresh and upright while showing wiry, grassy accents. Full bodied, this features a jammy, pulpy palate that's fresh but low on definition. Herbal, lightly green infiltrations drift onto a solid, tannic finish. Drink through 2018.                                                                                                            | Pedernal                                          | 90 | 43 | Other             | San Juan         | NA           | Michael Schachner  | @wineschach    | Finca Las Moras 2010 Pedernal Malbec (San Juan)                                                         | Malbec                   | Finca Las Moras                           |\n",
       "| 119969 | France      | Hugely spicy this rich wine is described as sweet. In fact, the spice gives it a drier edge, adding pepper and cinnamon as well as a mineral character from the granite soil. The wine could age, so drink from 2016.                                                                                                                                                            | Holder                                            | 90 | 30 | Alsace            | Alsace           | NA           | Roger Voss         | @vossroger     | Henri Schoenheitz 2012 Holder Gewurztraminer (Alsace)                                                   | GewÃ¼rztraminer          | Henri Schoenheitz                         |\n",
       "| 119970 | US          | This Zinfandel from the eastern section of Napa Valley is unexpectedly structured and bright in acidity, offering notes of strawberry and cinnamon. The acidity provides a kick to the finish, awash in memorable sprinkles of white pepper.                                                                                                                                     | NA                                                | 90 | 22 | California        | Chiles Valley    | Napa         | Virginie Boone     | @vboone        | Houdini 2011 Zinfandel (Chiles Valley)                                                                  | Zinfandel                | Houdini                                   |\n",
       "| 119971 | New Zealand | Roughly two-thirds Cabernet and one-third Merlot, this medium-bodied wine packs in ample plum fruit, accented by cinnamon and cedar. Finishes long, with a slightly velvety texture.                                                                                                                                                                                             | Elspeth                                           | 90 | 25 | Hawke's Bay       | NA               | NA           | Joe Czerwinski     | @JoeCz         | Mills Reef 2011 Elspeth Cabernet Merlot (Hawke's Bay)                                                   | Cabernet Merlot          | Mills Reef                                |\n",
       "| 119972 | New Zealand | One of the more characterful Pinot Gris for this price, Ara's 2013 offers wet stone and apple aromas, flavors of apple, cinnamon and pear and a long, mouthwatering finish. There's a bit of creaminess on the midpalate and just a hint of dusty texture on the finish.                                                                                                         | Single Estate                                     | 90 | 15 | Marlborough       | NA               | NA           | Joe Czerwinski     | @JoeCz         | Ara 2013 Single Estate Pinot Gris (Marlborough)                                                         | Pinot Gris               | Ara                                       |\n",
       "| 119973 | New Zealand | Like Dog Point's 2011 Chardonnay, this wine is dominated by citrusy elements. Hints of toasted almond and some riper notes of pear provide a certain amount of breadth on the palate, but citrus and quince dominate, lingering on the crisp finish. Drink nowâ€“2017.                                                                                                           | NA                                                | 90 | 40 | Marlborough       | NA               | NA           | Joe Czerwinski     | @JoeCz         | Dog Point 2012 Chardonnay (Marlborough)                                                                 | Chardonnay               | Dog Point                                 |\n",
       "| 119974 | New Zealand | The blend is 44% Merlot, 33% Cabernet Sauvignon and 22% Malbec. The result is a medium- to full-bodied wine with firm structure that should drink well through 2020. Leather, earth and plum notes pick up hints of black olive and espresso on the finish.                                                                                                                      | Gimblett Gravels Merlot-Cabernet Sauvignon-Malbec | 90 | 19 | Hawke's Bay       | NA               | NA           | Joe Czerwinski     | @JoeCz         | Esk Valley 2011 Gimblett Gravels Merlot-Cabernet Sauvignon-Malbec Red (Hawke's Bay)                     | Bordeaux-style Red Blend | Esk Valley                                |\n",
       "| 119975 | Spain       | Lightly baked berry aromas vie for attention with leather, spice and mild earth notes, and the result is disjointed. On the palate, this is tight as a drum initially, but more expansive as it unfolds. Cherry, plum, raspberry, vanilla and woodspice flavors finish pure, clean and easy. This is a fine yet manageable Rioja that's not trying too hard. Drink through 2016. | Crianza                                           | 90 | 17 | Northern Spain    | Rioja            | NA           | Michael Schachner  | @wineschach    | ViÃ±edos Real Rubio 2010 Crianza  (Rioja)                                                               | Tempranillo Blend        | ViÃ±edos Real Rubio                       |\n",
       "| 119976 | New Zealand | This blend of Cabernet Sauvignon-Merlot and Cabernet Franc is full bodied and firm, the tannins just beginning to soften. The aromas and flavors are classic: cedar, vanilla, cassis and tobacco. Drink nowâ€“2020.                                                                                                                                                              | Irongate                                          | 90 | 35 | Hawke's Bay       | NA               | NA           | Joe Czerwinski     | @JoeCz         | Babich 2010 Irongate Red (Hawke's Bay)                                                                  | Bordeaux-style Red Blend | Babich                                    |\n",
       "| 119977 | France      | The granite soil of the Brand Grand Cru vineyard has produced a strongly structured wine that also has richness and ripe fruits. Off dry, it has a hint of honey as well as yellow fruits and pears. The aftertaste brings out the acidity and freshness that balance the wine. Drink from 2017.                                                                                 | Brand Grand Cru                                   | 90 | 57 | Alsace            | Alsace           | NA           | Roger Voss         | @vossroger     | Cave de Turckheim 2010 Brand Grand Cru Pinot Gris (Alsace)                                              | Pinot Gris               | Cave de Turckheim                         |\n",
       "| 119978 | Portugal    | Fresh and fruity, this is full of red cherry flavors and crisp acidity. It has some age, hinting at a more toasty future. For the moment, it's at its best after eight years aging on the lees in the bottle.                                                                                                                                                                    | VÃ©rtice                                          | 90 | 48 | Douro             | NA               | NA           | Roger Voss         | @vossroger     | Caves Transmontanas 2006 VÃ©rtice Pinot Noir (Douro)                                                    | Pinot Noir               | Caves Transmontanas                       |\n",
       "| 119979 | Italy       | Intense aromas of wild cherry, baking spice, tilled soil and savory herb lead the nose on this soulful, silky red. The round, smooth palate doles out juicy red cherry, strawberry jelly, mineral, white pepper and an intriguing note of zabaglione alongside soft, supple tannins and bright acidity..                                                                         | NA                                                | 90 | 30 | Sicily &amp; Sardinia | Sicilia          | NA           | Kerin Oâ€™Keefe    | @kerinokeefe   | COS 2013 Frappato (Sicilia)                                                                             | Frappato                 | COS                                       |\n",
       "| 119980 | Italy       | Blackberry, cassis, grilled herb and toasted aromas come together in the glass. On the palate, espresso, mint and black pepper add depth to the core of black cherry and blackberry flavors. It finishes on a licorice note.                                                                                                                                                     | SÃ gana Tenuta San Giacomo                        | 90 | 40 | Sicily &amp; Sardinia | Sicilia          | NA           | Kerin Oâ€™Keefe    | @kerinokeefe   | Cusumano 2012 SÃ gana Tenuta San Giacomo Nero d'Avola (Sicilia)                                         | Nero d'Avola             | Cusumano                                  |\n",
       "| 119981 | Israel      | A bouquet of black cherry, tart cranberry and clove opens into flavors of cherry, anisette, espresso bean and mint, with a hint of tart cranberry. The minty notes can almost seem overly strong for a moment, but tart tones bring the fruit flavors back to the foreground. The pleasantly gripping tannins will mellow with a few more years of aging.                        | Oak Aged                                          | 90 | 20 | Galilee           | NA               | NA           | Mike DeSimone      | @worldwineguys | Dalton 2012 Oak Aged Cabernet Sauvignon (Galilee)                                                       | Cabernet Sauvignon       | Dalton                                    |\n",
       "| 119982 | France      | Initially quite muted, this wine slowly develops impressive richness and spice. It's not sweet, more medium dry, with the spice forming a core of dryness that contrasts with the honeyed texture. It can develop more, so wait to drink until 2016.                                                                                                                             | Domaine Saint-RÃ©my Herrenweg                     | 90 | NA | Alsace            | Alsace           | NA           | Roger Voss         | @vossroger     | Domaine Ehrhart 2013 Domaine Saint-RÃ©my Herrenweg Gewurztraminer (Alsace)                              | GewÃ¼rztraminer          | Domaine Ehrhart                           |\n",
       "| 119983 | France      | While it's rich, this beautiful dry wine also offers considerable freshness. Acidity cuts easily through the ripe white fruit, pear and red apples, allowing room for spice that provides a contrasting aftertaste.                                                                                                                                                              | Seppi Landmann VallÃ©e Noble                      | 90 | 28 | Alsace            | Alsace           | NA           | Roger Voss         | @vossroger     | Domaine RieflÃ©-Landmann 2013 Seppi Landmann VallÃ©e Noble Pinot Gris (Alsace)                          | Pinot Gris               | Domaine RieflÃ©-Landmann                  |\n",
       "| 119984 | Germany     | Notes of honeysuckle and cantaloupe sweeten this deliciously feather-light spÃ¤tlese. It's intensely juicy, quenching the palate with streams of tart tangerine and grapefruit acidity, yet wraps up with a kiss of honey and peach.                                                                                                                                             | Brauneberger Juffer-Sonnenuhr SpÃ¤tlese           | 90 | 28 | Mosel             | NA               | NA           | Anna Lee C. Iijima | NA             | Dr. H. Thanisch (Erben MÃ¼ller-Burggraef) 2013 Brauneberger Juffer-Sonnenuhr SpÃ¤tlese Riesling (Mosel) | Riesling                 | Dr. H. Thanisch (Erben MÃ¼ller-Burggraef) |\n",
       "| 119985 | US          | Citation is given as much as a decade of bottle age prior to release, which means it is pre-cellared and drinking at its peak. Baked cherry, cocoa and coconut flavors combine gracefully, with soft, secondary fruit compote highlights.                                                                                                                                        | NA                                                | 90 | 75 | Oregon            | Oregon           | Oregon Other | Paul Gregutt       | @paulgwineÂ    | Citation 2004 Pinot Noir (Oregon)                                                                       | Pinot Noir               | Citation                                  |\n",
       "| 119986 | France      | Well-drained gravel soil gives this wine its crisp and dry character. It is ripe and fruity, although the spice is subdued in favor of a more serious structure. This is a wine to age for a couple of years, so drink from 2017.                                                                                                                                                | Kritt                                             | 90 | 30 | Alsace            | Alsace           | NA           | Roger Voss         | @vossroger     | Domaine Gresser 2013 Kritt Gewurztraminer (Alsace)                                                      | GewÃ¼rztraminer          | Domaine Gresser                           |\n",
       "| 119987 | France      | A dry style of Pinot Gris, this is crisp with some acidity. It also has weight and a solid, powerful core of spice and baked apple flavors. With its structure still developing, the wine needs to age. Drink from 2015.                                                                                                                                                         | NA                                                | 90 | 32 | Alsace            | Alsace           | NA           | Roger Voss         | @vossroger     | Domaine Marcel Deiss 2012 Pinot Gris (Alsace)                                                           | Pinot Gris               | Domaine Marcel Deiss                      |\n",
       "| 119988 | France      | Big, rich and off-dry, this is powered by intense spiciness and rounded texture. Lychees dominate the fruit profile, giving an opulent feel to the aftertaste. Drink now.                                                                                                                                                                                                        | Lieu-dit Harth CuvÃ©e Caroline                    | 90 | 21 | Alsace            | Alsace           | NA           | Roger Voss         | @vossroger     | Domaine Schoffit 2012 Lieu-dit Harth CuvÃ©e Caroline Gewurztraminer (Alsace)                            | GewÃ¼rztraminer          | Domaine Schoffit                          |\n",
       "\n"
      ],
      "text/plain": [
       "       country    \n",
       "1      Italy      \n",
       "2      Portugal   \n",
       "3      US         \n",
       "4      US         \n",
       "6      Spain      \n",
       "7      Italy      \n",
       "8      France     \n",
       "9      Germany    \n",
       "10     France     \n",
       "12     France     \n",
       "13     US         \n",
       "14     Italy      \n",
       "15     US         \n",
       "16     Germany    \n",
       "17     Argentina  \n",
       "18     Argentina  \n",
       "19     Spain      \n",
       "20     US         \n",
       "21     US         \n",
       "22     US         \n",
       "23     Italy      \n",
       "25     Italy      \n",
       "27     Italy      \n",
       "28     Italy      \n",
       "29     Italy      \n",
       "30     US         \n",
       "31     France     \n",
       "32     Italy      \n",
       "33     Italy      \n",
       "34     US         \n",
       "...    ...        \n",
       "119956 Argentina  \n",
       "119957 Austria    \n",
       "119958 US         \n",
       "119959 US         \n",
       "119960 US         \n",
       "119961 Italy      \n",
       "119962 Israel     \n",
       "119964 Germany    \n",
       "119965 Italy      \n",
       "119966 Argentina  \n",
       "119969 France     \n",
       "119970 US         \n",
       "119971 New Zealand\n",
       "119972 New Zealand\n",
       "119973 New Zealand\n",
       "119974 New Zealand\n",
       "119975 Spain      \n",
       "119976 New Zealand\n",
       "119977 France     \n",
       "119978 Portugal   \n",
       "119979 Italy      \n",
       "119980 Italy      \n",
       "119981 Israel     \n",
       "119982 France     \n",
       "119983 France     \n",
       "119984 Germany    \n",
       "119985 US         \n",
       "119986 France     \n",
       "119987 France     \n",
       "119988 France     \n",
       "       description                                                                                                                                                                                                                                                                                                                                                                     \n",
       "1      Aromas include tropical fruit, broom, brimstone and dried herb. The palate isn't overly expressive, offering unripened apple, citrus and dried sage alongside brisk acidity.                                                                                                                                                                                                    \n",
       "2      This is ripe and fruity, a wine that is smooth while still structured. Firm tannins are filled out with juicy red berry fruits and freshened with acidity. It's  already drinkable, although it will certainly be better from 2016.                                                                                                                                             \n",
       "3      Tart and snappy, the flavors of lime flesh and rind dominate. Some green pineapple pokes through, with crisp acidity underscoring the flavors. The wine was all stainless-steel fermented.                                                                                                                                                                                      \n",
       "4      Pineapple rind, lemon pith and orange blossom start off the aromas. The palate is a bit more opulent, with notes of honey-drizzled guava and mango giving way to a slightly astringent, semidry finish.                                                                                                                                                                         \n",
       "6      Blackberry and raspberry aromas show a typical Navarran whiff of green herbs and, in this case, horseradish. In the mouth, this is fairly full bodied, with tomatoey acidity. Spicy, herbal flavors complement dark plum fruit, while the finish is fresh but grabby.                                                                                                           \n",
       "7      Here's a bright, informal red that opens with aromas of candied berry, white pepper and savory herb that carry over to the palate. It's balanced with fresh acidity and soft tannins.                                                                                                                                                                                           \n",
       "8      This dry and restrained wine offers spice in profusion. Balanced with acidity and a firm texture, it's very much for food.                                                                                                                                                                                                                                                      \n",
       "9      Savory dried thyme notes accent sunnier flavors of preserved peach in this brisk, off-dry wine. It's fruity and fresh, with an elegant, sprightly footprint.                                                                                                                                                                                                                    \n",
       "10     This has great depth of flavor with its fresh apple and pear fruits and touch of spice. It's off dry while balanced with acidity and a crisp texture. Drink now.                                                                                                                                                                                                                \n",
       "12     This is a dry wine, very spicy, with a tight, taut texture and strongly mineral character layered with citrus as well as pepper. It's a food wine with its almost crisp aftertaste.                                                                                                                                                                                             \n",
       "13     Slightly reduced, this wine offers a chalky, tannic backbone to an otherwise juicy explosion of rich black cherry, the whole accented throughout by firm oak and cigar box.                                                                                                                                                                                                     \n",
       "14     This is dominated by oak and oak-driven aromas that include roasted coffee bean, espresso, coconut and vanilla that carry over to the palate, together with plum and chocolate. Astringent, drying tannins give it a rather abrupt finish.                                                                                                                                      \n",
       "15     Building on 150 years and six generations of winemaking tradition, the winery trends toward a leaner style, with the classic California buttercream aroma cut by tart green apple. In this good everyday sipping wine, flavors that range from pear to barely ripe pineapple prove approachable but not distinctive.                                                            \n",
       "16     Zesty orange peels and apple notes abound in this sprightly, mineral-toned Riesling. Off dry on the palate, yet racy and lean, it's a refreshing, easy quaffer with wide appeal.                                                                                                                                                                                                \n",
       "17     Baked plum, molasses, balsamic vinegar and cheesy oak aromas feed into a palate that's braced by a bolt of acidity. A compact set of saucy red-berry and plum flavors features tobacco and peppery accents, while the finish is mildly green in flavor, with respectable weight and balance.                                                                                    \n",
       "18     Raw black-cherry aromas are direct and simple but good. This has a juicy feel that thickens over time, with oak character and extract becoming more apparent. A flavor profile driven by dark-berry fruits and smoldering oak finishes meaty but hot.                                                                                                                           \n",
       "19     Desiccated blackberry, leather, charred wood and mint aromas carry the nose on this full-bodied, tannic, heavily oaked Tinto Fino. Flavors of clove and woodspice sit on top of blackberry fruit, then hickory and other forceful oak-based aromas rise up and dominate the finish.                                                                                             \n",
       "20     Red fruit aromas pervade on the nose, with cigar box and menthol notes riding in the back. The palate is slightly restrained on entry, but opens up to riper notes of cherry and plum specked with crushed pepper. This blend of Merlot, Cabernet Sauvignon and Cabernet Franc is approachable now and ready to be enjoyed.                                                     \n",
       "21     Ripe aromas of dark berries mingle with ample notes of black pepper, toasted vanilla and dusty tobacco. The palate is oak-driven in nature, but notes of tart red currant shine through, offering a bit of levity.                                                                                                                                                              \n",
       "22     A sleek mix of tart berry, stem and herb, along with a hint of oak and chocolate, this is a fair value in a widely available, drink-now Oregon Pinot. The wine oak-aged for six months, whether in neutral or re-staved is not indicated.                                                                                                                                       \n",
       "23     Delicate aromas recall white flower and citrus. The palate offers passion fruit, lime and white peach with a hint of mineral alongside bright acidity.                                                                                                                                                                                                                          \n",
       "25     Aromas of prune, blackcurrant, toast and oak carry through to the extracted palate, along with flavors of black cherry and roasted coffee beans. Firm but drying tannins provide the framework.                                                                                                                                                                                 \n",
       "27     Pretty aromas of yellow flower and stone fruit lead the nose. The bright palate offers yellow apple, apricot, vanilla and delicate notes of lightly toasted oak alongside crisp acidity.                                                                                                                                                                                        \n",
       "28     Aromas recall ripe dark berry, toast and a whiff of cake spice. The soft, informal palate offers sour cherry, vanilla and a hint of espresso alongside round tannins. Drink soon.                                                                                                                                                                                               \n",
       "29     Aromas suggest mature berry, scorched earth, animal, toast and anise. The palate offers ripe black berry, oak, espresso, cocoa and vanilla alongside dusty tannins.                                                                                                                                                                                                             \n",
       "30     Clarksburg is becoming a haven for Chenin Blanc in California. This bottling, using fruit sourced from several vineyards in the area, is balanced with just a trace of sweetness in the background (1% residual sugar). This is crisp, straightforward and blessed with notes of pear and lime. Drink it cold.                                                                  \n",
       "31     Red cherry fruit comes laced with light tannins, giving this bright wine an open, juicy character.                                                                                                                                                                                                                                                                              \n",
       "32     Merlot and Nero d'Avola form the base for this easy red wine that would pair with fettuccine and meat sauce or pork roast. The quality of the fruit is clean, bright and sharp.                                                                                                                                                                                                 \n",
       "33     Part of the extended CalanÃ¬ca series, this Grillo-Viognier blend shows aromas of honeysuckle and jasmine, backed by touches of cut grass and wild sage. In the mouth, it shows ripe yellow-fruit flavors.                                                                                                                                                                      \n",
       "34     Rustic and dry, this has flavors of berries, currants, licorice and spices. Made from Cabernet Franc and Cabernet Sauvignon.                                                                                                                                                                                                                                                    \n",
       "...    ...                                                                                                                                                                                                                                                                                                                                                                             \n",
       "119956 Compared to the regular 2006 Malbec from Chakana, this wine steps up in weight class and wins the crown. It's a serious but inviting red with spongey, ripe berry aromas topped by pure raspberry, cherry and cola flavors. It's both racy and composed, with a pile of bitter chocolate on the long finish. Good through 2009 at least.                                        \n",
       "119957 A true TBA, its very rich, toffee-flavored, intense sweetness overpowering the botrytis dryness initially. And then you feel the acidity, the apricot and peach flavors and the shot of lime. In its texture, it is a truly intense dessert wine. Age for 10 years.                                                                                                             \n",
       "119958 This is the winery's bells and whistles Chardonnay. Grown from inland fruit, in a vineyard near Ukiah, it's rich in buttercreamy peach, pear and pineapple flavors, with a spicy, racy finish.                                                                                                                                                                                  \n",
       "119959 A Chardonnay with an unusual companion, 8% SÃ©millon, this is floral and fruity in equal measure. Tight, bright acidity supports flavors of fennel and green apple, with the oak impact playing a subtle supporting role. The finish is nicely crisp.                                                                                                                           \n",
       "119960 This is classic in herbaceous aromas and flavors, rich in juicy blackberry and blueberry while also offering savory pencil shavings and dark chocolate. Leathered, firm tannins complete the picture, providing structure and integration to a wall of well-managed oak.                                                                                                        \n",
       "119961 A blend of Nero d'Avola and Syrah, this conveys aromas of scorched earth, crushed flower, dark berry and a whiff of cooking spice. The palate offers ripe cherry, graphite, ground black pepper and a smoky note alongside velvety tannins.                                                                                                                                     \n",
       "119962 Deep garnet in the glass, this has a nose of blackberry and vanilla. Flavors of blackberry, eucalyptus, tart cherry and white chocolate are well balanced, with a mix of fruity and savory notes. Tannins are mostly smooth with a touch of grip. The finish combines a pleasing blend of eucalyptus and tart cherry flavors.                                                   \n",
       "119964 Plump, clingy peach and honey notes are cut with streaks of lime in this delicate yet intensely satisfying wine. Off dry in style, it's refreshingly juicy, with a rich, supple mouthfeel offset by bristling acidity.                                                                                                                                                          \n",
       "119965 A blend of 65% Cabernet Sauvignon, 30% Merlot and 5% Petit Verdot, this bold wine features aromas of spiced plum, blackcurrant, leather and a hint of coconut. On the palate, assertive tannins support the mature blackberry, espresso and licorice flavors.                                                                                                                   \n",
       "119966 Raspberry and cassis aromas are fresh and upright while showing wiry, grassy accents. Full bodied, this features a jammy, pulpy palate that's fresh but low on definition. Herbal, lightly green infiltrations drift onto a solid, tannic finish. Drink through 2018.                                                                                                           \n",
       "119969 Hugely spicy this rich wine is described as sweet. In fact, the spice gives it a drier edge, adding pepper and cinnamon as well as a mineral character from the granite soil. The wine could age, so drink from 2016.                                                                                                                                                           \n",
       "119970 This Zinfandel from the eastern section of Napa Valley is unexpectedly structured and bright in acidity, offering notes of strawberry and cinnamon. The acidity provides a kick to the finish, awash in memorable sprinkles of white pepper.                                                                                                                                    \n",
       "119971 Roughly two-thirds Cabernet and one-third Merlot, this medium-bodied wine packs in ample plum fruit, accented by cinnamon and cedar. Finishes long, with a slightly velvety texture.                                                                                                                                                                                            \n",
       "119972 One of the more characterful Pinot Gris for this price, Ara's 2013 offers wet stone and apple aromas, flavors of apple, cinnamon and pear and a long, mouthwatering finish. There's a bit of creaminess on the midpalate and just a hint of dusty texture on the finish.                                                                                                        \n",
       "119973 Like Dog Point's 2011 Chardonnay, this wine is dominated by citrusy elements. Hints of toasted almond and some riper notes of pear provide a certain amount of breadth on the palate, but citrus and quince dominate, lingering on the crisp finish. Drink nowâ\\200“2017.                                                                                                          \n",
       "119974 The blend is 44% Merlot, 33% Cabernet Sauvignon and 22% Malbec. The result is a medium- to full-bodied wine with firm structure that should drink well through 2020. Leather, earth and plum notes pick up hints of black olive and espresso on the finish.                                                                                                                     \n",
       "119975 Lightly baked berry aromas vie for attention with leather, spice and mild earth notes, and the result is disjointed. On the palate, this is tight as a drum initially, but more expansive as it unfolds. Cherry, plum, raspberry, vanilla and woodspice flavors finish pure, clean and easy. This is a fine yet manageable Rioja that's not trying too hard. Drink through 2016.\n",
       "119976 This blend of Cabernet Sauvignon-Merlot and Cabernet Franc is full bodied and firm, the tannins just beginning to soften. The aromas and flavors are classic: cedar, vanilla, cassis and tobacco. Drink nowâ\\200“2020.                                                                                                                                                             \n",
       "119977 The granite soil of the Brand Grand Cru vineyard has produced a strongly structured wine that also has richness and ripe fruits. Off dry, it has a hint of honey as well as yellow fruits and pears. The aftertaste brings out the acidity and freshness that balance the wine. Drink from 2017.                                                                                \n",
       "119978 Fresh and fruity, this is full of red cherry flavors and crisp acidity. It has some age, hinting at a more toasty future. For the moment, it's at its best after eight years aging on the lees in the bottle.                                                                                                                                                                   \n",
       "119979 Intense aromas of wild cherry, baking spice, tilled soil and savory herb lead the nose on this soulful, silky red. The round, smooth palate doles out juicy red cherry, strawberry jelly, mineral, white pepper and an intriguing note of zabaglione alongside soft, supple tannins and bright acidity..                                                                        \n",
       "119980 Blackberry, cassis, grilled herb and toasted aromas come together in the glass. On the palate, espresso, mint and black pepper add depth to the core of black cherry and blackberry flavors. It finishes on a licorice note.                                                                                                                                                    \n",
       "119981 A bouquet of black cherry, tart cranberry and clove opens into flavors of cherry, anisette, espresso bean and mint, with a hint of tart cranberry. The minty notes can almost seem overly strong for a moment, but tart tones bring the fruit flavors back to the foreground. The pleasantly gripping tannins will mellow with a few more years of aging.                       \n",
       "119982 Initially quite muted, this wine slowly develops impressive richness and spice. It's not sweet, more medium dry, with the spice forming a core of dryness that contrasts with the honeyed texture. It can develop more, so wait to drink until 2016.                                                                                                                            \n",
       "119983 While it's rich, this beautiful dry wine also offers considerable freshness. Acidity cuts easily through the ripe white fruit, pear and red apples, allowing room for spice that provides a contrasting aftertaste.                                                                                                                                                             \n",
       "119984 Notes of honeysuckle and cantaloupe sweeten this deliciously feather-light spÃ¤tlese. It's intensely juicy, quenching the palate with streams of tart tangerine and grapefruit acidity, yet wraps up with a kiss of honey and peach.                                                                                                                                            \n",
       "119985 Citation is given as much as a decade of bottle age prior to release, which means it is pre-cellared and drinking at its peak. Baked cherry, cocoa and coconut flavors combine gracefully, with soft, secondary fruit compote highlights.                                                                                                                                       \n",
       "119986 Well-drained gravel soil gives this wine its crisp and dry character. It is ripe and fruity, although the spice is subdued in favor of a more serious structure. This is a wine to age for a couple of years, so drink from 2017.                                                                                                                                               \n",
       "119987 A dry style of Pinot Gris, this is crisp with some acidity. It also has weight and a solid, powerful core of spice and baked apple flavors. With its structure still developing, the wine needs to age. Drink from 2015.                                                                                                                                                        \n",
       "119988 Big, rich and off-dry, this is powered by intense spiciness and rounded texture. Lychees dominate the fruit profile, giving an opulent feel to the aftertaste. Drink now.                                                                                                                                                                                                       \n",
       "       designation                                                      points\n",
       "1      VulkÃ  Bianco                                                    87    \n",
       "2      Avidagos                                                         87    \n",
       "3      NA                                                               87    \n",
       "4      Reserve Late Harvest                                             87    \n",
       "6      Ars In Vitro                                                     87    \n",
       "7      Belsito                                                          87    \n",
       "8      NA                                                               87    \n",
       "9      Shine                                                            87    \n",
       "10     Les Natures                                                      87    \n",
       "12     NA                                                               87    \n",
       "13     NA                                                               87    \n",
       "14     Rosso                                                            87    \n",
       "15     NA                                                               87    \n",
       "16     Devon                                                            87    \n",
       "17     Felix                                                            87    \n",
       "18     Winemaker Selection                                              87    \n",
       "19     Vendimia Seleccionada Finca Valdelayegua Single Vineyard Crianza 87    \n",
       "20     NA                                                               87    \n",
       "21     Vin de Maison                                                    87    \n",
       "22     NA                                                               87    \n",
       "23     Ficiligno                                                        87    \n",
       "25     Aynat                                                            87    \n",
       "27     Dalila                                                           87    \n",
       "28     NA                                                               87    \n",
       "29     Mascaria Barricato                                               87    \n",
       "30     NA                                                               86    \n",
       "31     Nouveau                                                          86    \n",
       "32     CalanÃ¬ca Nero d'Avola-Merlot                                    86    \n",
       "33     CalanÃ¬ca Grillo-Viognier                                        86    \n",
       "34     Puma Springs Vineyard                                            86    \n",
       "...    ...                                                              ...   \n",
       "119956 Reserve                                                          91    \n",
       "119957 Grand Vin                                                        91    \n",
       "119958 Watson Vineyard                                                  91    \n",
       "119959 NA                                                               90    \n",
       "119960 NA                                                               90    \n",
       "119961 AdÃ¨nzia                                                         90    \n",
       "119962 Special Reserve Winemakers' Choice                               90    \n",
       "119964 Dom                                                              90    \n",
       "119965 Symposio                                                         90    \n",
       "119966 Pedernal                                                         90    \n",
       "119969 Holder                                                           90    \n",
       "119970 NA                                                               90    \n",
       "119971 Elspeth                                                          90    \n",
       "119972 Single Estate                                                    90    \n",
       "119973 NA                                                               90    \n",
       "119974 Gimblett Gravels Merlot-Cabernet Sauvignon-Malbec                90    \n",
       "119975 Crianza                                                          90    \n",
       "119976 Irongate                                                         90    \n",
       "119977 Brand Grand Cru                                                  90    \n",
       "119978 VÃ©rtice                                                         90    \n",
       "119979 NA                                                               90    \n",
       "119980 SÃ gana Tenuta San Giacomo                                       90    \n",
       "119981 Oak Aged                                                         90    \n",
       "119982 Domaine Saint-RÃ©my Herrenweg                                    90    \n",
       "119983 Seppi Landmann VallÃ©e Noble                                     90    \n",
       "119984 Brauneberger Juffer-Sonnenuhr SpÃ¤tlese                          90    \n",
       "119985 NA                                                               90    \n",
       "119986 Kritt                                                            90    \n",
       "119987 NA                                                               90    \n",
       "119988 Lieu-dit Harth CuvÃ©e Caroline                                   90    \n",
       "       price province          region_1              region_2         \n",
       "1      NA    Sicily & Sardinia Etna                  NA               \n",
       "2      15    Douro             NA                    NA               \n",
       "3      14    Oregon            Willamette Valley     Willamette Valley\n",
       "4      13    Michigan          Lake Michigan Shore   NA               \n",
       "6      15    Northern Spain    Navarra               NA               \n",
       "7      16    Sicily & Sardinia Vittoria              NA               \n",
       "8      24    Alsace            Alsace                NA               \n",
       "9      12    Rheinhessen       NA                    NA               \n",
       "10     27    Alsace            Alsace                NA               \n",
       "12     30    Alsace            Alsace                NA               \n",
       "13     34    California        Alexander Valley      Sonoma           \n",
       "14     NA    Sicily & Sardinia Etna                  NA               \n",
       "15     12    California        Central Coast         Central Coast    \n",
       "16     24    Mosel             NA                    NA               \n",
       "17     30    Other             Cafayate              NA               \n",
       "18     13    Mendoza Province  Mendoza               NA               \n",
       "19     28    Northern Spain    Ribera del Duero      NA               \n",
       "20     32    Virginia          Virginia              NA               \n",
       "21     23    Virginia          Virginia              NA               \n",
       "22     20    Oregon            Oregon                Oregon Other     \n",
       "23     19    Sicily & Sardinia Sicilia               NA               \n",
       "25     35    Sicily & Sardinia Sicilia               NA               \n",
       "27     13    Sicily & Sardinia Terre Siciliane       NA               \n",
       "28     10    Sicily & Sardinia Terre Siciliane       NA               \n",
       "29     17    Sicily & Sardinia Cerasuolo di Vittoria NA               \n",
       "30     16    California        Clarksburg            Central Valley   \n",
       "31     NA    Beaujolais        Beaujolais-Villages   NA               \n",
       "32     NA    Sicily & Sardinia Sicilia               NA               \n",
       "33     NA    Sicily & Sardinia Sicilia               NA               \n",
       "34     50    California        Dry Creek Valley      Sonoma           \n",
       "...    ...   ...               ...                   ...              \n",
       "119956 25    Mendoza Province  LujÃ¡n de Cuyo        NA               \n",
       "119957 70    Burgenland        NA                    NA               \n",
       "119958 36    California        Mendocino             NA               \n",
       "119959 20    California        Mendocino County      NA               \n",
       "119960 35    California        Sonoma County         Sonoma           \n",
       "119961 29    Sicily & Sardinia Sicilia               NA               \n",
       "119962 25    Galilee           NA                    NA               \n",
       "119964 17    Mosel             NA                    NA               \n",
       "119965 20    Sicily & Sardinia Terre Siciliane       NA               \n",
       "119966 43    Other             San Juan              NA               \n",
       "119969 30    Alsace            Alsace                NA               \n",
       "119970 22    California        Chiles Valley         Napa             \n",
       "119971 25    Hawke's Bay       NA                    NA               \n",
       "119972 15    Marlborough       NA                    NA               \n",
       "119973 40    Marlborough       NA                    NA               \n",
       "119974 19    Hawke's Bay       NA                    NA               \n",
       "119975 17    Northern Spain    Rioja                 NA               \n",
       "119976 35    Hawke's Bay       NA                    NA               \n",
       "119977 57    Alsace            Alsace                NA               \n",
       "119978 48    Douro             NA                    NA               \n",
       "119979 30    Sicily & Sardinia Sicilia               NA               \n",
       "119980 40    Sicily & Sardinia Sicilia               NA               \n",
       "119981 20    Galilee           NA                    NA               \n",
       "119982 NA    Alsace            Alsace                NA               \n",
       "119983 28    Alsace            Alsace                NA               \n",
       "119984 28    Mosel             NA                    NA               \n",
       "119985 75    Oregon            Oregon                Oregon Other     \n",
       "119986 30    Alsace            Alsace                NA               \n",
       "119987 32    Alsace            Alsace                NA               \n",
       "119988 21    Alsace            Alsace                NA               \n",
       "       taster_name        taster_twitter_handle\n",
       "1      Kerin Oâ\\200\\231Keefe    @kerinokeefe         \n",
       "2      Roger Voss         @vossroger           \n",
       "3      Paul Gregutt       @paulgwineÂ          \n",
       "4      Alexander Peartree NA                   \n",
       "6      Michael Schachner  @wineschach          \n",
       "7      Kerin Oâ\\200\\231Keefe    @kerinokeefe         \n",
       "8      Roger Voss         @vossroger           \n",
       "9      Anna Lee C. Iijima NA                   \n",
       "10     Roger Voss         @vossroger           \n",
       "12     Roger Voss         @vossroger           \n",
       "13     Virginie Boone     @vboone              \n",
       "14     Kerin Oâ\\200\\231Keefe    @kerinokeefe         \n",
       "15     Matt Kettmann      @mattkettmann        \n",
       "16     Anna Lee C. Iijima NA                   \n",
       "17     Michael Schachner  @wineschach          \n",
       "18     Michael Schachner  @wineschach          \n",
       "19     Michael Schachner  @wineschach          \n",
       "20     Alexander Peartree NA                   \n",
       "21     Alexander Peartree NA                   \n",
       "22     Paul Gregutt       @paulgwineÂ          \n",
       "23     Kerin Oâ\\200\\231Keefe    @kerinokeefe         \n",
       "25     Kerin Oâ\\200\\231Keefe    @kerinokeefe         \n",
       "27     Kerin Oâ\\200\\231Keefe    @kerinokeefe         \n",
       "28     Kerin Oâ\\200\\231Keefe    @kerinokeefe         \n",
       "29     Kerin Oâ\\200\\231Keefe    @kerinokeefe         \n",
       "30     Virginie Boone     @vboone              \n",
       "31     Roger Voss         @vossroger           \n",
       "32     NA                 NA                   \n",
       "33     NA                 NA                   \n",
       "34     NA                 NA                   \n",
       "...    ...                ...                  \n",
       "119956 Michael Schachner  @wineschach          \n",
       "119957 Roger Voss         @vossroger           \n",
       "119958 NA                 NA                   \n",
       "119959 Virginie Boone     @vboone              \n",
       "119960 Virginie Boone     @vboone              \n",
       "119961 Kerin Oâ\\200\\231Keefe    @kerinokeefe         \n",
       "119962 Mike DeSimone      @worldwineguys       \n",
       "119964 Anna Lee C. Iijima NA                   \n",
       "119965 Kerin Oâ\\200\\231Keefe    @kerinokeefe         \n",
       "119966 Michael Schachner  @wineschach          \n",
       "119969 Roger Voss         @vossroger           \n",
       "119970 Virginie Boone     @vboone              \n",
       "119971 Joe Czerwinski     @JoeCz               \n",
       "119972 Joe Czerwinski     @JoeCz               \n",
       "119973 Joe Czerwinski     @JoeCz               \n",
       "119974 Joe Czerwinski     @JoeCz               \n",
       "119975 Michael Schachner  @wineschach          \n",
       "119976 Joe Czerwinski     @JoeCz               \n",
       "119977 Roger Voss         @vossroger           \n",
       "119978 Roger Voss         @vossroger           \n",
       "119979 Kerin Oâ\\200\\231Keefe    @kerinokeefe         \n",
       "119980 Kerin Oâ\\200\\231Keefe    @kerinokeefe         \n",
       "119981 Mike DeSimone      @worldwineguys       \n",
       "119982 Roger Voss         @vossroger           \n",
       "119983 Roger Voss         @vossroger           \n",
       "119984 Anna Lee C. Iijima NA                   \n",
       "119985 Paul Gregutt       @paulgwineÂ          \n",
       "119986 Roger Voss         @vossroger           \n",
       "119987 Roger Voss         @vossroger           \n",
       "119988 Roger Voss         @vossroger           \n",
       "       title                                                                                                  \n",
       "1      Nicosia 2013 VulkÃ  Bianco  (Etna)                                                                     \n",
       "2      Quinta dos Avidagos 2011 Avidagos Red (Douro)                                                          \n",
       "3      Rainstorm 2013 Pinot Gris (Willamette Valley)                                                          \n",
       "4      St. Julian 2013 Reserve Late Harvest Riesling (Lake Michigan Shore)                                    \n",
       "6      Tandem 2011 Ars In Vitro Tempranillo-Merlot (Navarra)                                                  \n",
       "7      Terre di Giurfo 2013 Belsito Frappato (Vittoria)                                                       \n",
       "8      Trimbach 2012 Gewurztraminer (Alsace)                                                                  \n",
       "9      Heinz Eifel 2013 Shine GewÃ¼rztraminer (Rheinhessen)                                                   \n",
       "10     Jean-Baptiste Adam 2012 Les Natures Pinot Gris (Alsace)                                                \n",
       "12     Leon Beyer 2012 Gewurztraminer (Alsace)                                                                \n",
       "13     Louis M. Martini 2012 Cabernet Sauvignon (Alexander Valley)                                            \n",
       "14     Masseria Setteporte 2012 Rosso  (Etna)                                                                 \n",
       "15     Mirassou 2012 Chardonnay (Central Coast)                                                               \n",
       "16     Richard BÃ¶cking 2013 Devon Riesling (Mosel)                                                           \n",
       "17     Felix Lavaque 2010 Felix Malbec (Cafayate)                                                             \n",
       "18     Gaucho Andino 2011 Winemaker Selection Malbec (Mendoza)                                                \n",
       "19     Pradorey 2010 Vendimia Seleccionada Finca Valdelayegua Single Vineyard Crianza  (Ribera del Duero)     \n",
       "20     QuiÃ©vremont 2012 Meritage (Virginia)                                                                  \n",
       "21     QuiÃ©vremont 2012 Vin de Maison Red (Virginia)                                                         \n",
       "22     Acrobat 2013 Pinot Noir (Oregon)                                                                       \n",
       "23     Baglio di Pianetto 2007 Ficiligno White (Sicilia)                                                      \n",
       "25     CanicattÃ¬ 2009 Aynat Nero d'Avola (Sicilia)                                                           \n",
       "27     Stemmari 2013 Dalila White (Terre Siciliane)                                                           \n",
       "28     Stemmari 2013 Nero d'Avola (Terre Siciliane)                                                           \n",
       "29     Terre di Giurfo 2011 Mascaria Barricato  (Cerasuolo di Vittoria)                                       \n",
       "30     Clarksburg Wine Company 2010 Chenin Blanc (Clarksburg)                                                 \n",
       "31     Domaine de la Madone 2012 Nouveau  (Beaujolais-Villages)                                               \n",
       "32     Duca di Salaparuta 2010 CalanÃ¬ca Nero d'Avola-Merlot Red (Sicilia)                                    \n",
       "33     Duca di Salaparuta 2011 CalanÃ¬ca Grillo-Viognier White (Sicilia)                                      \n",
       "34     Envolve 2010 Puma Springs Vineyard Red (Dry Creek Valley)                                              \n",
       "...    ...                                                                                                    \n",
       "119956 Chakana 2006 Reserve Malbec (LujÃ¡n de Cuyo)                                                           \n",
       "119957 Schloss Halbturn 2004 Grand Vin White (Burgenland)                                                     \n",
       "119958 Standish 2006 Watson Vineyard Chardonnay (Mendocino)                                                   \n",
       "119959 Apriori 2013 Chardonnay (Mendocino County)                                                             \n",
       "119960 Arrowood 2010 Cabernet Sauvignon (Sonoma County)                                                       \n",
       "119961 Baglio del Cristo di Campobello 2012 AdÃ¨nzia Red (Sicilia)                                            \n",
       "119962 Barkan 2011 Special Reserve Winemakers' Choice Shiraz (Galilee)                                        \n",
       "119964 BischÃ¶fliche WeingÃ¼ter Trier 2013 Dom Riesling (Mosel)                                               \n",
       "119965 Feudo Principi di Butera 2012 Symposio Red (Terre Siciliane)                                           \n",
       "119966 Finca Las Moras 2010 Pedernal Malbec (San Juan)                                                        \n",
       "119969 Henri Schoenheitz 2012 Holder Gewurztraminer (Alsace)                                                  \n",
       "119970 Houdini 2011 Zinfandel (Chiles Valley)                                                                 \n",
       "119971 Mills Reef 2011 Elspeth Cabernet Merlot (Hawke's Bay)                                                  \n",
       "119972 Ara 2013 Single Estate Pinot Gris (Marlborough)                                                        \n",
       "119973 Dog Point 2012 Chardonnay (Marlborough)                                                                \n",
       "119974 Esk Valley 2011 Gimblett Gravels Merlot-Cabernet Sauvignon-Malbec Red (Hawke's Bay)                    \n",
       "119975 ViÃ±edos Real Rubio 2010 Crianza  (Rioja)                                                              \n",
       "119976 Babich 2010 Irongate Red (Hawke's Bay)                                                                 \n",
       "119977 Cave de Turckheim 2010 Brand Grand Cru Pinot Gris (Alsace)                                             \n",
       "119978 Caves Transmontanas 2006 VÃ©rtice Pinot Noir (Douro)                                                   \n",
       "119979 COS 2013 Frappato (Sicilia)                                                                            \n",
       "119980 Cusumano 2012 SÃ gana Tenuta San Giacomo Nero d'Avola (Sicilia)                                        \n",
       "119981 Dalton 2012 Oak Aged Cabernet Sauvignon (Galilee)                                                      \n",
       "119982 Domaine Ehrhart 2013 Domaine Saint-RÃ©my Herrenweg Gewurztraminer (Alsace)                             \n",
       "119983 Domaine RieflÃ©-Landmann 2013 Seppi Landmann VallÃ©e Noble Pinot Gris (Alsace)                         \n",
       "119984 Dr. H. Thanisch (Erben MÃ¼ller-Burggraef) 2013 Brauneberger Juffer-Sonnenuhr SpÃ¤tlese Riesling (Mosel)\n",
       "119985 Citation 2004 Pinot Noir (Oregon)                                                                      \n",
       "119986 Domaine Gresser 2013 Kritt Gewurztraminer (Alsace)                                                     \n",
       "119987 Domaine Marcel Deiss 2012 Pinot Gris (Alsace)                                                          \n",
       "119988 Domaine Schoffit 2012 Lieu-dit Harth CuvÃ©e Caroline Gewurztraminer (Alsace)                           \n",
       "       variety                  winery                                   \n",
       "1      White Blend              Nicosia                                  \n",
       "2      Portuguese Red           Quinta dos Avidagos                      \n",
       "3      Pinot Gris               Rainstorm                                \n",
       "4      Riesling                 St. Julian                               \n",
       "6      Tempranillo-Merlot       Tandem                                   \n",
       "7      Frappato                 Terre di Giurfo                          \n",
       "8      GewÃ¼rztraminer          Trimbach                                 \n",
       "9      GewÃ¼rztraminer          Heinz Eifel                              \n",
       "10     Pinot Gris               Jean-Baptiste Adam                       \n",
       "12     GewÃ¼rztraminer          Leon Beyer                               \n",
       "13     Cabernet Sauvignon       Louis M. Martini                         \n",
       "14     Nerello Mascalese        Masseria Setteporte                      \n",
       "15     Chardonnay               Mirassou                                 \n",
       "16     Riesling                 Richard BÃ¶cking                         \n",
       "17     Malbec                   Felix Lavaque                            \n",
       "18     Malbec                   Gaucho Andino                            \n",
       "19     Tempranillo Blend        Pradorey                                 \n",
       "20     Meritage                 QuiÃ©vremont                             \n",
       "21     Red Blend                QuiÃ©vremont                             \n",
       "22     Pinot Noir               Acrobat                                  \n",
       "23     White Blend              Baglio di Pianetto                       \n",
       "25     Nero d'Avola             CanicattÃ¬                               \n",
       "27     White Blend              Stemmari                                 \n",
       "28     Nero d'Avola             Stemmari                                 \n",
       "29     Red Blend                Terre di Giurfo                          \n",
       "30     Chenin Blanc             Clarksburg Wine Company                  \n",
       "31     Gamay                    Domaine de la Madone                     \n",
       "32     Red Blend                Duca di Salaparuta                       \n",
       "33     White Blend              Duca di Salaparuta                       \n",
       "34     Red Blend                Envolve                                  \n",
       "...    ...                      ...                                      \n",
       "119956 Malbec                   Chakana                                  \n",
       "119957 White Blend              Schloss Halbturn                         \n",
       "119958 Chardonnay               Standish                                 \n",
       "119959 Chardonnay               Apriori                                  \n",
       "119960 Cabernet Sauvignon       Arrowood                                 \n",
       "119961 Red Blend                Baglio del Cristo di Campobello          \n",
       "119962 Shiraz                   Barkan                                   \n",
       "119964 Riesling                 BischÃ¶fliche WeingÃ¼ter Trier           \n",
       "119965 Red Blend                Feudo Principi di Butera                 \n",
       "119966 Malbec                   Finca Las Moras                          \n",
       "119969 GewÃ¼rztraminer          Henri Schoenheitz                        \n",
       "119970 Zinfandel                Houdini                                  \n",
       "119971 Cabernet Merlot          Mills Reef                               \n",
       "119972 Pinot Gris               Ara                                      \n",
       "119973 Chardonnay               Dog Point                                \n",
       "119974 Bordeaux-style Red Blend Esk Valley                               \n",
       "119975 Tempranillo Blend        ViÃ±edos Real Rubio                      \n",
       "119976 Bordeaux-style Red Blend Babich                                   \n",
       "119977 Pinot Gris               Cave de Turckheim                        \n",
       "119978 Pinot Noir               Caves Transmontanas                      \n",
       "119979 Frappato                 COS                                      \n",
       "119980 Nero d'Avola             Cusumano                                 \n",
       "119981 Cabernet Sauvignon       Dalton                                   \n",
       "119982 GewÃ¼rztraminer          Domaine Ehrhart                          \n",
       "119983 Pinot Gris               Domaine RieflÃ©-Landmann                 \n",
       "119984 Riesling                 Dr. H. Thanisch (Erben MÃ¼ller-Burggraef)\n",
       "119985 Pinot Noir               Citation                                 \n",
       "119986 GewÃ¼rztraminer          Domaine Gresser                          \n",
       "119987 Pinot Gris               Domaine Marcel Deiss                     \n",
       "119988 GewÃ¼rztraminer          Domaine Schoffit                         "
      ]
     },
     "metadata": {},
     "output_type": "display_data"
    }
   ],
   "source": [
    "wine_nodup[!complete.cases(wine_nodup),]"
   ]
  },
  {
   "cell_type": "code",
   "execution_count": 103,
   "metadata": {},
   "outputs": [
    {
     "data": {
      "text/html": [
       "0.829207920792079"
      ],
      "text/latex": [
       "0.829207920792079"
      ],
      "text/markdown": [
       "0.829207920792079"
      ],
      "text/plain": [
       "[1] 0.8292079"
      ]
     },
     "metadata": {},
     "output_type": "display_data"
    }
   ],
   "source": [
    "#percentage of rows with missing value\n",
    "nrow(wine_nodup[!complete.cases(wine_nodup),])/nrow(wine_nodup)"
   ]
  },
  {
   "cell_type": "code",
   "execution_count": 104,
   "metadata": {},
   "outputs": [
    {
     "data": {
      "text/html": [
       "0.533803380338034"
      ],
      "text/latex": [
       "0.533803380338034"
      ],
      "text/markdown": [
       "0.533803380338034"
      ],
      "text/plain": [
       "[1] 0.5338034"
      ]
     },
     "metadata": {},
     "output_type": "display_data"
    }
   ],
   "source": [
    "# if we narrow down to check only completeness of \"description, designation, taser_name, points, price, variety, country, province\"\n",
    "nrow(wine_nodup[complete.cases(wine_nodup[c('description','designation', 'taster_name', 'points', 'price','variety', 'country', 'province')]),])/nrow(wine_nodup)"
   ]
  },
  {
   "cell_type": "code",
   "execution_count": 105,
   "metadata": {},
   "outputs": [],
   "source": [
    "# new dataframe after removing NAs from description, designation, taster_name, points, price, variety, country, province\n",
    "wine_clean <- wine_nodup[complete.cases(wine_nodup[c('description','designation', 'taster_name', 'points', 'price','variety', 'country', 'province')]),]"
   ]
  },
  {
   "cell_type": "code",
   "execution_count": 106,
   "metadata": {},
   "outputs": [
    {
     "data": {
      "text/html": [
       "0"
      ],
      "text/latex": [
       "0"
      ],
      "text/markdown": [
       "0"
      ],
      "text/plain": [
       "[1] 0"
      ]
     },
     "metadata": {},
     "output_type": "display_data"
    }
   ],
   "source": [
    "# check number of duplicated records in wine_clean\n",
    "sum(duplicated(wine_clean))"
   ]
  },
  {
   "cell_type": "code",
   "execution_count": 109,
   "metadata": {},
   "outputs": [
    {
     "data": {
      "text/html": [
       "0.492802240499804"
      ],
      "text/latex": [
       "0.492802240499804"
      ],
      "text/markdown": [
       "0.492802240499804"
      ],
      "text/plain": [
       "[1] 0.4928022"
      ]
     },
     "metadata": {},
     "output_type": "display_data"
    }
   ],
   "source": [
    "#percentage of data left after the preprocessing\n",
    "nrow(wine_clean)/nrow(wine)"
   ]
  },
  {
   "cell_type": "code",
   "execution_count": 110,
   "metadata": {},
   "outputs": [
    {
     "data": {
      "text/html": [
       "<ol class=list-inline>\n",
       "\t<li>64050</li>\n",
       "\t<li>13</li>\n",
       "</ol>\n"
      ],
      "text/latex": [
       "\\begin{enumerate*}\n",
       "\\item 64050\n",
       "\\item 13\n",
       "\\end{enumerate*}\n"
      ],
      "text/markdown": [
       "1. 64050\n",
       "2. 13\n",
       "\n",
       "\n"
      ],
      "text/plain": [
       "[1] 64050    13"
      ]
     },
     "metadata": {},
     "output_type": "display_data"
    }
   ],
   "source": [
    "dim(wine_clean)"
   ]
  },
  {
   "cell_type": "code",
   "execution_count": 111,
   "metadata": {},
   "outputs": [
    {
     "data": {
      "text/html": [
       "3490"
      ],
      "text/latex": [
       "3490"
      ],
      "text/markdown": [
       "3490"
      ],
      "text/plain": [
       "[1] 3490"
      ]
     },
     "metadata": {},
     "output_type": "display_data"
    }
   ],
   "source": [
    "# check any missing twitter handle\n",
    "sum(is.na(wine_clean$taster_twitter_handle))"
   ]
  },
  {
   "cell_type": "code",
   "execution_count": 95,
   "metadata": {},
   "outputs": [
    {
     "data": {
      "text/html": [
       "<table>\n",
       "<caption>A data.frame: 3833 × 13</caption>\n",
       "<thead>\n",
       "\t<tr><th></th><th scope=col>country</th><th scope=col>description</th><th scope=col>designation</th><th scope=col>points</th><th scope=col>price</th><th scope=col>province</th><th scope=col>region_1</th><th scope=col>region_2</th><th scope=col>taster_name</th><th scope=col>taster_twitter_handle</th><th scope=col>title</th><th scope=col>variety</th><th scope=col>winery</th></tr>\n",
       "\t<tr><th></th><th scope=col>&lt;chr&gt;</th><th scope=col>&lt;chr&gt;</th><th scope=col>&lt;chr&gt;</th><th scope=col>&lt;int&gt;</th><th scope=col>&lt;dbl&gt;</th><th scope=col>&lt;chr&gt;</th><th scope=col>&lt;chr&gt;</th><th scope=col>&lt;chr&gt;</th><th scope=col>&lt;chr&gt;</th><th scope=col>&lt;chr&gt;</th><th scope=col>&lt;chr&gt;</th><th scope=col>&lt;chr&gt;</th><th scope=col>&lt;chr&gt;</th></tr>\n",
       "</thead>\n",
       "<tbody>\n",
       "\t<tr><th scope=row>4</th><td>US     </td><td>Pineapple rind, lemon pith and orange blossom start off the aromas. The palate is a bit more opulent, with notes of honey-drizzled guava and mango giving way to a slightly astringent, semidry finish.                                                                                                                                                                       </td><td>Reserve Late Harvest                               </td><td>87</td><td> 13</td><td>Michigan   </td><td>Lake Michigan Shore      </td><td>NA            </td><td>Alexander Peartree</td><td>NA</td><td>St. Julian 2013 Reserve Late Harvest Riesling (Lake Michigan Shore)                                 </td><td>Riesling       </td><td>St. Julian                </td></tr>\n",
       "\t<tr><th scope=row>9</th><td>Germany</td><td>Savory dried thyme notes accent sunnier flavors of preserved peach in this brisk, off-dry wine. It's fruity and fresh, with an elegant, sprightly footprint.                                                                                                                                                                                                                  </td><td>Shine                                              </td><td>87</td><td> 12</td><td>Rheinhessen</td><td>NA                       </td><td>NA            </td><td>Anna Lee C. Iijima</td><td>NA</td><td>Heinz Eifel 2013 Shine GewÃ¼rztraminer (Rheinhessen)                                                </td><td>GewÃ¼rztraminer</td><td>Heinz Eifel               </td></tr>\n",
       "\t<tr><th scope=row>16</th><td>Germany</td><td>Zesty orange peels and apple notes abound in this sprightly, mineral-toned Riesling. Off dry on the palate, yet racy and lean, it's a refreshing, easy quaffer with wide appeal.                                                                                                                                                                                              </td><td>Devon                                              </td><td>87</td><td> 24</td><td>Mosel      </td><td>NA                       </td><td>NA            </td><td>Anna Lee C. Iijima</td><td>NA</td><td>Richard BÃ¶cking 2013 Devon Riesling (Mosel)                                                        </td><td>Riesling       </td><td>Richard BÃ¶cking          </td></tr>\n",
       "\t<tr><th scope=row>21</th><td>US     </td><td>Ripe aromas of dark berries mingle with ample notes of black pepper, toasted vanilla and dusty tobacco. The palate is oak-driven in nature, but notes of tart red currant shine through, offering a bit of levity.                                                                                                                                                            </td><td>Vin de Maison                                      </td><td>87</td><td> 23</td><td>Virginia   </td><td>Virginia                 </td><td>NA            </td><td>Alexander Peartree</td><td>NA</td><td>QuiÃ©vremont 2012 Vin de Maison Red (Virginia)                                                      </td><td>Red Blend      </td><td>QuiÃ©vremont              </td></tr>\n",
       "\t<tr><th scope=row>86</th><td>Germany</td><td>Pronounced dust, pollen and earth tones lend savoriness to this otherwise citrusy wine. Racy acidity and fresh tangerine and lemon flavors turn herbal on the finish. Drink now.                                                                                                                                                                                              </td><td>Undone Dry                                         </td><td>86</td><td> 10</td><td>Rheinhessen</td><td>NA                       </td><td>NA            </td><td>Anna Lee C. Iijima</td><td>NA</td><td>P.J. Valckenberg 2015 Undone Dry Riesling (Rheinhessen)                                             </td><td>Riesling       </td><td>P.J. Valckenberg          </td></tr>\n",
       "\t<tr><th scope=row>98</th><td>US     </td><td>A wisp of bramble extends a savory tone from nose to finish on this otherwise bright bristling wine. Delicate honey tones register as off dry on the palate but balance neatly alongside flavors of freshly pressed apples and pears. The finish is marked by a touch of pencil lead. Drink now through 2020.                                                                 </td><td>Ingle Vineyard                                     </td><td>88</td><td> 20</td><td>New York   </td><td>Finger Lakes             </td><td>Finger Lakes  </td><td>Anna Lee C. Iijima</td><td>NA</td><td>Heron Hill 2015 Ingle Vineyard Riesling (Finger Lakes)                                              </td><td>Riesling       </td><td>Heron Hill                </td></tr>\n",
       "\t<tr><th scope=row>102</th><td>US     </td><td>Dusty mineral, smoke and struck flint lend a savory tone to this lean light-bodied Riesling. Off dry in style, the palate offers delicately concentrated flavors of red apple and nectarine off set by tangerine acidity. Drink now through 2021.                                                                                                                             </td><td>Red Oak Vineyard                                   </td><td>87</td><td> 20</td><td>New York   </td><td>Finger Lakes             </td><td>Finger Lakes  </td><td>Anna Lee C. Iijima</td><td>NA</td><td>Lamoreaux Landing 2014 Red Oak Vineyard Riesling (Finger Lakes)                                     </td><td>Riesling       </td><td>Lamoreaux Landing         </td></tr>\n",
       "\t<tr><th scope=row>103</th><td>US     </td><td>Intensely smoky tones of struck flint and ash extend throughout this otherwise bright nimble Riesling. The palate boasts freshly pressed apple and pear flavors accentuated by zippy lemon-lime acidity. Drink now through 2021.                                                                                                                                              </td><td>Yellow Dog Vineyard                                </td><td>87</td><td> 20</td><td>New York   </td><td>Finger Lakes             </td><td>Finger Lakes  </td><td>Anna Lee C. Iijima</td><td>NA</td><td>Lamoreaux Landing 2014 Yellow Dog Vineyard Riesling (Finger Lakes)                                  </td><td>Riesling       </td><td>Lamoreaux Landing         </td></tr>\n",
       "\t<tr><th scope=row>149</th><td>Germany</td><td>Crisp, pristine peach and apricot notes resonate through the nose and palate of this fresh, blossomy dry Riesling. While zesty and lithe in body, ripe grapefruit and melon flavors feel supple and silky on the palate. Drink now through 2019.                                                                                                                              </td><td>Dry                                                </td><td>91</td><td> 16</td><td>Rheinhessen</td><td>NA                       </td><td>NA            </td><td>Anna Lee C. Iijima</td><td>NA</td><td>Weingut Liebfrauenstift 2014 Dry Riesling (Rheinhessen)                                             </td><td>Riesling       </td><td>Weingut Liebfrauenstift   </td></tr>\n",
       "\t<tr><th scope=row>157</th><td>Germany</td><td>Approachably fruity yet nuanced and electrifying, there's exceptional value here. High-intensity flavors of tangerine and stone fruit sweeten the palate, balanced by nerve-tingling acidity and deep ripples of slate, salt and honeycomb. It's an intensely zesty wine, but the finish has length and power.                                                                </td><td>Graacher Himmelreich SpÃ¤tlese                     </td><td>91</td><td> 14</td><td>Mosel      </td><td>NA                       </td><td>NA            </td><td>Anna Lee C. Iijima</td><td>NA</td><td>Carl Graff 2014 Graacher Himmelreich SpÃ¤tlese Riesling (Mosel)                                     </td><td>Riesling       </td><td>Carl Graff                </td></tr>\n",
       "\t<tr><th scope=row>171</th><td>Germany</td><td>Fresh and fragrant of blossoms, tart yellow peach and apricot, this off-dry Riesling maintains a crystalline fruit purity that persists throughout Fritz Haag's wines. It's invigorating and irresistably quaffable. The long, melon-rind finish is lip smacking.                                                                                                             </td><td>Brauneberger Feinherb                              </td><td>91</td><td> 30</td><td>Mosel      </td><td>NA                       </td><td>NA            </td><td>Anna Lee C. Iijima</td><td>NA</td><td>Fritz Haag 2014 Brauneberger Feinherb Riesling (Mosel)                                              </td><td>Riesling       </td><td>Fritz Haag                </td></tr>\n",
       "\t<tr><th scope=row>348</th><td>Germany</td><td>Dusty, saffron-spiced earthiness is juxtaposed against intense mango and tangerine fruitiness in this deeply complex wine. It's unctuously sweet, but balanced by a piercing streak of acidity that penetrates through the midpalate. Spry and silken, it finishes on a long lingering whisper of honey and peach.                                                            </td><td>Kiedrich GrÃ¤fenberg Trockenbeerenauslese          </td><td>97</td><td>775</td><td>Rheingau   </td><td>NA                       </td><td>NA            </td><td>Anna Lee C. Iijima</td><td>NA</td><td>Robert Weil 2014 Kiedrich GrÃ¤fenberg Trockenbeerenauslese Riesling (Rheingau)                      </td><td>Riesling       </td><td>Robert Weil               </td></tr>\n",
       "\t<tr><th scope=row>355</th><td>Germany</td><td>Whiffs of white mushroom, saffron and caramel lend complexity to this concentrated elixir of apricots and orange peels. It's honeyed and sweet but vivaciously balanced, glazing the palate in ethereal textures of gossamer and tulle. The caramel finish lingers endlessly.                                                                                                 </td><td>Kiedrich GrÃ¤fenberg Beerenauslese                 </td><td>96</td><td>365</td><td>Rheingau   </td><td>NA                       </td><td>NA            </td><td>Anna Lee C. Iijima</td><td>NA</td><td>Robert Weil 2014 Kiedrich GrÃ¤fenberg Beerenauslese Riesling (Rheingau)                             </td><td>Riesling       </td><td>Robert Weil               </td></tr>\n",
       "\t<tr><th scope=row>359</th><td>Germany</td><td>Intensely fragrant, this honey-sweet auslese wafts of ripe yellow peaches and caramelized sugar. Tropical mango, pineapple and melon collide on the palate before falling neatly in line against a strike of high-toned acidity. The finish is luxuriously long, peppered by a faint dusting of saffron. It's a stunner already but should shine brightly for decades to come.</td><td>Hattenheimer Hassel Auslese                        </td><td>95</td><td> 66</td><td>Rheingau   </td><td>NA                       </td><td>NA            </td><td>Anna Lee C. Iijima</td><td>NA</td><td>Weingut Hans Bausch 2011 Hattenheimer Hassel Auslese Riesling (Rheingau)                            </td><td>Riesling       </td><td>Weingut Hans Bausch       </td></tr>\n",
       "\t<tr><th scope=row>426</th><td>US     </td><td>Blossom and berry notes are accented by hints of smoked nut in this refreshingly light-bodied wine. Zesty and lithe on the palate, it's an ideal summer-to-fall apÃ©ritif or porch sipper. The moderately long finish is marked with a hint of waxy florals.                                                                                                                  </td><td>Bridge Lane                                        </td><td>89</td><td> 18</td><td>New York   </td><td>New York                 </td><td>New York Other</td><td>Anna Lee C. Iijima</td><td>NA</td><td>Lieb 2015 Bridge Lane RosÃ© (New York)                                                              </td><td>RosÃ©          </td><td>Lieb                      </td></tr>\n",
       "\t<tr><th scope=row>428</th><td>US     </td><td>A touch blossomy against a core of ripe raspberry and cherry perfume, the nose on this traditional-method Pinot Noir sparkler is particularly alluring. The palate is elegant and fresh, marked by fine, mouthfilling mousse and delicate raspberry-candy finish.                                                                                                             </td><td>CuvÃ©e Gabriella Brut RosÃ©                        </td><td>89</td><td> 35</td><td>New York   </td><td>North Fork of Long Island</td><td>Long Island   </td><td>Anna Lee C. Iijima</td><td>NA</td><td>Macari 2010 CuvÃ©e Gabriella Brut RosÃ© Sparkling (North Fork of Long Island)                       </td><td>Sparkling Blend</td><td>Macari                    </td></tr>\n",
       "\t<tr><th scope=row>443</th><td>US     </td><td>Voluptuous blackberry and plum flavors are edged by hints of bitter coffee and spice in this richly bodied wine. Fringed by a bare feather of tannins, it's luscious in mouthfeel, with an unctuousness that persists luxuriously on the palate.                                                                                                                              </td><td>Caya                                               </td><td>89</td><td> 35</td><td>New York   </td><td>Long Island              </td><td>Long Island   </td><td>Anna Lee C. Iijima</td><td>NA</td><td>WÃ¶lffer 2013 Caya Cabernet Franc (Long Island)                                                     </td><td>Cabernet Franc </td><td>WÃ¶lffer                  </td></tr>\n",
       "\t<tr><th scope=row>465</th><td>Germany</td><td>Richly textured and unabashedly full in body, this dry Riesling is intensely ripe. Pineapple and peach flavor is accented by zesty lime peel and earthy tones of wet stone and lanolin. The midpalate is lifted by a whiff of violet perfume and bold, lemon-lime acidity envigorates the finish.                                                                             </td><td>Westhofen Morstein GG Trocken                      </td><td>92</td><td>115</td><td>Rheinhessen</td><td>NA                       </td><td>NA            </td><td>Anna Lee C. Iijima</td><td>NA</td><td>Wittmann 2011 Westhofen Morstein GG Trocken Riesling (Rheinhessen)                                  </td><td>Riesling       </td><td>Wittmann                  </td></tr>\n",
       "\t<tr><th scope=row>469</th><td>Germany</td><td>The nose of this powerfully fruity yet dry Riesling packs a punch, with aromas of ripe pineapple, apricot and floral potpourri. The palate is dense with stone fruit, and a hint of red berry flavor, but finishes elegantly with sleek mineral tones.                                                                                                                        </td><td>Ãœrziger WÃ¼rzgarten Alte Reben GG Trocken         </td><td>92</td><td> 42</td><td>Mosel      </td><td>NA                       </td><td>NA            </td><td>Anna Lee C. Iijima</td><td>NA</td><td>Dr. Loosen 2011 Ãœrziger WÃ¼rzgarten Alte Reben GG Trocken Riesling (Mosel)                         </td><td>Riesling       </td><td>Dr. Loosen                </td></tr>\n",
       "\t<tr><th scope=row>470</th><td>Germany</td><td>Lanolin and honeycomb notes lend a minerally feel to rich, lusciously concentrated peach and tangerine flavors in this powerful yet finely structured kabinett. A hint of spritz and shocking lemon-lime acidity lead the way to a long, elegant finish.                                                                                                                      </td><td>Wehlener Sonnenuhr Kabinett                        </td><td>92</td><td> 27</td><td>Mosel      </td><td>NA                       </td><td>NA            </td><td>Anna Lee C. Iijima</td><td>NA</td><td>Dr. Loosen 2011 Wehlener Sonnenuhr Kabinett Riesling (Mosel)                                        </td><td>Riesling       </td><td>Dr. Loosen                </td></tr>\n",
       "\t<tr><th scope=row>528</th><td>Germany</td><td>A surprising whiff of black currant on the nose of this elegant white points to Scheurebeâ€”one of Germany's lesser-known grapes. Wittmann's version is particularly poised, offering loads of peach and grapefruit flavors, sharply contrasted by zesty lime and mineral tones. The finish is long and sleek, touched by a hint of bee pollen.                               </td><td>Trocken                                            </td><td>91</td><td> 30</td><td>Rheinhessen</td><td>NA                       </td><td>NA            </td><td>Anna Lee C. Iijima</td><td>NA</td><td>Wittmann 2015 Trocken Scheurebe (Rheinhessen)                                                       </td><td>Scheurebe      </td><td>Wittmann                  </td></tr>\n",
       "\t<tr><th scope=row>536</th><td>Germany</td><td>Fresh green apple and grapefruit aromas are bolstered on the palate of this dry, elegantly balanced Riesling. It's light bodied yet delightfully creamy. A kiss of tangerine zest marks its moderately long finish.                                                                                                                                                           </td><td>Trocken                                            </td><td>91</td><td> 22</td><td>Mosel      </td><td>NA                       </td><td>NA            </td><td>Anna Lee C. Iijima</td><td>NA</td><td>Maximin GrÃ¼nhÃ¤user 2015 Trocken Riesling (Mosel)                                                  </td><td>Riesling       </td><td>Maximin GrÃ¼nhÃ¤user      </td></tr>\n",
       "\t<tr><th scope=row>578</th><td>US     </td><td>Ripe luscious black-cherry and berry notes lend heft to this bold concentrated rosÃ©. It's just a shade off dry, but balances neatly, juxtaposing crisp acidity against lavish texture and a pleasantly clingy finish.                                                                                                                                                        </td><td>Pinot Noir                                         </td><td>89</td><td> 17</td><td>New York   </td><td>Finger Lakes             </td><td>Finger Lakes  </td><td>Anna Lee C. Iijima</td><td>NA</td><td>Chateau Lafayette Reneau 2016 Pinot Noir RosÃ© (Finger Lakes)                                       </td><td>RosÃ©          </td><td>Chateau Lafayette Reneau  </td></tr>\n",
       "\t<tr><th scope=row>649</th><td>Germany</td><td>A spray of rose petals perfumes this aromatic spÃ¤tlese. Its freshness is exhilarating, contrasting lavish layers of honey and marmalade against the sharp bites of pineapple, tangerine and lemon. Cutting and spry, yet deeply penetrating, it finishes on a lingering pollen note.                                                                                         </td><td>Brauneberger Juffer-Sonnenuhr SpÃ¤tlese Grosse Lage</td><td>92</td><td> 34</td><td>Mosel      </td><td>NA                       </td><td>NA            </td><td>Anna Lee C. Iijima</td><td>NA</td><td>Reichsgraf von Kesselstatt 2014 Brauneberger Juffer-Sonnenuhr SpÃ¤tlese Grosse Lage Riesling (Mosel)</td><td>Riesling       </td><td>Reichsgraf von Kesselstatt</td></tr>\n",
       "\t<tr><th scope=row>669</th><td>US     </td><td>While dry in style, this lithe, delicately framed Riesling packs a punch of ripe, rich tropical fruit. It's blossomy and buoyantly fruity, yet brashly mineral as well. Made using â€œvirgin berriesâ€, uniquely seedless grapes with a tendency towards exuberant aroma and flavor concentration.                                                                           </td><td>Virgin Berry                                       </td><td>90</td><td> 26</td><td>New York   </td><td>North Fork of Long Island</td><td>Long Island   </td><td>Anna Lee C. Iijima</td><td>NA</td><td>Raphael 2014 Virgin Berry Riesling (North Fork of Long Island)                                      </td><td>Riesling       </td><td>Raphael                   </td></tr>\n",
       "\t<tr><th scope=row>673</th><td>US     </td><td>Similarly to it's Virgin Berry sibling, Roth's regular label Dry Riesling has a distinctly green, woodsy tone lending an alpine feel to sweet-tart peach and apricot flavors. It's brisk and fine-footed, yet zesty tangerine and grapefruit acidity persist long on the finish.                                                                                              </td><td>Dry                                                </td><td>90</td><td> 26</td><td>New York   </td><td>Long Island              </td><td>Long Island   </td><td>Anna Lee C. Iijima</td><td>NA</td><td>The Grapes of Roth 2014 Dry Riesling (Long Island)                                                  </td><td>Riesling       </td><td>The Grapes of Roth        </td></tr>\n",
       "\t<tr><th scope=row>725</th><td>US     </td><td>Peach, banana peel and a slight petrol note show mildly on the nose. The round palate boasts tart peach, pineapple rind and bitter lemon zest.                                                                                                                                                                                                                                </td><td>Mont Sec Vineyards                                 </td><td>85</td><td> 14</td><td>Texas      </td><td>Texas                    </td><td>NA            </td><td>Alexander Peartree</td><td>NA</td><td>Mont Sec 2015 Mont Sec Vineyards Viognier (Texas)                                                   </td><td>Viognier       </td><td>Mont Sec                  </td></tr>\n",
       "\t<tr><th scope=row>749</th><td>US     </td><td>The sweet scent of raspberry and strawberry preserves waft from this Cab Franc icewine from Casa Larga. On the palate as well, there's a nice concentration of preserved berry flavors that soar on the palate with a bright, sunny acidity. Finishes clean and long with just a hint of autumn leaves and bramble.                                                           </td><td>Fiori Delle Stelle Ice Wine                        </td><td>87</td><td> 75</td><td>New York   </td><td>Finger Lakes             </td><td>Finger Lakes  </td><td>Anna Lee C. Iijima</td><td>NA</td><td>Casa Larga 2008 Fiori Delle Stelle Ice Wine Cabernet Franc (Finger Lakes)                           </td><td>Cabernet Franc </td><td>Casa Larga                </td></tr>\n",
       "\t<tr><th scope=row>790</th><td>Germany</td><td>Fragrant notes of tangerine and yuzu peel abound on this citrusy dry Riesling. The palate is cutting and fresh, full of juicy white grapefruit and lime flavors. Light bodied yet satisfyingly thirst quenching, it finishes long with invigorating minerality.                                                                                                               </td><td>Apollo Dry                                         </td><td>90</td><td> 29</td><td>Mosel      </td><td>NA                       </td><td>NA            </td><td>Anna Lee C. Iijima</td><td>NA</td><td>Von Schleinitz 2015 Apollo Dry Riesling (Mosel)                                                     </td><td>Riesling       </td><td>Von Schleinitz            </td></tr>\n",
       "\t<tr><th scope=row>812</th><td>Germany</td><td>White blossom perfume accents notes of fresh lemon, lime and green melon in this aromatic Silvaner. While dry in style, it's refreshingly juicy on the palate, bursting with pristine citrus flavor tinged by edges of lime and lemon pith. Mouth filling and rich in texture, it clings lusciously through a long finish.                                                    </td><td>Castell                                            </td><td>90</td><td> 16</td><td>Franken    </td><td>NA                       </td><td>NA            </td><td>Anna Lee C. Iijima</td><td>NA</td><td>Castell 2015 Castell Silvaner (Franken)                                                             </td><td>Silvaner       </td><td>Castell                   </td></tr>\n",
       "\t<tr><th scope=row>...</th><td>...</td><td>...</td><td>...</td><td>...</td><td>...</td><td>...</td><td>...</td><td>...</td><td>...</td><td>...</td><td>...</td><td>...</td><td>...</td></tr>\n",
       "\t<tr><th scope=row>128551</th><td>US     </td><td>Zesty lime and floral notes accent penetrating grapefruit flavors on this delicate semidry Riesling. Zippy with acidity and brisk, wet-stone minerality, it's a fabulous find that's exceptionally easy on the wallet.                                                                                                                                                                </td><td>Semi-Dry                                                               </td><td>89</td><td>14</td><td>New York           </td><td>Finger Lakes             </td><td>Finger Lakes  </td><td>Anna Lee C. Iijima</td><td>NA</td><td>Red Newt Cellars 2011 Semi-Dry Riesling (Finger Lakes)                                                                   </td><td>Riesling          </td><td>Red Newt Cellars                         </td></tr>\n",
       "\t<tr><th scope=row>128566</th><td>US     </td><td>Yellow cherry and blossom notes soften the bracing lemon-lime backbone in this light-footed dry Riesling. Crisp honeydew and quince flavors are sprightly and bright, finishing brisk and clean.                                                                                                                                                                                      </td><td>Dry                                                                    </td><td>87</td><td>17</td><td>New York           </td><td>Finger Lakes             </td><td>Finger Lakes  </td><td>Anna Lee C. Iijima</td><td>NA</td><td>Hazlitt 1852 Vineyards 2013 Dry Riesling (Finger Lakes)                                                                  </td><td>Riesling          </td><td>Hazlitt 1852 Vineyards                   </td></tr>\n",
       "\t<tr><th scope=row>128577</th><td>US     </td><td>Peach and steely lemon aromas carry to a citrus-diven palate offering a slight impression of oak. Medium bodied, this Chardonnay shows a nice balance of fruit and oak tones, leading to a toasty finish.                                                                                                                                                                             </td><td>Reserve                                                                </td><td>87</td><td>28</td><td>Virginia           </td><td>Monticello               </td><td>NA            </td><td>Alexander Peartree</td><td>NA</td><td>Pollak 2012 Reserve Chardonnay (Monticello)                                                                              </td><td>Chardonnay        </td><td>Pollak                                   </td></tr>\n",
       "\t<tr><th scope=row>128667</th><td>US     </td><td>Orange blossoms, grapefruit piths and freshly cut pineapple explode on the nose of this perfumed, yet impeccably elegant Riesling. It's gossamer-light in texture, but deeply concentrated with generous streaks of ripe yellow peach and tangerine. A bristle of bitter lime zest accompanies a long finish. Gorgeous now but substantial enough to mature well though at least 2023.</td><td>Sawmill Creek Vineyards Dry                                            </td><td>90</td><td>16</td><td>New York           </td><td>Finger Lakes             </td><td>Finger Lakes  </td><td>Anna Lee C. Iijima</td><td>NA</td><td>Billsboro 2013 Sawmill Creek Vineyards Dry Riesling (Finger Lakes)                                                       </td><td>Riesling          </td><td>Billsboro                                </td></tr>\n",
       "\t<tr><th scope=row>128729</th><td>US     </td><td>Boundary Breaks is an exciting new project from the Finger Lakes, and the No. 239 is one of its best. While ebulliently fruity, almost tropical, on the nose, it's elegantly dry on the palate with a rich, creamy palate full of ripe grapefruit and peach flavors. Vibrant lemon-lime acidity, it finishes long with a hint of lime-skin pith.                                      </td><td>No. 239 Dry                                                            </td><td>90</td><td>22</td><td>New York           </td><td>Finger Lakes             </td><td>Finger Lakes  </td><td>Anna Lee C. Iijima</td><td>NA</td><td>Boundary Breaks 2011 No. 239 Dry Riesling (Finger Lakes)                                                                 </td><td>Riesling          </td><td>Boundary Breaks                          </td></tr>\n",
       "\t<tr><th scope=row>128808</th><td>US     </td><td>Musky violet perfume and dusty mineral tones collide on the nose of this slightly sweet GewÃ¼rztraminer. Deft body and fresh tangerine and grapefruit flavors are pleasing but the finish is a bit earthy and muddy.                                                                                                                                                                  </td><td>Million Dollar Beach                                                   </td><td>85</td><td>16</td><td>New York           </td><td>New York                 </td><td>New York Other</td><td>Anna Lee C. Iijima</td><td>NA</td><td>Adirondack Winery 2016 Million Dollar Beach Gewurztraminer (New York)                                                    </td><td>GewÃ¼rztraminer   </td><td>Adirondack Winery                        </td></tr>\n",
       "\t<tr><th scope=row>128847</th><td>US     </td><td>Made from a blend of grapes from the estate's top vineyards, this vivacious dry Riesling balances crisp mineral tones against ripe, tropical notes of mango, pineapple and melon. It's lusciously mouthcoating yet cut with strikes of tangerine and lime. Delightful now, but structured enough to improve through at least 2023.                                                    </td><td>Reserve Dry                                                            </td><td>92</td><td>29</td><td>New York           </td><td>Seneca Lake              </td><td>Finger Lakes  </td><td>Anna Lee C. Iijima</td><td>NA</td><td>Hermann J. Wiemer 2013 Reserve Dry Riesling (Seneca Lake)                                                                </td><td>Riesling          </td><td>Hermann J. Wiemer                        </td></tr>\n",
       "\t<tr><th scope=row>129011</th><td>US     </td><td>Blackberry and cherry go toe-to-toe with a dark, savory element full of granite, dusty herbs and earth in this elegantly restrained red wine. A blend of Cabernet Sauvignon, Syrah and Merlot, it offers a more muted expression of black fruit lifted by bright acidity and fine feathery tannins.                                                                                   </td><td>Motley Cru                                                             </td><td>88</td><td>35</td><td>New York           </td><td>North Fork of Long Island</td><td>Long Island   </td><td>Anna Lee C. Iijima</td><td>NA</td><td>Brooklyn Oenology 2012 Motley Cru Red (North Fork of Long Island)                                                        </td><td>Red Blend         </td><td>Brooklyn Oenology                        </td></tr>\n",
       "\t<tr><th scope=row>129037</th><td>US     </td><td>A pulsing core of dried plum and black-cherry flavors marks this buxom Petit Verdot. While bold and brawny, a balsamic edge and fine tannins lend subtlety. Its rich, mouth-filling silkiness clings pleasantly on the finish.                                                                                                                                                        </td><td>Spotlight                                                              </td><td>88</td><td>50</td><td>New York           </td><td>North Fork of Long Island</td><td>Long Island   </td><td>Anna Lee C. Iijima</td><td>NA</td><td>Sannino 2013 Spotlight Petit Verdot (North Fork of Long Island)                                                          </td><td>Petit Verdot      </td><td>Sannino                                  </td></tr>\n",
       "\t<tr><th scope=row>129077</th><td>Hungary</td><td>This off-dry, honeyed Tokaj wine has a penetrating minerality that extends from start to finish, with aromas of honeysuckle and fresh tangerine skin. Slightly dusty on the palate, it shows hints of dried herb and crushed stone, and it finishes on a delicate flower tone.                                                                                                        </td><td>3 Puttonyos AszÃº                                                      </td><td>87</td><td>20</td><td>Tokaji             </td><td>NA                       </td><td>NA            </td><td>Anna Lee C. Iijima</td><td>NA</td><td>ChÃ¢teau Hellha 2002 3 Puttonyos AszÃº  (Tokaji)                                                                         </td><td>Tokaji            </td><td>ChÃ¢teau Hellha                          </td></tr>\n",
       "\t<tr><th scope=row>129079</th><td>Romania</td><td>Cramele Recas's Dreamfish series of international varieties consistently offers bang for your buck, and this vintage of Cabernet Sauvignon is no exception. Rich, full bodied and easy drinking, this offers flavors of bright black cherry and berry, framed by notes of vanilla, toast and wet graphite.                                                                            </td><td>Dreamfish                                                              </td><td>87</td><td> 7</td><td>Viile Timisului    </td><td>NA                       </td><td>NA            </td><td>Anna Lee C. Iijima</td><td>NA</td><td>Cramele Recas 2011 Dreamfish Cabernet Sauvignon (Viile Timisului)                                                        </td><td>Cabernet Sauvignon</td><td>Cramele Recas                            </td></tr>\n",
       "\t<tr><th scope=row>129091</th><td>US     </td><td>The nose and palate are smoky and waxy, with a shimmer of petrol. The palate is brisk and lemony, with hints of citrus peel, nut oil and nut skin that linger on the long finish. This dry, savory Riesling is already showing signs of bottle age. Drink now.                                                                                                                        </td><td>Ingle Vineyard                                                         </td><td>87</td><td>20</td><td>New York           </td><td>Finger Lakes             </td><td>Finger Lakes  </td><td>Anna Lee C. Iijima</td><td>NA</td><td>Heron Hill 2010 Ingle Vineyard Riesling (Finger Lakes)                                                                   </td><td>Riesling          </td><td>Heron Hill                               </td></tr>\n",
       "\t<tr><th scope=row>129125</th><td>US     </td><td>Laser-focused acidity adds polish to luscious sweet pear and tangerine flavors in this decadently sweet bottling. Delicately lacy in mouthfeel, it finishes with a savory dusting of pollen and crushed stones.                                                                                                                                                                       </td><td>Ingle Vineyard Icewine                                                 </td><td>87</td><td>75</td><td>New York           </td><td>Finger Lakes             </td><td>Finger Lakes  </td><td>Anna Lee C. Iijima</td><td>NA</td><td>Heron Hill 2010 Ingle Vineyard Icewine Riesling (Finger Lakes)                                                           </td><td>Riesling          </td><td>Heron Hill                               </td></tr>\n",
       "\t<tr><th scope=row>129293</th><td>Germany</td><td>Rose petals and violet perfume this fragrant, voluptuously textured SpÃ¤tburgunder. It's ripe and approachable but structured by fine, firm tannins and sprightly acidity. Luscious streaks of blackberry and cherry nectar linger on the finish.                                                                                                                                     </td><td>RÃ¼desheim Berg Roseneck SpÃ¤tburgunder Trocken                        </td><td>90</td><td>18</td><td>Rheingau           </td><td>NA                       </td><td>NA            </td><td>Anna Lee C. Iijima</td><td>NA</td><td>Carl Ehrhard 2013 RÃ¼desheim Berg Roseneck SpÃ¤tburgunder Trocken Pinot Noir (Rheingau)                                  </td><td>Pinot Noir        </td><td>Carl Ehrhard                             </td></tr>\n",
       "\t<tr><th scope=row>129460</th><td>US     </td><td>Somehow, winemaker Luca Paschina manages to make a Vermentino that will make you feel like you are sitting at a cafÃ© in Liguria. Lush aromatics of pear drop and canteloupe lead into flavors of lemon, green pear, snap pea, button mushroom and sea spray. Well-balanced, this is smooth and fresh, with hints of nuts on the long finish.                                         </td><td>Reserve                                                                </td><td>87</td><td>23</td><td>Virginia           </td><td>Virginia                 </td><td>NA            </td><td>Carrie Dykes      </td><td>NA</td><td>Barboursville Vineyards 2015 Reserve Vermentino (Virginia)                                                               </td><td>Vermentino        </td><td>Barboursville Vineyards                  </td></tr>\n",
       "\t<tr><th scope=row>129609</th><td>Romania</td><td>Hints of rose petals are a curious contrast to earthier scents of soil and beets on this full bodied, slightly chunky Romanian Merlot. Pleasant for everyday dining; flavors of charred wood and preserved plum would pair nicely with an assortment of smoked meats and cheeses.                                                                                                     </td><td>Vitis Metamorfosis                                                     </td><td>84</td><td>15</td><td>Dealu Mare         </td><td>NA                       </td><td>NA            </td><td>Anna Lee C. Iijima</td><td>NA</td><td>Cramele Halewood 2009 Vitis Metamorfosis Merlot (Dealu Mare)                                                             </td><td>Merlot            </td><td>Cramele Halewood                         </td></tr>\n",
       "\t<tr><th scope=row>129612</th><td>Romania</td><td>Darkly toasted oak lends a veil of smoke and char to apple and lemon flavors in this dry, full-bodied Chardonnay. There are hints of stems and leaves on the midpalate, but overall, it's a well-composed wine with balanced acidity and alcohol.                                                                                                                                     </td><td>Terra Romana                                                           </td><td>84</td><td>10</td><td>Dealu Mare         </td><td>NA                       </td><td>NA            </td><td>Anna Lee C. Iijima</td><td>NA</td><td>SERVE 2010 Terra Romana Chardonnay (Dealu Mare)                                                                          </td><td>Chardonnay        </td><td>SERVE                                    </td></tr>\n",
       "\t<tr><th scope=row>129622</th><td>Ukraine</td><td>Fresh apple notes on the nose of this off-dry sparkling are pretty, but hindered by whiffs of dust and green stems. Softly pÃ©tillant with a creamy, mouth-filling froth, it finishes with a pleasantly sweet note. An unusual blend of Pinot Franc, Chardonnay, Aligote and Riesling.                                                                                                </td><td>KrimSekt White Collection Semi-Dry                                     </td><td>84</td><td>13</td><td>Ukraine            </td><td>NA                       </td><td>NA            </td><td>Anna Lee C. Iijima</td><td>NA</td><td>Artemovsk 2008 KrimSekt White Collection Semi-Dry Sparkling (Ukraine)                                                    </td><td>Sparkling Blend   </td><td>Artemovsk                                </td></tr>\n",
       "\t<tr><th scope=row>129625</th><td>Romania</td><td>Exuberantly fragrant of ripe, tropical fruit and florals, this Romanian white blend veers towards confected, but it's pleasantly brisk and apple-y on the palate. A good apÃ©ritif for casual, weekday enjoyment.                                                                                                                                                                     </td><td>Single Vineyard Selection Scurta Vineyard Viognier-Tamaioasa Romaneasca</td><td>84</td><td>12</td><td>Dealurile Munteniei</td><td>NA                       </td><td>NA            </td><td>Anna Lee C. Iijima</td><td>NA</td><td>Cramele Halewood 2009 Single Vineyard Selection Scurta Vineyard Viognier-Tamaioasa Romaneasca White (Dealurile Munteniei)</td><td>White Blend       </td><td>Cramele Halewood                         </td></tr>\n",
       "\t<tr><th scope=row>129673</th><td>Germany</td><td>More delicate in character than the Kiedrich Turmberg, this gossamer-light auslese balances slick honey, peach and yellow-cherry flavors against a backdrop of crystalline minerality. Nerve-racing acidity extends a long luscious finish.                                                                                                                                           </td><td>Kiedrich GrÃ¤fenberg Auslese                                           </td><td>93</td><td>94</td><td>Rheingau           </td><td>NA                       </td><td>NA            </td><td>Anna Lee C. Iijima</td><td>NA</td><td>Robert Weil 2014 Kiedrich GrÃ¤fenberg Auslese Riesling (Rheingau)                                                        </td><td>Riesling          </td><td>Robert Weil                              </td></tr>\n",
       "\t<tr><th scope=row>129677</th><td>Germany</td><td>Electric acidity penetrates through this sumptuously fruity wine full of rich white-peach and grapefruit flavors. Vibrantly fresh and floral, it's sharpened by a razor's edge of minerality that lingers through the finish. It's gorgeous now for its ebullience and youth but should improve well into the 2020's.                                                                 </td><td>Schloss Reichartshausen SpÃ¤tlese                                      </td><td>93</td><td>35</td><td>Rheingau           </td><td>NA                       </td><td>NA            </td><td>Anna Lee C. Iijima</td><td>NA</td><td>Balthasar Ress 2015 Schloss Reichartshausen SpÃ¤tlese Riesling (Rheingau)                                                </td><td>Riesling          </td><td>Balthasar Ress                           </td></tr>\n",
       "\t<tr><th scope=row>129684</th><td>Germany</td><td>Breathtaking scents of white peach and blossom introduce this pristinely peachy wine. It's invigoratingly fresh, laced by a gossamer fringe of sweetness and vivacious lemon-lime acidity that lingers on and on. Delicately textured yet deeply penetrating.                                                                                                                         </td><td>SpÃ¤tlese                                                              </td><td>93</td><td>31</td><td>Rheingau           </td><td>NA                       </td><td>NA            </td><td>Anna Lee C. Iijima</td><td>NA</td><td>Schloss Vollrads 2014 SpÃ¤tlese Riesling (Rheingau)                                                                      </td><td>Riesling          </td><td>Schloss Vollrads                         </td></tr>\n",
       "\t<tr><th scope=row>129725</th><td>Germany</td><td>Dusty mineral complexities juxtapose luscious melon, peach and Mandarin orange flavors in this dry-style blend of GewÃ¼rztraminer and Riesling. Perfumed on the nose and silky on the palate, it's a widely appealing wine with a brisk, composed finish. Drink now through 2020.                                                                                                     </td><td>Biodynamite                                                            </td><td>90</td><td>27</td><td>Pfalz              </td><td>NA                       </td><td>NA            </td><td>Anna Lee C. Iijima</td><td>NA</td><td>PflÃ¼ger 2015 Biodynamite White (Pfalz)                                                                                  </td><td>White Blend       </td><td>PflÃ¼ger                                 </td></tr>\n",
       "\t<tr><th scope=row>129750</th><td>US     </td><td>Hints of crushed stones lend a mineral focus to this dry, elegantly structured wine. It's piercingly tart on the palate with loads of fresh lime and lemon flavor, but gains richness on the midpalate with streaks of fresh apple and crisp yellow peach. A hint of saffron adds spice to the moderately long finish.                                                                </td><td>Davis Vineyard Dry                                                     </td><td>87</td><td>22</td><td>New York           </td><td>Finger Lakes             </td><td>Finger Lakes  </td><td>Anna Lee C. Iijima</td><td>NA</td><td>Damiani 2012 Davis Vineyard Dry Riesling (Finger Lakes)                                                                  </td><td>Riesling          </td><td>Damiani                                  </td></tr>\n",
       "\t<tr><th scope=row>129769</th><td>US     </td><td>Whiffs of crushed minerals and smoke lend nuance to this dry yet intensely fruity wine full of Meyer lemon, peach and melon flavors. It's brisk and dancing on the palate with a bracing hit of lime acidity that lingers towards a long, steely finish.                                                                                                                              </td><td>Randolph O'Neil Vineyard                                               </td><td>87</td><td>25</td><td>New York           </td><td>Cayuga Lake              </td><td>Finger Lakes  </td><td>Anna Lee C. Iijima</td><td>NA</td><td>Silver Thread 2012 Randolph O'Neil Vineyard Riesling (Cayuga Lake)                                                       </td><td>Riesling          </td><td>Silver Thread                            </td></tr>\n",
       "\t<tr><th scope=row>129799</th><td>US     </td><td>Notes of honeysuckle, white peach and fresh green herb are intensely aromatic. This off-dry effort balances zippy, lemon-lime acidity with layers of ripe, rich fruit. It's lushly textured, yet it finishes delicately with a bristle of white-tea astringency.                                                                                                                      </td><td>Semi-Dry                                                               </td><td>88</td><td>19</td><td>New York           </td><td>Seneca Lake              </td><td>Finger Lakes  </td><td>Anna Lee C. Iijima</td><td>NA</td><td>Belhurst 2011 Semi-Dry Riesling (Seneca Lake)                                                                            </td><td>Riesling          </td><td>Belhurst                                 </td></tr>\n",
       "\t<tr><th scope=row>129911</th><td>Germany</td><td>Sun-kissed nectarine, tangerine and grapefruit flavors abound in this exceptionally light-footed Riesling. Off-dry in style, it's juicy and forward yet spine-tingling and racy. The finish is pristine, dry and intensely mineral.                                                                                                                                                   </td><td>Bernkasteler Lay Kabinett                                              </td><td>91</td><td>28</td><td>Mosel              </td><td>NA                       </td><td>NA            </td><td>Anna Lee C. Iijima</td><td>NA</td><td>Dr. Loosen 2015 Bernkasteler Lay Kabinett Riesling (Mosel)                                                               </td><td>Riesling          </td><td>Dr. Loosen                               </td></tr>\n",
       "\t<tr><th scope=row>129912</th><td>Germany</td><td>Dusty pollen and mineral notes lend spicy, savory complexity to zesty lemon-lime flavors in this Kabinett. Just a shade off-dry in style, it's vivacious and zippy, finishing on a lingering salty mineral tang.                                                                                                                                                                      </td><td>Ãœrziger WÃ¼rzgarten Kabinett                                          </td><td>91</td><td>28</td><td>Mosel              </td><td>NA                       </td><td>NA            </td><td>Anna Lee C. Iijima</td><td>NA</td><td>Dr. Loosen 2015 Ãœrziger WÃ¼rzgarten Kabinett Riesling (Mosel)                                                           </td><td>Riesling          </td><td>Dr. Loosen                               </td></tr>\n",
       "\t<tr><th scope=row>129947</th><td>Germany</td><td>Plump, clingy peach and honey notes are cut with streaks of lime in this delicate yet intensely satisfying wine. Off dry in style, it's refreshingly juicy, with a rich, supple mouthfeel offset by bristling acidity.                                                                                                                                                                </td><td>Dom                                                                    </td><td>90</td><td>17</td><td>Mosel              </td><td>NA                       </td><td>NA            </td><td>Anna Lee C. Iijima</td><td>NA</td><td>BischÃ¶fliche WeingÃ¼ter Trier 2013 Dom Riesling (Mosel)                                                                 </td><td>Riesling          </td><td>BischÃ¶fliche WeingÃ¼ter Trier           </td></tr>\n",
       "\t<tr><th scope=row>129967</th><td>Germany</td><td>Notes of honeysuckle and cantaloupe sweeten this deliciously feather-light spÃ¤tlese. It's intensely juicy, quenching the palate with streams of tart tangerine and grapefruit acidity, yet wraps up with a kiss of honey and peach.                                                                                                                                                  </td><td>Brauneberger Juffer-Sonnenuhr SpÃ¤tlese                                </td><td>90</td><td>28</td><td>Mosel              </td><td>NA                       </td><td>NA            </td><td>Anna Lee C. Iijima</td><td>NA</td><td>Dr. H. Thanisch (Erben MÃ¼ller-Burggraef) 2013 Brauneberger Juffer-Sonnenuhr SpÃ¤tlese Riesling (Mosel)                  </td><td>Riesling          </td><td>Dr. H. Thanisch (Erben MÃ¼ller-Burggraef)</td></tr>\n",
       "</tbody>\n",
       "</table>\n"
      ],
      "text/latex": [
       "A data.frame: 3833 × 13\n",
       "\\begin{tabular}{r|lllllllllllll}\n",
       "  & country & description & designation & points & price & province & region\\_1 & region\\_2 & taster\\_name & taster\\_twitter\\_handle & title & variety & winery\\\\\n",
       "  & <chr> & <chr> & <chr> & <int> & <dbl> & <chr> & <chr> & <chr> & <chr> & <chr> & <chr> & <chr> & <chr>\\\\\n",
       "\\hline\n",
       "\t4 & US      & Pineapple rind, lemon pith and orange blossom start off the aromas. The palate is a bit more opulent, with notes of honey-drizzled guava and mango giving way to a slightly astringent, semidry finish.                                                                                                                                                                        & Reserve Late Harvest                                & 87 &  13 & Michigan    & Lake Michigan Shore       & NA             & Alexander Peartree & NA & St. Julian 2013 Reserve Late Harvest Riesling (Lake Michigan Shore)                                  & Riesling        & St. Julian                \\\\\n",
       "\t9 & Germany & Savory dried thyme notes accent sunnier flavors of preserved peach in this brisk, off-dry wine. It's fruity and fresh, with an elegant, sprightly footprint.                                                                                                                                                                                                                   & Shine                                               & 87 &  12 & Rheinhessen & NA                        & NA             & Anna Lee C. Iijima & NA & Heinz Eifel 2013 Shine GewÃ¼rztraminer (Rheinhessen)                                                 & GewÃ¼rztraminer & Heinz Eifel               \\\\\n",
       "\t16 & Germany & Zesty orange peels and apple notes abound in this sprightly, mineral-toned Riesling. Off dry on the palate, yet racy and lean, it's a refreshing, easy quaffer with wide appeal.                                                                                                                                                                                               & Devon                                               & 87 &  24 & Mosel       & NA                        & NA             & Anna Lee C. Iijima & NA & Richard BÃ¶cking 2013 Devon Riesling (Mosel)                                                         & Riesling        & Richard BÃ¶cking          \\\\\n",
       "\t21 & US      & Ripe aromas of dark berries mingle with ample notes of black pepper, toasted vanilla and dusty tobacco. The palate is oak-driven in nature, but notes of tart red currant shine through, offering a bit of levity.                                                                                                                                                             & Vin de Maison                                       & 87 &  23 & Virginia    & Virginia                  & NA             & Alexander Peartree & NA & QuiÃ©vremont 2012 Vin de Maison Red (Virginia)                                                       & Red Blend       & QuiÃ©vremont              \\\\\n",
       "\t86 & Germany & Pronounced dust, pollen and earth tones lend savoriness to this otherwise citrusy wine. Racy acidity and fresh tangerine and lemon flavors turn herbal on the finish. Drink now.                                                                                                                                                                                               & Undone Dry                                          & 86 &  10 & Rheinhessen & NA                        & NA             & Anna Lee C. Iijima & NA & P.J. Valckenberg 2015 Undone Dry Riesling (Rheinhessen)                                              & Riesling        & P.J. Valckenberg          \\\\\n",
       "\t98 & US      & A wisp of bramble extends a savory tone from nose to finish on this otherwise bright bristling wine. Delicate honey tones register as off dry on the palate but balance neatly alongside flavors of freshly pressed apples and pears. The finish is marked by a touch of pencil lead. Drink now through 2020.                                                                  & Ingle Vineyard                                      & 88 &  20 & New York    & Finger Lakes              & Finger Lakes   & Anna Lee C. Iijima & NA & Heron Hill 2015 Ingle Vineyard Riesling (Finger Lakes)                                               & Riesling        & Heron Hill                \\\\\n",
       "\t102 & US      & Dusty mineral, smoke and struck flint lend a savory tone to this lean light-bodied Riesling. Off dry in style, the palate offers delicately concentrated flavors of red apple and nectarine off set by tangerine acidity. Drink now through 2021.                                                                                                                              & Red Oak Vineyard                                    & 87 &  20 & New York    & Finger Lakes              & Finger Lakes   & Anna Lee C. Iijima & NA & Lamoreaux Landing 2014 Red Oak Vineyard Riesling (Finger Lakes)                                      & Riesling        & Lamoreaux Landing         \\\\\n",
       "\t103 & US      & Intensely smoky tones of struck flint and ash extend throughout this otherwise bright nimble Riesling. The palate boasts freshly pressed apple and pear flavors accentuated by zippy lemon-lime acidity. Drink now through 2021.                                                                                                                                               & Yellow Dog Vineyard                                 & 87 &  20 & New York    & Finger Lakes              & Finger Lakes   & Anna Lee C. Iijima & NA & Lamoreaux Landing 2014 Yellow Dog Vineyard Riesling (Finger Lakes)                                   & Riesling        & Lamoreaux Landing         \\\\\n",
       "\t149 & Germany & Crisp, pristine peach and apricot notes resonate through the nose and palate of this fresh, blossomy dry Riesling. While zesty and lithe in body, ripe grapefruit and melon flavors feel supple and silky on the palate. Drink now through 2019.                                                                                                                               & Dry                                                 & 91 &  16 & Rheinhessen & NA                        & NA             & Anna Lee C. Iijima & NA & Weingut Liebfrauenstift 2014 Dry Riesling (Rheinhessen)                                              & Riesling        & Weingut Liebfrauenstift   \\\\\n",
       "\t157 & Germany & Approachably fruity yet nuanced and electrifying, there's exceptional value here. High-intensity flavors of tangerine and stone fruit sweeten the palate, balanced by nerve-tingling acidity and deep ripples of slate, salt and honeycomb. It's an intensely zesty wine, but the finish has length and power.                                                                 & Graacher Himmelreich SpÃ¤tlese                      & 91 &  14 & Mosel       & NA                        & NA             & Anna Lee C. Iijima & NA & Carl Graff 2014 Graacher Himmelreich SpÃ¤tlese Riesling (Mosel)                                      & Riesling        & Carl Graff                \\\\\n",
       "\t171 & Germany & Fresh and fragrant of blossoms, tart yellow peach and apricot, this off-dry Riesling maintains a crystalline fruit purity that persists throughout Fritz Haag's wines. It's invigorating and irresistably quaffable. The long, melon-rind finish is lip smacking.                                                                                                              & Brauneberger Feinherb                               & 91 &  30 & Mosel       & NA                        & NA             & Anna Lee C. Iijima & NA & Fritz Haag 2014 Brauneberger Feinherb Riesling (Mosel)                                               & Riesling        & Fritz Haag                \\\\\n",
       "\t348 & Germany & Dusty, saffron-spiced earthiness is juxtaposed against intense mango and tangerine fruitiness in this deeply complex wine. It's unctuously sweet, but balanced by a piercing streak of acidity that penetrates through the midpalate. Spry and silken, it finishes on a long lingering whisper of honey and peach.                                                             & Kiedrich GrÃ¤fenberg Trockenbeerenauslese           & 97 & 775 & Rheingau    & NA                        & NA             & Anna Lee C. Iijima & NA & Robert Weil 2014 Kiedrich GrÃ¤fenberg Trockenbeerenauslese Riesling (Rheingau)                       & Riesling        & Robert Weil               \\\\\n",
       "\t355 & Germany & Whiffs of white mushroom, saffron and caramel lend complexity to this concentrated elixir of apricots and orange peels. It's honeyed and sweet but vivaciously balanced, glazing the palate in ethereal textures of gossamer and tulle. The caramel finish lingers endlessly.                                                                                                  & Kiedrich GrÃ¤fenberg Beerenauslese                  & 96 & 365 & Rheingau    & NA                        & NA             & Anna Lee C. Iijima & NA & Robert Weil 2014 Kiedrich GrÃ¤fenberg Beerenauslese Riesling (Rheingau)                              & Riesling        & Robert Weil               \\\\\n",
       "\t359 & Germany & Intensely fragrant, this honey-sweet auslese wafts of ripe yellow peaches and caramelized sugar. Tropical mango, pineapple and melon collide on the palate before falling neatly in line against a strike of high-toned acidity. The finish is luxuriously long, peppered by a faint dusting of saffron. It's a stunner already but should shine brightly for decades to come. & Hattenheimer Hassel Auslese                         & 95 &  66 & Rheingau    & NA                        & NA             & Anna Lee C. Iijima & NA & Weingut Hans Bausch 2011 Hattenheimer Hassel Auslese Riesling (Rheingau)                             & Riesling        & Weingut Hans Bausch       \\\\\n",
       "\t426 & US      & Blossom and berry notes are accented by hints of smoked nut in this refreshingly light-bodied wine. Zesty and lithe on the palate, it's an ideal summer-to-fall apÃ©ritif or porch sipper. The moderately long finish is marked with a hint of waxy florals.                                                                                                                   & Bridge Lane                                         & 89 &  18 & New York    & New York                  & New York Other & Anna Lee C. Iijima & NA & Lieb 2015 Bridge Lane RosÃ© (New York)                                                               & RosÃ©           & Lieb                      \\\\\n",
       "\t428 & US      & A touch blossomy against a core of ripe raspberry and cherry perfume, the nose on this traditional-method Pinot Noir sparkler is particularly alluring. The palate is elegant and fresh, marked by fine, mouthfilling mousse and delicate raspberry-candy finish.                                                                                                              & CuvÃ©e Gabriella Brut RosÃ©                         & 89 &  35 & New York    & North Fork of Long Island & Long Island    & Anna Lee C. Iijima & NA & Macari 2010 CuvÃ©e Gabriella Brut RosÃ© Sparkling (North Fork of Long Island)                        & Sparkling Blend & Macari                    \\\\\n",
       "\t443 & US      & Voluptuous blackberry and plum flavors are edged by hints of bitter coffee and spice in this richly bodied wine. Fringed by a bare feather of tannins, it's luscious in mouthfeel, with an unctuousness that persists luxuriously on the palate.                                                                                                                               & Caya                                                & 89 &  35 & New York    & Long Island               & Long Island    & Anna Lee C. Iijima & NA & WÃ¶lffer 2013 Caya Cabernet Franc (Long Island)                                                      & Cabernet Franc  & WÃ¶lffer                  \\\\\n",
       "\t465 & Germany & Richly textured and unabashedly full in body, this dry Riesling is intensely ripe. Pineapple and peach flavor is accented by zesty lime peel and earthy tones of wet stone and lanolin. The midpalate is lifted by a whiff of violet perfume and bold, lemon-lime acidity envigorates the finish.                                                                              & Westhofen Morstein GG Trocken                       & 92 & 115 & Rheinhessen & NA                        & NA             & Anna Lee C. Iijima & NA & Wittmann 2011 Westhofen Morstein GG Trocken Riesling (Rheinhessen)                                   & Riesling        & Wittmann                  \\\\\n",
       "\t469 & Germany & The nose of this powerfully fruity yet dry Riesling packs a punch, with aromas of ripe pineapple, apricot and floral potpourri. The palate is dense with stone fruit, and a hint of red berry flavor, but finishes elegantly with sleek mineral tones.                                                                                                                         & Ãœrziger WÃ¼rzgarten Alte Reben GG Trocken          & 92 &  42 & Mosel       & NA                        & NA             & Anna Lee C. Iijima & NA & Dr. Loosen 2011 Ãœrziger WÃ¼rzgarten Alte Reben GG Trocken Riesling (Mosel)                          & Riesling        & Dr. Loosen                \\\\\n",
       "\t470 & Germany & Lanolin and honeycomb notes lend a minerally feel to rich, lusciously concentrated peach and tangerine flavors in this powerful yet finely structured kabinett. A hint of spritz and shocking lemon-lime acidity lead the way to a long, elegant finish.                                                                                                                       & Wehlener Sonnenuhr Kabinett                         & 92 &  27 & Mosel       & NA                        & NA             & Anna Lee C. Iijima & NA & Dr. Loosen 2011 Wehlener Sonnenuhr Kabinett Riesling (Mosel)                                         & Riesling        & Dr. Loosen                \\\\\n",
       "\t528 & Germany & A surprising whiff of black currant on the nose of this elegant white points to Scheurebeâ€”one of Germany's lesser-known grapes. Wittmann's version is particularly poised, offering loads of peach and grapefruit flavors, sharply contrasted by zesty lime and mineral tones. The finish is long and sleek, touched by a hint of bee pollen.                                & Trocken                                             & 91 &  30 & Rheinhessen & NA                        & NA             & Anna Lee C. Iijima & NA & Wittmann 2015 Trocken Scheurebe (Rheinhessen)                                                        & Scheurebe       & Wittmann                  \\\\\n",
       "\t536 & Germany & Fresh green apple and grapefruit aromas are bolstered on the palate of this dry, elegantly balanced Riesling. It's light bodied yet delightfully creamy. A kiss of tangerine zest marks its moderately long finish.                                                                                                                                                            & Trocken                                             & 91 &  22 & Mosel       & NA                        & NA             & Anna Lee C. Iijima & NA & Maximin GrÃ¼nhÃ¤user 2015 Trocken Riesling (Mosel)                                                   & Riesling        & Maximin GrÃ¼nhÃ¤user      \\\\\n",
       "\t578 & US      & Ripe luscious black-cherry and berry notes lend heft to this bold concentrated rosÃ©. It's just a shade off dry, but balances neatly, juxtaposing crisp acidity against lavish texture and a pleasantly clingy finish.                                                                                                                                                         & Pinot Noir                                          & 89 &  17 & New York    & Finger Lakes              & Finger Lakes   & Anna Lee C. Iijima & NA & Chateau Lafayette Reneau 2016 Pinot Noir RosÃ© (Finger Lakes)                                        & RosÃ©           & Chateau Lafayette Reneau  \\\\\n",
       "\t649 & Germany & A spray of rose petals perfumes this aromatic spÃ¤tlese. Its freshness is exhilarating, contrasting lavish layers of honey and marmalade against the sharp bites of pineapple, tangerine and lemon. Cutting and spry, yet deeply penetrating, it finishes on a lingering pollen note.                                                                                          & Brauneberger Juffer-Sonnenuhr SpÃ¤tlese Grosse Lage & 92 &  34 & Mosel       & NA                        & NA             & Anna Lee C. Iijima & NA & Reichsgraf von Kesselstatt 2014 Brauneberger Juffer-Sonnenuhr SpÃ¤tlese Grosse Lage Riesling (Mosel) & Riesling        & Reichsgraf von Kesselstatt\\\\\n",
       "\t669 & US      & While dry in style, this lithe, delicately framed Riesling packs a punch of ripe, rich tropical fruit. It's blossomy and buoyantly fruity, yet brashly mineral as well. Made using â€œvirgin berriesâ€, uniquely seedless grapes with a tendency towards exuberant aroma and flavor concentration.                                                                            & Virgin Berry                                        & 90 &  26 & New York    & North Fork of Long Island & Long Island    & Anna Lee C. Iijima & NA & Raphael 2014 Virgin Berry Riesling (North Fork of Long Island)                                       & Riesling        & Raphael                   \\\\\n",
       "\t673 & US      & Similarly to it's Virgin Berry sibling, Roth's regular label Dry Riesling has a distinctly green, woodsy tone lending an alpine feel to sweet-tart peach and apricot flavors. It's brisk and fine-footed, yet zesty tangerine and grapefruit acidity persist long on the finish.                                                                                               & Dry                                                 & 90 &  26 & New York    & Long Island               & Long Island    & Anna Lee C. Iijima & NA & The Grapes of Roth 2014 Dry Riesling (Long Island)                                                   & Riesling        & The Grapes of Roth        \\\\\n",
       "\t725 & US      & Peach, banana peel and a slight petrol note show mildly on the nose. The round palate boasts tart peach, pineapple rind and bitter lemon zest.                                                                                                                                                                                                                                 & Mont Sec Vineyards                                  & 85 &  14 & Texas       & Texas                     & NA             & Alexander Peartree & NA & Mont Sec 2015 Mont Sec Vineyards Viognier (Texas)                                                    & Viognier        & Mont Sec                  \\\\\n",
       "\t749 & US      & The sweet scent of raspberry and strawberry preserves waft from this Cab Franc icewine from Casa Larga. On the palate as well, there's a nice concentration of preserved berry flavors that soar on the palate with a bright, sunny acidity. Finishes clean and long with just a hint of autumn leaves and bramble.                                                            & Fiori Delle Stelle Ice Wine                         & 87 &  75 & New York    & Finger Lakes              & Finger Lakes   & Anna Lee C. Iijima & NA & Casa Larga 2008 Fiori Delle Stelle Ice Wine Cabernet Franc (Finger Lakes)                            & Cabernet Franc  & Casa Larga                \\\\\n",
       "\t790 & Germany & Fragrant notes of tangerine and yuzu peel abound on this citrusy dry Riesling. The palate is cutting and fresh, full of juicy white grapefruit and lime flavors. Light bodied yet satisfyingly thirst quenching, it finishes long with invigorating minerality.                                                                                                                & Apollo Dry                                          & 90 &  29 & Mosel       & NA                        & NA             & Anna Lee C. Iijima & NA & Von Schleinitz 2015 Apollo Dry Riesling (Mosel)                                                      & Riesling        & Von Schleinitz            \\\\\n",
       "\t812 & Germany & White blossom perfume accents notes of fresh lemon, lime and green melon in this aromatic Silvaner. While dry in style, it's refreshingly juicy on the palate, bursting with pristine citrus flavor tinged by edges of lime and lemon pith. Mouth filling and rich in texture, it clings lusciously through a long finish.                                                     & Castell                                             & 90 &  16 & Franken     & NA                        & NA             & Anna Lee C. Iijima & NA & Castell 2015 Castell Silvaner (Franken)                                                              & Silvaner        & Castell                   \\\\\n",
       "\t... & ... & ... & ... & ... & ... & ... & ... & ... & ... & ... & ... & ... & ...\\\\\n",
       "\t128551 & US      & Zesty lime and floral notes accent penetrating grapefruit flavors on this delicate semidry Riesling. Zippy with acidity and brisk, wet-stone minerality, it's a fabulous find that's exceptionally easy on the wallet.                                                                                                                                                                 & Semi-Dry                                                                & 89 & 14 & New York            & Finger Lakes              & Finger Lakes   & Anna Lee C. Iijima & NA & Red Newt Cellars 2011 Semi-Dry Riesling (Finger Lakes)                                                                    & Riesling           & Red Newt Cellars                         \\\\\n",
       "\t128566 & US      & Yellow cherry and blossom notes soften the bracing lemon-lime backbone in this light-footed dry Riesling. Crisp honeydew and quince flavors are sprightly and bright, finishing brisk and clean.                                                                                                                                                                                       & Dry                                                                     & 87 & 17 & New York            & Finger Lakes              & Finger Lakes   & Anna Lee C. Iijima & NA & Hazlitt 1852 Vineyards 2013 Dry Riesling (Finger Lakes)                                                                   & Riesling           & Hazlitt 1852 Vineyards                   \\\\\n",
       "\t128577 & US      & Peach and steely lemon aromas carry to a citrus-diven palate offering a slight impression of oak. Medium bodied, this Chardonnay shows a nice balance of fruit and oak tones, leading to a toasty finish.                                                                                                                                                                              & Reserve                                                                 & 87 & 28 & Virginia            & Monticello                & NA             & Alexander Peartree & NA & Pollak 2012 Reserve Chardonnay (Monticello)                                                                               & Chardonnay         & Pollak                                   \\\\\n",
       "\t128667 & US      & Orange blossoms, grapefruit piths and freshly cut pineapple explode on the nose of this perfumed, yet impeccably elegant Riesling. It's gossamer-light in texture, but deeply concentrated with generous streaks of ripe yellow peach and tangerine. A bristle of bitter lime zest accompanies a long finish. Gorgeous now but substantial enough to mature well though at least 2023. & Sawmill Creek Vineyards Dry                                             & 90 & 16 & New York            & Finger Lakes              & Finger Lakes   & Anna Lee C. Iijima & NA & Billsboro 2013 Sawmill Creek Vineyards Dry Riesling (Finger Lakes)                                                        & Riesling           & Billsboro                                \\\\\n",
       "\t128729 & US      & Boundary Breaks is an exciting new project from the Finger Lakes, and the No. 239 is one of its best. While ebulliently fruity, almost tropical, on the nose, it's elegantly dry on the palate with a rich, creamy palate full of ripe grapefruit and peach flavors. Vibrant lemon-lime acidity, it finishes long with a hint of lime-skin pith.                                       & No. 239 Dry                                                             & 90 & 22 & New York            & Finger Lakes              & Finger Lakes   & Anna Lee C. Iijima & NA & Boundary Breaks 2011 No. 239 Dry Riesling (Finger Lakes)                                                                  & Riesling           & Boundary Breaks                          \\\\\n",
       "\t128808 & US      & Musky violet perfume and dusty mineral tones collide on the nose of this slightly sweet GewÃ¼rztraminer. Deft body and fresh tangerine and grapefruit flavors are pleasing but the finish is a bit earthy and muddy.                                                                                                                                                                   & Million Dollar Beach                                                    & 85 & 16 & New York            & New York                  & New York Other & Anna Lee C. Iijima & NA & Adirondack Winery 2016 Million Dollar Beach Gewurztraminer (New York)                                                     & GewÃ¼rztraminer    & Adirondack Winery                        \\\\\n",
       "\t128847 & US      & Made from a blend of grapes from the estate's top vineyards, this vivacious dry Riesling balances crisp mineral tones against ripe, tropical notes of mango, pineapple and melon. It's lusciously mouthcoating yet cut with strikes of tangerine and lime. Delightful now, but structured enough to improve through at least 2023.                                                     & Reserve Dry                                                             & 92 & 29 & New York            & Seneca Lake               & Finger Lakes   & Anna Lee C. Iijima & NA & Hermann J. Wiemer 2013 Reserve Dry Riesling (Seneca Lake)                                                                 & Riesling           & Hermann J. Wiemer                        \\\\\n",
       "\t129011 & US      & Blackberry and cherry go toe-to-toe with a dark, savory element full of granite, dusty herbs and earth in this elegantly restrained red wine. A blend of Cabernet Sauvignon, Syrah and Merlot, it offers a more muted expression of black fruit lifted by bright acidity and fine feathery tannins.                                                                                    & Motley Cru                                                              & 88 & 35 & New York            & North Fork of Long Island & Long Island    & Anna Lee C. Iijima & NA & Brooklyn Oenology 2012 Motley Cru Red (North Fork of Long Island)                                                         & Red Blend          & Brooklyn Oenology                        \\\\\n",
       "\t129037 & US      & A pulsing core of dried plum and black-cherry flavors marks this buxom Petit Verdot. While bold and brawny, a balsamic edge and fine tannins lend subtlety. Its rich, mouth-filling silkiness clings pleasantly on the finish.                                                                                                                                                         & Spotlight                                                               & 88 & 50 & New York            & North Fork of Long Island & Long Island    & Anna Lee C. Iijima & NA & Sannino 2013 Spotlight Petit Verdot (North Fork of Long Island)                                                           & Petit Verdot       & Sannino                                  \\\\\n",
       "\t129077 & Hungary & This off-dry, honeyed Tokaj wine has a penetrating minerality that extends from start to finish, with aromas of honeysuckle and fresh tangerine skin. Slightly dusty on the palate, it shows hints of dried herb and crushed stone, and it finishes on a delicate flower tone.                                                                                                         & 3 Puttonyos AszÃº                                                       & 87 & 20 & Tokaji              & NA                        & NA             & Anna Lee C. Iijima & NA & ChÃ¢teau Hellha 2002 3 Puttonyos AszÃº  (Tokaji)                                                                          & Tokaji             & ChÃ¢teau Hellha                          \\\\\n",
       "\t129079 & Romania & Cramele Recas's Dreamfish series of international varieties consistently offers bang for your buck, and this vintage of Cabernet Sauvignon is no exception. Rich, full bodied and easy drinking, this offers flavors of bright black cherry and berry, framed by notes of vanilla, toast and wet graphite.                                                                             & Dreamfish                                                               & 87 &  7 & Viile Timisului     & NA                        & NA             & Anna Lee C. Iijima & NA & Cramele Recas 2011 Dreamfish Cabernet Sauvignon (Viile Timisului)                                                         & Cabernet Sauvignon & Cramele Recas                            \\\\\n",
       "\t129091 & US      & The nose and palate are smoky and waxy, with a shimmer of petrol. The palate is brisk and lemony, with hints of citrus peel, nut oil and nut skin that linger on the long finish. This dry, savory Riesling is already showing signs of bottle age. Drink now.                                                                                                                         & Ingle Vineyard                                                          & 87 & 20 & New York            & Finger Lakes              & Finger Lakes   & Anna Lee C. Iijima & NA & Heron Hill 2010 Ingle Vineyard Riesling (Finger Lakes)                                                                    & Riesling           & Heron Hill                               \\\\\n",
       "\t129125 & US      & Laser-focused acidity adds polish to luscious sweet pear and tangerine flavors in this decadently sweet bottling. Delicately lacy in mouthfeel, it finishes with a savory dusting of pollen and crushed stones.                                                                                                                                                                        & Ingle Vineyard Icewine                                                  & 87 & 75 & New York            & Finger Lakes              & Finger Lakes   & Anna Lee C. Iijima & NA & Heron Hill 2010 Ingle Vineyard Icewine Riesling (Finger Lakes)                                                            & Riesling           & Heron Hill                               \\\\\n",
       "\t129293 & Germany & Rose petals and violet perfume this fragrant, voluptuously textured SpÃ¤tburgunder. It's ripe and approachable but structured by fine, firm tannins and sprightly acidity. Luscious streaks of blackberry and cherry nectar linger on the finish.                                                                                                                                      & RÃ¼desheim Berg Roseneck SpÃ¤tburgunder Trocken                         & 90 & 18 & Rheingau            & NA                        & NA             & Anna Lee C. Iijima & NA & Carl Ehrhard 2013 RÃ¼desheim Berg Roseneck SpÃ¤tburgunder Trocken Pinot Noir (Rheingau)                                   & Pinot Noir         & Carl Ehrhard                             \\\\\n",
       "\t129460 & US      & Somehow, winemaker Luca Paschina manages to make a Vermentino that will make you feel like you are sitting at a cafÃ© in Liguria. Lush aromatics of pear drop and canteloupe lead into flavors of lemon, green pear, snap pea, button mushroom and sea spray. Well-balanced, this is smooth and fresh, with hints of nuts on the long finish.                                          & Reserve                                                                 & 87 & 23 & Virginia            & Virginia                  & NA             & Carrie Dykes       & NA & Barboursville Vineyards 2015 Reserve Vermentino (Virginia)                                                                & Vermentino         & Barboursville Vineyards                  \\\\\n",
       "\t129609 & Romania & Hints of rose petals are a curious contrast to earthier scents of soil and beets on this full bodied, slightly chunky Romanian Merlot. Pleasant for everyday dining; flavors of charred wood and preserved plum would pair nicely with an assortment of smoked meats and cheeses.                                                                                                      & Vitis Metamorfosis                                                      & 84 & 15 & Dealu Mare          & NA                        & NA             & Anna Lee C. Iijima & NA & Cramele Halewood 2009 Vitis Metamorfosis Merlot (Dealu Mare)                                                              & Merlot             & Cramele Halewood                         \\\\\n",
       "\t129612 & Romania & Darkly toasted oak lends a veil of smoke and char to apple and lemon flavors in this dry, full-bodied Chardonnay. There are hints of stems and leaves on the midpalate, but overall, it's a well-composed wine with balanced acidity and alcohol.                                                                                                                                      & Terra Romana                                                            & 84 & 10 & Dealu Mare          & NA                        & NA             & Anna Lee C. Iijima & NA & SERVE 2010 Terra Romana Chardonnay (Dealu Mare)                                                                           & Chardonnay         & SERVE                                    \\\\\n",
       "\t129622 & Ukraine & Fresh apple notes on the nose of this off-dry sparkling are pretty, but hindered by whiffs of dust and green stems. Softly pÃ©tillant with a creamy, mouth-filling froth, it finishes with a pleasantly sweet note. An unusual blend of Pinot Franc, Chardonnay, Aligote and Riesling.                                                                                                 & KrimSekt White Collection Semi-Dry                                      & 84 & 13 & Ukraine             & NA                        & NA             & Anna Lee C. Iijima & NA & Artemovsk 2008 KrimSekt White Collection Semi-Dry Sparkling (Ukraine)                                                     & Sparkling Blend    & Artemovsk                                \\\\\n",
       "\t129625 & Romania & Exuberantly fragrant of ripe, tropical fruit and florals, this Romanian white blend veers towards confected, but it's pleasantly brisk and apple-y on the palate. A good apÃ©ritif for casual, weekday enjoyment.                                                                                                                                                                      & Single Vineyard Selection Scurta Vineyard Viognier-Tamaioasa Romaneasca & 84 & 12 & Dealurile Munteniei & NA                        & NA             & Anna Lee C. Iijima & NA & Cramele Halewood 2009 Single Vineyard Selection Scurta Vineyard Viognier-Tamaioasa Romaneasca White (Dealurile Munteniei) & White Blend        & Cramele Halewood                         \\\\\n",
       "\t129673 & Germany & More delicate in character than the Kiedrich Turmberg, this gossamer-light auslese balances slick honey, peach and yellow-cherry flavors against a backdrop of crystalline minerality. Nerve-racing acidity extends a long luscious finish.                                                                                                                                            & Kiedrich GrÃ¤fenberg Auslese                                            & 93 & 94 & Rheingau            & NA                        & NA             & Anna Lee C. Iijima & NA & Robert Weil 2014 Kiedrich GrÃ¤fenberg Auslese Riesling (Rheingau)                                                         & Riesling           & Robert Weil                              \\\\\n",
       "\t129677 & Germany & Electric acidity penetrates through this sumptuously fruity wine full of rich white-peach and grapefruit flavors. Vibrantly fresh and floral, it's sharpened by a razor's edge of minerality that lingers through the finish. It's gorgeous now for its ebullience and youth but should improve well into the 2020's.                                                                  & Schloss Reichartshausen SpÃ¤tlese                                       & 93 & 35 & Rheingau            & NA                        & NA             & Anna Lee C. Iijima & NA & Balthasar Ress 2015 Schloss Reichartshausen SpÃ¤tlese Riesling (Rheingau)                                                 & Riesling           & Balthasar Ress                           \\\\\n",
       "\t129684 & Germany & Breathtaking scents of white peach and blossom introduce this pristinely peachy wine. It's invigoratingly fresh, laced by a gossamer fringe of sweetness and vivacious lemon-lime acidity that lingers on and on. Delicately textured yet deeply penetrating.                                                                                                                          & SpÃ¤tlese                                                               & 93 & 31 & Rheingau            & NA                        & NA             & Anna Lee C. Iijima & NA & Schloss Vollrads 2014 SpÃ¤tlese Riesling (Rheingau)                                                                       & Riesling           & Schloss Vollrads                         \\\\\n",
       "\t129725 & Germany & Dusty mineral complexities juxtapose luscious melon, peach and Mandarin orange flavors in this dry-style blend of GewÃ¼rztraminer and Riesling. Perfumed on the nose and silky on the palate, it's a widely appealing wine with a brisk, composed finish. Drink now through 2020.                                                                                                      & Biodynamite                                                             & 90 & 27 & Pfalz               & NA                        & NA             & Anna Lee C. Iijima & NA & PflÃ¼ger 2015 Biodynamite White (Pfalz)                                                                                   & White Blend        & PflÃ¼ger                                 \\\\\n",
       "\t129750 & US      & Hints of crushed stones lend a mineral focus to this dry, elegantly structured wine. It's piercingly tart on the palate with loads of fresh lime and lemon flavor, but gains richness on the midpalate with streaks of fresh apple and crisp yellow peach. A hint of saffron adds spice to the moderately long finish.                                                                 & Davis Vineyard Dry                                                      & 87 & 22 & New York            & Finger Lakes              & Finger Lakes   & Anna Lee C. Iijima & NA & Damiani 2012 Davis Vineyard Dry Riesling (Finger Lakes)                                                                   & Riesling           & Damiani                                  \\\\\n",
       "\t129769 & US      & Whiffs of crushed minerals and smoke lend nuance to this dry yet intensely fruity wine full of Meyer lemon, peach and melon flavors. It's brisk and dancing on the palate with a bracing hit of lime acidity that lingers towards a long, steely finish.                                                                                                                               & Randolph O'Neil Vineyard                                                & 87 & 25 & New York            & Cayuga Lake               & Finger Lakes   & Anna Lee C. Iijima & NA & Silver Thread 2012 Randolph O'Neil Vineyard Riesling (Cayuga Lake)                                                        & Riesling           & Silver Thread                            \\\\\n",
       "\t129799 & US      & Notes of honeysuckle, white peach and fresh green herb are intensely aromatic. This off-dry effort balances zippy, lemon-lime acidity with layers of ripe, rich fruit. It's lushly textured, yet it finishes delicately with a bristle of white-tea astringency.                                                                                                                       & Semi-Dry                                                                & 88 & 19 & New York            & Seneca Lake               & Finger Lakes   & Anna Lee C. Iijima & NA & Belhurst 2011 Semi-Dry Riesling (Seneca Lake)                                                                             & Riesling           & Belhurst                                 \\\\\n",
       "\t129911 & Germany & Sun-kissed nectarine, tangerine and grapefruit flavors abound in this exceptionally light-footed Riesling. Off-dry in style, it's juicy and forward yet spine-tingling and racy. The finish is pristine, dry and intensely mineral.                                                                                                                                                    & Bernkasteler Lay Kabinett                                               & 91 & 28 & Mosel               & NA                        & NA             & Anna Lee C. Iijima & NA & Dr. Loosen 2015 Bernkasteler Lay Kabinett Riesling (Mosel)                                                                & Riesling           & Dr. Loosen                               \\\\\n",
       "\t129912 & Germany & Dusty pollen and mineral notes lend spicy, savory complexity to zesty lemon-lime flavors in this Kabinett. Just a shade off-dry in style, it's vivacious and zippy, finishing on a lingering salty mineral tang.                                                                                                                                                                       & Ãœrziger WÃ¼rzgarten Kabinett                                           & 91 & 28 & Mosel               & NA                        & NA             & Anna Lee C. Iijima & NA & Dr. Loosen 2015 Ãœrziger WÃ¼rzgarten Kabinett Riesling (Mosel)                                                            & Riesling           & Dr. Loosen                               \\\\\n",
       "\t129947 & Germany & Plump, clingy peach and honey notes are cut with streaks of lime in this delicate yet intensely satisfying wine. Off dry in style, it's refreshingly juicy, with a rich, supple mouthfeel offset by bristling acidity.                                                                                                                                                                 & Dom                                                                     & 90 & 17 & Mosel               & NA                        & NA             & Anna Lee C. Iijima & NA & BischÃ¶fliche WeingÃ¼ter Trier 2013 Dom Riesling (Mosel)                                                                  & Riesling           & BischÃ¶fliche WeingÃ¼ter Trier           \\\\\n",
       "\t129967 & Germany & Notes of honeysuckle and cantaloupe sweeten this deliciously feather-light spÃ¤tlese. It's intensely juicy, quenching the palate with streams of tart tangerine and grapefruit acidity, yet wraps up with a kiss of honey and peach.                                                                                                                                                   & Brauneberger Juffer-Sonnenuhr SpÃ¤tlese                                 & 90 & 28 & Mosel               & NA                        & NA             & Anna Lee C. Iijima & NA & Dr. H. Thanisch (Erben MÃ¼ller-Burggraef) 2013 Brauneberger Juffer-Sonnenuhr SpÃ¤tlese Riesling (Mosel)                   & Riesling           & Dr. H. Thanisch (Erben MÃ¼ller-Burggraef)\\\\\n",
       "\\end{tabular}\n"
      ],
      "text/markdown": [
       "\n",
       "A data.frame: 3833 × 13\n",
       "\n",
       "| <!--/--> | country &lt;chr&gt; | description &lt;chr&gt; | designation &lt;chr&gt; | points &lt;int&gt; | price &lt;dbl&gt; | province &lt;chr&gt; | region_1 &lt;chr&gt; | region_2 &lt;chr&gt; | taster_name &lt;chr&gt; | taster_twitter_handle &lt;chr&gt; | title &lt;chr&gt; | variety &lt;chr&gt; | winery &lt;chr&gt; |\n",
       "|---|---|---|---|---|---|---|---|---|---|---|---|---|---|\n",
       "| 4 | US      | Pineapple rind, lemon pith and orange blossom start off the aromas. The palate is a bit more opulent, with notes of honey-drizzled guava and mango giving way to a slightly astringent, semidry finish.                                                                                                                                                                        | Reserve Late Harvest                                | 87 |  13 | Michigan    | Lake Michigan Shore       | NA             | Alexander Peartree | NA | St. Julian 2013 Reserve Late Harvest Riesling (Lake Michigan Shore)                                  | Riesling        | St. Julian                 |\n",
       "| 9 | Germany | Savory dried thyme notes accent sunnier flavors of preserved peach in this brisk, off-dry wine. It's fruity and fresh, with an elegant, sprightly footprint.                                                                                                                                                                                                                   | Shine                                               | 87 |  12 | Rheinhessen | NA                        | NA             | Anna Lee C. Iijima | NA | Heinz Eifel 2013 Shine GewÃ¼rztraminer (Rheinhessen)                                                 | GewÃ¼rztraminer | Heinz Eifel                |\n",
       "| 16 | Germany | Zesty orange peels and apple notes abound in this sprightly, mineral-toned Riesling. Off dry on the palate, yet racy and lean, it's a refreshing, easy quaffer with wide appeal.                                                                                                                                                                                               | Devon                                               | 87 |  24 | Mosel       | NA                        | NA             | Anna Lee C. Iijima | NA | Richard BÃ¶cking 2013 Devon Riesling (Mosel)                                                         | Riesling        | Richard BÃ¶cking           |\n",
       "| 21 | US      | Ripe aromas of dark berries mingle with ample notes of black pepper, toasted vanilla and dusty tobacco. The palate is oak-driven in nature, but notes of tart red currant shine through, offering a bit of levity.                                                                                                                                                             | Vin de Maison                                       | 87 |  23 | Virginia    | Virginia                  | NA             | Alexander Peartree | NA | QuiÃ©vremont 2012 Vin de Maison Red (Virginia)                                                       | Red Blend       | QuiÃ©vremont               |\n",
       "| 86 | Germany | Pronounced dust, pollen and earth tones lend savoriness to this otherwise citrusy wine. Racy acidity and fresh tangerine and lemon flavors turn herbal on the finish. Drink now.                                                                                                                                                                                               | Undone Dry                                          | 86 |  10 | Rheinhessen | NA                        | NA             | Anna Lee C. Iijima | NA | P.J. Valckenberg 2015 Undone Dry Riesling (Rheinhessen)                                              | Riesling        | P.J. Valckenberg           |\n",
       "| 98 | US      | A wisp of bramble extends a savory tone from nose to finish on this otherwise bright bristling wine. Delicate honey tones register as off dry on the palate but balance neatly alongside flavors of freshly pressed apples and pears. The finish is marked by a touch of pencil lead. Drink now through 2020.                                                                  | Ingle Vineyard                                      | 88 |  20 | New York    | Finger Lakes              | Finger Lakes   | Anna Lee C. Iijima | NA | Heron Hill 2015 Ingle Vineyard Riesling (Finger Lakes)                                               | Riesling        | Heron Hill                 |\n",
       "| 102 | US      | Dusty mineral, smoke and struck flint lend a savory tone to this lean light-bodied Riesling. Off dry in style, the palate offers delicately concentrated flavors of red apple and nectarine off set by tangerine acidity. Drink now through 2021.                                                                                                                              | Red Oak Vineyard                                    | 87 |  20 | New York    | Finger Lakes              | Finger Lakes   | Anna Lee C. Iijima | NA | Lamoreaux Landing 2014 Red Oak Vineyard Riesling (Finger Lakes)                                      | Riesling        | Lamoreaux Landing          |\n",
       "| 103 | US      | Intensely smoky tones of struck flint and ash extend throughout this otherwise bright nimble Riesling. The palate boasts freshly pressed apple and pear flavors accentuated by zippy lemon-lime acidity. Drink now through 2021.                                                                                                                                               | Yellow Dog Vineyard                                 | 87 |  20 | New York    | Finger Lakes              | Finger Lakes   | Anna Lee C. Iijima | NA | Lamoreaux Landing 2014 Yellow Dog Vineyard Riesling (Finger Lakes)                                   | Riesling        | Lamoreaux Landing          |\n",
       "| 149 | Germany | Crisp, pristine peach and apricot notes resonate through the nose and palate of this fresh, blossomy dry Riesling. While zesty and lithe in body, ripe grapefruit and melon flavors feel supple and silky on the palate. Drink now through 2019.                                                                                                                               | Dry                                                 | 91 |  16 | Rheinhessen | NA                        | NA             | Anna Lee C. Iijima | NA | Weingut Liebfrauenstift 2014 Dry Riesling (Rheinhessen)                                              | Riesling        | Weingut Liebfrauenstift    |\n",
       "| 157 | Germany | Approachably fruity yet nuanced and electrifying, there's exceptional value here. High-intensity flavors of tangerine and stone fruit sweeten the palate, balanced by nerve-tingling acidity and deep ripples of slate, salt and honeycomb. It's an intensely zesty wine, but the finish has length and power.                                                                 | Graacher Himmelreich SpÃ¤tlese                      | 91 |  14 | Mosel       | NA                        | NA             | Anna Lee C. Iijima | NA | Carl Graff 2014 Graacher Himmelreich SpÃ¤tlese Riesling (Mosel)                                      | Riesling        | Carl Graff                 |\n",
       "| 171 | Germany | Fresh and fragrant of blossoms, tart yellow peach and apricot, this off-dry Riesling maintains a crystalline fruit purity that persists throughout Fritz Haag's wines. It's invigorating and irresistably quaffable. The long, melon-rind finish is lip smacking.                                                                                                              | Brauneberger Feinherb                               | 91 |  30 | Mosel       | NA                        | NA             | Anna Lee C. Iijima | NA | Fritz Haag 2014 Brauneberger Feinherb Riesling (Mosel)                                               | Riesling        | Fritz Haag                 |\n",
       "| 348 | Germany | Dusty, saffron-spiced earthiness is juxtaposed against intense mango and tangerine fruitiness in this deeply complex wine. It's unctuously sweet, but balanced by a piercing streak of acidity that penetrates through the midpalate. Spry and silken, it finishes on a long lingering whisper of honey and peach.                                                             | Kiedrich GrÃ¤fenberg Trockenbeerenauslese           | 97 | 775 | Rheingau    | NA                        | NA             | Anna Lee C. Iijima | NA | Robert Weil 2014 Kiedrich GrÃ¤fenberg Trockenbeerenauslese Riesling (Rheingau)                       | Riesling        | Robert Weil                |\n",
       "| 355 | Germany | Whiffs of white mushroom, saffron and caramel lend complexity to this concentrated elixir of apricots and orange peels. It's honeyed and sweet but vivaciously balanced, glazing the palate in ethereal textures of gossamer and tulle. The caramel finish lingers endlessly.                                                                                                  | Kiedrich GrÃ¤fenberg Beerenauslese                  | 96 | 365 | Rheingau    | NA                        | NA             | Anna Lee C. Iijima | NA | Robert Weil 2014 Kiedrich GrÃ¤fenberg Beerenauslese Riesling (Rheingau)                              | Riesling        | Robert Weil                |\n",
       "| 359 | Germany | Intensely fragrant, this honey-sweet auslese wafts of ripe yellow peaches and caramelized sugar. Tropical mango, pineapple and melon collide on the palate before falling neatly in line against a strike of high-toned acidity. The finish is luxuriously long, peppered by a faint dusting of saffron. It's a stunner already but should shine brightly for decades to come. | Hattenheimer Hassel Auslese                         | 95 |  66 | Rheingau    | NA                        | NA             | Anna Lee C. Iijima | NA | Weingut Hans Bausch 2011 Hattenheimer Hassel Auslese Riesling (Rheingau)                             | Riesling        | Weingut Hans Bausch        |\n",
       "| 426 | US      | Blossom and berry notes are accented by hints of smoked nut in this refreshingly light-bodied wine. Zesty and lithe on the palate, it's an ideal summer-to-fall apÃ©ritif or porch sipper. The moderately long finish is marked with a hint of waxy florals.                                                                                                                   | Bridge Lane                                         | 89 |  18 | New York    | New York                  | New York Other | Anna Lee C. Iijima | NA | Lieb 2015 Bridge Lane RosÃ© (New York)                                                               | RosÃ©           | Lieb                       |\n",
       "| 428 | US      | A touch blossomy against a core of ripe raspberry and cherry perfume, the nose on this traditional-method Pinot Noir sparkler is particularly alluring. The palate is elegant and fresh, marked by fine, mouthfilling mousse and delicate raspberry-candy finish.                                                                                                              | CuvÃ©e Gabriella Brut RosÃ©                         | 89 |  35 | New York    | North Fork of Long Island | Long Island    | Anna Lee C. Iijima | NA | Macari 2010 CuvÃ©e Gabriella Brut RosÃ© Sparkling (North Fork of Long Island)                        | Sparkling Blend | Macari                     |\n",
       "| 443 | US      | Voluptuous blackberry and plum flavors are edged by hints of bitter coffee and spice in this richly bodied wine. Fringed by a bare feather of tannins, it's luscious in mouthfeel, with an unctuousness that persists luxuriously on the palate.                                                                                                                               | Caya                                                | 89 |  35 | New York    | Long Island               | Long Island    | Anna Lee C. Iijima | NA | WÃ¶lffer 2013 Caya Cabernet Franc (Long Island)                                                      | Cabernet Franc  | WÃ¶lffer                   |\n",
       "| 465 | Germany | Richly textured and unabashedly full in body, this dry Riesling is intensely ripe. Pineapple and peach flavor is accented by zesty lime peel and earthy tones of wet stone and lanolin. The midpalate is lifted by a whiff of violet perfume and bold, lemon-lime acidity envigorates the finish.                                                                              | Westhofen Morstein GG Trocken                       | 92 | 115 | Rheinhessen | NA                        | NA             | Anna Lee C. Iijima | NA | Wittmann 2011 Westhofen Morstein GG Trocken Riesling (Rheinhessen)                                   | Riesling        | Wittmann                   |\n",
       "| 469 | Germany | The nose of this powerfully fruity yet dry Riesling packs a punch, with aromas of ripe pineapple, apricot and floral potpourri. The palate is dense with stone fruit, and a hint of red berry flavor, but finishes elegantly with sleek mineral tones.                                                                                                                         | Ãœrziger WÃ¼rzgarten Alte Reben GG Trocken          | 92 |  42 | Mosel       | NA                        | NA             | Anna Lee C. Iijima | NA | Dr. Loosen 2011 Ãœrziger WÃ¼rzgarten Alte Reben GG Trocken Riesling (Mosel)                          | Riesling        | Dr. Loosen                 |\n",
       "| 470 | Germany | Lanolin and honeycomb notes lend a minerally feel to rich, lusciously concentrated peach and tangerine flavors in this powerful yet finely structured kabinett. A hint of spritz and shocking lemon-lime acidity lead the way to a long, elegant finish.                                                                                                                       | Wehlener Sonnenuhr Kabinett                         | 92 |  27 | Mosel       | NA                        | NA             | Anna Lee C. Iijima | NA | Dr. Loosen 2011 Wehlener Sonnenuhr Kabinett Riesling (Mosel)                                         | Riesling        | Dr. Loosen                 |\n",
       "| 528 | Germany | A surprising whiff of black currant on the nose of this elegant white points to Scheurebeâ€”one of Germany's lesser-known grapes. Wittmann's version is particularly poised, offering loads of peach and grapefruit flavors, sharply contrasted by zesty lime and mineral tones. The finish is long and sleek, touched by a hint of bee pollen.                                | Trocken                                             | 91 |  30 | Rheinhessen | NA                        | NA             | Anna Lee C. Iijima | NA | Wittmann 2015 Trocken Scheurebe (Rheinhessen)                                                        | Scheurebe       | Wittmann                   |\n",
       "| 536 | Germany | Fresh green apple and grapefruit aromas are bolstered on the palate of this dry, elegantly balanced Riesling. It's light bodied yet delightfully creamy. A kiss of tangerine zest marks its moderately long finish.                                                                                                                                                            | Trocken                                             | 91 |  22 | Mosel       | NA                        | NA             | Anna Lee C. Iijima | NA | Maximin GrÃ¼nhÃ¤user 2015 Trocken Riesling (Mosel)                                                   | Riesling        | Maximin GrÃ¼nhÃ¤user       |\n",
       "| 578 | US      | Ripe luscious black-cherry and berry notes lend heft to this bold concentrated rosÃ©. It's just a shade off dry, but balances neatly, juxtaposing crisp acidity against lavish texture and a pleasantly clingy finish.                                                                                                                                                         | Pinot Noir                                          | 89 |  17 | New York    | Finger Lakes              | Finger Lakes   | Anna Lee C. Iijima | NA | Chateau Lafayette Reneau 2016 Pinot Noir RosÃ© (Finger Lakes)                                        | RosÃ©           | Chateau Lafayette Reneau   |\n",
       "| 649 | Germany | A spray of rose petals perfumes this aromatic spÃ¤tlese. Its freshness is exhilarating, contrasting lavish layers of honey and marmalade against the sharp bites of pineapple, tangerine and lemon. Cutting and spry, yet deeply penetrating, it finishes on a lingering pollen note.                                                                                          | Brauneberger Juffer-Sonnenuhr SpÃ¤tlese Grosse Lage | 92 |  34 | Mosel       | NA                        | NA             | Anna Lee C. Iijima | NA | Reichsgraf von Kesselstatt 2014 Brauneberger Juffer-Sonnenuhr SpÃ¤tlese Grosse Lage Riesling (Mosel) | Riesling        | Reichsgraf von Kesselstatt |\n",
       "| 669 | US      | While dry in style, this lithe, delicately framed Riesling packs a punch of ripe, rich tropical fruit. It's blossomy and buoyantly fruity, yet brashly mineral as well. Made using â€œvirgin berriesâ€, uniquely seedless grapes with a tendency towards exuberant aroma and flavor concentration.                                                                            | Virgin Berry                                        | 90 |  26 | New York    | North Fork of Long Island | Long Island    | Anna Lee C. Iijima | NA | Raphael 2014 Virgin Berry Riesling (North Fork of Long Island)                                       | Riesling        | Raphael                    |\n",
       "| 673 | US      | Similarly to it's Virgin Berry sibling, Roth's regular label Dry Riesling has a distinctly green, woodsy tone lending an alpine feel to sweet-tart peach and apricot flavors. It's brisk and fine-footed, yet zesty tangerine and grapefruit acidity persist long on the finish.                                                                                               | Dry                                                 | 90 |  26 | New York    | Long Island               | Long Island    | Anna Lee C. Iijima | NA | The Grapes of Roth 2014 Dry Riesling (Long Island)                                                   | Riesling        | The Grapes of Roth         |\n",
       "| 725 | US      | Peach, banana peel and a slight petrol note show mildly on the nose. The round palate boasts tart peach, pineapple rind and bitter lemon zest.                                                                                                                                                                                                                                 | Mont Sec Vineyards                                  | 85 |  14 | Texas       | Texas                     | NA             | Alexander Peartree | NA | Mont Sec 2015 Mont Sec Vineyards Viognier (Texas)                                                    | Viognier        | Mont Sec                   |\n",
       "| 749 | US      | The sweet scent of raspberry and strawberry preserves waft from this Cab Franc icewine from Casa Larga. On the palate as well, there's a nice concentration of preserved berry flavors that soar on the palate with a bright, sunny acidity. Finishes clean and long with just a hint of autumn leaves and bramble.                                                            | Fiori Delle Stelle Ice Wine                         | 87 |  75 | New York    | Finger Lakes              | Finger Lakes   | Anna Lee C. Iijima | NA | Casa Larga 2008 Fiori Delle Stelle Ice Wine Cabernet Franc (Finger Lakes)                            | Cabernet Franc  | Casa Larga                 |\n",
       "| 790 | Germany | Fragrant notes of tangerine and yuzu peel abound on this citrusy dry Riesling. The palate is cutting and fresh, full of juicy white grapefruit and lime flavors. Light bodied yet satisfyingly thirst quenching, it finishes long with invigorating minerality.                                                                                                                | Apollo Dry                                          | 90 |  29 | Mosel       | NA                        | NA             | Anna Lee C. Iijima | NA | Von Schleinitz 2015 Apollo Dry Riesling (Mosel)                                                      | Riesling        | Von Schleinitz             |\n",
       "| 812 | Germany | White blossom perfume accents notes of fresh lemon, lime and green melon in this aromatic Silvaner. While dry in style, it's refreshingly juicy on the palate, bursting with pristine citrus flavor tinged by edges of lime and lemon pith. Mouth filling and rich in texture, it clings lusciously through a long finish.                                                     | Castell                                             | 90 |  16 | Franken     | NA                        | NA             | Anna Lee C. Iijima | NA | Castell 2015 Castell Silvaner (Franken)                                                              | Silvaner        | Castell                    |\n",
       "| ... | ... | ... | ... | ... | ... | ... | ... | ... | ... | ... | ... | ... | ... |\n",
       "| 128551 | US      | Zesty lime and floral notes accent penetrating grapefruit flavors on this delicate semidry Riesling. Zippy with acidity and brisk, wet-stone minerality, it's a fabulous find that's exceptionally easy on the wallet.                                                                                                                                                                 | Semi-Dry                                                                | 89 | 14 | New York            | Finger Lakes              | Finger Lakes   | Anna Lee C. Iijima | NA | Red Newt Cellars 2011 Semi-Dry Riesling (Finger Lakes)                                                                    | Riesling           | Red Newt Cellars                          |\n",
       "| 128566 | US      | Yellow cherry and blossom notes soften the bracing lemon-lime backbone in this light-footed dry Riesling. Crisp honeydew and quince flavors are sprightly and bright, finishing brisk and clean.                                                                                                                                                                                       | Dry                                                                     | 87 | 17 | New York            | Finger Lakes              | Finger Lakes   | Anna Lee C. Iijima | NA | Hazlitt 1852 Vineyards 2013 Dry Riesling (Finger Lakes)                                                                   | Riesling           | Hazlitt 1852 Vineyards                    |\n",
       "| 128577 | US      | Peach and steely lemon aromas carry to a citrus-diven palate offering a slight impression of oak. Medium bodied, this Chardonnay shows a nice balance of fruit and oak tones, leading to a toasty finish.                                                                                                                                                                              | Reserve                                                                 | 87 | 28 | Virginia            | Monticello                | NA             | Alexander Peartree | NA | Pollak 2012 Reserve Chardonnay (Monticello)                                                                               | Chardonnay         | Pollak                                    |\n",
       "| 128667 | US      | Orange blossoms, grapefruit piths and freshly cut pineapple explode on the nose of this perfumed, yet impeccably elegant Riesling. It's gossamer-light in texture, but deeply concentrated with generous streaks of ripe yellow peach and tangerine. A bristle of bitter lime zest accompanies a long finish. Gorgeous now but substantial enough to mature well though at least 2023. | Sawmill Creek Vineyards Dry                                             | 90 | 16 | New York            | Finger Lakes              | Finger Lakes   | Anna Lee C. Iijima | NA | Billsboro 2013 Sawmill Creek Vineyards Dry Riesling (Finger Lakes)                                                        | Riesling           | Billsboro                                 |\n",
       "| 128729 | US      | Boundary Breaks is an exciting new project from the Finger Lakes, and the No. 239 is one of its best. While ebulliently fruity, almost tropical, on the nose, it's elegantly dry on the palate with a rich, creamy palate full of ripe grapefruit and peach flavors. Vibrant lemon-lime acidity, it finishes long with a hint of lime-skin pith.                                       | No. 239 Dry                                                             | 90 | 22 | New York            | Finger Lakes              | Finger Lakes   | Anna Lee C. Iijima | NA | Boundary Breaks 2011 No. 239 Dry Riesling (Finger Lakes)                                                                  | Riesling           | Boundary Breaks                           |\n",
       "| 128808 | US      | Musky violet perfume and dusty mineral tones collide on the nose of this slightly sweet GewÃ¼rztraminer. Deft body and fresh tangerine and grapefruit flavors are pleasing but the finish is a bit earthy and muddy.                                                                                                                                                                   | Million Dollar Beach                                                    | 85 | 16 | New York            | New York                  | New York Other | Anna Lee C. Iijima | NA | Adirondack Winery 2016 Million Dollar Beach Gewurztraminer (New York)                                                     | GewÃ¼rztraminer    | Adirondack Winery                         |\n",
       "| 128847 | US      | Made from a blend of grapes from the estate's top vineyards, this vivacious dry Riesling balances crisp mineral tones against ripe, tropical notes of mango, pineapple and melon. It's lusciously mouthcoating yet cut with strikes of tangerine and lime. Delightful now, but structured enough to improve through at least 2023.                                                     | Reserve Dry                                                             | 92 | 29 | New York            | Seneca Lake               | Finger Lakes   | Anna Lee C. Iijima | NA | Hermann J. Wiemer 2013 Reserve Dry Riesling (Seneca Lake)                                                                 | Riesling           | Hermann J. Wiemer                         |\n",
       "| 129011 | US      | Blackberry and cherry go toe-to-toe with a dark, savory element full of granite, dusty herbs and earth in this elegantly restrained red wine. A blend of Cabernet Sauvignon, Syrah and Merlot, it offers a more muted expression of black fruit lifted by bright acidity and fine feathery tannins.                                                                                    | Motley Cru                                                              | 88 | 35 | New York            | North Fork of Long Island | Long Island    | Anna Lee C. Iijima | NA | Brooklyn Oenology 2012 Motley Cru Red (North Fork of Long Island)                                                         | Red Blend          | Brooklyn Oenology                         |\n",
       "| 129037 | US      | A pulsing core of dried plum and black-cherry flavors marks this buxom Petit Verdot. While bold and brawny, a balsamic edge and fine tannins lend subtlety. Its rich, mouth-filling silkiness clings pleasantly on the finish.                                                                                                                                                         | Spotlight                                                               | 88 | 50 | New York            | North Fork of Long Island | Long Island    | Anna Lee C. Iijima | NA | Sannino 2013 Spotlight Petit Verdot (North Fork of Long Island)                                                           | Petit Verdot       | Sannino                                   |\n",
       "| 129077 | Hungary | This off-dry, honeyed Tokaj wine has a penetrating minerality that extends from start to finish, with aromas of honeysuckle and fresh tangerine skin. Slightly dusty on the palate, it shows hints of dried herb and crushed stone, and it finishes on a delicate flower tone.                                                                                                         | 3 Puttonyos AszÃº                                                       | 87 | 20 | Tokaji              | NA                        | NA             | Anna Lee C. Iijima | NA | ChÃ¢teau Hellha 2002 3 Puttonyos AszÃº  (Tokaji)                                                                          | Tokaji             | ChÃ¢teau Hellha                           |\n",
       "| 129079 | Romania | Cramele Recas's Dreamfish series of international varieties consistently offers bang for your buck, and this vintage of Cabernet Sauvignon is no exception. Rich, full bodied and easy drinking, this offers flavors of bright black cherry and berry, framed by notes of vanilla, toast and wet graphite.                                                                             | Dreamfish                                                               | 87 |  7 | Viile Timisului     | NA                        | NA             | Anna Lee C. Iijima | NA | Cramele Recas 2011 Dreamfish Cabernet Sauvignon (Viile Timisului)                                                         | Cabernet Sauvignon | Cramele Recas                             |\n",
       "| 129091 | US      | The nose and palate are smoky and waxy, with a shimmer of petrol. The palate is brisk and lemony, with hints of citrus peel, nut oil and nut skin that linger on the long finish. This dry, savory Riesling is already showing signs of bottle age. Drink now.                                                                                                                         | Ingle Vineyard                                                          | 87 | 20 | New York            | Finger Lakes              | Finger Lakes   | Anna Lee C. Iijima | NA | Heron Hill 2010 Ingle Vineyard Riesling (Finger Lakes)                                                                    | Riesling           | Heron Hill                                |\n",
       "| 129125 | US      | Laser-focused acidity adds polish to luscious sweet pear and tangerine flavors in this decadently sweet bottling. Delicately lacy in mouthfeel, it finishes with a savory dusting of pollen and crushed stones.                                                                                                                                                                        | Ingle Vineyard Icewine                                                  | 87 | 75 | New York            | Finger Lakes              | Finger Lakes   | Anna Lee C. Iijima | NA | Heron Hill 2010 Ingle Vineyard Icewine Riesling (Finger Lakes)                                                            | Riesling           | Heron Hill                                |\n",
       "| 129293 | Germany | Rose petals and violet perfume this fragrant, voluptuously textured SpÃ¤tburgunder. It's ripe and approachable but structured by fine, firm tannins and sprightly acidity. Luscious streaks of blackberry and cherry nectar linger on the finish.                                                                                                                                      | RÃ¼desheim Berg Roseneck SpÃ¤tburgunder Trocken                         | 90 | 18 | Rheingau            | NA                        | NA             | Anna Lee C. Iijima | NA | Carl Ehrhard 2013 RÃ¼desheim Berg Roseneck SpÃ¤tburgunder Trocken Pinot Noir (Rheingau)                                   | Pinot Noir         | Carl Ehrhard                              |\n",
       "| 129460 | US      | Somehow, winemaker Luca Paschina manages to make a Vermentino that will make you feel like you are sitting at a cafÃ© in Liguria. Lush aromatics of pear drop and canteloupe lead into flavors of lemon, green pear, snap pea, button mushroom and sea spray. Well-balanced, this is smooth and fresh, with hints of nuts on the long finish.                                          | Reserve                                                                 | 87 | 23 | Virginia            | Virginia                  | NA             | Carrie Dykes       | NA | Barboursville Vineyards 2015 Reserve Vermentino (Virginia)                                                                | Vermentino         | Barboursville Vineyards                   |\n",
       "| 129609 | Romania | Hints of rose petals are a curious contrast to earthier scents of soil and beets on this full bodied, slightly chunky Romanian Merlot. Pleasant for everyday dining; flavors of charred wood and preserved plum would pair nicely with an assortment of smoked meats and cheeses.                                                                                                      | Vitis Metamorfosis                                                      | 84 | 15 | Dealu Mare          | NA                        | NA             | Anna Lee C. Iijima | NA | Cramele Halewood 2009 Vitis Metamorfosis Merlot (Dealu Mare)                                                              | Merlot             | Cramele Halewood                          |\n",
       "| 129612 | Romania | Darkly toasted oak lends a veil of smoke and char to apple and lemon flavors in this dry, full-bodied Chardonnay. There are hints of stems and leaves on the midpalate, but overall, it's a well-composed wine with balanced acidity and alcohol.                                                                                                                                      | Terra Romana                                                            | 84 | 10 | Dealu Mare          | NA                        | NA             | Anna Lee C. Iijima | NA | SERVE 2010 Terra Romana Chardonnay (Dealu Mare)                                                                           | Chardonnay         | SERVE                                     |\n",
       "| 129622 | Ukraine | Fresh apple notes on the nose of this off-dry sparkling are pretty, but hindered by whiffs of dust and green stems. Softly pÃ©tillant with a creamy, mouth-filling froth, it finishes with a pleasantly sweet note. An unusual blend of Pinot Franc, Chardonnay, Aligote and Riesling.                                                                                                 | KrimSekt White Collection Semi-Dry                                      | 84 | 13 | Ukraine             | NA                        | NA             | Anna Lee C. Iijima | NA | Artemovsk 2008 KrimSekt White Collection Semi-Dry Sparkling (Ukraine)                                                     | Sparkling Blend    | Artemovsk                                 |\n",
       "| 129625 | Romania | Exuberantly fragrant of ripe, tropical fruit and florals, this Romanian white blend veers towards confected, but it's pleasantly brisk and apple-y on the palate. A good apÃ©ritif for casual, weekday enjoyment.                                                                                                                                                                      | Single Vineyard Selection Scurta Vineyard Viognier-Tamaioasa Romaneasca | 84 | 12 | Dealurile Munteniei | NA                        | NA             | Anna Lee C. Iijima | NA | Cramele Halewood 2009 Single Vineyard Selection Scurta Vineyard Viognier-Tamaioasa Romaneasca White (Dealurile Munteniei) | White Blend        | Cramele Halewood                          |\n",
       "| 129673 | Germany | More delicate in character than the Kiedrich Turmberg, this gossamer-light auslese balances slick honey, peach and yellow-cherry flavors against a backdrop of crystalline minerality. Nerve-racing acidity extends a long luscious finish.                                                                                                                                            | Kiedrich GrÃ¤fenberg Auslese                                            | 93 | 94 | Rheingau            | NA                        | NA             | Anna Lee C. Iijima | NA | Robert Weil 2014 Kiedrich GrÃ¤fenberg Auslese Riesling (Rheingau)                                                         | Riesling           | Robert Weil                               |\n",
       "| 129677 | Germany | Electric acidity penetrates through this sumptuously fruity wine full of rich white-peach and grapefruit flavors. Vibrantly fresh and floral, it's sharpened by a razor's edge of minerality that lingers through the finish. It's gorgeous now for its ebullience and youth but should improve well into the 2020's.                                                                  | Schloss Reichartshausen SpÃ¤tlese                                       | 93 | 35 | Rheingau            | NA                        | NA             | Anna Lee C. Iijima | NA | Balthasar Ress 2015 Schloss Reichartshausen SpÃ¤tlese Riesling (Rheingau)                                                 | Riesling           | Balthasar Ress                            |\n",
       "| 129684 | Germany | Breathtaking scents of white peach and blossom introduce this pristinely peachy wine. It's invigoratingly fresh, laced by a gossamer fringe of sweetness and vivacious lemon-lime acidity that lingers on and on. Delicately textured yet deeply penetrating.                                                                                                                          | SpÃ¤tlese                                                               | 93 | 31 | Rheingau            | NA                        | NA             | Anna Lee C. Iijima | NA | Schloss Vollrads 2014 SpÃ¤tlese Riesling (Rheingau)                                                                       | Riesling           | Schloss Vollrads                          |\n",
       "| 129725 | Germany | Dusty mineral complexities juxtapose luscious melon, peach and Mandarin orange flavors in this dry-style blend of GewÃ¼rztraminer and Riesling. Perfumed on the nose and silky on the palate, it's a widely appealing wine with a brisk, composed finish. Drink now through 2020.                                                                                                      | Biodynamite                                                             | 90 | 27 | Pfalz               | NA                        | NA             | Anna Lee C. Iijima | NA | PflÃ¼ger 2015 Biodynamite White (Pfalz)                                                                                   | White Blend        | PflÃ¼ger                                  |\n",
       "| 129750 | US      | Hints of crushed stones lend a mineral focus to this dry, elegantly structured wine. It's piercingly tart on the palate with loads of fresh lime and lemon flavor, but gains richness on the midpalate with streaks of fresh apple and crisp yellow peach. A hint of saffron adds spice to the moderately long finish.                                                                 | Davis Vineyard Dry                                                      | 87 | 22 | New York            | Finger Lakes              | Finger Lakes   | Anna Lee C. Iijima | NA | Damiani 2012 Davis Vineyard Dry Riesling (Finger Lakes)                                                                   | Riesling           | Damiani                                   |\n",
       "| 129769 | US      | Whiffs of crushed minerals and smoke lend nuance to this dry yet intensely fruity wine full of Meyer lemon, peach and melon flavors. It's brisk and dancing on the palate with a bracing hit of lime acidity that lingers towards a long, steely finish.                                                                                                                               | Randolph O'Neil Vineyard                                                | 87 | 25 | New York            | Cayuga Lake               | Finger Lakes   | Anna Lee C. Iijima | NA | Silver Thread 2012 Randolph O'Neil Vineyard Riesling (Cayuga Lake)                                                        | Riesling           | Silver Thread                             |\n",
       "| 129799 | US      | Notes of honeysuckle, white peach and fresh green herb are intensely aromatic. This off-dry effort balances zippy, lemon-lime acidity with layers of ripe, rich fruit. It's lushly textured, yet it finishes delicately with a bristle of white-tea astringency.                                                                                                                       | Semi-Dry                                                                | 88 | 19 | New York            | Seneca Lake               | Finger Lakes   | Anna Lee C. Iijima | NA | Belhurst 2011 Semi-Dry Riesling (Seneca Lake)                                                                             | Riesling           | Belhurst                                  |\n",
       "| 129911 | Germany | Sun-kissed nectarine, tangerine and grapefruit flavors abound in this exceptionally light-footed Riesling. Off-dry in style, it's juicy and forward yet spine-tingling and racy. The finish is pristine, dry and intensely mineral.                                                                                                                                                    | Bernkasteler Lay Kabinett                                               | 91 | 28 | Mosel               | NA                        | NA             | Anna Lee C. Iijima | NA | Dr. Loosen 2015 Bernkasteler Lay Kabinett Riesling (Mosel)                                                                | Riesling           | Dr. Loosen                                |\n",
       "| 129912 | Germany | Dusty pollen and mineral notes lend spicy, savory complexity to zesty lemon-lime flavors in this Kabinett. Just a shade off-dry in style, it's vivacious and zippy, finishing on a lingering salty mineral tang.                                                                                                                                                                       | Ãœrziger WÃ¼rzgarten Kabinett                                           | 91 | 28 | Mosel               | NA                        | NA             | Anna Lee C. Iijima | NA | Dr. Loosen 2015 Ãœrziger WÃ¼rzgarten Kabinett Riesling (Mosel)                                                            | Riesling           | Dr. Loosen                                |\n",
       "| 129947 | Germany | Plump, clingy peach and honey notes are cut with streaks of lime in this delicate yet intensely satisfying wine. Off dry in style, it's refreshingly juicy, with a rich, supple mouthfeel offset by bristling acidity.                                                                                                                                                                 | Dom                                                                     | 90 | 17 | Mosel               | NA                        | NA             | Anna Lee C. Iijima | NA | BischÃ¶fliche WeingÃ¼ter Trier 2013 Dom Riesling (Mosel)                                                                  | Riesling           | BischÃ¶fliche WeingÃ¼ter Trier            |\n",
       "| 129967 | Germany | Notes of honeysuckle and cantaloupe sweeten this deliciously feather-light spÃ¤tlese. It's intensely juicy, quenching the palate with streams of tart tangerine and grapefruit acidity, yet wraps up with a kiss of honey and peach.                                                                                                                                                   | Brauneberger Juffer-Sonnenuhr SpÃ¤tlese                                 | 90 | 28 | Mosel               | NA                        | NA             | Anna Lee C. Iijima | NA | Dr. H. Thanisch (Erben MÃ¼ller-Burggraef) 2013 Brauneberger Juffer-Sonnenuhr SpÃ¤tlese Riesling (Mosel)                   | Riesling           | Dr. H. Thanisch (Erben MÃ¼ller-Burggraef) |\n",
       "\n"
      ],
      "text/plain": [
       "       country\n",
       "4      US     \n",
       "9      Germany\n",
       "16     Germany\n",
       "21     US     \n",
       "86     Germany\n",
       "98     US     \n",
       "102    US     \n",
       "103    US     \n",
       "149    Germany\n",
       "157    Germany\n",
       "171    Germany\n",
       "348    Germany\n",
       "355    Germany\n",
       "359    Germany\n",
       "426    US     \n",
       "428    US     \n",
       "443    US     \n",
       "465    Germany\n",
       "469    Germany\n",
       "470    Germany\n",
       "528    Germany\n",
       "536    Germany\n",
       "578    US     \n",
       "649    Germany\n",
       "669    US     \n",
       "673    US     \n",
       "725    US     \n",
       "749    US     \n",
       "790    Germany\n",
       "812    Germany\n",
       "...    ...    \n",
       "128551 US     \n",
       "128566 US     \n",
       "128577 US     \n",
       "128667 US     \n",
       "128729 US     \n",
       "128808 US     \n",
       "128847 US     \n",
       "129011 US     \n",
       "129037 US     \n",
       "129077 Hungary\n",
       "129079 Romania\n",
       "129091 US     \n",
       "129125 US     \n",
       "129293 Germany\n",
       "129460 US     \n",
       "129609 Romania\n",
       "129612 Romania\n",
       "129622 Ukraine\n",
       "129625 Romania\n",
       "129673 Germany\n",
       "129677 Germany\n",
       "129684 Germany\n",
       "129725 Germany\n",
       "129750 US     \n",
       "129769 US     \n",
       "129799 US     \n",
       "129911 Germany\n",
       "129912 Germany\n",
       "129947 Germany\n",
       "129967 Germany\n",
       "       description                                                                                                                                                                                                                                                                                                                                                                           \n",
       "4      Pineapple rind, lemon pith and orange blossom start off the aromas. The palate is a bit more opulent, with notes of honey-drizzled guava and mango giving way to a slightly astringent, semidry finish.                                                                                                                                                                               \n",
       "9      Savory dried thyme notes accent sunnier flavors of preserved peach in this brisk, off-dry wine. It's fruity and fresh, with an elegant, sprightly footprint.                                                                                                                                                                                                                          \n",
       "16     Zesty orange peels and apple notes abound in this sprightly, mineral-toned Riesling. Off dry on the palate, yet racy and lean, it's a refreshing, easy quaffer with wide appeal.                                                                                                                                                                                                      \n",
       "21     Ripe aromas of dark berries mingle with ample notes of black pepper, toasted vanilla and dusty tobacco. The palate is oak-driven in nature, but notes of tart red currant shine through, offering a bit of levity.                                                                                                                                                                    \n",
       "86     Pronounced dust, pollen and earth tones lend savoriness to this otherwise citrusy wine. Racy acidity and fresh tangerine and lemon flavors turn herbal on the finish. Drink now.                                                                                                                                                                                                      \n",
       "98     A wisp of bramble extends a savory tone from nose to finish on this otherwise bright bristling wine. Delicate honey tones register as off dry on the palate but balance neatly alongside flavors of freshly pressed apples and pears. The finish is marked by a touch of pencil lead. Drink now through 2020.                                                                         \n",
       "102    Dusty mineral, smoke and struck flint lend a savory tone to this lean light-bodied Riesling. Off dry in style, the palate offers delicately concentrated flavors of red apple and nectarine off set by tangerine acidity. Drink now through 2021.                                                                                                                                     \n",
       "103    Intensely smoky tones of struck flint and ash extend throughout this otherwise bright nimble Riesling. The palate boasts freshly pressed apple and pear flavors accentuated by zippy lemon-lime acidity. Drink now through 2021.                                                                                                                                                      \n",
       "149    Crisp, pristine peach and apricot notes resonate through the nose and palate of this fresh, blossomy dry Riesling. While zesty and lithe in body, ripe grapefruit and melon flavors feel supple and silky on the palate. Drink now through 2019.                                                                                                                                      \n",
       "157    Approachably fruity yet nuanced and electrifying, there's exceptional value here. High-intensity flavors of tangerine and stone fruit sweeten the palate, balanced by nerve-tingling acidity and deep ripples of slate, salt and honeycomb. It's an intensely zesty wine, but the finish has length and power.                                                                        \n",
       "171    Fresh and fragrant of blossoms, tart yellow peach and apricot, this off-dry Riesling maintains a crystalline fruit purity that persists throughout Fritz Haag's wines. It's invigorating and irresistably quaffable. The long, melon-rind finish is lip smacking.                                                                                                                     \n",
       "348    Dusty, saffron-spiced earthiness is juxtaposed against intense mango and tangerine fruitiness in this deeply complex wine. It's unctuously sweet, but balanced by a piercing streak of acidity that penetrates through the midpalate. Spry and silken, it finishes on a long lingering whisper of honey and peach.                                                                    \n",
       "355    Whiffs of white mushroom, saffron and caramel lend complexity to this concentrated elixir of apricots and orange peels. It's honeyed and sweet but vivaciously balanced, glazing the palate in ethereal textures of gossamer and tulle. The caramel finish lingers endlessly.                                                                                                         \n",
       "359    Intensely fragrant, this honey-sweet auslese wafts of ripe yellow peaches and caramelized sugar. Tropical mango, pineapple and melon collide on the palate before falling neatly in line against a strike of high-toned acidity. The finish is luxuriously long, peppered by a faint dusting of saffron. It's a stunner already but should shine brightly for decades to come.        \n",
       "426    Blossom and berry notes are accented by hints of smoked nut in this refreshingly light-bodied wine. Zesty and lithe on the palate, it's an ideal summer-to-fall apÃ©ritif or porch sipper. The moderately long finish is marked with a hint of waxy florals.                                                                                                                          \n",
       "428    A touch blossomy against a core of ripe raspberry and cherry perfume, the nose on this traditional-method Pinot Noir sparkler is particularly alluring. The palate is elegant and fresh, marked by fine, mouthfilling mousse and delicate raspberry-candy finish.                                                                                                                     \n",
       "443    Voluptuous blackberry and plum flavors are edged by hints of bitter coffee and spice in this richly bodied wine. Fringed by a bare feather of tannins, it's luscious in mouthfeel, with an unctuousness that persists luxuriously on the palate.                                                                                                                                      \n",
       "465    Richly textured and unabashedly full in body, this dry Riesling is intensely ripe. Pineapple and peach flavor is accented by zesty lime peel and earthy tones of wet stone and lanolin. The midpalate is lifted by a whiff of violet perfume and bold, lemon-lime acidity envigorates the finish.                                                                                     \n",
       "469    The nose of this powerfully fruity yet dry Riesling packs a punch, with aromas of ripe pineapple, apricot and floral potpourri. The palate is dense with stone fruit, and a hint of red berry flavor, but finishes elegantly with sleek mineral tones.                                                                                                                                \n",
       "470    Lanolin and honeycomb notes lend a minerally feel to rich, lusciously concentrated peach and tangerine flavors in this powerful yet finely structured kabinett. A hint of spritz and shocking lemon-lime acidity lead the way to a long, elegant finish.                                                                                                                              \n",
       "528    A surprising whiff of black currant on the nose of this elegant white points to Scheurebeâ\\200”one of Germany's lesser-known grapes. Wittmann's version is particularly poised, offering loads of peach and grapefruit flavors, sharply contrasted by zesty lime and mineral tones. The finish is long and sleek, touched by a hint of bee pollen.                                       \n",
       "536    Fresh green apple and grapefruit aromas are bolstered on the palate of this dry, elegantly balanced Riesling. It's light bodied yet delightfully creamy. A kiss of tangerine zest marks its moderately long finish.                                                                                                                                                                   \n",
       "578    Ripe luscious black-cherry and berry notes lend heft to this bold concentrated rosÃ©. It's just a shade off dry, but balances neatly, juxtaposing crisp acidity against lavish texture and a pleasantly clingy finish.                                                                                                                                                                \n",
       "649    A spray of rose petals perfumes this aromatic spÃ¤tlese. Its freshness is exhilarating, contrasting lavish layers of honey and marmalade against the sharp bites of pineapple, tangerine and lemon. Cutting and spry, yet deeply penetrating, it finishes on a lingering pollen note.                                                                                                 \n",
       "669    While dry in style, this lithe, delicately framed Riesling packs a punch of ripe, rich tropical fruit. It's blossomy and buoyantly fruity, yet brashly mineral as well. Made using â\\200œvirgin berriesâ\\200\\235, uniquely seedless grapes with a tendency towards exuberant aroma and flavor concentration.                                                                                   \n",
       "673    Similarly to it's Virgin Berry sibling, Roth's regular label Dry Riesling has a distinctly green, woodsy tone lending an alpine feel to sweet-tart peach and apricot flavors. It's brisk and fine-footed, yet zesty tangerine and grapefruit acidity persist long on the finish.                                                                                                      \n",
       "725    Peach, banana peel and a slight petrol note show mildly on the nose. The round palate boasts tart peach, pineapple rind and bitter lemon zest.                                                                                                                                                                                                                                        \n",
       "749    The sweet scent of raspberry and strawberry preserves waft from this Cab Franc icewine from Casa Larga. On the palate as well, there's a nice concentration of preserved berry flavors that soar on the palate with a bright, sunny acidity. Finishes clean and long with just a hint of autumn leaves and bramble.                                                                   \n",
       "790    Fragrant notes of tangerine and yuzu peel abound on this citrusy dry Riesling. The palate is cutting and fresh, full of juicy white grapefruit and lime flavors. Light bodied yet satisfyingly thirst quenching, it finishes long with invigorating minerality.                                                                                                                       \n",
       "812    White blossom perfume accents notes of fresh lemon, lime and green melon in this aromatic Silvaner. While dry in style, it's refreshingly juicy on the palate, bursting with pristine citrus flavor tinged by edges of lime and lemon pith. Mouth filling and rich in texture, it clings lusciously through a long finish.                                                            \n",
       "...    ...                                                                                                                                                                                                                                                                                                                                                                                   \n",
       "128551 Zesty lime and floral notes accent penetrating grapefruit flavors on this delicate semidry Riesling. Zippy with acidity and brisk, wet-stone minerality, it's a fabulous find that's exceptionally easy on the wallet.                                                                                                                                                                \n",
       "128566 Yellow cherry and blossom notes soften the bracing lemon-lime backbone in this light-footed dry Riesling. Crisp honeydew and quince flavors are sprightly and bright, finishing brisk and clean.                                                                                                                                                                                      \n",
       "128577 Peach and steely lemon aromas carry to a citrus-diven palate offering a slight impression of oak. Medium bodied, this Chardonnay shows a nice balance of fruit and oak tones, leading to a toasty finish.                                                                                                                                                                             \n",
       "128667 Orange blossoms, grapefruit piths and freshly cut pineapple explode on the nose of this perfumed, yet impeccably elegant Riesling. It's gossamer-light in texture, but deeply concentrated with generous streaks of ripe yellow peach and tangerine. A bristle of bitter lime zest accompanies a long finish. Gorgeous now but substantial enough to mature well though at least 2023.\n",
       "128729 Boundary Breaks is an exciting new project from the Finger Lakes, and the No. 239 is one of its best. While ebulliently fruity, almost tropical, on the nose, it's elegantly dry on the palate with a rich, creamy palate full of ripe grapefruit and peach flavors. Vibrant lemon-lime acidity, it finishes long with a hint of lime-skin pith.                                      \n",
       "128808 Musky violet perfume and dusty mineral tones collide on the nose of this slightly sweet GewÃ¼rztraminer. Deft body and fresh tangerine and grapefruit flavors are pleasing but the finish is a bit earthy and muddy.                                                                                                                                                                  \n",
       "128847 Made from a blend of grapes from the estate's top vineyards, this vivacious dry Riesling balances crisp mineral tones against ripe, tropical notes of mango, pineapple and melon. It's lusciously mouthcoating yet cut with strikes of tangerine and lime. Delightful now, but structured enough to improve through at least 2023.                                                    \n",
       "129011 Blackberry and cherry go toe-to-toe with a dark, savory element full of granite, dusty herbs and earth in this elegantly restrained red wine. A blend of Cabernet Sauvignon, Syrah and Merlot, it offers a more muted expression of black fruit lifted by bright acidity and fine feathery tannins.                                                                                   \n",
       "129037 A pulsing core of dried plum and black-cherry flavors marks this buxom Petit Verdot. While bold and brawny, a balsamic edge and fine tannins lend subtlety. Its rich, mouth-filling silkiness clings pleasantly on the finish.                                                                                                                                                        \n",
       "129077 This off-dry, honeyed Tokaj wine has a penetrating minerality that extends from start to finish, with aromas of honeysuckle and fresh tangerine skin. Slightly dusty on the palate, it shows hints of dried herb and crushed stone, and it finishes on a delicate flower tone.                                                                                                        \n",
       "129079 Cramele Recas's Dreamfish series of international varieties consistently offers bang for your buck, and this vintage of Cabernet Sauvignon is no exception. Rich, full bodied and easy drinking, this offers flavors of bright black cherry and berry, framed by notes of vanilla, toast and wet graphite.                                                                            \n",
       "129091 The nose and palate are smoky and waxy, with a shimmer of petrol. The palate is brisk and lemony, with hints of citrus peel, nut oil and nut skin that linger on the long finish. This dry, savory Riesling is already showing signs of bottle age. Drink now.                                                                                                                        \n",
       "129125 Laser-focused acidity adds polish to luscious sweet pear and tangerine flavors in this decadently sweet bottling. Delicately lacy in mouthfeel, it finishes with a savory dusting of pollen and crushed stones.                                                                                                                                                                       \n",
       "129293 Rose petals and violet perfume this fragrant, voluptuously textured SpÃ¤tburgunder. It's ripe and approachable but structured by fine, firm tannins and sprightly acidity. Luscious streaks of blackberry and cherry nectar linger on the finish.                                                                                                                                     \n",
       "129460 Somehow, winemaker Luca Paschina manages to make a Vermentino that will make you feel like you are sitting at a cafÃ© in Liguria. Lush aromatics of pear drop and canteloupe lead into flavors of lemon, green pear, snap pea, button mushroom and sea spray. Well-balanced, this is smooth and fresh, with hints of nuts on the long finish.                                         \n",
       "129609 Hints of rose petals are a curious contrast to earthier scents of soil and beets on this full bodied, slightly chunky Romanian Merlot. Pleasant for everyday dining; flavors of charred wood and preserved plum would pair nicely with an assortment of smoked meats and cheeses.                                                                                                     \n",
       "129612 Darkly toasted oak lends a veil of smoke and char to apple and lemon flavors in this dry, full-bodied Chardonnay. There are hints of stems and leaves on the midpalate, but overall, it's a well-composed wine with balanced acidity and alcohol.                                                                                                                                     \n",
       "129622 Fresh apple notes on the nose of this off-dry sparkling are pretty, but hindered by whiffs of dust and green stems. Softly pÃ©tillant with a creamy, mouth-filling froth, it finishes with a pleasantly sweet note. An unusual blend of Pinot Franc, Chardonnay, Aligote and Riesling.                                                                                                \n",
       "129625 Exuberantly fragrant of ripe, tropical fruit and florals, this Romanian white blend veers towards confected, but it's pleasantly brisk and apple-y on the palate. A good apÃ©ritif for casual, weekday enjoyment.                                                                                                                                                                     \n",
       "129673 More delicate in character than the Kiedrich Turmberg, this gossamer-light auslese balances slick honey, peach and yellow-cherry flavors against a backdrop of crystalline minerality. Nerve-racing acidity extends a long luscious finish.                                                                                                                                           \n",
       "129677 Electric acidity penetrates through this sumptuously fruity wine full of rich white-peach and grapefruit flavors. Vibrantly fresh and floral, it's sharpened by a razor's edge of minerality that lingers through the finish. It's gorgeous now for its ebullience and youth but should improve well into the 2020's.                                                                 \n",
       "129684 Breathtaking scents of white peach and blossom introduce this pristinely peachy wine. It's invigoratingly fresh, laced by a gossamer fringe of sweetness and vivacious lemon-lime acidity that lingers on and on. Delicately textured yet deeply penetrating.                                                                                                                         \n",
       "129725 Dusty mineral complexities juxtapose luscious melon, peach and Mandarin orange flavors in this dry-style blend of GewÃ¼rztraminer and Riesling. Perfumed on the nose and silky on the palate, it's a widely appealing wine with a brisk, composed finish. Drink now through 2020.                                                                                                     \n",
       "129750 Hints of crushed stones lend a mineral focus to this dry, elegantly structured wine. It's piercingly tart on the palate with loads of fresh lime and lemon flavor, but gains richness on the midpalate with streaks of fresh apple and crisp yellow peach. A hint of saffron adds spice to the moderately long finish.                                                                \n",
       "129769 Whiffs of crushed minerals and smoke lend nuance to this dry yet intensely fruity wine full of Meyer lemon, peach and melon flavors. It's brisk and dancing on the palate with a bracing hit of lime acidity that lingers towards a long, steely finish.                                                                                                                              \n",
       "129799 Notes of honeysuckle, white peach and fresh green herb are intensely aromatic. This off-dry effort balances zippy, lemon-lime acidity with layers of ripe, rich fruit. It's lushly textured, yet it finishes delicately with a bristle of white-tea astringency.                                                                                                                      \n",
       "129911 Sun-kissed nectarine, tangerine and grapefruit flavors abound in this exceptionally light-footed Riesling. Off-dry in style, it's juicy and forward yet spine-tingling and racy. The finish is pristine, dry and intensely mineral.                                                                                                                                                   \n",
       "129912 Dusty pollen and mineral notes lend spicy, savory complexity to zesty lemon-lime flavors in this Kabinett. Just a shade off-dry in style, it's vivacious and zippy, finishing on a lingering salty mineral tang.                                                                                                                                                                      \n",
       "129947 Plump, clingy peach and honey notes are cut with streaks of lime in this delicate yet intensely satisfying wine. Off dry in style, it's refreshingly juicy, with a rich, supple mouthfeel offset by bristling acidity.                                                                                                                                                                \n",
       "129967 Notes of honeysuckle and cantaloupe sweeten this deliciously feather-light spÃ¤tlese. It's intensely juicy, quenching the palate with streams of tart tangerine and grapefruit acidity, yet wraps up with a kiss of honey and peach.                                                                                                                                                  \n",
       "       designation                                                            \n",
       "4      Reserve Late Harvest                                                   \n",
       "9      Shine                                                                  \n",
       "16     Devon                                                                  \n",
       "21     Vin de Maison                                                          \n",
       "86     Undone Dry                                                             \n",
       "98     Ingle Vineyard                                                         \n",
       "102    Red Oak Vineyard                                                       \n",
       "103    Yellow Dog Vineyard                                                    \n",
       "149    Dry                                                                    \n",
       "157    Graacher Himmelreich SpÃ¤tlese                                         \n",
       "171    Brauneberger Feinherb                                                  \n",
       "348    Kiedrich GrÃ¤fenberg Trockenbeerenauslese                              \n",
       "355    Kiedrich GrÃ¤fenberg Beerenauslese                                     \n",
       "359    Hattenheimer Hassel Auslese                                            \n",
       "426    Bridge Lane                                                            \n",
       "428    CuvÃ©e Gabriella Brut RosÃ©                                            \n",
       "443    Caya                                                                   \n",
       "465    Westhofen Morstein GG Trocken                                          \n",
       "469    Ãœrziger WÃ¼rzgarten Alte Reben GG Trocken                             \n",
       "470    Wehlener Sonnenuhr Kabinett                                            \n",
       "528    Trocken                                                                \n",
       "536    Trocken                                                                \n",
       "578    Pinot Noir                                                             \n",
       "649    Brauneberger Juffer-Sonnenuhr SpÃ¤tlese Grosse Lage                    \n",
       "669    Virgin Berry                                                           \n",
       "673    Dry                                                                    \n",
       "725    Mont Sec Vineyards                                                     \n",
       "749    Fiori Delle Stelle Ice Wine                                            \n",
       "790    Apollo Dry                                                             \n",
       "812    Castell                                                                \n",
       "...    ...                                                                    \n",
       "128551 Semi-Dry                                                               \n",
       "128566 Dry                                                                    \n",
       "128577 Reserve                                                                \n",
       "128667 Sawmill Creek Vineyards Dry                                            \n",
       "128729 No. 239 Dry                                                            \n",
       "128808 Million Dollar Beach                                                   \n",
       "128847 Reserve Dry                                                            \n",
       "129011 Motley Cru                                                             \n",
       "129037 Spotlight                                                              \n",
       "129077 3 Puttonyos AszÃº                                                      \n",
       "129079 Dreamfish                                                              \n",
       "129091 Ingle Vineyard                                                         \n",
       "129125 Ingle Vineyard Icewine                                                 \n",
       "129293 RÃ¼desheim Berg Roseneck SpÃ¤tburgunder Trocken                        \n",
       "129460 Reserve                                                                \n",
       "129609 Vitis Metamorfosis                                                     \n",
       "129612 Terra Romana                                                           \n",
       "129622 KrimSekt White Collection Semi-Dry                                     \n",
       "129625 Single Vineyard Selection Scurta Vineyard Viognier-Tamaioasa Romaneasca\n",
       "129673 Kiedrich GrÃ¤fenberg Auslese                                           \n",
       "129677 Schloss Reichartshausen SpÃ¤tlese                                      \n",
       "129684 SpÃ¤tlese                                                              \n",
       "129725 Biodynamite                                                            \n",
       "129750 Davis Vineyard Dry                                                     \n",
       "129769 Randolph O'Neil Vineyard                                               \n",
       "129799 Semi-Dry                                                               \n",
       "129911 Bernkasteler Lay Kabinett                                              \n",
       "129912 Ãœrziger WÃ¼rzgarten Kabinett                                          \n",
       "129947 Dom                                                                    \n",
       "129967 Brauneberger Juffer-Sonnenuhr SpÃ¤tlese                                \n",
       "       points price province            region_1                 \n",
       "4      87      13   Michigan            Lake Michigan Shore      \n",
       "9      87      12   Rheinhessen         NA                       \n",
       "16     87      24   Mosel               NA                       \n",
       "21     87      23   Virginia            Virginia                 \n",
       "86     86      10   Rheinhessen         NA                       \n",
       "98     88      20   New York            Finger Lakes             \n",
       "102    87      20   New York            Finger Lakes             \n",
       "103    87      20   New York            Finger Lakes             \n",
       "149    91      16   Rheinhessen         NA                       \n",
       "157    91      14   Mosel               NA                       \n",
       "171    91      30   Mosel               NA                       \n",
       "348    97     775   Rheingau            NA                       \n",
       "355    96     365   Rheingau            NA                       \n",
       "359    95      66   Rheingau            NA                       \n",
       "426    89      18   New York            New York                 \n",
       "428    89      35   New York            North Fork of Long Island\n",
       "443    89      35   New York            Long Island              \n",
       "465    92     115   Rheinhessen         NA                       \n",
       "469    92      42   Mosel               NA                       \n",
       "470    92      27   Mosel               NA                       \n",
       "528    91      30   Rheinhessen         NA                       \n",
       "536    91      22   Mosel               NA                       \n",
       "578    89      17   New York            Finger Lakes             \n",
       "649    92      34   Mosel               NA                       \n",
       "669    90      26   New York            North Fork of Long Island\n",
       "673    90      26   New York            Long Island              \n",
       "725    85      14   Texas               Texas                    \n",
       "749    87      75   New York            Finger Lakes             \n",
       "790    90      29   Mosel               NA                       \n",
       "812    90      16   Franken             NA                       \n",
       "...    ...    ...   ...                 ...                      \n",
       "128551 89     14    New York            Finger Lakes             \n",
       "128566 87     17    New York            Finger Lakes             \n",
       "128577 87     28    Virginia            Monticello               \n",
       "128667 90     16    New York            Finger Lakes             \n",
       "128729 90     22    New York            Finger Lakes             \n",
       "128808 85     16    New York            New York                 \n",
       "128847 92     29    New York            Seneca Lake              \n",
       "129011 88     35    New York            North Fork of Long Island\n",
       "129037 88     50    New York            North Fork of Long Island\n",
       "129077 87     20    Tokaji              NA                       \n",
       "129079 87      7    Viile Timisului     NA                       \n",
       "129091 87     20    New York            Finger Lakes             \n",
       "129125 87     75    New York            Finger Lakes             \n",
       "129293 90     18    Rheingau            NA                       \n",
       "129460 87     23    Virginia            Virginia                 \n",
       "129609 84     15    Dealu Mare          NA                       \n",
       "129612 84     10    Dealu Mare          NA                       \n",
       "129622 84     13    Ukraine             NA                       \n",
       "129625 84     12    Dealurile Munteniei NA                       \n",
       "129673 93     94    Rheingau            NA                       \n",
       "129677 93     35    Rheingau            NA                       \n",
       "129684 93     31    Rheingau            NA                       \n",
       "129725 90     27    Pfalz               NA                       \n",
       "129750 87     22    New York            Finger Lakes             \n",
       "129769 87     25    New York            Cayuga Lake              \n",
       "129799 88     19    New York            Seneca Lake              \n",
       "129911 91     28    Mosel               NA                       \n",
       "129912 91     28    Mosel               NA                       \n",
       "129947 90     17    Mosel               NA                       \n",
       "129967 90     28    Mosel               NA                       \n",
       "       region_2       taster_name        taster_twitter_handle\n",
       "4      NA             Alexander Peartree NA                   \n",
       "9      NA             Anna Lee C. Iijima NA                   \n",
       "16     NA             Anna Lee C. Iijima NA                   \n",
       "21     NA             Alexander Peartree NA                   \n",
       "86     NA             Anna Lee C. Iijima NA                   \n",
       "98     Finger Lakes   Anna Lee C. Iijima NA                   \n",
       "102    Finger Lakes   Anna Lee C. Iijima NA                   \n",
       "103    Finger Lakes   Anna Lee C. Iijima NA                   \n",
       "149    NA             Anna Lee C. Iijima NA                   \n",
       "157    NA             Anna Lee C. Iijima NA                   \n",
       "171    NA             Anna Lee C. Iijima NA                   \n",
       "348    NA             Anna Lee C. Iijima NA                   \n",
       "355    NA             Anna Lee C. Iijima NA                   \n",
       "359    NA             Anna Lee C. Iijima NA                   \n",
       "426    New York Other Anna Lee C. Iijima NA                   \n",
       "428    Long Island    Anna Lee C. Iijima NA                   \n",
       "443    Long Island    Anna Lee C. Iijima NA                   \n",
       "465    NA             Anna Lee C. Iijima NA                   \n",
       "469    NA             Anna Lee C. Iijima NA                   \n",
       "470    NA             Anna Lee C. Iijima NA                   \n",
       "528    NA             Anna Lee C. Iijima NA                   \n",
       "536    NA             Anna Lee C. Iijima NA                   \n",
       "578    Finger Lakes   Anna Lee C. Iijima NA                   \n",
       "649    NA             Anna Lee C. Iijima NA                   \n",
       "669    Long Island    Anna Lee C. Iijima NA                   \n",
       "673    Long Island    Anna Lee C. Iijima NA                   \n",
       "725    NA             Alexander Peartree NA                   \n",
       "749    Finger Lakes   Anna Lee C. Iijima NA                   \n",
       "790    NA             Anna Lee C. Iijima NA                   \n",
       "812    NA             Anna Lee C. Iijima NA                   \n",
       "...    ...            ...                ...                  \n",
       "128551 Finger Lakes   Anna Lee C. Iijima NA                   \n",
       "128566 Finger Lakes   Anna Lee C. Iijima NA                   \n",
       "128577 NA             Alexander Peartree NA                   \n",
       "128667 Finger Lakes   Anna Lee C. Iijima NA                   \n",
       "128729 Finger Lakes   Anna Lee C. Iijima NA                   \n",
       "128808 New York Other Anna Lee C. Iijima NA                   \n",
       "128847 Finger Lakes   Anna Lee C. Iijima NA                   \n",
       "129011 Long Island    Anna Lee C. Iijima NA                   \n",
       "129037 Long Island    Anna Lee C. Iijima NA                   \n",
       "129077 NA             Anna Lee C. Iijima NA                   \n",
       "129079 NA             Anna Lee C. Iijima NA                   \n",
       "129091 Finger Lakes   Anna Lee C. Iijima NA                   \n",
       "129125 Finger Lakes   Anna Lee C. Iijima NA                   \n",
       "129293 NA             Anna Lee C. Iijima NA                   \n",
       "129460 NA             Carrie Dykes       NA                   \n",
       "129609 NA             Anna Lee C. Iijima NA                   \n",
       "129612 NA             Anna Lee C. Iijima NA                   \n",
       "129622 NA             Anna Lee C. Iijima NA                   \n",
       "129625 NA             Anna Lee C. Iijima NA                   \n",
       "129673 NA             Anna Lee C. Iijima NA                   \n",
       "129677 NA             Anna Lee C. Iijima NA                   \n",
       "129684 NA             Anna Lee C. Iijima NA                   \n",
       "129725 NA             Anna Lee C. Iijima NA                   \n",
       "129750 Finger Lakes   Anna Lee C. Iijima NA                   \n",
       "129769 Finger Lakes   Anna Lee C. Iijima NA                   \n",
       "129799 Finger Lakes   Anna Lee C. Iijima NA                   \n",
       "129911 NA             Anna Lee C. Iijima NA                   \n",
       "129912 NA             Anna Lee C. Iijima NA                   \n",
       "129947 NA             Anna Lee C. Iijima NA                   \n",
       "129967 NA             Anna Lee C. Iijima NA                   \n",
       "       title                                                                                                                    \n",
       "4      St. Julian 2013 Reserve Late Harvest Riesling (Lake Michigan Shore)                                                      \n",
       "9      Heinz Eifel 2013 Shine GewÃ¼rztraminer (Rheinhessen)                                                                     \n",
       "16     Richard BÃ¶cking 2013 Devon Riesling (Mosel)                                                                             \n",
       "21     QuiÃ©vremont 2012 Vin de Maison Red (Virginia)                                                                           \n",
       "86     P.J. Valckenberg 2015 Undone Dry Riesling (Rheinhessen)                                                                  \n",
       "98     Heron Hill 2015 Ingle Vineyard Riesling (Finger Lakes)                                                                   \n",
       "102    Lamoreaux Landing 2014 Red Oak Vineyard Riesling (Finger Lakes)                                                          \n",
       "103    Lamoreaux Landing 2014 Yellow Dog Vineyard Riesling (Finger Lakes)                                                       \n",
       "149    Weingut Liebfrauenstift 2014 Dry Riesling (Rheinhessen)                                                                  \n",
       "157    Carl Graff 2014 Graacher Himmelreich SpÃ¤tlese Riesling (Mosel)                                                          \n",
       "171    Fritz Haag 2014 Brauneberger Feinherb Riesling (Mosel)                                                                   \n",
       "348    Robert Weil 2014 Kiedrich GrÃ¤fenberg Trockenbeerenauslese Riesling (Rheingau)                                           \n",
       "355    Robert Weil 2014 Kiedrich GrÃ¤fenberg Beerenauslese Riesling (Rheingau)                                                  \n",
       "359    Weingut Hans Bausch 2011 Hattenheimer Hassel Auslese Riesling (Rheingau)                                                 \n",
       "426    Lieb 2015 Bridge Lane RosÃ© (New York)                                                                                   \n",
       "428    Macari 2010 CuvÃ©e Gabriella Brut RosÃ© Sparkling (North Fork of Long Island)                                            \n",
       "443    WÃ¶lffer 2013 Caya Cabernet Franc (Long Island)                                                                          \n",
       "465    Wittmann 2011 Westhofen Morstein GG Trocken Riesling (Rheinhessen)                                                       \n",
       "469    Dr. Loosen 2011 Ãœrziger WÃ¼rzgarten Alte Reben GG Trocken Riesling (Mosel)                                              \n",
       "470    Dr. Loosen 2011 Wehlener Sonnenuhr Kabinett Riesling (Mosel)                                                             \n",
       "528    Wittmann 2015 Trocken Scheurebe (Rheinhessen)                                                                            \n",
       "536    Maximin GrÃ¼nhÃ¤user 2015 Trocken Riesling (Mosel)                                                                       \n",
       "578    Chateau Lafayette Reneau 2016 Pinot Noir RosÃ© (Finger Lakes)                                                            \n",
       "649    Reichsgraf von Kesselstatt 2014 Brauneberger Juffer-Sonnenuhr SpÃ¤tlese Grosse Lage Riesling (Mosel)                     \n",
       "669    Raphael 2014 Virgin Berry Riesling (North Fork of Long Island)                                                           \n",
       "673    The Grapes of Roth 2014 Dry Riesling (Long Island)                                                                       \n",
       "725    Mont Sec 2015 Mont Sec Vineyards Viognier (Texas)                                                                        \n",
       "749    Casa Larga 2008 Fiori Delle Stelle Ice Wine Cabernet Franc (Finger Lakes)                                                \n",
       "790    Von Schleinitz 2015 Apollo Dry Riesling (Mosel)                                                                          \n",
       "812    Castell 2015 Castell Silvaner (Franken)                                                                                  \n",
       "...    ...                                                                                                                      \n",
       "128551 Red Newt Cellars 2011 Semi-Dry Riesling (Finger Lakes)                                                                   \n",
       "128566 Hazlitt 1852 Vineyards 2013 Dry Riesling (Finger Lakes)                                                                  \n",
       "128577 Pollak 2012 Reserve Chardonnay (Monticello)                                                                              \n",
       "128667 Billsboro 2013 Sawmill Creek Vineyards Dry Riesling (Finger Lakes)                                                       \n",
       "128729 Boundary Breaks 2011 No. 239 Dry Riesling (Finger Lakes)                                                                 \n",
       "128808 Adirondack Winery 2016 Million Dollar Beach Gewurztraminer (New York)                                                    \n",
       "128847 Hermann J. Wiemer 2013 Reserve Dry Riesling (Seneca Lake)                                                                \n",
       "129011 Brooklyn Oenology 2012 Motley Cru Red (North Fork of Long Island)                                                        \n",
       "129037 Sannino 2013 Spotlight Petit Verdot (North Fork of Long Island)                                                          \n",
       "129077 ChÃ¢teau Hellha 2002 3 Puttonyos AszÃº  (Tokaji)                                                                         \n",
       "129079 Cramele Recas 2011 Dreamfish Cabernet Sauvignon (Viile Timisului)                                                        \n",
       "129091 Heron Hill 2010 Ingle Vineyard Riesling (Finger Lakes)                                                                   \n",
       "129125 Heron Hill 2010 Ingle Vineyard Icewine Riesling (Finger Lakes)                                                           \n",
       "129293 Carl Ehrhard 2013 RÃ¼desheim Berg Roseneck SpÃ¤tburgunder Trocken Pinot Noir (Rheingau)                                  \n",
       "129460 Barboursville Vineyards 2015 Reserve Vermentino (Virginia)                                                               \n",
       "129609 Cramele Halewood 2009 Vitis Metamorfosis Merlot (Dealu Mare)                                                             \n",
       "129612 SERVE 2010 Terra Romana Chardonnay (Dealu Mare)                                                                          \n",
       "129622 Artemovsk 2008 KrimSekt White Collection Semi-Dry Sparkling (Ukraine)                                                    \n",
       "129625 Cramele Halewood 2009 Single Vineyard Selection Scurta Vineyard Viognier-Tamaioasa Romaneasca White (Dealurile Munteniei)\n",
       "129673 Robert Weil 2014 Kiedrich GrÃ¤fenberg Auslese Riesling (Rheingau)                                                        \n",
       "129677 Balthasar Ress 2015 Schloss Reichartshausen SpÃ¤tlese Riesling (Rheingau)                                                \n",
       "129684 Schloss Vollrads 2014 SpÃ¤tlese Riesling (Rheingau)                                                                      \n",
       "129725 PflÃ¼ger 2015 Biodynamite White (Pfalz)                                                                                  \n",
       "129750 Damiani 2012 Davis Vineyard Dry Riesling (Finger Lakes)                                                                  \n",
       "129769 Silver Thread 2012 Randolph O'Neil Vineyard Riesling (Cayuga Lake)                                                       \n",
       "129799 Belhurst 2011 Semi-Dry Riesling (Seneca Lake)                                                                            \n",
       "129911 Dr. Loosen 2015 Bernkasteler Lay Kabinett Riesling (Mosel)                                                               \n",
       "129912 Dr. Loosen 2015 Ãœrziger WÃ¼rzgarten Kabinett Riesling (Mosel)                                                           \n",
       "129947 BischÃ¶fliche WeingÃ¼ter Trier 2013 Dom Riesling (Mosel)                                                                 \n",
       "129967 Dr. H. Thanisch (Erben MÃ¼ller-Burggraef) 2013 Brauneberger Juffer-Sonnenuhr SpÃ¤tlese Riesling (Mosel)                  \n",
       "       variety            winery                                   \n",
       "4      Riesling           St. Julian                               \n",
       "9      GewÃ¼rztraminer    Heinz Eifel                              \n",
       "16     Riesling           Richard BÃ¶cking                         \n",
       "21     Red Blend          QuiÃ©vremont                             \n",
       "86     Riesling           P.J. Valckenberg                         \n",
       "98     Riesling           Heron Hill                               \n",
       "102    Riesling           Lamoreaux Landing                        \n",
       "103    Riesling           Lamoreaux Landing                        \n",
       "149    Riesling           Weingut Liebfrauenstift                  \n",
       "157    Riesling           Carl Graff                               \n",
       "171    Riesling           Fritz Haag                               \n",
       "348    Riesling           Robert Weil                              \n",
       "355    Riesling           Robert Weil                              \n",
       "359    Riesling           Weingut Hans Bausch                      \n",
       "426    RosÃ©              Lieb                                     \n",
       "428    Sparkling Blend    Macari                                   \n",
       "443    Cabernet Franc     WÃ¶lffer                                 \n",
       "465    Riesling           Wittmann                                 \n",
       "469    Riesling           Dr. Loosen                               \n",
       "470    Riesling           Dr. Loosen                               \n",
       "528    Scheurebe          Wittmann                                 \n",
       "536    Riesling           Maximin GrÃ¼nhÃ¤user                     \n",
       "578    RosÃ©              Chateau Lafayette Reneau                 \n",
       "649    Riesling           Reichsgraf von Kesselstatt               \n",
       "669    Riesling           Raphael                                  \n",
       "673    Riesling           The Grapes of Roth                       \n",
       "725    Viognier           Mont Sec                                 \n",
       "749    Cabernet Franc     Casa Larga                               \n",
       "790    Riesling           Von Schleinitz                           \n",
       "812    Silvaner           Castell                                  \n",
       "...    ...                ...                                      \n",
       "128551 Riesling           Red Newt Cellars                         \n",
       "128566 Riesling           Hazlitt 1852 Vineyards                   \n",
       "128577 Chardonnay         Pollak                                   \n",
       "128667 Riesling           Billsboro                                \n",
       "128729 Riesling           Boundary Breaks                          \n",
       "128808 GewÃ¼rztraminer    Adirondack Winery                        \n",
       "128847 Riesling           Hermann J. Wiemer                        \n",
       "129011 Red Blend          Brooklyn Oenology                        \n",
       "129037 Petit Verdot       Sannino                                  \n",
       "129077 Tokaji             ChÃ¢teau Hellha                          \n",
       "129079 Cabernet Sauvignon Cramele Recas                            \n",
       "129091 Riesling           Heron Hill                               \n",
       "129125 Riesling           Heron Hill                               \n",
       "129293 Pinot Noir         Carl Ehrhard                             \n",
       "129460 Vermentino         Barboursville Vineyards                  \n",
       "129609 Merlot             Cramele Halewood                         \n",
       "129612 Chardonnay         SERVE                                    \n",
       "129622 Sparkling Blend    Artemovsk                                \n",
       "129625 White Blend        Cramele Halewood                         \n",
       "129673 Riesling           Robert Weil                              \n",
       "129677 Riesling           Balthasar Ress                           \n",
       "129684 Riesling           Schloss Vollrads                         \n",
       "129725 White Blend        PflÃ¼ger                                 \n",
       "129750 Riesling           Damiani                                  \n",
       "129769 Riesling           Silver Thread                            \n",
       "129799 Riesling           Belhurst                                 \n",
       "129911 Riesling           Dr. Loosen                               \n",
       "129912 Riesling           Dr. Loosen                               \n",
       "129947 Riesling           BischÃ¶fliche WeingÃ¼ter Trier           \n",
       "129967 Riesling           Dr. H. Thanisch (Erben MÃ¼ller-Burggraef)"
      ]
     },
     "metadata": {},
     "output_type": "display_data"
    }
   ],
   "source": [
    "wine_clean[is.na(wine_clean$taster_twitter_handle),]"
   ]
  },
  {
   "cell_type": "code",
   "execution_count": 112,
   "metadata": {},
   "outputs": [
    {
     "data": {
      "text/html": [
       "0"
      ],
      "text/latex": [
       "0"
      ],
      "text/markdown": [
       "0"
      ],
      "text/plain": [
       "[1] 0"
      ]
     },
     "metadata": {},
     "output_type": "display_data"
    }
   ],
   "source": [
    "# since some of the twitter_handle may be missing, taster_name will be used as user identifier\n",
    "sum(is.na(wine_clean$taster_name))"
   ]
  },
  {
   "cell_type": "code",
   "execution_count": 118,
   "metadata": {},
   "outputs": [
    {
     "data": {
      "text/html": [
       "0"
      ],
      "text/latex": [
       "0"
      ],
      "text/markdown": [
       "0"
      ],
      "text/plain": [
       "[1] 0"
      ]
     },
     "metadata": {},
     "output_type": "display_data"
    }
   ],
   "source": [
    "#check missing product title after clean up\n",
    "sum(is.null(wine_clean$title))"
   ]
  },
  {
   "cell_type": "code",
   "execution_count": 114,
   "metadata": {},
   "outputs": [
    {
     "data": {
      "text/html": [
       "0"
      ],
      "text/latex": [
       "0"
      ],
      "text/markdown": [
       "0"
      ],
      "text/plain": [
       "[1] 0"
      ]
     },
     "metadata": {},
     "output_type": "display_data"
    }
   ],
   "source": [
    "#check missing rating\n",
    "sum(is.na(wine_clean$points))"
   ]
  },
  {
   "cell_type": "code",
   "execution_count": 115,
   "metadata": {},
   "outputs": [
    {
     "data": {
      "text/html": [
       "0"
      ],
      "text/latex": [
       "0"
      ],
      "text/markdown": [
       "0"
      ],
      "text/plain": [
       "[1] 0"
      ]
     },
     "metadata": {},
     "output_type": "display_data"
    }
   ],
   "source": [
    "# check missing price\n",
    "sum(is.na(wine_clean$price))"
   ]
  },
  {
   "cell_type": "code",
   "execution_count": 119,
   "metadata": {},
   "outputs": [
    {
     "data": {
      "text/html": [
       "0"
      ],
      "text/latex": [
       "0"
      ],
      "text/markdown": [
       "0"
      ],
      "text/plain": [
       "[1] 0"
      ]
     },
     "metadata": {},
     "output_type": "display_data"
    }
   ],
   "source": [
    "sum(!complete.cases(wine_clean$designation))"
   ]
  },
  {
   "cell_type": "code",
   "execution_count": 120,
   "metadata": {},
   "outputs": [],
   "source": [
    "#convert data type\n",
    "wine_clean <- wine_clean %>%\n",
    "    #convert taster_twitter_handle and taster_name to factor\n",
    "    mutate(taster_twitter_handle = as.factor(taster_twitter_handle)) %>%\n",
    "    mutate(taster_name = as.factor(taster_name)) %>%\n",
    "    #convert variety and winery to factor\n",
    "    mutate(variety = as.factor(variety)) %>%\n",
    "    mutate(winery = as.factor(winery)) %>%\n",
    "    #convert country as factor\n",
    "    mutate(country = as.factor(country))"
   ]
  },
  {
   "cell_type": "code",
   "execution_count": 121,
   "metadata": {},
   "outputs": [
    {
     "data": {
      "text/html": [
       "<table>\n",
       "<caption>A data.frame: 6 × 13</caption>\n",
       "<thead>\n",
       "\t<tr><th scope=col>country</th><th scope=col>description</th><th scope=col>designation</th><th scope=col>points</th><th scope=col>price</th><th scope=col>province</th><th scope=col>region_1</th><th scope=col>region_2</th><th scope=col>taster_name</th><th scope=col>taster_twitter_handle</th><th scope=col>title</th><th scope=col>variety</th><th scope=col>winery</th></tr>\n",
       "\t<tr><th scope=col>&lt;fct&gt;</th><th scope=col>&lt;chr&gt;</th><th scope=col>&lt;chr&gt;</th><th scope=col>&lt;int&gt;</th><th scope=col>&lt;dbl&gt;</th><th scope=col>&lt;chr&gt;</th><th scope=col>&lt;chr&gt;</th><th scope=col>&lt;chr&gt;</th><th scope=col>&lt;fct&gt;</th><th scope=col>&lt;fct&gt;</th><th scope=col>&lt;chr&gt;</th><th scope=col>&lt;fct&gt;</th><th scope=col>&lt;fct&gt;</th></tr>\n",
       "</thead>\n",
       "<tbody>\n",
       "\t<tr><td>Portugal</td><td>This is ripe and fruity, a wine that is smooth while still structured. Firm tannins are filled out with juicy red berry fruits and freshened with acidity. It's  already drinkable, although it will certainly be better from 2016.                                  </td><td>Avidagos                          </td><td>87</td><td>15</td><td>Douro            </td><td>NA                 </td><td>NA               </td><td>Roger Voss        </td><td>@vossroger  </td><td>Quinta dos Avidagos 2011 Avidagos Red (Douro)                                      </td><td>Portuguese Red    </td><td>Quinta dos Avidagos</td></tr>\n",
       "\t<tr><td>US      </td><td>Pineapple rind, lemon pith and orange blossom start off the aromas. The palate is a bit more opulent, with notes of honey-drizzled guava and mango giving way to a slightly astringent, semidry finish.                                                              </td><td>Reserve Late Harvest              </td><td>87</td><td>13</td><td>Michigan         </td><td>Lake Michigan Shore</td><td>NA               </td><td>Alexander Peartree</td><td>NA          </td><td>St. Julian 2013 Reserve Late Harvest Riesling (Lake Michigan Shore)                </td><td>Riesling          </td><td>St. Julian         </td></tr>\n",
       "\t<tr><td>US      </td><td>Much like the regular bottling from 2012, this comes across as rather rough and tannic, with rustic, earthy, herbal characteristics. Nonetheless, if you think of it as a pleasantly unfussy country wine, it's a good companion to a hearty winter stew.            </td><td>Vintner's Reserve Wild Child Block</td><td>87</td><td>65</td><td>Oregon           </td><td>Willamette Valley  </td><td>Willamette Valley</td><td>Paul Gregutt      </td><td>@paulgwineÂ </td><td>Sweet Cheeks 2012 Vintner's Reserve Wild Child Block Pinot Noir (Willamette Valley)</td><td>Pinot Noir        </td><td>Sweet Cheeks       </td></tr>\n",
       "\t<tr><td>Spain   </td><td>Blackberry and raspberry aromas show a typical Navarran whiff of green herbs and, in this case, horseradish. In the mouth, this is fairly full bodied, with tomatoey acidity. Spicy, herbal flavors complement dark plum fruit, while the finish is fresh but grabby.</td><td>Ars In Vitro                      </td><td>87</td><td>15</td><td>Northern Spain   </td><td>Navarra            </td><td>NA               </td><td>Michael Schachner </td><td>@wineschach </td><td>Tandem 2011 Ars In Vitro Tempranillo-Merlot (Navarra)                              </td><td>Tempranillo-Merlot</td><td>Tandem             </td></tr>\n",
       "\t<tr><td><span style=white-space:pre-wrap>Italy   </span></td><td><span style=white-space:pre-wrap>Here's a bright, informal red that opens with aromas of candied berry, white pepper and savory herb that carry over to the palate. It's balanced with fresh acidity and soft tannins.                                                                                </span></td><td><span style=white-space:pre-wrap>Belsito                           </span></td><td>87</td><td>16</td><td>Sicily &amp; Sardinia</td><td><span style=white-space:pre-wrap>Vittoria           </span></td><td><span style=white-space:pre-wrap>NA               </span></td><td><span style=white-space:pre-wrap>Kerin Oâ€™Keefe   </span></td><td>@kerinokeefe</td><td><span style=white-space:pre-wrap>Terre di Giurfo 2013 Belsito Frappato (Vittoria)                                   </span></td><td><span style=white-space:pre-wrap>Frappato          </span></td><td><span style=white-space:pre-wrap>Terre di Giurfo    </span></td></tr>\n",
       "\t<tr><td>Germany </td><td>Savory dried thyme notes accent sunnier flavors of preserved peach in this brisk, off-dry wine. It's fruity and fresh, with an elegant, sprightly footprint.                                                                                                         </td><td>Shine                             </td><td>87</td><td>12</td><td>Rheinhessen      </td><td>NA                 </td><td>NA               </td><td>Anna Lee C. Iijima</td><td>NA          </td><td>Heinz Eifel 2013 Shine GewÃ¼rztraminer (Rheinhessen)                               </td><td>GewÃ¼rztraminer   </td><td>Heinz Eifel        </td></tr>\n",
       "</tbody>\n",
       "</table>\n"
      ],
      "text/latex": [
       "A data.frame: 6 × 13\n",
       "\\begin{tabular}{r|lllllllllllll}\n",
       " country & description & designation & points & price & province & region\\_1 & region\\_2 & taster\\_name & taster\\_twitter\\_handle & title & variety & winery\\\\\n",
       " <fct> & <chr> & <chr> & <int> & <dbl> & <chr> & <chr> & <chr> & <fct> & <fct> & <chr> & <fct> & <fct>\\\\\n",
       "\\hline\n",
       "\t Portugal & This is ripe and fruity, a wine that is smooth while still structured. Firm tannins are filled out with juicy red berry fruits and freshened with acidity. It's  already drinkable, although it will certainly be better from 2016.                                   & Avidagos                           & 87 & 15 & Douro             & NA                  & NA                & Roger Voss         & @vossroger   & Quinta dos Avidagos 2011 Avidagos Red (Douro)                                       & Portuguese Red     & Quinta dos Avidagos\\\\\n",
       "\t US       & Pineapple rind, lemon pith and orange blossom start off the aromas. The palate is a bit more opulent, with notes of honey-drizzled guava and mango giving way to a slightly astringent, semidry finish.                                                               & Reserve Late Harvest               & 87 & 13 & Michigan          & Lake Michigan Shore & NA                & Alexander Peartree & NA           & St. Julian 2013 Reserve Late Harvest Riesling (Lake Michigan Shore)                 & Riesling           & St. Julian         \\\\\n",
       "\t US       & Much like the regular bottling from 2012, this comes across as rather rough and tannic, with rustic, earthy, herbal characteristics. Nonetheless, if you think of it as a pleasantly unfussy country wine, it's a good companion to a hearty winter stew.             & Vintner's Reserve Wild Child Block & 87 & 65 & Oregon            & Willamette Valley   & Willamette Valley & Paul Gregutt       & @paulgwineÂ  & Sweet Cheeks 2012 Vintner's Reserve Wild Child Block Pinot Noir (Willamette Valley) & Pinot Noir         & Sweet Cheeks       \\\\\n",
       "\t Spain    & Blackberry and raspberry aromas show a typical Navarran whiff of green herbs and, in this case, horseradish. In the mouth, this is fairly full bodied, with tomatoey acidity. Spicy, herbal flavors complement dark plum fruit, while the finish is fresh but grabby. & Ars In Vitro                       & 87 & 15 & Northern Spain    & Navarra             & NA                & Michael Schachner  & @wineschach  & Tandem 2011 Ars In Vitro Tempranillo-Merlot (Navarra)                               & Tempranillo-Merlot & Tandem             \\\\\n",
       "\t Italy    & Here's a bright, informal red that opens with aromas of candied berry, white pepper and savory herb that carry over to the palate. It's balanced with fresh acidity and soft tannins.                                                                                 & Belsito                            & 87 & 16 & Sicily \\& Sardinia & Vittoria            & NA                & Kerin Oâ€™Keefe    & @kerinokeefe & Terre di Giurfo 2013 Belsito Frappato (Vittoria)                                    & Frappato           & Terre di Giurfo    \\\\\n",
       "\t Germany  & Savory dried thyme notes accent sunnier flavors of preserved peach in this brisk, off-dry wine. It's fruity and fresh, with an elegant, sprightly footprint.                                                                                                          & Shine                              & 87 & 12 & Rheinhessen       & NA                  & NA                & Anna Lee C. Iijima & NA           & Heinz Eifel 2013 Shine GewÃ¼rztraminer (Rheinhessen)                                & GewÃ¼rztraminer    & Heinz Eifel        \\\\\n",
       "\\end{tabular}\n"
      ],
      "text/markdown": [
       "\n",
       "A data.frame: 6 × 13\n",
       "\n",
       "| country &lt;fct&gt; | description &lt;chr&gt; | designation &lt;chr&gt; | points &lt;int&gt; | price &lt;dbl&gt; | province &lt;chr&gt; | region_1 &lt;chr&gt; | region_2 &lt;chr&gt; | taster_name &lt;fct&gt; | taster_twitter_handle &lt;fct&gt; | title &lt;chr&gt; | variety &lt;fct&gt; | winery &lt;fct&gt; |\n",
       "|---|---|---|---|---|---|---|---|---|---|---|---|---|\n",
       "| Portugal | This is ripe and fruity, a wine that is smooth while still structured. Firm tannins are filled out with juicy red berry fruits and freshened with acidity. It's  already drinkable, although it will certainly be better from 2016.                                   | Avidagos                           | 87 | 15 | Douro             | NA                  | NA                | Roger Voss         | @vossroger   | Quinta dos Avidagos 2011 Avidagos Red (Douro)                                       | Portuguese Red     | Quinta dos Avidagos |\n",
       "| US       | Pineapple rind, lemon pith and orange blossom start off the aromas. The palate is a bit more opulent, with notes of honey-drizzled guava and mango giving way to a slightly astringent, semidry finish.                                                               | Reserve Late Harvest               | 87 | 13 | Michigan          | Lake Michigan Shore | NA                | Alexander Peartree | NA           | St. Julian 2013 Reserve Late Harvest Riesling (Lake Michigan Shore)                 | Riesling           | St. Julian          |\n",
       "| US       | Much like the regular bottling from 2012, this comes across as rather rough and tannic, with rustic, earthy, herbal characteristics. Nonetheless, if you think of it as a pleasantly unfussy country wine, it's a good companion to a hearty winter stew.             | Vintner's Reserve Wild Child Block | 87 | 65 | Oregon            | Willamette Valley   | Willamette Valley | Paul Gregutt       | @paulgwineÂ  | Sweet Cheeks 2012 Vintner's Reserve Wild Child Block Pinot Noir (Willamette Valley) | Pinot Noir         | Sweet Cheeks        |\n",
       "| Spain    | Blackberry and raspberry aromas show a typical Navarran whiff of green herbs and, in this case, horseradish. In the mouth, this is fairly full bodied, with tomatoey acidity. Spicy, herbal flavors complement dark plum fruit, while the finish is fresh but grabby. | Ars In Vitro                       | 87 | 15 | Northern Spain    | Navarra             | NA                | Michael Schachner  | @wineschach  | Tandem 2011 Ars In Vitro Tempranillo-Merlot (Navarra)                               | Tempranillo-Merlot | Tandem              |\n",
       "| Italy    | Here's a bright, informal red that opens with aromas of candied berry, white pepper and savory herb that carry over to the palate. It's balanced with fresh acidity and soft tannins.                                                                                 | Belsito                            | 87 | 16 | Sicily &amp; Sardinia | Vittoria            | NA                | Kerin Oâ€™Keefe    | @kerinokeefe | Terre di Giurfo 2013 Belsito Frappato (Vittoria)                                    | Frappato           | Terre di Giurfo     |\n",
       "| Germany  | Savory dried thyme notes accent sunnier flavors of preserved peach in this brisk, off-dry wine. It's fruity and fresh, with an elegant, sprightly footprint.                                                                                                          | Shine                              | 87 | 12 | Rheinhessen       | NA                  | NA                | Anna Lee C. Iijima | NA           | Heinz Eifel 2013 Shine GewÃ¼rztraminer (Rheinhessen)                                | GewÃ¼rztraminer    | Heinz Eifel         |\n",
       "\n"
      ],
      "text/plain": [
       "  country \n",
       "1 Portugal\n",
       "2 US      \n",
       "3 US      \n",
       "4 Spain   \n",
       "5 Italy   \n",
       "6 Germany \n",
       "  description                                                                                                                                                                                                                                                          \n",
       "1 This is ripe and fruity, a wine that is smooth while still structured. Firm tannins are filled out with juicy red berry fruits and freshened with acidity. It's  already drinkable, although it will certainly be better from 2016.                                  \n",
       "2 Pineapple rind, lemon pith and orange blossom start off the aromas. The palate is a bit more opulent, with notes of honey-drizzled guava and mango giving way to a slightly astringent, semidry finish.                                                              \n",
       "3 Much like the regular bottling from 2012, this comes across as rather rough and tannic, with rustic, earthy, herbal characteristics. Nonetheless, if you think of it as a pleasantly unfussy country wine, it's a good companion to a hearty winter stew.            \n",
       "4 Blackberry and raspberry aromas show a typical Navarran whiff of green herbs and, in this case, horseradish. In the mouth, this is fairly full bodied, with tomatoey acidity. Spicy, herbal flavors complement dark plum fruit, while the finish is fresh but grabby.\n",
       "5 Here's a bright, informal red that opens with aromas of candied berry, white pepper and savory herb that carry over to the palate. It's balanced with fresh acidity and soft tannins.                                                                                \n",
       "6 Savory dried thyme notes accent sunnier flavors of preserved peach in this brisk, off-dry wine. It's fruity and fresh, with an elegant, sprightly footprint.                                                                                                         \n",
       "  designation                        points price province         \n",
       "1 Avidagos                           87     15    Douro            \n",
       "2 Reserve Late Harvest               87     13    Michigan         \n",
       "3 Vintner's Reserve Wild Child Block 87     65    Oregon           \n",
       "4 Ars In Vitro                       87     15    Northern Spain   \n",
       "5 Belsito                            87     16    Sicily & Sardinia\n",
       "6 Shine                              87     12    Rheinhessen      \n",
       "  region_1            region_2          taster_name       \n",
       "1 NA                  NA                Roger Voss        \n",
       "2 Lake Michigan Shore NA                Alexander Peartree\n",
       "3 Willamette Valley   Willamette Valley Paul Gregutt      \n",
       "4 Navarra             NA                Michael Schachner \n",
       "5 Vittoria            NA                Kerin Oâ\\200\\231Keefe   \n",
       "6 NA                  NA                Anna Lee C. Iijima\n",
       "  taster_twitter_handle\n",
       "1 @vossroger           \n",
       "2 NA                   \n",
       "3 @paulgwineÂ          \n",
       "4 @wineschach          \n",
       "5 @kerinokeefe         \n",
       "6 NA                   \n",
       "  title                                                                              \n",
       "1 Quinta dos Avidagos 2011 Avidagos Red (Douro)                                      \n",
       "2 St. Julian 2013 Reserve Late Harvest Riesling (Lake Michigan Shore)                \n",
       "3 Sweet Cheeks 2012 Vintner's Reserve Wild Child Block Pinot Noir (Willamette Valley)\n",
       "4 Tandem 2011 Ars In Vitro Tempranillo-Merlot (Navarra)                              \n",
       "5 Terre di Giurfo 2013 Belsito Frappato (Vittoria)                                   \n",
       "6 Heinz Eifel 2013 Shine GewÃ¼rztraminer (Rheinhessen)                               \n",
       "  variety            winery             \n",
       "1 Portuguese Red     Quinta dos Avidagos\n",
       "2 Riesling           St. Julian         \n",
       "3 Pinot Noir         Sweet Cheeks       \n",
       "4 Tempranillo-Merlot Tandem             \n",
       "5 Frappato           Terre di Giurfo    \n",
       "6 GewÃ¼rztraminer    Heinz Eifel        "
      ]
     },
     "metadata": {},
     "output_type": "display_data"
    }
   ],
   "source": [
    "head(wine_clean)"
   ]
  },
  {
   "cell_type": "markdown",
   "metadata": {},
   "source": [
    "'title' is product name, 'points' = the reviewer's rating, 'taster_name' as user identifier, 'variety' as wine group"
   ]
  },
  {
   "cell_type": "code",
   "execution_count": 123,
   "metadata": {},
   "outputs": [],
   "source": [
    "# assign tasterID and wineID as unique identifier\n",
    "wine_clean <- wine_clean %>%\n",
    "    mutate(tasterID = group_indices(.,taster_name), wineID = group_indices(.,title))"
   ]
  },
  {
   "cell_type": "markdown",
   "metadata": {},
   "source": [
    "**Count of reviews each taster**"
   ]
  },
  {
   "cell_type": "code",
   "execution_count": 124,
   "metadata": {},
   "outputs": [
    {
     "data": {
      "text/html": [
       "<table>\n",
       "<caption>A tibble: 19 × 2</caption>\n",
       "<thead>\n",
       "\t<tr><th scope=col>taster_name</th><th scope=col>count</th></tr>\n",
       "\t<tr><th scope=col>&lt;fct&gt;</th><th scope=col>&lt;int&gt;</th></tr>\n",
       "</thead>\n",
       "<tbody>\n",
       "\t<tr><td>Roger Voss        </td><td>13216</td></tr>\n",
       "\t<tr><td>Michael Schachner </td><td>11209</td></tr>\n",
       "\t<tr><td>Kerin Oâ€™Keefe   </td><td> 6253</td></tr>\n",
       "\t<tr><td>Virginie Boone    </td><td> 6158</td></tr>\n",
       "\t<tr><td>Paul Gregutt      </td><td> 6026</td></tr>\n",
       "\t<tr><td>Matt Kettmann     </td><td> 4099</td></tr>\n",
       "\t<tr><td>Sean P. Sullivan  </td><td> 3159</td></tr>\n",
       "\t<tr><td>Anna Lee C. Iijima</td><td> 3147</td></tr>\n",
       "\t<tr><td>Joe Czerwinski    </td><td> 3106</td></tr>\n",
       "\t<tr><td>Anne KrebiehlÂ MW </td><td> 2582</td></tr>\n",
       "\t<tr><td>Jim Gordon        </td><td> 2382</td></tr>\n",
       "\t<tr><td>Lauren Buzzeo     </td><td> 1058</td></tr>\n",
       "\t<tr><td>Susan Kostrzewa   </td><td>  632</td></tr>\n",
       "\t<tr><td>Mike DeSimone     </td><td>  341</td></tr>\n",
       "\t<tr><td>Jeff Jenssen      </td><td>  321</td></tr>\n",
       "\t<tr><td>Alexander Peartree</td><td>  255</td></tr>\n",
       "\t<tr><td>Carrie Dykes      </td><td>   88</td></tr>\n",
       "\t<tr><td>Fiona Adams       </td><td>   16</td></tr>\n",
       "\t<tr><td>Christina Pickard </td><td>    2</td></tr>\n",
       "</tbody>\n",
       "</table>\n"
      ],
      "text/latex": [
       "A tibble: 19 × 2\n",
       "\\begin{tabular}{r|ll}\n",
       " taster\\_name & count\\\\\n",
       " <fct> & <int>\\\\\n",
       "\\hline\n",
       "\t Roger Voss         & 13216\\\\\n",
       "\t Michael Schachner  & 11209\\\\\n",
       "\t Kerin Oâ€™Keefe    &  6253\\\\\n",
       "\t Virginie Boone     &  6158\\\\\n",
       "\t Paul Gregutt       &  6026\\\\\n",
       "\t Matt Kettmann      &  4099\\\\\n",
       "\t Sean P. Sullivan   &  3159\\\\\n",
       "\t Anna Lee C. Iijima &  3147\\\\\n",
       "\t Joe Czerwinski     &  3106\\\\\n",
       "\t Anne KrebiehlÂ MW  &  2582\\\\\n",
       "\t Jim Gordon         &  2382\\\\\n",
       "\t Lauren Buzzeo      &  1058\\\\\n",
       "\t Susan Kostrzewa    &   632\\\\\n",
       "\t Mike DeSimone      &   341\\\\\n",
       "\t Jeff Jenssen       &   321\\\\\n",
       "\t Alexander Peartree &   255\\\\\n",
       "\t Carrie Dykes       &    88\\\\\n",
       "\t Fiona Adams        &    16\\\\\n",
       "\t Christina Pickard  &     2\\\\\n",
       "\\end{tabular}\n"
      ],
      "text/markdown": [
       "\n",
       "A tibble: 19 × 2\n",
       "\n",
       "| taster_name &lt;fct&gt; | count &lt;int&gt; |\n",
       "|---|---|\n",
       "| Roger Voss         | 13216 |\n",
       "| Michael Schachner  | 11209 |\n",
       "| Kerin Oâ€™Keefe    |  6253 |\n",
       "| Virginie Boone     |  6158 |\n",
       "| Paul Gregutt       |  6026 |\n",
       "| Matt Kettmann      |  4099 |\n",
       "| Sean P. Sullivan   |  3159 |\n",
       "| Anna Lee C. Iijima |  3147 |\n",
       "| Joe Czerwinski     |  3106 |\n",
       "| Anne KrebiehlÂ MW  |  2582 |\n",
       "| Jim Gordon         |  2382 |\n",
       "| Lauren Buzzeo      |  1058 |\n",
       "| Susan Kostrzewa    |   632 |\n",
       "| Mike DeSimone      |   341 |\n",
       "| Jeff Jenssen       |   321 |\n",
       "| Alexander Peartree |   255 |\n",
       "| Carrie Dykes       |    88 |\n",
       "| Fiona Adams        |    16 |\n",
       "| Christina Pickard  |     2 |\n",
       "\n"
      ],
      "text/plain": [
       "   taster_name        count\n",
       "1  Roger Voss         13216\n",
       "2  Michael Schachner  11209\n",
       "3  Kerin Oâ\\200\\231Keefe     6253\n",
       "4  Virginie Boone      6158\n",
       "5  Paul Gregutt        6026\n",
       "6  Matt Kettmann       4099\n",
       "7  Sean P. Sullivan    3159\n",
       "8  Anna Lee C. Iijima  3147\n",
       "9  Joe Czerwinski      3106\n",
       "10 Anne KrebiehlÂ MW   2582\n",
       "11 Jim Gordon          2382\n",
       "12 Lauren Buzzeo       1058\n",
       "13 Susan Kostrzewa      632\n",
       "14 Mike DeSimone        341\n",
       "15 Jeff Jenssen         321\n",
       "16 Alexander Peartree   255\n",
       "17 Carrie Dykes          88\n",
       "18 Fiona Adams           16\n",
       "19 Christina Pickard      2"
      ]
     },
     "metadata": {},
     "output_type": "display_data"
    }
   ],
   "source": [
    "wine_clean %>%\n",
    "    group_by(taster_name) %>%\n",
    "    summarize(count = n()) %>%\n",
    "    arrange(-count)"
   ]
  },
  {
   "cell_type": "markdown",
   "metadata": {},
   "source": [
    "**Review Count for each Variety**"
   ]
  },
  {
   "cell_type": "code",
   "execution_count": 136,
   "metadata": {},
   "outputs": [
    {
     "data": {
      "image/png": "[encoded data removed]",
      "text/plain": [
       "plot without title"
      ]
     },
     "metadata": {},
     "output_type": "display_data"
    }
   ],
   "source": [
    "wine_clean %>%\n",
    "    group_by(variety) %>%\n",
    "    summarize(rev_count = n()) %>%\n",
    "    arrange(-rev_count) %>%\n",
    "    head(15) %>%\n",
    "    ggplot(aes(x = reorder(as.factor(variety),rev_count), y = rev_count)) + geom_bar(stat = 'identity') + coord_flip() +\n",
    "    labs(x = 'Wine Variety', \n",
    "         y = 'Review Count', \n",
    "         title = \"Review Count for top 15 Wine variety\")"
   ]
  },
  {
   "cell_type": "code",
   "execution_count": 140,
   "metadata": {},
   "outputs": [],
   "source": [
    "# get mean point for each product\n",
    "mean_score <- ungroup(wine_clean) %>%\n",
    "    group_by(title) %>%\n",
    "    summarize(mean_points = mean(points)) %>%\n",
    "    arrange(desc(mean_points))"
   ]
  },
  {
   "cell_type": "code",
   "execution_count": 148,
   "metadata": {},
   "outputs": [
    {
     "data": {
      "image/png": "[encoded data removed]",
      "text/plain": [
       "plot without title"
      ]
     },
     "metadata": {},
     "output_type": "display_data"
    }
   ],
   "source": [
    "ggplot(mean_score, aes(mean_points)) + geom_histogram(binwidth = 1, alpha = 0.5, position = 'identity') +\n",
    "labs(title = 'Distribution of Mean Points')"
   ]
  },
  {
   "cell_type": "code",
   "execution_count": 149,
   "metadata": {},
   "outputs": [
    {
     "data": {
      "text/html": [
       "<table>\n",
       "<caption>A tibble: 598 × 4</caption>\n",
       "<thead>\n",
       "\t<tr><th scope=col>variety</th><th scope=col>mean_points</th><th scope=col>median_points</th><th scope=col>max_points</th></tr>\n",
       "\t<tr><th scope=col>&lt;fct&gt;</th><th scope=col>&lt;dbl&gt;</th><th scope=col>&lt;dbl&gt;</th><th scope=col>&lt;int&gt;</th></tr>\n",
       "</thead>\n",
       "<tbody>\n",
       "\t<tr><td>Ã‡alkarasÄ±         </td><td>86.50000</td><td>86.5</td><td>87</td></tr>\n",
       "\t<tr><td>Abouriou            </td><td>86.00000</td><td>86.0</td><td>87</td></tr>\n",
       "\t<tr><td>Agiorgitiko         </td><td>87.22222</td><td>87.5</td><td>91</td></tr>\n",
       "\t<tr><td>Aglianico           </td><td>90.02632</td><td>90.0</td><td>97</td></tr>\n",
       "\t<tr><td>Aidani              </td><td>82.00000</td><td>82.0</td><td>82</td></tr>\n",
       "\t<tr><td>Airen               </td><td>81.00000</td><td>81.0</td><td>82</td></tr>\n",
       "\t<tr><td>Albana              </td><td>89.46154</td><td>89.0</td><td>94</td></tr>\n",
       "\t<tr><td>Albanello           </td><td>86.00000</td><td>86.0</td><td>86</td></tr>\n",
       "\t<tr><td>AlbariÃ±o           </td><td>87.68306</td><td>88.0</td><td>93</td></tr>\n",
       "\t<tr><td>Aleatico            </td><td>87.00000</td><td>87.0</td><td>89</td></tr>\n",
       "\t<tr><td>Alfrocheiro         </td><td>88.80000</td><td>89.0</td><td>93</td></tr>\n",
       "\t<tr><td>Alicante            </td><td>87.00000</td><td>87.0</td><td>87</td></tr>\n",
       "\t<tr><td>Alicante Bouschet   </td><td>89.63415</td><td>90.0</td><td>93</td></tr>\n",
       "\t<tr><td>AligotÃ©            </td><td>86.36364</td><td>87.0</td><td>88</td></tr>\n",
       "\t<tr><td>Alsace white blend  </td><td>90.60976</td><td>92.0</td><td>96</td></tr>\n",
       "\t<tr><td>Altesse             </td><td>87.50000</td><td>87.5</td><td>88</td></tr>\n",
       "\t<tr><td>AlvarelhÃ£o         </td><td>85.00000</td><td>85.0</td><td>85</td></tr>\n",
       "\t<tr><td>Alvarinho           </td><td>88.70270</td><td>89.0</td><td>93</td></tr>\n",
       "\t<tr><td>Alvarinho-Chardonnay</td><td>86.75000</td><td>87.0</td><td>88</td></tr>\n",
       "\t<tr><td>AntÃ£o Vaz          </td><td>87.78571</td><td>87.5</td><td>90</td></tr>\n",
       "\t<tr><td>Apple               </td><td>89.00000</td><td>89.0</td><td>89</td></tr>\n",
       "\t<tr><td>AragonÃªs           </td><td>90.00000</td><td>90.0</td><td>91</td></tr>\n",
       "\t<tr><td>Aragonez            </td><td>85.00000</td><td>85.0</td><td>85</td></tr>\n",
       "\t<tr><td>Argaman             </td><td>88.33333</td><td>88.0</td><td>91</td></tr>\n",
       "\t<tr><td>Arinto              </td><td>87.34783</td><td>87.0</td><td>92</td></tr>\n",
       "\t<tr><td>Arneis              </td><td>87.74286</td><td>88.0</td><td>92</td></tr>\n",
       "\t<tr><td>Assyrtico           </td><td>87.33333</td><td>87.0</td><td>92</td></tr>\n",
       "\t<tr><td>Assyrtiko           </td><td>89.37500</td><td>89.0</td><td>93</td></tr>\n",
       "\t<tr><td>Athiri              </td><td>83.00000</td><td>83.0</td><td>83</td></tr>\n",
       "\t<tr><td>Austrian Red Blend  </td><td>89.85714</td><td>90.0</td><td>94</td></tr>\n",
       "\t<tr><td>...</td><td>...</td><td>...</td><td>...</td></tr>\n",
       "\t<tr><td>Vidal                   </td><td>89.10000</td><td>90.0</td><td>92</td></tr>\n",
       "\t<tr><td>Vidal Blanc             </td><td>87.62857</td><td>87.0</td><td>92</td></tr>\n",
       "\t<tr><td>Vignoles                </td><td>86.40000</td><td>87.0</td><td>88</td></tr>\n",
       "\t<tr><td>Vilana                  </td><td>84.00000</td><td>84.0</td><td>84</td></tr>\n",
       "\t<tr><td>VinhÃ£o                 </td><td>86.50000</td><td>86.5</td><td>88</td></tr>\n",
       "\t<tr><td>Viognier                </td><td>88.07389</td><td>88.0</td><td>96</td></tr>\n",
       "\t<tr><td>Viognier-Chardonnay     </td><td>85.00000</td><td>84.5</td><td>88</td></tr>\n",
       "\t<tr><td>Viognier-GewÃ¼rztraminer</td><td>86.00000</td><td>86.0</td><td>86</td></tr>\n",
       "\t<tr><td>Viognier-Grenache Blanc </td><td>87.00000</td><td>87.0</td><td>87</td></tr>\n",
       "\t<tr><td>Viognier-Marsanne       </td><td>89.00000</td><td>89.0</td><td>89</td></tr>\n",
       "\t<tr><td>Viognier-Roussanne      </td><td>88.00000</td><td>89.0</td><td>94</td></tr>\n",
       "\t<tr><td>Viosinho                </td><td>90.50000</td><td>90.5</td><td>91</td></tr>\n",
       "\t<tr><td>Vitovska                </td><td>90.00000</td><td>90.0</td><td>90</td></tr>\n",
       "\t<tr><td>Viura                   </td><td>85.15625</td><td>85.0</td><td>92</td></tr>\n",
       "\t<tr><td>Viura-Chardonnay        </td><td>85.50000</td><td>85.5</td><td>87</td></tr>\n",
       "\t<tr><td>Viura-Verdejo           </td><td>83.00000</td><td>83.0</td><td>83</td></tr>\n",
       "\t<tr><td>Vranec                  </td><td>87.00000</td><td>87.0</td><td>89</td></tr>\n",
       "\t<tr><td>Weissburgunder          </td><td>89.82759</td><td>90.0</td><td>93</td></tr>\n",
       "\t<tr><td>Welschriesling          </td><td>89.75000</td><td>90.5</td><td>94</td></tr>\n",
       "\t<tr><td>White Blend             </td><td>87.47892</td><td>87.0</td><td>97</td></tr>\n",
       "\t<tr><td>White Riesling          </td><td>91.00000</td><td>89.0</td><td>96</td></tr>\n",
       "\t<tr><td>Xarel-lo                </td><td>86.00000</td><td>87.0</td><td>88</td></tr>\n",
       "\t<tr><td>Xinisteri               </td><td>89.00000</td><td>89.0</td><td>89</td></tr>\n",
       "\t<tr><td>Xinomavro               </td><td>86.80000</td><td>87.0</td><td>92</td></tr>\n",
       "\t<tr><td>Zibibbo                 </td><td>89.40000</td><td>88.5</td><td>93</td></tr>\n",
       "\t<tr><td>Zierfandler             </td><td>90.27273</td><td>91.0</td><td>93</td></tr>\n",
       "\t<tr><td>Zierfandler-Rotgipfler  </td><td>91.00000</td><td>91.0</td><td>91</td></tr>\n",
       "\t<tr><td>Zinfandel               </td><td>88.78487</td><td>89.0</td><td>97</td></tr>\n",
       "\t<tr><td>Zlahtina                </td><td>88.00000</td><td>88.0</td><td>88</td></tr>\n",
       "\t<tr><td>Zweigelt                </td><td>88.63551</td><td>89.0</td><td>94</td></tr>\n",
       "</tbody>\n",
       "</table>\n"
      ],
      "text/latex": [
       "A tibble: 598 × 4\n",
       "\\begin{tabular}{r|llll}\n",
       " variety & mean\\_points & median\\_points & max\\_points\\\\\n",
       " <fct> & <dbl> & <dbl> & <int>\\\\\n",
       "\\hline\n",
       "\t Ã‡alkarasÄ±          & 86.50000 & 86.5 & 87\\\\\n",
       "\t Abouriou             & 86.00000 & 86.0 & 87\\\\\n",
       "\t Agiorgitiko          & 87.22222 & 87.5 & 91\\\\\n",
       "\t Aglianico            & 90.02632 & 90.0 & 97\\\\\n",
       "\t Aidani               & 82.00000 & 82.0 & 82\\\\\n",
       "\t Airen                & 81.00000 & 81.0 & 82\\\\\n",
       "\t Albana               & 89.46154 & 89.0 & 94\\\\\n",
       "\t Albanello            & 86.00000 & 86.0 & 86\\\\\n",
       "\t AlbariÃ±o            & 87.68306 & 88.0 & 93\\\\\n",
       "\t Aleatico             & 87.00000 & 87.0 & 89\\\\\n",
       "\t Alfrocheiro          & 88.80000 & 89.0 & 93\\\\\n",
       "\t Alicante             & 87.00000 & 87.0 & 87\\\\\n",
       "\t Alicante Bouschet    & 89.63415 & 90.0 & 93\\\\\n",
       "\t AligotÃ©             & 86.36364 & 87.0 & 88\\\\\n",
       "\t Alsace white blend   & 90.60976 & 92.0 & 96\\\\\n",
       "\t Altesse              & 87.50000 & 87.5 & 88\\\\\n",
       "\t AlvarelhÃ£o          & 85.00000 & 85.0 & 85\\\\\n",
       "\t Alvarinho            & 88.70270 & 89.0 & 93\\\\\n",
       "\t Alvarinho-Chardonnay & 86.75000 & 87.0 & 88\\\\\n",
       "\t AntÃ£o Vaz           & 87.78571 & 87.5 & 90\\\\\n",
       "\t Apple                & 89.00000 & 89.0 & 89\\\\\n",
       "\t AragonÃªs            & 90.00000 & 90.0 & 91\\\\\n",
       "\t Aragonez             & 85.00000 & 85.0 & 85\\\\\n",
       "\t Argaman              & 88.33333 & 88.0 & 91\\\\\n",
       "\t Arinto               & 87.34783 & 87.0 & 92\\\\\n",
       "\t Arneis               & 87.74286 & 88.0 & 92\\\\\n",
       "\t Assyrtico            & 87.33333 & 87.0 & 92\\\\\n",
       "\t Assyrtiko            & 89.37500 & 89.0 & 93\\\\\n",
       "\t Athiri               & 83.00000 & 83.0 & 83\\\\\n",
       "\t Austrian Red Blend   & 89.85714 & 90.0 & 94\\\\\n",
       "\t ... & ... & ... & ...\\\\\n",
       "\t Vidal                    & 89.10000 & 90.0 & 92\\\\\n",
       "\t Vidal Blanc              & 87.62857 & 87.0 & 92\\\\\n",
       "\t Vignoles                 & 86.40000 & 87.0 & 88\\\\\n",
       "\t Vilana                   & 84.00000 & 84.0 & 84\\\\\n",
       "\t VinhÃ£o                  & 86.50000 & 86.5 & 88\\\\\n",
       "\t Viognier                 & 88.07389 & 88.0 & 96\\\\\n",
       "\t Viognier-Chardonnay      & 85.00000 & 84.5 & 88\\\\\n",
       "\t Viognier-GewÃ¼rztraminer & 86.00000 & 86.0 & 86\\\\\n",
       "\t Viognier-Grenache Blanc  & 87.00000 & 87.0 & 87\\\\\n",
       "\t Viognier-Marsanne        & 89.00000 & 89.0 & 89\\\\\n",
       "\t Viognier-Roussanne       & 88.00000 & 89.0 & 94\\\\\n",
       "\t Viosinho                 & 90.50000 & 90.5 & 91\\\\\n",
       "\t Vitovska                 & 90.00000 & 90.0 & 90\\\\\n",
       "\t Viura                    & 85.15625 & 85.0 & 92\\\\\n",
       "\t Viura-Chardonnay         & 85.50000 & 85.5 & 87\\\\\n",
       "\t Viura-Verdejo            & 83.00000 & 83.0 & 83\\\\\n",
       "\t Vranec                   & 87.00000 & 87.0 & 89\\\\\n",
       "\t Weissburgunder           & 89.82759 & 90.0 & 93\\\\\n",
       "\t Welschriesling           & 89.75000 & 90.5 & 94\\\\\n",
       "\t White Blend              & 87.47892 & 87.0 & 97\\\\\n",
       "\t White Riesling           & 91.00000 & 89.0 & 96\\\\\n",
       "\t Xarel-lo                 & 86.00000 & 87.0 & 88\\\\\n",
       "\t Xinisteri                & 89.00000 & 89.0 & 89\\\\\n",
       "\t Xinomavro                & 86.80000 & 87.0 & 92\\\\\n",
       "\t Zibibbo                  & 89.40000 & 88.5 & 93\\\\\n",
       "\t Zierfandler              & 90.27273 & 91.0 & 93\\\\\n",
       "\t Zierfandler-Rotgipfler   & 91.00000 & 91.0 & 91\\\\\n",
       "\t Zinfandel                & 88.78487 & 89.0 & 97\\\\\n",
       "\t Zlahtina                 & 88.00000 & 88.0 & 88\\\\\n",
       "\t Zweigelt                 & 88.63551 & 89.0 & 94\\\\\n",
       "\\end{tabular}\n"
      ],
      "text/markdown": [
       "\n",
       "A tibble: 598 × 4\n",
       "\n",
       "| variety &lt;fct&gt; | mean_points &lt;dbl&gt; | median_points &lt;dbl&gt; | max_points &lt;int&gt; |\n",
       "|---|---|---|---|\n",
       "| Ã‡alkarasÄ±          | 86.50000 | 86.5 | 87 |\n",
       "| Abouriou             | 86.00000 | 86.0 | 87 |\n",
       "| Agiorgitiko          | 87.22222 | 87.5 | 91 |\n",
       "| Aglianico            | 90.02632 | 90.0 | 97 |\n",
       "| Aidani               | 82.00000 | 82.0 | 82 |\n",
       "| Airen                | 81.00000 | 81.0 | 82 |\n",
       "| Albana               | 89.46154 | 89.0 | 94 |\n",
       "| Albanello            | 86.00000 | 86.0 | 86 |\n",
       "| AlbariÃ±o            | 87.68306 | 88.0 | 93 |\n",
       "| Aleatico             | 87.00000 | 87.0 | 89 |\n",
       "| Alfrocheiro          | 88.80000 | 89.0 | 93 |\n",
       "| Alicante             | 87.00000 | 87.0 | 87 |\n",
       "| Alicante Bouschet    | 89.63415 | 90.0 | 93 |\n",
       "| AligotÃ©             | 86.36364 | 87.0 | 88 |\n",
       "| Alsace white blend   | 90.60976 | 92.0 | 96 |\n",
       "| Altesse              | 87.50000 | 87.5 | 88 |\n",
       "| AlvarelhÃ£o          | 85.00000 | 85.0 | 85 |\n",
       "| Alvarinho            | 88.70270 | 89.0 | 93 |\n",
       "| Alvarinho-Chardonnay | 86.75000 | 87.0 | 88 |\n",
       "| AntÃ£o Vaz           | 87.78571 | 87.5 | 90 |\n",
       "| Apple                | 89.00000 | 89.0 | 89 |\n",
       "| AragonÃªs            | 90.00000 | 90.0 | 91 |\n",
       "| Aragonez             | 85.00000 | 85.0 | 85 |\n",
       "| Argaman              | 88.33333 | 88.0 | 91 |\n",
       "| Arinto               | 87.34783 | 87.0 | 92 |\n",
       "| Arneis               | 87.74286 | 88.0 | 92 |\n",
       "| Assyrtico            | 87.33333 | 87.0 | 92 |\n",
       "| Assyrtiko            | 89.37500 | 89.0 | 93 |\n",
       "| Athiri               | 83.00000 | 83.0 | 83 |\n",
       "| Austrian Red Blend   | 89.85714 | 90.0 | 94 |\n",
       "| ... | ... | ... | ... |\n",
       "| Vidal                    | 89.10000 | 90.0 | 92 |\n",
       "| Vidal Blanc              | 87.62857 | 87.0 | 92 |\n",
       "| Vignoles                 | 86.40000 | 87.0 | 88 |\n",
       "| Vilana                   | 84.00000 | 84.0 | 84 |\n",
       "| VinhÃ£o                  | 86.50000 | 86.5 | 88 |\n",
       "| Viognier                 | 88.07389 | 88.0 | 96 |\n",
       "| Viognier-Chardonnay      | 85.00000 | 84.5 | 88 |\n",
       "| Viognier-GewÃ¼rztraminer | 86.00000 | 86.0 | 86 |\n",
       "| Viognier-Grenache Blanc  | 87.00000 | 87.0 | 87 |\n",
       "| Viognier-Marsanne        | 89.00000 | 89.0 | 89 |\n",
       "| Viognier-Roussanne       | 88.00000 | 89.0 | 94 |\n",
       "| Viosinho                 | 90.50000 | 90.5 | 91 |\n",
       "| Vitovska                 | 90.00000 | 90.0 | 90 |\n",
       "| Viura                    | 85.15625 | 85.0 | 92 |\n",
       "| Viura-Chardonnay         | 85.50000 | 85.5 | 87 |\n",
       "| Viura-Verdejo            | 83.00000 | 83.0 | 83 |\n",
       "| Vranec                   | 87.00000 | 87.0 | 89 |\n",
       "| Weissburgunder           | 89.82759 | 90.0 | 93 |\n",
       "| Welschriesling           | 89.75000 | 90.5 | 94 |\n",
       "| White Blend              | 87.47892 | 87.0 | 97 |\n",
       "| White Riesling           | 91.00000 | 89.0 | 96 |\n",
       "| Xarel-lo                 | 86.00000 | 87.0 | 88 |\n",
       "| Xinisteri                | 89.00000 | 89.0 | 89 |\n",
       "| Xinomavro                | 86.80000 | 87.0 | 92 |\n",
       "| Zibibbo                  | 89.40000 | 88.5 | 93 |\n",
       "| Zierfandler              | 90.27273 | 91.0 | 93 |\n",
       "| Zierfandler-Rotgipfler   | 91.00000 | 91.0 | 91 |\n",
       "| Zinfandel                | 88.78487 | 89.0 | 97 |\n",
       "| Zlahtina                 | 88.00000 | 88.0 | 88 |\n",
       "| Zweigelt                 | 88.63551 | 89.0 | 94 |\n",
       "\n"
      ],
      "text/plain": [
       "    variety                  mean_points median_points max_points\n",
       "1   Ã‡alkarasÄ±              86.50000    86.5          87        \n",
       "2   Abouriou                 86.00000    86.0          87        \n",
       "3   Agiorgitiko              87.22222    87.5          91        \n",
       "4   Aglianico                90.02632    90.0          97        \n",
       "5   Aidani                   82.00000    82.0          82        \n",
       "6   Airen                    81.00000    81.0          82        \n",
       "7   Albana                   89.46154    89.0          94        \n",
       "8   Albanello                86.00000    86.0          86        \n",
       "9   AlbariÃ±o                87.68306    88.0          93        \n",
       "10  Aleatico                 87.00000    87.0          89        \n",
       "11  Alfrocheiro              88.80000    89.0          93        \n",
       "12  Alicante                 87.00000    87.0          87        \n",
       "13  Alicante Bouschet        89.63415    90.0          93        \n",
       "14  AligotÃ©                 86.36364    87.0          88        \n",
       "15  Alsace white blend       90.60976    92.0          96        \n",
       "16  Altesse                  87.50000    87.5          88        \n",
       "17  AlvarelhÃ£o              85.00000    85.0          85        \n",
       "18  Alvarinho                88.70270    89.0          93        \n",
       "19  Alvarinho-Chardonnay     86.75000    87.0          88        \n",
       "20  AntÃ£o Vaz               87.78571    87.5          90        \n",
       "21  Apple                    89.00000    89.0          89        \n",
       "22  AragonÃªs                90.00000    90.0          91        \n",
       "23  Aragonez                 85.00000    85.0          85        \n",
       "24  Argaman                  88.33333    88.0          91        \n",
       "25  Arinto                   87.34783    87.0          92        \n",
       "26  Arneis                   87.74286    88.0          92        \n",
       "27  Assyrtico                87.33333    87.0          92        \n",
       "28  Assyrtiko                89.37500    89.0          93        \n",
       "29  Athiri                   83.00000    83.0          83        \n",
       "30  Austrian Red Blend       89.85714    90.0          94        \n",
       "... ...                      ...         ...           ...       \n",
       "569 Vidal                    89.10000    90.0          92        \n",
       "570 Vidal Blanc              87.62857    87.0          92        \n",
       "571 Vignoles                 86.40000    87.0          88        \n",
       "572 Vilana                   84.00000    84.0          84        \n",
       "573 VinhÃ£o                  86.50000    86.5          88        \n",
       "574 Viognier                 88.07389    88.0          96        \n",
       "575 Viognier-Chardonnay      85.00000    84.5          88        \n",
       "576 Viognier-GewÃ¼rztraminer 86.00000    86.0          86        \n",
       "577 Viognier-Grenache Blanc  87.00000    87.0          87        \n",
       "578 Viognier-Marsanne        89.00000    89.0          89        \n",
       "579 Viognier-Roussanne       88.00000    89.0          94        \n",
       "580 Viosinho                 90.50000    90.5          91        \n",
       "581 Vitovska                 90.00000    90.0          90        \n",
       "582 Viura                    85.15625    85.0          92        \n",
       "583 Viura-Chardonnay         85.50000    85.5          87        \n",
       "584 Viura-Verdejo            83.00000    83.0          83        \n",
       "585 Vranec                   87.00000    87.0          89        \n",
       "586 Weissburgunder           89.82759    90.0          93        \n",
       "587 Welschriesling           89.75000    90.5          94        \n",
       "588 White Blend              87.47892    87.0          97        \n",
       "589 White Riesling           91.00000    89.0          96        \n",
       "590 Xarel-lo                 86.00000    87.0          88        \n",
       "591 Xinisteri                89.00000    89.0          89        \n",
       "592 Xinomavro                86.80000    87.0          92        \n",
       "593 Zibibbo                  89.40000    88.5          93        \n",
       "594 Zierfandler              90.27273    91.0          93        \n",
       "595 Zierfandler-Rotgipfler   91.00000    91.0          91        \n",
       "596 Zinfandel                88.78487    89.0          97        \n",
       "597 Zlahtina                 88.00000    88.0          88        \n",
       "598 Zweigelt                 88.63551    89.0          94        "
      ]
     },
     "metadata": {},
     "output_type": "display_data"
    }
   ],
   "source": [
    "wine_clean %>%\n",
    "    group_by(variety) %>%\n",
    "    summarize(mean_points = mean(points), median_points = median(points), max_points = max(points))"
   ]
  },
  {
   "cell_type": "code",
   "execution_count": 150,
   "metadata": {},
   "outputs": [
    {
     "name": "stdout",
     "output_type": "stream",
     "text": [
      "[1] \"Number of wine product: 63452\"\n"
     ]
    }
   ],
   "source": [
    "# number of unique product\n",
    "print(paste('Number of wine product:',length(unique(wine_clean$title))))"
   ]
  },
  {
   "cell_type": "code",
   "execution_count": 151,
   "metadata": {},
   "outputs": [
    {
     "name": "stdout",
     "output_type": "stream",
     "text": [
      "[1] \"Number of wine variety: 598\"\n"
     ]
    }
   ],
   "source": [
    "#number of unique designation\n",
    "print(paste('Number of wine variety:',length(unique(wine_clean$variety))))"
   ]
  },
  {
   "cell_type": "code",
   "execution_count": 152,
   "metadata": {},
   "outputs": [
    {
     "data": {
      "text/html": [
       "<table>\n",
       "<caption>A data.frame: 3 × 15</caption>\n",
       "<thead>\n",
       "\t<tr><th scope=col>country</th><th scope=col>description</th><th scope=col>designation</th><th scope=col>points</th><th scope=col>price</th><th scope=col>province</th><th scope=col>region_1</th><th scope=col>region_2</th><th scope=col>taster_name</th><th scope=col>taster_twitter_handle</th><th scope=col>title</th><th scope=col>variety</th><th scope=col>winery</th><th scope=col>tasterID</th><th scope=col>wineID</th></tr>\n",
       "\t<tr><th scope=col>&lt;fct&gt;</th><th scope=col>&lt;chr&gt;</th><th scope=col>&lt;chr&gt;</th><th scope=col>&lt;int&gt;</th><th scope=col>&lt;dbl&gt;</th><th scope=col>&lt;chr&gt;</th><th scope=col>&lt;chr&gt;</th><th scope=col>&lt;chr&gt;</th><th scope=col>&lt;fct&gt;</th><th scope=col>&lt;fct&gt;</th><th scope=col>&lt;chr&gt;</th><th scope=col>&lt;fct&gt;</th><th scope=col>&lt;fct&gt;</th><th scope=col>&lt;int&gt;</th><th scope=col>&lt;int&gt;</th></tr>\n",
       "</thead>\n",
       "<tbody>\n",
       "\t<tr><td>Portugal</td><td>This is ripe and fruity, a wine that is smooth while still structured. Firm tannins are filled out with juicy red berry fruits and freshened with acidity. It's  already drinkable, although it will certainly be better from 2016.                      </td><td>Avidagos                          </td><td>87</td><td>15</td><td>Douro   </td><td>NA                 </td><td>NA               </td><td>Roger Voss        </td><td>@vossroger  </td><td>Quinta dos Avidagos 2011 Avidagos Red (Douro)                                      </td><td>Portuguese Red</td><td>Quinta dos Avidagos</td><td>16</td><td>47571</td></tr>\n",
       "\t<tr><td>US      </td><td>Pineapple rind, lemon pith and orange blossom start off the aromas. The palate is a bit more opulent, with notes of honey-drizzled guava and mango giving way to a slightly astringent, semidry finish.                                                  </td><td>Reserve Late Harvest              </td><td>87</td><td>13</td><td>Michigan</td><td>Lake Michigan Shore</td><td>NA               </td><td>Alexander Peartree</td><td>NA          </td><td>St. Julian 2013 Reserve Late Harvest Riesling (Lake Michigan Shore)                </td><td>Riesling      </td><td>St. Julian         </td><td> 1</td><td>53884</td></tr>\n",
       "\t<tr><td>US      </td><td>Much like the regular bottling from 2012, this comes across as rather rough and tannic, with rustic, earthy, herbal characteristics. Nonetheless, if you think of it as a pleasantly unfussy country wine, it's a good companion to a hearty winter stew.</td><td>Vintner's Reserve Wild Child Block</td><td>87</td><td>65</td><td>Oregon  </td><td>Willamette Valley  </td><td>Willamette Valley</td><td>Paul Gregutt      </td><td>@paulgwineÂ </td><td>Sweet Cheeks 2012 Vintner's Reserve Wild Child Block Pinot Noir (Willamette Valley)</td><td>Pinot Noir    </td><td>Sweet Cheeks       </td><td>15</td><td>54762</td></tr>\n",
       "</tbody>\n",
       "</table>\n"
      ],
      "text/latex": [
       "A data.frame: 3 × 15\n",
       "\\begin{tabular}{r|lllllllllllllll}\n",
       " country & description & designation & points & price & province & region\\_1 & region\\_2 & taster\\_name & taster\\_twitter\\_handle & title & variety & winery & tasterID & wineID\\\\\n",
       " <fct> & <chr> & <chr> & <int> & <dbl> & <chr> & <chr> & <chr> & <fct> & <fct> & <chr> & <fct> & <fct> & <int> & <int>\\\\\n",
       "\\hline\n",
       "\t Portugal & This is ripe and fruity, a wine that is smooth while still structured. Firm tannins are filled out with juicy red berry fruits and freshened with acidity. It's  already drinkable, although it will certainly be better from 2016.                       & Avidagos                           & 87 & 15 & Douro    & NA                  & NA                & Roger Voss         & @vossroger   & Quinta dos Avidagos 2011 Avidagos Red (Douro)                                       & Portuguese Red & Quinta dos Avidagos & 16 & 47571\\\\\n",
       "\t US       & Pineapple rind, lemon pith and orange blossom start off the aromas. The palate is a bit more opulent, with notes of honey-drizzled guava and mango giving way to a slightly astringent, semidry finish.                                                   & Reserve Late Harvest               & 87 & 13 & Michigan & Lake Michigan Shore & NA                & Alexander Peartree & NA           & St. Julian 2013 Reserve Late Harvest Riesling (Lake Michigan Shore)                 & Riesling       & St. Julian          &  1 & 53884\\\\\n",
       "\t US       & Much like the regular bottling from 2012, this comes across as rather rough and tannic, with rustic, earthy, herbal characteristics. Nonetheless, if you think of it as a pleasantly unfussy country wine, it's a good companion to a hearty winter stew. & Vintner's Reserve Wild Child Block & 87 & 65 & Oregon   & Willamette Valley   & Willamette Valley & Paul Gregutt       & @paulgwineÂ  & Sweet Cheeks 2012 Vintner's Reserve Wild Child Block Pinot Noir (Willamette Valley) & Pinot Noir     & Sweet Cheeks        & 15 & 54762\\\\\n",
       "\\end{tabular}\n"
      ],
      "text/markdown": [
       "\n",
       "A data.frame: 3 × 15\n",
       "\n",
       "| country &lt;fct&gt; | description &lt;chr&gt; | designation &lt;chr&gt; | points &lt;int&gt; | price &lt;dbl&gt; | province &lt;chr&gt; | region_1 &lt;chr&gt; | region_2 &lt;chr&gt; | taster_name &lt;fct&gt; | taster_twitter_handle &lt;fct&gt; | title &lt;chr&gt; | variety &lt;fct&gt; | winery &lt;fct&gt; | tasterID &lt;int&gt; | wineID &lt;int&gt; |\n",
       "|---|---|---|---|---|---|---|---|---|---|---|---|---|---|---|\n",
       "| Portugal | This is ripe and fruity, a wine that is smooth while still structured. Firm tannins are filled out with juicy red berry fruits and freshened with acidity. It's  already drinkable, although it will certainly be better from 2016.                       | Avidagos                           | 87 | 15 | Douro    | NA                  | NA                | Roger Voss         | @vossroger   | Quinta dos Avidagos 2011 Avidagos Red (Douro)                                       | Portuguese Red | Quinta dos Avidagos | 16 | 47571 |\n",
       "| US       | Pineapple rind, lemon pith and orange blossom start off the aromas. The palate is a bit more opulent, with notes of honey-drizzled guava and mango giving way to a slightly astringent, semidry finish.                                                   | Reserve Late Harvest               | 87 | 13 | Michigan | Lake Michigan Shore | NA                | Alexander Peartree | NA           | St. Julian 2013 Reserve Late Harvest Riesling (Lake Michigan Shore)                 | Riesling       | St. Julian          |  1 | 53884 |\n",
       "| US       | Much like the regular bottling from 2012, this comes across as rather rough and tannic, with rustic, earthy, herbal characteristics. Nonetheless, if you think of it as a pleasantly unfussy country wine, it's a good companion to a hearty winter stew. | Vintner's Reserve Wild Child Block | 87 | 65 | Oregon   | Willamette Valley   | Willamette Valley | Paul Gregutt       | @paulgwineÂ  | Sweet Cheeks 2012 Vintner's Reserve Wild Child Block Pinot Noir (Willamette Valley) | Pinot Noir     | Sweet Cheeks        | 15 | 54762 |\n",
       "\n"
      ],
      "text/plain": [
       "  country \n",
       "1 Portugal\n",
       "2 US      \n",
       "3 US      \n",
       "  description                                                                                                                                                                                                                                              \n",
       "1 This is ripe and fruity, a wine that is smooth while still structured. Firm tannins are filled out with juicy red berry fruits and freshened with acidity. It's  already drinkable, although it will certainly be better from 2016.                      \n",
       "2 Pineapple rind, lemon pith and orange blossom start off the aromas. The palate is a bit more opulent, with notes of honey-drizzled guava and mango giving way to a slightly astringent, semidry finish.                                                  \n",
       "3 Much like the regular bottling from 2012, this comes across as rather rough and tannic, with rustic, earthy, herbal characteristics. Nonetheless, if you think of it as a pleasantly unfussy country wine, it's a good companion to a hearty winter stew.\n",
       "  designation                        points price province region_1           \n",
       "1 Avidagos                           87     15    Douro    NA                 \n",
       "2 Reserve Late Harvest               87     13    Michigan Lake Michigan Shore\n",
       "3 Vintner's Reserve Wild Child Block 87     65    Oregon   Willamette Valley  \n",
       "  region_2          taster_name        taster_twitter_handle\n",
       "1 NA                Roger Voss         @vossroger           \n",
       "2 NA                Alexander Peartree NA                   \n",
       "3 Willamette Valley Paul Gregutt       @paulgwineÂ          \n",
       "  title                                                                              \n",
       "1 Quinta dos Avidagos 2011 Avidagos Red (Douro)                                      \n",
       "2 St. Julian 2013 Reserve Late Harvest Riesling (Lake Michigan Shore)                \n",
       "3 Sweet Cheeks 2012 Vintner's Reserve Wild Child Block Pinot Noir (Willamette Valley)\n",
       "  variety        winery              tasterID wineID\n",
       "1 Portuguese Red Quinta dos Avidagos 16       47571 \n",
       "2 Riesling       St. Julian           1       53884 \n",
       "3 Pinot Noir     Sweet Cheeks        15       54762 "
      ]
     },
     "metadata": {},
     "output_type": "display_data"
    }
   ],
   "source": [
    "head(wine_clean, 3)"
   ]
  },
  {
   "cell_type": "code",
   "execution_count": 153,
   "metadata": {},
   "outputs": [
    {
     "data": {
      "text/html": [
       "TRUE"
      ],
      "text/latex": [
       "TRUE"
      ],
      "text/markdown": [
       "TRUE"
      ],
      "text/plain": [
       "[1] TRUE"
      ]
     },
     "metadata": {},
     "output_type": "display_data"
    }
   ],
   "source": [
    "# check the wineID against unique number of title\n",
    "max(wine_clean$wineID) == length(unique(wine_clean$title))"
   ]
  },
  {
   "cell_type": "code",
   "execution_count": 154,
   "metadata": {},
   "outputs": [
    {
     "data": {
      "text/html": [
       "TRUE"
      ],
      "text/latex": [
       "TRUE"
      ],
      "text/markdown": [
       "TRUE"
      ],
      "text/plain": [
       "[1] TRUE"
      ]
     },
     "metadata": {},
     "output_type": "display_data"
    }
   ],
   "source": [
    "# check the userID against unique number of taster_name\n",
    "max(wine_clean$tasterID) == length(unique(wine_clean$taster_name))"
   ]
  },
  {
   "cell_type": "code",
   "execution_count": 155,
   "metadata": {},
   "outputs": [
    {
     "name": "stdout",
     "output_type": "stream",
     "text": [
      "[1] \"Number of wine reviewer: 19 , for 63452 wine products\"\n"
     ]
    }
   ],
   "source": [
    "print(paste('Number of wine reviewer:', length(unique(wine_clean$taster_name)), ', for', length(unique(wine_clean$title)), 'wine products'))"
   ]
  },
  {
   "cell_type": "code",
   "execution_count": 156,
   "metadata": {},
   "outputs": [],
   "source": [
    "#taster\n",
    "taster <- wine_clean %>%\n",
    "    group_by(tasterID, taster_name) %>%\n",
    "    summarize(Rcount = n(), maxpoint = max(points), minpoint = min(points), average = mean(points))\n"
   ]
  },
  {
   "cell_type": "code",
   "execution_count": 157,
   "metadata": {},
   "outputs": [
    {
     "data": {
      "text/html": [
       "<table>\n",
       "<caption>A grouped_df: 3 × 6</caption>\n",
       "<thead>\n",
       "\t<tr><th scope=col>tasterID</th><th scope=col>taster_name</th><th scope=col>Rcount</th><th scope=col>maxpoint</th><th scope=col>minpoint</th><th scope=col>average</th></tr>\n",
       "\t<tr><th scope=col>&lt;int&gt;</th><th scope=col>&lt;fct&gt;</th><th scope=col>&lt;int&gt;</th><th scope=col>&lt;int&gt;</th><th scope=col>&lt;int&gt;</th><th scope=col>&lt;dbl&gt;</th></tr>\n",
       "</thead>\n",
       "<tbody>\n",
       "\t<tr><td>16</td><td>Roger Voss       </td><td>13216</td><td>100</td><td>80</td><td>88.83422</td></tr>\n",
       "\t<tr><td>13</td><td>Michael Schachner</td><td>11209</td><td> 98</td><td>80</td><td>87.08573</td></tr>\n",
       "\t<tr><td>10</td><td>Kerin Oâ€™Keefe  </td><td> 6253</td><td>100</td><td>80</td><td>89.12954</td></tr>\n",
       "</tbody>\n",
       "</table>\n"
      ],
      "text/latex": [
       "A grouped_df: 3 × 6\n",
       "\\begin{tabular}{r|llllll}\n",
       " tasterID & taster\\_name & Rcount & maxpoint & minpoint & average\\\\\n",
       " <int> & <fct> & <int> & <int> & <int> & <dbl>\\\\\n",
       "\\hline\n",
       "\t 16 & Roger Voss        & 13216 & 100 & 80 & 88.83422\\\\\n",
       "\t 13 & Michael Schachner & 11209 &  98 & 80 & 87.08573\\\\\n",
       "\t 10 & Kerin Oâ€™Keefe   &  6253 & 100 & 80 & 89.12954\\\\\n",
       "\\end{tabular}\n"
      ],
      "text/markdown": [
       "\n",
       "A grouped_df: 3 × 6\n",
       "\n",
       "| tasterID &lt;int&gt; | taster_name &lt;fct&gt; | Rcount &lt;int&gt; | maxpoint &lt;int&gt; | minpoint &lt;int&gt; | average &lt;dbl&gt; |\n",
       "|---|---|---|---|---|---|\n",
       "| 16 | Roger Voss        | 13216 | 100 | 80 | 88.83422 |\n",
       "| 13 | Michael Schachner | 11209 |  98 | 80 | 87.08573 |\n",
       "| 10 | Kerin Oâ€™Keefe   |  6253 | 100 | 80 | 89.12954 |\n",
       "\n"
      ],
      "text/plain": [
       "  tasterID taster_name       Rcount maxpoint minpoint average \n",
       "1 16       Roger Voss        13216  100      80       88.83422\n",
       "2 13       Michael Schachner 11209   98      80       87.08573\n",
       "3 10       Kerin Oâ\\200\\231Keefe    6253  100      80       89.12954"
      ]
     },
     "metadata": {},
     "output_type": "display_data"
    }
   ],
   "source": [
    "# top 3 tasters by review count\n",
    "head(taster[order(-taster$Rcount),],3)"
   ]
  },
  {
   "cell_type": "code",
   "execution_count": 158,
   "metadata": {},
   "outputs": [
    {
     "data": {
      "image/png": "[encoded data removed]",
      "text/plain": [
       "plot without title"
      ]
     },
     "metadata": {},
     "output_type": "display_data"
    }
   ],
   "source": [
    "ggplot(taster, aes(x = reorder(as.factor(taster_name),Rcount), y = Rcount)) + \n",
    "geom_bar(stat = 'identity') +\n",
    "labs(x = \"Taster Name\", y = 'Count of Review', title = 'Count of Review by each taster') + \n",
    "coord_flip()"
   ]
  },
  {
   "cell_type": "code",
   "execution_count": 159,
   "metadata": {},
   "outputs": [],
   "source": [
    "#wine\n",
    "wineprod <- wine_clean %>%\n",
    "    group_by(wineID, title) %>%\n",
    "    summarize(Rcount = n(), maxpoint = max(points), minpoints = min(points), average = mean(points)) %>%\n",
    "    arrange(desc(Rcount))\n"
   ]
  },
  {
   "cell_type": "code",
   "execution_count": 160,
   "metadata": {},
   "outputs": [
    {
     "data": {
      "text/html": [
       "<table>\n",
       "<caption>A grouped_df: 5 × 6</caption>\n",
       "<thead>\n",
       "\t<tr><th scope=col>wineID</th><th scope=col>title</th><th scope=col>Rcount</th><th scope=col>maxpoint</th><th scope=col>minpoints</th><th scope=col>average</th></tr>\n",
       "\t<tr><th scope=col>&lt;int&gt;</th><th scope=col>&lt;chr&gt;</th><th scope=col>&lt;int&gt;</th><th scope=col>&lt;int&gt;</th><th scope=col>&lt;int&gt;</th><th scope=col>&lt;dbl&gt;</th></tr>\n",
       "</thead>\n",
       "<tbody>\n",
       "\t<tr><td>51944</td><td>Segura Viudas NV Extra Dry Sparkling (Cava)            </td><td>7</td><td>87</td><td>83</td><td>85.57143</td></tr>\n",
       "\t<tr><td>51939</td><td>Segura Viudas NV Aria Estate Extra Dry Sparkling (Cava)</td><td>7</td><td>88</td><td>81</td><td>84.14286</td></tr>\n",
       "\t<tr><td> 3795</td><td>Bailly-Lapierre NV Brut  (CrÃ©mant de Bourgogne)       </td><td>6</td><td>91</td><td>90</td><td>90.33333</td></tr>\n",
       "\t<tr><td>50062</td><td>Ruinart NV Brut RosÃ©  (Champagne)                     </td><td>6</td><td>91</td><td>87</td><td>89.83333</td></tr>\n",
       "\t<tr><td>51947</td><td>Segura Viudas NV Reserva Heredad Sparkling (Cava)      </td><td>5</td><td>89</td><td>84</td><td>87.20000</td></tr>\n",
       "</tbody>\n",
       "</table>\n"
      ],
      "text/latex": [
       "A grouped_df: 5 × 6\n",
       "\\begin{tabular}{r|llllll}\n",
       " wineID & title & Rcount & maxpoint & minpoints & average\\\\\n",
       " <int> & <chr> & <int> & <int> & <int> & <dbl>\\\\\n",
       "\\hline\n",
       "\t 51944 & Segura Viudas NV Extra Dry Sparkling (Cava)             & 7 & 87 & 83 & 85.57143\\\\\n",
       "\t 51939 & Segura Viudas NV Aria Estate Extra Dry Sparkling (Cava) & 7 & 88 & 81 & 84.14286\\\\\n",
       "\t  3795 & Bailly-Lapierre NV Brut  (CrÃ©mant de Bourgogne)        & 6 & 91 & 90 & 90.33333\\\\\n",
       "\t 50062 & Ruinart NV Brut RosÃ©  (Champagne)                      & 6 & 91 & 87 & 89.83333\\\\\n",
       "\t 51947 & Segura Viudas NV Reserva Heredad Sparkling (Cava)       & 5 & 89 & 84 & 87.20000\\\\\n",
       "\\end{tabular}\n"
      ],
      "text/markdown": [
       "\n",
       "A grouped_df: 5 × 6\n",
       "\n",
       "| wineID &lt;int&gt; | title &lt;chr&gt; | Rcount &lt;int&gt; | maxpoint &lt;int&gt; | minpoints &lt;int&gt; | average &lt;dbl&gt; |\n",
       "|---|---|---|---|---|---|\n",
       "| 51944 | Segura Viudas NV Extra Dry Sparkling (Cava)             | 7 | 87 | 83 | 85.57143 |\n",
       "| 51939 | Segura Viudas NV Aria Estate Extra Dry Sparkling (Cava) | 7 | 88 | 81 | 84.14286 |\n",
       "|  3795 | Bailly-Lapierre NV Brut  (CrÃ©mant de Bourgogne)        | 6 | 91 | 90 | 90.33333 |\n",
       "| 50062 | Ruinart NV Brut RosÃ©  (Champagne)                      | 6 | 91 | 87 | 89.83333 |\n",
       "| 51947 | Segura Viudas NV Reserva Heredad Sparkling (Cava)       | 5 | 89 | 84 | 87.20000 |\n",
       "\n"
      ],
      "text/plain": [
       "  wineID title                                                   Rcount\n",
       "1 51944  Segura Viudas NV Extra Dry Sparkling (Cava)             7     \n",
       "2 51939  Segura Viudas NV Aria Estate Extra Dry Sparkling (Cava) 7     \n",
       "3  3795  Bailly-Lapierre NV Brut  (CrÃ©mant de Bourgogne)        6     \n",
       "4 50062  Ruinart NV Brut RosÃ©  (Champagne)                      6     \n",
       "5 51947  Segura Viudas NV Reserva Heredad Sparkling (Cava)       5     \n",
       "  maxpoint minpoints average \n",
       "1 87       83        85.57143\n",
       "2 88       81        84.14286\n",
       "3 91       90        90.33333\n",
       "4 91       87        89.83333\n",
       "5 89       84        87.20000"
      ]
     },
     "metadata": {},
     "output_type": "display_data"
    }
   ],
   "source": [
    "#top 5 most reviewed wine\n",
    "head(wineprod[order(-wineprod$Rcount, -wineprod$average),], 5)"
   ]
  },
  {
   "cell_type": "code",
   "execution_count": 161,
   "metadata": {},
   "outputs": [
    {
     "data": {
      "image/png": "[encoded data removed]",
      "text/plain": [
       "plot without title"
      ]
     },
     "metadata": {},
     "output_type": "display_data"
    }
   ],
   "source": [
    "ggplot(wineprod, aes(Rcount)) + geom_histogram(binwidth = 1, alpha = 0.5, position = 'identity') +\n",
    "labs( x = \"Number of Review\",\n",
    "     y = \"Count of Wine product\", \n",
    "     title = 'Distribution of number or product based on review count',\n",
    "    subtitle = 'Most of the wines have only 1 review')"
   ]
  },
  {
   "cell_type": "code",
   "execution_count": 162,
   "metadata": {},
   "outputs": [],
   "source": [
    "# Do tasters who review more wine tend to give different scores?\n",
    "wine4 <- merge(wine_clean, taster[c('tasterID', 'Rcount')], by.x = 'tasterID', by.y = 'tasterID', all.x = T)\n",
    "wine4 <- merge(wine4, wineprod[c('wineID', 'average')], by.x = 'wineID', by.y = 'wineID', all.x = T)\n",
    "\n",
    "avgpoint <- round(mean(wine4$points),2)"
   ]
  },
  {
   "cell_type": "code",
   "execution_count": 163,
   "metadata": {},
   "outputs": [
    {
     "data": {
      "text/html": [
       "88.84"
      ],
      "text/latex": [
       "88.84"
      ],
      "text/markdown": [
       "88.84"
      ],
      "text/plain": [
       "[1] 88.84"
      ]
     },
     "metadata": {},
     "output_type": "display_data"
    }
   ],
   "source": [
    "avgpoint"
   ]
  },
  {
   "cell_type": "code",
   "execution_count": 164,
   "metadata": {},
   "outputs": [
    {
     "data": {
      "image/png": "[encoded data removed]",
      "text/plain": [
       "plot without title"
      ]
     },
     "metadata": {},
     "output_type": "display_data"
    }
   ],
   "source": [
    "#distribution of wine mean point\n",
    "ggplot(wine4, aes(x = average)) +\n",
    "    geom_histogram(binwidth = 0.01, alpha = .5, position = 'identity') +\n",
    "    geom_vline(aes(xintercept = mean(points)), color = 'blue') +\n",
    "    labs(x = \"Mean Points\", y = \"count\", title = \"Distribution of User Mean Ratings\")"
   ]
  },
  {
   "cell_type": "code",
   "execution_count": 165,
   "metadata": {},
   "outputs": [],
   "source": [
    "# Differences among reviewers\n",
    "wine4$Rcut <- cut(wine4$Rcount, c(0,50,100,150,200,250,500,750,1000,1250,1500,1750,2000, 3000, 4000, 5000, 6000, 7000, 10000, 15000))"
   ]
  },
  {
   "cell_type": "code",
   "execution_count": 166,
   "metadata": {},
   "outputs": [],
   "source": [
    "statbox <- ungroup(wine4) %>%\n",
    "    group_by(Rcut) %>%\n",
    "    summarize(avgpoint = round(mean(points, na.rm = T),2),\n",
    "             medpoint = median(points),\n",
    "             sdpoint = round(sd(points, na.rm = T),2))"
   ]
  },
  {
   "cell_type": "code",
   "execution_count": 167,
   "metadata": {},
   "outputs": [],
   "source": [
    "colnames(statbox) <- c(\"Review Count\", \"Average Score\", \"Median Score\", \"Std Deviation\")"
   ]
  },
  {
   "cell_type": "markdown",
   "metadata": {},
   "source": [
    "Chart below shows that tasters tend to be fairly consistent despite tasters' experience.\n",
    "Scores tend to be about the same and all above 80s. "
   ]
  },
  {
   "cell_type": "code",
   "execution_count": 168,
   "metadata": {},
   "outputs": [
    {
     "data": {
      "text/html": [
       "<table>\n",
       "<caption>A tibble: 10 × 4</caption>\n",
       "<thead>\n",
       "\t<tr><th scope=col>Review Count</th><th scope=col>Average Score</th><th scope=col>Median Score</th><th scope=col>Std Deviation</th></tr>\n",
       "\t<tr><th scope=col>&lt;fct&gt;</th><th scope=col>&lt;dbl&gt;</th><th scope=col>&lt;dbl&gt;</th><th scope=col>&lt;dbl&gt;</th></tr>\n",
       "</thead>\n",
       "<tbody>\n",
       "\t<tr><td>(0,50]          </td><td>87.06</td><td>87</td><td>2.46</td></tr>\n",
       "\t<tr><td>(50,100]        </td><td>86.65</td><td>87</td><td>1.97</td></tr>\n",
       "\t<tr><td>(250,500]       </td><td>87.94</td><td>88</td><td>2.52</td></tr>\n",
       "\t<tr><td>(500,750]       </td><td>86.60</td><td>87</td><td>2.47</td></tr>\n",
       "\t<tr><td>(1e+03,1.25e+03]</td><td>87.80</td><td>88</td><td>2.53</td></tr>\n",
       "\t<tr><td>(2e+03,3e+03]   </td><td>90.08</td><td>90</td><td>2.70</td></tr>\n",
       "\t<tr><td>(3e+03,4e+03]   </td><td>88.89</td><td>89</td><td>2.71</td></tr>\n",
       "\t<tr><td>(4e+03,5e+03]   </td><td>90.52</td><td>91</td><td>2.48</td></tr>\n",
       "\t<tr><td>(6e+03,7e+03]   </td><td>89.38</td><td>89</td><td>2.85</td></tr>\n",
       "\t<tr><td>(1e+04,1.5e+04] </td><td>88.03</td><td>88</td><td>3.16</td></tr>\n",
       "</tbody>\n",
       "</table>\n"
      ],
      "text/latex": [
       "A tibble: 10 × 4\n",
       "\\begin{tabular}{r|llll}\n",
       " Review Count & Average Score & Median Score & Std Deviation\\\\\n",
       " <fct> & <dbl> & <dbl> & <dbl>\\\\\n",
       "\\hline\n",
       "\t (0,50{]}           & 87.06 & 87 & 2.46\\\\\n",
       "\t (50,100{]}         & 86.65 & 87 & 1.97\\\\\n",
       "\t (250,500{]}        & 87.94 & 88 & 2.52\\\\\n",
       "\t (500,750{]}        & 86.60 & 87 & 2.47\\\\\n",
       "\t (1e+03,1.25e+03{]} & 87.80 & 88 & 2.53\\\\\n",
       "\t (2e+03,3e+03{]}    & 90.08 & 90 & 2.70\\\\\n",
       "\t (3e+03,4e+03{]}    & 88.89 & 89 & 2.71\\\\\n",
       "\t (4e+03,5e+03{]}    & 90.52 & 91 & 2.48\\\\\n",
       "\t (6e+03,7e+03{]}    & 89.38 & 89 & 2.85\\\\\n",
       "\t (1e+04,1.5e+04{]}  & 88.03 & 88 & 3.16\\\\\n",
       "\\end{tabular}\n"
      ],
      "text/markdown": [
       "\n",
       "A tibble: 10 × 4\n",
       "\n",
       "| Review Count &lt;fct&gt; | Average Score &lt;dbl&gt; | Median Score &lt;dbl&gt; | Std Deviation &lt;dbl&gt; |\n",
       "|---|---|---|---|\n",
       "| (0,50]           | 87.06 | 87 | 2.46 |\n",
       "| (50,100]         | 86.65 | 87 | 1.97 |\n",
       "| (250,500]        | 87.94 | 88 | 2.52 |\n",
       "| (500,750]        | 86.60 | 87 | 2.47 |\n",
       "| (1e+03,1.25e+03] | 87.80 | 88 | 2.53 |\n",
       "| (2e+03,3e+03]    | 90.08 | 90 | 2.70 |\n",
       "| (3e+03,4e+03]    | 88.89 | 89 | 2.71 |\n",
       "| (4e+03,5e+03]    | 90.52 | 91 | 2.48 |\n",
       "| (6e+03,7e+03]    | 89.38 | 89 | 2.85 |\n",
       "| (1e+04,1.5e+04]  | 88.03 | 88 | 3.16 |\n",
       "\n"
      ],
      "text/plain": [
       "   Review Count     Average Score Median Score Std Deviation\n",
       "1  (0,50]           87.06         87           2.46         \n",
       "2  (50,100]         86.65         87           1.97         \n",
       "3  (250,500]        87.94         88           2.52         \n",
       "4  (500,750]        86.60         87           2.47         \n",
       "5  (1e+03,1.25e+03] 87.80         88           2.53         \n",
       "6  (2e+03,3e+03]    90.08         90           2.70         \n",
       "7  (3e+03,4e+03]    88.89         89           2.71         \n",
       "8  (4e+03,5e+03]    90.52         91           2.48         \n",
       "9  (6e+03,7e+03]    89.38         89           2.85         \n",
       "10 (1e+04,1.5e+04]  88.03         88           3.16         "
      ]
     },
     "metadata": {},
     "output_type": "display_data"
    }
   ],
   "source": [
    "statbox"
   ]
  },
  {
   "cell_type": "code",
   "execution_count": 169,
   "metadata": {},
   "outputs": [
    {
     "data": {
      "text/html": [
       "<table>\n",
       "<caption>A grouped_df: 1009 × 15</caption>\n",
       "<thead>\n",
       "\t<tr><th scope=col>country</th><th scope=col>description</th><th scope=col>designation</th><th scope=col>points</th><th scope=col>price</th><th scope=col>province</th><th scope=col>region_1</th><th scope=col>region_2</th><th scope=col>taster_name</th><th scope=col>taster_twitter_handle</th><th scope=col>title</th><th scope=col>variety</th><th scope=col>winery</th><th scope=col>tasterID</th><th scope=col>wineID</th></tr>\n",
       "\t<tr><th scope=col>&lt;fct&gt;</th><th scope=col>&lt;chr&gt;</th><th scope=col>&lt;chr&gt;</th><th scope=col>&lt;int&gt;</th><th scope=col>&lt;dbl&gt;</th><th scope=col>&lt;chr&gt;</th><th scope=col>&lt;chr&gt;</th><th scope=col>&lt;chr&gt;</th><th scope=col>&lt;fct&gt;</th><th scope=col>&lt;fct&gt;</th><th scope=col>&lt;chr&gt;</th><th scope=col>&lt;fct&gt;</th><th scope=col>&lt;fct&gt;</th><th scope=col>&lt;int&gt;</th><th scope=col>&lt;int&gt;</th></tr>\n",
       "</thead>\n",
       "<tbody>\n",
       "\t<tr><td>Spain    </td><td>Spiced apple and toast aromas are clean and direct. On the palate, it's malic and citric, with lime and white grapefruit flavors. A citrusy finish with a note of salt maintains freshness.                                                                                                                                                                                          </td><td>Brut                                   </td><td>87</td><td>16</td><td>Catalonia      </td><td>Cava                             </td><td>NA</td><td>Michael Schachner</td><td>@wineschach</td><td>1+1=3 NV Brut Sparkling (Cava)                                                  </td><td>Sparkling Blend     </td><td>1+1=3                       </td><td>13</td><td>  49</td></tr>\n",
       "\t<tr><td>Spain    </td><td>Dusty notes of citrus fruits are mild but friendly. This Cava is zesty, fresh and simple as a whole, with lime, clover and grassy flavors. Freshness is the overriding theme, while the finish tastes of apple and lime.                                                                                                                                                             </td><td>Brut                                   </td><td>87</td><td>16</td><td>Catalonia      </td><td>Cava                             </td><td>NA</td><td>Michael Schachner</td><td>@wineschach</td><td>1+1=3 NV Brut Sparkling (Cava)                                                  </td><td>Sparkling Blend     </td><td>1+1=3                       </td><td>13</td><td>  49</td></tr>\n",
       "\t<tr><td>France   </td><td>Bone dry and crisp, this is also has fruitiness from the ripeness of the grapes, giving impressively rich apple and pear flavors. Of course, these are cut by tight acidity and intense citrus, leaving a tight, steely aftertaste.                                                                                                                                                  </td><td>Dosage ZÃ©ro Brut Nature               </td><td>89</td><td>49</td><td>Champagne      </td><td>Champagne                        </td><td>NA</td><td>Roger Voss       </td><td>@vossroger </td><td>A.R. LenobleÂ  NV Dosage ZÃ©ro Brut Nature  (Champagne)                         </td><td>Champagne Blend     </td><td>A.R. LenobleÂ               </td><td>16</td><td> 221</td></tr>\n",
       "\t<tr><td>France   </td><td>This tight crisp wine delivers citrus and sliced apple fruits. There is a brisk mousse that gives the wine quite a bite of acidity. All the elements point in the direction of food for this Champagne. Like many bone-dry Champagnes, this bottling needs to age, so drink from 2018.                                                                                               </td><td>Dosage ZÃ©ro Brut Nature               </td><td>90</td><td>49</td><td>Champagne      </td><td>Champagne                        </td><td>NA</td><td>Roger Voss       </td><td>@vossroger </td><td>A.R. LenobleÂ  NV Dosage ZÃ©ro Brut Nature  (Champagne)                         </td><td>Champagne Blend     </td><td>A.R. LenobleÂ               </td><td>16</td><td> 221</td></tr>\n",
       "\t<tr><td>France   </td><td>With zero grams of residual sugar, this is wine is as dry as it gets, relying on the ripe fruit to balance the intense acidity. Crisp apple and tight acidity dominate. Like many zero-dosage Champagnes it needs to age, so hold this bottle for two years.                                                                                                                         </td><td>Dosage ZÃ©ro Brut Nature               </td><td>90</td><td>49</td><td>Champagne      </td><td>Champagne                        </td><td>NA</td><td>Roger Voss       </td><td>@vossroger </td><td>A.R. LenobleÂ  NV Dosage ZÃ©ro Brut Nature  (Champagne)                         </td><td>Champagne Blend     </td><td>A.R. LenobleÂ               </td><td>16</td><td> 221</td></tr>\n",
       "\t<tr><td>France   </td><td>The wine comes from the Grand Cru village of Chouilly in the Chardonnay vineyards of the CÃ´te des Blancs. It is crisp, mineral textured and still developing. Bright acidity and lemon-zest flavors give this wine its lively and also full-bodied character. Drink from 2018.                                                                                                      </td><td>Grand Cru Blanc de Blancs Chouilly Brut</td><td>92</td><td>54</td><td>Champagne      </td><td>Champagne                        </td><td>NA</td><td>Roger Voss       </td><td>@vossroger </td><td>A.R. LenobleÂ  NV Grand Cru Blanc de Blancs Chouilly Brut Chardonnay (Champagne)</td><td>Chardonnay          </td><td>A.R. LenobleÂ               </td><td>16</td><td> 222</td></tr>\n",
       "\t<tr><td>France   </td><td>This is a very lively wine with a creamy mousse. The wine is towards dry, bringing out great white and citrus fruit flavors with a burst of tangy acidity. It comes from the village of Chouilly in the CÃ´te des Blancs, which gives the wine a tight mineral texture at the end.                                                                                                   </td><td>Grand Cru Blanc de Blancs Chouilly Brut</td><td>91</td><td>54</td><td>Champagne      </td><td>Champagne                        </td><td>NA</td><td>Roger Voss       </td><td>@vossroger </td><td>A.R. LenobleÂ  NV Grand Cru Blanc de Blancs Chouilly Brut Chardonnay (Champagne)</td><td>Chardonnay          </td><td>A.R. LenobleÂ               </td><td>16</td><td> 222</td></tr>\n",
       "\t<tr><td>France   </td><td>A quarter of this nonvintage blend was vinified in wood. That adds some extra richness to the already ripe fruit. Based on the 2013 vintage, the wine is full of pear, crisp apple and hints of apricot. Drink now.                                                                                                                                                                  </td><td>Intense Brut                           </td><td>90</td><td>45</td><td>Champagne      </td><td>Champagne                        </td><td>NA</td><td>Roger Voss       </td><td>@vossroger </td><td>A.R. LenobleÂ  NV Intense Brut  (Champagne)                                     </td><td>Champagne Blend     </td><td>A.R. LenobleÂ               </td><td>16</td><td> 223</td></tr>\n",
       "\t<tr><td>France   </td><td>With vineyards in the Marne Valley, this Champagne house has produced a ripe, soft style. Based on grapes from the 2011 harvest, it is still young, although the acidity is softening to bring in ripe apple and green-plum flavors. An underlying ripe fruit character makes it extra attractive.                                                                                   </td><td>Intense Brut                           </td><td>89</td><td>45</td><td>Champagne      </td><td>Champagne                        </td><td>NA</td><td>Roger Voss       </td><td>@vossroger </td><td>A.R. LenobleÂ  NV Intense Brut  (Champagne)                                     </td><td>Champagne Blend     </td><td>A.R. LenobleÂ               </td><td>16</td><td> 223</td></tr>\n",
       "\t<tr><td>France   </td><td>Intense is a good description of this tightly textured and mineral-driven wine. Its fruit is subdued by the steely, tense character, although there are attractive hints of crisp apple and citrus acidity. The bottling is young and will repay several months aging after purchase.                                                                                                </td><td>Intense Brut                           </td><td>90</td><td>45</td><td>Champagne      </td><td>Champagne                        </td><td>NA</td><td>Roger Voss       </td><td>@vossroger </td><td>A.R. LenobleÂ  NV Intense Brut  (Champagne)                                     </td><td>Champagne Blend     </td><td>A.R. LenobleÂ               </td><td>16</td><td> 223</td></tr>\n",
       "\t<tr><td>France   </td><td>This beautifully crisp and fresh wine has great red-berry acidity. Tight and textured, it is dry while balancing fruit and the more steely edge. The bottling is young, so could be aged for six months from purchase, although it is also refreshing to drink immediately.                                                                                                          </td><td>Terroirs Brut RosÃ©                    </td><td>91</td><td>59</td><td>Champagne      </td><td>Champagne                        </td><td>NA</td><td>Roger Voss       </td><td>@vossroger </td><td>A.R. LenobleÂ  NV Terroirs Brut RosÃ©  (Champagne)                              </td><td>Champagne Blend     </td><td>A.R. LenobleÂ               </td><td>16</td><td> 224</td></tr>\n",
       "\t<tr><td>France   </td><td>With some attractive bottle age, this pale rosÃ© is warm and rich. Spice contrasts with crisp red fruits and acidity. The wine is ready to drink.                                                                                                                                                                                                                                    </td><td>Terroirs Brut RosÃ©                    </td><td>87</td><td>59</td><td>Champagne      </td><td>Champagne                        </td><td>NA</td><td>Roger Voss       </td><td>@vossroger </td><td>A.R. LenobleÂ  NV Terroirs Brut RosÃ©  (Champagne)                              </td><td>Champagne Blend     </td><td>A.R. LenobleÂ               </td><td>16</td><td> 224</td></tr>\n",
       "\t<tr><td>France   </td><td>The base of this wine is Chardonnay with some Pinot Noir added to give color (standard practice in Champagne). The result is a pale-colored wine that's ripe and full of fruit. It has a rich character lifted by the tight, mineral acidity in the aftertaste.                                                                                                                      </td><td>Terroirs Brut RosÃ©                    </td><td>91</td><td>59</td><td>Champagne      </td><td>Champagne                        </td><td>NA</td><td>Roger Voss       </td><td>@vossroger </td><td>A.R. LenobleÂ  NV Terroirs Brut RosÃ©  (Champagne)                              </td><td>Champagne Blend     </td><td>A.R. LenobleÂ               </td><td>16</td><td> 224</td></tr>\n",
       "\t<tr><td>Portugal </td><td>This big and bold wine exudes power and fruitiness. It has ripe fruits, sweet tannins and a great mix of spice, toasty wood and acidity. Both juicy and structured, it's likely to develop well. Drink from 2016.                                                                                                                                                                    </td><td>BridÃ£o Reserva                        </td><td>91</td><td>14</td><td>Tejo           </td><td>NA                               </td><td>NA</td><td>Roger Voss       </td><td>@vossroger </td><td>Adega Cooperativa do Cartaxo 2011 BridÃ£o Reserva Red (Tejo)                    </td><td>Portuguese Red      </td><td>Adega Cooperativa do Cartaxo</td><td>16</td><td> 545</td></tr>\n",
       "\t<tr><td>Portugal </td><td>Firmly structured, this has both great tannins and equally big, rich berry and black currant fruits that bring the acidity right up front. It is still young, emphasizing the fruit and freshness. The tannins and wood aging flavors need their chance. Drink from 2017.                                                                                                            </td><td>BridÃ£o Reserva                        </td><td>91</td><td>15</td><td>Tejo           </td><td>NA                               </td><td>NA</td><td>Roger Voss       </td><td>@vossroger </td><td>Adega Cooperativa do Cartaxo 2011 BridÃ£o Reserva Red (Tejo)                    </td><td>Portuguese Red      </td><td>Adega Cooperativa do Cartaxo</td><td>16</td><td> 545</td></tr>\n",
       "\t<tr><td>Portugal </td><td>This soft, yeasty and sweet blend of FernÃ£o Pires and Bical is fruity with apple and pear flavors. It has just enough acidity to keep it crisp on the finish and makes an easy apÃ©ritif.                                                                                                                                                                                           </td><td>Plexus Branco                          </td><td>84</td><td>10</td><td>Tejo           </td><td>NA                               </td><td>NA</td><td>Roger Voss       </td><td>@vossroger </td><td>Adega Cooperativa do Cartaxo NV Plexus Branco Sparkling (Tejo)                  </td><td>Portuguese Sparkling</td><td>Adega Cooperativa do Cartaxo</td><td>16</td><td> 569</td></tr>\n",
       "\t<tr><td>Portugal </td><td>Medium dry, this is a lightly fruity wine. It has sweet apple and light citrus flavors along with a zesty texture. It is soft and bright at the end.                                                                                                                                                                                                                                 </td><td>Plexus Branco                          </td><td>85</td><td> 7</td><td>Tejo           </td><td>NA                               </td><td>NA</td><td>Roger Voss       </td><td>@vossroger </td><td>Adega Cooperativa do Cartaxo NV Plexus Branco Sparkling (Tejo)                  </td><td>Portuguese Sparkling</td><td>Adega Cooperativa do Cartaxo</td><td>16</td><td> 569</td></tr>\n",
       "\t<tr><td>Spain    </td><td>Bready and yeasty smelling upfront, this feels round but also dry on the palate. Briny, pickled, yeasty flavors lead way to a salty finish. Quickly dissipating bubbles render it more of a demi-sec.                                                                                                                                                                                </td><td>Brut Natural Reserva                   </td><td>86</td><td>23</td><td>Catalonia      </td><td>PenedÃ¨s                         </td><td>NA</td><td>Michael Schachner</td><td>@wineschach</td><td>Albet I Noya 2011 Brut Natural Reserva Sparkling (PenedÃ¨s)                     </td><td>Sparkling Blend     </td><td>Albet I Noya                </td><td>13</td><td>1059</td></tr>\n",
       "\t<tr><td>Spain    </td><td>Leesy fleshy papaya aromas come with a touch of sulfur and harshness. This feels solid, albeit modest in bubbles. Flavors of apple and green melon are lasting and steady on the finish.                                                                                                                                                                                             </td><td>Brut Natural Reserva                   </td><td>88</td><td>23</td><td>Catalonia      </td><td>PenedÃ¨s                         </td><td>NA</td><td>Michael Schachner</td><td>@wineschach</td><td>Albet I Noya 2011 Brut Natural Reserva Sparkling (PenedÃ¨s)                     </td><td>Sparkling Blend     </td><td>Albet I Noya                </td><td>13</td><td>1059</td></tr>\n",
       "\t<tr><td>France   </td><td>As with all this producer's wines, the first fermentation iof this bottling was in wood, adding richness and smoothing out the fruit to give a warm, round character. The acidity is still tight and crisp, with citrus and apple flavors shot through with minerality. Drink now.                                                                                                   </td><td>Brut                                   </td><td>90</td><td>50</td><td>Champagne      </td><td>Champagne                        </td><td>NA</td><td>Roger Voss       </td><td>@vossroger </td><td>Alfred Gratien NV Brut  (Champagne)                                             </td><td>Champagne Blend     </td><td>Alfred Gratien              </td><td>16</td><td>1211</td></tr>\n",
       "\t<tr><td>France   </td><td>A dry, tight style of wine, with fresh grapefruit and lime flavors. It could do with some bottle age to allow the fruit to shed some of its intense acidity.                                                                                                                                                                                                                         </td><td>Brut                                   </td><td>87</td><td>69</td><td>Champagne      </td><td>Champagne                        </td><td>NA</td><td>Roger Voss       </td><td>@vossroger </td><td>Alfred Gratien NV Brut  (Champagne)                                             </td><td>Champagne Blend     </td><td>Alfred Gratien              </td><td>16</td><td>1211</td></tr>\n",
       "\t<tr><td>France   </td><td>This stalky, smoky wine has red currant fruits and a tight texture. The fruit is just ripe, light in character with very fresh acidity. Some more depth would have been good. Drink now.                                                                                                                                                                                             </td><td>Demoiselle Bleue                       </td><td>84</td><td>15</td><td>Loire Valley   </td><td>Saumur                           </td><td>NA</td><td>Roger Voss       </td><td>@vossroger </td><td>Alliance Loire 2014 Demoiselle Bleue  (Saumur)                                  </td><td>Cabernet Franc      </td><td>Alliance Loire              </td><td>16</td><td>1295</td></tr>\n",
       "\t<tr><td>France   </td><td>Peach and pear flavors entwine with intense, youthful acidity in this bone-dry wine. It is taut and still developing fuller, fruity character. Very fresh, it needs time; drink from 2016.                                                                                                                                                                                           </td><td>Demoiselle Bleue                       </td><td>86</td><td>15</td><td>Loire Valley   </td><td>Saumur                           </td><td>NA</td><td>Roger Voss       </td><td>@vossroger </td><td>Alliance Loire 2014 Demoiselle Bleue  (Saumur)                                  </td><td>Chenin Blanc        </td><td>Alliance Loire              </td><td>16</td><td>1295</td></tr>\n",
       "\t<tr><td>France   </td><td>Blossom and citrus notes stream from the glassâ€”there are notes of green pear too. The slender palate boosts these fruit notes with a generous but still dry dosage, while hints of grassy herbs play along the edges. This is frothy, easy and very fresh. Drink soon.                                                                                                             </td><td>Brut                                   </td><td>87</td><td>20</td><td>Alsace         </td><td>CrÃ©mant d'Alsace                </td><td>NA</td><td>Anne KrebiehlÂ MW</td><td>@AnneInVino</td><td>Allimant-Laugner NV Brut Sparkling (CrÃ©mant d'Alsace)                          </td><td>Sparkling Blend     </td><td>Allimant-Laugner            </td><td> 3</td><td>1305</td></tr>\n",
       "\t<tr><td>France   </td><td>Lovely and fresh notes of red apple are joined by a livelier tangier citrus note on the nose. The dry palate is very light, almost weightless and fizzes away with a very fine mousse. There is real depth of fruit and a knowingly light touch. It is lovely as an elegant apÃ©ritif but sophisticated enough to be served alongside food. The finish is tart, lasting and grown-up.</td><td>Brut                                   </td><td>91</td><td>20</td><td>Alsace         </td><td>CrÃ©mant d'Alsace                </td><td>NA</td><td>Anne KrebiehlÂ MW</td><td>@AnneInVino</td><td>Allimant-Laugner NV Brut Sparkling (CrÃ©mant d'Alsace)                          </td><td>Sparkling Blend     </td><td>Allimant-Laugner            </td><td> 3</td><td>1305</td></tr>\n",
       "\t<tr><td>Spain    </td><td>A rank well above most PX sweeties, with lush but fresh aromas of raisin and spice that are distinctly not syrupy or heavy. Feels thick, but there's enough acidity to cut through the wine's weight. Flavors of caramel and chocolate are ideal, and the finish is smooth, not heavy, and has bounce in its step. A beautiful PX any way you cut it.                                </td><td>Solera 1927                            </td><td>94</td><td>25</td><td>Andalucia      </td><td>Montilla-Moriles                 </td><td>NA</td><td>Michael Schachner</td><td>@wineschach</td><td>Alvear NV Solera 1927 Pedro XimÃ©nez (Montilla-Moriles)                         </td><td>Pedro XimÃ©nez      </td><td>Alvear                      </td><td>13</td><td>1702</td></tr>\n",
       "\t<tr><td>Spain    </td><td>One of the world's best PX wines is Solera 1927, the pride of Alvear. Whatever solera stocks went into this bottling were well selected. Aromas of maple and fine wood turn to fig and caramel. Saturation and weight on the palate are expected, but this has some (though not a lot) acidic cut. Deep flavors of fig and Nutella finish with nuttiness and warmth. Drink or hold.  </td><td>Solera 1927                            </td><td>96</td><td>30</td><td>Andalucia      </td><td>Montilla-Moriles                 </td><td>NA</td><td>Michael Schachner</td><td>@wineschach</td><td>Alvear NV Solera 1927 Pedro XimÃ©nez (Montilla-Moriles)                         </td><td>Pedro XimÃ©nez      </td><td>Alvear                      </td><td>13</td><td>1702</td></tr>\n",
       "\t<tr><td>Australia</td><td>A tip of the cap to the Angove family for turning out such an ageworthy wine. It's packed and stacked with mulberry fruit, lashings of vanilla and just a hint of mint. Full-bodied and tannic, it should drink well from 2020â€“2030.                                                                                                                                               </td><td>The Medhyk Old Vine                    </td><td>94</td><td>95</td><td>South Australia</td><td>McLaren Vale                     </td><td>NA</td><td>Joe Czerwinski   </td><td>@JoeCz     </td><td>Angove 2012 The Medhyk Old Vine Shiraz (McLaren Vale)                           </td><td>Shiraz              </td><td>Angove                      </td><td> 9</td><td>2266</td></tr>\n",
       "\t<tr><td>Australia</td><td>The Angove family has made a real commitment to its prestige wine portfolio, and this Shiraz represents that new level of quality. It's ripe without being over the top, marrying ripeness and supple tannins with savory notes of tar and espresso. Drink nowâ€“2025, possibly beyond.                                                                                              </td><td>The Medhyk Old Vine                    </td><td>92</td><td>95</td><td>South Australia</td><td>McLaren Vale                     </td><td>NA</td><td>Joe Czerwinski   </td><td>@JoeCz     </td><td>Angove 2012 The Medhyk Old Vine Shiraz (McLaren Vale)                           </td><td>Shiraz              </td><td>Angove                      </td><td> 9</td><td>2266</td></tr>\n",
       "\t<tr><td>France   </td><td>This wine has a bright, crisp character that is reminiscent of Chablis. It has refreshing lemon and apple flavors, and it's ready to drink.                                                                                                                                                                                                                                          </td><td>ChÃ¢teau de Mercey                     </td><td>87</td><td>23</td><td>Burgundy       </td><td>Bourgogne Hautes CÃ´tes de Beaune</td><td>NA</td><td>Roger Voss       </td><td>@vossroger </td><td>Antonin Rodet 2010 ChÃ¢teau de Mercey  (Bourgogne Hautes CÃ´tes de Beaune)      </td><td>Chardonnay          </td><td>Antonin Rodet               </td><td>16</td><td>2469</td></tr>\n",
       "\t<tr><td>...</td><td>...</td><td>...</td><td>...</td><td>...</td><td>...</td><td>...</td><td>...</td><td>...</td><td>...</td><td>...</td><td>...</td><td>...</td><td>...</td><td>...</td></tr>\n",
       "\t<tr><td>France  </td><td>An equal blend of Pinot Noir, Chardonnay and Pinot Meunier, this is the producer's nonvintage cuvÃ©e, soft and ripe. Balanced and crisp, it has attractive acidity under the light texture and tangy lemon-zest flavor. The bottling is ready to drink.                                                                                                                                                                 </td><td>Brut RÃ©serve                  </td><td>88</td><td>35</td><td>Champagne             </td><td>Champagne              </td><td>NA               </td><td>Roger Voss       </td><td>@vossroger      </td><td>Vollereaux NV Brut RÃ©serve  (Champagne)                                       </td><td>Champagne Blend   </td><td>Vollereaux        </td><td>16</td><td>60826</td></tr>\n",
       "\t<tr><td>France  </td><td>This ripe, soft wine is well balanced and offers attractive fruitiness. The creamy mousse and acidity bring richness and a fresh character. With its finely judged dosage, not too dry, not too sweet, the wine is very ready to drink.                                                                                                                                                                                 </td><td>Brut RÃ©serve                  </td><td>88</td><td>35</td><td>Champagne             </td><td>Champagne              </td><td>NA               </td><td>Roger Voss       </td><td>@vossroger      </td><td>Vollereaux NV Brut RÃ©serve  (Champagne)                                       </td><td>Champagne Blend   </td><td>Vollereaux        </td><td>16</td><td>60826</td></tr>\n",
       "\t<tr><td>France  </td><td>This is an unusual rosÃ© for Champagne. It is made 100% from Pinot Noir rather than a blend. And it is made by getting color directly from the fermenting grapes rather than the normal Champagne process of adding red wine. The result is a dark-colored rosÃ© that has a tannic structure as well as red fruits. It is rich and concentrated with ripeness rather than great freshness. It is definitely a food wine.</td><td>Brut RosÃ© de SaignÃ©e         </td><td>87</td><td>40</td><td>Champagne             </td><td>Champagne              </td><td>NA               </td><td>Roger Voss       </td><td>@vossroger      </td><td>Vollereaux NV Brut RosÃ© de SaignÃ©e Pinot Noir (Champagne)                    </td><td>Pinot Noir        </td><td>Vollereaux        </td><td>16</td><td>60828</td></tr>\n",
       "\t<tr><td>France  </td><td>Most rosÃ© Champagnes get their color by the addition of red wine. This wine gets its hue from the skins of red grapes macerating before fermentation. It has a deep pink color and a lightly tannic character, making for a rich wine flavored with red currants and finished with acidity.                                                                                                                            </td><td>Brut RosÃ© de SaignÃ©e         </td><td>88</td><td>40</td><td>Champagne             </td><td>Champagne              </td><td>NA               </td><td>Roger Voss       </td><td>@vossroger      </td><td>Vollereaux NV Brut RosÃ© de SaignÃ©e Pinot Noir (Champagne)                    </td><td>Pinot Noir        </td><td>Vollereaux        </td><td>16</td><td>60828</td></tr>\n",
       "\t<tr><td>France  </td><td>Orange-pink color on this soft, ripe rosÃ©. The balance is better than in past years, with acidity cutting the red fruits. Light-bodied with a good texture.                                                                                                                                                                                                                                                            </td><td>Demoiselle RosÃ© Brut          </td><td>89</td><td>50</td><td>Champagne             </td><td>Champagne              </td><td>NA               </td><td>Roger Voss       </td><td>@vossroger      </td><td>Vranken NV Demoiselle RosÃ© Brut  (Champagne)                                  </td><td>Champagne Blend   </td><td>Vranken           </td><td>16</td><td>60934</td></tr>\n",
       "\t<tr><td>France  </td><td>While it is certainly on the sweet side, this bottling, with its lively mousse and strawberry flavors, is a definite step up from previous tastings. It has weight but also freshness.                                                                                                                                                                                                                                  </td><td>Demoiselle RosÃ© Brut          </td><td>88</td><td>55</td><td>Champagne             </td><td>Champagne              </td><td>NA               </td><td>Roger Voss       </td><td>@vossroger      </td><td>Vranken NV Demoiselle RosÃ© Brut  (Champagne)                                  </td><td>Champagne Blend   </td><td>Vranken           </td><td>16</td><td>60934</td></tr>\n",
       "\t<tr><td>France  </td><td>A balanced wine, with softness that indicates a relatively high dosage. There is no complexity, but the wine is light, creamy, flavored with green plums and kiwi, just edged with bitterness.                                                                                                                                                                                                                          </td><td>Demoiselle TÃªte de CuvÃ©e Brut</td><td>85</td><td>40</td><td>Champagne             </td><td>Champagne              </td><td>NA               </td><td>Roger Voss       </td><td>@vossroger      </td><td>Vranken NV Demoiselle TÃªte de CuvÃ©e Brut  (Champagne)                        </td><td>Champagne Blend   </td><td>Vranken           </td><td>16</td><td>60935</td></tr>\n",
       "\t<tr><td>France  </td><td>The style of this creamy wine seems to have become drier, giving a steely tight character to go with the apple and citrus flavors. The result is attractive, very fresh, ready to drink.                                                                                                                                                                                                                                </td><td>Demoiselle TÃªte de CuvÃ©e Brut</td><td>90</td><td>40</td><td>Champagne             </td><td>Champagne              </td><td>NA               </td><td>Roger Voss       </td><td>@vossroger      </td><td>Vranken NV Demoiselle TÃªte de CuvÃ©e Brut  (Champagne)                        </td><td>Champagne Blend   </td><td>Vranken           </td><td>16</td><td>60935</td></tr>\n",
       "\t<tr><td>France  </td><td>Vranken's releases seem to be bucking the trend towards drier Champagnes. This wine is soft and obviously the dosage is high. It is balanced and the fresh creamed apple flavors and light texture all work well together. It is in a light style, ready to drink.                                                                                                                                                      </td><td>Diamant Brut                   </td><td>87</td><td>53</td><td>Champagne             </td><td>Champagne              </td><td>NA               </td><td>Roger Voss       </td><td>@vossroger      </td><td>Vranken NV Diamant Brut  (Champagne)                                           </td><td>Champagne Blend   </td><td>Vranken           </td><td>16</td><td>60936</td></tr>\n",
       "\t<tr><td>France  </td><td>For those who like their non-vintage with some bottle age, this is a fine wine. While it has lost its early freshness, it certainly has gained in complexity, offering ripe, soft, toasty flavors to add to the green plum fruits and acidity.                                                                                                                                                                          </td><td>Diamant Brut                   </td><td>89</td><td>50</td><td>Champagne             </td><td>Champagne              </td><td>NA               </td><td>Roger Voss       </td><td>@vossroger      </td><td>Vranken NV Diamant Brut  (Champagne)                                           </td><td>Champagne Blend   </td><td>Vranken           </td><td>16</td><td>60936</td></tr>\n",
       "\t<tr><td>Portugal</td><td>This is a classic Reserve Ruby, full of berry fruits, juicy acidity and light tannins. Hints of dried fruits combine with red berries to give a wine that is stylish and dry in the Warre's style.                                                                                                                                                                                                                      </td><td>Warrior Reserve                </td><td>87</td><td>18</td><td>Port                  </td><td>NA                     </td><td>NA               </td><td>Roger Voss       </td><td>@vossroger      </td><td>Warre's NV Warrior Reserve  (Port)                                             </td><td>Port              </td><td>Warre's           </td><td>16</td><td>61206</td></tr>\n",
       "\t<tr><td>Portugal</td><td>Bright fruits in a Port with soft tannins and a structure that pushes blackberry fruit and sweet jelly. The wine is soft, ripe, full, showing some dryness from tannins on the finish.                                                                                                                                                                                                                                  </td><td>Warrior Reserve                </td><td>86</td><td>19</td><td>Port                  </td><td>NA                     </td><td>NA               </td><td>Roger Voss       </td><td>@vossroger      </td><td>Warre's NV Warrior Reserve  (Port)                                             </td><td>Port              </td><td>Warre's           </td><td>16</td><td>61206</td></tr>\n",
       "\t<tr><td>US      </td><td>A strong almond and marzipan aroma jumps out of the glass. Flavors are quite fruity and the almond note isn't as strong as in the aromas. This wine is softly sparkling and somewhat sweet.                                                                                                                                                                                                                             </td><td>Almond Demi-Sec                </td><td>83</td><td>12</td><td>California            </td><td>California             </td><td>California Other </td><td>Jim Gordon       </td><td>@gordone_cellars</td><td>Weibel Family NV Almond Demi-Sec Sparkling (California)                        </td><td>Sparkling Blend   </td><td>Weibel Family     </td><td> 8</td><td>61374</td></tr>\n",
       "\t<tr><td>US      </td><td>This wine smells like a Danish pastry, with strong, very sweet almond flavors that cling to the taste buds long after sipping.                                                                                                                                                                                                                                                                                          </td><td>Almond Demi-Sec                </td><td>82</td><td>12</td><td>California            </td><td>California             </td><td>California Other </td><td>Jim Gordon       </td><td>@gordone_cellars</td><td>Weibel Family NV Almond Demi-Sec Sparkling (California)                        </td><td>Sparkling Blend   </td><td>Weibel Family     </td><td> 8</td><td>61374</td></tr>\n",
       "\t<tr><td>Austria </td><td>The concentration here is enormous, from low-yielding old vines. The wine has the characteristic pepper edge, but the creamy character, the ripe lychees and green plums, are all more dominant. At the end, a distinct spiciness shows through. Age ideally for 3â€“4 years.                                                                                                                                           </td><td>Alte Reben                     </td><td>93</td><td>27</td><td>NiederÃ¶sterreich     </td><td>NA                     </td><td>NA               </td><td>Roger Voss       </td><td>@vossroger      </td><td>Weinrieder 2007 Alte Reben GrÃ¼ner Veltliner (NiederÃ¶sterreich)               </td><td>GrÃ¼ner Veltliner </td><td>Weinrieder        </td><td>16</td><td>61454</td></tr>\n",
       "\t<tr><td>Austria </td><td>A gorgeous wine, its richness fuelled by the concentration that comes from old vines. The wine rolls opulently around the mouth, showing apricot flavors over almonds and spice. A final burst of freshness gives it a delicious lift.                                                                                                                                                                                  </td><td>Alte Reben                     </td><td>90</td><td>28</td><td>NiederÃ¶sterreich     </td><td>NA                     </td><td>NA               </td><td>Roger Voss       </td><td>@vossroger      </td><td>Weinrieder 2007 Alte Reben GrÃ¼ner Veltliner (NiederÃ¶sterreich)               </td><td>GrÃ¼ner Veltliner </td><td>Weinrieder        </td><td>16</td><td>61454</td></tr>\n",
       "\t<tr><td>US      </td><td>A cuvÃ©e of Riesling, with a tiny splash of Moscato, this is on the sweet side of brut. Scents of wet paper carry into disjointed flavors of waxy lemon and simple sugar.                                                                                                                                                                                                                                               </td><td>CuvÃ©e Blanc                   </td><td>83</td><td>25</td><td>Oregon                </td><td>Willamette Valley      </td><td>Willamette Valley</td><td>Paul Gregutt     </td><td>@paulgwineÂ     </td><td>Wetzel Estate NV CuvÃ©e Blanc Sparkling (Willamette Valley)                    </td><td>Sparkling Blend   </td><td>Wetzel Estate     </td><td>15</td><td>61615</td></tr>\n",
       "\t<tr><td>US      </td><td>The winery indicates this is from 2015, but there is no vintage shown on the bottle. On the sweet edge of brut, it smells and tastes of plastic, with a grainy, sugary mouthfeel and simple apple fruit.                                                                                                                                                                                                                </td><td>CuvÃ©e Blanc                   </td><td>84</td><td>25</td><td>Oregon                </td><td>Willamette Valley      </td><td>Willamette Valley</td><td>Paul Gregutt     </td><td>@paulgwineÂ     </td><td>Wetzel Estate NV CuvÃ©e Blanc Sparkling (Willamette Valley)                    </td><td>Sparkling Blend   </td><td>Wetzel Estate     </td><td>15</td><td>61615</td></tr>\n",
       "\t<tr><td>Portugal</td><td><span style=white-space:pre-wrap>Produced by the cooperative of Santo Isidro de PegÃµes south of Lisbon, this wine comes from the grape variety that's planted across the region. It's an open, soft wine, great for pasta dishes with plenty of ripe fruits and gentle tannins. Drink now.                                                                                                                                                              </span></td><td><span style=white-space:pre-wrap>Dona Helena Colheita           </span></td><td>84</td><td>12</td><td>PenÃ­nsula de SetÃºbal</td><td><span style=white-space:pre-wrap>NA                     </span></td><td><span style=white-space:pre-wrap>NA               </span></td><td><span style=white-space:pre-wrap>Roger Voss       </span></td><td><span style=white-space:pre-wrap>@vossroger      </span></td><td>Wines &amp; Winemakers 2014 Dona Helena Colheita CastelÃ£o (PenÃ­nsula de SetÃºbal)</td><td><span style=white-space:pre-wrap>CastelÃ£o         </span></td><td>Wines &amp; Winemakers</td><td>16</td><td>62386</td></tr>\n",
       "\t<tr><td>Portugal</td><td><span style=white-space:pre-wrap>This is a rustic, barnyard-scented wine, with tannins and acidity but lacking fruit. Think of it as one to quaff without too much thought.                                                                                                                                                                                                                                                                              </span></td><td><span style=white-space:pre-wrap>Dona Helena Colheita           </span></td><td>83</td><td>11</td><td>PenÃ­nsula de SetÃºbal</td><td><span style=white-space:pre-wrap>NA                     </span></td><td><span style=white-space:pre-wrap>NA               </span></td><td><span style=white-space:pre-wrap>Roger Voss       </span></td><td><span style=white-space:pre-wrap>@vossroger      </span></td><td>Wines &amp; Winemakers 2014 Dona Helena Colheita CastelÃ£o (PenÃ­nsula de SetÃºbal)</td><td><span style=white-space:pre-wrap>CastelÃ£o         </span></td><td>Wines &amp; Winemakers</td><td>16</td><td>62386</td></tr>\n",
       "\t<tr><td>Portugal</td><td><span style=white-space:pre-wrap>An intensely orange-pink-colored wine, this is a blend of the local CastelÃ£o with Touriga Nacional and Syrah. Its acidity is filled out with ripe red-berry fruits and a smooth texture of vanilla. The wine is soft and ready to drink.                                                                                                                                                                               </span></td><td><span style=white-space:pre-wrap>Monte de BaÃ­a                 </span></td><td>84</td><td>12</td><td>PenÃ­nsula de SetÃºbal</td><td><span style=white-space:pre-wrap>NA                     </span></td><td><span style=white-space:pre-wrap>NA               </span></td><td><span style=white-space:pre-wrap>Roger Voss       </span></td><td><span style=white-space:pre-wrap>@vossroger      </span></td><td><span style=white-space:pre-wrap>Wines &amp; Winemakers 2016 Monte de BaÃ­a RosÃ© (PenÃ­nsula de SetÃºbal)          </span></td><td><span style=white-space:pre-wrap>RosÃ©             </span></td><td>Wines &amp; Winemakers</td><td>16</td><td>62447</td></tr>\n",
       "\t<tr><td>Portugal</td><td><span style=white-space:pre-wrap>A crisp, caramel- and red-fruit-flavored blend of CastelÃ£o, Touriga Nacional and Syrah, this is ready to drink. Produced at Casa Ermelinda Freitas winery, it has a salty edge from the nearby ocean, finishing with plenty of acidity.                                                                                                                                                                                </span></td><td><span style=white-space:pre-wrap>Monte de BaÃ­a                 </span></td><td>86</td><td>12</td><td>PenÃ­nsula de SetÃºbal</td><td><span style=white-space:pre-wrap>NA                     </span></td><td><span style=white-space:pre-wrap>NA               </span></td><td><span style=white-space:pre-wrap>Roger Voss       </span></td><td><span style=white-space:pre-wrap>@vossroger      </span></td><td><span style=white-space:pre-wrap>Wines &amp; Winemakers 2016 Monte de BaÃ­a RosÃ© (PenÃ­nsula de SetÃºbal)          </span></td><td><span style=white-space:pre-wrap>RosÃ©             </span></td><td>Wines &amp; Winemakers</td><td>16</td><td>62447</td></tr>\n",
       "\t<tr><td>France  </td><td>Attractive, best-selling CrÃ©mant d'Alsace, with its crisp apple and almond flavors to go with the acidity. It is lively, well-balanced, a great value in sparkling wines.                                                                                                                                                                                                                                              </td><td>Brut                           </td><td>88</td><td>22</td><td>Alsace                </td><td>CrÃ©mant d'Alsace      </td><td>NA               </td><td>Roger Voss       </td><td>@vossroger      </td><td>Wolfberger NV Brut Sparkling (CrÃ©mant d'Alsace)                               </td><td>Sparkling Blend   </td><td>Wolfberger        </td><td>16</td><td>62669</td></tr>\n",
       "\t<tr><td>France  </td><td>This is a really fruity, really refreshing sparkling wine. It boasts apple, citrus and a touch of apricot flavors, as well as tight acidity. It is fragrant, pure and clean, and very fresh on the finish.                                                                                                                                                                                                              </td><td>Brut                           </td><td>88</td><td>22</td><td>Alsace                </td><td>CrÃ©mant d'Alsace      </td><td>NA               </td><td>Roger Voss       </td><td>@vossroger      </td><td>Wolfberger NV Brut Sparkling (CrÃ©mant d'Alsace)                               </td><td>Sparkling Blend   </td><td>Wolfberger        </td><td>16</td><td>62669</td></tr>\n",
       "\t<tr><td>US      </td><td>This Cabernet Sauvignon's char, vanilla, caramel, toast, herb and dark fruit scents are followed by equal parts fruit and barrel flavors. It delivers enjoyment notwithstanding the heavy oak influence, which may yet integrate in the bottle.                                                                                                                                                                         </td><td>Estate                         </td><td>89</td><td>49</td><td>Washington            </td><td>Walla Walla Valley (WA)</td><td>Columbia Valley  </td><td>Sean P. Sullivan </td><td>@wawinereport   </td><td>Woodward Canyon 2013 Estate Cabernet Sauvignon (Walla Walla Valley (WA))       </td><td>Cabernet Sauvignon</td><td>Woodward Canyon   </td><td>17</td><td>62753</td></tr>\n",
       "\t<tr><td>US      </td><td>Blended with 13% Syrah, this wine opens with notes of cassis, smoke, sweet herb, vanilla and tar. The black-fruit flavors are full bodied but still retain a sense of vibrancy and deftness. The finish stretches out and the tannins provide some chew.                                                                                                                                                                </td><td>Estate                         </td><td>91</td><td>49</td><td>Washington            </td><td>Walla Walla Valley (WA)</td><td>Columbia Valley  </td><td>Sean P. Sullivan </td><td>@wawinereport   </td><td>Woodward Canyon 2013 Estate Cabernet Sauvignon (Walla Walla Valley (WA))       </td><td>Cabernet Sauvignon</td><td>Woodward Canyon   </td><td>17</td><td>62753</td></tr>\n",
       "\t<tr><td>Italy   </td><td>Fun and refreshing, this frothy sparkler opens with scents of spring flower and white stone fruit. The lively palate doles out creamy white peach and green apple alongside fresh acidity.                                                                                                                                                                                                                              </td><td>CuvÃ©e 1821 Brut               </td><td>86</td><td>13</td><td>Veneto                </td><td>Prosecco               </td><td>NA               </td><td>Kerin Oâ€™Keefe  </td><td>@kerinokeefe    </td><td>Zonin NV CuvÃ©e 1821 Brut  (Prosecco)                                          </td><td>Glera             </td><td>Zonin             </td><td>10</td><td>63329</td></tr>\n",
       "\t<tr><td>Italy   </td><td>Heady aromas of peach and exotic fruit carry over to the refreshing palate along with a citrusy note. It has a lively perlage while crisp acidity gives it a clean refreshing finish.                                                                                                                                                                                                                                   </td><td>CuvÃ©e 1821 Brut               </td><td>86</td><td>15</td><td>Veneto                </td><td>Prosecco               </td><td>NA               </td><td>Kerin Oâ€™Keefe  </td><td>@kerinokeefe    </td><td>Zonin NV CuvÃ©e 1821 Brut  (Prosecco)                                          </td><td>Glera             </td><td>Zonin             </td><td>10</td><td>63329</td></tr>\n",
       "\t<tr><td>France  </td><td>Lovely notes of Golden Pearmain apple perfume the nose, with hints of soy sauce. The body and palate are luminous showing green apple freshness that come across as light, graceful and authentic. There is something honest and fresh-faced about this wine that is rather disarming. This is a very beautiful, classy crÃ©mant made from a blend of Riesling and Auxerrois.                                           </td><td>Clos Liebenberg                </td><td>93</td><td>58</td><td>Alsace                </td><td>CrÃ©mant d'Alsace      </td><td>NA               </td><td>Anne KrebiehlÂ MW</td><td>@AnneInVino     </td><td>Zusslin 2012 Clos Liebenberg Sparkling (CrÃ©mant d'Alsace)                     </td><td>Sparkling Blend   </td><td>Zusslin           </td><td> 3</td><td>63445</td></tr>\n",
       "\t<tr><td>France  </td><td>Exquisitely fragrant notes of ripe, aromatic apples rise from the glass: tart, fruity and fresh in equal measure. The palate shows both evolved autolysis by way of soy-spiced breadiness and even more fruit in the way of bruised, tart apple notes of great purity. The finish is long and full of flavor, complex, nuanced and resolutely dry.                                                                      </td><td>Clos Liebenberg                </td><td>93</td><td>57</td><td>Alsace                </td><td>CrÃ©mant d'Alsace      </td><td>NA               </td><td>Anne KrebiehlÂ MW</td><td>@AnneInVino     </td><td>Zusslin 2012 Clos Liebenberg Sparkling (CrÃ©mant d'Alsace)                     </td><td>Sparkling Blend   </td><td>Zusslin           </td><td> 3</td><td>63445</td></tr>\n",
       "</tbody>\n",
       "</table>\n"
      ],
      "text/latex": [
       "A grouped_df: 1009 × 15\n",
       "\\begin{tabular}{r|lllllllllllllll}\n",
       " country & description & designation & points & price & province & region\\_1 & region\\_2 & taster\\_name & taster\\_twitter\\_handle & title & variety & winery & tasterID & wineID\\\\\n",
       " <fct> & <chr> & <chr> & <int> & <dbl> & <chr> & <chr> & <chr> & <fct> & <fct> & <chr> & <fct> & <fct> & <int> & <int>\\\\\n",
       "\\hline\n",
       "\t Spain     & Spiced apple and toast aromas are clean and direct. On the palate, it's malic and citric, with lime and white grapefruit flavors. A citrusy finish with a note of salt maintains freshness.                                                                                                                                                                                           & Brut                                    & 87 & 16 & Catalonia       & Cava                              & NA & Michael Schachner & @wineschach & 1+1=3 NV Brut Sparkling (Cava)                                                   & Sparkling Blend      & 1+1=3                        & 13 &   49\\\\\n",
       "\t Spain     & Dusty notes of citrus fruits are mild but friendly. This Cava is zesty, fresh and simple as a whole, with lime, clover and grassy flavors. Freshness is the overriding theme, while the finish tastes of apple and lime.                                                                                                                                                              & Brut                                    & 87 & 16 & Catalonia       & Cava                              & NA & Michael Schachner & @wineschach & 1+1=3 NV Brut Sparkling (Cava)                                                   & Sparkling Blend      & 1+1=3                        & 13 &   49\\\\\n",
       "\t France    & Bone dry and crisp, this is also has fruitiness from the ripeness of the grapes, giving impressively rich apple and pear flavors. Of course, these are cut by tight acidity and intense citrus, leaving a tight, steely aftertaste.                                                                                                                                                   & Dosage ZÃ©ro Brut Nature                & 89 & 49 & Champagne       & Champagne                         & NA & Roger Voss        & @vossroger  & A.R. LenobleÂ  NV Dosage ZÃ©ro Brut Nature  (Champagne)                          & Champagne Blend      & A.R. LenobleÂ                & 16 &  221\\\\\n",
       "\t France    & This tight crisp wine delivers citrus and sliced apple fruits. There is a brisk mousse that gives the wine quite a bite of acidity. All the elements point in the direction of food for this Champagne. Like many bone-dry Champagnes, this bottling needs to age, so drink from 2018.                                                                                                & Dosage ZÃ©ro Brut Nature                & 90 & 49 & Champagne       & Champagne                         & NA & Roger Voss        & @vossroger  & A.R. LenobleÂ  NV Dosage ZÃ©ro Brut Nature  (Champagne)                          & Champagne Blend      & A.R. LenobleÂ                & 16 &  221\\\\\n",
       "\t France    & With zero grams of residual sugar, this is wine is as dry as it gets, relying on the ripe fruit to balance the intense acidity. Crisp apple and tight acidity dominate. Like many zero-dosage Champagnes it needs to age, so hold this bottle for two years.                                                                                                                          & Dosage ZÃ©ro Brut Nature                & 90 & 49 & Champagne       & Champagne                         & NA & Roger Voss        & @vossroger  & A.R. LenobleÂ  NV Dosage ZÃ©ro Brut Nature  (Champagne)                          & Champagne Blend      & A.R. LenobleÂ                & 16 &  221\\\\\n",
       "\t France    & The wine comes from the Grand Cru village of Chouilly in the Chardonnay vineyards of the CÃ´te des Blancs. It is crisp, mineral textured and still developing. Bright acidity and lemon-zest flavors give this wine its lively and also full-bodied character. Drink from 2018.                                                                                                       & Grand Cru Blanc de Blancs Chouilly Brut & 92 & 54 & Champagne       & Champagne                         & NA & Roger Voss        & @vossroger  & A.R. LenobleÂ  NV Grand Cru Blanc de Blancs Chouilly Brut Chardonnay (Champagne) & Chardonnay           & A.R. LenobleÂ                & 16 &  222\\\\\n",
       "\t France    & This is a very lively wine with a creamy mousse. The wine is towards dry, bringing out great white and citrus fruit flavors with a burst of tangy acidity. It comes from the village of Chouilly in the CÃ´te des Blancs, which gives the wine a tight mineral texture at the end.                                                                                                    & Grand Cru Blanc de Blancs Chouilly Brut & 91 & 54 & Champagne       & Champagne                         & NA & Roger Voss        & @vossroger  & A.R. LenobleÂ  NV Grand Cru Blanc de Blancs Chouilly Brut Chardonnay (Champagne) & Chardonnay           & A.R. LenobleÂ                & 16 &  222\\\\\n",
       "\t France    & A quarter of this nonvintage blend was vinified in wood. That adds some extra richness to the already ripe fruit. Based on the 2013 vintage, the wine is full of pear, crisp apple and hints of apricot. Drink now.                                                                                                                                                                   & Intense Brut                            & 90 & 45 & Champagne       & Champagne                         & NA & Roger Voss        & @vossroger  & A.R. LenobleÂ  NV Intense Brut  (Champagne)                                      & Champagne Blend      & A.R. LenobleÂ                & 16 &  223\\\\\n",
       "\t France    & With vineyards in the Marne Valley, this Champagne house has produced a ripe, soft style. Based on grapes from the 2011 harvest, it is still young, although the acidity is softening to bring in ripe apple and green-plum flavors. An underlying ripe fruit character makes it extra attractive.                                                                                    & Intense Brut                            & 89 & 45 & Champagne       & Champagne                         & NA & Roger Voss        & @vossroger  & A.R. LenobleÂ  NV Intense Brut  (Champagne)                                      & Champagne Blend      & A.R. LenobleÂ                & 16 &  223\\\\\n",
       "\t France    & Intense is a good description of this tightly textured and mineral-driven wine. Its fruit is subdued by the steely, tense character, although there are attractive hints of crisp apple and citrus acidity. The bottling is young and will repay several months aging after purchase.                                                                                                 & Intense Brut                            & 90 & 45 & Champagne       & Champagne                         & NA & Roger Voss        & @vossroger  & A.R. LenobleÂ  NV Intense Brut  (Champagne)                                      & Champagne Blend      & A.R. LenobleÂ                & 16 &  223\\\\\n",
       "\t France    & This beautifully crisp and fresh wine has great red-berry acidity. Tight and textured, it is dry while balancing fruit and the more steely edge. The bottling is young, so could be aged for six months from purchase, although it is also refreshing to drink immediately.                                                                                                           & Terroirs Brut RosÃ©                     & 91 & 59 & Champagne       & Champagne                         & NA & Roger Voss        & @vossroger  & A.R. LenobleÂ  NV Terroirs Brut RosÃ©  (Champagne)                               & Champagne Blend      & A.R. LenobleÂ                & 16 &  224\\\\\n",
       "\t France    & With some attractive bottle age, this pale rosÃ© is warm and rich. Spice contrasts with crisp red fruits and acidity. The wine is ready to drink.                                                                                                                                                                                                                                     & Terroirs Brut RosÃ©                     & 87 & 59 & Champagne       & Champagne                         & NA & Roger Voss        & @vossroger  & A.R. LenobleÂ  NV Terroirs Brut RosÃ©  (Champagne)                               & Champagne Blend      & A.R. LenobleÂ                & 16 &  224\\\\\n",
       "\t France    & The base of this wine is Chardonnay with some Pinot Noir added to give color (standard practice in Champagne). The result is a pale-colored wine that's ripe and full of fruit. It has a rich character lifted by the tight, mineral acidity in the aftertaste.                                                                                                                       & Terroirs Brut RosÃ©                     & 91 & 59 & Champagne       & Champagne                         & NA & Roger Voss        & @vossroger  & A.R. LenobleÂ  NV Terroirs Brut RosÃ©  (Champagne)                               & Champagne Blend      & A.R. LenobleÂ                & 16 &  224\\\\\n",
       "\t Portugal  & This big and bold wine exudes power and fruitiness. It has ripe fruits, sweet tannins and a great mix of spice, toasty wood and acidity. Both juicy and structured, it's likely to develop well. Drink from 2016.                                                                                                                                                                     & BridÃ£o Reserva                         & 91 & 14 & Tejo            & NA                                & NA & Roger Voss        & @vossroger  & Adega Cooperativa do Cartaxo 2011 BridÃ£o Reserva Red (Tejo)                     & Portuguese Red       & Adega Cooperativa do Cartaxo & 16 &  545\\\\\n",
       "\t Portugal  & Firmly structured, this has both great tannins and equally big, rich berry and black currant fruits that bring the acidity right up front. It is still young, emphasizing the fruit and freshness. The tannins and wood aging flavors need their chance. Drink from 2017.                                                                                                             & BridÃ£o Reserva                         & 91 & 15 & Tejo            & NA                                & NA & Roger Voss        & @vossroger  & Adega Cooperativa do Cartaxo 2011 BridÃ£o Reserva Red (Tejo)                     & Portuguese Red       & Adega Cooperativa do Cartaxo & 16 &  545\\\\\n",
       "\t Portugal  & This soft, yeasty and sweet blend of FernÃ£o Pires and Bical is fruity with apple and pear flavors. It has just enough acidity to keep it crisp on the finish and makes an easy apÃ©ritif.                                                                                                                                                                                            & Plexus Branco                           & 84 & 10 & Tejo            & NA                                & NA & Roger Voss        & @vossroger  & Adega Cooperativa do Cartaxo NV Plexus Branco Sparkling (Tejo)                   & Portuguese Sparkling & Adega Cooperativa do Cartaxo & 16 &  569\\\\\n",
       "\t Portugal  & Medium dry, this is a lightly fruity wine. It has sweet apple and light citrus flavors along with a zesty texture. It is soft and bright at the end.                                                                                                                                                                                                                                  & Plexus Branco                           & 85 &  7 & Tejo            & NA                                & NA & Roger Voss        & @vossroger  & Adega Cooperativa do Cartaxo NV Plexus Branco Sparkling (Tejo)                   & Portuguese Sparkling & Adega Cooperativa do Cartaxo & 16 &  569\\\\\n",
       "\t Spain     & Bready and yeasty smelling upfront, this feels round but also dry on the palate. Briny, pickled, yeasty flavors lead way to a salty finish. Quickly dissipating bubbles render it more of a demi-sec.                                                                                                                                                                                 & Brut Natural Reserva                    & 86 & 23 & Catalonia       & PenedÃ¨s                          & NA & Michael Schachner & @wineschach & Albet I Noya 2011 Brut Natural Reserva Sparkling (PenedÃ¨s)                      & Sparkling Blend      & Albet I Noya                 & 13 & 1059\\\\\n",
       "\t Spain     & Leesy fleshy papaya aromas come with a touch of sulfur and harshness. This feels solid, albeit modest in bubbles. Flavors of apple and green melon are lasting and steady on the finish.                                                                                                                                                                                              & Brut Natural Reserva                    & 88 & 23 & Catalonia       & PenedÃ¨s                          & NA & Michael Schachner & @wineschach & Albet I Noya 2011 Brut Natural Reserva Sparkling (PenedÃ¨s)                      & Sparkling Blend      & Albet I Noya                 & 13 & 1059\\\\\n",
       "\t France    & As with all this producer's wines, the first fermentation iof this bottling was in wood, adding richness and smoothing out the fruit to give a warm, round character. The acidity is still tight and crisp, with citrus and apple flavors shot through with minerality. Drink now.                                                                                                    & Brut                                    & 90 & 50 & Champagne       & Champagne                         & NA & Roger Voss        & @vossroger  & Alfred Gratien NV Brut  (Champagne)                                              & Champagne Blend      & Alfred Gratien               & 16 & 1211\\\\\n",
       "\t France    & A dry, tight style of wine, with fresh grapefruit and lime flavors. It could do with some bottle age to allow the fruit to shed some of its intense acidity.                                                                                                                                                                                                                          & Brut                                    & 87 & 69 & Champagne       & Champagne                         & NA & Roger Voss        & @vossroger  & Alfred Gratien NV Brut  (Champagne)                                              & Champagne Blend      & Alfred Gratien               & 16 & 1211\\\\\n",
       "\t France    & This stalky, smoky wine has red currant fruits and a tight texture. The fruit is just ripe, light in character with very fresh acidity. Some more depth would have been good. Drink now.                                                                                                                                                                                              & Demoiselle Bleue                        & 84 & 15 & Loire Valley    & Saumur                            & NA & Roger Voss        & @vossroger  & Alliance Loire 2014 Demoiselle Bleue  (Saumur)                                   & Cabernet Franc       & Alliance Loire               & 16 & 1295\\\\\n",
       "\t France    & Peach and pear flavors entwine with intense, youthful acidity in this bone-dry wine. It is taut and still developing fuller, fruity character. Very fresh, it needs time; drink from 2016.                                                                                                                                                                                            & Demoiselle Bleue                        & 86 & 15 & Loire Valley    & Saumur                            & NA & Roger Voss        & @vossroger  & Alliance Loire 2014 Demoiselle Bleue  (Saumur)                                   & Chenin Blanc         & Alliance Loire               & 16 & 1295\\\\\n",
       "\t France    & Blossom and citrus notes stream from the glassâ€”there are notes of green pear too. The slender palate boosts these fruit notes with a generous but still dry dosage, while hints of grassy herbs play along the edges. This is frothy, easy and very fresh. Drink soon.                                                                                                              & Brut                                    & 87 & 20 & Alsace          & CrÃ©mant d'Alsace                 & NA & Anne KrebiehlÂ MW & @AnneInVino & Allimant-Laugner NV Brut Sparkling (CrÃ©mant d'Alsace)                           & Sparkling Blend      & Allimant-Laugner             &  3 & 1305\\\\\n",
       "\t France    & Lovely and fresh notes of red apple are joined by a livelier tangier citrus note on the nose. The dry palate is very light, almost weightless and fizzes away with a very fine mousse. There is real depth of fruit and a knowingly light touch. It is lovely as an elegant apÃ©ritif but sophisticated enough to be served alongside food. The finish is tart, lasting and grown-up. & Brut                                    & 91 & 20 & Alsace          & CrÃ©mant d'Alsace                 & NA & Anne KrebiehlÂ MW & @AnneInVino & Allimant-Laugner NV Brut Sparkling (CrÃ©mant d'Alsace)                           & Sparkling Blend      & Allimant-Laugner             &  3 & 1305\\\\\n",
       "\t Spain     & A rank well above most PX sweeties, with lush but fresh aromas of raisin and spice that are distinctly not syrupy or heavy. Feels thick, but there's enough acidity to cut through the wine's weight. Flavors of caramel and chocolate are ideal, and the finish is smooth, not heavy, and has bounce in its step. A beautiful PX any way you cut it.                                 & Solera 1927                             & 94 & 25 & Andalucia       & Montilla-Moriles                  & NA & Michael Schachner & @wineschach & Alvear NV Solera 1927 Pedro XimÃ©nez (Montilla-Moriles)                          & Pedro XimÃ©nez       & Alvear                       & 13 & 1702\\\\\n",
       "\t Spain     & One of the world's best PX wines is Solera 1927, the pride of Alvear. Whatever solera stocks went into this bottling were well selected. Aromas of maple and fine wood turn to fig and caramel. Saturation and weight on the palate are expected, but this has some (though not a lot) acidic cut. Deep flavors of fig and Nutella finish with nuttiness and warmth. Drink or hold.   & Solera 1927                             & 96 & 30 & Andalucia       & Montilla-Moriles                  & NA & Michael Schachner & @wineschach & Alvear NV Solera 1927 Pedro XimÃ©nez (Montilla-Moriles)                          & Pedro XimÃ©nez       & Alvear                       & 13 & 1702\\\\\n",
       "\t Australia & A tip of the cap to the Angove family for turning out such an ageworthy wine. It's packed and stacked with mulberry fruit, lashings of vanilla and just a hint of mint. Full-bodied and tannic, it should drink well from 2020â€“2030.                                                                                                                                                & The Medhyk Old Vine                     & 94 & 95 & South Australia & McLaren Vale                      & NA & Joe Czerwinski    & @JoeCz      & Angove 2012 The Medhyk Old Vine Shiraz (McLaren Vale)                            & Shiraz               & Angove                       &  9 & 2266\\\\\n",
       "\t Australia & The Angove family has made a real commitment to its prestige wine portfolio, and this Shiraz represents that new level of quality. It's ripe without being over the top, marrying ripeness and supple tannins with savory notes of tar and espresso. Drink nowâ€“2025, possibly beyond.                                                                                               & The Medhyk Old Vine                     & 92 & 95 & South Australia & McLaren Vale                      & NA & Joe Czerwinski    & @JoeCz      & Angove 2012 The Medhyk Old Vine Shiraz (McLaren Vale)                            & Shiraz               & Angove                       &  9 & 2266\\\\\n",
       "\t France    & This wine has a bright, crisp character that is reminiscent of Chablis. It has refreshing lemon and apple flavors, and it's ready to drink.                                                                                                                                                                                                                                           & ChÃ¢teau de Mercey                      & 87 & 23 & Burgundy        & Bourgogne Hautes CÃ´tes de Beaune & NA & Roger Voss        & @vossroger  & Antonin Rodet 2010 ChÃ¢teau de Mercey  (Bourgogne Hautes CÃ´tes de Beaune)       & Chardonnay           & Antonin Rodet                & 16 & 2469\\\\\n",
       "\t ... & ... & ... & ... & ... & ... & ... & ... & ... & ... & ... & ... & ... & ... & ...\\\\\n",
       "\t France   & An equal blend of Pinot Noir, Chardonnay and Pinot Meunier, this is the producer's nonvintage cuvÃ©e, soft and ripe. Balanced and crisp, it has attractive acidity under the light texture and tangy lemon-zest flavor. The bottling is ready to drink.                                                                                                                                                                  & Brut RÃ©serve                   & 88 & 35 & Champagne              & Champagne               & NA                & Roger Voss        & @vossroger       & Vollereaux NV Brut RÃ©serve  (Champagne)                                        & Champagne Blend    & Vollereaux         & 16 & 60826\\\\\n",
       "\t France   & This ripe, soft wine is well balanced and offers attractive fruitiness. The creamy mousse and acidity bring richness and a fresh character. With its finely judged dosage, not too dry, not too sweet, the wine is very ready to drink.                                                                                                                                                                                  & Brut RÃ©serve                   & 88 & 35 & Champagne              & Champagne               & NA                & Roger Voss        & @vossroger       & Vollereaux NV Brut RÃ©serve  (Champagne)                                        & Champagne Blend    & Vollereaux         & 16 & 60826\\\\\n",
       "\t France   & This is an unusual rosÃ© for Champagne. It is made 100\\% from Pinot Noir rather than a blend. And it is made by getting color directly from the fermenting grapes rather than the normal Champagne process of adding red wine. The result is a dark-colored rosÃ© that has a tannic structure as well as red fruits. It is rich and concentrated with ripeness rather than great freshness. It is definitely a food wine. & Brut RosÃ© de SaignÃ©e          & 87 & 40 & Champagne              & Champagne               & NA                & Roger Voss        & @vossroger       & Vollereaux NV Brut RosÃ© de SaignÃ©e Pinot Noir (Champagne)                     & Pinot Noir         & Vollereaux         & 16 & 60828\\\\\n",
       "\t France   & Most rosÃ© Champagnes get their color by the addition of red wine. This wine gets its hue from the skins of red grapes macerating before fermentation. It has a deep pink color and a lightly tannic character, making for a rich wine flavored with red currants and finished with acidity.                                                                                                                             & Brut RosÃ© de SaignÃ©e          & 88 & 40 & Champagne              & Champagne               & NA                & Roger Voss        & @vossroger       & Vollereaux NV Brut RosÃ© de SaignÃ©e Pinot Noir (Champagne)                     & Pinot Noir         & Vollereaux         & 16 & 60828\\\\\n",
       "\t France   & Orange-pink color on this soft, ripe rosÃ©. The balance is better than in past years, with acidity cutting the red fruits. Light-bodied with a good texture.                                                                                                                                                                                                                                                             & Demoiselle RosÃ© Brut           & 89 & 50 & Champagne              & Champagne               & NA                & Roger Voss        & @vossroger       & Vranken NV Demoiselle RosÃ© Brut  (Champagne)                                   & Champagne Blend    & Vranken            & 16 & 60934\\\\\n",
       "\t France   & While it is certainly on the sweet side, this bottling, with its lively mousse and strawberry flavors, is a definite step up from previous tastings. It has weight but also freshness.                                                                                                                                                                                                                                   & Demoiselle RosÃ© Brut           & 88 & 55 & Champagne              & Champagne               & NA                & Roger Voss        & @vossroger       & Vranken NV Demoiselle RosÃ© Brut  (Champagne)                                   & Champagne Blend    & Vranken            & 16 & 60934\\\\\n",
       "\t France   & A balanced wine, with softness that indicates a relatively high dosage. There is no complexity, but the wine is light, creamy, flavored with green plums and kiwi, just edged with bitterness.                                                                                                                                                                                                                           & Demoiselle TÃªte de CuvÃ©e Brut & 85 & 40 & Champagne              & Champagne               & NA                & Roger Voss        & @vossroger       & Vranken NV Demoiselle TÃªte de CuvÃ©e Brut  (Champagne)                         & Champagne Blend    & Vranken            & 16 & 60935\\\\\n",
       "\t France   & The style of this creamy wine seems to have become drier, giving a steely tight character to go with the apple and citrus flavors. The result is attractive, very fresh, ready to drink.                                                                                                                                                                                                                                 & Demoiselle TÃªte de CuvÃ©e Brut & 90 & 40 & Champagne              & Champagne               & NA                & Roger Voss        & @vossroger       & Vranken NV Demoiselle TÃªte de CuvÃ©e Brut  (Champagne)                         & Champagne Blend    & Vranken            & 16 & 60935\\\\\n",
       "\t France   & Vranken's releases seem to be bucking the trend towards drier Champagnes. This wine is soft and obviously the dosage is high. It is balanced and the fresh creamed apple flavors and light texture all work well together. It is in a light style, ready to drink.                                                                                                                                                       & Diamant Brut                    & 87 & 53 & Champagne              & Champagne               & NA                & Roger Voss        & @vossroger       & Vranken NV Diamant Brut  (Champagne)                                            & Champagne Blend    & Vranken            & 16 & 60936\\\\\n",
       "\t France   & For those who like their non-vintage with some bottle age, this is a fine wine. While it has lost its early freshness, it certainly has gained in complexity, offering ripe, soft, toasty flavors to add to the green plum fruits and acidity.                                                                                                                                                                           & Diamant Brut                    & 89 & 50 & Champagne              & Champagne               & NA                & Roger Voss        & @vossroger       & Vranken NV Diamant Brut  (Champagne)                                            & Champagne Blend    & Vranken            & 16 & 60936\\\\\n",
       "\t Portugal & This is a classic Reserve Ruby, full of berry fruits, juicy acidity and light tannins. Hints of dried fruits combine with red berries to give a wine that is stylish and dry in the Warre's style.                                                                                                                                                                                                                       & Warrior Reserve                 & 87 & 18 & Port                   & NA                      & NA                & Roger Voss        & @vossroger       & Warre's NV Warrior Reserve  (Port)                                              & Port               & Warre's            & 16 & 61206\\\\\n",
       "\t Portugal & Bright fruits in a Port with soft tannins and a structure that pushes blackberry fruit and sweet jelly. The wine is soft, ripe, full, showing some dryness from tannins on the finish.                                                                                                                                                                                                                                   & Warrior Reserve                 & 86 & 19 & Port                   & NA                      & NA                & Roger Voss        & @vossroger       & Warre's NV Warrior Reserve  (Port)                                              & Port               & Warre's            & 16 & 61206\\\\\n",
       "\t US       & A strong almond and marzipan aroma jumps out of the glass. Flavors are quite fruity and the almond note isn't as strong as in the aromas. This wine is softly sparkling and somewhat sweet.                                                                                                                                                                                                                              & Almond Demi-Sec                 & 83 & 12 & California             & California              & California Other  & Jim Gordon        & @gordone\\_cellars & Weibel Family NV Almond Demi-Sec Sparkling (California)                         & Sparkling Blend    & Weibel Family      &  8 & 61374\\\\\n",
       "\t US       & This wine smells like a Danish pastry, with strong, very sweet almond flavors that cling to the taste buds long after sipping.                                                                                                                                                                                                                                                                                           & Almond Demi-Sec                 & 82 & 12 & California             & California              & California Other  & Jim Gordon        & @gordone\\_cellars & Weibel Family NV Almond Demi-Sec Sparkling (California)                         & Sparkling Blend    & Weibel Family      &  8 & 61374\\\\\n",
       "\t Austria  & The concentration here is enormous, from low-yielding old vines. The wine has the characteristic pepper edge, but the creamy character, the ripe lychees and green plums, are all more dominant. At the end, a distinct spiciness shows through. Age ideally for 3â€“4 years.                                                                                                                                            & Alte Reben                      & 93 & 27 & NiederÃ¶sterreich      & NA                      & NA                & Roger Voss        & @vossroger       & Weinrieder 2007 Alte Reben GrÃ¼ner Veltliner (NiederÃ¶sterreich)                & GrÃ¼ner Veltliner  & Weinrieder         & 16 & 61454\\\\\n",
       "\t Austria  & A gorgeous wine, its richness fuelled by the concentration that comes from old vines. The wine rolls opulently around the mouth, showing apricot flavors over almonds and spice. A final burst of freshness gives it a delicious lift.                                                                                                                                                                                   & Alte Reben                      & 90 & 28 & NiederÃ¶sterreich      & NA                      & NA                & Roger Voss        & @vossroger       & Weinrieder 2007 Alte Reben GrÃ¼ner Veltliner (NiederÃ¶sterreich)                & GrÃ¼ner Veltliner  & Weinrieder         & 16 & 61454\\\\\n",
       "\t US       & A cuvÃ©e of Riesling, with a tiny splash of Moscato, this is on the sweet side of brut. Scents of wet paper carry into disjointed flavors of waxy lemon and simple sugar.                                                                                                                                                                                                                                                & CuvÃ©e Blanc                    & 83 & 25 & Oregon                 & Willamette Valley       & Willamette Valley & Paul Gregutt      & @paulgwineÂ      & Wetzel Estate NV CuvÃ©e Blanc Sparkling (Willamette Valley)                     & Sparkling Blend    & Wetzel Estate      & 15 & 61615\\\\\n",
       "\t US       & The winery indicates this is from 2015, but there is no vintage shown on the bottle. On the sweet edge of brut, it smells and tastes of plastic, with a grainy, sugary mouthfeel and simple apple fruit.                                                                                                                                                                                                                 & CuvÃ©e Blanc                    & 84 & 25 & Oregon                 & Willamette Valley       & Willamette Valley & Paul Gregutt      & @paulgwineÂ      & Wetzel Estate NV CuvÃ©e Blanc Sparkling (Willamette Valley)                     & Sparkling Blend    & Wetzel Estate      & 15 & 61615\\\\\n",
       "\t Portugal & Produced by the cooperative of Santo Isidro de PegÃµes south of Lisbon, this wine comes from the grape variety that's planted across the region. It's an open, soft wine, great for pasta dishes with plenty of ripe fruits and gentle tannins. Drink now.                                                                                                                                                               & Dona Helena Colheita            & 84 & 12 & PenÃ­nsula de SetÃºbal & NA                      & NA                & Roger Voss        & @vossroger       & Wines \\& Winemakers 2014 Dona Helena Colheita CastelÃ£o (PenÃ­nsula de SetÃºbal) & CastelÃ£o          & Wines \\& Winemakers & 16 & 62386\\\\\n",
       "\t Portugal & This is a rustic, barnyard-scented wine, with tannins and acidity but lacking fruit. Think of it as one to quaff without too much thought.                                                                                                                                                                                                                                                                               & Dona Helena Colheita            & 83 & 11 & PenÃ­nsula de SetÃºbal & NA                      & NA                & Roger Voss        & @vossroger       & Wines \\& Winemakers 2014 Dona Helena Colheita CastelÃ£o (PenÃ­nsula de SetÃºbal) & CastelÃ£o          & Wines \\& Winemakers & 16 & 62386\\\\\n",
       "\t Portugal & An intensely orange-pink-colored wine, this is a blend of the local CastelÃ£o with Touriga Nacional and Syrah. Its acidity is filled out with ripe red-berry fruits and a smooth texture of vanilla. The wine is soft and ready to drink.                                                                                                                                                                                & Monte de BaÃ­a                  & 84 & 12 & PenÃ­nsula de SetÃºbal & NA                      & NA                & Roger Voss        & @vossroger       & Wines \\& Winemakers 2016 Monte de BaÃ­a RosÃ© (PenÃ­nsula de SetÃºbal)           & RosÃ©              & Wines \\& Winemakers & 16 & 62447\\\\\n",
       "\t Portugal & A crisp, caramel- and red-fruit-flavored blend of CastelÃ£o, Touriga Nacional and Syrah, this is ready to drink. Produced at Casa Ermelinda Freitas winery, it has a salty edge from the nearby ocean, finishing with plenty of acidity.                                                                                                                                                                                 & Monte de BaÃ­a                  & 86 & 12 & PenÃ­nsula de SetÃºbal & NA                      & NA                & Roger Voss        & @vossroger       & Wines \\& Winemakers 2016 Monte de BaÃ­a RosÃ© (PenÃ­nsula de SetÃºbal)           & RosÃ©              & Wines \\& Winemakers & 16 & 62447\\\\\n",
       "\t France   & Attractive, best-selling CrÃ©mant d'Alsace, with its crisp apple and almond flavors to go with the acidity. It is lively, well-balanced, a great value in sparkling wines.                                                                                                                                                                                                                                               & Brut                            & 88 & 22 & Alsace                 & CrÃ©mant d'Alsace       & NA                & Roger Voss        & @vossroger       & Wolfberger NV Brut Sparkling (CrÃ©mant d'Alsace)                                & Sparkling Blend    & Wolfberger         & 16 & 62669\\\\\n",
       "\t France   & This is a really fruity, really refreshing sparkling wine. It boasts apple, citrus and a touch of apricot flavors, as well as tight acidity. It is fragrant, pure and clean, and very fresh on the finish.                                                                                                                                                                                                               & Brut                            & 88 & 22 & Alsace                 & CrÃ©mant d'Alsace       & NA                & Roger Voss        & @vossroger       & Wolfberger NV Brut Sparkling (CrÃ©mant d'Alsace)                                & Sparkling Blend    & Wolfberger         & 16 & 62669\\\\\n",
       "\t US       & This Cabernet Sauvignon's char, vanilla, caramel, toast, herb and dark fruit scents are followed by equal parts fruit and barrel flavors. It delivers enjoyment notwithstanding the heavy oak influence, which may yet integrate in the bottle.                                                                                                                                                                          & Estate                          & 89 & 49 & Washington             & Walla Walla Valley (WA) & Columbia Valley   & Sean P. Sullivan  & @wawinereport    & Woodward Canyon 2013 Estate Cabernet Sauvignon (Walla Walla Valley (WA))        & Cabernet Sauvignon & Woodward Canyon    & 17 & 62753\\\\\n",
       "\t US       & Blended with 13\\% Syrah, this wine opens with notes of cassis, smoke, sweet herb, vanilla and tar. The black-fruit flavors are full bodied but still retain a sense of vibrancy and deftness. The finish stretches out and the tannins provide some chew.                                                                                                                                                                 & Estate                          & 91 & 49 & Washington             & Walla Walla Valley (WA) & Columbia Valley   & Sean P. Sullivan  & @wawinereport    & Woodward Canyon 2013 Estate Cabernet Sauvignon (Walla Walla Valley (WA))        & Cabernet Sauvignon & Woodward Canyon    & 17 & 62753\\\\\n",
       "\t Italy    & Fun and refreshing, this frothy sparkler opens with scents of spring flower and white stone fruit. The lively palate doles out creamy white peach and green apple alongside fresh acidity.                                                                                                                                                                                                                               & CuvÃ©e 1821 Brut                & 86 & 13 & Veneto                 & Prosecco                & NA                & Kerin Oâ€™Keefe   & @kerinokeefe     & Zonin NV CuvÃ©e 1821 Brut  (Prosecco)                                           & Glera              & Zonin              & 10 & 63329\\\\\n",
       "\t Italy    & Heady aromas of peach and exotic fruit carry over to the refreshing palate along with a citrusy note. It has a lively perlage while crisp acidity gives it a clean refreshing finish.                                                                                                                                                                                                                                    & CuvÃ©e 1821 Brut                & 86 & 15 & Veneto                 & Prosecco                & NA                & Kerin Oâ€™Keefe   & @kerinokeefe     & Zonin NV CuvÃ©e 1821 Brut  (Prosecco)                                           & Glera              & Zonin              & 10 & 63329\\\\\n",
       "\t France   & Lovely notes of Golden Pearmain apple perfume the nose, with hints of soy sauce. The body and palate are luminous showing green apple freshness that come across as light, graceful and authentic. There is something honest and fresh-faced about this wine that is rather disarming. This is a very beautiful, classy crÃ©mant made from a blend of Riesling and Auxerrois.                                            & Clos Liebenberg                 & 93 & 58 & Alsace                 & CrÃ©mant d'Alsace       & NA                & Anne KrebiehlÂ MW & @AnneInVino      & Zusslin 2012 Clos Liebenberg Sparkling (CrÃ©mant d'Alsace)                      & Sparkling Blend    & Zusslin            &  3 & 63445\\\\\n",
       "\t France   & Exquisitely fragrant notes of ripe, aromatic apples rise from the glass: tart, fruity and fresh in equal measure. The palate shows both evolved autolysis by way of soy-spiced breadiness and even more fruit in the way of bruised, tart apple notes of great purity. The finish is long and full of flavor, complex, nuanced and resolutely dry.                                                                       & Clos Liebenberg                 & 93 & 57 & Alsace                 & CrÃ©mant d'Alsace       & NA                & Anne KrebiehlÂ MW & @AnneInVino      & Zusslin 2012 Clos Liebenberg Sparkling (CrÃ©mant d'Alsace)                      & Sparkling Blend    & Zusslin            &  3 & 63445\\\\\n",
       "\\end{tabular}\n"
      ],
      "text/markdown": [
       "\n",
       "A grouped_df: 1009 × 15\n",
       "\n",
       "| country &lt;fct&gt; | description &lt;chr&gt; | designation &lt;chr&gt; | points &lt;int&gt; | price &lt;dbl&gt; | province &lt;chr&gt; | region_1 &lt;chr&gt; | region_2 &lt;chr&gt; | taster_name &lt;fct&gt; | taster_twitter_handle &lt;fct&gt; | title &lt;chr&gt; | variety &lt;fct&gt; | winery &lt;fct&gt; | tasterID &lt;int&gt; | wineID &lt;int&gt; |\n",
       "|---|---|---|---|---|---|---|---|---|---|---|---|---|---|---|\n",
       "| Spain     | Spiced apple and toast aromas are clean and direct. On the palate, it's malic and citric, with lime and white grapefruit flavors. A citrusy finish with a note of salt maintains freshness.                                                                                                                                                                                           | Brut                                    | 87 | 16 | Catalonia       | Cava                              | NA | Michael Schachner | @wineschach | 1+1=3 NV Brut Sparkling (Cava)                                                   | Sparkling Blend      | 1+1=3                        | 13 |   49 |\n",
       "| Spain     | Dusty notes of citrus fruits are mild but friendly. This Cava is zesty, fresh and simple as a whole, with lime, clover and grassy flavors. Freshness is the overriding theme, while the finish tastes of apple and lime.                                                                                                                                                              | Brut                                    | 87 | 16 | Catalonia       | Cava                              | NA | Michael Schachner | @wineschach | 1+1=3 NV Brut Sparkling (Cava)                                                   | Sparkling Blend      | 1+1=3                        | 13 |   49 |\n",
       "| France    | Bone dry and crisp, this is also has fruitiness from the ripeness of the grapes, giving impressively rich apple and pear flavors. Of course, these are cut by tight acidity and intense citrus, leaving a tight, steely aftertaste.                                                                                                                                                   | Dosage ZÃ©ro Brut Nature                | 89 | 49 | Champagne       | Champagne                         | NA | Roger Voss        | @vossroger  | A.R. LenobleÂ  NV Dosage ZÃ©ro Brut Nature  (Champagne)                          | Champagne Blend      | A.R. LenobleÂ                | 16 |  221 |\n",
       "| France    | This tight crisp wine delivers citrus and sliced apple fruits. There is a brisk mousse that gives the wine quite a bite of acidity. All the elements point in the direction of food for this Champagne. Like many bone-dry Champagnes, this bottling needs to age, so drink from 2018.                                                                                                | Dosage ZÃ©ro Brut Nature                | 90 | 49 | Champagne       | Champagne                         | NA | Roger Voss        | @vossroger  | A.R. LenobleÂ  NV Dosage ZÃ©ro Brut Nature  (Champagne)                          | Champagne Blend      | A.R. LenobleÂ                | 16 |  221 |\n",
       "| France    | With zero grams of residual sugar, this is wine is as dry as it gets, relying on the ripe fruit to balance the intense acidity. Crisp apple and tight acidity dominate. Like many zero-dosage Champagnes it needs to age, so hold this bottle for two years.                                                                                                                          | Dosage ZÃ©ro Brut Nature                | 90 | 49 | Champagne       | Champagne                         | NA | Roger Voss        | @vossroger  | A.R. LenobleÂ  NV Dosage ZÃ©ro Brut Nature  (Champagne)                          | Champagne Blend      | A.R. LenobleÂ                | 16 |  221 |\n",
       "| France    | The wine comes from the Grand Cru village of Chouilly in the Chardonnay vineyards of the CÃ´te des Blancs. It is crisp, mineral textured and still developing. Bright acidity and lemon-zest flavors give this wine its lively and also full-bodied character. Drink from 2018.                                                                                                       | Grand Cru Blanc de Blancs Chouilly Brut | 92 | 54 | Champagne       | Champagne                         | NA | Roger Voss        | @vossroger  | A.R. LenobleÂ  NV Grand Cru Blanc de Blancs Chouilly Brut Chardonnay (Champagne) | Chardonnay           | A.R. LenobleÂ                | 16 |  222 |\n",
       "| France    | This is a very lively wine with a creamy mousse. The wine is towards dry, bringing out great white and citrus fruit flavors with a burst of tangy acidity. It comes from the village of Chouilly in the CÃ´te des Blancs, which gives the wine a tight mineral texture at the end.                                                                                                    | Grand Cru Blanc de Blancs Chouilly Brut | 91 | 54 | Champagne       | Champagne                         | NA | Roger Voss        | @vossroger  | A.R. LenobleÂ  NV Grand Cru Blanc de Blancs Chouilly Brut Chardonnay (Champagne) | Chardonnay           | A.R. LenobleÂ                | 16 |  222 |\n",
       "| France    | A quarter of this nonvintage blend was vinified in wood. That adds some extra richness to the already ripe fruit. Based on the 2013 vintage, the wine is full of pear, crisp apple and hints of apricot. Drink now.                                                                                                                                                                   | Intense Brut                            | 90 | 45 | Champagne       | Champagne                         | NA | Roger Voss        | @vossroger  | A.R. LenobleÂ  NV Intense Brut  (Champagne)                                      | Champagne Blend      | A.R. LenobleÂ                | 16 |  223 |\n",
       "| France    | With vineyards in the Marne Valley, this Champagne house has produced a ripe, soft style. Based on grapes from the 2011 harvest, it is still young, although the acidity is softening to bring in ripe apple and green-plum flavors. An underlying ripe fruit character makes it extra attractive.                                                                                    | Intense Brut                            | 89 | 45 | Champagne       | Champagne                         | NA | Roger Voss        | @vossroger  | A.R. LenobleÂ  NV Intense Brut  (Champagne)                                      | Champagne Blend      | A.R. LenobleÂ                | 16 |  223 |\n",
       "| France    | Intense is a good description of this tightly textured and mineral-driven wine. Its fruit is subdued by the steely, tense character, although there are attractive hints of crisp apple and citrus acidity. The bottling is young and will repay several months aging after purchase.                                                                                                 | Intense Brut                            | 90 | 45 | Champagne       | Champagne                         | NA | Roger Voss        | @vossroger  | A.R. LenobleÂ  NV Intense Brut  (Champagne)                                      | Champagne Blend      | A.R. LenobleÂ                | 16 |  223 |\n",
       "| France    | This beautifully crisp and fresh wine has great red-berry acidity. Tight and textured, it is dry while balancing fruit and the more steely edge. The bottling is young, so could be aged for six months from purchase, although it is also refreshing to drink immediately.                                                                                                           | Terroirs Brut RosÃ©                     | 91 | 59 | Champagne       | Champagne                         | NA | Roger Voss        | @vossroger  | A.R. LenobleÂ  NV Terroirs Brut RosÃ©  (Champagne)                               | Champagne Blend      | A.R. LenobleÂ                | 16 |  224 |\n",
       "| France    | With some attractive bottle age, this pale rosÃ© is warm and rich. Spice contrasts with crisp red fruits and acidity. The wine is ready to drink.                                                                                                                                                                                                                                     | Terroirs Brut RosÃ©                     | 87 | 59 | Champagne       | Champagne                         | NA | Roger Voss        | @vossroger  | A.R. LenobleÂ  NV Terroirs Brut RosÃ©  (Champagne)                               | Champagne Blend      | A.R. LenobleÂ                | 16 |  224 |\n",
       "| France    | The base of this wine is Chardonnay with some Pinot Noir added to give color (standard practice in Champagne). The result is a pale-colored wine that's ripe and full of fruit. It has a rich character lifted by the tight, mineral acidity in the aftertaste.                                                                                                                       | Terroirs Brut RosÃ©                     | 91 | 59 | Champagne       | Champagne                         | NA | Roger Voss        | @vossroger  | A.R. LenobleÂ  NV Terroirs Brut RosÃ©  (Champagne)                               | Champagne Blend      | A.R. LenobleÂ                | 16 |  224 |\n",
       "| Portugal  | This big and bold wine exudes power and fruitiness. It has ripe fruits, sweet tannins and a great mix of spice, toasty wood and acidity. Both juicy and structured, it's likely to develop well. Drink from 2016.                                                                                                                                                                     | BridÃ£o Reserva                         | 91 | 14 | Tejo            | NA                                | NA | Roger Voss        | @vossroger  | Adega Cooperativa do Cartaxo 2011 BridÃ£o Reserva Red (Tejo)                     | Portuguese Red       | Adega Cooperativa do Cartaxo | 16 |  545 |\n",
       "| Portugal  | Firmly structured, this has both great tannins and equally big, rich berry and black currant fruits that bring the acidity right up front. It is still young, emphasizing the fruit and freshness. The tannins and wood aging flavors need their chance. Drink from 2017.                                                                                                             | BridÃ£o Reserva                         | 91 | 15 | Tejo            | NA                                | NA | Roger Voss        | @vossroger  | Adega Cooperativa do Cartaxo 2011 BridÃ£o Reserva Red (Tejo)                     | Portuguese Red       | Adega Cooperativa do Cartaxo | 16 |  545 |\n",
       "| Portugal  | This soft, yeasty and sweet blend of FernÃ£o Pires and Bical is fruity with apple and pear flavors. It has just enough acidity to keep it crisp on the finish and makes an easy apÃ©ritif.                                                                                                                                                                                            | Plexus Branco                           | 84 | 10 | Tejo            | NA                                | NA | Roger Voss        | @vossroger  | Adega Cooperativa do Cartaxo NV Plexus Branco Sparkling (Tejo)                   | Portuguese Sparkling | Adega Cooperativa do Cartaxo | 16 |  569 |\n",
       "| Portugal  | Medium dry, this is a lightly fruity wine. It has sweet apple and light citrus flavors along with a zesty texture. It is soft and bright at the end.                                                                                                                                                                                                                                  | Plexus Branco                           | 85 |  7 | Tejo            | NA                                | NA | Roger Voss        | @vossroger  | Adega Cooperativa do Cartaxo NV Plexus Branco Sparkling (Tejo)                   | Portuguese Sparkling | Adega Cooperativa do Cartaxo | 16 |  569 |\n",
       "| Spain     | Bready and yeasty smelling upfront, this feels round but also dry on the palate. Briny, pickled, yeasty flavors lead way to a salty finish. Quickly dissipating bubbles render it more of a demi-sec.                                                                                                                                                                                 | Brut Natural Reserva                    | 86 | 23 | Catalonia       | PenedÃ¨s                          | NA | Michael Schachner | @wineschach | Albet I Noya 2011 Brut Natural Reserva Sparkling (PenedÃ¨s)                      | Sparkling Blend      | Albet I Noya                 | 13 | 1059 |\n",
       "| Spain     | Leesy fleshy papaya aromas come with a touch of sulfur and harshness. This feels solid, albeit modest in bubbles. Flavors of apple and green melon are lasting and steady on the finish.                                                                                                                                                                                              | Brut Natural Reserva                    | 88 | 23 | Catalonia       | PenedÃ¨s                          | NA | Michael Schachner | @wineschach | Albet I Noya 2011 Brut Natural Reserva Sparkling (PenedÃ¨s)                      | Sparkling Blend      | Albet I Noya                 | 13 | 1059 |\n",
       "| France    | As with all this producer's wines, the first fermentation iof this bottling was in wood, adding richness and smoothing out the fruit to give a warm, round character. The acidity is still tight and crisp, with citrus and apple flavors shot through with minerality. Drink now.                                                                                                    | Brut                                    | 90 | 50 | Champagne       | Champagne                         | NA | Roger Voss        | @vossroger  | Alfred Gratien NV Brut  (Champagne)                                              | Champagne Blend      | Alfred Gratien               | 16 | 1211 |\n",
       "| France    | A dry, tight style of wine, with fresh grapefruit and lime flavors. It could do with some bottle age to allow the fruit to shed some of its intense acidity.                                                                                                                                                                                                                          | Brut                                    | 87 | 69 | Champagne       | Champagne                         | NA | Roger Voss        | @vossroger  | Alfred Gratien NV Brut  (Champagne)                                              | Champagne Blend      | Alfred Gratien               | 16 | 1211 |\n",
       "| France    | This stalky, smoky wine has red currant fruits and a tight texture. The fruit is just ripe, light in character with very fresh acidity. Some more depth would have been good. Drink now.                                                                                                                                                                                              | Demoiselle Bleue                        | 84 | 15 | Loire Valley    | Saumur                            | NA | Roger Voss        | @vossroger  | Alliance Loire 2014 Demoiselle Bleue  (Saumur)                                   | Cabernet Franc       | Alliance Loire               | 16 | 1295 |\n",
       "| France    | Peach and pear flavors entwine with intense, youthful acidity in this bone-dry wine. It is taut and still developing fuller, fruity character. Very fresh, it needs time; drink from 2016.                                                                                                                                                                                            | Demoiselle Bleue                        | 86 | 15 | Loire Valley    | Saumur                            | NA | Roger Voss        | @vossroger  | Alliance Loire 2014 Demoiselle Bleue  (Saumur)                                   | Chenin Blanc         | Alliance Loire               | 16 | 1295 |\n",
       "| France    | Blossom and citrus notes stream from the glassâ€”there are notes of green pear too. The slender palate boosts these fruit notes with a generous but still dry dosage, while hints of grassy herbs play along the edges. This is frothy, easy and very fresh. Drink soon.                                                                                                              | Brut                                    | 87 | 20 | Alsace          | CrÃ©mant d'Alsace                 | NA | Anne KrebiehlÂ MW | @AnneInVino | Allimant-Laugner NV Brut Sparkling (CrÃ©mant d'Alsace)                           | Sparkling Blend      | Allimant-Laugner             |  3 | 1305 |\n",
       "| France    | Lovely and fresh notes of red apple are joined by a livelier tangier citrus note on the nose. The dry palate is very light, almost weightless and fizzes away with a very fine mousse. There is real depth of fruit and a knowingly light touch. It is lovely as an elegant apÃ©ritif but sophisticated enough to be served alongside food. The finish is tart, lasting and grown-up. | Brut                                    | 91 | 20 | Alsace          | CrÃ©mant d'Alsace                 | NA | Anne KrebiehlÂ MW | @AnneInVino | Allimant-Laugner NV Brut Sparkling (CrÃ©mant d'Alsace)                           | Sparkling Blend      | Allimant-Laugner             |  3 | 1305 |\n",
       "| Spain     | A rank well above most PX sweeties, with lush but fresh aromas of raisin and spice that are distinctly not syrupy or heavy. Feels thick, but there's enough acidity to cut through the wine's weight. Flavors of caramel and chocolate are ideal, and the finish is smooth, not heavy, and has bounce in its step. A beautiful PX any way you cut it.                                 | Solera 1927                             | 94 | 25 | Andalucia       | Montilla-Moriles                  | NA | Michael Schachner | @wineschach | Alvear NV Solera 1927 Pedro XimÃ©nez (Montilla-Moriles)                          | Pedro XimÃ©nez       | Alvear                       | 13 | 1702 |\n",
       "| Spain     | One of the world's best PX wines is Solera 1927, the pride of Alvear. Whatever solera stocks went into this bottling were well selected. Aromas of maple and fine wood turn to fig and caramel. Saturation and weight on the palate are expected, but this has some (though not a lot) acidic cut. Deep flavors of fig and Nutella finish with nuttiness and warmth. Drink or hold.   | Solera 1927                             | 96 | 30 | Andalucia       | Montilla-Moriles                  | NA | Michael Schachner | @wineschach | Alvear NV Solera 1927 Pedro XimÃ©nez (Montilla-Moriles)                          | Pedro XimÃ©nez       | Alvear                       | 13 | 1702 |\n",
       "| Australia | A tip of the cap to the Angove family for turning out such an ageworthy wine. It's packed and stacked with mulberry fruit, lashings of vanilla and just a hint of mint. Full-bodied and tannic, it should drink well from 2020â€“2030.                                                                                                                                                | The Medhyk Old Vine                     | 94 | 95 | South Australia | McLaren Vale                      | NA | Joe Czerwinski    | @JoeCz      | Angove 2012 The Medhyk Old Vine Shiraz (McLaren Vale)                            | Shiraz               | Angove                       |  9 | 2266 |\n",
       "| Australia | The Angove family has made a real commitment to its prestige wine portfolio, and this Shiraz represents that new level of quality. It's ripe without being over the top, marrying ripeness and supple tannins with savory notes of tar and espresso. Drink nowâ€“2025, possibly beyond.                                                                                               | The Medhyk Old Vine                     | 92 | 95 | South Australia | McLaren Vale                      | NA | Joe Czerwinski    | @JoeCz      | Angove 2012 The Medhyk Old Vine Shiraz (McLaren Vale)                            | Shiraz               | Angove                       |  9 | 2266 |\n",
       "| France    | This wine has a bright, crisp character that is reminiscent of Chablis. It has refreshing lemon and apple flavors, and it's ready to drink.                                                                                                                                                                                                                                           | ChÃ¢teau de Mercey                      | 87 | 23 | Burgundy        | Bourgogne Hautes CÃ´tes de Beaune | NA | Roger Voss        | @vossroger  | Antonin Rodet 2010 ChÃ¢teau de Mercey  (Bourgogne Hautes CÃ´tes de Beaune)       | Chardonnay           | Antonin Rodet                | 16 | 2469 |\n",
       "| ... | ... | ... | ... | ... | ... | ... | ... | ... | ... | ... | ... | ... | ... | ... |\n",
       "| France   | An equal blend of Pinot Noir, Chardonnay and Pinot Meunier, this is the producer's nonvintage cuvÃ©e, soft and ripe. Balanced and crisp, it has attractive acidity under the light texture and tangy lemon-zest flavor. The bottling is ready to drink.                                                                                                                                                                  | Brut RÃ©serve                   | 88 | 35 | Champagne              | Champagne               | NA                | Roger Voss        | @vossroger       | Vollereaux NV Brut RÃ©serve  (Champagne)                                        | Champagne Blend    | Vollereaux         | 16 | 60826 |\n",
       "| France   | This ripe, soft wine is well balanced and offers attractive fruitiness. The creamy mousse and acidity bring richness and a fresh character. With its finely judged dosage, not too dry, not too sweet, the wine is very ready to drink.                                                                                                                                                                                  | Brut RÃ©serve                   | 88 | 35 | Champagne              | Champagne               | NA                | Roger Voss        | @vossroger       | Vollereaux NV Brut RÃ©serve  (Champagne)                                        | Champagne Blend    | Vollereaux         | 16 | 60826 |\n",
       "| France   | This is an unusual rosÃ© for Champagne. It is made 100% from Pinot Noir rather than a blend. And it is made by getting color directly from the fermenting grapes rather than the normal Champagne process of adding red wine. The result is a dark-colored rosÃ© that has a tannic structure as well as red fruits. It is rich and concentrated with ripeness rather than great freshness. It is definitely a food wine. | Brut RosÃ© de SaignÃ©e          | 87 | 40 | Champagne              | Champagne               | NA                | Roger Voss        | @vossroger       | Vollereaux NV Brut RosÃ© de SaignÃ©e Pinot Noir (Champagne)                     | Pinot Noir         | Vollereaux         | 16 | 60828 |\n",
       "| France   | Most rosÃ© Champagnes get their color by the addition of red wine. This wine gets its hue from the skins of red grapes macerating before fermentation. It has a deep pink color and a lightly tannic character, making for a rich wine flavored with red currants and finished with acidity.                                                                                                                             | Brut RosÃ© de SaignÃ©e          | 88 | 40 | Champagne              | Champagne               | NA                | Roger Voss        | @vossroger       | Vollereaux NV Brut RosÃ© de SaignÃ©e Pinot Noir (Champagne)                     | Pinot Noir         | Vollereaux         | 16 | 60828 |\n",
       "| France   | Orange-pink color on this soft, ripe rosÃ©. The balance is better than in past years, with acidity cutting the red fruits. Light-bodied with a good texture.                                                                                                                                                                                                                                                             | Demoiselle RosÃ© Brut           | 89 | 50 | Champagne              | Champagne               | NA                | Roger Voss        | @vossroger       | Vranken NV Demoiselle RosÃ© Brut  (Champagne)                                   | Champagne Blend    | Vranken            | 16 | 60934 |\n",
       "| France   | While it is certainly on the sweet side, this bottling, with its lively mousse and strawberry flavors, is a definite step up from previous tastings. It has weight but also freshness.                                                                                                                                                                                                                                   | Demoiselle RosÃ© Brut           | 88 | 55 | Champagne              | Champagne               | NA                | Roger Voss        | @vossroger       | Vranken NV Demoiselle RosÃ© Brut  (Champagne)                                   | Champagne Blend    | Vranken            | 16 | 60934 |\n",
       "| France   | A balanced wine, with softness that indicates a relatively high dosage. There is no complexity, but the wine is light, creamy, flavored with green plums and kiwi, just edged with bitterness.                                                                                                                                                                                                                           | Demoiselle TÃªte de CuvÃ©e Brut | 85 | 40 | Champagne              | Champagne               | NA                | Roger Voss        | @vossroger       | Vranken NV Demoiselle TÃªte de CuvÃ©e Brut  (Champagne)                         | Champagne Blend    | Vranken            | 16 | 60935 |\n",
       "| France   | The style of this creamy wine seems to have become drier, giving a steely tight character to go with the apple and citrus flavors. The result is attractive, very fresh, ready to drink.                                                                                                                                                                                                                                 | Demoiselle TÃªte de CuvÃ©e Brut | 90 | 40 | Champagne              | Champagne               | NA                | Roger Voss        | @vossroger       | Vranken NV Demoiselle TÃªte de CuvÃ©e Brut  (Champagne)                         | Champagne Blend    | Vranken            | 16 | 60935 |\n",
       "| France   | Vranken's releases seem to be bucking the trend towards drier Champagnes. This wine is soft and obviously the dosage is high. It is balanced and the fresh creamed apple flavors and light texture all work well together. It is in a light style, ready to drink.                                                                                                                                                       | Diamant Brut                    | 87 | 53 | Champagne              | Champagne               | NA                | Roger Voss        | @vossroger       | Vranken NV Diamant Brut  (Champagne)                                            | Champagne Blend    | Vranken            | 16 | 60936 |\n",
       "| France   | For those who like their non-vintage with some bottle age, this is a fine wine. While it has lost its early freshness, it certainly has gained in complexity, offering ripe, soft, toasty flavors to add to the green plum fruits and acidity.                                                                                                                                                                           | Diamant Brut                    | 89 | 50 | Champagne              | Champagne               | NA                | Roger Voss        | @vossroger       | Vranken NV Diamant Brut  (Champagne)                                            | Champagne Blend    | Vranken            | 16 | 60936 |\n",
       "| Portugal | This is a classic Reserve Ruby, full of berry fruits, juicy acidity and light tannins. Hints of dried fruits combine with red berries to give a wine that is stylish and dry in the Warre's style.                                                                                                                                                                                                                       | Warrior Reserve                 | 87 | 18 | Port                   | NA                      | NA                | Roger Voss        | @vossroger       | Warre's NV Warrior Reserve  (Port)                                              | Port               | Warre's            | 16 | 61206 |\n",
       "| Portugal | Bright fruits in a Port with soft tannins and a structure that pushes blackberry fruit and sweet jelly. The wine is soft, ripe, full, showing some dryness from tannins on the finish.                                                                                                                                                                                                                                   | Warrior Reserve                 | 86 | 19 | Port                   | NA                      | NA                | Roger Voss        | @vossroger       | Warre's NV Warrior Reserve  (Port)                                              | Port               | Warre's            | 16 | 61206 |\n",
       "| US       | A strong almond and marzipan aroma jumps out of the glass. Flavors are quite fruity and the almond note isn't as strong as in the aromas. This wine is softly sparkling and somewhat sweet.                                                                                                                                                                                                                              | Almond Demi-Sec                 | 83 | 12 | California             | California              | California Other  | Jim Gordon        | @gordone_cellars | Weibel Family NV Almond Demi-Sec Sparkling (California)                         | Sparkling Blend    | Weibel Family      |  8 | 61374 |\n",
       "| US       | This wine smells like a Danish pastry, with strong, very sweet almond flavors that cling to the taste buds long after sipping.                                                                                                                                                                                                                                                                                           | Almond Demi-Sec                 | 82 | 12 | California             | California              | California Other  | Jim Gordon        | @gordone_cellars | Weibel Family NV Almond Demi-Sec Sparkling (California)                         | Sparkling Blend    | Weibel Family      |  8 | 61374 |\n",
       "| Austria  | The concentration here is enormous, from low-yielding old vines. The wine has the characteristic pepper edge, but the creamy character, the ripe lychees and green plums, are all more dominant. At the end, a distinct spiciness shows through. Age ideally for 3â€“4 years.                                                                                                                                            | Alte Reben                      | 93 | 27 | NiederÃ¶sterreich      | NA                      | NA                | Roger Voss        | @vossroger       | Weinrieder 2007 Alte Reben GrÃ¼ner Veltliner (NiederÃ¶sterreich)                | GrÃ¼ner Veltliner  | Weinrieder         | 16 | 61454 |\n",
       "| Austria  | A gorgeous wine, its richness fuelled by the concentration that comes from old vines. The wine rolls opulently around the mouth, showing apricot flavors over almonds and spice. A final burst of freshness gives it a delicious lift.                                                                                                                                                                                   | Alte Reben                      | 90 | 28 | NiederÃ¶sterreich      | NA                      | NA                | Roger Voss        | @vossroger       | Weinrieder 2007 Alte Reben GrÃ¼ner Veltliner (NiederÃ¶sterreich)                | GrÃ¼ner Veltliner  | Weinrieder         | 16 | 61454 |\n",
       "| US       | A cuvÃ©e of Riesling, with a tiny splash of Moscato, this is on the sweet side of brut. Scents of wet paper carry into disjointed flavors of waxy lemon and simple sugar.                                                                                                                                                                                                                                                | CuvÃ©e Blanc                    | 83 | 25 | Oregon                 | Willamette Valley       | Willamette Valley | Paul Gregutt      | @paulgwineÂ      | Wetzel Estate NV CuvÃ©e Blanc Sparkling (Willamette Valley)                     | Sparkling Blend    | Wetzel Estate      | 15 | 61615 |\n",
       "| US       | The winery indicates this is from 2015, but there is no vintage shown on the bottle. On the sweet edge of brut, it smells and tastes of plastic, with a grainy, sugary mouthfeel and simple apple fruit.                                                                                                                                                                                                                 | CuvÃ©e Blanc                    | 84 | 25 | Oregon                 | Willamette Valley       | Willamette Valley | Paul Gregutt      | @paulgwineÂ      | Wetzel Estate NV CuvÃ©e Blanc Sparkling (Willamette Valley)                     | Sparkling Blend    | Wetzel Estate      | 15 | 61615 |\n",
       "| Portugal | Produced by the cooperative of Santo Isidro de PegÃµes south of Lisbon, this wine comes from the grape variety that's planted across the region. It's an open, soft wine, great for pasta dishes with plenty of ripe fruits and gentle tannins. Drink now.                                                                                                                                                               | Dona Helena Colheita            | 84 | 12 | PenÃ­nsula de SetÃºbal | NA                      | NA                | Roger Voss        | @vossroger       | Wines &amp; Winemakers 2014 Dona Helena Colheita CastelÃ£o (PenÃ­nsula de SetÃºbal) | CastelÃ£o          | Wines &amp; Winemakers | 16 | 62386 |\n",
       "| Portugal | This is a rustic, barnyard-scented wine, with tannins and acidity but lacking fruit. Think of it as one to quaff without too much thought.                                                                                                                                                                                                                                                                               | Dona Helena Colheita            | 83 | 11 | PenÃ­nsula de SetÃºbal | NA                      | NA                | Roger Voss        | @vossroger       | Wines &amp; Winemakers 2014 Dona Helena Colheita CastelÃ£o (PenÃ­nsula de SetÃºbal) | CastelÃ£o          | Wines &amp; Winemakers | 16 | 62386 |\n",
       "| Portugal | An intensely orange-pink-colored wine, this is a blend of the local CastelÃ£o with Touriga Nacional and Syrah. Its acidity is filled out with ripe red-berry fruits and a smooth texture of vanilla. The wine is soft and ready to drink.                                                                                                                                                                                | Monte de BaÃ­a                  | 84 | 12 | PenÃ­nsula de SetÃºbal | NA                      | NA                | Roger Voss        | @vossroger       | Wines &amp; Winemakers 2016 Monte de BaÃ­a RosÃ© (PenÃ­nsula de SetÃºbal)           | RosÃ©              | Wines &amp; Winemakers | 16 | 62447 |\n",
       "| Portugal | A crisp, caramel- and red-fruit-flavored blend of CastelÃ£o, Touriga Nacional and Syrah, this is ready to drink. Produced at Casa Ermelinda Freitas winery, it has a salty edge from the nearby ocean, finishing with plenty of acidity.                                                                                                                                                                                 | Monte de BaÃ­a                  | 86 | 12 | PenÃ­nsula de SetÃºbal | NA                      | NA                | Roger Voss        | @vossroger       | Wines &amp; Winemakers 2016 Monte de BaÃ­a RosÃ© (PenÃ­nsula de SetÃºbal)           | RosÃ©              | Wines &amp; Winemakers | 16 | 62447 |\n",
       "| France   | Attractive, best-selling CrÃ©mant d'Alsace, with its crisp apple and almond flavors to go with the acidity. It is lively, well-balanced, a great value in sparkling wines.                                                                                                                                                                                                                                               | Brut                            | 88 | 22 | Alsace                 | CrÃ©mant d'Alsace       | NA                | Roger Voss        | @vossroger       | Wolfberger NV Brut Sparkling (CrÃ©mant d'Alsace)                                | Sparkling Blend    | Wolfberger         | 16 | 62669 |\n",
       "| France   | This is a really fruity, really refreshing sparkling wine. It boasts apple, citrus and a touch of apricot flavors, as well as tight acidity. It is fragrant, pure and clean, and very fresh on the finish.                                                                                                                                                                                                               | Brut                            | 88 | 22 | Alsace                 | CrÃ©mant d'Alsace       | NA                | Roger Voss        | @vossroger       | Wolfberger NV Brut Sparkling (CrÃ©mant d'Alsace)                                | Sparkling Blend    | Wolfberger         | 16 | 62669 |\n",
       "| US       | This Cabernet Sauvignon's char, vanilla, caramel, toast, herb and dark fruit scents are followed by equal parts fruit and barrel flavors. It delivers enjoyment notwithstanding the heavy oak influence, which may yet integrate in the bottle.                                                                                                                                                                          | Estate                          | 89 | 49 | Washington             | Walla Walla Valley (WA) | Columbia Valley   | Sean P. Sullivan  | @wawinereport    | Woodward Canyon 2013 Estate Cabernet Sauvignon (Walla Walla Valley (WA))        | Cabernet Sauvignon | Woodward Canyon    | 17 | 62753 |\n",
       "| US       | Blended with 13% Syrah, this wine opens with notes of cassis, smoke, sweet herb, vanilla and tar. The black-fruit flavors are full bodied but still retain a sense of vibrancy and deftness. The finish stretches out and the tannins provide some chew.                                                                                                                                                                 | Estate                          | 91 | 49 | Washington             | Walla Walla Valley (WA) | Columbia Valley   | Sean P. Sullivan  | @wawinereport    | Woodward Canyon 2013 Estate Cabernet Sauvignon (Walla Walla Valley (WA))        | Cabernet Sauvignon | Woodward Canyon    | 17 | 62753 |\n",
       "| Italy    | Fun and refreshing, this frothy sparkler opens with scents of spring flower and white stone fruit. The lively palate doles out creamy white peach and green apple alongside fresh acidity.                                                                                                                                                                                                                               | CuvÃ©e 1821 Brut                | 86 | 13 | Veneto                 | Prosecco                | NA                | Kerin Oâ€™Keefe   | @kerinokeefe     | Zonin NV CuvÃ©e 1821 Brut  (Prosecco)                                           | Glera              | Zonin              | 10 | 63329 |\n",
       "| Italy    | Heady aromas of peach and exotic fruit carry over to the refreshing palate along with a citrusy note. It has a lively perlage while crisp acidity gives it a clean refreshing finish.                                                                                                                                                                                                                                    | CuvÃ©e 1821 Brut                | 86 | 15 | Veneto                 | Prosecco                | NA                | Kerin Oâ€™Keefe   | @kerinokeefe     | Zonin NV CuvÃ©e 1821 Brut  (Prosecco)                                           | Glera              | Zonin              | 10 | 63329 |\n",
       "| France   | Lovely notes of Golden Pearmain apple perfume the nose, with hints of soy sauce. The body and palate are luminous showing green apple freshness that come across as light, graceful and authentic. There is something honest and fresh-faced about this wine that is rather disarming. This is a very beautiful, classy crÃ©mant made from a blend of Riesling and Auxerrois.                                            | Clos Liebenberg                 | 93 | 58 | Alsace                 | CrÃ©mant d'Alsace       | NA                | Anne KrebiehlÂ MW | @AnneInVino      | Zusslin 2012 Clos Liebenberg Sparkling (CrÃ©mant d'Alsace)                      | Sparkling Blend    | Zusslin            |  3 | 63445 |\n",
       "| France   | Exquisitely fragrant notes of ripe, aromatic apples rise from the glass: tart, fruity and fresh in equal measure. The palate shows both evolved autolysis by way of soy-spiced breadiness and even more fruit in the way of bruised, tart apple notes of great purity. The finish is long and full of flavor, complex, nuanced and resolutely dry.                                                                       | Clos Liebenberg                 | 93 | 57 | Alsace                 | CrÃ©mant d'Alsace       | NA                | Anne KrebiehlÂ MW | @AnneInVino      | Zusslin 2012 Clos Liebenberg Sparkling (CrÃ©mant d'Alsace)                      | Sparkling Blend    | Zusslin            |  3 | 63445 |\n",
       "\n"
      ],
      "text/plain": [
       "     country  \n",
       "1    Spain    \n",
       "2    Spain    \n",
       "3    France   \n",
       "4    France   \n",
       "5    France   \n",
       "6    France   \n",
       "7    France   \n",
       "8    France   \n",
       "9    France   \n",
       "10   France   \n",
       "11   France   \n",
       "12   France   \n",
       "13   France   \n",
       "14   Portugal \n",
       "15   Portugal \n",
       "16   Portugal \n",
       "17   Portugal \n",
       "18   Spain    \n",
       "19   Spain    \n",
       "20   France   \n",
       "21   France   \n",
       "22   France   \n",
       "23   France   \n",
       "24   France   \n",
       "25   France   \n",
       "26   Spain    \n",
       "27   Spain    \n",
       "28   Australia\n",
       "29   Australia\n",
       "30   France   \n",
       "...  ...      \n",
       "980  France   \n",
       "981  France   \n",
       "982  France   \n",
       "983  France   \n",
       "984  France   \n",
       "985  France   \n",
       "986  France   \n",
       "987  France   \n",
       "988  France   \n",
       "989  France   \n",
       "990  Portugal \n",
       "991  Portugal \n",
       "992  US       \n",
       "993  US       \n",
       "994  Austria  \n",
       "995  Austria  \n",
       "996  US       \n",
       "997  US       \n",
       "998  Portugal \n",
       "999  Portugal \n",
       "1000 Portugal \n",
       "1001 Portugal \n",
       "1002 France   \n",
       "1003 France   \n",
       "1004 US       \n",
       "1005 US       \n",
       "1006 Italy    \n",
       "1007 Italy    \n",
       "1008 France   \n",
       "1009 France   \n",
       "     description                                                                                                                                                                                                                                                                                                                                                                                                             \n",
       "1    Spiced apple and toast aromas are clean and direct. On the palate, it's malic and citric, with lime and white grapefruit flavors. A citrusy finish with a note of salt maintains freshness.                                                                                                                                                                                                                             \n",
       "2    Dusty notes of citrus fruits are mild but friendly. This Cava is zesty, fresh and simple as a whole, with lime, clover and grassy flavors. Freshness is the overriding theme, while the finish tastes of apple and lime.                                                                                                                                                                                                \n",
       "3    Bone dry and crisp, this is also has fruitiness from the ripeness of the grapes, giving impressively rich apple and pear flavors. Of course, these are cut by tight acidity and intense citrus, leaving a tight, steely aftertaste.                                                                                                                                                                                     \n",
       "4    This tight crisp wine delivers citrus and sliced apple fruits. There is a brisk mousse that gives the wine quite a bite of acidity. All the elements point in the direction of food for this Champagne. Like many bone-dry Champagnes, this bottling needs to age, so drink from 2018.                                                                                                                                  \n",
       "5    With zero grams of residual sugar, this is wine is as dry as it gets, relying on the ripe fruit to balance the intense acidity. Crisp apple and tight acidity dominate. Like many zero-dosage Champagnes it needs to age, so hold this bottle for two years.                                                                                                                                                            \n",
       "6    The wine comes from the Grand Cru village of Chouilly in the Chardonnay vineyards of the CÃ´te des Blancs. It is crisp, mineral textured and still developing. Bright acidity and lemon-zest flavors give this wine its lively and also full-bodied character. Drink from 2018.                                                                                                                                         \n",
       "7    This is a very lively wine with a creamy mousse. The wine is towards dry, bringing out great white and citrus fruit flavors with a burst of tangy acidity. It comes from the village of Chouilly in the CÃ´te des Blancs, which gives the wine a tight mineral texture at the end.                                                                                                                                      \n",
       "8    A quarter of this nonvintage blend was vinified in wood. That adds some extra richness to the already ripe fruit. Based on the 2013 vintage, the wine is full of pear, crisp apple and hints of apricot. Drink now.                                                                                                                                                                                                     \n",
       "9    With vineyards in the Marne Valley, this Champagne house has produced a ripe, soft style. Based on grapes from the 2011 harvest, it is still young, although the acidity is softening to bring in ripe apple and green-plum flavors. An underlying ripe fruit character makes it extra attractive.                                                                                                                      \n",
       "10   Intense is a good description of this tightly textured and mineral-driven wine. Its fruit is subdued by the steely, tense character, although there are attractive hints of crisp apple and citrus acidity. The bottling is young and will repay several months aging after purchase.                                                                                                                                   \n",
       "11   This beautifully crisp and fresh wine has great red-berry acidity. Tight and textured, it is dry while balancing fruit and the more steely edge. The bottling is young, so could be aged for six months from purchase, although it is also refreshing to drink immediately.                                                                                                                                             \n",
       "12   With some attractive bottle age, this pale rosÃ© is warm and rich. Spice contrasts with crisp red fruits and acidity. The wine is ready to drink.                                                                                                                                                                                                                                                                       \n",
       "13   The base of this wine is Chardonnay with some Pinot Noir added to give color (standard practice in Champagne). The result is a pale-colored wine that's ripe and full of fruit. It has a rich character lifted by the tight, mineral acidity in the aftertaste.                                                                                                                                                         \n",
       "14   This big and bold wine exudes power and fruitiness. It has ripe fruits, sweet tannins and a great mix of spice, toasty wood and acidity. Both juicy and structured, it's likely to develop well. Drink from 2016.                                                                                                                                                                                                       \n",
       "15   Firmly structured, this has both great tannins and equally big, rich berry and black currant fruits that bring the acidity right up front. It is still young, emphasizing the fruit and freshness. The tannins and wood aging flavors need their chance. Drink from 2017.                                                                                                                                               \n",
       "16   This soft, yeasty and sweet blend of FernÃ£o Pires and Bical is fruity with apple and pear flavors. It has just enough acidity to keep it crisp on the finish and makes an easy apÃ©ritif.                                                                                                                                                                                                                              \n",
       "17   Medium dry, this is a lightly fruity wine. It has sweet apple and light citrus flavors along with a zesty texture. It is soft and bright at the end.                                                                                                                                                                                                                                                                    \n",
       "18   Bready and yeasty smelling upfront, this feels round but also dry on the palate. Briny, pickled, yeasty flavors lead way to a salty finish. Quickly dissipating bubbles render it more of a demi-sec.                                                                                                                                                                                                                   \n",
       "19   Leesy fleshy papaya aromas come with a touch of sulfur and harshness. This feels solid, albeit modest in bubbles. Flavors of apple and green melon are lasting and steady on the finish.                                                                                                                                                                                                                                \n",
       "20   As with all this producer's wines, the first fermentation iof this bottling was in wood, adding richness and smoothing out the fruit to give a warm, round character. The acidity is still tight and crisp, with citrus and apple flavors shot through with minerality. Drink now.                                                                                                                                      \n",
       "21   A dry, tight style of wine, with fresh grapefruit and lime flavors. It could do with some bottle age to allow the fruit to shed some of its intense acidity.                                                                                                                                                                                                                                                            \n",
       "22   This stalky, smoky wine has red currant fruits and a tight texture. The fruit is just ripe, light in character with very fresh acidity. Some more depth would have been good. Drink now.                                                                                                                                                                                                                                \n",
       "23   Peach and pear flavors entwine with intense, youthful acidity in this bone-dry wine. It is taut and still developing fuller, fruity character. Very fresh, it needs time; drink from 2016.                                                                                                                                                                                                                              \n",
       "24   Blossom and citrus notes stream from the glassâ\\200”there are notes of green pear too. The slender palate boosts these fruit notes with a generous but still dry dosage, while hints of grassy herbs play along the edges. This is frothy, easy and very fresh. Drink soon.                                                                                                                                                \n",
       "25   Lovely and fresh notes of red apple are joined by a livelier tangier citrus note on the nose. The dry palate is very light, almost weightless and fizzes away with a very fine mousse. There is real depth of fruit and a knowingly light touch. It is lovely as an elegant apÃ©ritif but sophisticated enough to be served alongside food. The finish is tart, lasting and grown-up.                                   \n",
       "26   A rank well above most PX sweeties, with lush but fresh aromas of raisin and spice that are distinctly not syrupy or heavy. Feels thick, but there's enough acidity to cut through the wine's weight. Flavors of caramel and chocolate are ideal, and the finish is smooth, not heavy, and has bounce in its step. A beautiful PX any way you cut it.                                                                   \n",
       "27   One of the world's best PX wines is Solera 1927, the pride of Alvear. Whatever solera stocks went into this bottling were well selected. Aromas of maple and fine wood turn to fig and caramel. Saturation and weight on the palate are expected, but this has some (though not a lot) acidic cut. Deep flavors of fig and Nutella finish with nuttiness and warmth. Drink or hold.                                     \n",
       "28   A tip of the cap to the Angove family for turning out such an ageworthy wine. It's packed and stacked with mulberry fruit, lashings of vanilla and just a hint of mint. Full-bodied and tannic, it should drink well from 2020â\\200“2030.                                                                                                                                                                                  \n",
       "29   The Angove family has made a real commitment to its prestige wine portfolio, and this Shiraz represents that new level of quality. It's ripe without being over the top, marrying ripeness and supple tannins with savory notes of tar and espresso. Drink nowâ\\200“2025, possibly beyond.                                                                                                                                 \n",
       "30   This wine has a bright, crisp character that is reminiscent of Chablis. It has refreshing lemon and apple flavors, and it's ready to drink.                                                                                                                                                                                                                                                                             \n",
       "...  ...                                                                                                                                                                                                                                                                                                                                                                                                                     \n",
       "980  An equal blend of Pinot Noir, Chardonnay and Pinot Meunier, this is the producer's nonvintage cuvÃ©e, soft and ripe. Balanced and crisp, it has attractive acidity under the light texture and tangy lemon-zest flavor. The bottling is ready to drink.                                                                                                                                                                 \n",
       "981  This ripe, soft wine is well balanced and offers attractive fruitiness. The creamy mousse and acidity bring richness and a fresh character. With its finely judged dosage, not too dry, not too sweet, the wine is very ready to drink.                                                                                                                                                                                 \n",
       "982  This is an unusual rosÃ© for Champagne. It is made 100% from Pinot Noir rather than a blend. And it is made by getting color directly from the fermenting grapes rather than the normal Champagne process of adding red wine. The result is a dark-colored rosÃ© that has a tannic structure as well as red fruits. It is rich and concentrated with ripeness rather than great freshness. It is definitely a food wine.\n",
       "983  Most rosÃ© Champagnes get their color by the addition of red wine. This wine gets its hue from the skins of red grapes macerating before fermentation. It has a deep pink color and a lightly tannic character, making for a rich wine flavored with red currants and finished with acidity.                                                                                                                            \n",
       "984  Orange-pink color on this soft, ripe rosÃ©. The balance is better than in past years, with acidity cutting the red fruits. Light-bodied with a good texture.                                                                                                                                                                                                                                                            \n",
       "985  While it is certainly on the sweet side, this bottling, with its lively mousse and strawberry flavors, is a definite step up from previous tastings. It has weight but also freshness.                                                                                                                                                                                                                                  \n",
       "986  A balanced wine, with softness that indicates a relatively high dosage. There is no complexity, but the wine is light, creamy, flavored with green plums and kiwi, just edged with bitterness.                                                                                                                                                                                                                          \n",
       "987  The style of this creamy wine seems to have become drier, giving a steely tight character to go with the apple and citrus flavors. The result is attractive, very fresh, ready to drink.                                                                                                                                                                                                                                \n",
       "988  Vranken's releases seem to be bucking the trend towards drier Champagnes. This wine is soft and obviously the dosage is high. It is balanced and the fresh creamed apple flavors and light texture all work well together. It is in a light style, ready to drink.                                                                                                                                                      \n",
       "989  For those who like their non-vintage with some bottle age, this is a fine wine. While it has lost its early freshness, it certainly has gained in complexity, offering ripe, soft, toasty flavors to add to the green plum fruits and acidity.                                                                                                                                                                          \n",
       "990  This is a classic Reserve Ruby, full of berry fruits, juicy acidity and light tannins. Hints of dried fruits combine with red berries to give a wine that is stylish and dry in the Warre's style.                                                                                                                                                                                                                      \n",
       "991  Bright fruits in a Port with soft tannins and a structure that pushes blackberry fruit and sweet jelly. The wine is soft, ripe, full, showing some dryness from tannins on the finish.                                                                                                                                                                                                                                  \n",
       "992  A strong almond and marzipan aroma jumps out of the glass. Flavors are quite fruity and the almond note isn't as strong as in the aromas. This wine is softly sparkling and somewhat sweet.                                                                                                                                                                                                                             \n",
       "993  This wine smells like a Danish pastry, with strong, very sweet almond flavors that cling to the taste buds long after sipping.                                                                                                                                                                                                                                                                                          \n",
       "994  The concentration here is enormous, from low-yielding old vines. The wine has the characteristic pepper edge, but the creamy character, the ripe lychees and green plums, are all more dominant. At the end, a distinct spiciness shows through. Age ideally for 3â\\200“4 years.                                                                                                                                           \n",
       "995  A gorgeous wine, its richness fuelled by the concentration that comes from old vines. The wine rolls opulently around the mouth, showing apricot flavors over almonds and spice. A final burst of freshness gives it a delicious lift.                                                                                                                                                                                  \n",
       "996  A cuvÃ©e of Riesling, with a tiny splash of Moscato, this is on the sweet side of brut. Scents of wet paper carry into disjointed flavors of waxy lemon and simple sugar.                                                                                                                                                                                                                                               \n",
       "997  The winery indicates this is from 2015, but there is no vintage shown on the bottle. On the sweet edge of brut, it smells and tastes of plastic, with a grainy, sugary mouthfeel and simple apple fruit.                                                                                                                                                                                                                \n",
       "998  Produced by the cooperative of Santo Isidro de PegÃµes south of Lisbon, this wine comes from the grape variety that's planted across the region. It's an open, soft wine, great for pasta dishes with plenty of ripe fruits and gentle tannins. Drink now.                                                                                                                                                              \n",
       "999  This is a rustic, barnyard-scented wine, with tannins and acidity but lacking fruit. Think of it as one to quaff without too much thought.                                                                                                                                                                                                                                                                              \n",
       "1000 An intensely orange-pink-colored wine, this is a blend of the local CastelÃ£o with Touriga Nacional and Syrah. Its acidity is filled out with ripe red-berry fruits and a smooth texture of vanilla. The wine is soft and ready to drink.                                                                                                                                                                               \n",
       "1001 A crisp, caramel- and red-fruit-flavored blend of CastelÃ£o, Touriga Nacional and Syrah, this is ready to drink. Produced at Casa Ermelinda Freitas winery, it has a salty edge from the nearby ocean, finishing with plenty of acidity.                                                                                                                                                                                \n",
       "1002 Attractive, best-selling CrÃ©mant d'Alsace, with its crisp apple and almond flavors to go with the acidity. It is lively, well-balanced, a great value in sparkling wines.                                                                                                                                                                                                                                              \n",
       "1003 This is a really fruity, really refreshing sparkling wine. It boasts apple, citrus and a touch of apricot flavors, as well as tight acidity. It is fragrant, pure and clean, and very fresh on the finish.                                                                                                                                                                                                              \n",
       "1004 This Cabernet Sauvignon's char, vanilla, caramel, toast, herb and dark fruit scents are followed by equal parts fruit and barrel flavors. It delivers enjoyment notwithstanding the heavy oak influence, which may yet integrate in the bottle.                                                                                                                                                                         \n",
       "1005 Blended with 13% Syrah, this wine opens with notes of cassis, smoke, sweet herb, vanilla and tar. The black-fruit flavors are full bodied but still retain a sense of vibrancy and deftness. The finish stretches out and the tannins provide some chew.                                                                                                                                                                \n",
       "1006 Fun and refreshing, this frothy sparkler opens with scents of spring flower and white stone fruit. The lively palate doles out creamy white peach and green apple alongside fresh acidity.                                                                                                                                                                                                                              \n",
       "1007 Heady aromas of peach and exotic fruit carry over to the refreshing palate along with a citrusy note. It has a lively perlage while crisp acidity gives it a clean refreshing finish.                                                                                                                                                                                                                                   \n",
       "1008 Lovely notes of Golden Pearmain apple perfume the nose, with hints of soy sauce. The body and palate are luminous showing green apple freshness that come across as light, graceful and authentic. There is something honest and fresh-faced about this wine that is rather disarming. This is a very beautiful, classy crÃ©mant made from a blend of Riesling and Auxerrois.                                           \n",
       "1009 Exquisitely fragrant notes of ripe, aromatic apples rise from the glass: tart, fruity and fresh in equal measure. The palate shows both evolved autolysis by way of soy-spiced breadiness and even more fruit in the way of bruised, tart apple notes of great purity. The finish is long and full of flavor, complex, nuanced and resolutely dry.                                                                      \n",
       "     designation                             points price\n",
       "1    Brut                                    87     16   \n",
       "2    Brut                                    87     16   \n",
       "3    Dosage ZÃ©ro Brut Nature                89     49   \n",
       "4    Dosage ZÃ©ro Brut Nature                90     49   \n",
       "5    Dosage ZÃ©ro Brut Nature                90     49   \n",
       "6    Grand Cru Blanc de Blancs Chouilly Brut 92     54   \n",
       "7    Grand Cru Blanc de Blancs Chouilly Brut 91     54   \n",
       "8    Intense Brut                            90     45   \n",
       "9    Intense Brut                            89     45   \n",
       "10   Intense Brut                            90     45   \n",
       "11   Terroirs Brut RosÃ©                     91     59   \n",
       "12   Terroirs Brut RosÃ©                     87     59   \n",
       "13   Terroirs Brut RosÃ©                     91     59   \n",
       "14   BridÃ£o Reserva                         91     14   \n",
       "15   BridÃ£o Reserva                         91     15   \n",
       "16   Plexus Branco                           84     10   \n",
       "17   Plexus Branco                           85      7   \n",
       "18   Brut Natural Reserva                    86     23   \n",
       "19   Brut Natural Reserva                    88     23   \n",
       "20   Brut                                    90     50   \n",
       "21   Brut                                    87     69   \n",
       "22   Demoiselle Bleue                        84     15   \n",
       "23   Demoiselle Bleue                        86     15   \n",
       "24   Brut                                    87     20   \n",
       "25   Brut                                    91     20   \n",
       "26   Solera 1927                             94     25   \n",
       "27   Solera 1927                             96     30   \n",
       "28   The Medhyk Old Vine                     94     95   \n",
       "29   The Medhyk Old Vine                     92     95   \n",
       "30   ChÃ¢teau de Mercey                      87     23   \n",
       "...  ...                                     ...    ...  \n",
       "980  Brut RÃ©serve                           88     35   \n",
       "981  Brut RÃ©serve                           88     35   \n",
       "982  Brut RosÃ© de SaignÃ©e                  87     40   \n",
       "983  Brut RosÃ© de SaignÃ©e                  88     40   \n",
       "984  Demoiselle RosÃ© Brut                   89     50   \n",
       "985  Demoiselle RosÃ© Brut                   88     55   \n",
       "986  Demoiselle TÃªte de CuvÃ©e Brut         85     40   \n",
       "987  Demoiselle TÃªte de CuvÃ©e Brut         90     40   \n",
       "988  Diamant Brut                            87     53   \n",
       "989  Diamant Brut                            89     50   \n",
       "990  Warrior Reserve                         87     18   \n",
       "991  Warrior Reserve                         86     19   \n",
       "992  Almond Demi-Sec                         83     12   \n",
       "993  Almond Demi-Sec                         82     12   \n",
       "994  Alte Reben                              93     27   \n",
       "995  Alte Reben                              90     28   \n",
       "996  CuvÃ©e Blanc                            83     25   \n",
       "997  CuvÃ©e Blanc                            84     25   \n",
       "998  Dona Helena Colheita                    84     12   \n",
       "999  Dona Helena Colheita                    83     11   \n",
       "1000 Monte de BaÃ­a                          84     12   \n",
       "1001 Monte de BaÃ­a                          86     12   \n",
       "1002 Brut                                    88     22   \n",
       "1003 Brut                                    88     22   \n",
       "1004 Estate                                  89     49   \n",
       "1005 Estate                                  91     49   \n",
       "1006 CuvÃ©e 1821 Brut                        86     13   \n",
       "1007 CuvÃ©e 1821 Brut                        86     15   \n",
       "1008 Clos Liebenberg                         93     58   \n",
       "1009 Clos Liebenberg                         93     57   \n",
       "     province               region_1                          region_2         \n",
       "1    Catalonia              Cava                              NA               \n",
       "2    Catalonia              Cava                              NA               \n",
       "3    Champagne              Champagne                         NA               \n",
       "4    Champagne              Champagne                         NA               \n",
       "5    Champagne              Champagne                         NA               \n",
       "6    Champagne              Champagne                         NA               \n",
       "7    Champagne              Champagne                         NA               \n",
       "8    Champagne              Champagne                         NA               \n",
       "9    Champagne              Champagne                         NA               \n",
       "10   Champagne              Champagne                         NA               \n",
       "11   Champagne              Champagne                         NA               \n",
       "12   Champagne              Champagne                         NA               \n",
       "13   Champagne              Champagne                         NA               \n",
       "14   Tejo                   NA                                NA               \n",
       "15   Tejo                   NA                                NA               \n",
       "16   Tejo                   NA                                NA               \n",
       "17   Tejo                   NA                                NA               \n",
       "18   Catalonia              PenedÃ¨s                          NA               \n",
       "19   Catalonia              PenedÃ¨s                          NA               \n",
       "20   Champagne              Champagne                         NA               \n",
       "21   Champagne              Champagne                         NA               \n",
       "22   Loire Valley           Saumur                            NA               \n",
       "23   Loire Valley           Saumur                            NA               \n",
       "24   Alsace                 CrÃ©mant d'Alsace                 NA               \n",
       "25   Alsace                 CrÃ©mant d'Alsace                 NA               \n",
       "26   Andalucia              Montilla-Moriles                  NA               \n",
       "27   Andalucia              Montilla-Moriles                  NA               \n",
       "28   South Australia        McLaren Vale                      NA               \n",
       "29   South Australia        McLaren Vale                      NA               \n",
       "30   Burgundy               Bourgogne Hautes CÃ´tes de Beaune NA               \n",
       "...  ...                    ...                               ...              \n",
       "980  Champagne              Champagne                         NA               \n",
       "981  Champagne              Champagne                         NA               \n",
       "982  Champagne              Champagne                         NA               \n",
       "983  Champagne              Champagne                         NA               \n",
       "984  Champagne              Champagne                         NA               \n",
       "985  Champagne              Champagne                         NA               \n",
       "986  Champagne              Champagne                         NA               \n",
       "987  Champagne              Champagne                         NA               \n",
       "988  Champagne              Champagne                         NA               \n",
       "989  Champagne              Champagne                         NA               \n",
       "990  Port                   NA                                NA               \n",
       "991  Port                   NA                                NA               \n",
       "992  California             California                        California Other \n",
       "993  California             California                        California Other \n",
       "994  NiederÃ¶sterreich      NA                                NA               \n",
       "995  NiederÃ¶sterreich      NA                                NA               \n",
       "996  Oregon                 Willamette Valley                 Willamette Valley\n",
       "997  Oregon                 Willamette Valley                 Willamette Valley\n",
       "998  PenÃ­nsula de SetÃºbal NA                                NA               \n",
       "999  PenÃ­nsula de SetÃºbal NA                                NA               \n",
       "1000 PenÃ­nsula de SetÃºbal NA                                NA               \n",
       "1001 PenÃ­nsula de SetÃºbal NA                                NA               \n",
       "1002 Alsace                 CrÃ©mant d'Alsace                 NA               \n",
       "1003 Alsace                 CrÃ©mant d'Alsace                 NA               \n",
       "1004 Washington             Walla Walla Valley (WA)           Columbia Valley  \n",
       "1005 Washington             Walla Walla Valley (WA)           Columbia Valley  \n",
       "1006 Veneto                 Prosecco                          NA               \n",
       "1007 Veneto                 Prosecco                          NA               \n",
       "1008 Alsace                 CrÃ©mant d'Alsace                 NA               \n",
       "1009 Alsace                 CrÃ©mant d'Alsace                 NA               \n",
       "     taster_name       taster_twitter_handle\n",
       "1    Michael Schachner @wineschach          \n",
       "2    Michael Schachner @wineschach          \n",
       "3    Roger Voss        @vossroger           \n",
       "4    Roger Voss        @vossroger           \n",
       "5    Roger Voss        @vossroger           \n",
       "6    Roger Voss        @vossroger           \n",
       "7    Roger Voss        @vossroger           \n",
       "8    Roger Voss        @vossroger           \n",
       "9    Roger Voss        @vossroger           \n",
       "10   Roger Voss        @vossroger           \n",
       "11   Roger Voss        @vossroger           \n",
       "12   Roger Voss        @vossroger           \n",
       "13   Roger Voss        @vossroger           \n",
       "14   Roger Voss        @vossroger           \n",
       "15   Roger Voss        @vossroger           \n",
       "16   Roger Voss        @vossroger           \n",
       "17   Roger Voss        @vossroger           \n",
       "18   Michael Schachner @wineschach          \n",
       "19   Michael Schachner @wineschach          \n",
       "20   Roger Voss        @vossroger           \n",
       "21   Roger Voss        @vossroger           \n",
       "22   Roger Voss        @vossroger           \n",
       "23   Roger Voss        @vossroger           \n",
       "24   Anne KrebiehlÂ MW @AnneInVino          \n",
       "25   Anne KrebiehlÂ MW @AnneInVino          \n",
       "26   Michael Schachner @wineschach          \n",
       "27   Michael Schachner @wineschach          \n",
       "28   Joe Czerwinski    @JoeCz               \n",
       "29   Joe Czerwinski    @JoeCz               \n",
       "30   Roger Voss        @vossroger           \n",
       "...  ...               ...                  \n",
       "980  Roger Voss        @vossroger           \n",
       "981  Roger Voss        @vossroger           \n",
       "982  Roger Voss        @vossroger           \n",
       "983  Roger Voss        @vossroger           \n",
       "984  Roger Voss        @vossroger           \n",
       "985  Roger Voss        @vossroger           \n",
       "986  Roger Voss        @vossroger           \n",
       "987  Roger Voss        @vossroger           \n",
       "988  Roger Voss        @vossroger           \n",
       "989  Roger Voss        @vossroger           \n",
       "990  Roger Voss        @vossroger           \n",
       "991  Roger Voss        @vossroger           \n",
       "992  Jim Gordon        @gordone_cellars     \n",
       "993  Jim Gordon        @gordone_cellars     \n",
       "994  Roger Voss        @vossroger           \n",
       "995  Roger Voss        @vossroger           \n",
       "996  Paul Gregutt      @paulgwineÂ          \n",
       "997  Paul Gregutt      @paulgwineÂ          \n",
       "998  Roger Voss        @vossroger           \n",
       "999  Roger Voss        @vossroger           \n",
       "1000 Roger Voss        @vossroger           \n",
       "1001 Roger Voss        @vossroger           \n",
       "1002 Roger Voss        @vossroger           \n",
       "1003 Roger Voss        @vossroger           \n",
       "1004 Sean P. Sullivan  @wawinereport        \n",
       "1005 Sean P. Sullivan  @wawinereport        \n",
       "1006 Kerin Oâ\\200\\231Keefe   @kerinokeefe         \n",
       "1007 Kerin Oâ\\200\\231Keefe   @kerinokeefe         \n",
       "1008 Anne KrebiehlÂ MW @AnneInVino          \n",
       "1009 Anne KrebiehlÂ MW @AnneInVino          \n",
       "     title                                                                           \n",
       "1    1+1=3 NV Brut Sparkling (Cava)                                                  \n",
       "2    1+1=3 NV Brut Sparkling (Cava)                                                  \n",
       "3    A.R. LenobleÂ  NV Dosage ZÃ©ro Brut Nature  (Champagne)                         \n",
       "4    A.R. LenobleÂ  NV Dosage ZÃ©ro Brut Nature  (Champagne)                         \n",
       "5    A.R. LenobleÂ  NV Dosage ZÃ©ro Brut Nature  (Champagne)                         \n",
       "6    A.R. LenobleÂ  NV Grand Cru Blanc de Blancs Chouilly Brut Chardonnay (Champagne)\n",
       "7    A.R. LenobleÂ  NV Grand Cru Blanc de Blancs Chouilly Brut Chardonnay (Champagne)\n",
       "8    A.R. LenobleÂ  NV Intense Brut  (Champagne)                                     \n",
       "9    A.R. LenobleÂ  NV Intense Brut  (Champagne)                                     \n",
       "10   A.R. LenobleÂ  NV Intense Brut  (Champagne)                                     \n",
       "11   A.R. LenobleÂ  NV Terroirs Brut RosÃ©  (Champagne)                              \n",
       "12   A.R. LenobleÂ  NV Terroirs Brut RosÃ©  (Champagne)                              \n",
       "13   A.R. LenobleÂ  NV Terroirs Brut RosÃ©  (Champagne)                              \n",
       "14   Adega Cooperativa do Cartaxo 2011 BridÃ£o Reserva Red (Tejo)                    \n",
       "15   Adega Cooperativa do Cartaxo 2011 BridÃ£o Reserva Red (Tejo)                    \n",
       "16   Adega Cooperativa do Cartaxo NV Plexus Branco Sparkling (Tejo)                  \n",
       "17   Adega Cooperativa do Cartaxo NV Plexus Branco Sparkling (Tejo)                  \n",
       "18   Albet I Noya 2011 Brut Natural Reserva Sparkling (PenedÃ¨s)                     \n",
       "19   Albet I Noya 2011 Brut Natural Reserva Sparkling (PenedÃ¨s)                     \n",
       "20   Alfred Gratien NV Brut  (Champagne)                                             \n",
       "21   Alfred Gratien NV Brut  (Champagne)                                             \n",
       "22   Alliance Loire 2014 Demoiselle Bleue  (Saumur)                                  \n",
       "23   Alliance Loire 2014 Demoiselle Bleue  (Saumur)                                  \n",
       "24   Allimant-Laugner NV Brut Sparkling (CrÃ©mant d'Alsace)                          \n",
       "25   Allimant-Laugner NV Brut Sparkling (CrÃ©mant d'Alsace)                          \n",
       "26   Alvear NV Solera 1927 Pedro XimÃ©nez (Montilla-Moriles)                         \n",
       "27   Alvear NV Solera 1927 Pedro XimÃ©nez (Montilla-Moriles)                         \n",
       "28   Angove 2012 The Medhyk Old Vine Shiraz (McLaren Vale)                           \n",
       "29   Angove 2012 The Medhyk Old Vine Shiraz (McLaren Vale)                           \n",
       "30   Antonin Rodet 2010 ChÃ¢teau de Mercey  (Bourgogne Hautes CÃ´tes de Beaune)      \n",
       "...  ...                                                                             \n",
       "980  Vollereaux NV Brut RÃ©serve  (Champagne)                                        \n",
       "981  Vollereaux NV Brut RÃ©serve  (Champagne)                                        \n",
       "982  Vollereaux NV Brut RosÃ© de SaignÃ©e Pinot Noir (Champagne)                     \n",
       "983  Vollereaux NV Brut RosÃ© de SaignÃ©e Pinot Noir (Champagne)                     \n",
       "984  Vranken NV Demoiselle RosÃ© Brut  (Champagne)                                   \n",
       "985  Vranken NV Demoiselle RosÃ© Brut  (Champagne)                                   \n",
       "986  Vranken NV Demoiselle TÃªte de CuvÃ©e Brut  (Champagne)                         \n",
       "987  Vranken NV Demoiselle TÃªte de CuvÃ©e Brut  (Champagne)                         \n",
       "988  Vranken NV Diamant Brut  (Champagne)                                            \n",
       "989  Vranken NV Diamant Brut  (Champagne)                                            \n",
       "990  Warre's NV Warrior Reserve  (Port)                                              \n",
       "991  Warre's NV Warrior Reserve  (Port)                                              \n",
       "992  Weibel Family NV Almond Demi-Sec Sparkling (California)                         \n",
       "993  Weibel Family NV Almond Demi-Sec Sparkling (California)                         \n",
       "994  Weinrieder 2007 Alte Reben GrÃ¼ner Veltliner (NiederÃ¶sterreich)                \n",
       "995  Weinrieder 2007 Alte Reben GrÃ¼ner Veltliner (NiederÃ¶sterreich)                \n",
       "996  Wetzel Estate NV CuvÃ©e Blanc Sparkling (Willamette Valley)                     \n",
       "997  Wetzel Estate NV CuvÃ©e Blanc Sparkling (Willamette Valley)                     \n",
       "998  Wines & Winemakers 2014 Dona Helena Colheita CastelÃ£o (PenÃ­nsula de SetÃºbal) \n",
       "999  Wines & Winemakers 2014 Dona Helena Colheita CastelÃ£o (PenÃ­nsula de SetÃºbal) \n",
       "1000 Wines & Winemakers 2016 Monte de BaÃ­a RosÃ© (PenÃ­nsula de SetÃºbal)           \n",
       "1001 Wines & Winemakers 2016 Monte de BaÃ­a RosÃ© (PenÃ­nsula de SetÃºbal)           \n",
       "1002 Wolfberger NV Brut Sparkling (CrÃ©mant d'Alsace)                                \n",
       "1003 Wolfberger NV Brut Sparkling (CrÃ©mant d'Alsace)                                \n",
       "1004 Woodward Canyon 2013 Estate Cabernet Sauvignon (Walla Walla Valley (WA))        \n",
       "1005 Woodward Canyon 2013 Estate Cabernet Sauvignon (Walla Walla Valley (WA))        \n",
       "1006 Zonin NV CuvÃ©e 1821 Brut  (Prosecco)                                           \n",
       "1007 Zonin NV CuvÃ©e 1821 Brut  (Prosecco)                                           \n",
       "1008 Zusslin 2012 Clos Liebenberg Sparkling (CrÃ©mant d'Alsace)                      \n",
       "1009 Zusslin 2012 Clos Liebenberg Sparkling (CrÃ©mant d'Alsace)                      \n",
       "     variety              winery                       tasterID wineID\n",
       "1    Sparkling Blend      1+1=3                        13         49  \n",
       "2    Sparkling Blend      1+1=3                        13         49  \n",
       "3    Champagne Blend      A.R. LenobleÂ                16        221  \n",
       "4    Champagne Blend      A.R. LenobleÂ                16        221  \n",
       "5    Champagne Blend      A.R. LenobleÂ                16        221  \n",
       "6    Chardonnay           A.R. LenobleÂ                16        222  \n",
       "7    Chardonnay           A.R. LenobleÂ                16        222  \n",
       "8    Champagne Blend      A.R. LenobleÂ                16        223  \n",
       "9    Champagne Blend      A.R. LenobleÂ                16        223  \n",
       "10   Champagne Blend      A.R. LenobleÂ                16        223  \n",
       "11   Champagne Blend      A.R. LenobleÂ                16        224  \n",
       "12   Champagne Blend      A.R. LenobleÂ                16        224  \n",
       "13   Champagne Blend      A.R. LenobleÂ                16        224  \n",
       "14   Portuguese Red       Adega Cooperativa do Cartaxo 16        545  \n",
       "15   Portuguese Red       Adega Cooperativa do Cartaxo 16        545  \n",
       "16   Portuguese Sparkling Adega Cooperativa do Cartaxo 16        569  \n",
       "17   Portuguese Sparkling Adega Cooperativa do Cartaxo 16        569  \n",
       "18   Sparkling Blend      Albet I Noya                 13       1059  \n",
       "19   Sparkling Blend      Albet I Noya                 13       1059  \n",
       "20   Champagne Blend      Alfred Gratien               16       1211  \n",
       "21   Champagne Blend      Alfred Gratien               16       1211  \n",
       "22   Cabernet Franc       Alliance Loire               16       1295  \n",
       "23   Chenin Blanc         Alliance Loire               16       1295  \n",
       "24   Sparkling Blend      Allimant-Laugner              3       1305  \n",
       "25   Sparkling Blend      Allimant-Laugner              3       1305  \n",
       "26   Pedro XimÃ©nez       Alvear                       13       1702  \n",
       "27   Pedro XimÃ©nez       Alvear                       13       1702  \n",
       "28   Shiraz               Angove                        9       2266  \n",
       "29   Shiraz               Angove                        9       2266  \n",
       "30   Chardonnay           Antonin Rodet                16       2469  \n",
       "...  ...                  ...                          ...      ...   \n",
       "980  Champagne Blend      Vollereaux                   16       60826 \n",
       "981  Champagne Blend      Vollereaux                   16       60826 \n",
       "982  Pinot Noir           Vollereaux                   16       60828 \n",
       "983  Pinot Noir           Vollereaux                   16       60828 \n",
       "984  Champagne Blend      Vranken                      16       60934 \n",
       "985  Champagne Blend      Vranken                      16       60934 \n",
       "986  Champagne Blend      Vranken                      16       60935 \n",
       "987  Champagne Blend      Vranken                      16       60935 \n",
       "988  Champagne Blend      Vranken                      16       60936 \n",
       "989  Champagne Blend      Vranken                      16       60936 \n",
       "990  Port                 Warre's                      16       61206 \n",
       "991  Port                 Warre's                      16       61206 \n",
       "992  Sparkling Blend      Weibel Family                 8       61374 \n",
       "993  Sparkling Blend      Weibel Family                 8       61374 \n",
       "994  GrÃ¼ner Veltliner    Weinrieder                   16       61454 \n",
       "995  GrÃ¼ner Veltliner    Weinrieder                   16       61454 \n",
       "996  Sparkling Blend      Wetzel Estate                15       61615 \n",
       "997  Sparkling Blend      Wetzel Estate                15       61615 \n",
       "998  CastelÃ£o            Wines & Winemakers           16       62386 \n",
       "999  CastelÃ£o            Wines & Winemakers           16       62386 \n",
       "1000 RosÃ©                Wines & Winemakers           16       62447 \n",
       "1001 RosÃ©                Wines & Winemakers           16       62447 \n",
       "1002 Sparkling Blend      Wolfberger                   16       62669 \n",
       "1003 Sparkling Blend      Wolfberger                   16       62669 \n",
       "1004 Cabernet Sauvignon   Woodward Canyon              17       62753 \n",
       "1005 Cabernet Sauvignon   Woodward Canyon              17       62753 \n",
       "1006 Glera                Zonin                        10       63329 \n",
       "1007 Glera                Zonin                        10       63329 \n",
       "1008 Sparkling Blend      Zusslin                       3       63445 \n",
       "1009 Sparkling Blend      Zusslin                       3       63445 "
      ]
     },
     "metadata": {},
     "output_type": "display_data"
    }
   ],
   "source": [
    "# check for duplicate title for same taster\n",
    "wine_clean %>%\n",
    "    arrange(title, taster_name) %>%\n",
    "    group_by(taster_name, title) %>%\n",
    "    filter(n() >1)"
   ]
  },
  {
   "cell_type": "code",
   "execution_count": 170,
   "metadata": {},
   "outputs": [
    {
     "data": {
      "text/html": [
       "<table>\n",
       "<caption>A data.frame: 2 × 15</caption>\n",
       "<thead>\n",
       "\t<tr><th></th><th scope=col>country</th><th scope=col>description</th><th scope=col>designation</th><th scope=col>points</th><th scope=col>price</th><th scope=col>province</th><th scope=col>region_1</th><th scope=col>region_2</th><th scope=col>taster_name</th><th scope=col>taster_twitter_handle</th><th scope=col>title</th><th scope=col>variety</th><th scope=col>winery</th><th scope=col>tasterID</th><th scope=col>wineID</th></tr>\n",
       "\t<tr><th></th><th scope=col>&lt;fct&gt;</th><th scope=col>&lt;chr&gt;</th><th scope=col>&lt;chr&gt;</th><th scope=col>&lt;int&gt;</th><th scope=col>&lt;dbl&gt;</th><th scope=col>&lt;chr&gt;</th><th scope=col>&lt;chr&gt;</th><th scope=col>&lt;chr&gt;</th><th scope=col>&lt;fct&gt;</th><th scope=col>&lt;fct&gt;</th><th scope=col>&lt;chr&gt;</th><th scope=col>&lt;fct&gt;</th><th scope=col>&lt;fct&gt;</th><th scope=col>&lt;int&gt;</th><th scope=col>&lt;int&gt;</th></tr>\n",
       "</thead>\n",
       "<tbody>\n",
       "\t<tr><th scope=row>1221</th><td>France</td><td>Full-bodied wine with ripe pear and red apple flavors, laced with delicate acidity. It's an elegant wine, a fine balance with a more mineral, tight texture as a counterpoint. Drink from 2014.</td><td>ChÃ¢teau de Chamirey</td><td>88</td><td>35</td><td>Burgundy</td><td>Mercurey</td><td>NA</td><td>Roger Voss</td><td>@vossroger</td><td>Domaines Devillard 2011 ChÃ¢teau de Chamirey  (Mercurey)</td><td>Chardonnay</td><td>Domaines Devillard</td><td>16</td><td>20760</td></tr>\n",
       "\t<tr><th scope=row>1222</th><td>France</td><td>A smooth and rounded wine, its ripe plum and blueberry flavors well integrated into the soft tannins and sweet acidity. Drinkable now, but worth waiting for two more years.                   </td><td>ChÃ¢teau de Chamirey</td><td>88</td><td>35</td><td>Burgundy</td><td>Mercurey</td><td>NA</td><td>Roger Voss</td><td>@vossroger</td><td>Domaines Devillard 2011 ChÃ¢teau de Chamirey  (Mercurey)</td><td>Pinot Noir</td><td>Domaines Devillard</td><td>16</td><td>20760</td></tr>\n",
       "</tbody>\n",
       "</table>\n"
      ],
      "text/latex": [
       "A data.frame: 2 × 15\n",
       "\\begin{tabular}{r|lllllllllllllll}\n",
       "  & country & description & designation & points & price & province & region\\_1 & region\\_2 & taster\\_name & taster\\_twitter\\_handle & title & variety & winery & tasterID & wineID\\\\\n",
       "  & <fct> & <chr> & <chr> & <int> & <dbl> & <chr> & <chr> & <chr> & <fct> & <fct> & <chr> & <fct> & <fct> & <int> & <int>\\\\\n",
       "\\hline\n",
       "\t1221 & France & Full-bodied wine with ripe pear and red apple flavors, laced with delicate acidity. It's an elegant wine, a fine balance with a more mineral, tight texture as a counterpoint. Drink from 2014. & ChÃ¢teau de Chamirey & 88 & 35 & Burgundy & Mercurey & NA & Roger Voss & @vossroger & Domaines Devillard 2011 ChÃ¢teau de Chamirey  (Mercurey) & Chardonnay & Domaines Devillard & 16 & 20760\\\\\n",
       "\t1222 & France & A smooth and rounded wine, its ripe plum and blueberry flavors well integrated into the soft tannins and sweet acidity. Drinkable now, but worth waiting for two more years.                    & ChÃ¢teau de Chamirey & 88 & 35 & Burgundy & Mercurey & NA & Roger Voss & @vossroger & Domaines Devillard 2011 ChÃ¢teau de Chamirey  (Mercurey) & Pinot Noir & Domaines Devillard & 16 & 20760\\\\\n",
       "\\end{tabular}\n"
      ],
      "text/markdown": [
       "\n",
       "A data.frame: 2 × 15\n",
       "\n",
       "| <!--/--> | country &lt;fct&gt; | description &lt;chr&gt; | designation &lt;chr&gt; | points &lt;int&gt; | price &lt;dbl&gt; | province &lt;chr&gt; | region_1 &lt;chr&gt; | region_2 &lt;chr&gt; | taster_name &lt;fct&gt; | taster_twitter_handle &lt;fct&gt; | title &lt;chr&gt; | variety &lt;fct&gt; | winery &lt;fct&gt; | tasterID &lt;int&gt; | wineID &lt;int&gt; |\n",
       "|---|---|---|---|---|---|---|---|---|---|---|---|---|---|---|---|\n",
       "| 1221 | France | Full-bodied wine with ripe pear and red apple flavors, laced with delicate acidity. It's an elegant wine, a fine balance with a more mineral, tight texture as a counterpoint. Drink from 2014. | ChÃ¢teau de Chamirey | 88 | 35 | Burgundy | Mercurey | NA | Roger Voss | @vossroger | Domaines Devillard 2011 ChÃ¢teau de Chamirey  (Mercurey) | Chardonnay | Domaines Devillard | 16 | 20760 |\n",
       "| 1222 | France | A smooth and rounded wine, its ripe plum and blueberry flavors well integrated into the soft tannins and sweet acidity. Drinkable now, but worth waiting for two more years.                    | ChÃ¢teau de Chamirey | 88 | 35 | Burgundy | Mercurey | NA | Roger Voss | @vossroger | Domaines Devillard 2011 ChÃ¢teau de Chamirey  (Mercurey) | Pinot Noir | Domaines Devillard | 16 | 20760 |\n",
       "\n"
      ],
      "text/plain": [
       "     country\n",
       "1221 France \n",
       "1222 France \n",
       "     description                                                                                                                                                                                    \n",
       "1221 Full-bodied wine with ripe pear and red apple flavors, laced with delicate acidity. It's an elegant wine, a fine balance with a more mineral, tight texture as a counterpoint. Drink from 2014.\n",
       "1222 A smooth and rounded wine, its ripe plum and blueberry flavors well integrated into the soft tannins and sweet acidity. Drinkable now, but worth waiting for two more years.                   \n",
       "     designation          points price province region_1 region_2 taster_name\n",
       "1221 ChÃ¢teau de Chamirey 88     35    Burgundy Mercurey NA       Roger Voss \n",
       "1222 ChÃ¢teau de Chamirey 88     35    Burgundy Mercurey NA       Roger Voss \n",
       "     taster_twitter_handle\n",
       "1221 @vossroger           \n",
       "1222 @vossroger           \n",
       "     title                                                    variety   \n",
       "1221 Domaines Devillard 2011 ChÃ¢teau de Chamirey  (Mercurey) Chardonnay\n",
       "1222 Domaines Devillard 2011 ChÃ¢teau de Chamirey  (Mercurey) Pinot Noir\n",
       "     winery             tasterID wineID\n",
       "1221 Domaines Devillard 16       20760 \n",
       "1222 Domaines Devillard 16       20760 "
      ]
     },
     "metadata": {},
     "output_type": "display_data"
    }
   ],
   "source": [
    "wine_clean[wine_clean$title == 'Domaines Devillard 2011 ChÃ¢teau de Chamirey  (Mercurey)',]"
   ]
  },
  {
   "cell_type": "markdown",
   "metadata": {},
   "source": [
    "## Collaborative Filtering"
   ]
  },
  {
   "cell_type": "markdown",
   "metadata": {},
   "source": [
    "### Item Based Collaborative Filtering"
   ]
  },
  {
   "cell_type": "code",
   "execution_count": 171,
   "metadata": {},
   "outputs": [],
   "source": [
    "# will be using taster_twitter_handler as userid, designation as item, points as the rating\n",
    "wine_cf <- wine_clean[,c('tasterID', 'wineID', 'points')]"
   ]
  },
  {
   "cell_type": "code",
   "execution_count": 172,
   "metadata": {},
   "outputs": [
    {
     "data": {
      "text/html": [
       "<table>\n",
       "<caption>A data.frame: 6 × 3</caption>\n",
       "<thead>\n",
       "\t<tr><th scope=col>tasterID</th><th scope=col>wineID</th><th scope=col>points</th></tr>\n",
       "\t<tr><th scope=col>&lt;int&gt;</th><th scope=col>&lt;int&gt;</th><th scope=col>&lt;int&gt;</th></tr>\n",
       "</thead>\n",
       "<tbody>\n",
       "\t<tr><td>16</td><td>47571</td><td>87</td></tr>\n",
       "\t<tr><td> 1</td><td>53884</td><td>87</td></tr>\n",
       "\t<tr><td>15</td><td>54762</td><td>87</td></tr>\n",
       "\t<tr><td>13</td><td>55164</td><td>87</td></tr>\n",
       "\t<tr><td>10</td><td>56091</td><td>87</td></tr>\n",
       "\t<tr><td> 2</td><td>28801</td><td>87</td></tr>\n",
       "</tbody>\n",
       "</table>\n"
      ],
      "text/latex": [
       "A data.frame: 6 × 3\n",
       "\\begin{tabular}{r|lll}\n",
       " tasterID & wineID & points\\\\\n",
       " <int> & <int> & <int>\\\\\n",
       "\\hline\n",
       "\t 16 & 47571 & 87\\\\\n",
       "\t  1 & 53884 & 87\\\\\n",
       "\t 15 & 54762 & 87\\\\\n",
       "\t 13 & 55164 & 87\\\\\n",
       "\t 10 & 56091 & 87\\\\\n",
       "\t  2 & 28801 & 87\\\\\n",
       "\\end{tabular}\n"
      ],
      "text/markdown": [
       "\n",
       "A data.frame: 6 × 3\n",
       "\n",
       "| tasterID &lt;int&gt; | wineID &lt;int&gt; | points &lt;int&gt; |\n",
       "|---|---|---|\n",
       "| 16 | 47571 | 87 |\n",
       "|  1 | 53884 | 87 |\n",
       "| 15 | 54762 | 87 |\n",
       "| 13 | 55164 | 87 |\n",
       "| 10 | 56091 | 87 |\n",
       "|  2 | 28801 | 87 |\n",
       "\n"
      ],
      "text/plain": [
       "  tasterID wineID points\n",
       "1 16       47571  87    \n",
       "2  1       53884  87    \n",
       "3 15       54762  87    \n",
       "4 13       55164  87    \n",
       "5 10       56091  87    \n",
       "6  2       28801  87    "
      ]
     },
     "metadata": {},
     "output_type": "display_data"
    }
   ],
   "source": [
    "head(wine_cf)"
   ]
  },
  {
   "cell_type": "code",
   "execution_count": 173,
   "metadata": {},
   "outputs": [],
   "source": [
    "wine_cf$tasterID <- as.factor(wine_cf$tasterID)\n",
    "wine_cf$wineID <- as.factor(wine_cf$wineID)\n",
    "wine_cf$points <- as.numeric(wine_cf$points)"
   ]
  },
  {
   "cell_type": "code",
   "execution_count": 174,
   "metadata": {},
   "outputs": [],
   "source": [
    "wine_cf_matrix <- dcast(wine_cf, tasterID ~ wineID, fun.aggregate = mean,value.var = 'points',fill=0)"
   ]
  },
  {
   "cell_type": "code",
   "execution_count": 175,
   "metadata": {},
   "outputs": [
    {
     "data": {
      "text/html": [
       "<table>\n",
       "<caption>A data.frame: 5 × 5</caption>\n",
       "<thead>\n",
       "\t<tr><th scope=col>tasterID</th><th scope=col>1</th><th scope=col>2</th><th scope=col>3</th><th scope=col>4</th></tr>\n",
       "\t<tr><th scope=col>&lt;fct&gt;</th><th scope=col>&lt;dbl&gt;</th><th scope=col>&lt;dbl&gt;</th><th scope=col>&lt;dbl&gt;</th><th scope=col>&lt;dbl&gt;</th></tr>\n",
       "</thead>\n",
       "<tbody>\n",
       "\t<tr><td>1</td><td>0</td><td>0</td><td>0</td><td>0</td></tr>\n",
       "\t<tr><td>2</td><td>0</td><td>0</td><td>0</td><td>0</td></tr>\n",
       "\t<tr><td>3</td><td>0</td><td>0</td><td>0</td><td>0</td></tr>\n",
       "\t<tr><td>4</td><td>0</td><td>0</td><td>0</td><td>0</td></tr>\n",
       "\t<tr><td>5</td><td>0</td><td>0</td><td>0</td><td>0</td></tr>\n",
       "</tbody>\n",
       "</table>\n"
      ],
      "text/latex": [
       "A data.frame: 5 × 5\n",
       "\\begin{tabular}{r|lllll}\n",
       " tasterID & 1 & 2 & 3 & 4\\\\\n",
       " <fct> & <dbl> & <dbl> & <dbl> & <dbl>\\\\\n",
       "\\hline\n",
       "\t 1 & 0 & 0 & 0 & 0\\\\\n",
       "\t 2 & 0 & 0 & 0 & 0\\\\\n",
       "\t 3 & 0 & 0 & 0 & 0\\\\\n",
       "\t 4 & 0 & 0 & 0 & 0\\\\\n",
       "\t 5 & 0 & 0 & 0 & 0\\\\\n",
       "\\end{tabular}\n"
      ],
      "text/markdown": [
       "\n",
       "A data.frame: 5 × 5\n",
       "\n",
       "| tasterID &lt;fct&gt; | 1 &lt;dbl&gt; | 2 &lt;dbl&gt; | 3 &lt;dbl&gt; | 4 &lt;dbl&gt; |\n",
       "|---|---|---|---|---|\n",
       "| 1 | 0 | 0 | 0 | 0 |\n",
       "| 2 | 0 | 0 | 0 | 0 |\n",
       "| 3 | 0 | 0 | 0 | 0 |\n",
       "| 4 | 0 | 0 | 0 | 0 |\n",
       "| 5 | 0 | 0 | 0 | 0 |\n",
       "\n"
      ],
      "text/plain": [
       "  tasterID 1 2 3 4\n",
       "1 1        0 0 0 0\n",
       "2 2        0 0 0 0\n",
       "3 3        0 0 0 0\n",
       "4 4        0 0 0 0\n",
       "5 5        0 0 0 0"
      ]
     },
     "metadata": {},
     "output_type": "display_data"
    }
   ],
   "source": [
    "wine_cf_matrix[1:5, 1:5]"
   ]
  },
  {
   "cell_type": "code",
   "execution_count": 176,
   "metadata": {},
   "outputs": [],
   "source": [
    "rownames(wine_cf_matrix) = wine_cf_matrix[,1]"
   ]
  },
  {
   "cell_type": "code",
   "execution_count": 177,
   "metadata": {},
   "outputs": [],
   "source": [
    "wine_cf_matrix[,1] = NULL"
   ]
  },
  {
   "cell_type": "code",
   "execution_count": 178,
   "metadata": {},
   "outputs": [
    {
     "data": {
      "text/html": [
       "<ol class=list-inline>\n",
       "\t<li>19</li>\n",
       "\t<li>63452</li>\n",
       "</ol>\n"
      ],
      "text/latex": [
       "\\begin{enumerate*}\n",
       "\\item 19\n",
       "\\item 63452\n",
       "\\end{enumerate*}\n"
      ],
      "text/markdown": [
       "1. 19\n",
       "2. 63452\n",
       "\n",
       "\n"
      ],
      "text/plain": [
       "[1]    19 63452"
      ]
     },
     "metadata": {},
     "output_type": "display_data"
    }
   ],
   "source": [
    "dim(wine_cf_matrix)"
   ]
  },
  {
   "cell_type": "code",
   "execution_count": 179,
   "metadata": {},
   "outputs": [
    {
     "data": {
      "text/html": [
       "<table>\n",
       "<caption>A data.frame: 5 × 5</caption>\n",
       "<thead>\n",
       "\t<tr><th scope=col>1</th><th scope=col>2</th><th scope=col>3</th><th scope=col>4</th><th scope=col>5</th></tr>\n",
       "\t<tr><th scope=col>&lt;dbl&gt;</th><th scope=col>&lt;dbl&gt;</th><th scope=col>&lt;dbl&gt;</th><th scope=col>&lt;dbl&gt;</th><th scope=col>&lt;dbl&gt;</th></tr>\n",
       "</thead>\n",
       "<tbody>\n",
       "\t<tr><td>0</td><td>0</td><td>0</td><td>0</td><td>0</td></tr>\n",
       "\t<tr><td>0</td><td>0</td><td>0</td><td>0</td><td>0</td></tr>\n",
       "\t<tr><td>0</td><td>0</td><td>0</td><td>0</td><td>0</td></tr>\n",
       "\t<tr><td>0</td><td>0</td><td>0</td><td>0</td><td>0</td></tr>\n",
       "\t<tr><td>0</td><td>0</td><td>0</td><td>0</td><td>0</td></tr>\n",
       "</tbody>\n",
       "</table>\n"
      ],
      "text/latex": [
       "A data.frame: 5 × 5\n",
       "\\begin{tabular}{r|lllll}\n",
       " 1 & 2 & 3 & 4 & 5\\\\\n",
       " <dbl> & <dbl> & <dbl> & <dbl> & <dbl>\\\\\n",
       "\\hline\n",
       "\t 0 & 0 & 0 & 0 & 0\\\\\n",
       "\t 0 & 0 & 0 & 0 & 0\\\\\n",
       "\t 0 & 0 & 0 & 0 & 0\\\\\n",
       "\t 0 & 0 & 0 & 0 & 0\\\\\n",
       "\t 0 & 0 & 0 & 0 & 0\\\\\n",
       "\\end{tabular}\n"
      ],
      "text/markdown": [
       "\n",
       "A data.frame: 5 × 5\n",
       "\n",
       "| 1 &lt;dbl&gt; | 2 &lt;dbl&gt; | 3 &lt;dbl&gt; | 4 &lt;dbl&gt; | 5 &lt;dbl&gt; |\n",
       "|---|---|---|---|---|\n",
       "| 0 | 0 | 0 | 0 | 0 |\n",
       "| 0 | 0 | 0 | 0 | 0 |\n",
       "| 0 | 0 | 0 | 0 | 0 |\n",
       "| 0 | 0 | 0 | 0 | 0 |\n",
       "| 0 | 0 | 0 | 0 | 0 |\n",
       "\n"
      ],
      "text/plain": [
       "  1 2 3 4 5\n",
       "1 0 0 0 0 0\n",
       "2 0 0 0 0 0\n",
       "3 0 0 0 0 0\n",
       "4 0 0 0 0 0\n",
       "5 0 0 0 0 0"
      ]
     },
     "metadata": {},
     "output_type": "display_data"
    }
   ],
   "source": [
    "wine_cf_matrix[1:5, 1:5]"
   ]
  },
  {
   "cell_type": "code",
   "execution_count": 64,
   "metadata": {},
   "outputs": [],
   "source": [
    "#wine_cf[(wine_cf$taster_name == 'Michael Schachner'& wine_cf$designation == '347 Vineyards'),]"
   ]
  },
  {
   "cell_type": "code",
   "execution_count": 180,
   "metadata": {},
   "outputs": [
    {
     "data": {
      "text/html": [
       "<table>\n",
       "<caption>A data.frame: 19 × 101</caption>\n",
       "<thead>\n",
       "\t<tr><th scope=col>1000</th><th scope=col>1001</th><th scope=col>1002</th><th scope=col>1003</th><th scope=col>1004</th><th scope=col>1005</th><th scope=col>1006</th><th scope=col>1007</th><th scope=col>1008</th><th scope=col>1009</th><th scope=col>...</th><th scope=col>1091</th><th scope=col>1092</th><th scope=col>1093</th><th scope=col>1094</th><th scope=col>1095</th><th scope=col>1096</th><th scope=col>1097</th><th scope=col>1098</th><th scope=col>1099</th><th scope=col>1100</th></tr>\n",
       "\t<tr><th scope=col>&lt;dbl&gt;</th><th scope=col>&lt;dbl&gt;</th><th scope=col>&lt;dbl&gt;</th><th scope=col>&lt;dbl&gt;</th><th scope=col>&lt;dbl&gt;</th><th scope=col>&lt;dbl&gt;</th><th scope=col>&lt;dbl&gt;</th><th scope=col>&lt;dbl&gt;</th><th scope=col>&lt;dbl&gt;</th><th scope=col>&lt;dbl&gt;</th><th scope=col>...</th><th scope=col>&lt;dbl&gt;</th><th scope=col>&lt;dbl&gt;</th><th scope=col>&lt;dbl&gt;</th><th scope=col>&lt;dbl&gt;</th><th scope=col>&lt;dbl&gt;</th><th scope=col>&lt;dbl&gt;</th><th scope=col>&lt;dbl&gt;</th><th scope=col>&lt;dbl&gt;</th><th scope=col>&lt;dbl&gt;</th><th scope=col>&lt;dbl&gt;</th></tr>\n",
       "</thead>\n",
       "<tbody>\n",
       "\t<tr><td> 0</td><td> 0</td><td> 0</td><td> 0</td><td> 0</td><td> 0</td><td> 0</td><td> 0</td><td> 0</td><td> 0</td><td>...</td><td> 0</td><td> 0</td><td> 0</td><td> 0</td><td> 0</td><td> 0</td><td> 0</td><td> 0</td><td> 0</td><td> 0</td></tr>\n",
       "\t<tr><td> 0</td><td> 0</td><td> 0</td><td> 0</td><td> 0</td><td> 0</td><td> 0</td><td> 0</td><td> 0</td><td> 0</td><td>...</td><td> 0</td><td> 0</td><td> 0</td><td> 0</td><td> 0</td><td> 0</td><td> 0</td><td> 0</td><td> 0</td><td> 0</td></tr>\n",
       "\t<tr><td> 0</td><td> 0</td><td> 0</td><td> 0</td><td> 0</td><td> 0</td><td> 0</td><td> 0</td><td> 0</td><td> 0</td><td>...</td><td> 0</td><td> 0</td><td> 0</td><td> 0</td><td> 0</td><td> 0</td><td> 0</td><td> 0</td><td> 0</td><td> 0</td></tr>\n",
       "\t<tr><td> 0</td><td> 0</td><td> 0</td><td> 0</td><td> 0</td><td> 0</td><td> 0</td><td> 0</td><td> 0</td><td> 0</td><td>...</td><td> 0</td><td> 0</td><td> 0</td><td> 0</td><td> 0</td><td> 0</td><td> 0</td><td> 0</td><td> 0</td><td> 0</td></tr>\n",
       "\t<tr><td> 0</td><td> 0</td><td> 0</td><td> 0</td><td> 0</td><td> 0</td><td> 0</td><td> 0</td><td> 0</td><td> 0</td><td>...</td><td> 0</td><td> 0</td><td> 0</td><td> 0</td><td> 0</td><td> 0</td><td> 0</td><td> 0</td><td> 0</td><td> 0</td></tr>\n",
       "\t<tr><td> 0</td><td> 0</td><td> 0</td><td> 0</td><td> 0</td><td> 0</td><td> 0</td><td> 0</td><td> 0</td><td> 0</td><td>...</td><td> 0</td><td> 0</td><td> 0</td><td> 0</td><td> 0</td><td> 0</td><td> 0</td><td> 0</td><td> 0</td><td> 0</td></tr>\n",
       "\t<tr><td> 0</td><td> 0</td><td> 0</td><td> 0</td><td> 0</td><td> 0</td><td> 0</td><td> 0</td><td> 0</td><td> 0</td><td>...</td><td> 0</td><td> 0</td><td> 0</td><td> 0</td><td> 0</td><td> 0</td><td> 0</td><td> 0</td><td> 0</td><td> 0</td></tr>\n",
       "\t<tr><td> 0</td><td> 0</td><td> 0</td><td> 0</td><td> 0</td><td> 0</td><td> 0</td><td> 0</td><td> 0</td><td> 0</td><td>...</td><td> 0</td><td> 0</td><td> 0</td><td> 0</td><td> 0</td><td> 0</td><td> 0</td><td> 0</td><td>88</td><td>92</td></tr>\n",
       "\t<tr><td> 0</td><td> 0</td><td> 0</td><td> 0</td><td> 0</td><td> 0</td><td> 0</td><td> 0</td><td> 0</td><td> 0</td><td>...</td><td> 0</td><td> 0</td><td> 0</td><td> 0</td><td> 0</td><td> 0</td><td> 0</td><td> 0</td><td> 0</td><td> 0</td></tr>\n",
       "\t<tr><td> 0</td><td> 0</td><td> 0</td><td> 0</td><td> 0</td><td> 0</td><td> 0</td><td> 0</td><td> 0</td><td> 0</td><td>...</td><td> 0</td><td> 0</td><td> 0</td><td> 0</td><td> 0</td><td> 0</td><td> 0</td><td>86</td><td> 0</td><td> 0</td></tr>\n",
       "\t<tr><td> 0</td><td> 0</td><td> 0</td><td> 0</td><td> 0</td><td> 0</td><td> 0</td><td> 0</td><td> 0</td><td> 0</td><td>...</td><td> 0</td><td> 0</td><td> 0</td><td> 0</td><td> 0</td><td> 0</td><td> 0</td><td> 0</td><td> 0</td><td> 0</td></tr>\n",
       "\t<tr><td> 0</td><td> 0</td><td> 0</td><td> 0</td><td> 0</td><td> 0</td><td> 0</td><td> 0</td><td> 0</td><td> 0</td><td>...</td><td> 0</td><td> 0</td><td> 0</td><td> 0</td><td> 0</td><td> 0</td><td> 0</td><td> 0</td><td> 0</td><td> 0</td></tr>\n",
       "\t<tr><td> 0</td><td> 0</td><td> 0</td><td> 0</td><td> 0</td><td> 0</td><td> 0</td><td> 0</td><td> 0</td><td> 0</td><td>...</td><td>88</td><td>87</td><td>92</td><td>87</td><td>86</td><td>86</td><td>87</td><td> 0</td><td> 0</td><td> 0</td></tr>\n",
       "\t<tr><td> 0</td><td> 0</td><td> 0</td><td> 0</td><td> 0</td><td> 0</td><td> 0</td><td> 0</td><td> 0</td><td> 0</td><td>...</td><td> 0</td><td> 0</td><td> 0</td><td> 0</td><td> 0</td><td> 0</td><td> 0</td><td> 0</td><td> 0</td><td> 0</td></tr>\n",
       "\t<tr><td> 0</td><td> 0</td><td> 0</td><td> 0</td><td> 0</td><td> 0</td><td> 0</td><td> 0</td><td> 0</td><td> 0</td><td>...</td><td> 0</td><td> 0</td><td> 0</td><td> 0</td><td> 0</td><td> 0</td><td> 0</td><td> 0</td><td> 0</td><td> 0</td></tr>\n",
       "\t<tr><td>85</td><td>89</td><td>93</td><td>93</td><td>88</td><td>89</td><td>96</td><td>94</td><td>95</td><td>92</td><td>...</td><td> 0</td><td> 0</td><td> 0</td><td> 0</td><td> 0</td><td> 0</td><td> 0</td><td> 0</td><td> 0</td><td> 0</td></tr>\n",
       "\t<tr><td> 0</td><td> 0</td><td> 0</td><td> 0</td><td> 0</td><td> 0</td><td> 0</td><td> 0</td><td> 0</td><td> 0</td><td>...</td><td> 0</td><td> 0</td><td> 0</td><td> 0</td><td> 0</td><td> 0</td><td> 0</td><td> 0</td><td> 0</td><td> 0</td></tr>\n",
       "\t<tr><td> 0</td><td> 0</td><td> 0</td><td> 0</td><td> 0</td><td> 0</td><td> 0</td><td> 0</td><td> 0</td><td> 0</td><td>...</td><td> 0</td><td> 0</td><td> 0</td><td> 0</td><td> 0</td><td> 0</td><td> 0</td><td> 0</td><td> 0</td><td> 0</td></tr>\n",
       "\t<tr><td> 0</td><td> 0</td><td> 0</td><td> 0</td><td> 0</td><td> 0</td><td> 0</td><td> 0</td><td> 0</td><td> 0</td><td>...</td><td> 0</td><td> 0</td><td> 0</td><td> 0</td><td> 0</td><td> 0</td><td> 0</td><td> 0</td><td> 0</td><td> 0</td></tr>\n",
       "</tbody>\n",
       "</table>\n"
      ],
      "text/latex": [
       "A data.frame: 19 × 101\n",
       "\\begin{tabular}{r|lllllllllllllllllllllllllllllllllllllllllllllllllllllllllllllllllllllllllllllllllllllllllllllllllllll}\n",
       " 1000 & 1001 & 1002 & 1003 & 1004 & 1005 & 1006 & 1007 & 1008 & 1009 & 1010 & 1011 & 1012 & 1013 & 1014 & 1015 & 1016 & 1017 & 1018 & 1019 & 1020 & 1021 & 1022 & 1023 & 1024 & 1025 & 1026 & 1027 & 1028 & 1029 & 1030 & 1031 & 1032 & 1033 & 1034 & 1035 & 1036 & 1037 & 1038 & 1039 & 1040 & 1041 & 1042 & 1043 & 1044 & 1045 & 1046 & 1047 & 1048 & 1049 & 1050 & 1051 & 1052 & 1053 & 1054 & 1055 & 1056 & 1057 & 1058 & 1059 & 1060 & 1061 & 1062 & 1063 & 1064 & 1065 & 1066 & 1067 & 1068 & 1069 & 1070 & 1071 & 1072 & 1073 & 1074 & 1075 & 1076 & 1077 & 1078 & 1079 & 1080 & 1081 & 1082 & 1083 & 1084 & 1085 & 1086 & 1087 & 1088 & 1089 & 1090 & 1091 & 1092 & 1093 & 1094 & 1095 & 1096 & 1097 & 1098 & 1099 & 1100\\\\\n",
       " <dbl> & <dbl> & <dbl> & <dbl> & <dbl> & <dbl> & <dbl> & <dbl> & <dbl> & <dbl> & <dbl> & <dbl> & <dbl> & <dbl> & <dbl> & <dbl> & <dbl> & <dbl> & <dbl> & <dbl> & <dbl> & <dbl> & <dbl> & <dbl> & <dbl> & <dbl> & <dbl> & <dbl> & <dbl> & <dbl> & <dbl> & <dbl> & <dbl> & <dbl> & <dbl> & <dbl> & <dbl> & <dbl> & <dbl> & <dbl> & <dbl> & <dbl> & <dbl> & <dbl> & <dbl> & <dbl> & <dbl> & <dbl> & <dbl> & <dbl> & <dbl> & <dbl> & <dbl> & <dbl> & <dbl> & <dbl> & <dbl> & <dbl> & <dbl> & <dbl> & <dbl> & <dbl> & <dbl> & <dbl> & <dbl> & <dbl> & <dbl> & <dbl> & <dbl> & <dbl> & <dbl> & <dbl> & <dbl> & <dbl> & <dbl> & <dbl> & <dbl> & <dbl> & <dbl> & <dbl> & <dbl> & <dbl> & <dbl> & <dbl> & <dbl> & <dbl> & <dbl> & <dbl> & <dbl> & <dbl> & <dbl> & <dbl> & <dbl> & <dbl> & <dbl> & <dbl> & <dbl> & <dbl> & <dbl> & <dbl> & <dbl>\\\\\n",
       "\\hline\n",
       "\t  0 &  0 &  0 &  0 &  0 &  0 &  0 &  0 &  0 &  0 &  0 &  0 &  0 &  0 &  0 &  0 &  0 &  0 &  0 &  0 &  0 &  0 &  0 &  0 &  0 &  0 &  0 &  0 &  0 &  0 &  0 &  0 &  0 &  0 &  0 &  0 &  0 &  0 &  0 &  0 &  0 &  0 &  0 &  0 &  0 &  0 &  0 &  0 &  0 &  0 &  0 &  0 &  0 &  0 &  0 &  0 &  0 &  0 &  0 &  0 &  0 &  0 &  0 &  0 &  0 &  0 &  0 &  0 &  0 &  0 &  0 &  0 &  0 &  0 &  0 &  0 &  0 &  0 &  0 &  0 &  0 &  0 &  0 &  0 &  0 &  0 &  0 &  0 &  0 &  0 &  0 &  0 &  0 &  0 &  0 &  0 &  0 &  0 &  0 &  0 &  0\\\\\n",
       "\t  0 &  0 &  0 &  0 &  0 &  0 &  0 &  0 &  0 &  0 &  0 &  0 &  0 &  0 &  0 &  0 &  0 &  0 &  0 &  0 &  0 &  0 &  0 &  0 &  0 &  0 &  0 &  0 &  0 &  0 &  0 &  0 &  0 &  0 &  0 &  0 &  0 &  0 &  0 &  0 &  0 &  0 &  0 &  0 &  0 &  0 &  0 &  0 &  0 &  0 &  0 &  0 &  0 &  0 &  0 &  0 &  0 &  0 &  0 &  0 &  0 &  0 &  0 &  0 &  0 &  0 &  0 &  0 &  0 &  0 &  0 &  0 &  0 &  0 &  0 &  0 &  0 &  0 &  0 &  0 &  0 &  0 &  0 &  0 &  0 &  0 &  0 &  0 &  0 &  0 &  0 &  0 &  0 &  0 &  0 &  0 &  0 &  0 &  0 &  0 &  0\\\\\n",
       "\t  0 &  0 &  0 &  0 &  0 &  0 &  0 &  0 &  0 &  0 &  0 &  0 &  0 &  0 &  0 &  0 &  0 &  0 &  0 &  0 &  0 &  0 &  0 &  0 &  0 &  0 &  0 &  0 &  0 &  0 &  0 &  0 &  0 &  0 &  0 &  0 &  0 &  0 &  0 &  0 &  0 &  0 &  0 &  0 &  0 &  0 &  0 &  0 &  0 &  0 &  0 &  0 &  0 &  0 &  0 &  0 &  0 &  0 &  0 &  0 &  0 &  0 &  0 &  0 &  0 &  0 &  0 &  0 &  0 &  0 &  0 &  0 &  0 &  0 &  0 &  0 &  0 &  0 &  0 &  0 &  0 &  0 &  0 &  0 &  0 &  0 &  0 &  0 &  0 &  0 &  0 &  0 &  0 &  0 &  0 &  0 &  0 &  0 &  0 &  0 &  0\\\\\n",
       "\t  0 &  0 &  0 &  0 &  0 &  0 &  0 &  0 &  0 &  0 &  0 &  0 &  0 &  0 &  0 &  0 &  0 &  0 &  0 &  0 &  0 &  0 &  0 &  0 &  0 &  0 &  0 &  0 &  0 &  0 &  0 &  0 &  0 &  0 &  0 &  0 &  0 &  0 &  0 &  0 &  0 &  0 &  0 &  0 &  0 &  0 &  0 &  0 &  0 &  0 &  0 &  0 &  0 &  0 &  0 &  0 &  0 &  0 &  0 &  0 &  0 &  0 &  0 &  0 &  0 &  0 &  0 &  0 &  0 &  0 &  0 &  0 &  0 &  0 &  0 &  0 &  0 &  0 &  0 &  0 &  0 &  0 &  0 &  0 &  0 &  0 &  0 &  0 &  0 &  0 &  0 &  0 &  0 &  0 &  0 &  0 &  0 &  0 &  0 &  0 &  0\\\\\n",
       "\t  0 &  0 &  0 &  0 &  0 &  0 &  0 &  0 &  0 &  0 &  0 &  0 &  0 &  0 &  0 &  0 &  0 &  0 &  0 &  0 &  0 &  0 &  0 &  0 &  0 &  0 &  0 &  0 &  0 &  0 &  0 &  0 &  0 &  0 &  0 &  0 &  0 &  0 &  0 &  0 &  0 &  0 &  0 &  0 &  0 &  0 &  0 &  0 &  0 &  0 &  0 &  0 &  0 &  0 &  0 &  0 &  0 &  0 &  0 &  0 &  0 &  0 &  0 &  0 &  0 &  0 &  0 &  0 &  0 &  0 &  0 &  0 &  0 &  0 &  0 &  0 &  0 &  0 &  0 &  0 &  0 &  0 &  0 &  0 &  0 &  0 &  0 &  0 &  0 &  0 &  0 &  0 &  0 &  0 &  0 &  0 &  0 &  0 &  0 &  0 &  0\\\\\n",
       "\t  0 &  0 &  0 &  0 &  0 &  0 &  0 &  0 &  0 &  0 &  0 &  0 &  0 &  0 &  0 &  0 &  0 &  0 &  0 &  0 &  0 &  0 &  0 &  0 &  0 &  0 &  0 &  0 &  0 &  0 &  0 &  0 &  0 &  0 &  0 &  0 &  0 &  0 &  0 &  0 &  0 &  0 &  0 &  0 &  0 &  0 &  0 &  0 &  0 &  0 &  0 &  0 &  0 &  0 &  0 &  0 &  0 &  0 &  0 &  0 &  0 &  0 &  0 &  0 &  0 &  0 &  0 &  0 &  0 &  0 &  0 &  0 &  0 &  0 &  0 &  0 &  0 &  0 &  0 &  0 &  0 &  0 &  0 &  0 &  0 &  0 &  0 &  0 &  0 &  0 &  0 &  0 &  0 &  0 &  0 &  0 &  0 &  0 &  0 &  0 &  0\\\\\n",
       "\t  0 &  0 &  0 &  0 &  0 &  0 &  0 &  0 &  0 &  0 &  0 &  0 &  0 &  0 &  0 &  0 &  0 &  0 &  0 &  0 &  0 &  0 &  0 &  0 &  0 &  0 &  0 &  0 &  0 &  0 &  0 &  0 &  0 &  0 &  0 &  0 &  0 &  0 &  0 &  0 &  0 &  0 &  0 &  0 &  0 &  0 &  0 &  0 &  0 &  0 &  0 &  0 &  0 &  0 &  0 &  0 &  0 &  0 &  0 &  0 &  0 &  0 &  0 &  0 &  0 &  0 &  0 &  0 &  0 &  0 &  0 &  0 &  0 &  0 &  0 &  0 &  0 &  0 &  0 &  0 &  0 &  0 &  0 &  0 &  0 &  0 &  0 &  0 &  0 &  0 &  0 &  0 &  0 &  0 &  0 &  0 &  0 &  0 &  0 &  0 &  0\\\\\n",
       "\t  0 &  0 &  0 &  0 &  0 &  0 &  0 &  0 &  0 &  0 &  0 &  0 &  0 &  0 &  0 &  0 &  0 &  0 &  0 &  0 &  0 &  0 &  0 &  0 &  0 &  0 &  0 &  0 &  0 &  0 &  0 &  0 &  0 &  0 &  0 &  0 &  0 &  0 &  0 &  0 &  0 &  0 &  0 &  0 &  0 &  0 &  0 &  0 &  0 &  0 &  0 &  0 &  0 &  0 &  0 &  0 &  0 &  0 &  0 &  0 &  0 &  0 &  0 &  0 &  0 &  0 &  0 &  0 &  0 &  0 &  0 &  0 &  0 &  0 &  0 &  0 &  0 &  0 &  0 &  0 &  0 &  0 &  0 &  0 &  0 &  0 &  0 &  0 &  0 &  0 &  0 &  0 &  0 &  0 &  0 &  0 &  0 &  0 &  0 & 88 & 92\\\\\n",
       "\t  0 &  0 &  0 &  0 &  0 &  0 &  0 &  0 &  0 &  0 &  0 &  0 &  0 &  0 &  0 &  0 &  0 &  0 &  0 &  0 &  0 &  0 &  0 &  0 &  0 &  0 &  0 &  0 &  0 &  0 &  0 &  0 &  0 &  0 &  0 &  0 &  0 &  0 &  0 &  0 &  0 &  0 &  0 &  0 &  0 &  0 &  0 &  0 &  0 &  0 &  0 &  0 &  0 &  0 &  0 &  0 &  0 &  0 &  0 &  0 &  0 &  0 &  0 &  0 &  0 &  0 &  0 &  0 &  0 &  0 &  0 &  0 &  0 &  0 &  0 &  0 &  0 &  0 &  0 &  0 &  0 &  0 &  0 &  0 &  0 &  0 &  0 &  0 &  0 &  0 &  0 &  0 &  0 &  0 &  0 &  0 &  0 &  0 &  0 &  0 &  0\\\\\n",
       "\t  0 &  0 &  0 &  0 &  0 &  0 &  0 &  0 &  0 &  0 &  0 &  0 &  0 &  0 &  0 &  0 &  0 &  0 &  0 &  0 &  0 &  0 &  0 &  0 &  0 &  0 &  0 &  0 &  0 &  0 &  0 &  0 &  0 &  0 &  0 &  0 &  0 &  0 &  0 &  0 &  0 &  0 &  0 &  0 &  0 &  0 &  0 &  0 &  0 & 92 & 85 &  0 &  0 &  0 &  0 & 91 &  0 &  0 &  0 &  0 &  0 &  0 &  0 &  0 &  0 &  0 &  0 &  0 &  0 &  0 &  0 &  0 &  0 & 85 & 87 & 87 & 91 & 93 & 91 & 90 & 92 & 93 & 90 & 92 & 93 & 94 & 92 & 96 & 92 & 96 &  0 &  0 &  0 &  0 &  0 &  0 &  0 &  0 & 86 &  0 &  0\\\\\n",
       "\t  0 &  0 &  0 &  0 &  0 &  0 &  0 &  0 &  0 &  0 &  0 &  0 &  0 &  0 &  0 &  0 &  0 &  0 &  0 &  0 &  0 &  0 &  0 &  0 &  0 &  0 &  0 &  0 &  0 &  0 &  0 &  0 &  0 &  0 &  0 &  0 &  0 &  0 &  0 &  0 &  0 &  0 &  0 &  0 &  0 &  0 &  0 &  0 &  0 &  0 &  0 &  0 &  0 &  0 &  0 &  0 &  0 &  0 &  0 &  0 &  0 &  0 &  0 &  0 &  0 &  0 &  0 &  0 &  0 &  0 &  0 &  0 &  0 &  0 &  0 &  0 &  0 &  0 &  0 &  0 &  0 &  0 &  0 &  0 &  0 &  0 &  0 &  0 &  0 &  0 &  0 &  0 &  0 &  0 &  0 &  0 &  0 &  0 &  0 &  0 &  0\\\\\n",
       "\t  0 &  0 &  0 &  0 &  0 &  0 &  0 &  0 &  0 &  0 &  0 &  0 &  0 &  0 &  0 &  0 &  0 &  0 &  0 &  0 &  0 &  0 &  0 &  0 &  0 &  0 &  0 &  0 &  0 &  0 &  0 &  0 &  0 &  0 &  0 &  0 &  0 &  0 &  0 &  0 &  0 &  0 &  0 &  0 &  0 &  0 &  0 &  0 &  0 &  0 &  0 &  0 &  0 &  0 &  0 &  0 &  0 &  0 &  0 &  0 &  0 &  0 &  0 &  0 &  0 &  0 &  0 &  0 &  0 &  0 &  0 &  0 &  0 &  0 &  0 &  0 &  0 &  0 &  0 &  0 &  0 &  0 &  0 &  0 &  0 &  0 &  0 &  0 &  0 &  0 &  0 &  0 &  0 &  0 &  0 &  0 &  0 &  0 &  0 &  0 &  0\\\\\n",
       "\t  0 &  0 &  0 &  0 &  0 &  0 &  0 &  0 &  0 &  0 &  0 &  0 &  0 &  0 &  0 &  0 &  0 &  0 &  0 &  0 &  0 &  0 &  0 &  0 &  0 &  0 &  0 &  0 &  0 &  0 &  0 &  0 &  0 &  0 &  0 &  0 &  0 &  0 &  0 &  0 &  0 &  0 &  0 &  0 &  0 &  0 &  0 &  0 &  0 &  0 &  0 & 90 & 88 & 85 & 89 &  0 & 87 & 82 & 86 & 87 & 84 & 88 & 83 & 90 & 82 & 88 & 86 & 84 & 86 & 87 & 87 & 87 & 89 &  0 &  0 &  0 &  0 &  0 &  0 &  0 &  0 &  0 &  0 &  0 &  0 &  0 &  0 &  0 &  0 &  0 & 92 & 88 & 87 & 92 & 87 & 86 & 86 & 87 &  0 &  0 &  0\\\\\n",
       "\t  0 &  0 &  0 &  0 &  0 &  0 &  0 &  0 &  0 &  0 &  0 &  0 &  0 &  0 &  0 &  0 &  0 &  0 &  0 &  0 &  0 &  0 &  0 &  0 &  0 &  0 &  0 &  0 &  0 &  0 &  0 &  0 &  0 &  0 &  0 &  0 &  0 &  0 &  0 &  0 &  0 &  0 &  0 &  0 &  0 &  0 &  0 &  0 &  0 &  0 &  0 &  0 &  0 &  0 &  0 &  0 &  0 &  0 &  0 &  0 &  0 &  0 &  0 &  0 &  0 &  0 &  0 &  0 &  0 &  0 &  0 &  0 &  0 &  0 &  0 &  0 &  0 &  0 &  0 &  0 &  0 &  0 &  0 &  0 &  0 &  0 &  0 &  0 &  0 &  0 &  0 &  0 &  0 &  0 &  0 &  0 &  0 &  0 &  0 &  0 &  0\\\\\n",
       "\t  0 &  0 &  0 &  0 &  0 &  0 &  0 &  0 &  0 &  0 &  0 &  0 &  0 &  0 &  0 &  0 &  0 &  0 &  0 &  0 &  0 &  0 &  0 &  0 &  0 &  0 &  0 &  0 &  0 &  0 &  0 &  0 &  0 &  0 &  0 &  0 &  0 &  0 &  0 &  0 &  0 &  0 &  0 &  0 &  0 &  0 &  0 &  0 &  0 &  0 &  0 &  0 &  0 &  0 &  0 &  0 &  0 &  0 &  0 &  0 &  0 &  0 &  0 &  0 &  0 &  0 &  0 &  0 &  0 &  0 &  0 &  0 &  0 &  0 &  0 &  0 &  0 &  0 &  0 &  0 &  0 &  0 &  0 &  0 &  0 &  0 &  0 &  0 &  0 &  0 &  0 &  0 &  0 &  0 &  0 &  0 &  0 &  0 &  0 &  0 &  0\\\\\n",
       "\t 85 & 89 & 93 & 93 & 88 & 89 & 96 & 94 & 95 & 92 & 94 & 91 & 94 & 92 & 90 & 93 & 92 & 94 & 88 & 94 & 93 & 91 & 93 & 93 & 87 & 89 & 95 & 94 & 94 & 93 & 95 & 89 & 88 & 88 & 92 & 91 & 87 & 93 & 91 & 93 & 91 & 92 & 94 & 95 & 94 & 94 &  0 &  0 &  0 &  0 &  0 &  0 &  0 &  0 &  0 &  0 &  0 &  0 &  0 &  0 &  0 &  0 &  0 &  0 &  0 &  0 &  0 &  0 &  0 &  0 &  0 &  0 &  0 &  0 &  0 &  0 &  0 &  0 &  0 &  0 &  0 &  0 &  0 &  0 &  0 &  0 &  0 &  0 &  0 &  0 &  0 &  0 &  0 &  0 &  0 &  0 &  0 &  0 &  0 &  0 &  0\\\\\n",
       "\t  0 &  0 &  0 &  0 &  0 &  0 &  0 &  0 &  0 &  0 &  0 &  0 &  0 &  0 &  0 &  0 &  0 &  0 &  0 &  0 &  0 &  0 &  0 &  0 &  0 &  0 &  0 &  0 &  0 &  0 &  0 &  0 &  0 &  0 &  0 &  0 &  0 &  0 &  0 &  0 &  0 &  0 &  0 &  0 &  0 &  0 &  0 &  0 &  0 &  0 &  0 &  0 &  0 &  0 &  0 &  0 &  0 &  0 &  0 &  0 &  0 &  0 &  0 &  0 &  0 &  0 &  0 &  0 &  0 &  0 &  0 &  0 &  0 &  0 &  0 &  0 &  0 &  0 &  0 &  0 &  0 &  0 &  0 &  0 &  0 &  0 &  0 &  0 &  0 &  0 &  0 &  0 &  0 &  0 &  0 &  0 &  0 &  0 &  0 &  0 &  0\\\\\n",
       "\t  0 &  0 &  0 &  0 &  0 &  0 &  0 &  0 &  0 &  0 &  0 &  0 &  0 &  0 &  0 &  0 &  0 &  0 &  0 &  0 &  0 &  0 &  0 &  0 &  0 &  0 &  0 &  0 &  0 &  0 &  0 &  0 &  0 &  0 &  0 &  0 &  0 &  0 &  0 &  0 &  0 &  0 &  0 &  0 &  0 &  0 &  0 &  0 &  0 &  0 &  0 &  0 &  0 &  0 &  0 &  0 &  0 &  0 &  0 &  0 &  0 &  0 &  0 &  0 &  0 &  0 &  0 &  0 &  0 &  0 &  0 &  0 &  0 &  0 &  0 &  0 &  0 &  0 &  0 &  0 &  0 &  0 &  0 &  0 &  0 &  0 &  0 &  0 &  0 &  0 &  0 &  0 &  0 &  0 &  0 &  0 &  0 &  0 &  0 &  0 &  0\\\\\n",
       "\t  0 &  0 &  0 &  0 &  0 &  0 &  0 &  0 &  0 &  0 &  0 &  0 &  0 &  0 &  0 &  0 &  0 &  0 &  0 &  0 &  0 &  0 &  0 &  0 &  0 &  0 &  0 &  0 &  0 &  0 &  0 &  0 &  0 &  0 &  0 &  0 &  0 &  0 &  0 &  0 &  0 &  0 &  0 &  0 &  0 &  0 & 87 & 86 & 86 &  0 &  0 &  0 &  0 &  0 &  0 &  0 &  0 &  0 &  0 &  0 &  0 &  0 &  0 &  0 &  0 &  0 &  0 &  0 &  0 &  0 &  0 &  0 &  0 &  0 &  0 &  0 &  0 &  0 &  0 &  0 &  0 &  0 &  0 &  0 &  0 &  0 &  0 &  0 &  0 &  0 &  0 &  0 &  0 &  0 &  0 &  0 &  0 &  0 &  0 &  0 &  0\\\\\n",
       "\\end{tabular}\n"
      ],
      "text/markdown": [
       "\n",
       "A data.frame: 19 × 101\n",
       "\n",
       "| 1000 &lt;dbl&gt; | 1001 &lt;dbl&gt; | 1002 &lt;dbl&gt; | 1003 &lt;dbl&gt; | 1004 &lt;dbl&gt; | 1005 &lt;dbl&gt; | 1006 &lt;dbl&gt; | 1007 &lt;dbl&gt; | 1008 &lt;dbl&gt; | 1009 &lt;dbl&gt; | ... ... | 1091 &lt;dbl&gt; | 1092 &lt;dbl&gt; | 1093 &lt;dbl&gt; | 1094 &lt;dbl&gt; | 1095 &lt;dbl&gt; | 1096 &lt;dbl&gt; | 1097 &lt;dbl&gt; | 1098 &lt;dbl&gt; | 1099 &lt;dbl&gt; | 1100 &lt;dbl&gt; |\n",
       "|---|---|---|---|---|---|---|---|---|---|---|---|---|---|---|---|---|---|---|---|---|\n",
       "|  0 |  0 |  0 |  0 |  0 |  0 |  0 |  0 |  0 |  0 | ... |  0 |  0 |  0 |  0 |  0 |  0 |  0 |  0 |  0 |  0 |\n",
       "|  0 |  0 |  0 |  0 |  0 |  0 |  0 |  0 |  0 |  0 | ... |  0 |  0 |  0 |  0 |  0 |  0 |  0 |  0 |  0 |  0 |\n",
       "|  0 |  0 |  0 |  0 |  0 |  0 |  0 |  0 |  0 |  0 | ... |  0 |  0 |  0 |  0 |  0 |  0 |  0 |  0 |  0 |  0 |\n",
       "|  0 |  0 |  0 |  0 |  0 |  0 |  0 |  0 |  0 |  0 | ... |  0 |  0 |  0 |  0 |  0 |  0 |  0 |  0 |  0 |  0 |\n",
       "|  0 |  0 |  0 |  0 |  0 |  0 |  0 |  0 |  0 |  0 | ... |  0 |  0 |  0 |  0 |  0 |  0 |  0 |  0 |  0 |  0 |\n",
       "|  0 |  0 |  0 |  0 |  0 |  0 |  0 |  0 |  0 |  0 | ... |  0 |  0 |  0 |  0 |  0 |  0 |  0 |  0 |  0 |  0 |\n",
       "|  0 |  0 |  0 |  0 |  0 |  0 |  0 |  0 |  0 |  0 | ... |  0 |  0 |  0 |  0 |  0 |  0 |  0 |  0 |  0 |  0 |\n",
       "|  0 |  0 |  0 |  0 |  0 |  0 |  0 |  0 |  0 |  0 | ... |  0 |  0 |  0 |  0 |  0 |  0 |  0 |  0 | 88 | 92 |\n",
       "|  0 |  0 |  0 |  0 |  0 |  0 |  0 |  0 |  0 |  0 | ... |  0 |  0 |  0 |  0 |  0 |  0 |  0 |  0 |  0 |  0 |\n",
       "|  0 |  0 |  0 |  0 |  0 |  0 |  0 |  0 |  0 |  0 | ... |  0 |  0 |  0 |  0 |  0 |  0 |  0 | 86 |  0 |  0 |\n",
       "|  0 |  0 |  0 |  0 |  0 |  0 |  0 |  0 |  0 |  0 | ... |  0 |  0 |  0 |  0 |  0 |  0 |  0 |  0 |  0 |  0 |\n",
       "|  0 |  0 |  0 |  0 |  0 |  0 |  0 |  0 |  0 |  0 | ... |  0 |  0 |  0 |  0 |  0 |  0 |  0 |  0 |  0 |  0 |\n",
       "|  0 |  0 |  0 |  0 |  0 |  0 |  0 |  0 |  0 |  0 | ... | 88 | 87 | 92 | 87 | 86 | 86 | 87 |  0 |  0 |  0 |\n",
       "|  0 |  0 |  0 |  0 |  0 |  0 |  0 |  0 |  0 |  0 | ... |  0 |  0 |  0 |  0 |  0 |  0 |  0 |  0 |  0 |  0 |\n",
       "|  0 |  0 |  0 |  0 |  0 |  0 |  0 |  0 |  0 |  0 | ... |  0 |  0 |  0 |  0 |  0 |  0 |  0 |  0 |  0 |  0 |\n",
       "| 85 | 89 | 93 | 93 | 88 | 89 | 96 | 94 | 95 | 92 | ... |  0 |  0 |  0 |  0 |  0 |  0 |  0 |  0 |  0 |  0 |\n",
       "|  0 |  0 |  0 |  0 |  0 |  0 |  0 |  0 |  0 |  0 | ... |  0 |  0 |  0 |  0 |  0 |  0 |  0 |  0 |  0 |  0 |\n",
       "|  0 |  0 |  0 |  0 |  0 |  0 |  0 |  0 |  0 |  0 | ... |  0 |  0 |  0 |  0 |  0 |  0 |  0 |  0 |  0 |  0 |\n",
       "|  0 |  0 |  0 |  0 |  0 |  0 |  0 |  0 |  0 |  0 | ... |  0 |  0 |  0 |  0 |  0 |  0 |  0 |  0 |  0 |  0 |\n",
       "\n"
      ],
      "text/plain": [
       "   1000 1001 1002 1003 1004 1005 1006 1007 1008 1009 ... 1091 1092 1093 1094\n",
       "1   0    0    0    0    0    0    0    0    0    0   ...  0    0    0    0  \n",
       "2   0    0    0    0    0    0    0    0    0    0   ...  0    0    0    0  \n",
       "3   0    0    0    0    0    0    0    0    0    0   ...  0    0    0    0  \n",
       "4   0    0    0    0    0    0    0    0    0    0   ...  0    0    0    0  \n",
       "5   0    0    0    0    0    0    0    0    0    0   ...  0    0    0    0  \n",
       "6   0    0    0    0    0    0    0    0    0    0   ...  0    0    0    0  \n",
       "7   0    0    0    0    0    0    0    0    0    0   ...  0    0    0    0  \n",
       "8   0    0    0    0    0    0    0    0    0    0   ...  0    0    0    0  \n",
       "9   0    0    0    0    0    0    0    0    0    0   ...  0    0    0    0  \n",
       "10  0    0    0    0    0    0    0    0    0    0   ...  0    0    0    0  \n",
       "11  0    0    0    0    0    0    0    0    0    0   ...  0    0    0    0  \n",
       "12  0    0    0    0    0    0    0    0    0    0   ...  0    0    0    0  \n",
       "13  0    0    0    0    0    0    0    0    0    0   ... 88   87   92   87  \n",
       "14  0    0    0    0    0    0    0    0    0    0   ...  0    0    0    0  \n",
       "15  0    0    0    0    0    0    0    0    0    0   ...  0    0    0    0  \n",
       "16 85   89   93   93   88   89   96   94   95   92   ...  0    0    0    0  \n",
       "17  0    0    0    0    0    0    0    0    0    0   ...  0    0    0    0  \n",
       "18  0    0    0    0    0    0    0    0    0    0   ...  0    0    0    0  \n",
       "19  0    0    0    0    0    0    0    0    0    0   ...  0    0    0    0  \n",
       "   1095 1096 1097 1098 1099 1100\n",
       "1   0    0    0    0    0    0  \n",
       "2   0    0    0    0    0    0  \n",
       "3   0    0    0    0    0    0  \n",
       "4   0    0    0    0    0    0  \n",
       "5   0    0    0    0    0    0  \n",
       "6   0    0    0    0    0    0  \n",
       "7   0    0    0    0    0    0  \n",
       "8   0    0    0    0   88   92  \n",
       "9   0    0    0    0    0    0  \n",
       "10  0    0    0   86    0    0  \n",
       "11  0    0    0    0    0    0  \n",
       "12  0    0    0    0    0    0  \n",
       "13 86   86   87    0    0    0  \n",
       "14  0    0    0    0    0    0  \n",
       "15  0    0    0    0    0    0  \n",
       "16  0    0    0    0    0    0  \n",
       "17  0    0    0    0    0    0  \n",
       "18  0    0    0    0    0    0  \n",
       "19  0    0    0    0    0    0  "
      ]
     },
     "metadata": {},
     "output_type": "display_data"
    }
   ],
   "source": [
    "wine_cf_matrix[1:19,1000:1100]"
   ]
  },
  {
   "cell_type": "code",
   "execution_count": null,
   "metadata": {},
   "outputs": [],
   "source": []
  },
  {
   "cell_type": "code",
   "execution_count": null,
   "metadata": {},
   "outputs": [],
   "source": []
  },
  {
   "cell_type": "code",
   "execution_count": null,
   "metadata": {},
   "outputs": [],
   "source": []
  },
  {
   "cell_type": "code",
   "execution_count": null,
   "metadata": {},
   "outputs": [],
   "source": []
  },
  {
   "cell_type": "markdown",
   "metadata": {},
   "source": [
    "## Content Based Recommender"
   ]
  },
  {
   "cell_type": "code",
   "execution_count": 181,
   "metadata": {},
   "outputs": [
    {
     "data": {
      "text/html": [
       "<ol class=list-inline>\n",
       "\t<li><span style=white-space:pre-wrap>'This is ripe and fruity, a wine that is smooth while still structured. Firm tannins are filled out with juicy red berry fruits and freshened with acidity. It\\'s  already drinkable, although it will certainly be better from 2016.'</span></li>\n",
       "\t<li>'Pineapple rind, lemon pith and orange blossom start off the aromas. The palate is a bit more opulent, with notes of honey-drizzled guava and mango giving way to a slightly astringent, semidry finish.'</li>\n",
       "\t<li>'Much like the regular bottling from 2012, this comes across as rather rough and tannic, with rustic, earthy, herbal characteristics. Nonetheless, if you think of it as a pleasantly unfussy country wine, it\\'s a good companion to a hearty winter stew.'</li>\n",
       "\t<li>'Blackberry and raspberry aromas show a typical Navarran whiff of green herbs and, in this case, horseradish. In the mouth, this is fairly full bodied, with tomatoey acidity. Spicy, herbal flavors complement dark plum fruit, while the finish is fresh but grabby.'</li>\n",
       "\t<li>'Here\\'s a bright, informal red that opens with aromas of candied berry, white pepper and savory herb that carry over to the palate. It\\'s balanced with fresh acidity and soft tannins.'</li>\n",
       "</ol>\n"
      ],
      "text/latex": [
       "\\begin{enumerate*}\n",
       "\\item 'This is ripe and fruity, a wine that is smooth while still structured. Firm tannins are filled out with juicy red berry fruits and freshened with acidity. It\\textbackslash{}'s  already drinkable, although it will certainly be better from 2016.'\n",
       "\\item 'Pineapple rind, lemon pith and orange blossom start off the aromas. The palate is a bit more opulent, with notes of honey-drizzled guava and mango giving way to a slightly astringent, semidry finish.'\n",
       "\\item 'Much like the regular bottling from 2012, this comes across as rather rough and tannic, with rustic, earthy, herbal characteristics. Nonetheless, if you think of it as a pleasantly unfussy country wine, it\\textbackslash{}'s a good companion to a hearty winter stew.'\n",
       "\\item 'Blackberry and raspberry aromas show a typical Navarran whiff of green herbs and, in this case, horseradish. In the mouth, this is fairly full bodied, with tomatoey acidity. Spicy, herbal flavors complement dark plum fruit, while the finish is fresh but grabby.'\n",
       "\\item 'Here\\textbackslash{}'s a bright, informal red that opens with aromas of candied berry, white pepper and savory herb that carry over to the palate. It\\textbackslash{}'s balanced with fresh acidity and soft tannins.'\n",
       "\\end{enumerate*}\n"
      ],
      "text/markdown": [
       "1. <span style=white-space:pre-wrap>'This is ripe and fruity, a wine that is smooth while still structured. Firm tannins are filled out with juicy red berry fruits and freshened with acidity. It\\'s  already drinkable, although it will certainly be better from 2016.'</span>\n",
       "2. 'Pineapple rind, lemon pith and orange blossom start off the aromas. The palate is a bit more opulent, with notes of honey-drizzled guava and mango giving way to a slightly astringent, semidry finish.'\n",
       "3. 'Much like the regular bottling from 2012, this comes across as rather rough and tannic, with rustic, earthy, herbal characteristics. Nonetheless, if you think of it as a pleasantly unfussy country wine, it\\'s a good companion to a hearty winter stew.'\n",
       "4. 'Blackberry and raspberry aromas show a typical Navarran whiff of green herbs and, in this case, horseradish. In the mouth, this is fairly full bodied, with tomatoey acidity. Spicy, herbal flavors complement dark plum fruit, while the finish is fresh but grabby.'\n",
       "5. 'Here\\'s a bright, informal red that opens with aromas of candied berry, white pepper and savory herb that carry over to the palate. It\\'s balanced with fresh acidity and soft tannins.'\n",
       "\n",
       "\n"
      ],
      "text/plain": [
       "[1] \"This is ripe and fruity, a wine that is smooth while still structured. Firm tannins are filled out with juicy red berry fruits and freshened with acidity. It's  already drinkable, although it will certainly be better from 2016.\"                                  \n",
       "[2] \"Pineapple rind, lemon pith and orange blossom start off the aromas. The palate is a bit more opulent, with notes of honey-drizzled guava and mango giving way to a slightly astringent, semidry finish.\"                                                              \n",
       "[3] \"Much like the regular bottling from 2012, this comes across as rather rough and tannic, with rustic, earthy, herbal characteristics. Nonetheless, if you think of it as a pleasantly unfussy country wine, it's a good companion to a hearty winter stew.\"            \n",
       "[4] \"Blackberry and raspberry aromas show a typical Navarran whiff of green herbs and, in this case, horseradish. In the mouth, this is fairly full bodied, with tomatoey acidity. Spicy, herbal flavors complement dark plum fruit, while the finish is fresh but grabby.\"\n",
       "[5] \"Here's a bright, informal red that opens with aromas of candied berry, white pepper and savory herb that carry over to the palate. It's balanced with fresh acidity and soft tannins.\"                                                                                "
      ]
     },
     "metadata": {},
     "output_type": "display_data"
    }
   ],
   "source": [
    "wine_clean$description[1:5]"
   ]
  },
  {
   "cell_type": "code",
   "execution_count": 68,
   "metadata": {},
   "outputs": [],
   "source": [
    "mystopwords = c(stopwords('english'), 'the', 'and', 'wine')"
   ]
  },
  {
   "cell_type": "code",
   "execution_count": 182,
   "metadata": {},
   "outputs": [],
   "source": [
    "desc_corpus <- VCorpus(VectorSource(wine_clean$description))"
   ]
  },
  {
   "cell_type": "code",
   "execution_count": 183,
   "metadata": {},
   "outputs": [],
   "source": [
    "desc_corpus <- tm_map(desc_corpus, content_transformer(tolower))"
   ]
  },
  {
   "cell_type": "code",
   "execution_count": 184,
   "metadata": {},
   "outputs": [],
   "source": [
    "desc_corpus <- tm_map(desc_corpus, removeNumbers)"
   ]
  },
  {
   "cell_type": "code",
   "execution_count": 185,
   "metadata": {},
   "outputs": [],
   "source": [
    "desc_corpus <- tm_map(desc_corpus, removeWords, c(stopwords('english'),'the', 'and', 'wine'))\n",
    "desc_corpus <- tm_map(desc_corpus, removePunctuation)\n",
    "desc_corpus <- tm_map(desc_corpus, stemDocument)\n",
    "desc_corpus <- tm_map(desc_corpus, removeWords, stopwords('english'))\n",
    "desc_corpus <- tm_map(desc_corpus, stripWhitespace)"
   ]
  },
  {
   "cell_type": "code",
   "execution_count": 186,
   "metadata": {},
   "outputs": [
    {
     "name": "stdout",
     "output_type": "stream",
     "text": [
      "$content\n",
      "[1] \"ripe fruiti smooth still structur firm tannin fill juici red berri fruit freshen acid alreadi drinkabl although will certain better\"\n",
      "\n",
      "$content\n",
      "[1] \"pineappl rind lemon pith orang blossom start aroma palat bit opul note honeydrizzl guava mango give way slight astring semidri finish\"\n",
      "\n",
      "$content\n",
      "[1] \"much like regular bottl come across rather rough tannic rustic earthi herbal characterist nonetheless think pleasant unfussi countri good companion hearti winter stew\"\n",
      "\n",
      "$content\n",
      "[1] \"blackberri raspberri aroma show typic navarran whiff green herb case horseradish mouth fair full bodi tomatoey acid spici herbal flavor complement dark plum fruit finish fresh grabbi\"\n",
      "\n",
      "$content\n",
      "[1] \"bright inform red open aroma candi berri white pepper savori herb carri palat balanc fresh acid soft tannin\"\n",
      "\n",
      "$content\n",
      "[1] \"savori dri thyme note accent sunnier flavor preserv peach brisk dri fruiti fresh eleg spright footprint\"\n",
      "\n"
     ]
    }
   ],
   "source": [
    "for(i in 1:6){\n",
    "    print(desc_corpus[[i]][1])\n",
    "}"
   ]
  },
  {
   "cell_type": "code",
   "execution_count": 187,
   "metadata": {},
   "outputs": [],
   "source": [
    "desc_dtm <- DocumentTermMatrix(desc_corpus, control = list(weighting = weightTfIdf))"
   ]
  },
  {
   "cell_type": "code",
   "execution_count": 188,
   "metadata": {},
   "outputs": [
    {
     "data": {
      "text/plain": [
       "<<DocumentTermMatrix (documents: 64050, terms: 24170)>>\n",
       "Non-/sparse entries: 1555765/1546532735\n",
       "Sparsity           : 100%\n",
       "Maximal term length: 47\n",
       "Weighting          : term frequency - inverse document frequency (normalized) (tf-idf)"
      ]
     },
     "metadata": {},
     "output_type": "display_data"
    }
   ],
   "source": [
    "desc_dtm"
   ]
  },
  {
   "cell_type": "markdown",
   "metadata": {},
   "source": [
    "### Improve Sparsity"
   ]
  },
  {
   "cell_type": "code",
   "execution_count": 189,
   "metadata": {},
   "outputs": [],
   "source": [
    "desc_dtm = removeSparseTerms(desc_dtm, 0.90)"
   ]
  },
  {
   "cell_type": "code",
   "execution_count": 190,
   "metadata": {},
   "outputs": [
    {
     "data": {
      "text/plain": [
       "<<DocumentTermMatrix (documents: 64050, terms: 29)>>\n",
       "Non-/sparse entries: 377821/1479629\n",
       "Sparsity           : 80%\n",
       "Maximal term length: 6\n",
       "Weighting          : term frequency - inverse document frequency (normalized) (tf-idf)"
      ]
     },
     "metadata": {},
     "output_type": "display_data"
    }
   ],
   "source": [
    "desc_dtm"
   ]
  },
  {
   "cell_type": "code",
   "execution_count": 191,
   "metadata": {},
   "outputs": [
    {
     "name": "stderr",
     "output_type": "stream",
     "text": [
      "Warning message in brewer.pal(1, \"Dark2\"):\n",
      "\"minimal value for n is 3, returning requested palette with 3 different levels\n",
      "\""
     ]
    },
    {
     "data": {
      "image/png": "[encoded data removed]",
      "text/plain": [
       "plot without title"
      ]
     },
     "metadata": {},
     "output_type": "display_data"
    }
   ],
   "source": [
    "freq = data.frame(sort(colSums(as.matrix(desc_dtm)), decreasing=TRUE))\n",
    "wordcloud(rownames(freq), freq[,1], max.words=100, colors=brewer.pal(1, \"Dark2\"))"
   ]
  },
  {
   "cell_type": "markdown",
   "metadata": {},
   "source": [
    "## Compute Cosine similarity"
   ]
  },
  {
   "cell_type": "code",
   "execution_count": 192,
   "metadata": {},
   "outputs": [],
   "source": [
    "require('slam')"
   ]
  },
  {
   "cell_type": "code",
   "execution_count": 80,
   "metadata": {},
   "outputs": [
    {
     "ename": "ERROR",
     "evalue": "Error: cannot allocate vector of size 125.9 Gb\n",
     "output_type": "error",
     "traceback": [
      "Error: cannot allocate vector of size 125.9 Gb\nTraceback:\n",
      "1. crossprod_simple_triplet_matrix(t(desc_dtm))",
      "2. .tcrossprod_simple_triplet_matrix(t(x), if (is.null(y)) y else if (is.simple_triplet_matrix(y)) t(y) else t(as.matrix(y)))"
     ]
    }
   ],
   "source": [
    "sim_mat_cos <- crossprod_simple_triplet_matrix(t(desc_dtm))/(sqrt(col_sums(t(desc_dtm)^2) %*% t(col_sums(t(desc_dtm)^2))))"
   ]
  },
  {
   "cell_type": "code",
   "execution_count": null,
   "metadata": {},
   "outputs": [],
   "source": []
  }
 ],
 "metadata": {
  "kernelspec": {
   "display_name": "R",
   "language": "R",
   "name": "ir"
  },
  "language_info": {
   "codemirror_mode": "r",
   "file_extension": ".r",
   "mimetype": "text/x-r-source",
   "name": "R",
   "pygments_lexer": "r",
   "version": "3.6.1"
  }
 },
 "nbformat": 4,
 "nbformat_minor": 2
}
